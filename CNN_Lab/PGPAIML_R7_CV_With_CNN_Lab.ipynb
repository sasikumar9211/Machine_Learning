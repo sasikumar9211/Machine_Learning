{
 "cells": [
  {
   "cell_type": "markdown",
   "metadata": {
    "id": "Hbln1O8gBEih"
   },
   "source": [
    "![alt text](https://drive.google.com/uc?export=view&id=1UXScsVx_Wni_JuDdB8LeTnM6jsPfIwkW)\n",
    "\n",
    "Proprietary content. © Great Learning. All Rights Reserved. Unauthorized use or distribution prohibited."
   ]
  },
  {
   "cell_type": "markdown",
   "metadata": {
    "id": "Q91KqmCRu64D"
   },
   "source": [
    "# Mobile Phone Detection in an Image\n",
    "\n",
    "## Domain\n",
    "Mobile Phones, Computer Vision\n",
    "\n",
    "## Business Context\n",
    "The ability to process visual information using machine learning algorithms can be very useful. Electronics companies can use it to identify the presence of a mobile in an image (location), mobile brand just by looking at the image, and minor damages if there are any. The computer vision field has multiple applications and based on the available data it can be used to meet business objectives.\n",
    "Here, we will use a simple convolutional neural network to classify images with and without mobile phones. \n",
    " \n",
    "## Objective\n",
    "\n",
    "Given the images and label whether an image has a mobile phone or not, can you train a model that allows you to map and find the presence of mobile phones within the selected images.\n"
   ]
  },
  {
   "cell_type": "markdown",
   "metadata": {
    "id": "b0Qw0vEHBUvm"
   },
   "source": [
    "### Package version\n",
    "- tensorflow==2.3.0\n",
    "- matplotlib==3.2.1\n",
    "- h5py==2.10.0\n",
    "- google==2.0.3"
   ]
  },
  {
   "cell_type": "markdown",
   "metadata": {
    "id": "yapdCjMwFl02"
   },
   "source": [
    "## Table of Content\n",
    "\n",
    "1. Import Libraries\n",
    "\n",
    "2. Setting options\n",
    "\n",
    "3. Data loading and Data Analysis \n",
    "\n",
    "4. Visualize and Standardize the data\n",
    "\n",
    "5. Model Building\n",
    "\n",
    "6. Evaluate Model\n",
    "\n",
    "7. Conclusion and Interpretation"
   ]
  },
  {
   "cell_type": "markdown",
   "metadata": {
    "id": "mSnjdKmpG82x"
   },
   "source": [
    "## 1. Import Libraries"
   ]
  },
  {
   "cell_type": "markdown",
   "metadata": {
    "id": "8z2Z7-OAs8QG"
   },
   "source": [
    "Let us start by mounting the drive"
   ]
  },
  {
   "cell_type": "code",
   "execution_count": 205,
   "metadata": {
    "colab": {
     "base_uri": "https://localhost:8080/"
    },
    "id": "REFUdThmpz_d",
    "outputId": "ec2b520a-453e-45cc-d888-cd8dab02ad0b"
   },
   "outputs": [
    {
     "name": "stdout",
     "output_type": "stream",
     "text": [
      "Drive already mounted at /content/drive; to attempt to forcibly remount, call drive.mount(\"/content/drive\", force_remount=True).\n"
     ]
    }
   ],
   "source": [
    "from google.colab import drive\n",
    "drive.mount('/content/drive')"
   ]
  },
  {
   "cell_type": "markdown",
   "metadata": {
    "id": "ucnevGLoyKf_"
   },
   "source": [
    "Let us check for the version of installed tensorflow."
   ]
  },
  {
   "cell_type": "code",
   "execution_count": 206,
   "metadata": {
    "colab": {
     "base_uri": "https://localhost:8080/"
    },
    "id": "W5as47YxyJVk",
    "outputId": "ec78c02d-1ca4-41be-bd3d-db5692679dcc"
   },
   "outputs": [
    {
     "name": "stdout",
     "output_type": "stream",
     "text": [
      "2.5.0\n"
     ]
    }
   ],
   "source": [
    "# used to supress display of warnings\n",
    "import warnings\n",
    "\n",
    "# os is used to provide a way of using operating system dependent functionality\n",
    "# We use it for setting working folder\n",
    "import os\n",
    "\n",
    "# Pandas is used for data manipulation and analysis\n",
    "import pandas as pd \n",
    "\n",
    "# Numpy is used for large, multi-dimensional arrays and matrices, along with mathematical operators on these arrays\n",
    "import numpy as np\n",
    "\n",
    "# Matplotlib is a data visualization library for 2D plots of arrays, built on NumPy arrays \n",
    "# and designed to work with the broader SciPy stack\n",
    "import matplotlib.pyplot as plt\n",
    "%matplotlib inline\n",
    "from matplotlib import pyplot\n",
    "\n",
    "# Seaborn is based on matplotlib, which aids in drawing attractive and informative statistical graphics.\n",
    "import seaborn as sns\n",
    "import tensorflow \n",
    "print(tensorflow.__version__)\n",
    "\n",
    "\n",
    "from keras.utils import np_utils\n",
    "from keras.models import Sequential\n",
    "from keras.layers.core import Dense, Dropout, Activation, Flatten\n",
    "from keras.layers.convolutional import Conv2D, MaxPooling2D\n",
    "from keras.optimizers import SGD\n",
    "from keras.constraints import maxnorm\n",
    "from PIL import Image\n",
    "from PIL import ImageMath"
   ]
  },
  {
   "cell_type": "markdown",
   "metadata": {
    "id": "MRj03V7AHAYe"
   },
   "source": [
    "## 2. Setting Options"
   ]
  },
  {
   "cell_type": "code",
   "execution_count": 207,
   "metadata": {
    "id": "7I9dogoKHn6w"
   },
   "outputs": [],
   "source": [
    "# suppress display of warnings\n",
    "warnings.filterwarnings('ignore')\n",
    "\n",
    "# display all dataframe columns\n",
    "pd.options.display.max_columns = None\n",
    "\n",
    "# display all dataframe rows\n",
    "pd.options.display.max_rows = None"
   ]
  },
  {
   "cell_type": "markdown",
   "metadata": {
    "id": "ufAqcNVCHIut"
   },
   "source": [
    "## 3. Data loading and Data Analysis "
   ]
  },
  {
   "cell_type": "markdown",
   "metadata": {
    "id": "LDYN63hu2s97"
   },
   "source": [
    "### Read images and save the pixel information to an array. Also, save their corresponding label to a list ( YES-Mobile - 1, NO-Mobile - 0). Resize the images to shape (128, 128, 3)."
   ]
  },
  {
   "cell_type": "code",
   "execution_count": 208,
   "metadata": {
    "id": "zWPOVY3gDOQo"
   },
   "outputs": [],
   "source": [
    "import os\n",
    "os.chdir('/content/drive/MyDrive/Colab Notebooks/mobile-images/')"
   ]
  },
  {
   "cell_type": "code",
   "execution_count": 209,
   "metadata": {
    "colab": {
     "base_uri": "https://localhost:8080/",
     "height": 36
    },
    "id": "zHxRUz9Rn5uM",
    "outputId": "0d463bdf-417b-45ca-c010-aee4276768f1"
   },
   "outputs": [
    {
     "data": {
      "application/vnd.google.colaboratory.intrinsic+json": {
       "type": "string"
      },
      "text/plain": [
       "'/content/drive/MyDrive/Colab Notebooks/mobile-images'"
      ]
     },
     "execution_count": 209,
     "metadata": {
      "tags": []
     },
     "output_type": "execute_result"
    }
   ],
   "source": [
    "os.getcwd()"
   ]
  },
  {
   "cell_type": "code",
   "execution_count": 210,
   "metadata": {
    "id": "dg9n0wWRmVwE"
   },
   "outputs": [],
   "source": [
    "import cv2\n",
    "\n",
    "img = cv2.imread('yes-mobile/img128.png')"
   ]
  },
  {
   "cell_type": "code",
   "execution_count": 211,
   "metadata": {
    "colab": {
     "base_uri": "https://localhost:8080/"
    },
    "id": "FUfxCB10m9Mi",
    "outputId": "035f01ed-00b3-4dd4-f38a-7013bbe7d3f7"
   },
   "outputs": [
    {
     "data": {
      "text/plain": [
       "(90, 90, 3)"
      ]
     },
     "execution_count": 211,
     "metadata": {
      "tags": []
     },
     "output_type": "execute_result"
    }
   ],
   "source": [
    "img.shape"
   ]
  },
  {
   "cell_type": "code",
   "execution_count": 212,
   "metadata": {
    "colab": {
     "base_uri": "https://localhost:8080/",
     "height": 107
    },
    "id": "UWLbQgfIm9PO",
    "outputId": "fd2eaa9d-414e-46d0-aec8-23dfad5526c1"
   },
   "outputs": [
    {
     "data": {
      "image/png": "[encoded data removed]",
      "text/plain": [
       "<PIL.Image.Image image mode=RGB size=90x90 at 0x7F67D011AC50>"
      ]
     },
     "metadata": {
      "tags": []
     },
     "output_type": "display_data"
    }
   ],
   "source": [
    "from google.colab.patches import cv2_imshow\n",
    "cv2_imshow(img)"
   ]
  },
  {
   "cell_type": "code",
   "execution_count": 213,
   "metadata": {
    "id": "a6K-kDNwm9TI"
   },
   "outputs": [],
   "source": [
    "yes_list= os.listdir('/content/drive/MyDrive/Colab Notebooks/mobile-images/yes-mobile')"
   ]
  },
  {
   "cell_type": "code",
   "execution_count": 214,
   "metadata": {
    "colab": {
     "base_uri": "https://localhost:8080/"
    },
    "id": "a6bGEHBFqvq8",
    "outputId": "c09c50e6-4f9e-46d8-9562-6194dbb9d9b7"
   },
   "outputs": [
    {
     "data": {
      "text/plain": [
       "['img122.png',\n",
       " 'img129.png',\n",
       " 'img136.png',\n",
       " 'img125.png',\n",
       " 'img121.png',\n",
       " 'img140.png',\n",
       " 'img135.png',\n",
       " 'img126.png',\n",
       " 'img128.png',\n",
       " 'img137.png',\n",
       " 'img142.png',\n",
       " 'img134.png',\n",
       " 'img124.png',\n",
       " 'img123.png',\n",
       " 'img130.png',\n",
       " 'img138.png',\n",
       " 'img132.png',\n",
       " 'img139.png',\n",
       " 'img131.png',\n",
       " 'img133.png',\n",
       " 'img127.png',\n",
       " 'img141.png',\n",
       " 'img162.png',\n",
       " 'img174.png',\n",
       " 'img152.png',\n",
       " 'img164.png',\n",
       " 'img200.png',\n",
       " 'img176.png',\n",
       " 'img210.png',\n",
       " 'img158.png',\n",
       " 'img157.png',\n",
       " 'img159.png',\n",
       " 'img207.png',\n",
       " 'img144.png',\n",
       " 'img188.png',\n",
       " 'img201.png',\n",
       " 'img187.png',\n",
       " 'img155.png',\n",
       " 'img170.png',\n",
       " 'img216.png',\n",
       " 'img219.png',\n",
       " 'img196.png',\n",
       " 'img199.png',\n",
       " 'img217.png',\n",
       " 'img186.png',\n",
       " 'img212.png',\n",
       " 'img202.png',\n",
       " 'img213.png',\n",
       " 'img169.png',\n",
       " 'img184.png',\n",
       " 'img156.png',\n",
       " 'img191.png',\n",
       " 'img161.png',\n",
       " 'img171.png',\n",
       " 'img148.png',\n",
       " 'img203.png',\n",
       " 'img167.png',\n",
       " 'img166.png',\n",
       " 'img208.png',\n",
       " 'img168.png',\n",
       " 'img147.png',\n",
       " 'img190.png',\n",
       " 'img143.png',\n",
       " 'img163.png',\n",
       " 'img220.png',\n",
       " 'img185.png',\n",
       " 'img181.png',\n",
       " 'img165.png',\n",
       " 'img211.png',\n",
       " 'img183.png',\n",
       " 'img218.png',\n",
       " 'img150.png',\n",
       " 'img160.png',\n",
       " 'img197.png',\n",
       " 'img204.png',\n",
       " 'img192.png',\n",
       " 'img205.png',\n",
       " 'img177.png',\n",
       " 'img178.png',\n",
       " 'img149.png',\n",
       " 'img180.png',\n",
       " 'img151.png',\n",
       " 'img193.png',\n",
       " 'img215.png',\n",
       " 'img182.png',\n",
       " 'img172.png',\n",
       " 'img173.png',\n",
       " 'img214.png',\n",
       " 'img175.png',\n",
       " 'img206.png',\n",
       " 'img179.png',\n",
       " 'img198.png',\n",
       " 'img194.png',\n",
       " 'img153.png',\n",
       " 'img154.png',\n",
       " 'img189.png',\n",
       " 'img145.png',\n",
       " 'img195.png',\n",
       " 'img146.png',\n",
       " 'img209.png',\n",
       " 'img239.png',\n",
       " 'img234.png',\n",
       " 'img221.png',\n",
       " 'img237.png',\n",
       " 'img225.png',\n",
       " 'img235.png',\n",
       " 'img233.png',\n",
       " 'img243.png',\n",
       " 'img236.png',\n",
       " 'img222.png',\n",
       " 'img242.png',\n",
       " 'img227.png',\n",
       " 'img241.png',\n",
       " 'img228.png',\n",
       " 'img232.png',\n",
       " 'img240.png',\n",
       " 'img244.png',\n",
       " 'img229.png',\n",
       " 'img224.png',\n",
       " 'img226.png',\n",
       " 'img230.png',\n",
       " 'img231.png',\n",
       " 'img238.png',\n",
       " 'img223.png']"
      ]
     },
     "execution_count": 214,
     "metadata": {
      "tags": []
     },
     "output_type": "execute_result"
    }
   ],
   "source": [
    "yes_list"
   ]
  },
  {
   "cell_type": "code",
   "execution_count": 215,
   "metadata": {
    "id": "-G7Ig40iqvvq"
   },
   "outputs": [],
   "source": [
    "no_list= os.listdir('/content/drive/MyDrive/Colab Notebooks/mobile-images/no-mobile')"
   ]
  },
  {
   "cell_type": "code",
   "execution_count": 216,
   "metadata": {
    "colab": {
     "base_uri": "https://localhost:8080/"
    },
    "id": "bcFHtqh8rKUH",
    "outputId": "40bd3f40-3959-4ca9-d9e2-d8c41656d0e9"
   },
   "outputs": [
    {
     "data": {
      "text/plain": [
       "['img2.png',\n",
       " 'img118.png',\n",
       " 'img3.png',\n",
       " 'img102.png',\n",
       " 'img108.png',\n",
       " 'img40.png',\n",
       " 'img112.png',\n",
       " 'img33.png',\n",
       " 'img26.png',\n",
       " 'img13.png',\n",
       " 'img44.png',\n",
       " 'img27.png',\n",
       " 'img120.png',\n",
       " 'img110.png',\n",
       " 'img113.png',\n",
       " 'img17.png',\n",
       " 'img107.png',\n",
       " 'img100.png',\n",
       " 'img111.png',\n",
       " 'img42.png',\n",
       " 'img114.png',\n",
       " 'img116.png',\n",
       " 'img49.png',\n",
       " 'img15.png',\n",
       " 'img106.png',\n",
       " 'img24.png',\n",
       " 'img37.png',\n",
       " 'img48.png',\n",
       " 'img28.png',\n",
       " 'img119.png',\n",
       " 'img5.png',\n",
       " 'img101.png',\n",
       " 'img4.png',\n",
       " 'img43.png',\n",
       " 'img14.png',\n",
       " 'img38.png',\n",
       " 'img34.png',\n",
       " 'img30.png',\n",
       " 'img117.png',\n",
       " 'img103.png',\n",
       " 'img1.png',\n",
       " 'img35.png',\n",
       " 'img12.png',\n",
       " 'img16.png',\n",
       " 'img22.png',\n",
       " 'img19.png',\n",
       " 'img115.png',\n",
       " 'img25.png',\n",
       " 'img29.png',\n",
       " 'img105.png',\n",
       " 'img109.png',\n",
       " 'img0.png',\n",
       " 'img45.png',\n",
       " 'img41.png',\n",
       " 'img31.png',\n",
       " 'img20.png',\n",
       " 'img11.png',\n",
       " 'img39.png',\n",
       " 'img23.png',\n",
       " 'img10.png',\n",
       " 'img36.png',\n",
       " 'img21.png',\n",
       " 'img47.png',\n",
       " 'img46.png',\n",
       " 'img104.png',\n",
       " 'img32.png',\n",
       " 'img18.png',\n",
       " 'img87.png',\n",
       " 'img63.png',\n",
       " 'img81.png',\n",
       " 'img94.png',\n",
       " 'img76.png',\n",
       " 'img71.png',\n",
       " 'img54.png',\n",
       " 'img65.png',\n",
       " 'img66.png',\n",
       " 'img95.png',\n",
       " 'img92.png',\n",
       " 'img51.png',\n",
       " 'img7.png',\n",
       " 'img55.png',\n",
       " 'img53.png',\n",
       " 'img83.png',\n",
       " 'img93.png',\n",
       " 'img67.png',\n",
       " 'img64.png',\n",
       " 'img73.png',\n",
       " 'img82.png',\n",
       " 'img99.png',\n",
       " 'img50.png',\n",
       " 'img75.png',\n",
       " 'img85.png',\n",
       " 'img77.png',\n",
       " 'img97.png',\n",
       " 'img70.png',\n",
       " 'img88.png',\n",
       " 'img61.png',\n",
       " 'img8.png',\n",
       " 'img90.png',\n",
       " 'img58.png',\n",
       " 'img78.png',\n",
       " 'img91.png',\n",
       " 'img80.png',\n",
       " 'img89.png',\n",
       " 'img98.png',\n",
       " 'img86.png',\n",
       " 'img72.png',\n",
       " 'img56.png',\n",
       " 'img59.png',\n",
       " 'img6.png',\n",
       " 'img79.png',\n",
       " 'img60.png',\n",
       " 'img52.png',\n",
       " 'img57.png',\n",
       " 'img69.png',\n",
       " 'img96.png',\n",
       " 'img62.png',\n",
       " 'img68.png',\n",
       " 'img9.png',\n",
       " 'img74.png',\n",
       " 'img84.png']"
      ]
     },
     "execution_count": 216,
     "metadata": {
      "tags": []
     },
     "output_type": "execute_result"
    }
   ],
   "source": [
    "no_list"
   ]
  },
  {
   "cell_type": "code",
   "execution_count": 217,
   "metadata": {
    "id": "DHAKjThBrKYA"
   },
   "outputs": [],
   "source": [
    "yes_images =[]\n",
    "yes_labels = []\n",
    "\n",
    "path_yes = '/content/drive/MyDrive/Colab Notebooks/mobile-images/yes-mobile'\n",
    "for i in yes_list:\n",
    "   img_path = os.path.join(path_yes,i)\n",
    "   img = cv2.imread(img_path)\n",
    "   img = cv2.resize(img,(128,128))\n",
    "   yes_images.append(img)\n",
    "   yes_labels.append(1)"
   ]
  },
  {
   "cell_type": "code",
   "execution_count": 218,
   "metadata": {
    "id": "A9AnevxCrKct"
   },
   "outputs": [],
   "source": [
    "no_images =[]\n",
    "no_labels = []\n",
    "\n",
    "path_no = '/content/drive/MyDrive/Colab Notebooks/mobile-images/no-mobile'\n",
    "for i in no_list:\n",
    "   img_path_2 = os.path.join(path_no,i)\n",
    "   img_2 = cv2.imread(img_path_2)\n",
    "   img_2 = cv2.resize(img_2,(128,128))\n",
    "   no_images.append(img_2)\n",
    "   no_labels.append(0)"
   ]
  },
  {
   "cell_type": "markdown",
   "metadata": {
    "id": "FrfveOqeFtfz"
   },
   "source": [
    "### Check shape and size of the images"
   ]
  },
  {
   "cell_type": "code",
   "execution_count": 219,
   "metadata": {
    "colab": {
     "base_uri": "https://localhost:8080/"
    },
    "id": "D6AiPoJWrJkJ",
    "outputId": "e3992eb0-516f-4291-9f22-283514f12f4c"
   },
   "outputs": [
    {
     "name": "stdout",
     "output_type": "stream",
     "text": [
      "124 - total yes_image size\n",
      "124 - total yes_labels size\n",
      "(128, 128, 3) - Reshaped yes_image\n",
      "1 - Sample of yes_labels\n"
     ]
    }
   ],
   "source": [
    "print('{} - total yes_image size'.format(len(yes_images)))\n",
    "print('{} - total yes_labels size'.format(len(yes_labels)))\n",
    "print('{} - Reshaped yes_image'.format(yes_images[0].shape))\n",
    "print('{} - Sample of yes_labels'.format(yes_labels[0]))"
   ]
  },
  {
   "cell_type": "code",
   "execution_count": 220,
   "metadata": {
    "colab": {
     "base_uri": "https://localhost:8080/"
    },
    "id": "aFCElAp7FtAS",
    "outputId": "8e2b5674-effa-4772-d74d-cb7fb9635d3d"
   },
   "outputs": [
    {
     "name": "stdout",
     "output_type": "stream",
     "text": [
      "121 - total no_image size\n",
      "121 - total no_labels size\n",
      "(128, 128, 3) - Reshaped no_image\n",
      "0 - Sample of no_labels\n"
     ]
    }
   ],
   "source": [
    "print('{} - total no_image size'.format(len(no_images)))\n",
    "print('{} - total no_labels size'.format(len(no_labels)))\n",
    "print('{} - Reshaped no_image'.format(no_images[0].shape))\n",
    "print('{} - Sample of no_labels'.format(no_labels[0]))"
   ]
  },
  {
   "cell_type": "markdown",
   "metadata": {
    "id": "t3NWL9_NIdwK"
   },
   "source": [
    "###  What is the percentage of images with and without mobile phone in the data"
   ]
  },
  {
   "cell_type": "code",
   "execution_count": 221,
   "metadata": {
    "colab": {
     "base_uri": "https://localhost:8080/"
    },
    "id": "NKy7Lw5mFVTi",
    "outputId": "7b7d044f-658d-4d1e-83c3-de3e3b1328da"
   },
   "outputs": [
    {
     "name": "stdout",
     "output_type": "stream",
     "text": [
      " The percentage of images with mobile phone in the data - 51%\n",
      " The percentage of images without mobile phone in the data - 49%\n"
     ]
    }
   ],
   "source": [
    "print(' The percentage of images with mobile phone in the data - {}%'.format(round(len(yes_images)/(len(yes_images)+len(no_images))*100)))\n",
    "print(' The percentage of images without mobile phone in the data - {}%'.format(round(len(no_images)/(len(yes_images)+len(no_images))*100)))"
   ]
  },
  {
   "cell_type": "markdown",
   "metadata": {
    "id": "JVZ2zlPNDOmi"
   },
   "source": [
    "### Concatenate above two arrays (array having image details of with and without mobile) into one variable and check the final size of the data\n",
    "### Concatenate lists having label data into one list"
   ]
  },
  {
   "cell_type": "code",
   "execution_count": 222,
   "metadata": {
    "id": "88u5BB9NDs2N"
   },
   "outputs": [],
   "source": [
    "import numpy as np\n",
    "x_img = np.concatenate((yes_images,no_images),axis=0)\n",
    "y_labels = np.concatenate((yes_labels,no_labels),axis=0)"
   ]
  },
  {
   "cell_type": "code",
   "execution_count": 223,
   "metadata": {
    "colab": {
     "base_uri": "https://localhost:8080/"
    },
    "id": "rB6w1rgU0OZr",
    "outputId": "13e9b4f5-b685-4655-e819-88c619e2ed30"
   },
   "outputs": [
    {
     "name": "stdout",
     "output_type": "stream",
     "text": [
      "Type of x_img - <class 'numpy.ndarray'> \n",
      "Type of y_labels - <class 'numpy.ndarray'> \n",
      "Shape of x_img - (245, 128, 128, 3) \n",
      "Shape of y_labels - (245,) \n"
     ]
    }
   ],
   "source": [
    "print('Type of x_img - {} '.format(type(x_img)))\n",
    "print('Type of y_labels - {} '.format(type(y_labels)))\n",
    "print('Shape of x_img - {} '.format(x_img.shape))\n",
    "print('Shape of y_labels - {} '.format(y_labels.shape))"
   ]
  },
  {
   "cell_type": "code",
   "execution_count": 224,
   "metadata": {
    "colab": {
     "base_uri": "https://localhost:8080/"
    },
    "id": "SAk4YJjl0Onv",
    "outputId": "48fc448f-acd7-4958-9560-f2e4f6ccab25"
   },
   "outputs": [
    {
     "data": {
      "text/plain": [
       "array([1, 1, 1, 1, 1, 1, 1, 1, 1, 1, 1, 1, 1, 1, 1, 1, 1, 1, 1, 1, 1, 1,\n",
       "       1, 1, 1, 1, 1, 1, 1, 1, 1, 1, 1, 1, 1, 1, 1, 1, 1, 1, 1, 1, 1, 1,\n",
       "       1, 1, 1, 1, 1, 1, 1, 1, 1, 1, 1, 1, 1, 1, 1, 1, 1, 1, 1, 1, 1, 1,\n",
       "       1, 1, 1, 1, 1, 1, 1, 1, 1, 1, 1, 1, 1, 1, 1, 1, 1, 1, 1, 1, 1, 1,\n",
       "       1, 1, 1, 1, 1, 1, 1, 1, 1, 1, 1, 1, 1, 1, 1, 1, 1, 1, 1, 1, 1, 1,\n",
       "       1, 1, 1, 1, 1, 1, 1, 1, 1, 1, 1, 1, 1, 1, 0, 0, 0, 0, 0, 0, 0, 0,\n",
       "       0, 0, 0, 0, 0, 0, 0, 0, 0, 0, 0, 0, 0, 0, 0, 0, 0, 0, 0, 0, 0, 0,\n",
       "       0, 0, 0, 0, 0, 0, 0, 0, 0, 0, 0, 0, 0, 0, 0, 0, 0, 0, 0, 0, 0, 0,\n",
       "       0, 0, 0, 0, 0, 0, 0, 0, 0, 0, 0, 0, 0, 0, 0, 0, 0, 0, 0, 0, 0, 0,\n",
       "       0, 0, 0, 0, 0, 0, 0, 0, 0, 0, 0, 0, 0, 0, 0, 0, 0, 0, 0, 0, 0, 0,\n",
       "       0, 0, 0, 0, 0, 0, 0, 0, 0, 0, 0, 0, 0, 0, 0, 0, 0, 0, 0, 0, 0, 0,\n",
       "       0, 0, 0])"
      ]
     },
     "execution_count": 224,
     "metadata": {
      "tags": []
     },
     "output_type": "execute_result"
    }
   ],
   "source": [
    "y_labels"
   ]
  },
  {
   "cell_type": "markdown",
   "metadata": {
    "id": "rVv66DvSDvY0"
   },
   "source": [
    "### Shuffle the above data and labels ( Data and label should be in sync)"
   ]
  },
  {
   "cell_type": "code",
   "execution_count": 225,
   "metadata": {
    "id": "JC2Uu4r0EFDX"
   },
   "outputs": [],
   "source": [
    "from sklearn.utils import shuffle\n",
    "data,labels = shuffle(x_img,y_labels,random_state=95)"
   ]
  },
  {
   "cell_type": "markdown",
   "metadata": {
    "id": "IERuYS1BHuCq"
   },
   "source": [
    "## 4. Visualize and Standardize the data"
   ]
  },
  {
   "cell_type": "markdown",
   "metadata": {
    "id": "kxODV6HKykuc"
   },
   "source": [
    "### Visualise the first 10 images in the data and print their corresponding labels."
   ]
  },
  {
   "cell_type": "code",
   "execution_count": 226,
   "metadata": {
    "colab": {
     "base_uri": "https://localhost:8080/",
     "height": 260
    },
    "id": "__YELlwqE8Cl",
    "outputId": "b8485de3-e093-41bd-c886-a130cc3e9b68"
   },
   "outputs": [
    {
     "name": "stdout",
     "output_type": "stream",
     "text": [
      "label for each of the below image: 1\n",
      "label for each of the below image: 0\n",
      "label for each of the below image: 0\n",
      "label for each of the below image: 0\n",
      "label for each of the below image: 1\n",
      "label for each of the below image: 1\n",
      "label for each of the below image: 1\n",
      "label for each of the below image: 1\n",
      "label for each of the below image: 0\n",
      "label for each of the below image: 0\n"
     ]
    },
    {
     "data": {
      "image/png": "[encoded data removed]",
      "text/plain": [
       "<Figure size 720x72 with 10 Axes>"
      ]
     },
     "metadata": {
      "needs_background": "light",
      "tags": []
     },
     "output_type": "display_data"
    }
   ],
   "source": [
    "%matplotlib inline\n",
    "import matplotlib.pyplot as plt\n",
    "plt.figure(figsize=(10, 1))\n",
    "for i in range(10):\n",
    "    plt.subplot(1, 10, i+1)\n",
    "    plt.imshow(data[i], cmap=\"gray\")\n",
    "    plt.axis('off')\n",
    "    print('label for each of the below image: %s' % (labels[i]))\n",
    "plt.show()"
   ]
  },
  {
   "cell_type": "markdown",
   "metadata": {
    "id": "LUvm8AMvEFaA"
   },
   "source": [
    "### Split the data into train and test"
   ]
  },
  {
   "cell_type": "code",
   "execution_count": 227,
   "metadata": {
    "id": "kKVEf3zWF0Qq"
   },
   "outputs": [],
   "source": [
    "from sklearn.model_selection import train_test_split"
   ]
  },
  {
   "cell_type": "code",
   "execution_count": 228,
   "metadata": {
    "id": "dZQHshLh3qlY"
   },
   "outputs": [],
   "source": [
    "x_train,x_test,y_train,y_test = train_test_split(data,labels,random_state=20)"
   ]
  },
  {
   "cell_type": "markdown",
   "metadata": {
    "id": "y1ZC0x0I3-jo"
   },
   "source": [
    "### Print shape of the X train and X test data"
   ]
  },
  {
   "cell_type": "code",
   "execution_count": 229,
   "metadata": {
    "colab": {
     "base_uri": "https://localhost:8080/"
    },
    "id": "Dm8gmQt2FEUd",
    "outputId": "5ec87d30-b9f6-49c8-c97e-3976528222ac"
   },
   "outputs": [
    {
     "name": "stdout",
     "output_type": "stream",
     "text": [
      "Shape of X train is (183, 128, 128, 3)\n",
      "Shape of X test is (62, 128, 128, 3)\n"
     ]
    }
   ],
   "source": [
    "print('Shape of X train is {}'.format(x_train.shape))\n",
    "print('Shape of X test is {}'.format(x_test.shape))"
   ]
  },
  {
   "cell_type": "markdown",
   "metadata": {
    "id": "W1Zgo_3LFSWE"
   },
   "source": [
    "### Normalize the data by dividing by 255"
   ]
  },
  {
   "cell_type": "code",
   "execution_count": 230,
   "metadata": {
    "id": "AMDN2gK0FZ22"
   },
   "outputs": [],
   "source": [
    "x_train =x_train/255.0\n",
    "x_test =x_test/255.0"
   ]
  },
  {
   "cell_type": "code",
   "execution_count": 231,
   "metadata": {
    "colab": {
     "base_uri": "https://localhost:8080/"
    },
    "id": "ciFNHm_H4wpr",
    "outputId": "9983db2a-7c11-452a-e7ad-e37f9a3d3194"
   },
   "outputs": [
    {
     "data": {
      "text/plain": [
       "array([[[0.51764706, 0.51764706, 0.51764706],\n",
       "        [0.51764706, 0.51764706, 0.51764706],\n",
       "        [0.5254902 , 0.5254902 , 0.5254902 ],\n",
       "        ...,\n",
       "        [0.5372549 , 0.5372549 , 0.5372549 ],\n",
       "        [0.5372549 , 0.5372549 , 0.5372549 ],\n",
       "        [0.5372549 , 0.5372549 , 0.5372549 ]],\n",
       "\n",
       "       [[0.51764706, 0.51764706, 0.51764706],\n",
       "        [0.52156863, 0.52156863, 0.52156863],\n",
       "        [0.5254902 , 0.5254902 , 0.5254902 ],\n",
       "        ...,\n",
       "        [0.5372549 , 0.5372549 , 0.5372549 ],\n",
       "        [0.5372549 , 0.5372549 , 0.5372549 ],\n",
       "        [0.5372549 , 0.5372549 , 0.5372549 ]],\n",
       "\n",
       "       [[0.51764706, 0.51764706, 0.51764706],\n",
       "        [0.52156863, 0.52156863, 0.52156863],\n",
       "        [0.52941176, 0.52941176, 0.52941176],\n",
       "        ...,\n",
       "        [0.53333333, 0.53333333, 0.53333333],\n",
       "        [0.5372549 , 0.5372549 , 0.5372549 ],\n",
       "        [0.5372549 , 0.5372549 , 0.5372549 ]],\n",
       "\n",
       "       ...,\n",
       "\n",
       "       [[0.54509804, 0.54509804, 0.54509804],\n",
       "        [0.56862745, 0.56862745, 0.56862745],\n",
       "        [0.58431373, 0.58431373, 0.58431373],\n",
       "        ...,\n",
       "        [0.56078431, 0.56078431, 0.56078431],\n",
       "        [0.55686275, 0.55686275, 0.55686275],\n",
       "        [0.55686275, 0.55686275, 0.55686275]],\n",
       "\n",
       "       [[0.54117647, 0.54117647, 0.54117647],\n",
       "        [0.57254902, 0.57254902, 0.57254902],\n",
       "        [0.59215686, 0.59215686, 0.59215686],\n",
       "        ...,\n",
       "        [0.56078431, 0.56078431, 0.56078431],\n",
       "        [0.55686275, 0.55686275, 0.55686275],\n",
       "        [0.55686275, 0.55686275, 0.55686275]],\n",
       "\n",
       "       [[0.54117647, 0.54117647, 0.54117647],\n",
       "        [0.57254902, 0.57254902, 0.57254902],\n",
       "        [0.59215686, 0.59215686, 0.59215686],\n",
       "        ...,\n",
       "        [0.56078431, 0.56078431, 0.56078431],\n",
       "        [0.55686275, 0.55686275, 0.55686275],\n",
       "        [0.55686275, 0.55686275, 0.55686275]]])"
      ]
     },
     "execution_count": 231,
     "metadata": {
      "tags": []
     },
     "output_type": "execute_result"
    }
   ],
   "source": [
    "x_train[0]"
   ]
  },
  {
   "cell_type": "markdown",
   "metadata": {
    "id": "bogxx3cezol1"
   },
   "source": [
    "###  One hot encode the labels for train and test data \n",
    "Hint:- We need to one hot encode the labels for the model to understand the labels better. We will be using categorical cross entropy as our loss function and for this purpose we need our labels to be in one hot encoded format."
   ]
  },
  {
   "cell_type": "code",
   "execution_count": 232,
   "metadata": {
    "colab": {
     "base_uri": "https://localhost:8080/"
    },
    "id": "4R0pPQFBFjp1",
    "outputId": "99192115-9d30-4f57-8f2e-72aa27942b16"
   },
   "outputs": [
    {
     "data": {
      "text/plain": [
       "array([1, 1, 1, 0, 0, 1, 0, 0, 1, 1, 0, 1, 1, 1, 0, 0, 0, 1, 1, 0, 1, 0,\n",
       "       0, 0, 0, 0, 0, 1, 0, 1, 0, 1, 1, 1, 1, 0, 1, 0, 0, 1, 0, 0, 0, 1,\n",
       "       0, 1, 0, 0, 0, 1, 1, 0, 1, 1, 0, 1, 0, 0, 0, 1, 0, 0])"
      ]
     },
     "execution_count": 232,
     "metadata": {
      "tags": []
     },
     "output_type": "execute_result"
    }
   ],
   "source": [
    "y_test"
   ]
  },
  {
   "cell_type": "code",
   "execution_count": 233,
   "metadata": {
    "id": "cG5vu_LG5ko_"
   },
   "outputs": [],
   "source": [
    "from tensorflow.keras.utils import to_categorical"
   ]
  },
  {
   "cell_type": "code",
   "execution_count": 234,
   "metadata": {
    "id": "TCzDzznK58bR"
   },
   "outputs": [],
   "source": [
    "y_train_cat = to_categorical(y_train)\n",
    "y_test_cat = to_categorical(y_test)"
   ]
  },
  {
   "cell_type": "code",
   "execution_count": 235,
   "metadata": {
    "colab": {
     "base_uri": "https://localhost:8080/"
    },
    "id": "W-dvGkCY58fp",
    "outputId": "3ef5e6ee-9ddc-43cf-f283-1caad75169f6"
   },
   "outputs": [
    {
     "data": {
      "text/plain": [
       "array([[0., 1.],\n",
       "       [0., 1.],\n",
       "       [0., 1.],\n",
       "       [1., 0.],\n",
       "       [1., 0.],\n",
       "       [0., 1.],\n",
       "       [1., 0.],\n",
       "       [1., 0.],\n",
       "       [0., 1.],\n",
       "       [0., 1.],\n",
       "       [1., 0.],\n",
       "       [0., 1.],\n",
       "       [0., 1.],\n",
       "       [0., 1.],\n",
       "       [1., 0.],\n",
       "       [1., 0.],\n",
       "       [1., 0.],\n",
       "       [0., 1.],\n",
       "       [0., 1.],\n",
       "       [1., 0.],\n",
       "       [0., 1.],\n",
       "       [1., 0.],\n",
       "       [1., 0.],\n",
       "       [1., 0.],\n",
       "       [1., 0.],\n",
       "       [1., 0.],\n",
       "       [1., 0.],\n",
       "       [0., 1.],\n",
       "       [1., 0.],\n",
       "       [0., 1.],\n",
       "       [1., 0.],\n",
       "       [0., 1.],\n",
       "       [0., 1.],\n",
       "       [0., 1.],\n",
       "       [0., 1.],\n",
       "       [1., 0.],\n",
       "       [0., 1.],\n",
       "       [1., 0.],\n",
       "       [1., 0.],\n",
       "       [0., 1.],\n",
       "       [1., 0.],\n",
       "       [1., 0.],\n",
       "       [1., 0.],\n",
       "       [0., 1.],\n",
       "       [1., 0.],\n",
       "       [0., 1.],\n",
       "       [1., 0.],\n",
       "       [1., 0.],\n",
       "       [1., 0.],\n",
       "       [0., 1.],\n",
       "       [0., 1.],\n",
       "       [1., 0.],\n",
       "       [0., 1.],\n",
       "       [0., 1.],\n",
       "       [1., 0.],\n",
       "       [0., 1.],\n",
       "       [1., 0.],\n",
       "       [1., 0.],\n",
       "       [1., 0.],\n",
       "       [0., 1.],\n",
       "       [1., 0.],\n",
       "       [1., 0.]], dtype=float32)"
      ]
     },
     "execution_count": 235,
     "metadata": {
      "tags": []
     },
     "output_type": "execute_result"
    }
   ],
   "source": [
    "y_test_cat"
   ]
  },
  {
   "cell_type": "markdown",
   "metadata": {
    "id": "xztigzzfITt-"
   },
   "source": [
    "## 5. Model building"
   ]
  },
  {
   "cell_type": "markdown",
   "metadata": {
    "id": "UJDUoaEj1d6e"
   },
   "source": [
    "### Define the model architecture using TensorFlow with a Conv2D layer followed by dense layers with activation as ReLu and softmax respectively. "
   ]
  },
  {
   "cell_type": "code",
   "execution_count": 236,
   "metadata": {
    "id": "RhT_PLicFuDu"
   },
   "outputs": [],
   "source": [
    "from tensorflow.keras.layers import Conv2D,MaxPool2D\n",
    "import tensorflow as tf\n",
    "\n",
    "tf.keras.backend.clear_session()\n",
    "model = tf.keras.Sequential()\n",
    "model.add(Conv2D(filters=32, kernel_size=3, activation=\"relu\", input_shape=(128, 128, 3)))\n",
    "model.add(MaxPool2D(2,2))\n",
    "model.add(Conv2D(filters=64, kernel_size=3, activation=\"relu\"))\n",
    "model.add(MaxPool2D(2,2))\n",
    "model.add(Flatten())\n",
    "model.add(Dense(64, activation=\"relu\"))\n",
    "model.add(Dense(32, activation=\"relu\"))\n",
    "model.add(Dense(2, activation=\"softmax\"))"
   ]
  },
  {
   "cell_type": "code",
   "execution_count": 237,
   "metadata": {
    "colab": {
     "base_uri": "https://localhost:8080/"
    },
    "id": "o1EDBm-0Wgrq",
    "outputId": "b1a29706-959e-4afb-fce3-db373273bcae"
   },
   "outputs": [
    {
     "name": "stdout",
     "output_type": "stream",
     "text": [
      "Model: \"sequential\"\n",
      "_________________________________________________________________\n",
      "Layer (type)                 Output Shape              Param #   \n",
      "=================================================================\n",
      "conv2d (Conv2D)              (None, 126, 126, 32)      896       \n",
      "_________________________________________________________________\n",
      "max_pooling2d (MaxPooling2D) (None, 63, 63, 32)        0         \n",
      "_________________________________________________________________\n",
      "conv2d_1 (Conv2D)            (None, 61, 61, 64)        18496     \n",
      "_________________________________________________________________\n",
      "max_pooling2d_1 (MaxPooling2 (None, 30, 30, 64)        0         \n",
      "_________________________________________________________________\n",
      "module_wrapper (ModuleWrappe (None, 57600)             0         \n",
      "_________________________________________________________________\n",
      "module_wrapper_1 (ModuleWrap (None, 64)                3686464   \n",
      "_________________________________________________________________\n",
      "module_wrapper_2 (ModuleWrap (None, 32)                2080      \n",
      "_________________________________________________________________\n",
      "module_wrapper_3 (ModuleWrap (None, 2)                 66        \n",
      "=================================================================\n",
      "Total params: 3,708,002\n",
      "Trainable params: 3,708,002\n",
      "Non-trainable params: 0\n",
      "_________________________________________________________________\n"
     ]
    }
   ],
   "source": [
    "model.summary()"
   ]
  },
  {
   "cell_type": "markdown",
   "metadata": {
    "id": "DAJbHWAbF1Ko"
   },
   "source": [
    "### Compile the above model using appropriate loss metric. Try with sgd, adam optimizer and \"accuracy\" as metrics. "
   ]
  },
  {
   "cell_type": "code",
   "execution_count": 238,
   "metadata": {
    "id": "wBcO5lBmGMCW"
   },
   "outputs": [],
   "source": [
    "# Compile the model\n",
    "model.compile(loss=\"categorical_crossentropy\", metrics=[\"accuracy\"], optimizer=\"sgd\")"
   ]
  },
  {
   "cell_type": "markdown",
   "metadata": {
    "id": "5t90ufg46jLl"
   },
   "source": [
    "### Fit the model on the training dataset along with it's equivalent one hot encoded labels"
   ]
  },
  {
   "cell_type": "code",
   "execution_count": 239,
   "metadata": {
    "colab": {
     "base_uri": "https://localhost:8080/"
    },
    "id": "1OSrPoT9GPKs",
    "outputId": "3bd95050-0b6e-46a0-e586-daa488461ac1"
   },
   "outputs": [
    {
     "name": "stdout",
     "output_type": "stream",
     "text": [
      "Epoch 1/50\n",
      "4/4 [==============================] - 1s 73ms/step - loss: 0.6877 - accuracy: 0.5312 - val_loss: 0.7066 - val_accuracy: 0.4727\n",
      "Epoch 2/50\n",
      "4/4 [==============================] - 0s 31ms/step - loss: 0.6755 - accuracy: 0.5469 - val_loss: 0.6759 - val_accuracy: 0.7091\n",
      "Epoch 3/50\n",
      "4/4 [==============================] - 0s 28ms/step - loss: 0.6890 - accuracy: 0.5078 - val_loss: 0.6873 - val_accuracy: 0.4364\n",
      "Epoch 4/50\n",
      "4/4 [==============================] - 0s 31ms/step - loss: 0.6782 - accuracy: 0.5391 - val_loss: 0.7257 - val_accuracy: 0.4727\n",
      "Epoch 5/50\n",
      "4/4 [==============================] - 0s 28ms/step - loss: 0.6829 - accuracy: 0.5469 - val_loss: 0.6861 - val_accuracy: 0.4545\n",
      "Epoch 6/50\n",
      "4/4 [==============================] - 0s 26ms/step - loss: 0.6541 - accuracy: 0.6641 - val_loss: 0.7114 - val_accuracy: 0.4727\n",
      "Epoch 7/50\n",
      "4/4 [==============================] - 0s 25ms/step - loss: 0.7069 - accuracy: 0.4688 - val_loss: 0.6665 - val_accuracy: 0.4545\n",
      "Epoch 8/50\n",
      "4/4 [==============================] - 0s 26ms/step - loss: 0.6825 - accuracy: 0.5312 - val_loss: 0.7251 - val_accuracy: 0.4727\n",
      "Epoch 9/50\n",
      "4/4 [==============================] - 0s 24ms/step - loss: 0.6518 - accuracy: 0.5469 - val_loss: 0.6480 - val_accuracy: 0.7273\n",
      "Epoch 10/50\n",
      "4/4 [==============================] - 0s 26ms/step - loss: 0.6354 - accuracy: 0.7031 - val_loss: 0.6337 - val_accuracy: 0.8000\n",
      "Epoch 11/50\n",
      "4/4 [==============================] - 0s 25ms/step - loss: 0.6201 - accuracy: 0.6641 - val_loss: 0.6431 - val_accuracy: 0.5091\n",
      "Epoch 12/50\n",
      "4/4 [==============================] - 0s 26ms/step - loss: 0.6168 - accuracy: 0.6484 - val_loss: 0.6849 - val_accuracy: 0.4545\n",
      "Epoch 13/50\n",
      "4/4 [==============================] - 0s 23ms/step - loss: 0.6573 - accuracy: 0.5234 - val_loss: 0.6020 - val_accuracy: 0.7636\n",
      "Epoch 14/50\n",
      "4/4 [==============================] - 0s 27ms/step - loss: 0.6080 - accuracy: 0.7031 - val_loss: 0.7195 - val_accuracy: 0.4364\n",
      "Epoch 15/50\n",
      "4/4 [==============================] - 0s 25ms/step - loss: 0.6576 - accuracy: 0.6094 - val_loss: 0.5926 - val_accuracy: 0.7455\n",
      "Epoch 16/50\n",
      "4/4 [==============================] - 0s 27ms/step - loss: 0.5869 - accuracy: 0.7422 - val_loss: 0.6706 - val_accuracy: 0.4545\n",
      "Epoch 17/50\n",
      "4/4 [==============================] - 0s 28ms/step - loss: 0.5618 - accuracy: 0.7734 - val_loss: 0.5926 - val_accuracy: 0.6727\n",
      "Epoch 18/50\n",
      "4/4 [==============================] - 0s 26ms/step - loss: 0.6667 - accuracy: 0.6641 - val_loss: 0.6414 - val_accuracy: 0.4727\n",
      "Epoch 19/50\n",
      "4/4 [==============================] - 0s 28ms/step - loss: 0.5825 - accuracy: 0.7031 - val_loss: 0.5742 - val_accuracy: 0.6909\n",
      "Epoch 20/50\n",
      "4/4 [==============================] - 0s 25ms/step - loss: 0.5765 - accuracy: 0.6484 - val_loss: 0.6946 - val_accuracy: 0.4545\n",
      "Epoch 21/50\n",
      "4/4 [==============================] - 0s 24ms/step - loss: 0.5709 - accuracy: 0.6719 - val_loss: 0.6533 - val_accuracy: 0.5636\n",
      "Epoch 22/50\n",
      "4/4 [==============================] - 0s 25ms/step - loss: 0.6702 - accuracy: 0.5234 - val_loss: 0.5528 - val_accuracy: 0.8727\n",
      "Epoch 23/50\n",
      "4/4 [==============================] - 0s 24ms/step - loss: 0.5414 - accuracy: 0.8125 - val_loss: 0.5303 - val_accuracy: 0.7455\n",
      "Epoch 24/50\n",
      "4/4 [==============================] - 0s 25ms/step - loss: 0.7090 - accuracy: 0.6250 - val_loss: 0.5807 - val_accuracy: 0.8545\n",
      "Epoch 25/50\n",
      "4/4 [==============================] - 0s 24ms/step - loss: 0.5476 - accuracy: 0.7656 - val_loss: 0.5562 - val_accuracy: 0.8364\n",
      "Epoch 26/50\n",
      "4/4 [==============================] - 0s 24ms/step - loss: 0.5173 - accuracy: 0.8438 - val_loss: 0.6294 - val_accuracy: 0.5273\n",
      "Epoch 27/50\n",
      "4/4 [==============================] - 0s 25ms/step - loss: 0.5190 - accuracy: 0.7578 - val_loss: 0.5029 - val_accuracy: 0.8727\n",
      "Epoch 28/50\n",
      "4/4 [==============================] - 0s 24ms/step - loss: 0.4899 - accuracy: 0.8203 - val_loss: 0.7061 - val_accuracy: 0.4727\n",
      "Epoch 29/50\n",
      "4/4 [==============================] - 0s 26ms/step - loss: 0.6351 - accuracy: 0.6406 - val_loss: 0.4998 - val_accuracy: 0.8000\n",
      "Epoch 30/50\n",
      "4/4 [==============================] - 0s 24ms/step - loss: 0.5799 - accuracy: 0.6641 - val_loss: 0.5159 - val_accuracy: 0.7273\n",
      "Epoch 31/50\n",
      "4/4 [==============================] - 0s 24ms/step - loss: 0.6208 - accuracy: 0.5625 - val_loss: 0.4961 - val_accuracy: 0.8182\n",
      "Epoch 32/50\n",
      "4/4 [==============================] - 0s 24ms/step - loss: 0.5184 - accuracy: 0.7656 - val_loss: 0.6453 - val_accuracy: 0.5091\n",
      "Epoch 33/50\n",
      "4/4 [==============================] - 0s 26ms/step - loss: 0.5856 - accuracy: 0.6641 - val_loss: 0.4935 - val_accuracy: 0.7636\n",
      "Epoch 34/50\n",
      "4/4 [==============================] - 0s 24ms/step - loss: 0.4832 - accuracy: 0.8047 - val_loss: 0.5603 - val_accuracy: 0.7636\n",
      "Epoch 35/50\n",
      "4/4 [==============================] - 0s 26ms/step - loss: 0.5081 - accuracy: 0.7422 - val_loss: 0.4663 - val_accuracy: 0.8727\n",
      "Epoch 36/50\n",
      "4/4 [==============================] - 0s 24ms/step - loss: 0.4428 - accuracy: 0.8594 - val_loss: 0.4834 - val_accuracy: 0.8364\n",
      "Epoch 37/50\n",
      "4/4 [==============================] - 0s 26ms/step - loss: 0.4251 - accuracy: 0.8672 - val_loss: 0.5031 - val_accuracy: 0.7455\n",
      "Epoch 38/50\n",
      "4/4 [==============================] - 0s 24ms/step - loss: 0.6088 - accuracy: 0.6641 - val_loss: 0.4834 - val_accuracy: 0.8545\n",
      "Epoch 39/50\n",
      "4/4 [==============================] - 0s 25ms/step - loss: 0.4430 - accuracy: 0.8516 - val_loss: 0.4959 - val_accuracy: 0.7455\n",
      "Epoch 40/50\n",
      "4/4 [==============================] - 0s 27ms/step - loss: 0.4725 - accuracy: 0.7578 - val_loss: 0.4938 - val_accuracy: 0.8364\n",
      "Epoch 41/50\n",
      "4/4 [==============================] - 0s 25ms/step - loss: 0.6623 - accuracy: 0.6172 - val_loss: 0.4868 - val_accuracy: 0.8545\n",
      "Epoch 42/50\n",
      "4/4 [==============================] - 0s 27ms/step - loss: 0.4409 - accuracy: 0.8750 - val_loss: 0.7116 - val_accuracy: 0.4727\n",
      "Epoch 43/50\n",
      "4/4 [==============================] - 0s 27ms/step - loss: 0.4369 - accuracy: 0.8047 - val_loss: 0.4446 - val_accuracy: 0.8545\n",
      "Epoch 44/50\n",
      "4/4 [==============================] - 0s 24ms/step - loss: 0.4187 - accuracy: 0.8672 - val_loss: 0.7975 - val_accuracy: 0.4727\n",
      "Epoch 45/50\n",
      "4/4 [==============================] - 0s 24ms/step - loss: 0.6002 - accuracy: 0.6719 - val_loss: 0.4496 - val_accuracy: 0.8727\n",
      "Epoch 46/50\n",
      "4/4 [==============================] - 0s 26ms/step - loss: 0.4484 - accuracy: 0.8359 - val_loss: 0.4443 - val_accuracy: 0.8364\n",
      "Epoch 47/50\n",
      "4/4 [==============================] - 0s 24ms/step - loss: 0.5365 - accuracy: 0.7109 - val_loss: 0.4469 - val_accuracy: 0.8545\n",
      "Epoch 48/50\n",
      "4/4 [==============================] - 0s 26ms/step - loss: 0.3883 - accuracy: 0.8984 - val_loss: 0.4511 - val_accuracy: 0.8545\n",
      "Epoch 49/50\n",
      "4/4 [==============================] - 0s 28ms/step - loss: 0.4014 - accuracy: 0.8750 - val_loss: 0.5371 - val_accuracy: 0.8000\n",
      "Epoch 50/50\n",
      "4/4 [==============================] - 0s 24ms/step - loss: 0.3893 - accuracy: 0.8203 - val_loss: 0.4335 - val_accuracy: 0.8545\n"
     ]
    }
   ],
   "source": [
    "# Fit the model\n",
    "callback = tf.keras.callbacks.EarlyStopping(monitor='val_loss',patience = 10,restore_best_weights=True,mode = 'min')\n",
    "history = model.fit( x=x_train, y=y_train_cat, batch_size=32, epochs=50, validation_split=0.3,callbacks=callback)"
   ]
  },
  {
   "cell_type": "markdown",
   "metadata": {
    "id": "algw3-VGIj-N"
   },
   "source": [
    "## 6. Evaluate the model\n"
   ]
  },
  {
   "cell_type": "markdown",
   "metadata": {
    "id": "PJ44TJ4gGQUC"
   },
   "source": [
    "### Evaluate the model on test data and print loss and accuracy"
   ]
  },
  {
   "cell_type": "code",
   "execution_count": 240,
   "metadata": {
    "colab": {
     "base_uri": "https://localhost:8080/"
    },
    "id": "ThluFnGNGWh7",
    "outputId": "8e7485a0-ab3d-4930-ae08-e9d2fa08a0ba"
   },
   "outputs": [
    {
     "name": "stdout",
     "output_type": "stream",
     "text": [
      "2/2 [==============================] - 0s 8ms/step - loss: 0.4680 - accuracy: 0.8387\n",
      "Test loss: 0.46803686022758484\n",
      "Test accuracy: 0.8387096524238586\n"
     ]
    }
   ],
   "source": [
    "#Testing the model on test set\n",
    "score = model.evaluate(x_test, y_test_cat)\n",
    "print('Test loss:', score[0])\n",
    "print('Test accuracy:', score[1])"
   ]
  },
  {
   "cell_type": "code",
   "execution_count": 241,
   "metadata": {
    "colab": {
     "base_uri": "https://localhost:8080/"
    },
    "id": "40tqq9AEMwGK",
    "outputId": "054f9148-5b9c-41ff-abd1-7d15269d7b6c"
   },
   "outputs": [
    {
     "name": "stdout",
     "output_type": "stream",
     "text": [
      "6/6 [==============================] - 0s 7ms/step - loss: 0.3746 - accuracy: 0.8907\n",
      "Test loss: 0.3745674192905426\n",
      "Test accuracy: 0.8907103538513184\n"
     ]
    }
   ],
   "source": [
    "#Testing the model on test set\n",
    "score = model.evaluate(x_train, y_train_cat)\n",
    "print('Test loss:', score[0])\n",
    "print('Test accuracy:', score[1])"
   ]
  },
  {
   "cell_type": "markdown",
   "metadata": {
    "id": "yWajHp4XfYA_"
   },
   "source": []
  },
  {
   "cell_type": "markdown",
   "metadata": {
    "id": "hyzKGfaKGapH"
   },
   "source": [
    "### Predict label data of the test data and check confusion matrix"
   ]
  },
  {
   "cell_type": "code",
   "execution_count": 242,
   "metadata": {
    "id": "jqlmsPhxGh-K"
   },
   "outputs": [],
   "source": [
    "y_test_pred = np.argmax(model.predict(x_test),axis=1)"
   ]
  },
  {
   "cell_type": "code",
   "execution_count": 243,
   "metadata": {
    "colab": {
     "base_uri": "https://localhost:8080/"
    },
    "id": "0aVTTbvfPh-A",
    "outputId": "7e43d735-dbf7-4600-d8d2-bfc88e6dc5d2"
   },
   "outputs": [
    {
     "data": {
      "text/plain": [
       "array([[30,  4],\n",
       "       [ 6, 22]])"
      ]
     },
     "execution_count": 243,
     "metadata": {
      "tags": []
     },
     "output_type": "execute_result"
    }
   ],
   "source": [
    "from sklearn.metrics import confusion_matrix\n",
    "confusion_matrix(y_test,y_test_pred)"
   ]
  },
  {
   "cell_type": "markdown",
   "metadata": {
    "id": "C3cctwoeGwHa"
   },
   "source": [
    "### Display test images and their predicted label for a few samples"
   ]
  },
  {
   "cell_type": "code",
   "execution_count": 244,
   "metadata": {
    "colab": {
     "base_uri": "https://localhost:8080/",
     "height": 914
    },
    "id": "FvbAyNElHH_G",
    "outputId": "f59c5ac1-0e59-4cac-f1de-725e1a5c05ca"
   },
   "outputs": [
    {
     "data": {
      "image/png": "[encoded data removed]",
      "text/plain": [
       "<Figure size 144x144 with 1 Axes>"
      ]
     },
     "metadata": {
      "needs_background": "light",
      "tags": []
     },
     "output_type": "display_data"
    },
    {
     "name": "stdout",
     "output_type": "stream",
     "text": [
      "1\n",
      "predicted image has a mobile\n"
     ]
    },
    {
     "data": {
      "image/png": "[encoded data removed]",
      "text/plain": [
       "<Figure size 144x144 with 1 Axes>"
      ]
     },
     "metadata": {
      "needs_background": "light",
      "tags": []
     },
     "output_type": "display_data"
    },
    {
     "name": "stdout",
     "output_type": "stream",
     "text": [
      "0\n",
      "predicted image has no mobile\n"
     ]
    },
    {
     "data": {
      "image/png": "[encoded data removed]",
      "text/plain": [
       "<Figure size 144x144 with 1 Axes>"
      ]
     },
     "metadata": {
      "needs_background": "light",
      "tags": []
     },
     "output_type": "display_data"
    },
    {
     "name": "stdout",
     "output_type": "stream",
     "text": [
      "0\n",
      "predicted image has a mobile\n"
     ]
    },
    {
     "data": {
      "image/png": "[encoded data removed]",
      "text/plain": [
       "<Figure size 144x144 with 1 Axes>"
      ]
     },
     "metadata": {
      "needs_background": "light",
      "tags": []
     },
     "output_type": "display_data"
    },
    {
     "name": "stdout",
     "output_type": "stream",
     "text": [
      "1\n",
      "predicted image has a mobile\n"
     ]
    },
    {
     "data": {
      "image/png": "[encoded data removed]",
      "text/plain": [
       "<Figure size 144x144 with 1 Axes>"
      ]
     },
     "metadata": {
      "needs_background": "light",
      "tags": []
     },
     "output_type": "display_data"
    },
    {
     "name": "stdout",
     "output_type": "stream",
     "text": [
      "0\n",
      "predicted image has no mobile\n"
     ]
    }
   ],
   "source": [
    "plt.figure(figsize=(2,2))\n",
    "plt.imshow(x_test[0],cmap=\"gray\")\n",
    "plt.show()\n",
    "print(np.argmax(model.predict(x_test[0].reshape(1,128,128,3))))\n",
    "if(y_test[0] == 0):\n",
    "  print('predicted image has no mobile')\n",
    "else:\n",
    "  print('predicted image has a mobile')\n",
    "\n",
    "\n",
    "\n",
    "\n",
    "plt.figure(figsize=(2,2))\n",
    "plt.imshow(x_test[3],cmap=\"gray\")\n",
    "plt.show()\n",
    "print(np.argmax(model.predict(x_test[3].reshape(1,128,128,3))))\n",
    "if(y_test[3] == 0):\n",
    "  print('predicted image has no mobile')\n",
    "else:\n",
    "  print('predicted image has a mobile')\n",
    "\n",
    "\n",
    "\n",
    "\n",
    "plt.figure(figsize=(2,2))\n",
    "plt.imshow(x_test[33],cmap=\"gray\")\n",
    "plt.show()\n",
    "print(np.argmax(model.predict(x_test[33].reshape(1,128,128,3))))\n",
    "if(y_test[33] == 0):\n",
    "  print('predicted image has no mobile')\n",
    "else:\n",
    "  print('predicted image has a mobile')\n",
    "\n",
    "\n",
    "plt.figure(figsize=(2,2))\n",
    "plt.imshow(x_test[59],cmap=\"gray\")\n",
    "plt.show()\n",
    "print(np.argmax(model.predict(x_test[59].reshape(1,128,128,3))))\n",
    "if(y_test[59] == 0):\n",
    "  print('predicted image has no mobile')\n",
    "else:\n",
    "  print('predicted image has a mobile')\n",
    "\n",
    "\n",
    "plt.figure(figsize=(2,2))\n",
    "plt.imshow(x_test[37],cmap=\"gray\")\n",
    "plt.show()\n",
    "print(np.argmax(model.predict(x_test[37].reshape(1,128,128,3))))\n",
    "if(y_test[37] == 0):\n",
    "  print('predicted image has no mobile')\n",
    "else:\n",
    "  print('predicted image has a mobile')"
   ]
  },
  {
   "cell_type": "markdown",
   "metadata": {
    "id": "ZruCtc4GGkVr"
   },
   "source": [
    "### Print following plots\n",
    "1. Plot training accuracy vs validation accuracy\n",
    "2. Plot training loss vs validation loss"
   ]
  },
  {
   "cell_type": "code",
   "execution_count": 245,
   "metadata": {
    "colab": {
     "base_uri": "https://localhost:8080/",
     "height": 573
    },
    "id": "2nf532Q_HWWM",
    "outputId": "b9404917-91e2-4ab8-9305-1df82fcaea44"
   },
   "outputs": [
    {
     "data": {
      "image/png": "[encoded data removed]",
      "text/plain": [
       "<Figure size 432x288 with 1 Axes>"
      ]
     },
     "metadata": {
      "needs_background": "light",
      "tags": []
     },
     "output_type": "display_data"
    },
    {
     "data": {
      "image/png": "[encoded data removed]",
      "text/plain": [
       "<Figure size 432x288 with 1 Axes>"
      ]
     },
     "metadata": {
      "needs_background": "light",
      "tags": []
     },
     "output_type": "display_data"
    }
   ],
   "source": [
    "plt.plot(history.history['accuracy'])  \n",
    "plt.plot(history.history['val_accuracy'])  \n",
    "plt.title('Accuracy')  \n",
    "plt.ylabel('accuracy')\n",
    "plt.xlabel('epoch')\n",
    "plt.legend(['train','validation'],loc='upper left')\n",
    "plt.show()\n",
    "\n",
    "\n",
    "plt.plot(history.history['loss'])  \n",
    "plt.plot(history.history['val_loss'])  \n",
    "plt.title('model loss')  \n",
    "plt.ylabel('loss')\n",
    "plt.xlabel('epoch')\n",
    "plt.legend(['train','validation'],loc='upper left')\n",
    "plt.show()"
   ]
  },
  {
   "cell_type": "markdown",
   "metadata": {
    "id": "hH63EB-xGHJq"
   },
   "source": [
    "## 7.  Conclusion and Interpretation"
   ]
  },
  {
   "cell_type": "markdown",
   "metadata": {
    "id": "5ixHI0FcHIMo"
   },
   "source": [
    "### Write your observations and findings"
   ]
  },
  {
   "cell_type": "markdown",
   "metadata": {
    "id": "2C7WBHa0kCDe"
   },
   "source": [
    "**Observations:**\n",
    "\n",
    "  1 - On using the SGD optimizer the train accuracy is about 89% and test accuracy is about 83%.\n",
    "  \n",
    "  2 - From the confusion Matrix we can interpret that among the test set of 62,\n",
    "      \n",
    "      Total=62  Predicted 0 predicted 1   Total\n",
    "      Actual 0    30           4           34\n",
    "      Actual 1    6           22           28\n",
    "  \n",
    "    - out of 28 actual as mobile image, the model correctly predicted the 22 images are mobiles.\n",
    "    - out of 34 actual as Not a mobile image, the model correctly predicted 30 are not a mobile.\n",
    "\n",
    "    - Accuracy of prediction as mobile is 23/28 = 83%\n",
    "    - Accuracy of prediction as not a mobile is 28/34 =83%\n",
    "\n",
    "3 - Since the Dataset has less size the accuracy looks to be high.\n",
    "\n",
    "4 -  From the Plot above Validation loss Vs training loss we can witness there is an exploding Gradient issue with the model."
   ]
  },
  {
   "cell_type": "markdown",
   "metadata": {
    "id": "WnoWVy0GGPs5"
   },
   "source": [
    "## 8. Further Explore"
   ]
  },
  {
   "cell_type": "markdown",
   "metadata": {
    "id": "NKEwRyW9JnCd"
   },
   "source": [
    "### Try changing a few hyperparameters such as number of layers in the network or number of units in a hidden layer or try different activation functions in the hidden layers and see if you get better results than the previous network"
   ]
  },
  {
   "cell_type": "code",
   "execution_count": 250,
   "metadata": {
    "id": "OFRVkBdnHbW4"
   },
   "outputs": [],
   "source": [
    "tf.keras.backend.clear_session()\n",
    "model_2 = tf.keras.Sequential()\n",
    "model_2.add(Conv2D(filters=32, kernel_size=3, activation=\"relu\", input_shape=(128, 128, 3)))\n",
    "model_2.add(MaxPool2D(2,2))\n",
    "model_2.add(Conv2D(filters=64, kernel_size=3, activation=\"relu\"))\n",
    "model_2.add(MaxPool2D(2,2))\n",
    "model_2.add(Conv2D(filters=128, kernel_size=3, activation=\"relu\"))\n",
    "model_2.add(MaxPool2D(2,2))\n",
    "model_2.add(Flatten())\n",
    "model_2.add(Dense(64, activation=\"relu\"))\n",
    "model_2.add(Dense(32, activation=\"relu\"))\n",
    "model_2.add(Dense(16, activation=\"relu\"))\n",
    "model_2.add(Dense(2, activation=\"softmax\"))"
   ]
  },
  {
   "cell_type": "code",
   "execution_count": 251,
   "metadata": {
    "colab": {
     "base_uri": "https://localhost:8080/"
    },
    "id": "XHRzWwhHb1vM",
    "outputId": "093b2353-6062-426c-d94b-a41ba7b4f49f"
   },
   "outputs": [
    {
     "name": "stdout",
     "output_type": "stream",
     "text": [
      "Model: \"sequential\"\n",
      "_________________________________________________________________\n",
      "Layer (type)                 Output Shape              Param #   \n",
      "=================================================================\n",
      "conv2d (Conv2D)              (None, 126, 126, 32)      896       \n",
      "_________________________________________________________________\n",
      "max_pooling2d (MaxPooling2D) (None, 63, 63, 32)        0         \n",
      "_________________________________________________________________\n",
      "conv2d_1 (Conv2D)            (None, 61, 61, 64)        18496     \n",
      "_________________________________________________________________\n",
      "max_pooling2d_1 (MaxPooling2 (None, 30, 30, 64)        0         \n",
      "_________________________________________________________________\n",
      "conv2d_2 (Conv2D)            (None, 28, 28, 128)       73856     \n",
      "_________________________________________________________________\n",
      "max_pooling2d_2 (MaxPooling2 (None, 14, 14, 128)       0         \n",
      "_________________________________________________________________\n",
      "module_wrapper (ModuleWrappe (None, 25088)             0         \n",
      "_________________________________________________________________\n",
      "module_wrapper_1 (ModuleWrap (None, 64)                1605696   \n",
      "_________________________________________________________________\n",
      "module_wrapper_2 (ModuleWrap (None, 32)                2080      \n",
      "_________________________________________________________________\n",
      "module_wrapper_3 (ModuleWrap (None, 16)                528       \n",
      "_________________________________________________________________\n",
      "module_wrapper_4 (ModuleWrap (None, 2)                 34        \n",
      "=================================================================\n",
      "Total params: 1,701,586\n",
      "Trainable params: 1,701,586\n",
      "Non-trainable params: 0\n",
      "_________________________________________________________________\n"
     ]
    }
   ],
   "source": [
    "model_2.summary()"
   ]
  },
  {
   "cell_type": "code",
   "execution_count": 252,
   "metadata": {
    "id": "XyGc3HFfUnHo"
   },
   "outputs": [],
   "source": [
    "# Compile the model\n",
    "\n",
    "model_2.compile(loss=\"categorical_crossentropy\", metrics=[\"accuracy\"], optimizer=\"adam\")"
   ]
  },
  {
   "cell_type": "code",
   "execution_count": 253,
   "metadata": {
    "colab": {
     "base_uri": "https://localhost:8080/"
    },
    "id": "uwvMIIElUw8W",
    "outputId": "e217b5d6-2631-4205-ea91-04d62dfff730"
   },
   "outputs": [
    {
     "name": "stdout",
     "output_type": "stream",
     "text": [
      "Epoch 1/10\n",
      "4/4 [==============================] - 1s 85ms/step - loss: 0.7006 - accuracy: 0.5312 - val_loss: 0.7649 - val_accuracy: 0.4727\n",
      "Epoch 2/10\n",
      "4/4 [==============================] - 0s 34ms/step - loss: 0.7059 - accuracy: 0.5469 - val_loss: 0.6969 - val_accuracy: 0.4727\n",
      "Epoch 3/10\n",
      "4/4 [==============================] - 0s 31ms/step - loss: 0.6779 - accuracy: 0.5469 - val_loss: 0.6840 - val_accuracy: 0.4727\n",
      "Epoch 4/10\n",
      "4/4 [==============================] - 0s 32ms/step - loss: 0.6524 - accuracy: 0.5469 - val_loss: 0.6468 - val_accuracy: 0.4727\n",
      "Epoch 5/10\n",
      "4/4 [==============================] - 0s 29ms/step - loss: 0.5660 - accuracy: 0.5547 - val_loss: 0.5756 - val_accuracy: 0.7273\n",
      "Epoch 6/10\n",
      "4/4 [==============================] - 0s 29ms/step - loss: 0.4453 - accuracy: 0.8750 - val_loss: 0.4255 - val_accuracy: 0.8545\n",
      "Epoch 7/10\n",
      "4/4 [==============================] - 0s 29ms/step - loss: 0.3069 - accuracy: 0.9062 - val_loss: 0.3880 - val_accuracy: 0.8909\n",
      "Epoch 8/10\n",
      "4/4 [==============================] - 0s 28ms/step - loss: 0.2014 - accuracy: 0.9062 - val_loss: 0.4469 - val_accuracy: 0.8364\n",
      "Epoch 9/10\n",
      "4/4 [==============================] - 0s 32ms/step - loss: 0.1613 - accuracy: 0.9219 - val_loss: 0.4126 - val_accuracy: 0.8545\n",
      "Epoch 10/10\n",
      "4/4 [==============================] - 0s 27ms/step - loss: 0.1149 - accuracy: 0.9688 - val_loss: 0.4067 - val_accuracy: 0.8545\n"
     ]
    }
   ],
   "source": [
    "# Fit the model\n",
    "callback_2 = tf.keras.callbacks.EarlyStopping(monitor='val_loss',patience = 10,restore_best_weights=True,mode = 'min')\n",
    "history_2 = model_2.fit( x=x_train, y=y_train_cat, batch_size=32, epochs=10, validation_split=0.3,callbacks=callback_2)"
   ]
  },
  {
   "cell_type": "code",
   "execution_count": 256,
   "metadata": {
    "colab": {
     "base_uri": "https://localhost:8080/"
    },
    "id": "ac8fQOCHx46n",
    "outputId": "e15553d1-bad0-422f-eb6d-35e14696836b"
   },
   "outputs": [
    {
     "name": "stdout",
     "output_type": "stream",
     "text": [
      "2/2 [==============================] - 0s 9ms/step - loss: 0.8609 - accuracy: 0.8226\n",
      "Test loss: 0.8609347939491272\n",
      "Test accuracy: 0.8225806355476379\n"
     ]
    }
   ],
   "source": [
    "#Testing the model on test set\n",
    "score_2 = model_2.evaluate(x_test, y_test_cat)\n",
    "print('Test loss:', score_2[0])\n",
    "print('Test accuracy:', score_2[1])"
   ]
  },
  {
   "cell_type": "code",
   "execution_count": 257,
   "metadata": {
    "colab": {
     "base_uri": "https://localhost:8080/"
    },
    "id": "Xnvqt2aHyPbG",
    "outputId": "7b8783bd-5330-4209-fc04-dfefe46b61ae"
   },
   "outputs": [
    {
     "data": {
      "text/plain": [
       "array([[32,  2],\n",
       "       [ 9, 19]])"
      ]
     },
     "execution_count": 257,
     "metadata": {
      "tags": []
     },
     "output_type": "execute_result"
    }
   ],
   "source": [
    "y_test_pred_2 = np.argmax(model_2.predict(x_test),axis=1)\n",
    "confusion_matrix(y_test,y_test_pred_2)"
   ]
  },
  {
   "cell_type": "code",
   "execution_count": 258,
   "metadata": {
    "colab": {
     "base_uri": "https://localhost:8080/",
     "height": 573
    },
    "id": "Izm10I7wU1YB",
    "outputId": "dca8e875-7716-4165-c697-4fbf88bb4651"
   },
   "outputs": [
    {
     "data": {
      "image/png": "[encoded data removed]",
      "text/plain": [
       "<Figure size 432x288 with 1 Axes>"
      ]
     },
     "metadata": {
      "needs_background": "light",
      "tags": []
     },
     "output_type": "display_data"
    },
    {
     "data": {
      "image/png": "[encoded data removed]",
      "text/plain": [
       "<Figure size 432x288 with 1 Axes>"
      ]
     },
     "metadata": {
      "needs_background": "light",
      "tags": []
     },
     "output_type": "display_data"
    }
   ],
   "source": [
    "plt.plot(history_2.history['accuracy'])  \n",
    "plt.plot(history_2.history['val_accuracy'])  \n",
    "plt.title('Accuracy')  \n",
    "plt.ylabel('accuracy')\n",
    "plt.xlabel('epoch')\n",
    "plt.legend(['train','validation'],loc='upper left')\n",
    "plt.show()\n",
    "\n",
    "\n",
    "plt.plot(history_2.history['loss'])  \n",
    "plt.plot(history_2.history['val_loss'])  \n",
    "plt.title('model loss')  \n",
    "plt.ylabel('loss')\n",
    "plt.xlabel('epoch')\n",
    "plt.legend(['train','validation'],loc='upper left')\n",
    "plt.show()"
   ]
  },
  {
   "cell_type": "markdown",
   "metadata": {
    "id": "JkhSkqvzqJl2"
   },
   "source": [
    "**Observations:**\n",
    "\n",
    "  1 - On using the Adam optimizer the train accuracy is about 99% and test accuracy is about 82%.\n",
    "  \n",
    "  2 - From the confusion Matrix we can interpret that among the test set of 62,\n",
    "      \n",
    "      Total=62  Predicted 0 predicted 1   Total\n",
    "      Actual 0    32           2           34\n",
    "      Actual 1    9            19          28\n",
    "  \n",
    "    - out of 28 actual as mobile image, the model correctly predicted the 19 images are mobiles.\n",
    "    - out of 34 actual as Not a mobile image, the model correctly predicted 32 are not a mobile.\n",
    "\n",
    "3 - Since the Dataset has less size the accuracy looks to be high.\n",
    "\n",
    "4-  From the Plot above Validation loss Vs training loss we can witness that the use of optimizer as adam has reduced the exploding gradient issues where the loss of validation and training set is of smooth curve."
   ]
  },
  {
   "cell_type": "code",
   "execution_count": null,
   "metadata": {
    "id": "MJPJyjIUXGSU"
   },
   "outputs": [],
   "source": []
  }
 ],
 "metadata": {
  "accelerator": "GPU",
  "colab": {
   "collapsed_sections": [],
   "name": "PGPAIML_R7_CV_With_CNN_Lab.ipynb",
   "provenance": []
  },
  "kernelspec": {
   "display_name": "Python 3",
   "language": "python",
   "name": "python3"
  },
  "language_info": {
   "codemirror_mode": {
    "name": "ipython",
    "version": 3
   },
   "file_extension": ".py",
   "mimetype": "text/x-python",
   "name": "python",
   "nbconvert_exporter": "python",
   "pygments_lexer": "ipython3",
   "version": "3.7.4"
  }
 },
 "nbformat": 4,
 "nbformat_minor": 1
}
