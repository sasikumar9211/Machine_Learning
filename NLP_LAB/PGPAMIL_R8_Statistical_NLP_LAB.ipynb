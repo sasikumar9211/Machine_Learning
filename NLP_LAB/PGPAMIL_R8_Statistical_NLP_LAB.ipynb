{
  "nbformat": 4,
  "nbformat_minor": 0,
  "metadata": {
    "colab": {
      "name": "PGPAMIL_R8_Statistical_NLP_LAB.ipynb",
      "provenance": [],
      "collapsed_sections": []
    },
    "kernelspec": {
      "name": "python3",
      "display_name": "Python 3"
    },
    "accelerator": "GPU"
  },
  "cells": [
    {
      "cell_type": "markdown",
      "metadata": {
        "id": "PHYs6Z84xV8E"
      },
      "source": [
        "<img src=\"http://drive.google.com/uc?export=view&id=1tpOCamr9aWz817atPnyXus8w5gJ3mIts\" width=500px>\n",
        "\n",
        "Proprietary content. © Great Learning. All Rights Reserved. Unauthorized use or distribution prohibited."
      ]
    },
    {
      "cell_type": "markdown",
      "metadata": {
        "id": "5QQxgAmWzSye"
      },
      "source": [
        "# Mobile Phone Review Analysis"
      ]
    },
    {
      "cell_type": "markdown",
      "metadata": {
        "id": "FbwHYUXhxaqD"
      },
      "source": [
        "## Context\n",
        "\n",
        "The product companies can utilize the detailed review comments to gather insights from the end user. Most of the products are sold via e-commerce sites like Flipkart or Amazon where customers can buy a product and give their review about the product on the web site. \n",
        "Product managers can identify the relevant reviews from the website and run a sentiment analysis tool to understand what the sentiments of the customer are. Based on their sentiments, they can identify what users think of the current product. Are they happy? Discontent? \n",
        "They can also come up with a document that lists the features, the team needs to focus on for making the product better. \n",
        "\n",
        "## Objective\n",
        "\n",
        "Given the review data rating label, we will try to get insights about various brands and their ratings using text analytics and build a model to predict the rating and overall sentiment. \n"
      ]
    },
    {
      "cell_type": "markdown",
      "metadata": {
        "id": "CI7usguRzeox"
      },
      "source": [
        "### Package version\n",
        "\n",
        "- tensorflow==2.3.0\n",
        "- scikit-learn==0.22.2.post1\n",
        "- pandas==1.0.5\n",
        "- numpy==1.18.5\n",
        "- matplotlib==3.2.2\n",
        "- google==2.0.3"
      ]
    },
    {
      "cell_type": "markdown",
      "metadata": {
        "id": "aiMdVjHRH7NR"
      },
      "source": [
        "### Data Dictionary \n",
        "\n",
        "product_data.csv - contains product details\n",
        "- 'asin',  - Product ASIN\n",
        "- 'brand', - Product Brand\n",
        "- 'title', - Product Title\n",
        "- 'url',  - Product URL\n",
        "- 'image', - Product Image URL\n",
        "- 'rating',- Product Avg. Rating\n",
        "- 'reviewUrl' - Product Review Page URL\n",
        "- 'totalReviews' - Product Total Reviews\n",
        "- ‘price’ - Product Price (\\$\\)\n",
        "- ‘originalPrice’ - Product Original Price (\\$\\)\n",
        " \n",
        "reviews.csv  - contains user review details\n",
        " \n",
        "- 'asin' - Product ASIN\n",
        "- 'name' - Reviewer Name\n",
        "- 'rating' - Reviewer Rating (scale 1 to 5)\n",
        "- 'date'  - Review Date\n",
        "- 'verified' - Valid Customer\n",
        "- 'title'  - Review Title\n",
        "- 'body'  - Review Content\n",
        "- 'helpfulVotes  - Helpful Feedbacks\n"
      ]
    },
    {
      "cell_type": "markdown",
      "metadata": {
        "id": "cEn52o8jznJK"
      },
      "source": [
        "## Table of Content\n",
        "\n",
        "1. Import Libraries\n",
        "\n",
        "2. Setting options\n",
        "\n",
        "3. Read Data\n",
        "\n",
        "4. Data Analysis and EDA\n",
        "\n",
        "5. Text preprocessing and Vectorization\n",
        "\n",
        "6. Model building\n",
        "\n",
        "7. Conclusion and Interpretation"
      ]
    },
    {
      "cell_type": "markdown",
      "metadata": {
        "id": "x_Lom6cXzqn7"
      },
      "source": [
        "## 1. Import Libraries"
      ]
    },
    {
      "cell_type": "markdown",
      "metadata": {
        "id": "FZtVstH8zre2"
      },
      "source": [
        "Let us start by mounting the drive"
      ]
    },
    {
      "cell_type": "code",
      "metadata": {
        "id": "xv9jxv3-R5Xl",
        "colab": {
          "base_uri": "https://localhost:8080/"
        },
        "outputId": "88556504-8510-4cd1-974f-19a90d8a46b5"
      },
      "source": [
        "from google.colab import drive\n",
        "drive.mount('/content/drive')"
      ],
      "execution_count": 9,
      "outputs": [
        {
          "output_type": "stream",
          "text": [
            "Mounted at /content/drive\n"
          ],
          "name": "stdout"
        }
      ]
    },
    {
      "cell_type": "markdown",
      "metadata": {
        "id": "Gv-tZoFjz2WD"
      },
      "source": [
        "Let us check for the version of installed tensorflow."
      ]
    },
    {
      "cell_type": "code",
      "metadata": {
        "id": "eiuUVBuDzzn9",
        "colab": {
          "base_uri": "https://localhost:8080/"
        },
        "outputId": "9cbe5b8d-575c-4361-a9f7-8fb79fb2d53a"
      },
      "source": [
        "# used to supress display of warnings\n",
        "import warnings\n",
        "\n",
        "# os is used to provide a way of using operating system dependent functionality\n",
        "# We use it for setting working folder\n",
        "import os\n",
        "\n",
        "# Pandas is used for data manipulation and analysis\n",
        "import pandas as pd \n",
        "\n",
        "# Numpy is used for large, multi-dimensional arrays and matrices, along with mathematical operators on these arrays\n",
        "import numpy as np\n",
        "\n",
        "# Matplotlib is a data visualization library for 2D plots of arrays, built on NumPy arrays \n",
        "# and designed to work with the broader SciPy stack\n",
        "import matplotlib.pyplot as plt\n",
        "%matplotlib inline\n",
        "from matplotlib import pyplot\n",
        "\n",
        "# Seaborn is based on matplotlib, which aids in drawing attractive and informative statistical graphics.\n",
        "import seaborn as sns\n",
        "import tensorflow \n",
        "print(tensorflow.__version__)"
      ],
      "execution_count": 2,
      "outputs": [
        {
          "output_type": "stream",
          "text": [
            "2.5.0\n"
          ],
          "name": "stdout"
        }
      ]
    },
    {
      "cell_type": "markdown",
      "metadata": {
        "id": "fze-aokU0ukH"
      },
      "source": [
        "## 2. Setting Options"
      ]
    },
    {
      "cell_type": "code",
      "metadata": {
        "id": "T3FALggG0xXa"
      },
      "source": [
        "# suppress display of warnings\n",
        "warnings.filterwarnings('ignore')\n",
        "\n",
        "# display all dataframe columns\n",
        "pd.options.display.max_columns = None\n",
        "\n",
        "# to set the limit to 3 decimals\n",
        "pd.options.display.float_format = '{:.7f}'.format\n",
        "\n",
        "# display all dataframe rows\n",
        "pd.options.display.max_rows = None\n",
        "\n",
        "pd.options.display.max_colwidth=200\n"
      ],
      "execution_count": 107,
      "outputs": []
    },
    {
      "cell_type": "markdown",
      "metadata": {
        "id": "ZT1P1WdK1vfZ"
      },
      "source": [
        "## 3. Read Data"
      ]
    },
    {
      "cell_type": "markdown",
      "metadata": {
        "id": "-UOW6zwww7L1"
      },
      "source": [
        "### 3.1 Read the provided CSVs and check 5 random samples and shape to understand the datasets"
      ]
    },
    {
      "cell_type": "code",
      "metadata": {
        "id": "nxT2g284xF1W",
        "colab": {
          "base_uri": "https://localhost:8080/",
          "height": 36
        },
        "outputId": "92addd09-0cb8-4d2f-9382-64b9f4490cc5"
      },
      "source": [
        "os.getcwd()"
      ],
      "execution_count": 4,
      "outputs": [
        {
          "output_type": "execute_result",
          "data": {
            "application/vnd.google.colaboratory.intrinsic+json": {
              "type": "string"
            },
            "text/plain": [
              "'/content'"
            ]
          },
          "metadata": {
            "tags": []
          },
          "execution_count": 4
        }
      ]
    },
    {
      "cell_type": "code",
      "metadata": {
        "id": "GRjG44fRxGIq"
      },
      "source": [
        "product_df = pd.read_csv('/content/drive/MyDrive/Colab Notebooks/NLP/Lab/product_data.csv')\n",
        "reviews_df = pd.read_csv('/content/drive/MyDrive/Colab Notebooks/NLP/Lab/reviews.csv')"
      ],
      "execution_count": 5,
      "outputs": []
    },
    {
      "cell_type": "code",
      "metadata": {
        "colab": {
          "base_uri": "https://localhost:8080/",
          "height": 381
        },
        "id": "Yfu1NMluybFF",
        "outputId": "271b5029-f0ee-44f6-c0dd-6949de5db18f"
      },
      "source": [
        "product_df.sample(5)"
      ],
      "execution_count": 6,
      "outputs": [
        {
          "output_type": "execute_result",
          "data": {
            "text/html": [
              "<div>\n",
              "<style scoped>\n",
              "    .dataframe tbody tr th:only-of-type {\n",
              "        vertical-align: middle;\n",
              "    }\n",
              "\n",
              "    .dataframe tbody tr th {\n",
              "        vertical-align: top;\n",
              "    }\n",
              "\n",
              "    .dataframe thead th {\n",
              "        text-align: right;\n",
              "    }\n",
              "</style>\n",
              "<table border=\"1\" class=\"dataframe\">\n",
              "  <thead>\n",
              "    <tr style=\"text-align: right;\">\n",
              "      <th></th>\n",
              "      <th>asin</th>\n",
              "      <th>brand</th>\n",
              "      <th>title</th>\n",
              "      <th>url</th>\n",
              "      <th>image</th>\n",
              "      <th>rating</th>\n",
              "      <th>reviewUrl</th>\n",
              "      <th>totalReviews</th>\n",
              "      <th>price</th>\n",
              "      <th>originalPrice</th>\n",
              "    </tr>\n",
              "  </thead>\n",
              "  <tbody>\n",
              "    <tr>\n",
              "      <th>86</th>\n",
              "      <td>B00QHJTOK0</td>\n",
              "      <td>Samsung</td>\n",
              "      <td>Samsung Galaxy Centura SCH-S738C - (Net10)</td>\n",
              "      <td>https://www.amazon.com/Samsung-Galaxy-Centura-...</td>\n",
              "      <td>https://m.media-amazon.com/images/I/411mIDKCYz...</td>\n",
              "      <td>1.0000000</td>\n",
              "      <td>https://www.amazon.com/product-reviews/B00QHJTOK0</td>\n",
              "      <td>1</td>\n",
              "      <td>0.0000000</td>\n",
              "      <td>0.0000000</td>\n",
              "    </tr>\n",
              "    <tr>\n",
              "      <th>705</th>\n",
              "      <td>B07Z41LHPB</td>\n",
              "      <td>Samsung</td>\n",
              "      <td>Samsung Galaxy Note 10+ Plus 256GB GSM Unlocke...</td>\n",
              "      <td>https://www.amazon.com/Samsung-Galaxy-Unlocked...</td>\n",
              "      <td>https://m.media-amazon.com/images/I/618bEcxx-a...</td>\n",
              "      <td>2.8000000</td>\n",
              "      <td>https://www.amazon.com/product-reviews/B07Z41LHPB</td>\n",
              "      <td>11</td>\n",
              "      <td>659.0000000</td>\n",
              "      <td>0.0000000</td>\n",
              "    </tr>\n",
              "    <tr>\n",
              "      <th>448</th>\n",
              "      <td>B07H8QMZWV</td>\n",
              "      <td>Samsung</td>\n",
              "      <td>Samsung Galaxy Note9 Factory Unlocked Phone wi...</td>\n",
              "      <td>https://www.amazon.com/Samsung-Unlocked-Warran...</td>\n",
              "      <td>https://m.media-amazon.com/images/I/716U2tmcWI...</td>\n",
              "      <td>4.1000000</td>\n",
              "      <td>https://www.amazon.com/product-reviews/B07H8QMZWV</td>\n",
              "      <td>1</td>\n",
              "      <td>399.0000000</td>\n",
              "      <td>0.0000000</td>\n",
              "    </tr>\n",
              "    <tr>\n",
              "      <th>27</th>\n",
              "      <td>B0081TDISI</td>\n",
              "      <td>Motorola</td>\n",
              "      <td>Motorola Brute i686 Rugged PTT For Sprint</td>\n",
              "      <td>https://www.amazon.com/Motorola-Brute-i686-Rug...</td>\n",
              "      <td>https://m.media-amazon.com/images/I/614NiqhyYO...</td>\n",
              "      <td>2.8000000</td>\n",
              "      <td>https://www.amazon.com/product-reviews/B0081TDISI</td>\n",
              "      <td>10</td>\n",
              "      <td>0.0000000</td>\n",
              "      <td>0.0000000</td>\n",
              "    </tr>\n",
              "    <tr>\n",
              "      <th>505</th>\n",
              "      <td>B07MF3JM4T</td>\n",
              "      <td>Motorola</td>\n",
              "      <td>Motorola Moto One - Android One - 64 GB - 13+2...</td>\n",
              "      <td>https://www.amazon.com/Motorola-Moto-One-Smart...</td>\n",
              "      <td>https://m.media-amazon.com/images/I/51Hy0ypovH...</td>\n",
              "      <td>4.1000000</td>\n",
              "      <td>https://www.amazon.com/product-reviews/B07MF3JM4T</td>\n",
              "      <td>199</td>\n",
              "      <td>162.7200000</td>\n",
              "      <td>0.0000000</td>\n",
              "    </tr>\n",
              "  </tbody>\n",
              "</table>\n",
              "</div>"
            ],
            "text/plain": [
              "           asin     brand                                              title  \\\n",
              "86   B00QHJTOK0   Samsung         Samsung Galaxy Centura SCH-S738C - (Net10)   \n",
              "705  B07Z41LHPB   Samsung  Samsung Galaxy Note 10+ Plus 256GB GSM Unlocke...   \n",
              "448  B07H8QMZWV   Samsung  Samsung Galaxy Note9 Factory Unlocked Phone wi...   \n",
              "27   B0081TDISI  Motorola          Motorola Brute i686 Rugged PTT For Sprint   \n",
              "505  B07MF3JM4T  Motorola  Motorola Moto One - Android One - 64 GB - 13+2...   \n",
              "\n",
              "                                                   url  \\\n",
              "86   https://www.amazon.com/Samsung-Galaxy-Centura-...   \n",
              "705  https://www.amazon.com/Samsung-Galaxy-Unlocked...   \n",
              "448  https://www.amazon.com/Samsung-Unlocked-Warran...   \n",
              "27   https://www.amazon.com/Motorola-Brute-i686-Rug...   \n",
              "505  https://www.amazon.com/Motorola-Moto-One-Smart...   \n",
              "\n",
              "                                                 image    rating  \\\n",
              "86   https://m.media-amazon.com/images/I/411mIDKCYz... 1.0000000   \n",
              "705  https://m.media-amazon.com/images/I/618bEcxx-a... 2.8000000   \n",
              "448  https://m.media-amazon.com/images/I/716U2tmcWI... 4.1000000   \n",
              "27   https://m.media-amazon.com/images/I/614NiqhyYO... 2.8000000   \n",
              "505  https://m.media-amazon.com/images/I/51Hy0ypovH... 4.1000000   \n",
              "\n",
              "                                             reviewUrl  totalReviews  \\\n",
              "86   https://www.amazon.com/product-reviews/B00QHJTOK0             1   \n",
              "705  https://www.amazon.com/product-reviews/B07Z41LHPB            11   \n",
              "448  https://www.amazon.com/product-reviews/B07H8QMZWV             1   \n",
              "27   https://www.amazon.com/product-reviews/B0081TDISI            10   \n",
              "505  https://www.amazon.com/product-reviews/B07MF3JM4T           199   \n",
              "\n",
              "          price  originalPrice  \n",
              "86    0.0000000      0.0000000  \n",
              "705 659.0000000      0.0000000  \n",
              "448 399.0000000      0.0000000  \n",
              "27    0.0000000      0.0000000  \n",
              "505 162.7200000      0.0000000  "
            ]
          },
          "metadata": {
            "tags": []
          },
          "execution_count": 6
        }
      ]
    },
    {
      "cell_type": "code",
      "metadata": {
        "colab": {
          "base_uri": "https://localhost:8080/",
          "height": 208
        },
        "id": "CF0VpsTtyelV",
        "outputId": "cbac6ee5-9a03-4fec-c2b0-c8f0353cc7b3"
      },
      "source": [
        "reviews_df.sample(5)"
      ],
      "execution_count": 7,
      "outputs": [
        {
          "output_type": "execute_result",
          "data": {
            "text/html": [
              "<div>\n",
              "<style scoped>\n",
              "    .dataframe tbody tr th:only-of-type {\n",
              "        vertical-align: middle;\n",
              "    }\n",
              "\n",
              "    .dataframe tbody tr th {\n",
              "        vertical-align: top;\n",
              "    }\n",
              "\n",
              "    .dataframe thead th {\n",
              "        text-align: right;\n",
              "    }\n",
              "</style>\n",
              "<table border=\"1\" class=\"dataframe\">\n",
              "  <thead>\n",
              "    <tr style=\"text-align: right;\">\n",
              "      <th></th>\n",
              "      <th>asin</th>\n",
              "      <th>name</th>\n",
              "      <th>rating</th>\n",
              "      <th>date</th>\n",
              "      <th>verified</th>\n",
              "      <th>title</th>\n",
              "      <th>body</th>\n",
              "      <th>helpfulVotes</th>\n",
              "    </tr>\n",
              "  </thead>\n",
              "  <tbody>\n",
              "    <tr>\n",
              "      <th>31436</th>\n",
              "      <td>B06XRG6S73</td>\n",
              "      <td>Tochukwu I.</td>\n",
              "      <td>2</td>\n",
              "      <td>March 25, 2019</td>\n",
              "      <td>True</td>\n",
              "      <td>Most certainly would come with a bad battery</td>\n",
              "      <td>Buy but be warned the battery would come dead ...</td>\n",
              "      <td>nan</td>\n",
              "    </tr>\n",
              "    <tr>\n",
              "      <th>6786</th>\n",
              "      <td>B00D99ZBR6</td>\n",
              "      <td>Esmeralda</td>\n",
              "      <td>1</td>\n",
              "      <td>March 23, 2015</td>\n",
              "      <td>True</td>\n",
              "      <td>I got 99 problems&amp;this phone is one</td>\n",
              "      <td>neighbor got this phone&amp;gave her a lot of prob...</td>\n",
              "      <td>nan</td>\n",
              "    </tr>\n",
              "    <tr>\n",
              "      <th>65795</th>\n",
              "      <td>B07VZL3L5V</td>\n",
              "      <td>Ivan</td>\n",
              "      <td>5</td>\n",
              "      <td>August 14, 2019</td>\n",
              "      <td>True</td>\n",
              "      <td>What a good phone!</td>\n",
              "      <td>I dont need to get another expensive-high leve...</td>\n",
              "      <td>nan</td>\n",
              "    </tr>\n",
              "    <tr>\n",
              "      <th>15408</th>\n",
              "      <td>B00V7FY44A</td>\n",
              "      <td>Diamond Russell</td>\n",
              "      <td>1</td>\n",
              "      <td>July 15, 2016</td>\n",
              "      <td>True</td>\n",
              "      <td>so it is now useless and was a waste of my mon...</td>\n",
              "      <td>It didn't fit my phone screen, so it is now us...</td>\n",
              "      <td>nan</td>\n",
              "    </tr>\n",
              "    <tr>\n",
              "      <th>61161</th>\n",
              "      <td>B07Q84DPZH</td>\n",
              "      <td>R.L.</td>\n",
              "      <td>5</td>\n",
              "      <td>August 2, 2019</td>\n",
              "      <td>True</td>\n",
              "      <td>Amazing Phone</td>\n",
              "      <td>The phone came with lovely features</td>\n",
              "      <td>nan</td>\n",
              "    </tr>\n",
              "  </tbody>\n",
              "</table>\n",
              "</div>"
            ],
            "text/plain": [
              "             asin             name  rating             date  verified  \\\n",
              "31436  B06XRG6S73      Tochukwu I.       2   March 25, 2019      True   \n",
              "6786   B00D99ZBR6        Esmeralda       1   March 23, 2015      True   \n",
              "65795  B07VZL3L5V             Ivan       5  August 14, 2019      True   \n",
              "15408  B00V7FY44A  Diamond Russell       1    July 15, 2016      True   \n",
              "61161  B07Q84DPZH             R.L.       5   August 2, 2019      True   \n",
              "\n",
              "                                                   title  \\\n",
              "31436       Most certainly would come with a bad battery   \n",
              "6786                 I got 99 problems&this phone is one   \n",
              "65795                                 What a good phone!   \n",
              "15408  so it is now useless and was a waste of my mon...   \n",
              "61161                                      Amazing Phone   \n",
              "\n",
              "                                                    body  helpfulVotes  \n",
              "31436  Buy but be warned the battery would come dead ...           nan  \n",
              "6786   neighbor got this phone&gave her a lot of prob...           nan  \n",
              "65795  I dont need to get another expensive-high leve...           nan  \n",
              "15408  It didn't fit my phone screen, so it is now us...           nan  \n",
              "61161                The phone came with lovely features           nan  "
            ]
          },
          "metadata": {
            "tags": []
          },
          "execution_count": 7
        }
      ]
    },
    {
      "cell_type": "code",
      "metadata": {
        "colab": {
          "base_uri": "https://localhost:8080/"
        },
        "id": "HvkMiLaL0PeY",
        "outputId": "8fafd435-6464-494b-f892-35364e67a552"
      },
      "source": [
        "product_df.shape"
      ],
      "execution_count": 8,
      "outputs": [
        {
          "output_type": "execute_result",
          "data": {
            "text/plain": [
              "(720, 10)"
            ]
          },
          "metadata": {
            "tags": []
          },
          "execution_count": 8
        }
      ]
    },
    {
      "cell_type": "code",
      "metadata": {
        "colab": {
          "base_uri": "https://localhost:8080/"
        },
        "id": "pwjbOz0P0PjS",
        "outputId": "728b0f8e-8015-4e8f-df38-5ea2f8a0ea6f"
      },
      "source": [
        "reviews_df.shape"
      ],
      "execution_count": 9,
      "outputs": [
        {
          "output_type": "execute_result",
          "data": {
            "text/plain": [
              "(67986, 8)"
            ]
          },
          "metadata": {
            "tags": []
          },
          "execution_count": 9
        }
      ]
    },
    {
      "cell_type": "markdown",
      "metadata": {
        "id": "rED6DbDBKTjM"
      },
      "source": [
        "## 4.  Data Analysis and EDA"
      ]
    },
    {
      "cell_type": "markdown",
      "metadata": {
        "id": "awlqmp40xMfc"
      },
      "source": [
        "### 4.1 Drop unnecessary columns like 'url', 'image' from the product_data"
      ]
    },
    {
      "cell_type": "code",
      "metadata": {
        "id": "VT4d-6TCxZCm"
      },
      "source": [
        "col = ['url','image','reviewUrl']\n",
        "product_df.drop(col,inplace=True,axis=1)"
      ],
      "execution_count": 10,
      "outputs": []
    },
    {
      "cell_type": "code",
      "metadata": {
        "colab": {
          "base_uri": "https://localhost:8080/"
        },
        "id": "-IYfjHxZ0hgx",
        "outputId": "6907f4d1-261f-4b67-aa07-e06046fb953e"
      },
      "source": [
        "product_df.shape"
      ],
      "execution_count": 11,
      "outputs": [
        {
          "output_type": "execute_result",
          "data": {
            "text/plain": [
              "(720, 7)"
            ]
          },
          "metadata": {
            "tags": []
          },
          "execution_count": 11
        }
      ]
    },
    {
      "cell_type": "markdown",
      "metadata": {
        "id": "Zk0WW5D5xZK9"
      },
      "source": [
        "### 4.2 Check statistical summary of both datasets. Note:- Include both numerical and object type columns."
      ]
    },
    {
      "cell_type": "code",
      "metadata": {
        "id": "ylwcqQpcx_Tl",
        "colab": {
          "base_uri": "https://localhost:8080/",
          "height": 396
        },
        "outputId": "18d0d0d0-e422-4abe-8f49-5fde23143beb"
      },
      "source": [
        "product_df.describe(include='all')"
      ],
      "execution_count": 111,
      "outputs": [
        {
          "output_type": "execute_result",
          "data": {
            "text/html": [
              "<div>\n",
              "<style scoped>\n",
              "    .dataframe tbody tr th:only-of-type {\n",
              "        vertical-align: middle;\n",
              "    }\n",
              "\n",
              "    .dataframe tbody tr th {\n",
              "        vertical-align: top;\n",
              "    }\n",
              "\n",
              "    .dataframe thead th {\n",
              "        text-align: right;\n",
              "    }\n",
              "</style>\n",
              "<table border=\"1\" class=\"dataframe\">\n",
              "  <thead>\n",
              "    <tr style=\"text-align: right;\">\n",
              "      <th></th>\n",
              "      <th>asin</th>\n",
              "      <th>brand</th>\n",
              "      <th>title</th>\n",
              "      <th>rating</th>\n",
              "      <th>totalReviews</th>\n",
              "      <th>price</th>\n",
              "      <th>originalPrice</th>\n",
              "    </tr>\n",
              "  </thead>\n",
              "  <tbody>\n",
              "    <tr>\n",
              "      <th>count</th>\n",
              "      <td>720</td>\n",
              "      <td>716</td>\n",
              "      <td>720</td>\n",
              "      <td>720.0000000</td>\n",
              "      <td>720.0000000</td>\n",
              "      <td>720.0000000</td>\n",
              "      <td>720.0000000</td>\n",
              "    </tr>\n",
              "    <tr>\n",
              "      <th>unique</th>\n",
              "      <td>720</td>\n",
              "      <td>10</td>\n",
              "      <td>718</td>\n",
              "      <td>nan</td>\n",
              "      <td>nan</td>\n",
              "      <td>nan</td>\n",
              "      <td>nan</td>\n",
              "    </tr>\n",
              "    <tr>\n",
              "      <th>top</th>\n",
              "      <td>B07JZRL7N5</td>\n",
              "      <td>Samsung</td>\n",
              "      <td>Google Pixel 2 XL 128GB Unlocked GSM/CDMA 4G LTE Octa-Core Phone w/ 12.2MP Camera - Just Black</td>\n",
              "      <td>nan</td>\n",
              "      <td>nan</td>\n",
              "      <td>nan</td>\n",
              "      <td>nan</td>\n",
              "    </tr>\n",
              "    <tr>\n",
              "      <th>freq</th>\n",
              "      <td>1</td>\n",
              "      <td>346</td>\n",
              "      <td>2</td>\n",
              "      <td>nan</td>\n",
              "      <td>nan</td>\n",
              "      <td>nan</td>\n",
              "      <td>nan</td>\n",
              "    </tr>\n",
              "    <tr>\n",
              "      <th>mean</th>\n",
              "      <td>NaN</td>\n",
              "      <td>NaN</td>\n",
              "      <td>NaN</td>\n",
              "      <td>3.7137500</td>\n",
              "      <td>105.6791667</td>\n",
              "      <td>234.9489306</td>\n",
              "      <td>63.6907778</td>\n",
              "    </tr>\n",
              "    <tr>\n",
              "      <th>std</th>\n",
              "      <td>NaN</td>\n",
              "      <td>NaN</td>\n",
              "      <td>NaN</td>\n",
              "      <td>0.7160138</td>\n",
              "      <td>167.6011014</td>\n",
              "      <td>200.0084407</td>\n",
              "      <td>172.4053696</td>\n",
              "    </tr>\n",
              "    <tr>\n",
              "      <th>min</th>\n",
              "      <td>NaN</td>\n",
              "      <td>NaN</td>\n",
              "      <td>NaN</td>\n",
              "      <td>1.0000000</td>\n",
              "      <td>1.0000000</td>\n",
              "      <td>0.0000000</td>\n",
              "      <td>0.0000000</td>\n",
              "    </tr>\n",
              "    <tr>\n",
              "      <th>25%</th>\n",
              "      <td>NaN</td>\n",
              "      <td>NaN</td>\n",
              "      <td>NaN</td>\n",
              "      <td>3.3000000</td>\n",
              "      <td>7.0000000</td>\n",
              "      <td>97.5125000</td>\n",
              "      <td>0.0000000</td>\n",
              "    </tr>\n",
              "    <tr>\n",
              "      <th>50%</th>\n",
              "      <td>NaN</td>\n",
              "      <td>NaN</td>\n",
              "      <td>NaN</td>\n",
              "      <td>3.8000000</td>\n",
              "      <td>32.0000000</td>\n",
              "      <td>188.9750000</td>\n",
              "      <td>0.0000000</td>\n",
              "    </tr>\n",
              "    <tr>\n",
              "      <th>75%</th>\n",
              "      <td>NaN</td>\n",
              "      <td>NaN</td>\n",
              "      <td>NaN</td>\n",
              "      <td>4.1000000</td>\n",
              "      <td>122.2500000</td>\n",
              "      <td>336.7250000</td>\n",
              "      <td>0.0000000</td>\n",
              "    </tr>\n",
              "    <tr>\n",
              "      <th>max</th>\n",
              "      <td>NaN</td>\n",
              "      <td>NaN</td>\n",
              "      <td>NaN</td>\n",
              "      <td>5.0000000</td>\n",
              "      <td>983.0000000</td>\n",
              "      <td>999.9900000</td>\n",
              "      <td>999.9900000</td>\n",
              "    </tr>\n",
              "  </tbody>\n",
              "</table>\n",
              "</div>"
            ],
            "text/plain": [
              "              asin    brand  \\\n",
              "count          720      716   \n",
              "unique         720       10   \n",
              "top     B07JZRL7N5  Samsung   \n",
              "freq             1      346   \n",
              "mean           NaN      NaN   \n",
              "std            NaN      NaN   \n",
              "min            NaN      NaN   \n",
              "25%            NaN      NaN   \n",
              "50%            NaN      NaN   \n",
              "75%            NaN      NaN   \n",
              "max            NaN      NaN   \n",
              "\n",
              "                                                                                                 title  \\\n",
              "count                                                                                              720   \n",
              "unique                                                                                             718   \n",
              "top     Google Pixel 2 XL 128GB Unlocked GSM/CDMA 4G LTE Octa-Core Phone w/ 12.2MP Camera - Just Black   \n",
              "freq                                                                                                 2   \n",
              "mean                                                                                               NaN   \n",
              "std                                                                                                NaN   \n",
              "min                                                                                                NaN   \n",
              "25%                                                                                                NaN   \n",
              "50%                                                                                                NaN   \n",
              "75%                                                                                                NaN   \n",
              "max                                                                                                NaN   \n",
              "\n",
              "            rating  totalReviews       price  originalPrice  \n",
              "count  720.0000000   720.0000000 720.0000000    720.0000000  \n",
              "unique         nan           nan         nan            nan  \n",
              "top            nan           nan         nan            nan  \n",
              "freq           nan           nan         nan            nan  \n",
              "mean     3.7137500   105.6791667 234.9489306     63.6907778  \n",
              "std      0.7160138   167.6011014 200.0084407    172.4053696  \n",
              "min      1.0000000     1.0000000   0.0000000      0.0000000  \n",
              "25%      3.3000000     7.0000000  97.5125000      0.0000000  \n",
              "50%      3.8000000    32.0000000 188.9750000      0.0000000  \n",
              "75%      4.1000000   122.2500000 336.7250000      0.0000000  \n",
              "max      5.0000000   983.0000000 999.9900000    999.9900000  "
            ]
          },
          "metadata": {
            "tags": []
          },
          "execution_count": 111
        }
      ]
    },
    {
      "cell_type": "code",
      "metadata": {
        "id": "WFaDkvIjyDtG",
        "colab": {
          "base_uri": "https://localhost:8080/",
          "height": 396
        },
        "outputId": "22a5c67a-d67c-48dc-9a93-3f80518f24d3"
      },
      "source": [
        "reviews_df.describe(include='all')"
      ],
      "execution_count": 13,
      "outputs": [
        {
          "output_type": "execute_result",
          "data": {
            "text/html": [
              "<div>\n",
              "<style scoped>\n",
              "    .dataframe tbody tr th:only-of-type {\n",
              "        vertical-align: middle;\n",
              "    }\n",
              "\n",
              "    .dataframe tbody tr th {\n",
              "        vertical-align: top;\n",
              "    }\n",
              "\n",
              "    .dataframe thead th {\n",
              "        text-align: right;\n",
              "    }\n",
              "</style>\n",
              "<table border=\"1\" class=\"dataframe\">\n",
              "  <thead>\n",
              "    <tr style=\"text-align: right;\">\n",
              "      <th></th>\n",
              "      <th>asin</th>\n",
              "      <th>name</th>\n",
              "      <th>rating</th>\n",
              "      <th>date</th>\n",
              "      <th>verified</th>\n",
              "      <th>title</th>\n",
              "      <th>body</th>\n",
              "      <th>helpfulVotes</th>\n",
              "    </tr>\n",
              "  </thead>\n",
              "  <tbody>\n",
              "    <tr>\n",
              "      <th>count</th>\n",
              "      <td>67986</td>\n",
              "      <td>67984</td>\n",
              "      <td>67986.0000000</td>\n",
              "      <td>67986</td>\n",
              "      <td>67986</td>\n",
              "      <td>67972</td>\n",
              "      <td>67965</td>\n",
              "      <td>27215.0000000</td>\n",
              "    </tr>\n",
              "    <tr>\n",
              "      <th>unique</th>\n",
              "      <td>720</td>\n",
              "      <td>47323</td>\n",
              "      <td>nan</td>\n",
              "      <td>2983</td>\n",
              "      <td>2</td>\n",
              "      <td>41489</td>\n",
              "      <td>59811</td>\n",
              "      <td>nan</td>\n",
              "    </tr>\n",
              "    <tr>\n",
              "      <th>top</th>\n",
              "      <td>B00F2SKPIM</td>\n",
              "      <td>Amazon Customer</td>\n",
              "      <td>nan</td>\n",
              "      <td>December 11, 2019</td>\n",
              "      <td>True</td>\n",
              "      <td>Five Stars</td>\n",
              "      <td>Good</td>\n",
              "      <td>nan</td>\n",
              "    </tr>\n",
              "    <tr>\n",
              "      <th>freq</th>\n",
              "      <td>981</td>\n",
              "      <td>6507</td>\n",
              "      <td>nan</td>\n",
              "      <td>234</td>\n",
              "      <td>61225</td>\n",
              "      <td>6043</td>\n",
              "      <td>303</td>\n",
              "      <td>nan</td>\n",
              "    </tr>\n",
              "    <tr>\n",
              "      <th>mean</th>\n",
              "      <td>NaN</td>\n",
              "      <td>NaN</td>\n",
              "      <td>3.8079163</td>\n",
              "      <td>NaN</td>\n",
              "      <td>NaN</td>\n",
              "      <td>NaN</td>\n",
              "      <td>NaN</td>\n",
              "      <td>8.2296895</td>\n",
              "    </tr>\n",
              "    <tr>\n",
              "      <th>std</th>\n",
              "      <td>NaN</td>\n",
              "      <td>NaN</td>\n",
              "      <td>1.5829058</td>\n",
              "      <td>NaN</td>\n",
              "      <td>NaN</td>\n",
              "      <td>NaN</td>\n",
              "      <td>NaN</td>\n",
              "      <td>31.9548772</td>\n",
              "    </tr>\n",
              "    <tr>\n",
              "      <th>min</th>\n",
              "      <td>NaN</td>\n",
              "      <td>NaN</td>\n",
              "      <td>1.0000000</td>\n",
              "      <td>NaN</td>\n",
              "      <td>NaN</td>\n",
              "      <td>NaN</td>\n",
              "      <td>NaN</td>\n",
              "      <td>1.0000000</td>\n",
              "    </tr>\n",
              "    <tr>\n",
              "      <th>25%</th>\n",
              "      <td>NaN</td>\n",
              "      <td>NaN</td>\n",
              "      <td>3.0000000</td>\n",
              "      <td>NaN</td>\n",
              "      <td>NaN</td>\n",
              "      <td>NaN</td>\n",
              "      <td>NaN</td>\n",
              "      <td>1.0000000</td>\n",
              "    </tr>\n",
              "    <tr>\n",
              "      <th>50%</th>\n",
              "      <td>NaN</td>\n",
              "      <td>NaN</td>\n",
              "      <td>5.0000000</td>\n",
              "      <td>NaN</td>\n",
              "      <td>NaN</td>\n",
              "      <td>NaN</td>\n",
              "      <td>NaN</td>\n",
              "      <td>2.0000000</td>\n",
              "    </tr>\n",
              "    <tr>\n",
              "      <th>75%</th>\n",
              "      <td>NaN</td>\n",
              "      <td>NaN</td>\n",
              "      <td>5.0000000</td>\n",
              "      <td>NaN</td>\n",
              "      <td>NaN</td>\n",
              "      <td>NaN</td>\n",
              "      <td>NaN</td>\n",
              "      <td>5.0000000</td>\n",
              "    </tr>\n",
              "    <tr>\n",
              "      <th>max</th>\n",
              "      <td>NaN</td>\n",
              "      <td>NaN</td>\n",
              "      <td>5.0000000</td>\n",
              "      <td>NaN</td>\n",
              "      <td>NaN</td>\n",
              "      <td>NaN</td>\n",
              "      <td>NaN</td>\n",
              "      <td>990.0000000</td>\n",
              "    </tr>\n",
              "  </tbody>\n",
              "</table>\n",
              "</div>"
            ],
            "text/plain": [
              "              asin             name        rating               date verified  \\\n",
              "count        67986            67984 67986.0000000              67986    67986   \n",
              "unique         720            47323           nan               2983        2   \n",
              "top     B00F2SKPIM  Amazon Customer           nan  December 11, 2019     True   \n",
              "freq           981             6507           nan                234    61225   \n",
              "mean           NaN              NaN     3.8079163                NaN      NaN   \n",
              "std            NaN              NaN     1.5829058                NaN      NaN   \n",
              "min            NaN              NaN     1.0000000                NaN      NaN   \n",
              "25%            NaN              NaN     3.0000000                NaN      NaN   \n",
              "50%            NaN              NaN     5.0000000                NaN      NaN   \n",
              "75%            NaN              NaN     5.0000000                NaN      NaN   \n",
              "max            NaN              NaN     5.0000000                NaN      NaN   \n",
              "\n",
              "             title   body  helpfulVotes  \n",
              "count        67972  67965 27215.0000000  \n",
              "unique       41489  59811           nan  \n",
              "top     Five Stars   Good           nan  \n",
              "freq          6043    303           nan  \n",
              "mean           NaN    NaN     8.2296895  \n",
              "std            NaN    NaN    31.9548772  \n",
              "min            NaN    NaN     1.0000000  \n",
              "25%            NaN    NaN     1.0000000  \n",
              "50%            NaN    NaN     2.0000000  \n",
              "75%            NaN    NaN     5.0000000  \n",
              "max            NaN    NaN   990.0000000  "
            ]
          },
          "metadata": {
            "tags": []
          },
          "execution_count": 13
        }
      ]
    },
    {
      "cell_type": "markdown",
      "metadata": {
        "id": "cSdGfadUyEdU"
      },
      "source": [
        "### 4.3 From the above statistical summary, write inferences like count of unique products, top brand, top title, range of rating, price range, etc"
      ]
    },
    {
      "cell_type": "markdown",
      "metadata": {
        "id": "Z5S-z0XB2go-"
      },
      "source": [
        "# **Observations:**\n",
        "\n",
        "- There are 720 unique products are listed with 4 brands are missing names. There are 10 unique Brands are available in the dataset.\n",
        "- Top Brand is lised as Samsung.\n",
        "- Top title is Google Pixel 2 XL 128GB Unlocked GSM/CDMA 4G L...\n",
        "- Range of Rating is from min 1 to max 5, Where the 25% Quantile rating is of 3.3, 50% Quantile rating is of 3.8 and 75% Quantile rating is of 4.1\n",
        "- Range of price  falls from USD 0.00 to 999.00. On checking the Mobile price with 0.00 $ looks like a replacement Mobile.\n",
        "- Mean Mobile range is USD 234.00, first Quantile range of mobile price is about USD 97.51, 2nd Quantile range is USD 188.97 and the 3rd Quantile range is USD 188.97\n",
        "- On Comparing the Mean Sales Price and Mean Original price we can conclude the Mobiles are sold at high cost from their original price."
      ]
    },
    {
      "cell_type": "markdown",
      "metadata": {
        "id": "XMv_hXyxJKZK"
      },
      "source": [
        "### 4.4 Analyze the distribution of ratings and other categorical features like brand, etc"
      ]
    },
    {
      "cell_type": "code",
      "metadata": {
        "id": "oEhjSsMcyirD",
        "colab": {
          "base_uri": "https://localhost:8080/",
          "height": 515
        },
        "outputId": "efef46d8-9585-4290-91a2-44d17d46a387"
      },
      "source": [
        "plt.figure(figsize=(10,8))\n",
        "sns.countplot(data=product_df,x=product_df.brand,saturation=0.80)"
      ],
      "execution_count": 14,
      "outputs": [
        {
          "output_type": "execute_result",
          "data": {
            "text/plain": [
              "<matplotlib.axes._subplots.AxesSubplot at 0x7f44f841f410>"
            ]
          },
          "metadata": {
            "tags": []
          },
          "execution_count": 14
        },
        {
          "output_type": "display_data",
          "data": {
            "image/png": "[encoded data removed]",
            "text/plain": [
              "<Figure size 720x576 with 1 Axes>"
            ]
          },
          "metadata": {
            "tags": [],
            "needs_background": "light"
          }
        }
      ]
    },
    {
      "cell_type": "markdown",
      "metadata": {
        "id": "rGde-9d29C92"
      },
      "source": [
        "# **Observation:**\n",
        "\n",
        "-  Looks like Samsung has topped the list with most number of models on comparing with other brands.\n",
        "\n",
        "- Motorola has the second most number of models.\n",
        "- Apple is the third among the list.\n",
        "- Asus has the least number of models in the list."
      ]
    },
    {
      "cell_type": "code",
      "metadata": {
        "colab": {
          "base_uri": "https://localhost:8080/",
          "height": 507
        },
        "id": "FjS9mH-68O65",
        "outputId": "20906403-3acc-4424-ed46-e4de3509011f"
      },
      "source": [
        "plt.figure(figsize=(10,8))\n",
        "product_df['rating'].value_counts().sort_values(ascending=False).plot(kind='bar')"
      ],
      "execution_count": 114,
      "outputs": [
        {
          "output_type": "execute_result",
          "data": {
            "text/plain": [
              "<matplotlib.axes._subplots.AxesSubplot at 0x7f44d5c74890>"
            ]
          },
          "metadata": {
            "tags": []
          },
          "execution_count": 114
        },
        {
          "output_type": "display_data",
          "data": {
            "image/png": "[encoded data removed]",
            "text/plain": [
              "<Figure size 720x576 with 1 Axes>"
            ]
          },
          "metadata": {
            "tags": [],
            "needs_background": "light"
          }
        }
      ]
    },
    {
      "cell_type": "markdown",
      "metadata": {
        "id": "nnyj_3Wt_6RE"
      },
      "source": [
        "# **Observation:**\n",
        "\n",
        "- Seeing that most of the products has a above average ratings and only few products are with below average ratings."
      ]
    },
    {
      "cell_type": "markdown",
      "metadata": {
        "id": "jwZBGODgyi1a"
      },
      "source": [
        "### 4.5 Display average rating per brand"
      ]
    },
    {
      "cell_type": "code",
      "metadata": {
        "id": "OSBBiAv8yscd",
        "colab": {
          "base_uri": "https://localhost:8080/"
        },
        "outputId": "2cedbb00-87ea-4b7d-d2d1-9f1092944a0e"
      },
      "source": [
        "product_df.groupby('brand')['rating'].mean().sort_values(ascending=False)"
      ],
      "execution_count": 16,
      "outputs": [
        {
          "output_type": "execute_result",
          "data": {
            "text/plain": [
              "brand\n",
              "Xiaomi     4.4152174\n",
              "HUAWEI     4.0218750\n",
              "ASUS       3.8600000\n",
              "Sony       3.7888889\n",
              "Apple      3.7825397\n",
              "Google     3.7710526\n",
              "Motorola   3.6438095\n",
              "Samsung    3.6326590\n",
              "OnePlus    3.5800000\n",
              "Nokia      3.3863636\n",
              "Name: rating, dtype: float64"
            ]
          },
          "metadata": {
            "tags": []
          },
          "execution_count": 16
        }
      ]
    },
    {
      "cell_type": "code",
      "metadata": {
        "colab": {
          "base_uri": "https://localhost:8080/",
          "height": 567
        },
        "id": "h0Idu5Tf9ozb",
        "outputId": "a70e7ea6-f584-4758-9209-1ed49adccc15"
      },
      "source": [
        "plt.figure(figsize=(10,8))\n",
        "product_df.groupby('brand')['rating'].mean().sort_values(ascending=False).plot(kind='bar',title=\"Average Rating Per Brand\")"
      ],
      "execution_count": 17,
      "outputs": [
        {
          "output_type": "execute_result",
          "data": {
            "text/plain": [
              "<matplotlib.axes._subplots.AxesSubplot at 0x7f44f6062d90>"
            ]
          },
          "metadata": {
            "tags": []
          },
          "execution_count": 17
        },
        {
          "output_type": "display_data",
          "data": {
            "image/png": "[encoded data removed]",
            "text/plain": [
              "<Figure size 720x576 with 1 Axes>"
            ]
          },
          "metadata": {
            "tags": [],
            "needs_background": "light"
          }
        }
      ]
    },
    {
      "cell_type": "markdown",
      "metadata": {
        "id": "vUXuEwlgyvB0"
      },
      "source": [
        "# **Observations:**\n",
        "\n",
        "- Xiaomi has the average rating as above 4\n",
        "- All the other brands has the average rating above 3."
      ]
    },
    {
      "cell_type": "markdown",
      "metadata": {
        "id": "ToxAVBLMGO15"
      },
      "source": [
        "### 4.6 Display average price per brand"
      ]
    },
    {
      "cell_type": "code",
      "metadata": {
        "id": "ACgIwVlyy3Pu",
        "colab": {
          "base_uri": "https://localhost:8080/",
          "height": 253
        },
        "outputId": "de890f27-fdfb-4014-f03a-ab4c820eae4d"
      },
      "source": [
        "product_df.groupby('brand')['price'].mean().sort_values(ascending=False)"
      ],
      "execution_count": 116,
      "outputs": [
        {
          "output_type": "execute_result",
          "data": {
            "text/plain": [
              "brand\n",
              "OnePlus    426.1960000\n",
              "Sony       332.7248148\n",
              "ASUS       309.6860000\n",
              "Apple      303.5811111\n",
              "Samsung    256.5272543\n",
              "Google     241.8676316\n",
              "HUAWEI     218.8290625\n",
              "Xiaomi     214.9676087\n",
              "Motorola   139.1210476\n",
              "Nokia      111.4438636\n",
              "Name: price, dtype: float64"
            ]
          },
          "metadata": {
            "tags": []
          },
          "execution_count": 116
        },
        {
          "output_type": "display_data",
          "data": {
            "text/plain": [
              "<Figure size 720x576 with 0 Axes>"
            ]
          },
          "metadata": {
            "tags": []
          }
        }
      ]
    },
    {
      "cell_type": "code",
      "metadata": {
        "colab": {
          "base_uri": "https://localhost:8080/",
          "height": 567
        },
        "id": "haS_ORQO-u1B",
        "outputId": "f5d707f6-7674-4371-a52b-50194f2149a0"
      },
      "source": [
        "plt.figure(figsize=(10,8))\n",
        "product_df.groupby('brand')['price'].mean().sort_values(ascending=False).plot(kind='bar',title=\"Average Price Per Brand\")"
      ],
      "execution_count": 117,
      "outputs": [
        {
          "output_type": "execute_result",
          "data": {
            "text/plain": [
              "<matplotlib.axes._subplots.AxesSubplot at 0x7f44d3fe06d0>"
            ]
          },
          "metadata": {
            "tags": []
          },
          "execution_count": 117
        },
        {
          "output_type": "display_data",
          "data": {
            "image/png": "[encoded data removed]",
            "text/plain": [
              "<Figure size 720x576 with 1 Axes>"
            ]
          },
          "metadata": {
            "tags": [],
            "needs_background": "light"
          }
        }
      ]
    },
    {
      "cell_type": "markdown",
      "metadata": {
        "id": "ZT7j739eFlrm"
      },
      "source": [
        "# **Observations:**\n",
        "\n",
        "- Oneplus mobiles cost more.\n",
        "- Nokia is the least priced mobile."
      ]
    },
    {
      "cell_type": "markdown",
      "metadata": {
        "id": "U0JfwL74y3a-"
      },
      "source": [
        "### 4.7 Display average 'totalReviews' per brand"
      ]
    },
    {
      "cell_type": "code",
      "metadata": {
        "id": "wfzciNxqzBYu",
        "colab": {
          "base_uri": "https://localhost:8080/"
        },
        "outputId": "9a7c23e2-46f0-4b29-88c9-ee267df221c9"
      },
      "source": [
        "product_df.groupby('brand')['totalReviews'].mean().sort_values(ascending=False)"
      ],
      "execution_count": 20,
      "outputs": [
        {
          "output_type": "execute_result",
          "data": {
            "text/plain": [
              "brand\n",
              "Nokia      140.5000000\n",
              "Sony       122.6666667\n",
              "Xiaomi     121.1739130\n",
              "Google     111.5263158\n",
              "Samsung    108.9624277\n",
              "Apple      100.2380952\n",
              "Motorola    89.7047619\n",
              "HUAWEI      77.0937500\n",
              "ASUS        52.6000000\n",
              "OnePlus     40.6000000\n",
              "Name: totalReviews, dtype: float64"
            ]
          },
          "metadata": {
            "tags": []
          },
          "execution_count": 20
        }
      ]
    },
    {
      "cell_type": "code",
      "metadata": {
        "colab": {
          "base_uri": "https://localhost:8080/",
          "height": 567
        },
        "id": "eMJgLOoPAS03",
        "outputId": "09f25aa9-df3e-4646-bfc7-268b8c5beea6"
      },
      "source": [
        "plt.figure(figsize=(10,8))\n",
        "product_df.groupby('brand')['totalReviews'].mean().sort_values(ascending=False).plot(kind='bar',title=\"Total Reviews Per Brand\")"
      ],
      "execution_count": 118,
      "outputs": [
        {
          "output_type": "execute_result",
          "data": {
            "text/plain": [
              "<matplotlib.axes._subplots.AxesSubplot at 0x7f44d3f63390>"
            ]
          },
          "metadata": {
            "tags": []
          },
          "execution_count": 118
        },
        {
          "output_type": "display_data",
          "data": {
            "image/png": "[encoded data removed]",
            "text/plain": [
              "<Figure size 720x576 with 1 Axes>"
            ]
          },
          "metadata": {
            "tags": [],
            "needs_background": "light"
          }
        }
      ]
    },
    {
      "cell_type": "markdown",
      "metadata": {
        "id": "5ex2kwktGVdh"
      },
      "source": [
        "# **Observations:**\n",
        "\n",
        " - Nokia has the most number of reviews.\n",
        " - Oneplus has the least number of reviews."
      ]
    },
    {
      "cell_type": "markdown",
      "metadata": {
        "id": "x_fxI7OAeDUM"
      },
      "source": [
        "### 4.8 Merge two datasets using 'asin' and check the shape of the final dataset"
      ]
    },
    {
      "cell_type": "code",
      "metadata": {
        "id": "svpHfWI9zNAP"
      },
      "source": [
        "df = pd.merge(reviews_df,product_df,how='left',on='asin')"
      ],
      "execution_count": 22,
      "outputs": []
    },
    {
      "cell_type": "code",
      "metadata": {
        "colab": {
          "base_uri": "https://localhost:8080/",
          "height": 468
        },
        "id": "RHVoCFWaCNDy",
        "outputId": "0ed3626d-e0c0-47e5-e882-d8680b397344"
      },
      "source": [
        "df.head(5)"
      ],
      "execution_count": 23,
      "outputs": [
        {
          "output_type": "execute_result",
          "data": {
            "text/html": [
              "<div>\n",
              "<style scoped>\n",
              "    .dataframe tbody tr th:only-of-type {\n",
              "        vertical-align: middle;\n",
              "    }\n",
              "\n",
              "    .dataframe tbody tr th {\n",
              "        vertical-align: top;\n",
              "    }\n",
              "\n",
              "    .dataframe thead th {\n",
              "        text-align: right;\n",
              "    }\n",
              "</style>\n",
              "<table border=\"1\" class=\"dataframe\">\n",
              "  <thead>\n",
              "    <tr style=\"text-align: right;\">\n",
              "      <th></th>\n",
              "      <th>asin</th>\n",
              "      <th>name</th>\n",
              "      <th>rating_x</th>\n",
              "      <th>date</th>\n",
              "      <th>verified</th>\n",
              "      <th>title_x</th>\n",
              "      <th>body</th>\n",
              "      <th>helpfulVotes</th>\n",
              "      <th>brand</th>\n",
              "      <th>title_y</th>\n",
              "      <th>rating_y</th>\n",
              "      <th>totalReviews</th>\n",
              "      <th>price</th>\n",
              "      <th>originalPrice</th>\n",
              "    </tr>\n",
              "  </thead>\n",
              "  <tbody>\n",
              "    <tr>\n",
              "      <th>0</th>\n",
              "      <td>B0000SX2UC</td>\n",
              "      <td>Janet</td>\n",
              "      <td>3</td>\n",
              "      <td>October 11, 2005</td>\n",
              "      <td>False</td>\n",
              "      <td>Def not best, but not worst</td>\n",
              "      <td>I had the Samsung A600 for awhile which is abs...</td>\n",
              "      <td>1.0000000</td>\n",
              "      <td>NaN</td>\n",
              "      <td>Dual-Band / Tri-Mode Sprint PCS Phone w/ Voice...</td>\n",
              "      <td>3.0000000</td>\n",
              "      <td>14</td>\n",
              "      <td>0.0000000</td>\n",
              "      <td>0.0000000</td>\n",
              "    </tr>\n",
              "    <tr>\n",
              "      <th>1</th>\n",
              "      <td>B0000SX2UC</td>\n",
              "      <td>Luke Wyatt</td>\n",
              "      <td>1</td>\n",
              "      <td>January 7, 2004</td>\n",
              "      <td>False</td>\n",
              "      <td>Text Messaging Doesn't Work</td>\n",
              "      <td>Due to a software issue between Nokia and Spri...</td>\n",
              "      <td>17.0000000</td>\n",
              "      <td>NaN</td>\n",
              "      <td>Dual-Band / Tri-Mode Sprint PCS Phone w/ Voice...</td>\n",
              "      <td>3.0000000</td>\n",
              "      <td>14</td>\n",
              "      <td>0.0000000</td>\n",
              "      <td>0.0000000</td>\n",
              "    </tr>\n",
              "    <tr>\n",
              "      <th>2</th>\n",
              "      <td>B0000SX2UC</td>\n",
              "      <td>Brooke</td>\n",
              "      <td>5</td>\n",
              "      <td>December 30, 2003</td>\n",
              "      <td>False</td>\n",
              "      <td>Love This Phone</td>\n",
              "      <td>This is a great, reliable phone. I also purcha...</td>\n",
              "      <td>5.0000000</td>\n",
              "      <td>NaN</td>\n",
              "      <td>Dual-Band / Tri-Mode Sprint PCS Phone w/ Voice...</td>\n",
              "      <td>3.0000000</td>\n",
              "      <td>14</td>\n",
              "      <td>0.0000000</td>\n",
              "      <td>0.0000000</td>\n",
              "    </tr>\n",
              "    <tr>\n",
              "      <th>3</th>\n",
              "      <td>B0000SX2UC</td>\n",
              "      <td>amy m. teague</td>\n",
              "      <td>3</td>\n",
              "      <td>March 18, 2004</td>\n",
              "      <td>False</td>\n",
              "      <td>Love the Phone, BUT...!</td>\n",
              "      <td>I love the phone and all, because I really did...</td>\n",
              "      <td>1.0000000</td>\n",
              "      <td>NaN</td>\n",
              "      <td>Dual-Band / Tri-Mode Sprint PCS Phone w/ Voice...</td>\n",
              "      <td>3.0000000</td>\n",
              "      <td>14</td>\n",
              "      <td>0.0000000</td>\n",
              "      <td>0.0000000</td>\n",
              "    </tr>\n",
              "    <tr>\n",
              "      <th>4</th>\n",
              "      <td>B0000SX2UC</td>\n",
              "      <td>tristazbimmer</td>\n",
              "      <td>4</td>\n",
              "      <td>August 28, 2005</td>\n",
              "      <td>False</td>\n",
              "      <td>Great phone service and options, lousy case!</td>\n",
              "      <td>The phone has been great for every purpose it ...</td>\n",
              "      <td>1.0000000</td>\n",
              "      <td>NaN</td>\n",
              "      <td>Dual-Band / Tri-Mode Sprint PCS Phone w/ Voice...</td>\n",
              "      <td>3.0000000</td>\n",
              "      <td>14</td>\n",
              "      <td>0.0000000</td>\n",
              "      <td>0.0000000</td>\n",
              "    </tr>\n",
              "  </tbody>\n",
              "</table>\n",
              "</div>"
            ],
            "text/plain": [
              "         asin           name  rating_x               date  verified  \\\n",
              "0  B0000SX2UC          Janet         3   October 11, 2005     False   \n",
              "1  B0000SX2UC     Luke Wyatt         1    January 7, 2004     False   \n",
              "2  B0000SX2UC         Brooke         5  December 30, 2003     False   \n",
              "3  B0000SX2UC  amy m. teague         3     March 18, 2004     False   \n",
              "4  B0000SX2UC  tristazbimmer         4    August 28, 2005     False   \n",
              "\n",
              "                                        title_x  \\\n",
              "0                   Def not best, but not worst   \n",
              "1                   Text Messaging Doesn't Work   \n",
              "2                               Love This Phone   \n",
              "3                       Love the Phone, BUT...!   \n",
              "4  Great phone service and options, lousy case!   \n",
              "\n",
              "                                                body  helpfulVotes brand  \\\n",
              "0  I had the Samsung A600 for awhile which is abs...     1.0000000   NaN   \n",
              "1  Due to a software issue between Nokia and Spri...    17.0000000   NaN   \n",
              "2  This is a great, reliable phone. I also purcha...     5.0000000   NaN   \n",
              "3  I love the phone and all, because I really did...     1.0000000   NaN   \n",
              "4  The phone has been great for every purpose it ...     1.0000000   NaN   \n",
              "\n",
              "                                             title_y  rating_y  totalReviews  \\\n",
              "0  Dual-Band / Tri-Mode Sprint PCS Phone w/ Voice... 3.0000000            14   \n",
              "1  Dual-Band / Tri-Mode Sprint PCS Phone w/ Voice... 3.0000000            14   \n",
              "2  Dual-Band / Tri-Mode Sprint PCS Phone w/ Voice... 3.0000000            14   \n",
              "3  Dual-Band / Tri-Mode Sprint PCS Phone w/ Voice... 3.0000000            14   \n",
              "4  Dual-Band / Tri-Mode Sprint PCS Phone w/ Voice... 3.0000000            14   \n",
              "\n",
              "      price  originalPrice  \n",
              "0 0.0000000      0.0000000  \n",
              "1 0.0000000      0.0000000  \n",
              "2 0.0000000      0.0000000  \n",
              "3 0.0000000      0.0000000  \n",
              "4 0.0000000      0.0000000  "
            ]
          },
          "metadata": {
            "tags": []
          },
          "execution_count": 23
        }
      ]
    },
    {
      "cell_type": "code",
      "metadata": {
        "colab": {
          "base_uri": "https://localhost:8080/"
        },
        "id": "8XIQsl8SCZdE",
        "outputId": "cedcb32d-718d-470d-8fdc-137e0976b180"
      },
      "source": [
        "df.shape"
      ],
      "execution_count": 24,
      "outputs": [
        {
          "output_type": "execute_result",
          "data": {
            "text/plain": [
              "(67986, 14)"
            ]
          },
          "metadata": {
            "tags": []
          },
          "execution_count": 24
        }
      ]
    },
    {
      "cell_type": "code",
      "metadata": {
        "colab": {
          "base_uri": "https://localhost:8080/"
        },
        "id": "Yq9_ZytZCdTc",
        "outputId": "193b8237-c348-47eb-d941-22df21d9b420"
      },
      "source": [
        "df.info()"
      ],
      "execution_count": 25,
      "outputs": [
        {
          "output_type": "stream",
          "text": [
            "<class 'pandas.core.frame.DataFrame'>\n",
            "Int64Index: 67986 entries, 0 to 67985\n",
            "Data columns (total 14 columns):\n",
            " #   Column         Non-Null Count  Dtype  \n",
            "---  ------         --------------  -----  \n",
            " 0   asin           67986 non-null  object \n",
            " 1   name           67984 non-null  object \n",
            " 2   rating_x       67986 non-null  int64  \n",
            " 3   date           67986 non-null  object \n",
            " 4   verified       67986 non-null  bool   \n",
            " 5   title_x        67972 non-null  object \n",
            " 6   body           67965 non-null  object \n",
            " 7   helpfulVotes   27215 non-null  float64\n",
            " 8   brand          67786 non-null  object \n",
            " 9   title_y        67986 non-null  object \n",
            " 10  rating_y       67986 non-null  float64\n",
            " 11  totalReviews   67986 non-null  int64  \n",
            " 12  price          67986 non-null  float64\n",
            " 13  originalPrice  67986 non-null  float64\n",
            "dtypes: bool(1), float64(4), int64(2), object(7)\n",
            "memory usage: 7.3+ MB\n"
          ],
          "name": "stdout"
        }
      ]
    },
    {
      "cell_type": "markdown",
      "metadata": {
        "id": "zdTfwlL7fYpq"
      },
      "source": [
        "### 4.9 Rename important features with appropriate names.\n",
        "Imortant features - \"rating_x\": \"user_rating\", \"title_x\": \"review_title\", \"title_y\": \"item_title\", \"rating_y\": \"overall_rating\""
      ]
    },
    {
      "cell_type": "code",
      "metadata": {
        "id": "KI-6FCkZztXM"
      },
      "source": [
        "df.rename(columns={\"rating_x\": \"user_rating\", \"title_x\": \"review_title\", \"title_y\": \"item_title\", \"rating_y\": \"overall_rating\"},inplace=True)"
      ],
      "execution_count": 28,
      "outputs": []
    },
    {
      "cell_type": "code",
      "metadata": {
        "colab": {
          "base_uri": "https://localhost:8080/"
        },
        "id": "3BntG5DsDW_Z",
        "outputId": "3b039c96-6f30-4abf-f33e-845dbed383af"
      },
      "source": [
        "df.info()"
      ],
      "execution_count": 29,
      "outputs": [
        {
          "output_type": "stream",
          "text": [
            "<class 'pandas.core.frame.DataFrame'>\n",
            "Int64Index: 67986 entries, 0 to 67985\n",
            "Data columns (total 14 columns):\n",
            " #   Column          Non-Null Count  Dtype  \n",
            "---  ------          --------------  -----  \n",
            " 0   asin            67986 non-null  object \n",
            " 1   name            67984 non-null  object \n",
            " 2   user_rating     67986 non-null  int64  \n",
            " 3   date            67986 non-null  object \n",
            " 4   verified        67986 non-null  bool   \n",
            " 5   review_title    67972 non-null  object \n",
            " 6   body            67965 non-null  object \n",
            " 7   helpfulVotes    27215 non-null  float64\n",
            " 8   brand           67786 non-null  object \n",
            " 9   item_title      67986 non-null  object \n",
            " 10  overall_rating  67986 non-null  float64\n",
            " 11  totalReviews    67986 non-null  int64  \n",
            " 12  price           67986 non-null  float64\n",
            " 13  originalPrice   67986 non-null  float64\n",
            "dtypes: bool(1), float64(4), int64(2), object(7)\n",
            "memory usage: 7.3+ MB\n"
          ],
          "name": "stdout"
        }
      ]
    },
    {
      "cell_type": "markdown",
      "metadata": {
        "id": "hNHEElHszthc"
      },
      "source": [
        "### 4.10 Select rows having verified reviews and check the shape of the final dataset"
      ]
    },
    {
      "cell_type": "code",
      "metadata": {
        "id": "Jyav9_Zoz-rT",
        "colab": {
          "base_uri": "https://localhost:8080/"
        },
        "outputId": "7e506a98-cac6-4b8f-a495-8631d4f3cff8"
      },
      "source": [
        "df['verified'].value_counts()"
      ],
      "execution_count": 30,
      "outputs": [
        {
          "output_type": "execute_result",
          "data": {
            "text/plain": [
              "True     61225\n",
              "False     6761\n",
              "Name: verified, dtype: int64"
            ]
          },
          "metadata": {
            "tags": []
          },
          "execution_count": 30
        }
      ]
    },
    {
      "cell_type": "code",
      "metadata": {
        "colab": {
          "base_uri": "https://localhost:8080/",
          "height": 624
        },
        "id": "pYhQNmTmEiqj",
        "outputId": "e3766511-1766-423c-a667-689295299f53"
      },
      "source": [
        "df_verified = df[df['verified']==True]\n",
        "df_verified.head(5)"
      ],
      "execution_count": 31,
      "outputs": [
        {
          "output_type": "execute_result",
          "data": {
            "text/html": [
              "<div>\n",
              "<style scoped>\n",
              "    .dataframe tbody tr th:only-of-type {\n",
              "        vertical-align: middle;\n",
              "    }\n",
              "\n",
              "    .dataframe tbody tr th {\n",
              "        vertical-align: top;\n",
              "    }\n",
              "\n",
              "    .dataframe thead th {\n",
              "        text-align: right;\n",
              "    }\n",
              "</style>\n",
              "<table border=\"1\" class=\"dataframe\">\n",
              "  <thead>\n",
              "    <tr style=\"text-align: right;\">\n",
              "      <th></th>\n",
              "      <th>asin</th>\n",
              "      <th>name</th>\n",
              "      <th>user_rating</th>\n",
              "      <th>date</th>\n",
              "      <th>verified</th>\n",
              "      <th>review_title</th>\n",
              "      <th>body</th>\n",
              "      <th>helpfulVotes</th>\n",
              "      <th>brand</th>\n",
              "      <th>item_title</th>\n",
              "      <th>overall_rating</th>\n",
              "      <th>totalReviews</th>\n",
              "      <th>price</th>\n",
              "      <th>originalPrice</th>\n",
              "    </tr>\n",
              "  </thead>\n",
              "  <tbody>\n",
              "    <tr>\n",
              "      <th>14</th>\n",
              "      <td>B0009N5L7K</td>\n",
              "      <td>Marcel Thomas</td>\n",
              "      <td>1</td>\n",
              "      <td>March 5, 2016</td>\n",
              "      <td>True</td>\n",
              "      <td>Stupid phone</td>\n",
              "      <td>DON'T BUY OUT OF SERVICE</td>\n",
              "      <td>nan</td>\n",
              "      <td>Motorola</td>\n",
              "      <td>Motorola I265 phone</td>\n",
              "      <td>3.0000000</td>\n",
              "      <td>7</td>\n",
              "      <td>49.9500000</td>\n",
              "      <td>0.0000000</td>\n",
              "    </tr>\n",
              "    <tr>\n",
              "      <th>17</th>\n",
              "      <td>B0009N5L7K</td>\n",
              "      <td>Stephen Cahill</td>\n",
              "      <td>1</td>\n",
              "      <td>December 20, 2016</td>\n",
              "      <td>True</td>\n",
              "      <td>Phones locked</td>\n",
              "      <td>1 star because the phones locked so I have to ...</td>\n",
              "      <td>nan</td>\n",
              "      <td>Motorola</td>\n",
              "      <td>Motorola I265 phone</td>\n",
              "      <td>3.0000000</td>\n",
              "      <td>7</td>\n",
              "      <td>49.9500000</td>\n",
              "      <td>0.0000000</td>\n",
              "    </tr>\n",
              "    <tr>\n",
              "      <th>18</th>\n",
              "      <td>B0009N5L7K</td>\n",
              "      <td>Mihir</td>\n",
              "      <td>5</td>\n",
              "      <td>December 13, 2009</td>\n",
              "      <td>True</td>\n",
              "      <td>Excellent product</td>\n",
              "      <td>The product has been very good. I had used thi...</td>\n",
              "      <td>nan</td>\n",
              "      <td>Motorola</td>\n",
              "      <td>Motorola I265 phone</td>\n",
              "      <td>3.0000000</td>\n",
              "      <td>7</td>\n",
              "      <td>49.9500000</td>\n",
              "      <td>0.0000000</td>\n",
              "    </tr>\n",
              "    <tr>\n",
              "      <th>21</th>\n",
              "      <td>B000SKTZ0S</td>\n",
              "      <td>Thomas</td>\n",
              "      <td>4</td>\n",
              "      <td>September 17, 2010</td>\n",
              "      <td>True</td>\n",
              "      <td>Nice, but</td>\n",
              "      <td>I bought this phone to replace an LG phone tha...</td>\n",
              "      <td>nan</td>\n",
              "      <td>Motorola</td>\n",
              "      <td>MOTOROLA C168i AT&amp;T CINGULAR PREPAID GOPHONE C...</td>\n",
              "      <td>2.7000000</td>\n",
              "      <td>22</td>\n",
              "      <td>99.9900000</td>\n",
              "      <td>0.0000000</td>\n",
              "    </tr>\n",
              "    <tr>\n",
              "      <th>22</th>\n",
              "      <td>B000SKTZ0S</td>\n",
              "      <td>Kei, San Jose, CA</td>\n",
              "      <td>1</td>\n",
              "      <td>May 13, 2017</td>\n",
              "      <td>True</td>\n",
              "      <td>It seems it doesn't work with the existing AT&amp;...</td>\n",
              "      <td>I purchased this phone for my AT&amp;T phone repla...</td>\n",
              "      <td>nan</td>\n",
              "      <td>Motorola</td>\n",
              "      <td>MOTOROLA C168i AT&amp;T CINGULAR PREPAID GOPHONE C...</td>\n",
              "      <td>2.7000000</td>\n",
              "      <td>22</td>\n",
              "      <td>99.9900000</td>\n",
              "      <td>0.0000000</td>\n",
              "    </tr>\n",
              "  </tbody>\n",
              "</table>\n",
              "</div>"
            ],
            "text/plain": [
              "          asin               name  user_rating                date  verified  \\\n",
              "14  B0009N5L7K      Marcel Thomas            1       March 5, 2016      True   \n",
              "17  B0009N5L7K     Stephen Cahill            1   December 20, 2016      True   \n",
              "18  B0009N5L7K              Mihir            5   December 13, 2009      True   \n",
              "21  B000SKTZ0S             Thomas            4  September 17, 2010      True   \n",
              "22  B000SKTZ0S  Kei, San Jose, CA            1        May 13, 2017      True   \n",
              "\n",
              "                                         review_title  \\\n",
              "14                                       Stupid phone   \n",
              "17                                      Phones locked   \n",
              "18                                  Excellent product   \n",
              "21                                          Nice, but   \n",
              "22  It seems it doesn't work with the existing AT&...   \n",
              "\n",
              "                                                 body  helpfulVotes     brand  \\\n",
              "14                           DON'T BUY OUT OF SERVICE           nan  Motorola   \n",
              "17  1 star because the phones locked so I have to ...           nan  Motorola   \n",
              "18  The product has been very good. I had used thi...           nan  Motorola   \n",
              "21  I bought this phone to replace an LG phone tha...           nan  Motorola   \n",
              "22  I purchased this phone for my AT&T phone repla...           nan  Motorola   \n",
              "\n",
              "                                           item_title  overall_rating  \\\n",
              "14                                Motorola I265 phone       3.0000000   \n",
              "17                                Motorola I265 phone       3.0000000   \n",
              "18                                Motorola I265 phone       3.0000000   \n",
              "21  MOTOROLA C168i AT&T CINGULAR PREPAID GOPHONE C...       2.7000000   \n",
              "22  MOTOROLA C168i AT&T CINGULAR PREPAID GOPHONE C...       2.7000000   \n",
              "\n",
              "    totalReviews      price  originalPrice  \n",
              "14             7 49.9500000      0.0000000  \n",
              "17             7 49.9500000      0.0000000  \n",
              "18             7 49.9500000      0.0000000  \n",
              "21            22 99.9900000      0.0000000  \n",
              "22            22 99.9900000      0.0000000  "
            ]
          },
          "metadata": {
            "tags": []
          },
          "execution_count": 31
        }
      ]
    },
    {
      "cell_type": "code",
      "metadata": {
        "colab": {
          "base_uri": "https://localhost:8080/"
        },
        "id": "9z7sP3sIGubr",
        "outputId": "4b3b5232-2f9d-485c-8e48-3e5a2bff97bd"
      },
      "source": [
        "df_verified.shape"
      ],
      "execution_count": 123,
      "outputs": [
        {
          "output_type": "execute_result",
          "data": {
            "text/plain": [
              "(61225, 14)"
            ]
          },
          "metadata": {
            "tags": []
          },
          "execution_count": 123
        }
      ]
    },
    {
      "cell_type": "markdown",
      "metadata": {
        "id": "EpKusPjdz-2q"
      },
      "source": [
        "### 4.11 Check the number of reviews for various brands and report the brand that have highest number of reviews"
      ]
    },
    {
      "cell_type": "code",
      "metadata": {
        "id": "5tux6vwr0JDb",
        "colab": {
          "base_uri": "https://localhost:8080/",
          "height": 537
        },
        "outputId": "a3333d1a-98e4-49fe-f50b-934ad7361d7f"
      },
      "source": [
        "plt.figure(figsize=(10,8))\n",
        "df_verified['brand'].value_counts().plot(kind ='bar')"
      ],
      "execution_count": 119,
      "outputs": [
        {
          "output_type": "execute_result",
          "data": {
            "text/plain": [
              "<matplotlib.axes._subplots.AxesSubplot at 0x7f44d3e7b790>"
            ]
          },
          "metadata": {
            "tags": []
          },
          "execution_count": 119
        },
        {
          "output_type": "display_data",
          "data": {
            "image/png": "[encoded data removed]",
            "text/plain": [
              "<Figure size 720x576 with 1 Axes>"
            ]
          },
          "metadata": {
            "tags": [],
            "needs_background": "light"
          }
        }
      ]
    },
    {
      "cell_type": "markdown",
      "metadata": {
        "id": "BoT7caVmHjh4"
      },
      "source": [
        "# **Observations:**\n",
        "\n",
        "- Samsung has the most number of reviews nearly 31000 reviews.\n",
        "- Asus has the least number of reviews."
      ]
    },
    {
      "cell_type": "markdown",
      "metadata": {
        "id": "gPGjMFE-0Q5k"
      },
      "source": [
        "### 4.12 Drop irrelevant columns and keep important features like 'brand','body','price','user_rating','review_title' for further analysis"
      ]
    },
    {
      "cell_type": "code",
      "metadata": {
        "id": "J_IvLN6e0e6z",
        "colab": {
          "base_uri": "https://localhost:8080/",
          "height": 208
        },
        "outputId": "32bc773e-200d-4092-bcd0-6f69d38b4432"
      },
      "source": [
        "important_features = ['brand','body','price','user_rating','review_title' ]\n",
        "df_verified_review = df_verified[important_features]\n",
        "df_verified_review.head()"
      ],
      "execution_count": 33,
      "outputs": [
        {
          "output_type": "execute_result",
          "data": {
            "text/html": [
              "<div>\n",
              "<style scoped>\n",
              "    .dataframe tbody tr th:only-of-type {\n",
              "        vertical-align: middle;\n",
              "    }\n",
              "\n",
              "    .dataframe tbody tr th {\n",
              "        vertical-align: top;\n",
              "    }\n",
              "\n",
              "    .dataframe thead th {\n",
              "        text-align: right;\n",
              "    }\n",
              "</style>\n",
              "<table border=\"1\" class=\"dataframe\">\n",
              "  <thead>\n",
              "    <tr style=\"text-align: right;\">\n",
              "      <th></th>\n",
              "      <th>brand</th>\n",
              "      <th>body</th>\n",
              "      <th>price</th>\n",
              "      <th>user_rating</th>\n",
              "      <th>review_title</th>\n",
              "    </tr>\n",
              "  </thead>\n",
              "  <tbody>\n",
              "    <tr>\n",
              "      <th>14</th>\n",
              "      <td>Motorola</td>\n",
              "      <td>DON'T BUY OUT OF SERVICE</td>\n",
              "      <td>49.9500000</td>\n",
              "      <td>1</td>\n",
              "      <td>Stupid phone</td>\n",
              "    </tr>\n",
              "    <tr>\n",
              "      <th>17</th>\n",
              "      <td>Motorola</td>\n",
              "      <td>1 star because the phones locked so I have to ...</td>\n",
              "      <td>49.9500000</td>\n",
              "      <td>1</td>\n",
              "      <td>Phones locked</td>\n",
              "    </tr>\n",
              "    <tr>\n",
              "      <th>18</th>\n",
              "      <td>Motorola</td>\n",
              "      <td>The product has been very good. I had used thi...</td>\n",
              "      <td>49.9500000</td>\n",
              "      <td>5</td>\n",
              "      <td>Excellent product</td>\n",
              "    </tr>\n",
              "    <tr>\n",
              "      <th>21</th>\n",
              "      <td>Motorola</td>\n",
              "      <td>I bought this phone to replace an LG phone tha...</td>\n",
              "      <td>99.9900000</td>\n",
              "      <td>4</td>\n",
              "      <td>Nice, but</td>\n",
              "    </tr>\n",
              "    <tr>\n",
              "      <th>22</th>\n",
              "      <td>Motorola</td>\n",
              "      <td>I purchased this phone for my AT&amp;T phone repla...</td>\n",
              "      <td>99.9900000</td>\n",
              "      <td>1</td>\n",
              "      <td>It seems it doesn't work with the existing AT&amp;...</td>\n",
              "    </tr>\n",
              "  </tbody>\n",
              "</table>\n",
              "</div>"
            ],
            "text/plain": [
              "       brand                                               body      price  \\\n",
              "14  Motorola                           DON'T BUY OUT OF SERVICE 49.9500000   \n",
              "17  Motorola  1 star because the phones locked so I have to ... 49.9500000   \n",
              "18  Motorola  The product has been very good. I had used thi... 49.9500000   \n",
              "21  Motorola  I bought this phone to replace an LG phone tha... 99.9900000   \n",
              "22  Motorola  I purchased this phone for my AT&T phone repla... 99.9900000   \n",
              "\n",
              "    user_rating                                       review_title  \n",
              "14            1                                       Stupid phone  \n",
              "17            1                                      Phones locked  \n",
              "18            5                                  Excellent product  \n",
              "21            4                                          Nice, but  \n",
              "22            1  It seems it doesn't work with the existing AT&...  "
            ]
          },
          "metadata": {
            "tags": []
          },
          "execution_count": 33
        }
      ]
    },
    {
      "cell_type": "markdown",
      "metadata": {
        "id": "Gzo_rVT60fDf"
      },
      "source": [
        "### 4.13 Perform univariate analysis. Check distribution of price, user_rating"
      ]
    },
    {
      "cell_type": "code",
      "metadata": {
        "id": "F3vzILxZ0t0L",
        "colab": {
          "base_uri": "https://localhost:8080/",
          "height": 515
        },
        "outputId": "9a3036e0-ce9e-4a75-b6ee-51d026a41cbc"
      },
      "source": [
        "plt.figure(figsize=(10,8))\n",
        "sns.distplot(df_verified_review['price'])"
      ],
      "execution_count": 120,
      "outputs": [
        {
          "output_type": "execute_result",
          "data": {
            "text/plain": [
              "<matplotlib.axes._subplots.AxesSubplot at 0x7f44d3dfb090>"
            ]
          },
          "metadata": {
            "tags": []
          },
          "execution_count": 120
        },
        {
          "output_type": "display_data",
          "data": {
            "image/png": "[encoded data removed]",
            "text/plain": [
              "<Figure size 720x576 with 1 Axes>"
            ]
          },
          "metadata": {
            "tags": [],
            "needs_background": "light"
          }
        }
      ]
    },
    {
      "cell_type": "markdown",
      "metadata": {
        "id": "Za0bBkzpH21G"
      },
      "source": [
        "# **Observation:**\n",
        "- We can see that most of mobiles are replacements with the price as 0 USD.\n",
        "- Average mobile price looks to be between 200 USD to 250 USD."
      ]
    },
    {
      "cell_type": "code",
      "metadata": {
        "colab": {
          "base_uri": "https://localhost:8080/",
          "height": 497
        },
        "id": "L_dQ_UaBHcJY",
        "outputId": "7bd9b4a3-4ce9-455c-9654-d0158ac65a91"
      },
      "source": [
        "plt.figure(figsize=(10,8))\n",
        "df_verified_review['user_rating'].value_counts().plot(kind=\"bar\")"
      ],
      "execution_count": 121,
      "outputs": [
        {
          "output_type": "execute_result",
          "data": {
            "text/plain": [
              "<matplotlib.axes._subplots.AxesSubplot at 0x7f44d3e7ba90>"
            ]
          },
          "metadata": {
            "tags": []
          },
          "execution_count": 121
        },
        {
          "output_type": "display_data",
          "data": {
            "image/png": "[encoded data removed]",
            "text/plain": [
              "<Figure size 720x576 with 1 Axes>"
            ]
          },
          "metadata": {
            "tags": [],
            "needs_background": "light"
          }
        }
      ]
    },
    {
      "cell_type": "markdown",
      "metadata": {
        "id": "guKfIV0SIM1d"
      },
      "source": [
        "# **Observations:**\n",
        "- Most Verified user has rated 5 star more in number."
      ]
    },
    {
      "cell_type": "markdown",
      "metadata": {
        "id": "x0Y_kE9T0uAf"
      },
      "source": [
        "### 4.14 Create a new column called \"sentiment\". It should have value as 1 (positive) if the user_Rating is greater than 3, value as 0 (neutral) if the user_Rating == 3, and -1 (negative) is the user_Rating is less than 3."
      ]
    },
    {
      "cell_type": "code",
      "metadata": {
        "id": "jGon-2xU1Ujb"
      },
      "source": [
        "df_verified_review['sentiment'] = df_verified_review['user_rating'].apply(lambda x: 1 if x>3 else (0 if x ==3 else -1))"
      ],
      "execution_count": 36,
      "outputs": []
    },
    {
      "cell_type": "code",
      "metadata": {
        "colab": {
          "base_uri": "https://localhost:8080/",
          "height": 364
        },
        "id": "Su3r7lw3KCpT",
        "outputId": "733b1751-846f-4ff8-c8f9-d96d6bc8267d"
      },
      "source": [
        "df_verified_review.sample(10)"
      ],
      "execution_count": 39,
      "outputs": [
        {
          "output_type": "execute_result",
          "data": {
            "text/html": [
              "<div>\n",
              "<style scoped>\n",
              "    .dataframe tbody tr th:only-of-type {\n",
              "        vertical-align: middle;\n",
              "    }\n",
              "\n",
              "    .dataframe tbody tr th {\n",
              "        vertical-align: top;\n",
              "    }\n",
              "\n",
              "    .dataframe thead th {\n",
              "        text-align: right;\n",
              "    }\n",
              "</style>\n",
              "<table border=\"1\" class=\"dataframe\">\n",
              "  <thead>\n",
              "    <tr style=\"text-align: right;\">\n",
              "      <th></th>\n",
              "      <th>brand</th>\n",
              "      <th>body</th>\n",
              "      <th>price</th>\n",
              "      <th>user_rating</th>\n",
              "      <th>review_title</th>\n",
              "      <th>sentiment</th>\n",
              "    </tr>\n",
              "  </thead>\n",
              "  <tbody>\n",
              "    <tr>\n",
              "      <th>22736</th>\n",
              "      <td>Samsung</td>\n",
              "      <td>I just bought it, and it works great thus far!...</td>\n",
              "      <td>275.9900000</td>\n",
              "      <td>5</td>\n",
              "      <td>and it works great thus far</td>\n",
              "      <td>1</td>\n",
              "    </tr>\n",
              "    <tr>\n",
              "      <th>41280</th>\n",
              "      <td>Samsung</td>\n",
              "      <td>Muy bueno</td>\n",
              "      <td>330.9500000</td>\n",
              "      <td>5</td>\n",
              "      <td>👌</td>\n",
              "      <td>1</td>\n",
              "    </tr>\n",
              "    <tr>\n",
              "      <th>27885</th>\n",
              "      <td>Samsung</td>\n",
              "      <td>Not a fully unlocked phone. Device did not act...</td>\n",
              "      <td>174.9500000</td>\n",
              "      <td>1</td>\n",
              "      <td>One Star</td>\n",
              "      <td>-1</td>\n",
              "    </tr>\n",
              "    <tr>\n",
              "      <th>44838</th>\n",
              "      <td>Google</td>\n",
              "      <td>I did not even power the phone on because the ...</td>\n",
              "      <td>219.9900000</td>\n",
              "      <td>1</td>\n",
              "      <td>Huge scratch on screen, dirty charge port.</td>\n",
              "      <td>-1</td>\n",
              "    </tr>\n",
              "    <tr>\n",
              "      <th>34947</th>\n",
              "      <td>Samsung</td>\n",
              "      <td>I received my phone extremely fast and I have ...</td>\n",
              "      <td>450.1100000</td>\n",
              "      <td>5</td>\n",
              "      <td>Works on the T Mobile network.</td>\n",
              "      <td>1</td>\n",
              "    </tr>\n",
              "    <tr>\n",
              "      <th>62292</th>\n",
              "      <td>Samsung</td>\n",
              "      <td>If my title is incomprehensible do some more s...</td>\n",
              "      <td>299.5000000</td>\n",
              "      <td>4</td>\n",
              "      <td>GSM not CDMA</td>\n",
              "      <td>1</td>\n",
              "    </tr>\n",
              "    <tr>\n",
              "      <th>38460</th>\n",
              "      <td>Samsung</td>\n",
              "      <td>As far as the Note series goes this is one I'd...</td>\n",
              "      <td>866.3600000</td>\n",
              "      <td>2</td>\n",
              "      <td>Can find this exact model cheaper at Walmart.</td>\n",
              "      <td>-1</td>\n",
              "    </tr>\n",
              "    <tr>\n",
              "      <th>47994</th>\n",
              "      <td>HUAWEI</td>\n",
              "      <td>This phone was for my wife.she loves Takeing p...</td>\n",
              "      <td>229.9900000</td>\n",
              "      <td>5</td>\n",
              "      <td>this phone takes amazing pics. it multy tasks ...</td>\n",
              "      <td>1</td>\n",
              "    </tr>\n",
              "    <tr>\n",
              "      <th>46444</th>\n",
              "      <td>Samsung</td>\n",
              "      <td>Do not purchase this phone its a fraud and tot...</td>\n",
              "      <td>503.0900000</td>\n",
              "      <td>1</td>\n",
              "      <td>Fraudulent non-functional phones</td>\n",
              "      <td>-1</td>\n",
              "    </tr>\n",
              "    <tr>\n",
              "      <th>42974</th>\n",
              "      <td>Samsung</td>\n",
              "      <td>Junk xonnection issues and after a month pink ...</td>\n",
              "      <td>0.0000000</td>\n",
              "      <td>1</td>\n",
              "      <td>Dont buy....runn...</td>\n",
              "      <td>-1</td>\n",
              "    </tr>\n",
              "  </tbody>\n",
              "</table>\n",
              "</div>"
            ],
            "text/plain": [
              "         brand                                               body       price  \\\n",
              "22736  Samsung  I just bought it, and it works great thus far!... 275.9900000   \n",
              "41280  Samsung                                          Muy bueno 330.9500000   \n",
              "27885  Samsung  Not a fully unlocked phone. Device did not act... 174.9500000   \n",
              "44838   Google  I did not even power the phone on because the ... 219.9900000   \n",
              "34947  Samsung  I received my phone extremely fast and I have ... 450.1100000   \n",
              "62292  Samsung  If my title is incomprehensible do some more s... 299.5000000   \n",
              "38460  Samsung  As far as the Note series goes this is one I'd... 866.3600000   \n",
              "47994   HUAWEI  This phone was for my wife.she loves Takeing p... 229.9900000   \n",
              "46444  Samsung  Do not purchase this phone its a fraud and tot... 503.0900000   \n",
              "42974  Samsung  Junk xonnection issues and after a month pink ...   0.0000000   \n",
              "\n",
              "       user_rating                                       review_title  \\\n",
              "22736            5                        and it works great thus far   \n",
              "41280            5                                                  👌   \n",
              "27885            1                                           One Star   \n",
              "44838            1         Huge scratch on screen, dirty charge port.   \n",
              "34947            5                     Works on the T Mobile network.   \n",
              "62292            4                                       GSM not CDMA   \n",
              "38460            2      Can find this exact model cheaper at Walmart.   \n",
              "47994            5  this phone takes amazing pics. it multy tasks ...   \n",
              "46444            1                   Fraudulent non-functional phones   \n",
              "42974            1                                Dont buy....runn...   \n",
              "\n",
              "       sentiment  \n",
              "22736          1  \n",
              "41280          1  \n",
              "27885         -1  \n",
              "44838         -1  \n",
              "34947          1  \n",
              "62292          1  \n",
              "38460         -1  \n",
              "47994          1  \n",
              "46444         -1  \n",
              "42974         -1  "
            ]
          },
          "metadata": {
            "tags": []
          },
          "execution_count": 39
        }
      ]
    },
    {
      "cell_type": "markdown",
      "metadata": {
        "id": "K4rxSZWp1VAb"
      },
      "source": [
        "### 4.15 Check frequency distribution of the 'sentiment'"
      ]
    },
    {
      "cell_type": "code",
      "metadata": {
        "id": "yt3gH7Iz1dVP",
        "colab": {
          "base_uri": "https://localhost:8080/",
          "height": 501
        },
        "outputId": "34bfcf46-e542-4bce-8755-025942b27d7d"
      },
      "source": [
        "plt.figure(figsize=(10,8))\n",
        "df_verified_review['sentiment'].value_counts().plot(kind=\"bar\")"
      ],
      "execution_count": 122,
      "outputs": [
        {
          "output_type": "execute_result",
          "data": {
            "text/plain": [
              "<matplotlib.axes._subplots.AxesSubplot at 0x7f44d3c653d0>"
            ]
          },
          "metadata": {
            "tags": []
          },
          "execution_count": 122
        },
        {
          "output_type": "display_data",
          "data": {
            "image/png": "[encoded data removed]",
            "text/plain": [
              "<Figure size 720x576 with 1 Axes>"
            ]
          },
          "metadata": {
            "tags": [],
            "needs_background": "light"
          }
        }
      ]
    },
    {
      "cell_type": "markdown",
      "metadata": {
        "id": "AUrA-RqRIqUH"
      },
      "source": [
        "# **Observations:**\n",
        "- Mostly postive reviews from the graph.\n",
        "- neutral reviews are less in number."
      ]
    },
    {
      "cell_type": "markdown",
      "metadata": {
        "id": "rK0KMghP1ddb"
      },
      "source": [
        "### 4.16 Perform bivariate analysis. Check correlation/crosstab between features and write your inferences."
      ]
    },
    {
      "cell_type": "code",
      "metadata": {
        "id": "scAV4fRg1nX0",
        "colab": {
          "base_uri": "https://localhost:8080/",
          "height": 334
        },
        "outputId": "44944cea-0cb7-4a1a-9598-14cd5ba4f3c5"
      },
      "source": [
        "pd.crosstab(df_verified_review['brand'],df_verified_review['sentiment']).plot(kind ='bar')"
      ],
      "execution_count": 43,
      "outputs": [
        {
          "output_type": "execute_result",
          "data": {
            "text/plain": [
              "<matplotlib.axes._subplots.AxesSubplot at 0x7f55e5b52e10>"
            ]
          },
          "metadata": {
            "tags": []
          },
          "execution_count": 43
        },
        {
          "output_type": "display_data",
          "data": {
            "image/png": "[encoded data removed]",
            "text/plain": [
              "<Figure size 432x288 with 1 Axes>"
            ]
          },
          "metadata": {
            "tags": [],
            "needs_background": "light"
          }
        }
      ]
    },
    {
      "cell_type": "markdown",
      "metadata": {
        "id": "tR_Tts5XJQ9p"
      },
      "source": [
        "# **Observations:**\n",
        "\n",
        "- Asus doesn't have a Positive review.\n",
        "- Samsung has most number of positive reviews.\n",
        "- Samsung has most number of negative review.\n",
        "- Among the reviews Xaomi has most positive reviews that the negative reviews."
      ]
    },
    {
      "cell_type": "markdown",
      "metadata": {
        "id": "2Nzj7ZXVLakx"
      },
      "source": [
        "## 5. Text Preprocessing and Vectorization"
      ]
    },
    {
      "cell_type": "markdown",
      "metadata": {
        "id": "ZbC_RPndnlf3"
      },
      "source": [
        "We will analyze the 'body' and 'review_title' to gain more understanding.\n",
        "\n",
        "We will ppeform the below tasks\n",
        "\n",
        "- Convert the text into lowercase\n",
        "- Remove punctuation\n",
        "- Remove stopwords (English, from nltk corpus)\n",
        "- Remove other keywords like \"phone\" and brand name"
      ]
    },
    {
      "cell_type": "markdown",
      "metadata": {
        "id": "XnhMQsxz2DJH"
      },
      "source": [
        "### 5.1 Change the datatype of the 'body' column to 'str' and convert it into lowercase. Print any two samples and check the output."
      ]
    },
    {
      "cell_type": "code",
      "metadata": {
        "id": "1DbTf2yc2VOQ"
      },
      "source": [
        "df_verified_review['body'] = df_verified_review['body'].astype('str')"
      ],
      "execution_count": 41,
      "outputs": []
    },
    {
      "cell_type": "code",
      "metadata": {
        "colab": {
          "base_uri": "https://localhost:8080/"
        },
        "id": "U3ze7yoeRFxV",
        "outputId": "6dd60c52-f6c0-4a55-f05a-c5676dee90ee"
      },
      "source": [
        "type(df_verified_review['body'].iloc[0])"
      ],
      "execution_count": 42,
      "outputs": [
        {
          "output_type": "execute_result",
          "data": {
            "text/plain": [
              "str"
            ]
          },
          "metadata": {
            "tags": []
          },
          "execution_count": 42
        }
      ]
    },
    {
      "cell_type": "code",
      "metadata": {
        "id": "hXQFPjMfRUBP"
      },
      "source": [
        "df_verified_review['body'] = df_verified_review['body'].apply(lambda x: x.lower())"
      ],
      "execution_count": 43,
      "outputs": []
    },
    {
      "cell_type": "code",
      "metadata": {
        "colab": {
          "base_uri": "https://localhost:8080/"
        },
        "id": "g9fIZIbuReBK",
        "outputId": "689dcff5-d1dc-467d-c7af-3e5953d0b3d4"
      },
      "source": [
        "df_verified_review['body'].head(10)"
      ],
      "execution_count": 44,
      "outputs": [
        {
          "output_type": "execute_result",
          "data": {
            "text/plain": [
              "14                             don't buy out of service\n",
              "17    1 star because the phones locked so i have to ...\n",
              "18    the product has been very good. i had used thi...\n",
              "21    i bought this phone to replace an lg phone tha...\n",
              "22    i purchased this phone for my at&t phone repla...\n",
              "23    the phone did not come with a charger and didn...\n",
              "24                   served me well as a back up phone.\n",
              "25    i got this phone just as secondary cell phone....\n",
              "26    sturdy - clarity is great - easy to use only p...\n",
              "27                                 phone stoped working\n",
              "Name: body, dtype: object"
            ]
          },
          "metadata": {
            "tags": []
          },
          "execution_count": 44
        }
      ]
    },
    {
      "cell_type": "markdown",
      "metadata": {
        "id": "lsppV0X52VXf"
      },
      "source": [
        "### 5.2 Remove punctuations from the lowercased 'body' column and display at least two samples."
      ]
    },
    {
      "cell_type": "code",
      "metadata": {
        "id": "lQXKc8et2onG"
      },
      "source": [
        "import re\n",
        "df_verified_review['body'] = df_verified_review['body'].apply(lambda x: re.sub('[^a-zA-Z\\s]','',x,re.I|re.A))"
      ],
      "execution_count": 45,
      "outputs": []
    },
    {
      "cell_type": "code",
      "metadata": {
        "colab": {
          "base_uri": "https://localhost:8080/"
        },
        "id": "FcpVOViNTTWD",
        "outputId": "d713a2a3-2f94-4eab-b05a-11392a3cd6e9"
      },
      "source": [
        "df_verified_review['body'].head(5)"
      ],
      "execution_count": 46,
      "outputs": [
        {
          "output_type": "execute_result",
          "data": {
            "text/plain": [
              "14                              dont buy out of service\n",
              "17     star because the phones locked so i have to p...\n",
              "18    the product has been very good i had used this...\n",
              "21    i bought this phone to replace an lg phone tha...\n",
              "22    i purchased this phone for my att phone replac...\n",
              "Name: body, dtype: object"
            ]
          },
          "metadata": {
            "tags": []
          },
          "execution_count": 46
        }
      ]
    },
    {
      "cell_type": "markdown",
      "metadata": {
        "id": "8Zk7ja6A2owN"
      },
      "source": [
        "### 5.3 Remove stop words from the above pre-processed 'body' column and display at least two samples."
      ]
    },
    {
      "cell_type": "code",
      "metadata": {
        "colab": {
          "base_uri": "https://localhost:8080/"
        },
        "id": "15P9LzIrUsOM",
        "outputId": "271e3679-8380-44aa-d086-773475c6a776"
      },
      "source": [
        "import nltk\n",
        "nltk.download('stopwords')"
      ],
      "execution_count": 47,
      "outputs": [
        {
          "output_type": "stream",
          "text": [
            "[nltk_data] Downloading package stopwords to /root/nltk_data...\n",
            "[nltk_data]   Package stopwords is already up-to-date!\n"
          ],
          "name": "stdout"
        },
        {
          "output_type": "execute_result",
          "data": {
            "text/plain": [
              "True"
            ]
          },
          "metadata": {
            "tags": []
          },
          "execution_count": 47
        }
      ]
    },
    {
      "cell_type": "code",
      "metadata": {
        "id": "1d-DhX_e2yQ-",
        "colab": {
          "base_uri": "https://localhost:8080/"
        },
        "outputId": "d70fc37f-7821-46a0-d8f8-43bce1cd7bee"
      },
      "source": [
        "wpt = nltk.WordPunctTokenizer()\n",
        "stop_words = set(nltk.corpus.stopwords.words('english'))\n",
        "print(stop_words)"
      ],
      "execution_count": 48,
      "outputs": [
        {
          "output_type": "stream",
          "text": [
            "{'our', 'how', 'm', 'so', 'having', 'themselves', 'of', 'about', \"didn't\", 'which', 'yourself', 'out', 'yours', 'myself', 'an', 'we', 'very', 'from', 'than', 'mustn', 're', 'when', 'before', 'and', 'ourselves', 'doing', 'that', 'where', 'not', 'the', 'should', 'yourselves', 'again', 'why', 'up', 'his', 'down', \"wouldn't\", 'haven', 'there', 'does', 'aren', 'further', 'both', \"needn't\", 'it', 'he', 'once', 'such', 'i', 'was', \"you've\", 'her', \"wasn't\", 'now', 'too', 'most', 'as', 'are', \"that'll\", 'under', 'each', 'below', 'after', 's', 'these', 'for', 'ain', 'herself', 'am', 'same', \"hasn't\", 'himself', 'hadn', 'them', 'being', \"doesn't\", \"couldn't\", 'itself', \"weren't\", 'a', \"you'll\", 'won', 'while', 'have', \"it's\", 'ours', 'just', 'only', 'can', 'needn', 'your', 'is', 'with', 'shouldn', 'between', \"hadn't\", 'my', \"mustn't\", 'she', 'did', 'mightn', 'in', 'were', 'above', 've', \"won't\", 'by', 'you', 'off', 'don', \"shouldn't\", 'has', 'shan', 'wasn', 'here', 't', 'll', 'into', 'do', 'wouldn', 'any', \"she's\", 'doesn', 'ma', 'more', \"haven't\", 'its', \"you're\", 'during', 'nor', \"aren't\", 'because', 'if', 'been', 'against', 'but', 'didn', 'those', 'had', \"isn't\", 'few', 'be', \"mightn't\", 'what', 'or', 'their', 'on', 'over', \"you'd\", 'will', \"don't\", 'then', 'they', 'this', 'some', 'me', 'hasn', 'him', 'whom', \"shan't\", 'who', 'own', 'hers', 'other', \"should've\", 'o', 'at', 'until', 'to', 'weren', 'theirs', 'y', 'through', 'all', 'no', 'd', 'isn', 'couldn'}\n"
          ],
          "name": "stdout"
        }
      ]
    },
    {
      "cell_type": "code",
      "metadata": {
        "id": "ZrQ7xFB_VUHs"
      },
      "source": [
        "df_verified_review['keyword'] = df_verified_review['body'].apply(lambda words : \" \".join(word for word in words.split() if word not in stop_words))"
      ],
      "execution_count": 49,
      "outputs": []
    },
    {
      "cell_type": "code",
      "metadata": {
        "colab": {
          "base_uri": "https://localhost:8080/"
        },
        "id": "fWjWf1cPWlPV",
        "outputId": "602ad744-1321-47b6-aa2d-3ceb3371391f"
      },
      "source": [
        "df_verified_review['keyword'].head(5)"
      ],
      "execution_count": 50,
      "outputs": [
        {
          "output_type": "execute_result",
          "data": {
            "text/plain": [
              "14                                     dont buy service\n",
              "17        star phones locked pay additional fees unlock\n",
              "18    product good used cell phone one projects work...\n",
              "21    bought phone replace lg phone didnt like expec...\n",
              "22    purchased phone att phone replacement even tho...\n",
              "Name: keyword, dtype: object"
            ]
          },
          "metadata": {
            "tags": []
          },
          "execution_count": 50
        }
      ]
    },
    {
      "cell_type": "markdown",
      "metadata": {
        "id": "TQNvXay42yaQ"
      },
      "source": [
        "### 5.4 Apply lemmatisation on the above preprocessed text and display a few samples"
      ]
    },
    {
      "cell_type": "code",
      "metadata": {
        "colab": {
          "base_uri": "https://localhost:8080/"
        },
        "id": "2QTBvewlbOlU",
        "outputId": "7a76db55-4a37-4ee5-c87d-b1875485b937"
      },
      "source": [
        "import nltk\n",
        "nltk.download('wordnet')"
      ],
      "execution_count": 51,
      "outputs": [
        {
          "output_type": "stream",
          "text": [
            "[nltk_data] Downloading package wordnet to /root/nltk_data...\n",
            "[nltk_data]   Package wordnet is already up-to-date!\n"
          ],
          "name": "stdout"
        },
        {
          "output_type": "execute_result",
          "data": {
            "text/plain": [
              "True"
            ]
          },
          "metadata": {
            "tags": []
          },
          "execution_count": 51
        }
      ]
    },
    {
      "cell_type": "code",
      "metadata": {
        "id": "oQ1VfFaa3DET"
      },
      "source": [
        "w_tokenizer = nltk.tokenize.WhitespaceTokenizer()\n",
        "lemmatizer = nltk.stem.WordNetLemmatizer()\n",
        "\n",
        "def lemmatize_text(text):\n",
        "  return \" \".join( lemmatizer.lemmatize(w) for w in text.split())\n",
        "\n",
        "\n",
        "df_verified_review['lemm'] = df_verified_review['keyword'].apply(lambda x: lemmatize_text(x))"
      ],
      "execution_count": 52,
      "outputs": []
    },
    {
      "cell_type": "code",
      "metadata": {
        "colab": {
          "base_uri": "https://localhost:8080/",
          "height": 277
        },
        "id": "1e80R4NzbY6M",
        "outputId": "6e40ea2b-5562-4c3a-ecf8-5607dd53c783"
      },
      "source": [
        "df_verified_review.head(5)"
      ],
      "execution_count": 53,
      "outputs": [
        {
          "output_type": "execute_result",
          "data": {
            "text/html": [
              "<div>\n",
              "<style scoped>\n",
              "    .dataframe tbody tr th:only-of-type {\n",
              "        vertical-align: middle;\n",
              "    }\n",
              "\n",
              "    .dataframe tbody tr th {\n",
              "        vertical-align: top;\n",
              "    }\n",
              "\n",
              "    .dataframe thead th {\n",
              "        text-align: right;\n",
              "    }\n",
              "</style>\n",
              "<table border=\"1\" class=\"dataframe\">\n",
              "  <thead>\n",
              "    <tr style=\"text-align: right;\">\n",
              "      <th></th>\n",
              "      <th>brand</th>\n",
              "      <th>body</th>\n",
              "      <th>price</th>\n",
              "      <th>user_rating</th>\n",
              "      <th>review_title</th>\n",
              "      <th>sentiment</th>\n",
              "      <th>keyword</th>\n",
              "      <th>lemm</th>\n",
              "    </tr>\n",
              "  </thead>\n",
              "  <tbody>\n",
              "    <tr>\n",
              "      <th>14</th>\n",
              "      <td>Motorola</td>\n",
              "      <td>dont buy out of service</td>\n",
              "      <td>49.9500000</td>\n",
              "      <td>1</td>\n",
              "      <td>Stupid phone</td>\n",
              "      <td>-1</td>\n",
              "      <td>dont buy service</td>\n",
              "      <td>dont buy service</td>\n",
              "    </tr>\n",
              "    <tr>\n",
              "      <th>17</th>\n",
              "      <td>Motorola</td>\n",
              "      <td>star because the phones locked so i have to p...</td>\n",
              "      <td>49.9500000</td>\n",
              "      <td>1</td>\n",
              "      <td>Phones locked</td>\n",
              "      <td>-1</td>\n",
              "      <td>star phones locked pay additional fees unlock</td>\n",
              "      <td>star phone locked pay additional fee unlock</td>\n",
              "    </tr>\n",
              "    <tr>\n",
              "      <th>18</th>\n",
              "      <td>Motorola</td>\n",
              "      <td>the product has been very good i had used this...</td>\n",
              "      <td>49.9500000</td>\n",
              "      <td>5</td>\n",
              "      <td>Excellent product</td>\n",
              "      <td>1</td>\n",
              "      <td>product good used cell phone one projects work...</td>\n",
              "      <td>product good used cell phone one project worke...</td>\n",
              "    </tr>\n",
              "    <tr>\n",
              "      <th>21</th>\n",
              "      <td>Motorola</td>\n",
              "      <td>i bought this phone to replace an lg phone tha...</td>\n",
              "      <td>99.9900000</td>\n",
              "      <td>4</td>\n",
              "      <td>Nice, but</td>\n",
              "      <td>1</td>\n",
              "      <td>bought phone replace lg phone didnt like expec...</td>\n",
              "      <td>bought phone replace lg phone didnt like expec...</td>\n",
              "    </tr>\n",
              "    <tr>\n",
              "      <th>22</th>\n",
              "      <td>Motorola</td>\n",
              "      <td>i purchased this phone for my att phone replac...</td>\n",
              "      <td>99.9900000</td>\n",
              "      <td>1</td>\n",
              "      <td>It seems it doesn't work with the existing AT&amp;...</td>\n",
              "      <td>-1</td>\n",
              "      <td>purchased phone att phone replacement even tho...</td>\n",
              "      <td>purchased phone att phone replacement even tho...</td>\n",
              "    </tr>\n",
              "  </tbody>\n",
              "</table>\n",
              "</div>"
            ],
            "text/plain": [
              "       brand                                               body      price  \\\n",
              "14  Motorola                            dont buy out of service 49.9500000   \n",
              "17  Motorola   star because the phones locked so i have to p... 49.9500000   \n",
              "18  Motorola  the product has been very good i had used this... 49.9500000   \n",
              "21  Motorola  i bought this phone to replace an lg phone tha... 99.9900000   \n",
              "22  Motorola  i purchased this phone for my att phone replac... 99.9900000   \n",
              "\n",
              "    user_rating                                       review_title  sentiment  \\\n",
              "14            1                                       Stupid phone         -1   \n",
              "17            1                                      Phones locked         -1   \n",
              "18            5                                  Excellent product          1   \n",
              "21            4                                          Nice, but          1   \n",
              "22            1  It seems it doesn't work with the existing AT&...         -1   \n",
              "\n",
              "                                              keyword  \\\n",
              "14                                   dont buy service   \n",
              "17      star phones locked pay additional fees unlock   \n",
              "18  product good used cell phone one projects work...   \n",
              "21  bought phone replace lg phone didnt like expec...   \n",
              "22  purchased phone att phone replacement even tho...   \n",
              "\n",
              "                                                 lemm  \n",
              "14                                   dont buy service  \n",
              "17        star phone locked pay additional fee unlock  \n",
              "18  product good used cell phone one project worke...  \n",
              "21  bought phone replace lg phone didnt like expec...  \n",
              "22  purchased phone att phone replacement even tho...  "
            ]
          },
          "metadata": {
            "tags": []
          },
          "execution_count": 53
        }
      ]
    },
    {
      "cell_type": "markdown",
      "metadata": {
        "id": "OzweL_fA3DiN"
      },
      "source": [
        "### 5.5 Write a function to check word frequency of the text"
      ]
    },
    {
      "cell_type": "code",
      "metadata": {
        "id": "iv1L8y03bWP6"
      },
      "source": [
        "def word_freq_count(text):\n",
        "  words = text.split()\n",
        "  freqdict = {word: words.count(word) for word in words}\n",
        "  return freqdict"
      ],
      "execution_count": 54,
      "outputs": []
    },
    {
      "cell_type": "markdown",
      "metadata": {
        "id": "s0UgcEo_6l8O"
      },
      "source": [
        "### 5.6 Check word frequency of review having top ratings (sentiment = 1) and display output of few samples"
      ]
    },
    {
      "cell_type": "code",
      "metadata": {
        "id": "BLEEFEmv60mU"
      },
      "source": [
        "word_freq = df_verified_review[df_verified_review['sentiment'] == 1]['lemm'].apply(lambda x: word_freq_count(x))"
      ],
      "execution_count": 55,
      "outputs": []
    },
    {
      "cell_type": "code",
      "metadata": {
        "colab": {
          "base_uri": "https://localhost:8080/"
        },
        "id": "TFXZT1EwgPoN",
        "outputId": "5b93f1c5-686a-4110-8de2-e0e1542251ed"
      },
      "source": [
        "word_freq.head(5)"
      ],
      "execution_count": 56,
      "outputs": [
        {
          "output_type": "execute_result",
          "data": {
            "text/plain": [
              "18    {'product': 1, 'good': 1, 'used': 1, 'cell': 1...\n",
              "21    {'bought': 1, 'phone': 4, 'replace': 1, 'lg': ...\n",
              "24      {'served': 1, 'well': 1, 'back': 1, 'phone': 1}\n",
              "26    {'sturdy': 1, 'clarity': 1, 'great': 1, 'easy'...\n",
              "28    {'beautiful': 1, 'job': 1, 'used': 1, 'item': ...\n",
              "Name: lemm, dtype: object"
            ]
          },
          "metadata": {
            "tags": []
          },
          "execution_count": 56
        }
      ]
    },
    {
      "cell_type": "markdown",
      "metadata": {
        "id": "9UbdTGsv60t1"
      },
      "source": [
        "### 5.7 Initialize tf-idf vectorizer and transform the preprocessed body text"
      ]
    },
    {
      "cell_type": "code",
      "metadata": {
        "id": "_Jfo6go_69yh"
      },
      "source": [
        "from sklearn.feature_extraction.text import TfidfVectorizer\n",
        "tfidvectorizer = TfidfVectorizer(min_df=0.,max_df=1.,use_idf=True)\n",
        "review_vectorizer = tfidvectorizer.fit_transform(df_verified_review['lemm'])"
      ],
      "execution_count": 57,
      "outputs": []
    },
    {
      "cell_type": "markdown",
      "metadata": {
        "id": "5dqPXETLKN0h"
      },
      "source": [
        "### 5.8 Segregate the data into dependent (sentiment) and independent (transformed body using tf-idf) features for building a classifier. "
      ]
    },
    {
      "cell_type": "code",
      "metadata": {
        "id": "mpOLAYn07W6F"
      },
      "source": [
        "X = review_vectorizer\n",
        "Y = df_verified_review['sentiment']"
      ],
      "execution_count": 58,
      "outputs": []
    },
    {
      "cell_type": "markdown",
      "metadata": {
        "id": "4K03FO0q7XBP"
      },
      "source": [
        "### 5.9 Split the data into Train & Test Sets"
      ]
    },
    {
      "cell_type": "code",
      "metadata": {
        "id": "D548-7cE7dZa"
      },
      "source": [
        "from sklearn.model_selection import train_test_split\n",
        "X_train,X_test,Y_train,Y_test = train_test_split(X,Y,test_size = 0.30,random_state =5)"
      ],
      "execution_count": 59,
      "outputs": []
    },
    {
      "cell_type": "markdown",
      "metadata": {
        "id": "rhD1a-beKvE7"
      },
      "source": [
        "## 6. Model building"
      ]
    },
    {
      "cell_type": "markdown",
      "metadata": {
        "id": "UPFovmN03exD"
      },
      "source": [
        "### 6.1 Build a random forest classifier to predict the 'sentiment'\n",
        "### 6.2 Predict on test set\n",
        "### 6.3 Check accuracy and confusion matrix"
      ]
    },
    {
      "cell_type": "code",
      "metadata": {
        "id": "w-1AGE9PrpE4"
      },
      "source": [
        "from sklearn.metrics import confusion_matrix , classification_report\n",
        "from sklearn.ensemble import RandomForestClassifier"
      ],
      "execution_count": 64,
      "outputs": []
    },
    {
      "cell_type": "code",
      "metadata": {
        "id": "y0ytdD-_30P9",
        "colab": {
          "base_uri": "https://localhost:8080/"
        },
        "outputId": "e3f8d411-b9e3-4387-b92e-d9c36c436c09"
      },
      "source": [
        "randomForestClassifier = RandomForestClassifier()\n",
        "randomForestClassifier.fit(X_train,Y_train)"
      ],
      "execution_count": 60,
      "outputs": [
        {
          "output_type": "execute_result",
          "data": {
            "text/plain": [
              "RandomForestClassifier(bootstrap=True, ccp_alpha=0.0, class_weight=None,\n",
              "                       criterion='gini', max_depth=None, max_features='auto',\n",
              "                       max_leaf_nodes=None, max_samples=None,\n",
              "                       min_impurity_decrease=0.0, min_impurity_split=None,\n",
              "                       min_samples_leaf=1, min_samples_split=2,\n",
              "                       min_weight_fraction_leaf=0.0, n_estimators=100,\n",
              "                       n_jobs=None, oob_score=False, random_state=None,\n",
              "                       verbose=0, warm_start=False)"
            ]
          },
          "metadata": {
            "tags": []
          },
          "execution_count": 60
        }
      ]
    },
    {
      "cell_type": "code",
      "metadata": {
        "id": "NJ6Ke4hl30Zk",
        "colab": {
          "base_uri": "https://localhost:8080/"
        },
        "outputId": "0b610f41-f552-4a93-e56e-762a4182af91"
      },
      "source": [
        "print(\"Training Accuracy\" , randomForestClassifier.score(X_train, Y_train))\n",
        "print(\"Testing Accuracy\" , randomForestClassifier.score(X_test, Y_test))"
      ],
      "execution_count": 63,
      "outputs": [
        {
          "output_type": "stream",
          "text": [
            "Training Accuracy 0.9948666495554985\n",
            "Testing Accuracy 0.8565439895470384\n"
          ],
          "name": "stdout"
        }
      ]
    },
    {
      "cell_type": "code",
      "metadata": {
        "id": "GVLztPfWreKu"
      },
      "source": [
        "y_pred = randomForestClassifier.predict(X_test)"
      ],
      "execution_count": 65,
      "outputs": []
    },
    {
      "cell_type": "code",
      "metadata": {
        "colab": {
          "base_uri": "https://localhost:8080/"
        },
        "id": "zmKSUiyYr4hG",
        "outputId": "9ece8dea-3078-43a8-c8e5-6d5989141a7b"
      },
      "source": [
        "print('Actual Sentiment {}'.format(Y_test.iloc[0]))\n",
        "if(y_pred[0] ==1):\n",
        "  print('Positive Sentiment  {}'.format(y_pred[0]))\n",
        "elif(y_pred[0] == -1):\n",
        "  print('Negative Sentiment  {}'.format(y_pred[0]))\n",
        "else:\n",
        "  print('Neutral Sentiment  {}'.format(y_pred[0]))"
      ],
      "execution_count": 80,
      "outputs": [
        {
          "output_type": "stream",
          "text": [
            "Actual Sentiment 1\n",
            "Positive Sentiment  1\n"
          ],
          "name": "stdout"
        }
      ]
    },
    {
      "cell_type": "code",
      "metadata": {
        "colab": {
          "base_uri": "https://localhost:8080/"
        },
        "id": "MXubyiXhv_uu",
        "outputId": "58a36e0b-90ab-454e-e71c-b6bece83bf0d"
      },
      "source": [
        "print('Actual Sentiment {}'.format(Y_test.iloc[5]))\n",
        "if(y_pred[5] == 1):\n",
        "  print('Positive Sentiment  {}'.format(y_pred[5]))\n",
        "elif(y_pred[5] == -1):\n",
        "  print('Negative Sentiment  {}'.format(y_pred[5]))\n",
        "else:\n",
        "  print('Neutral Sentiment  {}'.format(y_pred[5]))"
      ],
      "execution_count": 124,
      "outputs": [
        {
          "output_type": "stream",
          "text": [
            "Actual Sentiment -1\n",
            "Negative Sentiment  -1\n"
          ],
          "name": "stdout"
        }
      ]
    },
    {
      "cell_type": "code",
      "metadata": {
        "colab": {
          "base_uri": "https://localhost:8080/"
        },
        "id": "sCOIIDjhzmwk",
        "outputId": "c9e68d4e-46ec-47ee-81e6-1c80548cdca1"
      },
      "source": [
        "Y_test.value_counts()"
      ],
      "execution_count": 104,
      "outputs": [
        {
          "output_type": "execute_result",
          "data": {
            "text/plain": [
              " 1    12882\n",
              "-1     4290\n",
              " 0     1196\n",
              "Name: sentiment, dtype: int64"
            ]
          },
          "metadata": {
            "tags": []
          },
          "execution_count": 104
        }
      ]
    },
    {
      "cell_type": "code",
      "metadata": {
        "colab": {
          "base_uri": "https://localhost:8080/"
        },
        "id": "rYcDTjZEyNmb",
        "outputId": "eeee1e7a-82bd-4451-eb5e-8e5cf45c1561"
      },
      "source": [
        "confusion_matrix(y_pred , Y_test)"
      ],
      "execution_count": 102,
      "outputs": [
        {
          "output_type": "execute_result",
          "data": {
            "text/plain": [
              "array([[ 3127,   345,   361],\n",
              "       [    5,    94,     9],\n",
              "       [ 1158,   757, 12512]])"
            ]
          },
          "metadata": {
            "tags": []
          },
          "execution_count": 102
        }
      ]
    },
    {
      "cell_type": "markdown",
      "metadata": {
        "id": "sDjv9tR00VG2"
      },
      "source": [
        "| Total=18368 | Actual -1 | Actual 0 | Actual 1|\n",
        "| --- | --- | --- | --- |\n",
        "| Predicted  -1   | 3127 | 345 | 361 |\n",
        "| Predicted  0   | 5 | 94| 9 |\n",
        "| Predicted  1   | 1158 | 757| 12512 |\n",
        "| Total   | 4290 | 1196| 12882 |"
      ]
    },
    {
      "cell_type": "code",
      "metadata": {
        "colab": {
          "base_uri": "https://localhost:8080/"
        },
        "id": "l8BXaxudrlZP",
        "outputId": "3ad3d1df-2475-401f-ee9b-cdcd0ef8512f"
      },
      "source": [
        "print(classification_report(y_pred, Y_test))"
      ],
      "execution_count": 101,
      "outputs": [
        {
          "output_type": "stream",
          "text": [
            "              precision    recall  f1-score   support\n",
            "\n",
            "          -1       0.73      0.82      0.77      3833\n",
            "           0       0.08      0.87      0.14       108\n",
            "           1       0.97      0.87      0.92     14427\n",
            "\n",
            "    accuracy                           0.86     18368\n",
            "   macro avg       0.59      0.85      0.61     18368\n",
            "weighted avg       0.92      0.86      0.88     18368\n",
            "\n"
          ],
          "name": "stdout"
        }
      ]
    },
    {
      "cell_type": "markdown",
      "metadata": {
        "id": "Ey7an7ukLxWB"
      },
      "source": [
        "## 7. Write your conclusion"
      ]
    },
    {
      "cell_type": "markdown",
      "metadata": {
        "id": "G0LAD0V1LA5f"
      },
      "source": [
        "# **Observations:**\n",
        "-  From the above Confusion matrix, We can conclude the below inferences.\n",
        "  - Of the Actual 12882 verified users with Positive review, Model has precited 12512 reviews as Positive where the precision (% prediction) positive reviews is about (12512/12882) = 97%.\n",
        "\n",
        "  - Of the total 1196 verified users with neutral review, Model has predicted only 94 as neutral reviews, where the precision(% prediction) neutral reviews is about(94/1196) =8%\n",
        "\n",
        "  -  Of the total 4290 negative reviews from the verified customers, Model has predicted 3127 as negative reviews, where the precision (%Prediction) of negative reviews is about (3127/4290) = 73%\n",
        "\n",
        "  - Among the 3833 predicted as negative reviews, Model found only 3127 as actual Negative comments , 345 predicted as negative sentiments are actually neutral sentiments and 361 are actually postive sentiments, Which leads to Type -2 Error. The total recall is about 3127/3833 = 82%.\n",
        "\n",
        "  - Among 108 predicted neutral reviews, Model has actual 94 as neutral review but 5 reviews are actually negative and 9 are actually as Postive, the total recall is about 94/108 = 87%.\n",
        "\n",
        "  - Among the 14427 predicted as positive sentiment, Model has predicted wrongly 1158 actual negative sentiments as Positive and 757 reviews are wrongly predicted as neutral, Which may cause TYpe-2 error in the prediction. The recall is about 12512/14427 = 87%.\n",
        "\n",
        "  - The training Accuracy is about 99% and Testing accuracy is about 86%.\n",
        "\n",
        "  - As the model has Type-2 errors in prediction, the overall performance of the model is average. We need to train this model further preprocessing the reviews by removing the accents, removing the repeated characters, Spelling corections and Grammatical error corrections.\n",
        "\n",
        "  - The models accuracy can further increased by using advance text processing algorithms like Word Embedding (Word2Vec),GLove etc.\n"
      ]
    }
  ]
}