{
 "cells": [
  {
   "cell_type": "code",
   "execution_count": 1,
   "metadata": {
    "colab": {
     "base_uri": "https://localhost:8080/"
    },
    "id": "27MxGLwT9ys3",
    "outputId": "7685b25d-305d-4e19-a833-e438e601665b"
   },
   "outputs": [
    {
     "name": "stdout",
     "output_type": "stream",
     "text": [
      "2.5.0\n"
     ]
    }
   ],
   "source": [
    "# used to supress display of warnings\n",
    "import warnings\n",
    "\n",
    "# os is used to provide a way of using operating system dependent functionality\n",
    "# We use it for setting working folder\n",
    "import os\n",
    "\n",
    "## For all the Image processing activity\n",
    "import cv2\n",
    "\n",
    "# Pandas is used for data manipulation and analysis\n",
    "import pandas as pd \n",
    "\n",
    "# Numpy is used for large, multi-dimensional arrays and matrices, along with mathematical operators on these arrays\n",
    "import numpy as np\n",
    "\n",
    "# Matplotlib is a data visualization library for 2D plots of arrays, built on NumPy arrays \n",
    "# and designed to work with the broader SciPy stack\n",
    "import matplotlib.pyplot as plt\n",
    "%matplotlib inline\n",
    "from matplotlib import pyplot\n",
    "\n",
    "# Seaborn is based on matplotlib, which aids in drawing attractive and informative statistical graphics.\n",
    "import seaborn as sns\n",
    "import tensorflow \n",
    "print(tensorflow.__version__)\n",
    "\n",
    "\n",
    "from keras.utils import np_utils\n",
    "from keras.models import Sequential\n",
    "from keras.layers import GlobalAveragePooling2D\n",
    "from keras.layers.core import Dense, Dropout, Activation, Flatten\n",
    "from keras.layers.convolutional import Conv2D, MaxPooling2D\n",
    "from keras.optimizers import SGD\n",
    "from keras.constraints import maxnorm\n",
    "from PIL import Image\n",
    "from PIL import ImageMath\n",
    "\n",
    "from sklearn.utils import shuffle\n",
    "\n",
    "# Initialize the random number generator\n",
    "import random\n",
    "\n",
    "## train and test Data set split\n",
    "from sklearn.model_selection import train_test_split\n",
    "\n",
    "## Doing One hot encoding\n",
    "from tensorflow.keras.utils import to_categorical\n",
    "import tensorflow as tf\n",
    "\n",
    "## To unzip the Image Files\n",
    "\n",
    "import zipfile\n",
    "\n",
    "from sklearn.tree import  DecisionTreeClassifier\n",
    "from sklearn.metrics import confusion_matrix , classification_report\n",
    "from sklearn.feature_extraction.text import CountVectorizer\n",
    "from sklearn.naive_bayes import MultinomialNB\n",
    "\n",
    "import gc\n",
    "\n",
    "from sklearn.linear_model import LogisticRegression\n",
    "from sklearn.pipeline import Pipeline\n",
    "from sklearn.metrics import accuracy_score\n",
    "from sklearn.multiclass import OneVsRestClassifier\n",
    "from sklearn.metrics import f1_score\n",
    "from sklearn.metrics import average_precision_score\n",
    "from sklearn.metrics import recall_score\n",
    "\n",
    "from sklearn.preprocessing import MultiLabelBinarizer\n",
    "\n",
    "import random\n",
    "from tensorflow.keras.callbacks import ModelCheckpoint\n",
    "\n",
    "from sklearn.preprocessing import LabelEncoder\n",
    "\n",
    "##Vectorizier\n",
    "from sklearn.feature_extraction.text import  TfidfVectorizer\n",
    "\n",
    "##COlab Drive mount\n",
    "from google.colab import drive\n"
   ]
  },
  {
   "cell_type": "code",
   "execution_count": 2,
   "metadata": {
    "id": "WYzHJkEaENg4"
   },
   "outputs": [],
   "source": [
    "warnings.filterwarnings('ignore')\n",
    "\n",
    "# display all dataframe columns\n",
    "pd.options.display.max_columns = None\n",
    "\n",
    "# display all dataframe rows\n",
    "pd.options.display.max_rows = None\n",
    "\n",
    "pd.options.display.max_colwidth=500\n",
    "pd.options.display.max_info_rows = 100"
   ]
  },
  {
   "cell_type": "code",
   "execution_count": 3,
   "metadata": {
    "colab": {
     "base_uri": "https://localhost:8080/"
    },
    "id": "kAHAKNtV-0b0",
    "outputId": "5486e9fb-f855-4c0b-e0a3-bba3930baa62"
   },
   "outputs": [
    {
     "name": "stdout",
     "output_type": "stream",
     "text": [
      "Drive already mounted at /content/drive; to attempt to forcibly remount, call drive.mount(\"/content/drive\", force_remount=True).\n"
     ]
    }
   ],
   "source": [
    "drive.mount('/content/drive')"
   ]
  },
  {
   "cell_type": "code",
   "execution_count": 4,
   "metadata": {
    "id": "XfOqABZ0_Zgt"
   },
   "outputs": [],
   "source": [
    "os.chdir('/content/drive/MyDrive/Colab Notebooks/NLP/Assignment/')"
   ]
  },
  {
   "cell_type": "code",
   "execution_count": 5,
   "metadata": {
    "colab": {
     "base_uri": "https://localhost:8080/",
     "height": 36
    },
    "id": "DKu-XpqKDX7K",
    "outputId": "8319427e-d1f3-4df9-bdd3-72b14d833828"
   },
   "outputs": [
    {
     "data": {
      "application/vnd.google.colaboratory.intrinsic+json": {
       "type": "string"
      },
      "text/plain": [
       "'/content/drive/MyDrive/Colab Notebooks/NLP/Assignment'"
      ]
     },
     "execution_count": 5,
     "metadata": {
      "tags": []
     },
     "output_type": "execute_result"
    }
   ],
   "source": [
    "os.getcwd()"
   ]
  },
  {
   "cell_type": "code",
   "execution_count": 6,
   "metadata": {
    "id": "bIDCpqWpDZyE"
   },
   "outputs": [],
   "source": [
    "blog_df = pd.read_csv('blogtext.csv')"
   ]
  },
  {
   "cell_type": "code",
   "execution_count": 7,
   "metadata": {
    "colab": {
     "base_uri": "https://localhost:8080/",
     "height": 710
    },
    "id": "hTCyDVvZD-ru",
    "outputId": "360604de-5a36-4459-8173-0208cc4a43dd"
   },
   "outputs": [
    {
     "data": {
      "text/html": [
       "<div>\n",
       "<style scoped>\n",
       "    .dataframe tbody tr th:only-of-type {\n",
       "        vertical-align: middle;\n",
       "    }\n",
       "\n",
       "    .dataframe tbody tr th {\n",
       "        vertical-align: top;\n",
       "    }\n",
       "\n",
       "    .dataframe thead th {\n",
       "        text-align: right;\n",
       "    }\n",
       "</style>\n",
       "<table border=\"1\" class=\"dataframe\">\n",
       "  <thead>\n",
       "    <tr style=\"text-align: right;\">\n",
       "      <th></th>\n",
       "      <th>id</th>\n",
       "      <th>gender</th>\n",
       "      <th>age</th>\n",
       "      <th>topic</th>\n",
       "      <th>sign</th>\n",
       "      <th>date</th>\n",
       "      <th>text</th>\n",
       "    </tr>\n",
       "  </thead>\n",
       "  <tbody>\n",
       "    <tr>\n",
       "      <th>0</th>\n",
       "      <td>2059027</td>\n",
       "      <td>male</td>\n",
       "      <td>15</td>\n",
       "      <td>Student</td>\n",
       "      <td>Leo</td>\n",
       "      <td>14,May,2004</td>\n",
       "      <td>Info has been found (+/- 100 pages, and 4.5 MB of .pdf files) Now i have to wait untill our team leader has processed it and learns html.</td>\n",
       "    </tr>\n",
       "    <tr>\n",
       "      <th>1</th>\n",
       "      <td>2059027</td>\n",
       "      <td>male</td>\n",
       "      <td>15</td>\n",
       "      <td>Student</td>\n",
       "      <td>Leo</td>\n",
       "      <td>13,May,2004</td>\n",
       "      <td>These are the team members:   Drewes van der Laag           urlLink mail  Ruiyu Xie                     urlLink mail  Bryan Aaldering (me)          urlLink mail</td>\n",
       "    </tr>\n",
       "    <tr>\n",
       "      <th>2</th>\n",
       "      <td>2059027</td>\n",
       "      <td>male</td>\n",
       "      <td>15</td>\n",
       "      <td>Student</td>\n",
       "      <td>Leo</td>\n",
       "      <td>12,May,2004</td>\n",
       "      <td>In het kader van kernfusie op aarde:  MAAK JE EIGEN WATERSTOFBOM   How to build an H-Bomb From: ascott@tartarus.uwa.edu.au (Andrew Scott) Newsgroups: rec.humor Subject: How To Build An H-Bomb (humorous!) Date: 7 Feb 1994 07:41:14 GMT Organization: The University of Western Australia  Original file dated 12th November 1990. Seemed to be a transcript of a 'Seven Days' article. Poorly formatted and corrupted. I have added the text between 'examine under a microscope' and 'malleable, ...</td>\n",
       "    </tr>\n",
       "    <tr>\n",
       "      <th>3</th>\n",
       "      <td>2059027</td>\n",
       "      <td>male</td>\n",
       "      <td>15</td>\n",
       "      <td>Student</td>\n",
       "      <td>Leo</td>\n",
       "      <td>12,May,2004</td>\n",
       "      <td>testing!!!  testing!!!</td>\n",
       "    </tr>\n",
       "    <tr>\n",
       "      <th>4</th>\n",
       "      <td>3581210</td>\n",
       "      <td>male</td>\n",
       "      <td>33</td>\n",
       "      <td>InvestmentBanking</td>\n",
       "      <td>Aquarius</td>\n",
       "      <td>11,June,2004</td>\n",
       "      <td>Thanks to Yahoo!'s Toolbar I can now 'capture' the URLs of popups...which means now I can show you some cool links to Korean Pop (K-Pop) audio and video without the need to relate instructions like: 'go to the site, click on the pop-audio button then choose...'.  So, without further ado here is the link to 24-hour K-Pop  urlLink audio  and the  urlLink video  streaming.  Enjoy.</td>\n",
       "    </tr>\n",
       "    <tr>\n",
       "      <th>5</th>\n",
       "      <td>3581210</td>\n",
       "      <td>male</td>\n",
       "      <td>33</td>\n",
       "      <td>InvestmentBanking</td>\n",
       "      <td>Aquarius</td>\n",
       "      <td>10,June,2004</td>\n",
       "      <td>I had an interesting conversation with my Dad this morning.  We were talking about where Koreans put their money.  Invariably, they have a lot of real estate and cash.  (Cash would include short term investments under one year as well as savings accounts.)  The reason?  Real estate makes money here.  A lot of money.  I've seen surveys of Seoul real estate rising about 10-15% PER YEAR for long stretches, even after taking into account the 1997 Crisis (referred to as the IMF crisi...</td>\n",
       "    </tr>\n",
       "    <tr>\n",
       "      <th>6</th>\n",
       "      <td>3581210</td>\n",
       "      <td>male</td>\n",
       "      <td>33</td>\n",
       "      <td>InvestmentBanking</td>\n",
       "      <td>Aquarius</td>\n",
       "      <td>10,June,2004</td>\n",
       "      <td>Somehow Coca-Cola has a way of summing up things so well.  In the early 1970s they had as their flagship jingle 'I'd Like to Buy the World a Coke' (to the tune of 'I'd Like to Teach the World to Sing') that pretty much summed up the post-Woodstock era so well.  It didn't add much to sales, but it was a catchy tune.  In Korea Coke's theme is  urlLink Stop Thinking. Feel it.  which pretty much sums up a lot about Korea and Koreans.  (Look at how relaxed that couple is, now that th...</td>\n",
       "    </tr>\n",
       "    <tr>\n",
       "      <th>7</th>\n",
       "      <td>3581210</td>\n",
       "      <td>male</td>\n",
       "      <td>33</td>\n",
       "      <td>InvestmentBanking</td>\n",
       "      <td>Aquarius</td>\n",
       "      <td>10,June,2004</td>\n",
       "      <td>If anything, Korea is a country of extremes.  Everything here seems fad-based.  I think it may come from Korea's history.  It has been invaded a reported 700 times over the years, and each time they got independence I imagine they had to move quickly to get to the next level before the next war or occupation.  Lately (well, not really lately...in 1945) the Japanese Occupation ended.  Then the Korean War occurred from 1950-3.  After that there was turmoil, but in 1961 Park Chung ...</td>\n",
       "    </tr>\n",
       "    <tr>\n",
       "      <th>8</th>\n",
       "      <td>3581210</td>\n",
       "      <td>male</td>\n",
       "      <td>33</td>\n",
       "      <td>InvestmentBanking</td>\n",
       "      <td>Aquarius</td>\n",
       "      <td>10,June,2004</td>\n",
       "      <td>Take a read of this news article from urlLink JoongAng Ilbo  about North Korea's opinion on the scaling down of troops in Seoul and Korea (specifically, 3,600 troops are heading to Iraq and by the end of 2005 the current total of 37,000 should drop to about 24,500).   North blasts U.S. troop cuts  North Korea again blasted the United States yesterday for what it calls 'an increase of U.S. defense capabilities' after the planned relocation of 3,600 U.S. troops in South Korea to I...</td>\n",
       "    </tr>\n",
       "    <tr>\n",
       "      <th>9</th>\n",
       "      <td>3581210</td>\n",
       "      <td>male</td>\n",
       "      <td>33</td>\n",
       "      <td>InvestmentBanking</td>\n",
       "      <td>Aquarius</td>\n",
       "      <td>09,June,2004</td>\n",
       "      <td>I surf the English news sites a lot looking for tidbits on Korea and how foreigners (like me) view the 'Hermit Kingdom' but also as a way to keep up with this fast-moving place.  Sometimes, though, one needs to check the veracity of the figures put in the papers...especially the local ones.  Here are two examples of how the English version of the Korea Times and that of the JoongAng Ilbo (Daily).  The first is pretty straightforward.   urlLink Korea Times  said that 249 people w...</td>\n",
       "    </tr>\n",
       "  </tbody>\n",
       "</table>\n",
       "</div>"
      ],
      "text/plain": [
       "        id gender  age              topic      sign          date  \\\n",
       "0  2059027   male   15            Student       Leo   14,May,2004   \n",
       "1  2059027   male   15            Student       Leo   13,May,2004   \n",
       "2  2059027   male   15            Student       Leo   12,May,2004   \n",
       "3  2059027   male   15            Student       Leo   12,May,2004   \n",
       "4  3581210   male   33  InvestmentBanking  Aquarius  11,June,2004   \n",
       "5  3581210   male   33  InvestmentBanking  Aquarius  10,June,2004   \n",
       "6  3581210   male   33  InvestmentBanking  Aquarius  10,June,2004   \n",
       "7  3581210   male   33  InvestmentBanking  Aquarius  10,June,2004   \n",
       "8  3581210   male   33  InvestmentBanking  Aquarius  10,June,2004   \n",
       "9  3581210   male   33  InvestmentBanking  Aquarius  09,June,2004   \n",
       "\n",
       "                                                                                                                                                                                                                                                                                                                                                                                                                                                                                                                  text  \n",
       "0                                                                                                                                                                                                                                                                                                                                                                   Info has been found (+/- 100 pages, and 4.5 MB of .pdf files) Now i have to wait untill our team leader has processed it and learns html.           \n",
       "1                                                                                                                                                                                                                                                                                                                                           These are the team members:   Drewes van der Laag           urlLink mail  Ruiyu Xie                     urlLink mail  Bryan Aaldering (me)          urlLink mail            \n",
       "2             In het kader van kernfusie op aarde:  MAAK JE EIGEN WATERSTOFBOM   How to build an H-Bomb From: ascott@tartarus.uwa.edu.au (Andrew Scott) Newsgroups: rec.humor Subject: How To Build An H-Bomb (humorous!) Date: 7 Feb 1994 07:41:14 GMT Organization: The University of Western Australia  Original file dated 12th November 1990. Seemed to be a transcript of a 'Seven Days' article. Poorly formatted and corrupted. I have added the text between 'examine under a microscope' and 'malleable, ...  \n",
       "3                                                                                                                                                                                                                                                                                                                                                                                                                                                                                     testing!!!  testing!!!            \n",
       "4                                                                                                                Thanks to Yahoo!'s Toolbar I can now 'capture' the URLs of popups...which means now I can show you some cool links to Korean Pop (K-Pop) audio and video without the need to relate instructions like: 'go to the site, click on the pop-audio button then choose...'.  So, without further ado here is the link to 24-hour K-Pop  urlLink audio  and the  urlLink video  streaming.  Enjoy.           \n",
       "5               I had an interesting conversation with my Dad this morning.  We were talking about where Koreans put their money.  Invariably, they have a lot of real estate and cash.  (Cash would include short term investments under one year as well as savings accounts.)  The reason?  Real estate makes money here.  A lot of money.  I've seen surveys of Seoul real estate rising about 10-15% PER YEAR for long stretches, even after taking into account the 1997 Crisis (referred to as the IMF crisi...  \n",
       "6               Somehow Coca-Cola has a way of summing up things so well.  In the early 1970s they had as their flagship jingle 'I'd Like to Buy the World a Coke' (to the tune of 'I'd Like to Teach the World to Sing') that pretty much summed up the post-Woodstock era so well.  It didn't add much to sales, but it was a catchy tune.  In Korea Coke's theme is  urlLink Stop Thinking. Feel it.  which pretty much sums up a lot about Korea and Koreans.  (Look at how relaxed that couple is, now that th...  \n",
       "7               If anything, Korea is a country of extremes.  Everything here seems fad-based.  I think it may come from Korea's history.  It has been invaded a reported 700 times over the years, and each time they got independence I imagine they had to move quickly to get to the next level before the next war or occupation.  Lately (well, not really lately...in 1945) the Japanese Occupation ended.  Then the Korean War occurred from 1950-3.  After that there was turmoil, but in 1961 Park Chung ...  \n",
       "8               Take a read of this news article from urlLink JoongAng Ilbo  about North Korea's opinion on the scaling down of troops in Seoul and Korea (specifically, 3,600 troops are heading to Iraq and by the end of 2005 the current total of 37,000 should drop to about 24,500).   North blasts U.S. troop cuts  North Korea again blasted the United States yesterday for what it calls 'an increase of U.S. defense capabilities' after the planned relocation of 3,600 U.S. troops in South Korea to I...  \n",
       "9               I surf the English news sites a lot looking for tidbits on Korea and how foreigners (like me) view the 'Hermit Kingdom' but also as a way to keep up with this fast-moving place.  Sometimes, though, one needs to check the veracity of the figures put in the papers...especially the local ones.  Here are two examples of how the English version of the Korea Times and that of the JoongAng Ilbo (Daily).  The first is pretty straightforward.   urlLink Korea Times  said that 249 people w...  "
      ]
     },
     "execution_count": 7,
     "metadata": {
      "tags": []
     },
     "output_type": "execute_result"
    }
   ],
   "source": [
    "blog_df.head(10)"
   ]
  },
  {
   "cell_type": "code",
   "execution_count": 8,
   "metadata": {
    "colab": {
     "base_uri": "https://localhost:8080/"
    },
    "id": "oyN-eVAiEKbl",
    "outputId": "6b0e4bac-2cba-4041-9018-a99a672e3901"
   },
   "outputs": [
    {
     "data": {
      "text/plain": [
       "(681284, 7)"
      ]
     },
     "execution_count": 8,
     "metadata": {
      "tags": []
     },
     "output_type": "execute_result"
    }
   ],
   "source": [
    "blog_df.shape"
   ]
  },
  {
   "cell_type": "code",
   "execution_count": 9,
   "metadata": {
    "colab": {
     "base_uri": "https://localhost:8080/",
     "height": 394
    },
    "id": "gV9E6jTjJYsp",
    "outputId": "fd15cb64-f90a-47aa-e09b-dfd53d716356"
   },
   "outputs": [
    {
     "data": {
      "text/html": [
       "<div>\n",
       "<style scoped>\n",
       "    .dataframe tbody tr th:only-of-type {\n",
       "        vertical-align: middle;\n",
       "    }\n",
       "\n",
       "    .dataframe tbody tr th {\n",
       "        vertical-align: top;\n",
       "    }\n",
       "\n",
       "    .dataframe thead th {\n",
       "        text-align: right;\n",
       "    }\n",
       "</style>\n",
       "<table border=\"1\" class=\"dataframe\">\n",
       "  <thead>\n",
       "    <tr style=\"text-align: right;\">\n",
       "      <th></th>\n",
       "      <th>id</th>\n",
       "      <th>gender</th>\n",
       "      <th>age</th>\n",
       "      <th>topic</th>\n",
       "      <th>sign</th>\n",
       "      <th>date</th>\n",
       "      <th>text</th>\n",
       "    </tr>\n",
       "  </thead>\n",
       "  <tbody>\n",
       "    <tr>\n",
       "      <th>count</th>\n",
       "      <td>6.812840e+05</td>\n",
       "      <td>681284</td>\n",
       "      <td>681284.000000</td>\n",
       "      <td>681284</td>\n",
       "      <td>681284</td>\n",
       "      <td>681284</td>\n",
       "      <td>681284</td>\n",
       "    </tr>\n",
       "    <tr>\n",
       "      <th>unique</th>\n",
       "      <td>NaN</td>\n",
       "      <td>2</td>\n",
       "      <td>NaN</td>\n",
       "      <td>40</td>\n",
       "      <td>12</td>\n",
       "      <td>2616</td>\n",
       "      <td>611652</td>\n",
       "    </tr>\n",
       "    <tr>\n",
       "      <th>top</th>\n",
       "      <td>NaN</td>\n",
       "      <td>male</td>\n",
       "      <td>NaN</td>\n",
       "      <td>indUnk</td>\n",
       "      <td>Cancer</td>\n",
       "      <td>02,August,2004</td>\n",
       "      <td>urlLink</td>\n",
       "    </tr>\n",
       "    <tr>\n",
       "      <th>freq</th>\n",
       "      <td>NaN</td>\n",
       "      <td>345193</td>\n",
       "      <td>NaN</td>\n",
       "      <td>251015</td>\n",
       "      <td>65048</td>\n",
       "      <td>16544</td>\n",
       "      <td>445</td>\n",
       "    </tr>\n",
       "    <tr>\n",
       "      <th>mean</th>\n",
       "      <td>2.397802e+06</td>\n",
       "      <td>NaN</td>\n",
       "      <td>23.932326</td>\n",
       "      <td>NaN</td>\n",
       "      <td>NaN</td>\n",
       "      <td>NaN</td>\n",
       "      <td>NaN</td>\n",
       "    </tr>\n",
       "    <tr>\n",
       "      <th>std</th>\n",
       "      <td>1.247723e+06</td>\n",
       "      <td>NaN</td>\n",
       "      <td>7.786009</td>\n",
       "      <td>NaN</td>\n",
       "      <td>NaN</td>\n",
       "      <td>NaN</td>\n",
       "      <td>NaN</td>\n",
       "    </tr>\n",
       "    <tr>\n",
       "      <th>min</th>\n",
       "      <td>5.114000e+03</td>\n",
       "      <td>NaN</td>\n",
       "      <td>13.000000</td>\n",
       "      <td>NaN</td>\n",
       "      <td>NaN</td>\n",
       "      <td>NaN</td>\n",
       "      <td>NaN</td>\n",
       "    </tr>\n",
       "    <tr>\n",
       "      <th>25%</th>\n",
       "      <td>1.239610e+06</td>\n",
       "      <td>NaN</td>\n",
       "      <td>17.000000</td>\n",
       "      <td>NaN</td>\n",
       "      <td>NaN</td>\n",
       "      <td>NaN</td>\n",
       "      <td>NaN</td>\n",
       "    </tr>\n",
       "    <tr>\n",
       "      <th>50%</th>\n",
       "      <td>2.607577e+06</td>\n",
       "      <td>NaN</td>\n",
       "      <td>24.000000</td>\n",
       "      <td>NaN</td>\n",
       "      <td>NaN</td>\n",
       "      <td>NaN</td>\n",
       "      <td>NaN</td>\n",
       "    </tr>\n",
       "    <tr>\n",
       "      <th>75%</th>\n",
       "      <td>3.525660e+06</td>\n",
       "      <td>NaN</td>\n",
       "      <td>26.000000</td>\n",
       "      <td>NaN</td>\n",
       "      <td>NaN</td>\n",
       "      <td>NaN</td>\n",
       "      <td>NaN</td>\n",
       "    </tr>\n",
       "    <tr>\n",
       "      <th>max</th>\n",
       "      <td>4.337650e+06</td>\n",
       "      <td>NaN</td>\n",
       "      <td>48.000000</td>\n",
       "      <td>NaN</td>\n",
       "      <td>NaN</td>\n",
       "      <td>NaN</td>\n",
       "      <td>NaN</td>\n",
       "    </tr>\n",
       "  </tbody>\n",
       "</table>\n",
       "</div>"
      ],
      "text/plain": [
       "                  id  gender            age   topic    sign            date  \\\n",
       "count   6.812840e+05  681284  681284.000000  681284  681284          681284   \n",
       "unique           NaN       2            NaN      40      12            2616   \n",
       "top              NaN    male            NaN  indUnk  Cancer  02,August,2004   \n",
       "freq             NaN  345193            NaN  251015   65048           16544   \n",
       "mean    2.397802e+06     NaN      23.932326     NaN     NaN             NaN   \n",
       "std     1.247723e+06     NaN       7.786009     NaN     NaN             NaN   \n",
       "min     5.114000e+03     NaN      13.000000     NaN     NaN             NaN   \n",
       "25%     1.239610e+06     NaN      17.000000     NaN     NaN             NaN   \n",
       "50%     2.607577e+06     NaN      24.000000     NaN     NaN             NaN   \n",
       "75%     3.525660e+06     NaN      26.000000     NaN     NaN             NaN   \n",
       "max     4.337650e+06     NaN      48.000000     NaN     NaN             NaN   \n",
       "\n",
       "                       text  \n",
       "count                681284  \n",
       "unique               611652  \n",
       "top              urlLink     \n",
       "freq                    445  \n",
       "mean                    NaN  \n",
       "std                     NaN  \n",
       "min                     NaN  \n",
       "25%                     NaN  \n",
       "50%                     NaN  \n",
       "75%                     NaN  \n",
       "max                     NaN  "
      ]
     },
     "execution_count": 9,
     "metadata": {
      "tags": []
     },
     "output_type": "execute_result"
    }
   ],
   "source": [
    "blog_df.describe(include='all')"
   ]
  },
  {
   "cell_type": "markdown",
   "metadata": {
    "id": "cfBa6DJ0culF"
   },
   "source": [
    "# **Observations:**\n",
    "\n",
    "- There are 681284 blogs with 2 Unique genders, 40 Unique Topics and 12 Signs.\n",
    "- From the above stats we can conclude Male has most number of blobs. Nearly 345193 Males blogged.\n",
    "- Topic mostly blogged is of indUnk. Nearly 251015 blogs speaks about indUnk.\n",
    "- Sign with Cancer has most number of blogs.65048 Bloggers have the Sign as Cancer.\n",
    "- On 2nd August 2004 there are more number of blogs. Nearly 16544 blogs are on 2nd August 2004."
   ]
  },
  {
   "cell_type": "code",
   "execution_count": 10,
   "metadata": {
    "colab": {
     "base_uri": "https://localhost:8080/",
     "height": 363
    },
    "id": "mEXYQlGlKmV_",
    "outputId": "018f3f6d-ec8f-4abe-940a-ca1f152c6758"
   },
   "outputs": [
    {
     "name": "stdout",
     "output_type": "stream",
     "text": [
      "male      345193\n",
      "female    336091\n",
      "Name: gender, dtype: int64\n"
     ]
    },
    {
     "data": {
      "text/plain": [
       "<matplotlib.axes._subplots.AxesSubplot at 0x7febe2d76e90>"
      ]
     },
     "execution_count": 10,
     "metadata": {
      "tags": []
     },
     "output_type": "execute_result"
    },
    {
     "data": {
      "image/png": "[encoded data removed]",
      "text/plain": [
       "<Figure size 432x288 with 1 Axes>"
      ]
     },
     "metadata": {
      "needs_background": "light",
      "tags": []
     },
     "output_type": "display_data"
    }
   ],
   "source": [
    "print(blog_df['gender'].value_counts())\n",
    "blog_df['gender'].value_counts().sort_values(ascending=False).plot(kind='bar')"
   ]
  },
  {
   "cell_type": "markdown",
   "metadata": {
    "id": "sz4Om_fuiZHM"
   },
   "source": [
    "# **Observations:**\n",
    "\n",
    "- There are 345193 Males and 336091 female Bloggers."
   ]
  },
  {
   "cell_type": "code",
   "execution_count": 11,
   "metadata": {
    "colab": {
     "base_uri": "https://localhost:8080/",
     "height": 1000
    },
    "id": "I-q8fV90LwWZ",
    "outputId": "872c64f9-32cc-4d9f-e2e9-88bdbd052e4c"
   },
   "outputs": [
    {
     "name": "stdout",
     "output_type": "stream",
     "text": [
      "indUnk                     251015\n",
      "Student                    153903\n",
      "Technology                  42055\n",
      "Arts                        32449\n",
      "Education                   29633\n",
      "Communications-Media        20140\n",
      "Internet                    16006\n",
      "Non-Profit                  14700\n",
      "Engineering                 11653\n",
      "Law                          9040\n",
      "Publishing                   7753\n",
      "Science                      7269\n",
      "Government                   6907\n",
      "Consulting                   5862\n",
      "Religion                     5235\n",
      "Fashion                      4851\n",
      "Marketing                    4769\n",
      "Advertising                  4676\n",
      "BusinessServices             4500\n",
      "Banking                      4049\n",
      "Chemicals                    3928\n",
      "Telecommunications           3891\n",
      "Accounting                   3832\n",
      "Military                     3128\n",
      "Museums-Libraries            3096\n",
      "Sports-Recreation            3038\n",
      "HumanResources               3010\n",
      "RealEstate                   2870\n",
      "Transportation               2326\n",
      "Manufacturing                2272\n",
      "Biotech                      2234\n",
      "Tourism                      1942\n",
      "LawEnforcement-Security      1878\n",
      "Architecture                 1638\n",
      "InvestmentBanking            1292\n",
      "Automotive                   1244\n",
      "Agriculture                  1235\n",
      "Construction                 1093\n",
      "Environment                   592\n",
      "Maritime                      280\n",
      "Name: topic, dtype: int64\n"
     ]
    },
    {
     "data": {
      "text/plain": [
       "<matplotlib.axes._subplots.AxesSubplot at 0x7febe2cf7f90>"
      ]
     },
     "execution_count": 11,
     "metadata": {
      "tags": []
     },
     "output_type": "execute_result"
    },
    {
     "data": {
      "image/png": "[encoded data removed]",
      "text/plain": [
       "<Figure size 432x288 with 1 Axes>"
      ]
     },
     "metadata": {
      "needs_background": "light",
      "tags": []
     },
     "output_type": "display_data"
    }
   ],
   "source": [
    "print(blog_df['topic'].value_counts())\n",
    "blog_df['topic'].value_counts().sort_values(ascending=False).plot(kind='bar')"
   ]
  },
  {
   "cell_type": "markdown",
   "metadata": {
    "id": "w-NQBZr5im1J"
   },
   "source": [
    "# **Observations:**\n",
    " - There are more number of topic on blogs is IndUnk\n",
    " - Second Highest is on topic Student.\n",
    " - Least blogged topic is Maritime."
   ]
  },
  {
   "cell_type": "code",
   "execution_count": 12,
   "metadata": {
    "colab": {
     "base_uri": "https://localhost:8080/",
     "height": 563
    },
    "id": "q__s3K-QMMv4",
    "outputId": "bb6c94aa-67a3-44ce-bfc4-8b690c0e94ee"
   },
   "outputs": [
    {
     "name": "stdout",
     "output_type": "stream",
     "text": [
      "Cancer         65048\n",
      "Aries          64979\n",
      "Taurus         62561\n",
      "Libra          62363\n",
      "Virgo          60399\n",
      "Scorpio        57161\n",
      "Pisces         54053\n",
      "Leo            53811\n",
      "Gemini         51985\n",
      "Sagittarius    50036\n",
      "Aquarius       49687\n",
      "Capricorn      49201\n",
      "Name: sign, dtype: int64\n"
     ]
    },
    {
     "data": {
      "text/plain": [
       "<matplotlib.axes._subplots.AxesSubplot at 0x7febe27070d0>"
      ]
     },
     "execution_count": 12,
     "metadata": {
      "tags": []
     },
     "output_type": "execute_result"
    },
    {
     "data": {
      "image/png": "[encoded data removed]",
      "text/plain": [
       "<Figure size 432x288 with 1 Axes>"
      ]
     },
     "metadata": {
      "needs_background": "light",
      "tags": []
     },
     "output_type": "display_data"
    }
   ],
   "source": [
    "print(blog_df['sign'].value_counts())\n",
    "blog_df['sign'].value_counts().sort_values(  ascending=False).plot(kind='bar')"
   ]
  },
  {
   "cell_type": "markdown",
   "metadata": {
    "id": "YjhVqigqjC2d"
   },
   "source": [
    "# **Observations:**\n",
    "\n",
    "- Bloggers with Cancer Sign are more in numbers.\n",
    "- Bloggers with Capricon Sign are least in numbers."
   ]
  },
  {
   "cell_type": "code",
   "execution_count": 13,
   "metadata": {
    "colab": {
     "base_uri": "https://localhost:8080/",
     "height": 777
    },
    "id": "7t1ZEeiRNbp2",
    "outputId": "b80431bc-3f85-4d86-dbc8-2630f678438c"
   },
   "outputs": [
    {
     "name": "stdout",
     "output_type": "stream",
     "text": [
      "17    80859\n",
      "24    80071\n",
      "23    72889\n",
      "16    72708\n",
      "25    67051\n",
      "26    55312\n",
      "27    46124\n",
      "15    41767\n",
      "14    27400\n",
      "34    21347\n",
      "33    17584\n",
      "35    17462\n",
      "36    14229\n",
      "13    13133\n",
      "37     9317\n",
      "38     7545\n",
      "39     5556\n",
      "40     5016\n",
      "45     4482\n",
      "43     4230\n",
      "41     3738\n",
      "48     3572\n",
      "42     2908\n",
      "46     2733\n",
      "47     2207\n",
      "44     2044\n",
      "Name: age, dtype: int64\n"
     ]
    },
    {
     "data": {
      "text/plain": [
       "<matplotlib.axes._subplots.AxesSubplot at 0x7febe26851d0>"
      ]
     },
     "execution_count": 13,
     "metadata": {
      "tags": []
     },
     "output_type": "execute_result"
    },
    {
     "data": {
      "image/png": "[encoded data removed]",
      "text/plain": [
       "<Figure size 432x288 with 1 Axes>"
      ]
     },
     "metadata": {
      "needs_background": "light",
      "tags": []
     },
     "output_type": "display_data"
    }
   ],
   "source": [
    "print(blog_df['age'].value_counts())\n",
    "blog_df['age'].value_counts().sort_values(ascending=False).plot(kind='bar')"
   ]
  },
  {
   "cell_type": "markdown",
   "metadata": {
    "id": "apK59xgpnn57"
   },
   "source": [
    "# **Observations:**\n",
    "\n",
    "- Bloggers with 17 years age are more in numbers.\n",
    "- Bloggers with 44 years age are less in numbers."
   ]
  },
  {
   "cell_type": "code",
   "execution_count": 14,
   "metadata": {
    "colab": {
     "base_uri": "https://localhost:8080/"
    },
    "id": "JJv6OfqHgE_6",
    "outputId": "7a24e351-a437-4fc8-9a43-58a18d15e15b"
   },
   "outputs": [
    {
     "name": "stdout",
     "output_type": "stream",
     "text": [
      "02,August,2004    16544\n",
      "01,August,2004    13261\n",
      "03,August,2004    11851\n",
      "05,August,2004     9297\n",
      "04,August,2004     8661\n",
      "09,August,2004     7818\n",
      "02,July,2004       7669\n",
      "10,August,2004     7447\n",
      "01,July,2004       6861\n",
      "02,June,2004       6563\n",
      "07,June,2004       6413\n",
      "01,June,2004       6400\n",
      "08,August,2004     6348\n",
      "06,August,2004     6291\n",
      "06,July,2004       5924\n",
      "21,July,2004       5823\n",
      "08,July,2004       5706\n",
      "19,July,2004       5644\n",
      "26,July,2004       5605\n",
      "22,July,2004       5592\n",
      "Name: date, dtype: int64\n"
     ]
    }
   ],
   "source": [
    "print(blog_df['date'].value_counts().head(20))"
   ]
  },
  {
   "cell_type": "markdown",
   "metadata": {
    "id": "2D10XDol0Fz7"
   },
   "source": [
    "# **Observations:**\n",
    "\n",
    "- There are more number of blogs as 16544 on 2nd August 2004"
   ]
  },
  {
   "cell_type": "code",
   "execution_count": 15,
   "metadata": {
    "id": "aaRcjuORSZNs"
   },
   "outputs": [],
   "source": [
    "def age_range(x):\n",
    "  if(x >12 and x < 20):\n",
    "    return '10s'\n",
    "  elif (x >19 and x <30):\n",
    "    return '20s'\n",
    "  elif (x >29 and x <40):\n",
    "    return '30s'\n",
    "  else:\n",
    "    return '40s'"
   ]
  },
  {
   "cell_type": "code",
   "execution_count": 16,
   "metadata": {
    "id": "M7qH2TcjNqoL"
   },
   "outputs": [],
   "source": [
    "blog_df['Age_Range'] = blog_df['age'].apply(lambda x : age_range(x))"
   ]
  },
  {
   "cell_type": "code",
   "execution_count": 17,
   "metadata": {
    "colab": {
     "base_uri": "https://localhost:8080/",
     "height": 745
    },
    "id": "-5GqNuszRzkD",
    "outputId": "cecb4ee0-ffa8-4b92-8d99-20058abfe0df"
   },
   "outputs": [
    {
     "data": {
      "text/html": [
       "<div>\n",
       "<style scoped>\n",
       "    .dataframe tbody tr th:only-of-type {\n",
       "        vertical-align: middle;\n",
       "    }\n",
       "\n",
       "    .dataframe tbody tr th {\n",
       "        vertical-align: top;\n",
       "    }\n",
       "\n",
       "    .dataframe thead th {\n",
       "        text-align: right;\n",
       "    }\n",
       "</style>\n",
       "<table border=\"1\" class=\"dataframe\">\n",
       "  <thead>\n",
       "    <tr style=\"text-align: right;\">\n",
       "      <th></th>\n",
       "      <th>id</th>\n",
       "      <th>gender</th>\n",
       "      <th>age</th>\n",
       "      <th>topic</th>\n",
       "      <th>sign</th>\n",
       "      <th>date</th>\n",
       "      <th>text</th>\n",
       "      <th>Age_Range</th>\n",
       "    </tr>\n",
       "  </thead>\n",
       "  <tbody>\n",
       "    <tr>\n",
       "      <th>0</th>\n",
       "      <td>2059027</td>\n",
       "      <td>male</td>\n",
       "      <td>15</td>\n",
       "      <td>Student</td>\n",
       "      <td>Leo</td>\n",
       "      <td>14,May,2004</td>\n",
       "      <td>Info has been found (+/- 100 pages, and 4.5 MB of .pdf files) Now i have to wait untill our team leader has processed it and learns html.</td>\n",
       "      <td>10s</td>\n",
       "    </tr>\n",
       "    <tr>\n",
       "      <th>1</th>\n",
       "      <td>2059027</td>\n",
       "      <td>male</td>\n",
       "      <td>15</td>\n",
       "      <td>Student</td>\n",
       "      <td>Leo</td>\n",
       "      <td>13,May,2004</td>\n",
       "      <td>These are the team members:   Drewes van der Laag           urlLink mail  Ruiyu Xie                     urlLink mail  Bryan Aaldering (me)          urlLink mail</td>\n",
       "      <td>10s</td>\n",
       "    </tr>\n",
       "    <tr>\n",
       "      <th>2</th>\n",
       "      <td>2059027</td>\n",
       "      <td>male</td>\n",
       "      <td>15</td>\n",
       "      <td>Student</td>\n",
       "      <td>Leo</td>\n",
       "      <td>12,May,2004</td>\n",
       "      <td>In het kader van kernfusie op aarde:  MAAK JE EIGEN WATERSTOFBOM   How to build an H-Bomb From: ascott@tartarus.uwa.edu.au (Andrew Scott) Newsgroups: rec.humor Subject: How To Build An H-Bomb (humorous!) Date: 7 Feb 1994 07:41:14 GMT Organization: The University of Western Australia  Original file dated 12th November 1990. Seemed to be a transcript of a 'Seven Days' article. Poorly formatted and corrupted. I have added the text between 'examine under a microscope' and 'malleable, ...</td>\n",
       "      <td>10s</td>\n",
       "    </tr>\n",
       "    <tr>\n",
       "      <th>3</th>\n",
       "      <td>2059027</td>\n",
       "      <td>male</td>\n",
       "      <td>15</td>\n",
       "      <td>Student</td>\n",
       "      <td>Leo</td>\n",
       "      <td>12,May,2004</td>\n",
       "      <td>testing!!!  testing!!!</td>\n",
       "      <td>10s</td>\n",
       "    </tr>\n",
       "    <tr>\n",
       "      <th>4</th>\n",
       "      <td>3581210</td>\n",
       "      <td>male</td>\n",
       "      <td>33</td>\n",
       "      <td>InvestmentBanking</td>\n",
       "      <td>Aquarius</td>\n",
       "      <td>11,June,2004</td>\n",
       "      <td>Thanks to Yahoo!'s Toolbar I can now 'capture' the URLs of popups...which means now I can show you some cool links to Korean Pop (K-Pop) audio and video without the need to relate instructions like: 'go to the site, click on the pop-audio button then choose...'.  So, without further ado here is the link to 24-hour K-Pop  urlLink audio  and the  urlLink video  streaming.  Enjoy.</td>\n",
       "      <td>30s</td>\n",
       "    </tr>\n",
       "    <tr>\n",
       "      <th>5</th>\n",
       "      <td>3581210</td>\n",
       "      <td>male</td>\n",
       "      <td>33</td>\n",
       "      <td>InvestmentBanking</td>\n",
       "      <td>Aquarius</td>\n",
       "      <td>10,June,2004</td>\n",
       "      <td>I had an interesting conversation with my Dad this morning.  We were talking about where Koreans put their money.  Invariably, they have a lot of real estate and cash.  (Cash would include short term investments under one year as well as savings accounts.)  The reason?  Real estate makes money here.  A lot of money.  I've seen surveys of Seoul real estate rising about 10-15% PER YEAR for long stretches, even after taking into account the 1997 Crisis (referred to as the IMF crisi...</td>\n",
       "      <td>30s</td>\n",
       "    </tr>\n",
       "    <tr>\n",
       "      <th>6</th>\n",
       "      <td>3581210</td>\n",
       "      <td>male</td>\n",
       "      <td>33</td>\n",
       "      <td>InvestmentBanking</td>\n",
       "      <td>Aquarius</td>\n",
       "      <td>10,June,2004</td>\n",
       "      <td>Somehow Coca-Cola has a way of summing up things so well.  In the early 1970s they had as their flagship jingle 'I'd Like to Buy the World a Coke' (to the tune of 'I'd Like to Teach the World to Sing') that pretty much summed up the post-Woodstock era so well.  It didn't add much to sales, but it was a catchy tune.  In Korea Coke's theme is  urlLink Stop Thinking. Feel it.  which pretty much sums up a lot about Korea and Koreans.  (Look at how relaxed that couple is, now that th...</td>\n",
       "      <td>30s</td>\n",
       "    </tr>\n",
       "    <tr>\n",
       "      <th>7</th>\n",
       "      <td>3581210</td>\n",
       "      <td>male</td>\n",
       "      <td>33</td>\n",
       "      <td>InvestmentBanking</td>\n",
       "      <td>Aquarius</td>\n",
       "      <td>10,June,2004</td>\n",
       "      <td>If anything, Korea is a country of extremes.  Everything here seems fad-based.  I think it may come from Korea's history.  It has been invaded a reported 700 times over the years, and each time they got independence I imagine they had to move quickly to get to the next level before the next war or occupation.  Lately (well, not really lately...in 1945) the Japanese Occupation ended.  Then the Korean War occurred from 1950-3.  After that there was turmoil, but in 1961 Park Chung ...</td>\n",
       "      <td>30s</td>\n",
       "    </tr>\n",
       "    <tr>\n",
       "      <th>8</th>\n",
       "      <td>3581210</td>\n",
       "      <td>male</td>\n",
       "      <td>33</td>\n",
       "      <td>InvestmentBanking</td>\n",
       "      <td>Aquarius</td>\n",
       "      <td>10,June,2004</td>\n",
       "      <td>Take a read of this news article from urlLink JoongAng Ilbo  about North Korea's opinion on the scaling down of troops in Seoul and Korea (specifically, 3,600 troops are heading to Iraq and by the end of 2005 the current total of 37,000 should drop to about 24,500).   North blasts U.S. troop cuts  North Korea again blasted the United States yesterday for what it calls 'an increase of U.S. defense capabilities' after the planned relocation of 3,600 U.S. troops in South Korea to I...</td>\n",
       "      <td>30s</td>\n",
       "    </tr>\n",
       "    <tr>\n",
       "      <th>9</th>\n",
       "      <td>3581210</td>\n",
       "      <td>male</td>\n",
       "      <td>33</td>\n",
       "      <td>InvestmentBanking</td>\n",
       "      <td>Aquarius</td>\n",
       "      <td>09,June,2004</td>\n",
       "      <td>I surf the English news sites a lot looking for tidbits on Korea and how foreigners (like me) view the 'Hermit Kingdom' but also as a way to keep up with this fast-moving place.  Sometimes, though, one needs to check the veracity of the figures put in the papers...especially the local ones.  Here are two examples of how the English version of the Korea Times and that of the JoongAng Ilbo (Daily).  The first is pretty straightforward.   urlLink Korea Times  said that 249 people w...</td>\n",
       "      <td>30s</td>\n",
       "    </tr>\n",
       "  </tbody>\n",
       "</table>\n",
       "</div>"
      ],
      "text/plain": [
       "        id gender  age              topic      sign          date  \\\n",
       "0  2059027   male   15            Student       Leo   14,May,2004   \n",
       "1  2059027   male   15            Student       Leo   13,May,2004   \n",
       "2  2059027   male   15            Student       Leo   12,May,2004   \n",
       "3  2059027   male   15            Student       Leo   12,May,2004   \n",
       "4  3581210   male   33  InvestmentBanking  Aquarius  11,June,2004   \n",
       "5  3581210   male   33  InvestmentBanking  Aquarius  10,June,2004   \n",
       "6  3581210   male   33  InvestmentBanking  Aquarius  10,June,2004   \n",
       "7  3581210   male   33  InvestmentBanking  Aquarius  10,June,2004   \n",
       "8  3581210   male   33  InvestmentBanking  Aquarius  10,June,2004   \n",
       "9  3581210   male   33  InvestmentBanking  Aquarius  09,June,2004   \n",
       "\n",
       "                                                                                                                                                                                                                                                                                                                                                                                                                                                                                                                  text  \\\n",
       "0                                                                                                                                                                                                                                                                                                                                                                   Info has been found (+/- 100 pages, and 4.5 MB of .pdf files) Now i have to wait untill our team leader has processed it and learns html.            \n",
       "1                                                                                                                                                                                                                                                                                                                                           These are the team members:   Drewes van der Laag           urlLink mail  Ruiyu Xie                     urlLink mail  Bryan Aaldering (me)          urlLink mail             \n",
       "2             In het kader van kernfusie op aarde:  MAAK JE EIGEN WATERSTOFBOM   How to build an H-Bomb From: ascott@tartarus.uwa.edu.au (Andrew Scott) Newsgroups: rec.humor Subject: How To Build An H-Bomb (humorous!) Date: 7 Feb 1994 07:41:14 GMT Organization: The University of Western Australia  Original file dated 12th November 1990. Seemed to be a transcript of a 'Seven Days' article. Poorly formatted and corrupted. I have added the text between 'examine under a microscope' and 'malleable, ...   \n",
       "3                                                                                                                                                                                                                                                                                                                                                                                                                                                                                     testing!!!  testing!!!             \n",
       "4                                                                                                                Thanks to Yahoo!'s Toolbar I can now 'capture' the URLs of popups...which means now I can show you some cool links to Korean Pop (K-Pop) audio and video without the need to relate instructions like: 'go to the site, click on the pop-audio button then choose...'.  So, without further ado here is the link to 24-hour K-Pop  urlLink audio  and the  urlLink video  streaming.  Enjoy.            \n",
       "5               I had an interesting conversation with my Dad this morning.  We were talking about where Koreans put their money.  Invariably, they have a lot of real estate and cash.  (Cash would include short term investments under one year as well as savings accounts.)  The reason?  Real estate makes money here.  A lot of money.  I've seen surveys of Seoul real estate rising about 10-15% PER YEAR for long stretches, even after taking into account the 1997 Crisis (referred to as the IMF crisi...   \n",
       "6               Somehow Coca-Cola has a way of summing up things so well.  In the early 1970s they had as their flagship jingle 'I'd Like to Buy the World a Coke' (to the tune of 'I'd Like to Teach the World to Sing') that pretty much summed up the post-Woodstock era so well.  It didn't add much to sales, but it was a catchy tune.  In Korea Coke's theme is  urlLink Stop Thinking. Feel it.  which pretty much sums up a lot about Korea and Koreans.  (Look at how relaxed that couple is, now that th...   \n",
       "7               If anything, Korea is a country of extremes.  Everything here seems fad-based.  I think it may come from Korea's history.  It has been invaded a reported 700 times over the years, and each time they got independence I imagine they had to move quickly to get to the next level before the next war or occupation.  Lately (well, not really lately...in 1945) the Japanese Occupation ended.  Then the Korean War occurred from 1950-3.  After that there was turmoil, but in 1961 Park Chung ...   \n",
       "8               Take a read of this news article from urlLink JoongAng Ilbo  about North Korea's opinion on the scaling down of troops in Seoul and Korea (specifically, 3,600 troops are heading to Iraq and by the end of 2005 the current total of 37,000 should drop to about 24,500).   North blasts U.S. troop cuts  North Korea again blasted the United States yesterday for what it calls 'an increase of U.S. defense capabilities' after the planned relocation of 3,600 U.S. troops in South Korea to I...   \n",
       "9               I surf the English news sites a lot looking for tidbits on Korea and how foreigners (like me) view the 'Hermit Kingdom' but also as a way to keep up with this fast-moving place.  Sometimes, though, one needs to check the veracity of the figures put in the papers...especially the local ones.  Here are two examples of how the English version of the Korea Times and that of the JoongAng Ilbo (Daily).  The first is pretty straightforward.   urlLink Korea Times  said that 249 people w...   \n",
       "\n",
       "  Age_Range  \n",
       "0       10s  \n",
       "1       10s  \n",
       "2       10s  \n",
       "3       10s  \n",
       "4       30s  \n",
       "5       30s  \n",
       "6       30s  \n",
       "7       30s  \n",
       "8       30s  \n",
       "9       30s  "
      ]
     },
     "execution_count": 17,
     "metadata": {
      "tags": []
     },
     "output_type": "execute_result"
    }
   ],
   "source": [
    "blog_df.head(10)"
   ]
  },
  {
   "cell_type": "code",
   "execution_count": 18,
   "metadata": {
    "colab": {
     "base_uri": "https://localhost:8080/",
     "height": 291
    },
    "id": "VmvINbssV9bd",
    "outputId": "5c302544-1c11-4e83-daad-5c89ddea59d4"
   },
   "outputs": [
    {
     "data": {
      "text/plain": [
       "<matplotlib.axes._subplots.AxesSubplot at 0x7febe2510890>"
      ]
     },
     "execution_count": 18,
     "metadata": {
      "tags": []
     },
     "output_type": "execute_result"
    },
    {
     "data": {
      "image/png": "[encoded data removed]",
      "text/plain": [
       "<Figure size 432x288 with 1 Axes>"
      ]
     },
     "metadata": {
      "needs_background": "light",
      "tags": []
     },
     "output_type": "display_data"
    }
   ],
   "source": [
    "blog_df['Age_Range'].value_counts().sort_values(ascending=False).plot(kind='bar')"
   ]
  },
  {
   "cell_type": "markdown",
   "metadata": {
    "id": "izioGrcxAdrl"
   },
   "source": [
    "# **Observations:**\n",
    "\n",
    "- Seeing the age range between 20 and 30 are more bloggers.\n"
   ]
  },
  {
   "cell_type": "code",
   "execution_count": 19,
   "metadata": {
    "colab": {
     "base_uri": "https://localhost:8080/",
     "height": 632
    },
    "id": "e31G0Xv_WH8t",
    "outputId": "d2d8a149-a999-424c-8218-74c7c9cc4d5d"
   },
   "outputs": [
    {
     "data": {
      "text/plain": [
       "<matplotlib.axes._subplots.AxesSubplot at 0x7febe24fcc90>"
      ]
     },
     "execution_count": 19,
     "metadata": {
      "tags": []
     },
     "output_type": "execute_result"
    },
    {
     "data": {
      "image/png": "[encoded data removed]",
      "text/plain": [
       "<Figure size 576x720 with 1 Axes>"
      ]
     },
     "metadata": {
      "needs_background": "light",
      "tags": []
     },
     "output_type": "display_data"
    }
   ],
   "source": [
    "pd.crosstab(blog_df['Age_Range'],blog_df['gender']).plot(kind ='bar',figsize=(8,10))"
   ]
  },
  {
   "cell_type": "markdown",
   "metadata": {
    "id": "ZqNQTQxSAuJY"
   },
   "source": [
    "# **Observations:**\n",
    "     \n",
    "| Age_Range | female | male |\n",
    "| --- | --- | --- | \n",
    "| 10's   | 115389 | 120478 |\n",
    "| 20's   | 162075 | 159372|\n",
    "| 30's   | 42682 | 50358|\n",
    "| 40's   | 15945 | 14985| \n",
    "\n",
    "\n",
    "- From the above table we can interpret that 10's Age Range blog has more male than female.\n",
    "\n",
    "- From the above table we can interpret that the 20's Age Range blog has more  female than male.\n",
    "\n",
    "- 30's Age Range has more male blogger than female.\n",
    "\n",
    "- 40's Age Range has more Female blogger than male."
   ]
  },
  {
   "cell_type": "code",
   "execution_count": 20,
   "metadata": {
    "colab": {
     "base_uri": "https://localhost:8080/",
     "height": 632
    },
    "id": "J90jOcDiXIlG",
    "outputId": "817d204f-9f2a-4ea2-cc6f-66a506c0b8ba"
   },
   "outputs": [
    {
     "data": {
      "text/plain": [
       "<matplotlib.axes._subplots.AxesSubplot at 0x7febe2430a10>"
      ]
     },
     "execution_count": 20,
     "metadata": {
      "tags": []
     },
     "output_type": "execute_result"
    },
    {
     "data": {
      "image/png": "[encoded data removed]",
      "text/plain": [
       "<Figure size 720x720 with 1 Axes>"
      ]
     },
     "metadata": {
      "needs_background": "light",
      "tags": []
     },
     "output_type": "display_data"
    }
   ],
   "source": [
    "pd.crosstab(blog_df['Age_Range'],blog_df['sign']).plot(kind ='bar',figsize=(10,10))"
   ]
  },
  {
   "cell_type": "markdown",
   "metadata": {
    "id": "b0NAI_QeJCC1"
   },
   "source": [
    "# **Observations:**\n",
    "\n",
    "\n",
    "|Age_Range |Aquarius \t|Aries \t|Cancer \t|Capricorn \t|Gemini |\tLeo \t|Libra |\tPisces |\tSagittarius \t|Scorpio |\tTaurus \t|Virgo \t|\n",
    "|---|---|\t---|\t---|\t---|\t---|\t---|\t---|\t---|\t---|\t---|\t---|\t---|\t\t\t\t\t\t\t\t\t\t\t\t\n",
    "|20s \t|23647 \t|30213 \t|35690 \t|21442 \t|23762 \t|27962 \t|31835 \t|22785 \t|24033 \t|25066 \t|32743 \t|22269|\n",
    "|30s \t|5258 \t|15805 \t|7672 \t|7305 \t|6357 \t|5902 \t|4660 \t|8393 \t|5433 \t|8005 \t|7328 \t|10922|\n",
    "|40s \t|2316 \t|1309 \t|3169 \t|3017 \t|2968 \t|2347 \t|1712 \t|4627 \t|2733 \t|2768 \t|1694 \t|2270 |\n",
    "|10s \t|18466 \t|17652 \t|18517 \t|17437 \t|18898 \t|17600 \t|24156 \t|18248 \t|17837 \t|21322 \t|20796 \t|24938|\n",
    "\n",
    "\n",
    "- From the above table Bloggers at Age 10 has mostly of Sign Virgo\n",
    "- For the age of 20's Taurus are more in number.\n",
    "- For the age of 30's Aries are more in number.\n",
    "- For the age of 40's Pisces are more in number"
   ]
  },
  {
   "cell_type": "code",
   "execution_count": 21,
   "metadata": {
    "colab": {
     "base_uri": "https://localhost:8080/",
     "height": 904
    },
    "id": "1cV4bLcLXQaf",
    "outputId": "f0cd3db1-3222-46f4-a8b0-0ac155463f04"
   },
   "outputs": [
    {
     "data": {
      "text/plain": [
       "<matplotlib.axes._subplots.AxesSubplot at 0x7febe22e6410>"
      ]
     },
     "execution_count": 21,
     "metadata": {
      "tags": []
     },
     "output_type": "execute_result"
    },
    {
     "data": {
      "image/png": "[encoded data removed]",
      "text/plain": [
       "<Figure size 720x1080 with 1 Axes>"
      ]
     },
     "metadata": {
      "needs_background": "light",
      "tags": []
     },
     "output_type": "display_data"
    }
   ],
   "source": [
    "pd.crosstab(blog_df['Age_Range'],blog_df['topic']).plot(kind ='bar',figsize=(10,15))"
   ]
  },
  {
   "cell_type": "code",
   "execution_count": 22,
   "metadata": {
    "colab": {
     "base_uri": "https://localhost:8080/",
     "height": 243
    },
    "id": "np5RjCSLZb22",
    "outputId": "54b0ee40-e7a7-40eb-9f40-b1acac42ee9a"
   },
   "outputs": [
    {
     "data": {
      "text/html": [
       "<div>\n",
       "<style scoped>\n",
       "    .dataframe tbody tr th:only-of-type {\n",
       "        vertical-align: middle;\n",
       "    }\n",
       "\n",
       "    .dataframe tbody tr th {\n",
       "        vertical-align: top;\n",
       "    }\n",
       "\n",
       "    .dataframe thead th {\n",
       "        text-align: right;\n",
       "    }\n",
       "</style>\n",
       "<table border=\"1\" class=\"dataframe\">\n",
       "  <thead>\n",
       "    <tr style=\"text-align: right;\">\n",
       "      <th>topic</th>\n",
       "      <th>Accounting</th>\n",
       "      <th>Advertising</th>\n",
       "      <th>Agriculture</th>\n",
       "      <th>Architecture</th>\n",
       "      <th>Arts</th>\n",
       "      <th>Automotive</th>\n",
       "      <th>Banking</th>\n",
       "      <th>Biotech</th>\n",
       "      <th>BusinessServices</th>\n",
       "      <th>Chemicals</th>\n",
       "      <th>Communications-Media</th>\n",
       "      <th>Construction</th>\n",
       "      <th>Consulting</th>\n",
       "      <th>Education</th>\n",
       "      <th>Engineering</th>\n",
       "      <th>Environment</th>\n",
       "      <th>Fashion</th>\n",
       "      <th>Government</th>\n",
       "      <th>HumanResources</th>\n",
       "      <th>Internet</th>\n",
       "      <th>InvestmentBanking</th>\n",
       "      <th>Law</th>\n",
       "      <th>LawEnforcement-Security</th>\n",
       "      <th>Manufacturing</th>\n",
       "      <th>Maritime</th>\n",
       "      <th>Marketing</th>\n",
       "      <th>Military</th>\n",
       "      <th>Museums-Libraries</th>\n",
       "      <th>Non-Profit</th>\n",
       "      <th>Publishing</th>\n",
       "      <th>RealEstate</th>\n",
       "      <th>Religion</th>\n",
       "      <th>Science</th>\n",
       "      <th>Sports-Recreation</th>\n",
       "      <th>Student</th>\n",
       "      <th>Technology</th>\n",
       "      <th>Telecommunications</th>\n",
       "      <th>Tourism</th>\n",
       "      <th>Transportation</th>\n",
       "      <th>indUnk</th>\n",
       "    </tr>\n",
       "    <tr>\n",
       "      <th>Age_Range</th>\n",
       "      <th></th>\n",
       "      <th></th>\n",
       "      <th></th>\n",
       "      <th></th>\n",
       "      <th></th>\n",
       "      <th></th>\n",
       "      <th></th>\n",
       "      <th></th>\n",
       "      <th></th>\n",
       "      <th></th>\n",
       "      <th></th>\n",
       "      <th></th>\n",
       "      <th></th>\n",
       "      <th></th>\n",
       "      <th></th>\n",
       "      <th></th>\n",
       "      <th></th>\n",
       "      <th></th>\n",
       "      <th></th>\n",
       "      <th></th>\n",
       "      <th></th>\n",
       "      <th></th>\n",
       "      <th></th>\n",
       "      <th></th>\n",
       "      <th></th>\n",
       "      <th></th>\n",
       "      <th></th>\n",
       "      <th></th>\n",
       "      <th></th>\n",
       "      <th></th>\n",
       "      <th></th>\n",
       "      <th></th>\n",
       "      <th></th>\n",
       "      <th></th>\n",
       "      <th></th>\n",
       "      <th></th>\n",
       "      <th></th>\n",
       "      <th></th>\n",
       "      <th></th>\n",
       "      <th></th>\n",
       "    </tr>\n",
       "  </thead>\n",
       "  <tbody>\n",
       "    <tr>\n",
       "      <th>10s</th>\n",
       "      <td>312</td>\n",
       "      <td>109</td>\n",
       "      <td>359</td>\n",
       "      <td>139</td>\n",
       "      <td>6309</td>\n",
       "      <td>212</td>\n",
       "      <td>135</td>\n",
       "      <td>743</td>\n",
       "      <td>389</td>\n",
       "      <td>1040</td>\n",
       "      <td>2236</td>\n",
       "      <td>36</td>\n",
       "      <td>882</td>\n",
       "      <td>6165</td>\n",
       "      <td>613</td>\n",
       "      <td>96</td>\n",
       "      <td>860</td>\n",
       "      <td>887</td>\n",
       "      <td>646</td>\n",
       "      <td>1246</td>\n",
       "      <td>85</td>\n",
       "      <td>231</td>\n",
       "      <td>669</td>\n",
       "      <td>46</td>\n",
       "      <td>114</td>\n",
       "      <td>166</td>\n",
       "      <td>920</td>\n",
       "      <td>254</td>\n",
       "      <td>6657</td>\n",
       "      <td>192</td>\n",
       "      <td>605</td>\n",
       "      <td>1198</td>\n",
       "      <td>733</td>\n",
       "      <td>1280</td>\n",
       "      <td>117167</td>\n",
       "      <td>5545</td>\n",
       "      <td>240</td>\n",
       "      <td>344</td>\n",
       "      <td>146</td>\n",
       "      <td>75861</td>\n",
       "    </tr>\n",
       "    <tr>\n",
       "      <th>20s</th>\n",
       "      <td>2072</td>\n",
       "      <td>3145</td>\n",
       "      <td>701</td>\n",
       "      <td>1039</td>\n",
       "      <td>20431</td>\n",
       "      <td>488</td>\n",
       "      <td>3439</td>\n",
       "      <td>1190</td>\n",
       "      <td>3001</td>\n",
       "      <td>2832</td>\n",
       "      <td>14162</td>\n",
       "      <td>678</td>\n",
       "      <td>3067</td>\n",
       "      <td>15346</td>\n",
       "      <td>10237</td>\n",
       "      <td>458</td>\n",
       "      <td>1137</td>\n",
       "      <td>4347</td>\n",
       "      <td>1453</td>\n",
       "      <td>8566</td>\n",
       "      <td>731</td>\n",
       "      <td>7715</td>\n",
       "      <td>324</td>\n",
       "      <td>1487</td>\n",
       "      <td>147</td>\n",
       "      <td>3718</td>\n",
       "      <td>1150</td>\n",
       "      <td>1890</td>\n",
       "      <td>5702</td>\n",
       "      <td>4533</td>\n",
       "      <td>1369</td>\n",
       "      <td>2376</td>\n",
       "      <td>6025</td>\n",
       "      <td>1461</td>\n",
       "      <td>35856</td>\n",
       "      <td>25836</td>\n",
       "      <td>2414</td>\n",
       "      <td>1275</td>\n",
       "      <td>702</td>\n",
       "      <td>118947</td>\n",
       "    </tr>\n",
       "    <tr>\n",
       "      <th>30s</th>\n",
       "      <td>359</td>\n",
       "      <td>969</td>\n",
       "      <td>142</td>\n",
       "      <td>426</td>\n",
       "      <td>4291</td>\n",
       "      <td>513</td>\n",
       "      <td>423</td>\n",
       "      <td>253</td>\n",
       "      <td>661</td>\n",
       "      <td>8</td>\n",
       "      <td>2609</td>\n",
       "      <td>157</td>\n",
       "      <td>1031</td>\n",
       "      <td>5796</td>\n",
       "      <td>423</td>\n",
       "      <td>26</td>\n",
       "      <td>2808</td>\n",
       "      <td>1202</td>\n",
       "      <td>549</td>\n",
       "      <td>3752</td>\n",
       "      <td>462</td>\n",
       "      <td>591</td>\n",
       "      <td>885</td>\n",
       "      <td>678</td>\n",
       "      <td>0</td>\n",
       "      <td>650</td>\n",
       "      <td>809</td>\n",
       "      <td>424</td>\n",
       "      <td>1807</td>\n",
       "      <td>1977</td>\n",
       "      <td>852</td>\n",
       "      <td>1138</td>\n",
       "      <td>460</td>\n",
       "      <td>155</td>\n",
       "      <td>757</td>\n",
       "      <td>8662</td>\n",
       "      <td>1087</td>\n",
       "      <td>212</td>\n",
       "      <td>1321</td>\n",
       "      <td>43715</td>\n",
       "    </tr>\n",
       "    <tr>\n",
       "      <th>40s</th>\n",
       "      <td>1089</td>\n",
       "      <td>453</td>\n",
       "      <td>33</td>\n",
       "      <td>34</td>\n",
       "      <td>1418</td>\n",
       "      <td>31</td>\n",
       "      <td>52</td>\n",
       "      <td>48</td>\n",
       "      <td>449</td>\n",
       "      <td>48</td>\n",
       "      <td>1133</td>\n",
       "      <td>222</td>\n",
       "      <td>882</td>\n",
       "      <td>2326</td>\n",
       "      <td>380</td>\n",
       "      <td>12</td>\n",
       "      <td>46</td>\n",
       "      <td>471</td>\n",
       "      <td>362</td>\n",
       "      <td>2442</td>\n",
       "      <td>14</td>\n",
       "      <td>503</td>\n",
       "      <td>0</td>\n",
       "      <td>61</td>\n",
       "      <td>19</td>\n",
       "      <td>235</td>\n",
       "      <td>249</td>\n",
       "      <td>528</td>\n",
       "      <td>534</td>\n",
       "      <td>1051</td>\n",
       "      <td>44</td>\n",
       "      <td>523</td>\n",
       "      <td>51</td>\n",
       "      <td>142</td>\n",
       "      <td>123</td>\n",
       "      <td>2012</td>\n",
       "      <td>150</td>\n",
       "      <td>111</td>\n",
       "      <td>157</td>\n",
       "      <td>12492</td>\n",
       "    </tr>\n",
       "  </tbody>\n",
       "</table>\n",
       "</div>"
      ],
      "text/plain": [
       "topic      Accounting  Advertising  Agriculture  Architecture   Arts  \\\n",
       "Age_Range                                                              \n",
       "10s               312          109          359           139   6309   \n",
       "20s              2072         3145          701          1039  20431   \n",
       "30s               359          969          142           426   4291   \n",
       "40s              1089          453           33            34   1418   \n",
       "\n",
       "topic      Automotive  Banking  Biotech  BusinessServices  Chemicals  \\\n",
       "Age_Range                                                              \n",
       "10s               212      135      743               389       1040   \n",
       "20s               488     3439     1190              3001       2832   \n",
       "30s               513      423      253               661          8   \n",
       "40s                31       52       48               449         48   \n",
       "\n",
       "topic      Communications-Media  Construction  Consulting  Education  \\\n",
       "Age_Range                                                              \n",
       "10s                        2236            36         882       6165   \n",
       "20s                       14162           678        3067      15346   \n",
       "30s                        2609           157        1031       5796   \n",
       "40s                        1133           222         882       2326   \n",
       "\n",
       "topic      Engineering  Environment  Fashion  Government  HumanResources  \\\n",
       "Age_Range                                                                  \n",
       "10s                613           96      860         887             646   \n",
       "20s              10237          458     1137        4347            1453   \n",
       "30s                423           26     2808        1202             549   \n",
       "40s                380           12       46         471             362   \n",
       "\n",
       "topic      Internet  InvestmentBanking   Law  LawEnforcement-Security  \\\n",
       "Age_Range                                                               \n",
       "10s            1246                 85   231                      669   \n",
       "20s            8566                731  7715                      324   \n",
       "30s            3752                462   591                      885   \n",
       "40s            2442                 14   503                        0   \n",
       "\n",
       "topic      Manufacturing  Maritime  Marketing  Military  Museums-Libraries  \\\n",
       "Age_Range                                                                    \n",
       "10s                   46       114        166       920                254   \n",
       "20s                 1487       147       3718      1150               1890   \n",
       "30s                  678         0        650       809                424   \n",
       "40s                   61        19        235       249                528   \n",
       "\n",
       "topic      Non-Profit  Publishing  RealEstate  Religion  Science  \\\n",
       "Age_Range                                                          \n",
       "10s              6657         192         605      1198      733   \n",
       "20s              5702        4533        1369      2376     6025   \n",
       "30s              1807        1977         852      1138      460   \n",
       "40s               534        1051          44       523       51   \n",
       "\n",
       "topic      Sports-Recreation  Student  Technology  Telecommunications  \\\n",
       "Age_Range                                                               \n",
       "10s                     1280   117167        5545                 240   \n",
       "20s                     1461    35856       25836                2414   \n",
       "30s                      155      757        8662                1087   \n",
       "40s                      142      123        2012                 150   \n",
       "\n",
       "topic      Tourism  Transportation  indUnk  \n",
       "Age_Range                                   \n",
       "10s            344             146   75861  \n",
       "20s           1275             702  118947  \n",
       "30s            212            1321   43715  \n",
       "40s            111             157   12492  "
      ]
     },
     "execution_count": 22,
     "metadata": {
      "tags": []
     },
     "output_type": "execute_result"
    }
   ],
   "source": [
    "pd.crosstab(blog_df['Age_Range'],blog_df['topic'])"
   ]
  },
  {
   "cell_type": "markdown",
   "metadata": {
    "id": "l6dVPDuiYN9H"
   },
   "source": [
    "# **Observations:**\n",
    "\n",
    "-  For the bloggers in 10's have wrote the topic about students more than anyother topic.\n",
    "\n",
    "- For the bloggers in 20's have choosen the Topic as indUnk.\n",
    "\n",
    "- For the bloggers in 30's and 40's has choosen the Topic as indUnk"
   ]
  },
  {
   "cell_type": "code",
   "execution_count": 23,
   "metadata": {
    "colab": {
     "base_uri": "https://localhost:8080/"
    },
    "id": "C1BTaErDZ4Qw",
    "outputId": "68816664-62d7-4eee-dd22-badd54582266"
   },
   "outputs": [
    {
     "data": {
      "text/plain": [
       "74                      O= optimist P= pessimist  My argument with myself:  P: Nooooo! Stop thinking about him! O: Why? He's my boyfriend. I'm allowed to. P: You're obsessing! O: What?! No I'm not. I just like him a lot. P: You're crazy if you think it's going to work! O: Ok... Then I'm crazy! P: So you think it will work out between you two? Do you think he's 'the one'? O: Yes and possibly. P: Insane! I can't believe you! You know what is going to happen! The same thing that always happens. You w...\n",
       "75                      Look at me. Look at my eyes. You see a tear. Now look into my eyes as I gaze aimlessly into yours. Grief, hope, anguish, love. I know you can see it all. We lock each other in a stare, trying to freeze us in this moment. A conversation passes between us, but no words are spoken. Unsure of what to do next, I run my fingers through your hair. Then we hug. This position once so odd now becomes the most comforting thing in my entire world. Then the bell rings. Yes... the bell. ...\n",
       "76                      I walk into the only entrance of my prison. School once was my escape, but now my confinement. We are but ruthless animals in a cage. The rules here are almost amusing. No permanent marker, no writing on clothing, no cameras. So for these last few days of Jr. High we can't take pictures!? Outrageous! Am I supposed to remember everything? I have no clear images of these last moments with my dearest friends. Just foggy memories continuously fading. We have virtually three day...\n",
       "77                      Why do I like him? He's funny We have so much in common He is so cute We have the same sick mind He likes friends (I know huh!) Unlike other guys he can actually match He is super sweet Never is he mad He is intelligent He is open, almost... ok he's blunt He is witty He is NOT gay (see, not all the good ones are) And yes ladys, he is real... and taken.  I dunno why he's with me. I didn't think he'd like a girl, well... like me. I mean, I'm  Not to bright(I almost get streig...\n",
       "78                      I've fallen so deep, so fast. I don't know what to do with myself. But I know I feel so good. I love to look at him, listen to the voice of the Aries. I wish I had the courage to go up to him and kiss him. I want to, but yet fade away into the shadows of fear and questioning. Dose Aries like me? How can I tell? What if he doesn't and I'm making a fool of myself, stumbling over my feelings. A little girl with a crush just out of her reach. What if he dose like me too? If he ...\n",
       "79                      It's hard to think that we have less than a week together. Then, it's over. Most of my friends will fly away together leaving me without wings... aimlessly hobbling around trying to find replacement wings and friends. I almost don't want to go to school. I don't want to say good bye. We can say we'll be friends forever, but the truth is, no matter how much you hate to admitt it, people grow appart. High School is the hardest most crusal part of anyone's life, and I'm left t...\n",
       "80                      Stroke my face that's resting on your lap. Tell me it'll be ok. Tell me we will be together forever. Tell me you love me, you'll never forget me. We'll still see each other all the time. Nothing will change. Look into my eyes with your sympathetic eyes. Everything will be alright.  No! Stop! You're lieing! I'll never see you again! Everything will be different! You don't love me! You won't returne my calls! You'll forget my name! Stop!  Go back to the week before, we are al...\n",
       "81                     You may be wondering why my site is called 'Spaghetti Wall'. It is a joke between me and some friends. We went on the Washington D.C. trip with my school. We were at a nice Italian restraunt and I got plain spaghetti noodles. One of my friends pointed out that if the noodles were cooked, they'd stick to the wall. She grabbed a handful and sure enough, the spaghetti stuck to the wall! For some reason, I couldn't pick the noodles off the wall with my fingers. I couldn't get a ...\n",
       "82                     I walk into a life long summer  memory that I haven’t seen for two years. Everything is so familiar. The buildings, the people, even the attitude of the whole place are the same. I love the fact that year after year I can depend on it to be it’s old comforting place. I feel like I’m in a dream. I know every face I see, even the parents, but I fear they don’t remember me. I fear I’m just a confusingly familiar face. I’ve changed so much from last time they’ve seen me up till ...\n",
       "83                     It’s amazing really. You’ve been through every season of my sole, and you still love me. You have always been there for me. You’ve never backed away, no matter how unbearable the weather was. It’s hard to find people loyal enough to go through with that. I’m just lucky I guess.  THE SEASONS OF MY SOLE: Summer~ when everything is doing well. My life is going smoothly. No bumps in the road.  Fall~ when my colors fall off. My life falls apart. Unlike a leaf, I don’t float down,...\n",
       "Name: text, dtype: object"
      ]
     },
     "execution_count": 23,
     "metadata": {
      "tags": []
     },
     "output_type": "execute_result"
    }
   ],
   "source": [
    "blog_df['text'][blog_df['topic']==\"indUnk\"].head(10)"
   ]
  },
  {
   "cell_type": "markdown",
   "metadata": {
    "id": "WJ_66BQomAm-"
   },
   "source": [
    "# **2. Perform data pre-processing on the data:**"
   ]
  },
  {
   "cell_type": "markdown",
   "metadata": {
    "id": "f7R_jFNtmF6G"
   },
   "source": [
    "# **• Data cleansing by removing unwanted characters, spaces, stop words etc. Convert text to lowercase.**"
   ]
  },
  {
   "cell_type": "code",
   "execution_count": 24,
   "metadata": {
    "id": "ztNpHD4pPNy8"
   },
   "outputs": [],
   "source": [
    "# Removing the HTML Tags if any\n",
    "\n",
    "from bs4 import BeautifulSoup"
   ]
  },
  {
   "cell_type": "code",
   "execution_count": 25,
   "metadata": {
    "id": "hegk0RLyPN1j"
   },
   "outputs": [],
   "source": [
    "def strip_html_tags(text):\n",
    "    soup = BeautifulSoup(text, \"html.parser\")\n",
    "    stripped_text = soup.get_text()\n",
    "    return stripped_text"
   ]
  },
  {
   "cell_type": "code",
   "execution_count": 26,
   "metadata": {
    "id": "ftIOb47rPN4S"
   },
   "outputs": [],
   "source": [
    "# Removing the HTML Tags\n",
    "blog_df['text'] =blog_df['text'].apply(lambda x : strip_html_tags(x))"
   ]
  },
  {
   "cell_type": "code",
   "execution_count": 27,
   "metadata": {
    "colab": {
     "base_uri": "https://localhost:8080/"
    },
    "id": "FgGAUwSRPN6r",
    "outputId": "992bea56-cc65-4a3b-c3c8-d8adcca95097"
   },
   "outputs": [
    {
     "data": {
      "text/plain": [
       "0                                                                                                                                                                                                                                                                                                                                                                     Info has been found (+/- 100 pages, and 4.5 MB of .pdf files) Now i have to wait untill our team leader has processed it and learns html.         \n",
       "1                                                                                                                                                                                                                                                                                                                                             These are the team members:   Drewes van der Laag           urlLink mail  Ruiyu Xie                     urlLink mail  Bryan Aaldering (me)          urlLink mail          \n",
       "2               In het kader van kernfusie op aarde:  MAAK JE EIGEN WATERSTOFBOM   How to build an H-Bomb From: ascott@tartarus.uwa.edu.au (Andrew Scott) Newsgroups: rec.humor Subject: How To Build An H-Bomb (humorous!) Date: 7 Feb 1994 07:41:14 GMT Organization: The University of Western Australia  Original file dated 12th November 1990. Seemed to be a transcript of a 'Seven Days' article. Poorly formatted and corrupted. I have added the text between 'examine under a microscope' and 'malleable, ...\n",
       "3                                                                                                                                                                                                                                                                                                                                                                                                                                                                                       testing!!!  testing!!!          \n",
       "4                                                                                                                  Thanks to Yahoo!'s Toolbar I can now 'capture' the URLs of popups...which means now I can show you some cool links to Korean Pop (K-Pop) audio and video without the need to relate instructions like: 'go to the site, click on the pop-audio button then choose...'.  So, without further ado here is the link to 24-hour K-Pop  urlLink audio  and the  urlLink video  streaming.  Enjoy.         \n",
       "Name: text, dtype: object"
      ]
     },
     "execution_count": 27,
     "metadata": {
      "tags": []
     },
     "output_type": "execute_result"
    }
   ],
   "source": [
    "blog_df['text'].head(5)"
   ]
  },
  {
   "cell_type": "code",
   "execution_count": 28,
   "metadata": {
    "id": "snmiQAJVPXjZ"
   },
   "outputs": [],
   "source": [
    "import unicodedata\n",
    "def remove_accented_chars(text):\n",
    "  return unicodedata.normalize('NFKD', text).encode('ascii', 'ignore').decode('utf-8', 'ignore')"
   ]
  },
  {
   "cell_type": "code",
   "execution_count": 29,
   "metadata": {
    "id": "Fgz6usdRPXly"
   },
   "outputs": [],
   "source": [
    "# Removing the Accented Characters.\n",
    "\n",
    "blog_df['text'] = blog_df['text'].apply(lambda x: remove_accented_chars(x))"
   ]
  },
  {
   "cell_type": "code",
   "execution_count": 30,
   "metadata": {
    "colab": {
     "base_uri": "https://localhost:8080/"
    },
    "id": "VMlXNRf_PXoO",
    "outputId": "d6422160-0417-4ba3-fcb9-77392e07f25c"
   },
   "outputs": [
    {
     "data": {
      "text/plain": [
       "0                                                                                                                                                                                                                                                                                                                                                                     Info has been found (+/- 100 pages, and 4.5 MB of .pdf files) Now i have to wait untill our team leader has processed it and learns html.         \n",
       "1                                                                                                                                                                                                                                                                                                                                             These are the team members:   Drewes van der Laag           urlLink mail  Ruiyu Xie                     urlLink mail  Bryan Aaldering (me)          urlLink mail          \n",
       "2               In het kader van kernfusie op aarde:  MAAK JE EIGEN WATERSTOFBOM   How to build an H-Bomb From: ascott@tartarus.uwa.edu.au (Andrew Scott) Newsgroups: rec.humor Subject: How To Build An H-Bomb (humorous!) Date: 7 Feb 1994 07:41:14 GMT Organization: The University of Western Australia  Original file dated 12th November 1990. Seemed to be a transcript of a 'Seven Days' article. Poorly formatted and corrupted. I have added the text between 'examine under a microscope' and 'malleable, ...\n",
       "3                                                                                                                                                                                                                                                                                                                                                                                                                                                                                       testing!!!  testing!!!          \n",
       "4                                                                                                                  Thanks to Yahoo!'s Toolbar I can now 'capture' the URLs of popups...which means now I can show you some cool links to Korean Pop (K-Pop) audio and video without the need to relate instructions like: 'go to the site, click on the pop-audio button then choose...'.  So, without further ado here is the link to 24-hour K-Pop  urlLink audio  and the  urlLink video  streaming.  Enjoy.         \n",
       "5                 I had an interesting conversation with my Dad this morning.  We were talking about where Koreans put their money.  Invariably, they have a lot of real estate and cash.  (Cash would include short term investments under one year as well as savings accounts.)  The reason?  Real estate makes money here.  A lot of money.  I've seen surveys of Seoul real estate rising about 10-15% PER YEAR for long stretches, even after taking into account the 1997 Crisis (referred to as the IMF crisi...\n",
       "6                 Somehow Coca-Cola has a way of summing up things so well.  In the early 1970s they had as their flagship jingle 'I'd Like to Buy the World a Coke' (to the tune of 'I'd Like to Teach the World to Sing') that pretty much summed up the post-Woodstock era so well.  It didn't add much to sales, but it was a catchy tune.  In Korea Coke's theme is  urlLink Stop Thinking. Feel it.  which pretty much sums up a lot about Korea and Koreans.  (Look at how relaxed that couple is, now that th...\n",
       "7                 If anything, Korea is a country of extremes.  Everything here seems fad-based.  I think it may come from Korea's history.  It has been invaded a reported 700 times over the years, and each time they got independence I imagine they had to move quickly to get to the next level before the next war or occupation.  Lately (well, not really lately...in 1945) the Japanese Occupation ended.  Then the Korean War occurred from 1950-3.  After that there was turmoil, but in 1961 Park Chung ...\n",
       "8                 Take a read of this news article from urlLink JoongAng Ilbo  about North Korea's opinion on the scaling down of troops in Seoul and Korea (specifically, 3,600 troops are heading to Iraq and by the end of 2005 the current total of 37,000 should drop to about 24,500).   North blasts U.S. troop cuts  North Korea again blasted the United States yesterday for what it calls 'an increase of U.S. defense capabilities' after the planned relocation of 3,600 U.S. troops in South Korea to I...\n",
       "9                 I surf the English news sites a lot looking for tidbits on Korea and how foreigners (like me) view the 'Hermit Kingdom' but also as a way to keep up with this fast-moving place.  Sometimes, though, one needs to check the veracity of the figures put in the papers...especially the local ones.  Here are two examples of how the English version of the Korea Times and that of the JoongAng Ilbo (Daily).  The first is pretty straightforward.   urlLink Korea Times  said that 249 people w...\n",
       "Name: text, dtype: object"
      ]
     },
     "execution_count": 30,
     "metadata": {
      "tags": []
     },
     "output_type": "execute_result"
    }
   ],
   "source": [
    "blog_df['text'].head(10)"
   ]
  },
  {
   "cell_type": "code",
   "execution_count": 31,
   "metadata": {
    "id": "witOBGoQiUu1"
   },
   "outputs": [],
   "source": [
    "  # Removing unwanted Characters:\n",
    "import re\n",
    "blog_df['text'] = blog_df['text'].apply(lambda x : re.sub('[^a-zA-Z\\s]','',x,re.I|re.A))"
   ]
  },
  {
   "cell_type": "code",
   "execution_count": 32,
   "metadata": {
    "colab": {
     "base_uri": "https://localhost:8080/"
    },
    "id": "tP5dH--mp6_E",
    "outputId": "7642ce0f-3581-4ec8-f46a-952df9b9f2a9"
   },
   "outputs": [
    {
     "data": {
      "text/plain": [
       "0                                                                                                                                                                                                                                                                                                                                                                                   Info has been found   pages and  MB of pdf files Now i have to wait untill our team leader has processed it and learns html         \n",
       "1                                                                                                                                                                                                                                                                                                                                                These are the team members   Drewes van der Laag           urlLink mail  Ruiyu Xie                     urlLink mail  Bryan Aaldering me          urlLink mail          \n",
       "2               In het kader van kernfusie op aarde  MAAK JE EIGEN WATERSTOFBOM   How to build an HBomb From ascotttartarusuwaeduau Andrew Scott Newsgroups rechumor Subject How To Build An HBomb humorous Date  Feb   GMT Organization The University of Western Australia  Original file dated th November  Seemed to be a transcript of a Seven Days article Poorly formatted and corrupted I have added the text between examine under a microscope and malleable like gold as it was missing If anyone has the ...\n",
       "3                                                                                                                                                                                                                                                                                                                                                                                                                                                                                             testing  testing          \n",
       "4                                                                                                                                            Thanks to Yahoos Toolbar I can now capture the URLs of popupswhich means now I can show you some cool links to Korean Pop KPop audio and video without the need to relate instructions like go to the site click on the popaudio button then choose  So without further ado here is the link to hour KPop  urlLink audio  and the  urlLink video  streaming  Enjoy         \n",
       "Name: text, dtype: object"
      ]
     },
     "execution_count": 32,
     "metadata": {
      "tags": []
     },
     "output_type": "execute_result"
    }
   ],
   "source": [
    "blog_df['text'].head(5)"
   ]
  },
  {
   "cell_type": "code",
   "execution_count": 33,
   "metadata": {
    "id": "scsAFnvlqGGa"
   },
   "outputs": [],
   "source": [
    "# Coverting into Lowercase:\n",
    "blog_df['text'] = blog_df['text'].apply(lambda x : x.lower())"
   ]
  },
  {
   "cell_type": "code",
   "execution_count": 34,
   "metadata": {
    "colab": {
     "base_uri": "https://localhost:8080/"
    },
    "id": "HhUhu0ZxKXkI",
    "outputId": "ac1f6f95-0b52-4c35-d6d2-823324693527"
   },
   "outputs": [
    {
     "data": {
      "text/plain": [
       "0                                                                                                                                                                                                                                                                                                                                                                                   info has been found   pages and  mb of pdf files now i have to wait untill our team leader has processed it and learns html         \n",
       "1                                                                                                                                                                                                                                                                                                                                                these are the team members   drewes van der laag           urllink mail  ruiyu xie                     urllink mail  bryan aaldering me          urllink mail          \n",
       "2               in het kader van kernfusie op aarde  maak je eigen waterstofbom   how to build an hbomb from ascotttartarusuwaeduau andrew scott newsgroups rechumor subject how to build an hbomb humorous date  feb   gmt organization the university of western australia  original file dated th november  seemed to be a transcript of a seven days article poorly formatted and corrupted i have added the text between examine under a microscope and malleable like gold as it was missing if anyone has the ...\n",
       "3                                                                                                                                                                                                                                                                                                                                                                                                                                                                                             testing  testing          \n",
       "4                                                                                                                                            thanks to yahoos toolbar i can now capture the urls of popupswhich means now i can show you some cool links to korean pop kpop audio and video without the need to relate instructions like go to the site click on the popaudio button then choose  so without further ado here is the link to hour kpop  urllink audio  and the  urllink video  streaming  enjoy         \n",
       "Name: text, dtype: object"
      ]
     },
     "execution_count": 34,
     "metadata": {
      "tags": []
     },
     "output_type": "execute_result"
    }
   ],
   "source": [
    "blog_df['text'].head(5)"
   ]
  },
  {
   "cell_type": "code",
   "execution_count": 35,
   "metadata": {
    "id": "H2hmOEx0RKur"
   },
   "outputs": [],
   "source": [
    "import nltk"
   ]
  },
  {
   "cell_type": "code",
   "execution_count": 36,
   "metadata": {
    "colab": {
     "base_uri": "https://localhost:8080/"
    },
    "id": "knuOchM21pAl",
    "outputId": "72106615-7f9d-4438-d32f-7f94fb3b84ec"
   },
   "outputs": [
    {
     "name": "stdout",
     "output_type": "stream",
     "text": [
      "[nltk_data] Downloading package punkt to /root/nltk_data...\n",
      "[nltk_data]   Package punkt is already up-to-date!\n"
     ]
    },
    {
     "data": {
      "text/plain": [
       "True"
      ]
     },
     "execution_count": 36,
     "metadata": {
      "tags": []
     },
     "output_type": "execute_result"
    }
   ],
   "source": [
    "nltk.download('punkt')"
   ]
  },
  {
   "cell_type": "code",
   "execution_count": 37,
   "metadata": {
    "colab": {
     "base_uri": "https://localhost:8080/"
    },
    "id": "prXFzFgL1xDP",
    "outputId": "8377523d-a2e0-48c6-dde1-8f054bc00fae"
   },
   "outputs": [
    {
     "name": "stdout",
     "output_type": "stream",
     "text": [
      "[nltk_data] Downloading package wordnet to /root/nltk_data...\n",
      "[nltk_data]   Package wordnet is already up-to-date!\n"
     ]
    },
    {
     "data": {
      "text/plain": [
       "True"
      ]
     },
     "execution_count": 37,
     "metadata": {
      "tags": []
     },
     "output_type": "execute_result"
    }
   ],
   "source": [
    "nltk.download('wordnet')"
   ]
  },
  {
   "cell_type": "code",
   "execution_count": 38,
   "metadata": {
    "id": "303FgakzKY1n"
   },
   "outputs": [],
   "source": [
    "from nltk.stem import WordNetLemmatizer \n",
    "\n",
    "def lemmatize_text(text):\n",
    " \n",
    "  # Init the Wordnet Lemmatizer\n",
    "  lemmatizer = WordNetLemmatizer()\n",
    "  # Tokenize: Split the sentence into words\n",
    "  word_list = nltk.word_tokenize(text)\n",
    "  # Lemmatize list of words and join\n",
    "  lemmatized_output = ' '.join([lemmatizer.lemmatize(w) for w in word_list])\n",
    "  return lemmatized_output"
   ]
  },
  {
   "cell_type": "code",
   "execution_count": 39,
   "metadata": {
    "id": "1BkiArQ6W8Iy"
   },
   "outputs": [],
   "source": [
    "# Applying Lemmatization: \n",
    "blog_df['text'] = blog_df['text'].apply(lambda x : lemmatize_text(x))    "
   ]
  },
  {
   "cell_type": "code",
   "execution_count": 40,
   "metadata": {
    "colab": {
     "base_uri": "https://localhost:8080/"
    },
    "id": "amg9DWYhK5Yg",
    "outputId": "2c9686c6-cad1-4323-c1ff-0249b955798e"
   },
   "outputs": [
    {
     "data": {
      "text/plain": [
       "0                                                                                                                                                                                                                                                                                                                                                                                                   info ha been found page and mb of pdf file now i have to wait untill our team leader ha processed it and learns html\n",
       "1                                                                                                                                                                                                                                                                                                                                                                                                      these are the team member drewes van der laag urllink mail ruiyu xie urllink mail bryan aaldering me urllink mail\n",
       "2    in het kader van kernfusie op aarde maak je eigen waterstofbom how to build an hbomb from ascotttartarusuwaeduau andrew scott newsgroups rechumor subject how to build an hbomb humorous date feb gmt organization the university of western australia original file dated th november seemed to be a transcript of a seven day article poorly formatted and corrupted i have added the text between examine under a microscope and malleable like gold a it wa missing if anyone ha the full text please distri...\n",
       "3                                                                                                                                                                                                                                                                                                                                                                                                                                                                                                        testing testing\n",
       "4                                                                                                                                                                thanks to yahoo toolbar i can now capture the url of popupswhich mean now i can show you some cool link to korean pop kpop audio and video without the need to relate instruction like go to the site click on the popaudio button then choose so without further ado here is the link to hour kpop urllink audio and the urllink video streaming enjoy\n",
       "Name: text, dtype: object"
      ]
     },
     "execution_count": 40,
     "metadata": {
      "tags": []
     },
     "output_type": "execute_result"
    }
   ],
   "source": [
    "blog_df['text'].head(5)"
   ]
  },
  {
   "cell_type": "code",
   "execution_count": 41,
   "metadata": {
    "colab": {
     "base_uri": "https://localhost:8080/"
    },
    "id": "sMqDHeqzLmw9",
    "outputId": "cf659eb8-a36c-4da0-e1d8-79d1fb9f4984"
   },
   "outputs": [
    {
     "name": "stdout",
     "output_type": "stream",
     "text": [
      "[nltk_data] Downloading package stopwords to /root/nltk_data...\n",
      "[nltk_data]   Package stopwords is already up-to-date!\n"
     ]
    },
    {
     "data": {
      "text/plain": [
       "True"
      ]
     },
     "execution_count": 41,
     "metadata": {
      "tags": []
     },
     "output_type": "execute_result"
    }
   ],
   "source": [
    "nltk.download('stopwords')"
   ]
  },
  {
   "cell_type": "code",
   "execution_count": 42,
   "metadata": {
    "id": "YLpmDhZsLm05"
   },
   "outputs": [],
   "source": [
    "# Removing stopwords\n",
    "stop_words = set(nltk.corpus.stopwords.words('english'))\n",
    "blog_df['keyword'] = blog_df['text'].apply(lambda words : \" \".join(word for word in words.split() if word not in stop_words))"
   ]
  },
  {
   "cell_type": "code",
   "execution_count": 43,
   "metadata": {
    "colab": {
     "base_uri": "https://localhost:8080/"
    },
    "id": "1rnDAfWOHDFY",
    "outputId": "ade12898-1158-42c4-826a-3001fabc37df"
   },
   "outputs": [
    {
     "data": {
      "text/plain": [
       "0                                                                                                                                                                                                                                                                                                                                                                                                                                        info ha found page mb pdf file wait untill team leader ha processed learns html\n",
       "1                                                                                                                                                                                                                                                                                                                                                                                                                       team member drewes van der laag urllink mail ruiyu xie urllink mail bryan aaldering urllink mail\n",
       "2    het kader van kernfusie op aarde maak je eigen waterstofbom build hbomb ascotttartarusuwaeduau andrew scott newsgroups rechumor subject build hbomb humorous date feb gmt organization university western australia original file dated th november seemed transcript seven day article poorly formatted corrupted added text examine microscope malleable like gold wa missing anyone ha full text please distribute responsible accuracy information converted html dionisioinfinetcom little spellchecking mi...\n",
       "3                                                                                                                                                                                                                                                                                                                                                                                                                                                                                                        testing testing\n",
       "4                                                                                                                                                                                                                                                                          thanks yahoo toolbar capture url popupswhich mean show cool link korean pop kpop audio video without need relate instruction like go site click popaudio button choose without ado link hour kpop urllink audio urllink video streaming enjoy\n",
       "5    interesting conversation dad morning talking korean put money invariably lot real estate cash cash would include short term investment one year well saving account reason real estate make money lot money ive seen survey seoul real estate rising per year long stretch even taking account crisis referred imf crisis although wa imf bailed korea compare korean corporate bond fell modestly recovered local stock market represented kospi version dow jones index ha gone appreciably high point point s...\n",
       "6    somehow cocacola ha way summing thing well early flagship jingle id like buy world coke tune id like teach world sing pretty much summed postwoodstock era well didnt add much sale wa catchy tune korea coke theme urllink stop thinking feel pretty much sum lot korea korean look relaxed couple stopped thinking started feeling course high regard education math logic deep think many korean really like work emotion anything else westerner seem sublimate moreso least display different way maybe scr...\n",
       "7    anything korea country extreme everything seems fadbased think may come korea history ha invaded reported time year time got independence imagine move quickly get next level next war occupation lately well really latelyin japanese occupation ended korean war occurred wa turmoil park chung hee took dictatorpresident election everyone wa encouraged vote wa still dictator assassination next leader basically ilk president park amazing thing time however took incredibly backward country set road ...\n",
       "8    take read news article urllink joongang ilbo north korea opinion scaling troop seoul korea specifically troop heading iraq end current total drop north blast u troop cut north korea blasted united state yesterday call increase u defense capability planned relocation u troop south korea iraq pyeongyangs staterun television network said plan preparation second korean war even though part u ground force transferred iraq instead causing capability vacuum u president bush augmenting war policy no...\n",
       "9    surf english news site lot looking tidbit korea foreigner like view hermit kingdom also way keep fastmoving place sometimes though one need check veracity figure put papersespecially local one two example english version korea time joongang ilbo daily first pretty straightforward urllink korea time said people arrested forging korean passport urllink joongang ilbo say accused huh another one urllink joongang ilbo said sp positive korean bank good thing urllink korea time said sp wa tad worri...\n",
       "Name: keyword, dtype: object"
      ]
     },
     "execution_count": 43,
     "metadata": {
      "tags": []
     },
     "output_type": "execute_result"
    }
   ],
   "source": [
    "blog_df['keyword'].head(10)"
   ]
  },
  {
   "cell_type": "code",
   "execution_count": 44,
   "metadata": {
    "colab": {
     "base_uri": "https://localhost:8080/",
     "height": 467
    },
    "id": "aEoF1rqMwxFC",
    "outputId": "7ee7667e-5e85-4e0a-f9b6-f9e94bbf6528"
   },
   "outputs": [
    {
     "data": {
      "text/html": [
       "<div>\n",
       "<style scoped>\n",
       "    .dataframe tbody tr th:only-of-type {\n",
       "        vertical-align: middle;\n",
       "    }\n",
       "\n",
       "    .dataframe tbody tr th {\n",
       "        vertical-align: top;\n",
       "    }\n",
       "\n",
       "    .dataframe thead th {\n",
       "        text-align: right;\n",
       "    }\n",
       "</style>\n",
       "<table border=\"1\" class=\"dataframe\">\n",
       "  <thead>\n",
       "    <tr style=\"text-align: right;\">\n",
       "      <th></th>\n",
       "      <th>id</th>\n",
       "      <th>gender</th>\n",
       "      <th>age</th>\n",
       "      <th>topic</th>\n",
       "      <th>sign</th>\n",
       "      <th>date</th>\n",
       "      <th>text</th>\n",
       "      <th>Age_Range</th>\n",
       "      <th>keyword</th>\n",
       "    </tr>\n",
       "  </thead>\n",
       "  <tbody>\n",
       "    <tr>\n",
       "      <th>0</th>\n",
       "      <td>2059027</td>\n",
       "      <td>male</td>\n",
       "      <td>15</td>\n",
       "      <td>Student</td>\n",
       "      <td>Leo</td>\n",
       "      <td>14,May,2004</td>\n",
       "      <td>info ha been found page and mb of pdf file now i have to wait untill our team leader ha processed it and learns html</td>\n",
       "      <td>10s</td>\n",
       "      <td>info ha found page mb pdf file wait untill team leader ha processed learns html</td>\n",
       "    </tr>\n",
       "    <tr>\n",
       "      <th>1</th>\n",
       "      <td>2059027</td>\n",
       "      <td>male</td>\n",
       "      <td>15</td>\n",
       "      <td>Student</td>\n",
       "      <td>Leo</td>\n",
       "      <td>13,May,2004</td>\n",
       "      <td>these are the team member drewes van der laag urllink mail ruiyu xie urllink mail bryan aaldering me urllink mail</td>\n",
       "      <td>10s</td>\n",
       "      <td>team member drewes van der laag urllink mail ruiyu xie urllink mail bryan aaldering urllink mail</td>\n",
       "    </tr>\n",
       "    <tr>\n",
       "      <th>2</th>\n",
       "      <td>2059027</td>\n",
       "      <td>male</td>\n",
       "      <td>15</td>\n",
       "      <td>Student</td>\n",
       "      <td>Leo</td>\n",
       "      <td>12,May,2004</td>\n",
       "      <td>in het kader van kernfusie op aarde maak je eigen waterstofbom how to build an hbomb from ascotttartarusuwaeduau andrew scott newsgroups rechumor subject how to build an hbomb humorous date feb gmt organization the university of western australia original file dated th november seemed to be a transcript of a seven day article poorly formatted and corrupted i have added the text between examine under a microscope and malleable like gold a it wa missing if anyone ha the full text please distri...</td>\n",
       "      <td>10s</td>\n",
       "      <td>het kader van kernfusie op aarde maak je eigen waterstofbom build hbomb ascotttartarusuwaeduau andrew scott newsgroups rechumor subject build hbomb humorous date feb gmt organization university western australia original file dated th november seemed transcript seven day article poorly formatted corrupted added text examine microscope malleable like gold wa missing anyone ha full text please distribute responsible accuracy information converted html dionisioinfinetcom little spellchecking mi...</td>\n",
       "    </tr>\n",
       "    <tr>\n",
       "      <th>3</th>\n",
       "      <td>2059027</td>\n",
       "      <td>male</td>\n",
       "      <td>15</td>\n",
       "      <td>Student</td>\n",
       "      <td>Leo</td>\n",
       "      <td>12,May,2004</td>\n",
       "      <td>testing testing</td>\n",
       "      <td>10s</td>\n",
       "      <td>testing testing</td>\n",
       "    </tr>\n",
       "    <tr>\n",
       "      <th>4</th>\n",
       "      <td>3581210</td>\n",
       "      <td>male</td>\n",
       "      <td>33</td>\n",
       "      <td>InvestmentBanking</td>\n",
       "      <td>Aquarius</td>\n",
       "      <td>11,June,2004</td>\n",
       "      <td>thanks to yahoo toolbar i can now capture the url of popupswhich mean now i can show you some cool link to korean pop kpop audio and video without the need to relate instruction like go to the site click on the popaudio button then choose so without further ado here is the link to hour kpop urllink audio and the urllink video streaming enjoy</td>\n",
       "      <td>30s</td>\n",
       "      <td>thanks yahoo toolbar capture url popupswhich mean show cool link korean pop kpop audio video without need relate instruction like go site click popaudio button choose without ado link hour kpop urllink audio urllink video streaming enjoy</td>\n",
       "    </tr>\n",
       "  </tbody>\n",
       "</table>\n",
       "</div>"
      ],
      "text/plain": [
       "        id gender  age              topic      sign          date  \\\n",
       "0  2059027   male   15            Student       Leo   14,May,2004   \n",
       "1  2059027   male   15            Student       Leo   13,May,2004   \n",
       "2  2059027   male   15            Student       Leo   12,May,2004   \n",
       "3  2059027   male   15            Student       Leo   12,May,2004   \n",
       "4  3581210   male   33  InvestmentBanking  Aquarius  11,June,2004   \n",
       "\n",
       "                                                                                                                                                                                                                                                                                                                                                                                                                                                                                                                  text  \\\n",
       "0                                                                                                                                                                                                                                                                                                                                                                                                 info ha been found page and mb of pdf file now i have to wait untill our team leader ha processed it and learns html   \n",
       "1                                                                                                                                                                                                                                                                                                                                                                                                    these are the team member drewes van der laag urllink mail ruiyu xie urllink mail bryan aaldering me urllink mail   \n",
       "2  in het kader van kernfusie op aarde maak je eigen waterstofbom how to build an hbomb from ascotttartarusuwaeduau andrew scott newsgroups rechumor subject how to build an hbomb humorous date feb gmt organization the university of western australia original file dated th november seemed to be a transcript of a seven day article poorly formatted and corrupted i have added the text between examine under a microscope and malleable like gold a it wa missing if anyone ha the full text please distri...   \n",
       "3                                                                                                                                                                                                                                                                                                                                                                                                                                                                                                      testing testing   \n",
       "4                                                                                                                                                              thanks to yahoo toolbar i can now capture the url of popupswhich mean now i can show you some cool link to korean pop kpop audio and video without the need to relate instruction like go to the site click on the popaudio button then choose so without further ado here is the link to hour kpop urllink audio and the urllink video streaming enjoy   \n",
       "\n",
       "  Age_Range  \\\n",
       "0       10s   \n",
       "1       10s   \n",
       "2       10s   \n",
       "3       10s   \n",
       "4       30s   \n",
       "\n",
       "                                                                                                                                                                                                                                                                                                                                                                                                                                                                                                               keyword  \n",
       "0                                                                                                                                                                                                                                                                                                                                                                                                                                      info ha found page mb pdf file wait untill team leader ha processed learns html  \n",
       "1                                                                                                                                                                                                                                                                                                                                                                                                                     team member drewes van der laag urllink mail ruiyu xie urllink mail bryan aaldering urllink mail  \n",
       "2  het kader van kernfusie op aarde maak je eigen waterstofbom build hbomb ascotttartarusuwaeduau andrew scott newsgroups rechumor subject build hbomb humorous date feb gmt organization university western australia original file dated th november seemed transcript seven day article poorly formatted corrupted added text examine microscope malleable like gold wa missing anyone ha full text please distribute responsible accuracy information converted html dionisioinfinetcom little spellchecking mi...  \n",
       "3                                                                                                                                                                                                                                                                                                                                                                                                                                                                                                      testing testing  \n",
       "4                                                                                                                                                                                                                                                                        thanks yahoo toolbar capture url popupswhich mean show cool link korean pop kpop audio video without need relate instruction like go site click popaudio button choose without ado link hour kpop urllink audio urllink video streaming enjoy  "
      ]
     },
     "execution_count": 44,
     "metadata": {
      "tags": []
     },
     "output_type": "execute_result"
    }
   ],
   "source": [
    "blog_df.head(5)"
   ]
  },
  {
   "cell_type": "code",
   "execution_count": 45,
   "metadata": {
    "colab": {
     "base_uri": "https://localhost:8080/"
    },
    "id": "gd4v00wdbMAw",
    "outputId": "668c347a-b594-41f9-8750-72edc521beac"
   },
   "outputs": [
    {
     "data": {
      "text/plain": [
       "20s    321447\n",
       "10s    235867\n",
       "30s     93040\n",
       "40s     30930\n",
       "Name: Age_Range, dtype: int64"
      ]
     },
     "execution_count": 45,
     "metadata": {
      "tags": []
     },
     "output_type": "execute_result"
    }
   ],
   "source": [
    "blog_df['Age_Range'].value_counts()"
   ]
  },
  {
   "cell_type": "markdown",
   "metadata": {
    "id": "0Ym36wFGbuvv"
   },
   "source": [
    "# **Observations** #\n",
    "\n",
    "- As there are more than 600K rows its tough to build the model as even the TPU session getting crash, We can Separate the blog Text based on the Age Range and we will do the prediction.\n",
    "\n",
    "- We can see there are 321447 blogs by the bloggers in age group 20s\n",
    "\n",
    "- 235867 blogs by bloggers are in the age group 10s\n",
    "\n",
    "- 93040 blogs with the bloggers has the age group of 30s\n",
    "\n",
    "- 30930 blogs with the bloggers has the age group of 40s"
   ]
  },
  {
   "cell_type": "markdown",
   "metadata": {
    "id": "xf-CCXmG4HrO"
   },
   "source": [
    "# **Design, train, tune and test the best text classifier.**"
   ]
  },
  {
   "cell_type": "markdown",
   "metadata": {
    "id": "m7UoecGZLPL1"
   },
   "source": [
    "# **Used TF_IDF Vectorizer**"
   ]
  },
  {
   "cell_type": "code",
   "execution_count": null,
   "metadata": {
    "id": "RpsivQd3AIPI"
   },
   "outputs": [],
   "source": [
    "from sklearn.feature_extraction.text import  TfidfVectorizer\n",
    "tfidvectorizer = TfidfVectorizer(min_df=0.,max_df=1.,use_idf=True)\n",
    "review_vectorizer = tfidvectorizer.fit_transform(blog_df['keyword'])"
   ]
  },
  {
   "cell_type": "code",
   "execution_count": null,
   "metadata": {
    "colab": {
     "base_uri": "https://localhost:8080/"
    },
    "id": "-F-qPwFHBa_b",
    "outputId": "44cddfeb-5160-4ffb-c31e-fc55345a3b64"
   },
   "outputs": [
    {
     "data": {
      "text/plain": [
       "(681284, 1206127)"
      ]
     },
     "execution_count": 49,
     "metadata": {
      "tags": []
     },
     "output_type": "execute_result"
    }
   ],
   "source": [
    "review_vectorizer.shape"
   ]
  },
  {
   "cell_type": "code",
   "execution_count": null,
   "metadata": {
    "id": "cXyNMOCTAv8X"
   },
   "outputs": [],
   "source": [
    "X = review_vectorizer\n",
    "Y = blog_df['topic']"
   ]
  },
  {
   "cell_type": "code",
   "execution_count": null,
   "metadata": {
    "id": "B1pPSjVTBNcJ"
   },
   "outputs": [],
   "source": [
    "from sklearn.model_selection import train_test_split\n",
    "X_train,X_test,Y_train,Y_test = train_test_split(X,Y,test_size = 0.30,random_state =5)"
   ]
  },
  {
   "cell_type": "code",
   "execution_count": null,
   "metadata": {
    "id": "ZZAccgexB5CQ"
   },
   "outputs": [],
   "source": [
    "from sklearn.metrics import confusion_matrix , classification_report\n",
    "from sklearn.linear_model import LogisticRegression"
   ]
  },
  {
   "cell_type": "code",
   "execution_count": null,
   "metadata": {
    "colab": {
     "base_uri": "https://localhost:8080/"
    },
    "id": "pOyfJlZpFM2x",
    "outputId": "2b659efc-f4f4-4fb9-ab77-db057381e2b0"
   },
   "outputs": [
    {
     "data": {
      "text/plain": [
       "LogisticRegression(C=1.0, class_weight=None, dual=False, fit_intercept=True,\n",
       "                   intercept_scaling=1, l1_ratio=None, max_iter=100,\n",
       "                   multi_class='auto', n_jobs=None, penalty='l2',\n",
       "                   random_state=None, solver='lbfgs', tol=0.0001, verbose=0,\n",
       "                   warm_start=False)"
      ]
     },
     "execution_count": 50,
     "metadata": {
      "tags": []
     },
     "output_type": "execute_result"
    }
   ],
   "source": [
    "logisticRegression = LogisticRegression()\n",
    "logisticRegression.fit(X_train,Y_train)"
   ]
  },
  {
   "cell_type": "code",
   "execution_count": null,
   "metadata": {
    "colab": {
     "base_uri": "https://localhost:8080/"
    },
    "id": "tNcXlulEFOzG",
    "outputId": "6b57c819-cbbe-4c07-f502-b55bdb4b57e0"
   },
   "outputs": [
    {
     "name": "stdout",
     "output_type": "stream",
     "text": [
      "Training Accuracy 0.448158725765258\n",
      "Testing Accuracy 0.4166479113050796\n"
     ]
    }
   ],
   "source": [
    "print(\"Training Accuracy\" , logisticRegression.score(X_train, Y_train))\n",
    "print(\"Testing Accuracy\" , logisticRegression.score(X_test, Y_test))"
   ]
  },
  {
   "cell_type": "code",
   "execution_count": null,
   "metadata": {
    "colab": {
     "base_uri": "https://localhost:8080/"
    },
    "id": "d6xcjK9kIKnC",
    "outputId": "589e8fd0-efc5-4497-c425-87db3e5c4c19"
   },
   "outputs": [
    {
     "data": {
      "text/plain": [
       "DecisionTreeClassifier(ccp_alpha=0.0, class_weight=None, criterion='entropy',\n",
       "                       max_depth=None, max_features=None, max_leaf_nodes=None,\n",
       "                       min_impurity_decrease=0.0, min_impurity_split=None,\n",
       "                       min_samples_leaf=1, min_samples_split=2,\n",
       "                       min_weight_fraction_leaf=0.0, presort='deprecated',\n",
       "                       random_state=None, splitter='best')"
      ]
     },
     "execution_count": 51,
     "metadata": {
      "tags": []
     },
     "output_type": "execute_result"
    }
   ],
   "source": [
    "model_Dt = DecisionTreeClassifier(criterion='entropy')\n",
    "model_Dt.fit(X_train, Y_train)"
   ]
  },
  {
   "cell_type": "code",
   "execution_count": null,
   "metadata": {
    "colab": {
     "base_uri": "https://localhost:8080/"
    },
    "id": "bbyiZ4DTKm6-",
    "outputId": "c797dae9-39eb-4fdb-ac77-692488a34dd2"
   },
   "outputs": [
    {
     "name": "stdout",
     "output_type": "stream",
     "text": [
      "Training Accuracy 0.9386808080553913\n",
      "Testing Accuracy 0.27009677766578927\n"
     ]
    }
   ],
   "source": [
    "print(\"Training Accuracy\" , model_Dt.score(X_train, Y_train))\n",
    "print(\"Testing Accuracy\" , model_Dt.score(X_test, Y_test))"
   ]
  },
  {
   "cell_type": "code",
   "execution_count": null,
   "metadata": {
    "colab": {
     "base_uri": "https://localhost:8080/"
    },
    "id": "_rhCEE9ZKubl",
    "outputId": "cd7c0128-27fa-48f9-8e6e-187305b7e4f0"
   },
   "outputs": [
    {
     "data": {
      "text/plain": [
       "MultinomialNB(alpha=1.0, class_prior=None, fit_prior=True)"
      ]
     },
     "execution_count": 73,
     "metadata": {
      "tags": []
     },
     "output_type": "execute_result"
    }
   ],
   "source": [
    "from sklearn.naive_bayes import MultinomialNB\n",
    "\n",
    "clf = MultinomialNB()\n",
    "clf.fit(X_train,Y_train)"
   ]
  },
  {
   "cell_type": "code",
   "execution_count": null,
   "metadata": {
    "colab": {
     "base_uri": "https://localhost:8080/"
    },
    "id": "qypSZ37SLM1Y",
    "outputId": "84ad8e0d-5f22-4aad-a387-dd42c230c0ab"
   },
   "outputs": [
    {
     "name": "stdout",
     "output_type": "stream",
     "text": [
      "Training Accuracy 0.39196641629866347\n",
      "Testing Accuracy 0.3807795054455785\n"
     ]
    }
   ],
   "source": [
    "print(\"Training Accuracy\" , clf.score(X_train, Y_train))\n",
    "print(\"Testing Accuracy\" , clf.score(X_test, Y_test))"
   ]
  },
  {
   "cell_type": "markdown",
   "metadata": {
    "id": "uaqW2Qtu4VJv"
   },
   "source": [
    "# **Observations:**\n",
    "\n",
    "- On applying the Tf-IDF Vectorizer on the entire rows of ~681284 has extracted the features of 1206127.\n",
    "\n",
    "-  On Applying Different Traditional Classifier below are the accuracy.\n",
    "    - Logistic Regression:\n",
    "       - Training Accuracy 0.448158725765258\n",
    "       - Testing Accuracy 0.4166479113050796\n",
    "    - DecisionTreeClassifier:\n",
    "      - Training Accuracy 0.9386808080553913\n",
    "      - Testing Accuracy 0.27009677766578927\n",
    "    - MultiNominalNB Classifier:\n",
    "      - Training Accuracy 0.39196641629866347\n",
    "      - Testing Accuracy 0.3807795054455785\n",
    "\n",
    "- Since the accuracy is too low on train and Test dataset We have separate the blogs based on the age group and proceed further below."
   ]
  },
  {
   "cell_type": "markdown",
   "metadata": {
    "id": "Udfb40erFbFu"
   },
   "source": [
    "# ***Bag of Words and N_Gram Model***"
   ]
  },
  {
   "cell_type": "code",
   "execution_count": 295,
   "metadata": {
    "id": "HKvj-uwAM7wb"
   },
   "outputs": [],
   "source": [
    "#Using Bag of Words and N_Gram Model using Count Vectorizier for different age groups\n",
    "\n",
    "cv = CountVectorizer(min_df=0.,max_df=1.,ngram_range=(1,2))\n",
    "cvmatrix = cv.fit_transform(blog_df[blog_df['Age_Range'] == '40s']['keyword'])"
   ]
  },
  {
   "cell_type": "code",
   "execution_count": 296,
   "metadata": {
    "colab": {
     "base_uri": "https://localhost:8080/"
    },
    "id": "hljAaY23NwLF",
    "outputId": "d88e0a5e-eaba-4519-cfc4-db8b80e94564"
   },
   "outputs": [
    {
     "data": {
      "text/plain": [
       "(30930, 2434078)"
      ]
     },
     "execution_count": 296,
     "metadata": {
      "tags": []
     },
     "output_type": "execute_result"
    }
   ],
   "source": [
    "cvmatrix.shape"
   ]
  },
  {
   "cell_type": "code",
   "execution_count": 297,
   "metadata": {
    "id": "LeAjdbokPU-y"
   },
   "outputs": [],
   "source": [
    "X_cv = cvmatrix\n",
    "Y_cv = blog_df[blog_df['Age_Range'] == '40s']['topic']"
   ]
  },
  {
   "cell_type": "code",
   "execution_count": 298,
   "metadata": {
    "id": "OKUeNWvVPgzi"
   },
   "outputs": [],
   "source": [
    "X_cv_train,X_cv_test,Y_cv_train,Y_cv_test = train_test_split(X_cv,Y_cv,test_size=0.30,random_state =5)"
   ]
  },
  {
   "cell_type": "code",
   "execution_count": null,
   "metadata": {
    "id": "wvndzZFcGtdT"
   },
   "outputs": [],
   "source": [
    "X_cv_test.shape"
   ]
  },
  {
   "cell_type": "code",
   "execution_count": 299,
   "metadata": {
    "colab": {
     "base_uri": "https://localhost:8080/"
    },
    "id": "v6tq4PSwP0HV",
    "outputId": "c7542920-eb01-4147-f995-a910e976866c"
   },
   "outputs": [
    {
     "data": {
      "text/plain": [
       "MultinomialNB(alpha=1.0, class_prior=None, fit_prior=True)"
      ]
     },
     "execution_count": 299,
     "metadata": {
      "tags": []
     },
     "output_type": "execute_result"
    }
   ],
   "source": [
    "clf_cv = MultinomialNB()\n",
    "clf_cv.fit(X_cv_train,Y_cv_train)"
   ]
  },
  {
   "cell_type": "code",
   "execution_count": 300,
   "metadata": {
    "colab": {
     "base_uri": "https://localhost:8080/"
    },
    "id": "JGdcvMCcQCI5",
    "outputId": "a69d1d63-9c79-4ca3-decb-0df5be26fdd6"
   },
   "outputs": [
    {
     "name": "stdout",
     "output_type": "stream",
     "text": [
      "Training Accuracy 0.5316151678906286\n",
      "Testing Accuracy 0.4262312749218666\n"
     ]
    }
   ],
   "source": [
    "print(\"Training Accuracy\" , clf_cv.score(X_cv_train, Y_cv_train))\n",
    "print(\"Testing Accuracy\" , clf_cv.score(X_cv_test, Y_cv_test))"
   ]
  },
  {
   "cell_type": "code",
   "execution_count": 301,
   "metadata": {
    "colab": {
     "base_uri": "https://localhost:8080/"
    },
    "id": "AS8FYcD2fgym",
    "outputId": "79fd51ee-c06a-45f2-d4f7-55c63a81c06f"
   },
   "outputs": [
    {
     "data": {
      "text/plain": [
       "DecisionTreeClassifier(ccp_alpha=0.0, class_weight=None, criterion='entropy',\n",
       "                       max_depth=None, max_features=None, max_leaf_nodes=None,\n",
       "                       min_impurity_decrease=0.0, min_impurity_split=None,\n",
       "                       min_samples_leaf=1, min_samples_split=2,\n",
       "                       min_weight_fraction_leaf=0.0, presort='deprecated',\n",
       "                       random_state=None, splitter='best')"
      ]
     },
     "execution_count": 301,
     "metadata": {
      "tags": []
     },
     "output_type": "execute_result"
    }
   ],
   "source": [
    "model_Dt = DecisionTreeClassifier(criterion='entropy')\n",
    "model_Dt.fit(X_cv_train, Y_cv_train)"
   ]
  },
  {
   "cell_type": "code",
   "execution_count": 304,
   "metadata": {
    "colab": {
     "base_uri": "https://localhost:8080/"
    },
    "id": "qFmhiGOtP60V",
    "outputId": "f71c0e2a-4198-4b2f-e5c6-e65373e20c8b"
   },
   "outputs": [
    {
     "name": "stdout",
     "output_type": "stream",
     "text": [
      "Training Accuracy 0.990670176897141\n",
      "Testing Accuracy 0.3995042569242375\n"
     ]
    }
   ],
   "source": [
    "print(\"Training Accuracy\" , model_Dt.score(X_cv_train, Y_cv_train))\n",
    "print(\"Testing Accuracy\" , model_Dt.score(X_cv_test, Y_cv_test))"
   ]
  },
  {
   "cell_type": "code",
   "execution_count": 302,
   "metadata": {
    "id": "9r7DqIpOR_tZ"
   },
   "outputs": [],
   "source": [
    "y_pred = model_Dt.predict(X_cv_test)"
   ]
  },
  {
   "cell_type": "code",
   "execution_count": 305,
   "metadata": {
    "colab": {
     "base_uri": "https://localhost:8080/"
    },
    "id": "B_7i2tiJR_95",
    "outputId": "5baef419-4c95-41e0-809d-524c70027525"
   },
   "outputs": [
    {
     "name": "stdout",
     "output_type": "stream",
     "text": [
      "                      precision    recall  f1-score   support\n",
      "\n",
      "          Accounting       0.63      0.67      0.65       297\n",
      "         Advertising       0.09      0.12      0.10        99\n",
      "         Agriculture       0.00      0.00      0.00         5\n",
      "        Architecture       0.33      0.60      0.43         5\n",
      "                Arts       0.22      0.27      0.24       357\n",
      "          Automotive       0.12      0.09      0.11        11\n",
      "             Banking       0.00      0.00      0.00        10\n",
      "             Biotech       0.00      0.00      0.00         8\n",
      "    BusinessServices       0.69      0.84      0.76       108\n",
      "           Chemicals       0.00      0.00      0.00         6\n",
      "Communications-Media       0.16      0.21      0.18       254\n",
      "        Construction       0.32      0.48      0.38        42\n",
      "          Consulting       0.13      0.15      0.14       210\n",
      "           Education       0.26      0.36      0.30       542\n",
      "         Engineering       0.11      0.20      0.14        61\n",
      "         Environment       0.00      0.00      0.00         2\n",
      "             Fashion       0.12      0.12      0.12        17\n",
      "          Government       0.07      0.07      0.07       128\n",
      "      HumanResources       0.18      0.31      0.23        68\n",
      "            Internet       0.29      0.31      0.30       652\n",
      "   InvestmentBanking       0.00      0.00      0.00         2\n",
      "                 Law       0.32      0.43      0.36       107\n",
      "       Manufacturing       0.06      0.12      0.08         8\n",
      "            Maritime       0.00      0.00      0.00         1\n",
      "           Marketing       0.04      0.09      0.06        34\n",
      "            Military       0.06      0.12      0.08        42\n",
      "   Museums-Libraries       0.23      0.32      0.26       122\n",
      "          Non-Profit       0.20      0.25      0.22       121\n",
      "          Publishing       0.12      0.16      0.13       238\n",
      "          RealEstate       0.44      0.31      0.36        13\n",
      "            Religion       0.09      0.10      0.09       145\n",
      "             Science       0.06      0.25      0.10         4\n",
      "   Sports-Recreation       0.02      0.04      0.03        25\n",
      "             Student       0.00      0.00      0.00        11\n",
      "          Technology       0.18      0.20      0.19       544\n",
      "  Telecommunications       0.00      0.00      0.00        39\n",
      "             Tourism       0.24      0.50      0.32        20\n",
      "      Transportation       0.00      0.00      0.00        40\n",
      "              indUnk       0.66      0.50      0.57      4881\n",
      "\n",
      "            accuracy                           0.40      9279\n",
      "           macro avg       0.17      0.21      0.18      9279\n",
      "        weighted avg       0.46      0.40      0.42      9279\n",
      "\n"
     ]
    }
   ],
   "source": [
    "print(classification_report(y_pred, Y_cv_test))"
   ]
  },
  {
   "cell_type": "code",
   "execution_count": 312,
   "metadata": {
    "colab": {
     "base_uri": "https://localhost:8080/"
    },
    "id": "D1eij76YBYWi",
    "outputId": "9e7a4a51-1e24-4e12-a46d-726d211b6503"
   },
   "outputs": [
    {
     "name": "stdout",
     "output_type": "stream",
     "text": [
      "For the Age Group of 40s predicted Label -  indUnk\n",
      "For the Age Group of 40s True Label -  indUnk\n",
      "For the Age Group of 40s predicted Label-  BusinessServices\n",
      "For the Age Group of 40s True Label -  BusinessServices\n",
      "For the Age Group of 40s predicted Label -  Education\n",
      "For the Age Group of 40s True Label -  Museums-Libraries\n",
      "For the Age Group of 40s predicted Label-  Internet\n",
      "For the Age Group of 40s True Label -  Internet\n",
      "For the Age Group of 40s predicted Label-  Arts\n",
      "For the Age Group of 40s True Label -  indUnk\n"
     ]
    }
   ],
   "source": [
    "print(\"For the Age Group of 40s predicted Label - \",y_pred[0])\n",
    "print(\"For the Age Group of 40s True Label - \",np.array(Y_cv_test)[0])\n",
    "\n",
    "print(\"For the Age Group of 40s predicted Label- \",y_pred[100])\n",
    "print(\"For the Age Group of 40s True Label - \",np.array(Y_cv_test)[100])\n",
    "\n",
    "print(\"For the Age Group of 40s predicted Label - \",y_pred[200])\n",
    "print(\"For the Age Group of 40s True Label - \",np.array(Y_cv_test)[200])\n",
    "\n",
    "print(\"For the Age Group of 40s predicted Label- \",y_pred[5])\n",
    "print(\"For the Age Group of 40s True Label - \",np.array(Y_cv_test)[5])\n",
    "\n",
    "print(\"For the Age Group of 40s predicted Label- \",y_pred[7])\n",
    "print(\"For the Age Group of 40s True Label - \",np.array(Y_cv_test)[7])"
   ]
  },
  {
   "cell_type": "markdown",
   "metadata": {
    "id": "NGclnPDYFhV4"
   },
   "source": [
    "# **Observations from BOW and N_Gram Model for Age Group of Bloggers for 40s**\n",
    "\n",
    " - We can see the training accuracy as 0.99 and testing accuracy as 0.39 which make the model to be underfit with DecisionTreeclassifier.\n",
    "\n",
    " - As the test accuracy is low we can see the predict and true labels have miss match for 2 entries from the above output \n",
    "\n",
    " -  Out of all blogs, the blogs with topic **BusinessServices** has been predicted correctly with a recall of 84%.\n",
    "\n",
    " - Out of all blogs, the blogs with topic **BusinessServices** has a good precision ration as 69%.  "
   ]
  },
  {
   "cell_type": "code",
   "execution_count": 313,
   "metadata": {
    "id": "9fcT2k-QX3jt"
   },
   "outputs": [],
   "source": [
    "#Using Bag of Words and N_Gram Model using Count Vectorizier for age group of 30's\n",
    "\n",
    "cv_2 = CountVectorizer(min_df=0.,max_df=1.,ngram_range=(1,2))\n",
    "cvmatrix_2 = cv_2.fit_transform(blog_df[blog_df['Age_Range'] == '30s']['keyword'])"
   ]
  },
  {
   "cell_type": "code",
   "execution_count": 314,
   "metadata": {
    "colab": {
     "base_uri": "https://localhost:8080/"
    },
    "id": "IirqmiJXX3mW",
    "outputId": "08235d27-5c4d-4371-ec01-edf533e0d1a6"
   },
   "outputs": [
    {
     "data": {
      "text/plain": [
       "(93040, 4836487)"
      ]
     },
     "execution_count": 314,
     "metadata": {
      "tags": []
     },
     "output_type": "execute_result"
    }
   ],
   "source": [
    "cvmatrix_2.shape"
   ]
  },
  {
   "cell_type": "code",
   "execution_count": 315,
   "metadata": {
    "id": "xOTKde8bX3oy"
   },
   "outputs": [],
   "source": [
    "X_cv_2 = cvmatrix_2\n",
    "Y_cv_2 = blog_df[blog_df['Age_Range'] == '30s']['topic']"
   ]
  },
  {
   "cell_type": "code",
   "execution_count": 316,
   "metadata": {
    "id": "jFOeZTezX3t6"
   },
   "outputs": [],
   "source": [
    "X_cv2_train,X_cv2_test,Y_cv2_train,Y_cv2_test = train_test_split(X_cv_2,Y_cv_2,test_size=0.30,random_state =5)"
   ]
  },
  {
   "cell_type": "code",
   "execution_count": 317,
   "metadata": {
    "colab": {
     "base_uri": "https://localhost:8080/"
    },
    "id": "Sotfjw5bX3we",
    "outputId": "ce80cd6d-8321-4632-c013-4c05cc7f6f9e"
   },
   "outputs": [
    {
     "data": {
      "text/plain": [
       "MultinomialNB(alpha=1.0, class_prior=None, fit_prior=True)"
      ]
     },
     "execution_count": 317,
     "metadata": {
      "tags": []
     },
     "output_type": "execute_result"
    }
   ],
   "source": [
    "from sklearn.naive_bayes import MultinomialNB\n",
    "\n",
    "clf_cv_2 = MultinomialNB()\n",
    "clf_cv_2.fit(X_cv2_train,Y_cv2_train)"
   ]
  },
  {
   "cell_type": "code",
   "execution_count": 318,
   "metadata": {
    "colab": {
     "base_uri": "https://localhost:8080/"
    },
    "id": "cWSfx7DEX3zG",
    "outputId": "de6aad3e-4ce7-4e32-bb2e-f09f00284bda"
   },
   "outputs": [
    {
     "name": "stdout",
     "output_type": "stream",
     "text": [
      "Training Accuracy 0.5279603242844859\n",
      "Testing Accuracy 0.48864287761536257\n"
     ]
    }
   ],
   "source": [
    "print(\"Training Accuracy\" , clf_cv_2.score(X_cv2_train, Y_cv2_train))\n",
    "print(\"Testing Accuracy\" , clf_cv_2.score(X_cv2_test, Y_cv2_test))"
   ]
  },
  {
   "cell_type": "code",
   "execution_count": 319,
   "metadata": {
    "colab": {
     "base_uri": "https://localhost:8080/"
    },
    "id": "sk2aBdCCX31s",
    "outputId": "4cfc5a1e-7410-438e-c40a-8cd55509823b"
   },
   "outputs": [
    {
     "data": {
      "text/plain": [
       "DecisionTreeClassifier(ccp_alpha=0.0, class_weight=None, criterion='entropy',\n",
       "                       max_depth=None, max_features=None, max_leaf_nodes=None,\n",
       "                       min_impurity_decrease=0.0, min_impurity_split=None,\n",
       "                       min_samples_leaf=1, min_samples_split=2,\n",
       "                       min_weight_fraction_leaf=0.0, presort='deprecated',\n",
       "                       random_state=None, splitter='best')"
      ]
     },
     "execution_count": 319,
     "metadata": {
      "tags": []
     },
     "output_type": "execute_result"
    }
   ],
   "source": [
    "model_Dt2 = DecisionTreeClassifier(criterion='entropy')\n",
    "model_Dt2.fit(X_cv2_train, Y_cv2_train)"
   ]
  },
  {
   "cell_type": "code",
   "execution_count": 320,
   "metadata": {
    "colab": {
     "base_uri": "https://localhost:8080/"
    },
    "id": "gQD4LkLfZ1zX",
    "outputId": "5767cae8-4062-40dd-dfe0-18a6dcc78a8e"
   },
   "outputs": [
    {
     "name": "stdout",
     "output_type": "stream",
     "text": [
      "Training Accuracy 0.987133030340253\n",
      "Testing Accuracy 0.3999355116079106\n"
     ]
    }
   ],
   "source": [
    "print(\"Training Accuracy\" , model_Dt2.score(X_cv2_train, Y_cv2_train))\n",
    "print(\"Testing Accuracy\" , model_Dt2.score(X_cv2_test, Y_cv2_test))"
   ]
  },
  {
   "cell_type": "code",
   "execution_count": 321,
   "metadata": {
    "id": "QybrF3bwZ12C"
   },
   "outputs": [],
   "source": [
    "y_pred2 = model_Dt2.predict(X_cv2_test)"
   ]
  },
  {
   "cell_type": "code",
   "execution_count": 322,
   "metadata": {
    "colab": {
     "base_uri": "https://localhost:8080/"
    },
    "id": "56tVKVX2Z15C",
    "outputId": "02bd4bda-0dfc-4979-fb21-bd5ab47da1e7"
   },
   "outputs": [
    {
     "name": "stdout",
     "output_type": "stream",
     "text": [
      "                         precision    recall  f1-score   support\n",
      "\n",
      "             Accounting       0.12      0.14      0.13        77\n",
      "            Advertising       0.08      0.12      0.10       193\n",
      "            Agriculture       0.00      0.00      0.00        20\n",
      "           Architecture       0.12      0.23      0.16        64\n",
      "                   Arts       0.10      0.13      0.11       999\n",
      "             Automotive       0.11      0.16      0.13        98\n",
      "                Banking       0.08      0.12      0.10        82\n",
      "                Biotech       0.04      0.07      0.05        41\n",
      "       BusinessServices       0.07      0.14      0.09        96\n",
      "              Chemicals       0.00      0.00      0.00         1\n",
      "   Communications-Media       0.11      0.17      0.13       508\n",
      "           Construction       0.09      0.11      0.10        35\n",
      "             Consulting       0.17      0.24      0.20       219\n",
      "              Education       0.25      0.31      0.27      1426\n",
      "            Engineering       0.04      0.08      0.05        65\n",
      "            Environment       0.00      0.00      0.00         6\n",
      "                Fashion       0.35      0.42      0.38       736\n",
      "             Government       0.01      0.02      0.01       235\n",
      "         HumanResources       0.03      0.06      0.04       101\n",
      "               Internet       0.09      0.15      0.11       735\n",
      "      InvestmentBanking       0.04      0.05      0.04        99\n",
      "                    Law       0.07      0.12      0.09       105\n",
      "LawEnforcement-Security       0.03      0.04      0.03       163\n",
      "          Manufacturing       0.00      0.00      0.00        92\n",
      "              Marketing       0.02      0.04      0.03        99\n",
      "               Military       0.07      0.13      0.10       136\n",
      "      Museums-Libraries       0.01      0.01      0.01        93\n",
      "             Non-Profit       0.05      0.06      0.05       416\n",
      "             Publishing       0.29      0.35      0.32       505\n",
      "             RealEstate       0.06      0.06      0.06       264\n",
      "               Religion       0.09      0.12      0.10       256\n",
      "                Science       0.04      0.05      0.04        95\n",
      "      Sports-Recreation       0.35      0.62      0.45        29\n",
      "                Student       0.10      0.13      0.12       182\n",
      "             Technology       0.17      0.21      0.18      2040\n",
      "     Telecommunications       0.14      0.18      0.16       239\n",
      "                Tourism       0.01      0.02      0.02        42\n",
      "         Transportation       0.28      0.40      0.33       277\n",
      "                 indUnk       0.69      0.53      0.60     17043\n",
      "\n",
      "               accuracy                           0.40     27912\n",
      "              macro avg       0.11      0.15      0.13     27912\n",
      "           weighted avg       0.48      0.40      0.43     27912\n",
      "\n"
     ]
    }
   ],
   "source": [
    "print(classification_report(y_pred2, Y_cv2_test))"
   ]
  },
  {
   "cell_type": "code",
   "execution_count": 323,
   "metadata": {
    "colab": {
     "base_uri": "https://localhost:8080/"
    },
    "id": "j2l9eZfwB8cq",
    "outputId": "f9f6ca8d-cdff-4ad0-d9e4-57e87ce6a6fd"
   },
   "outputs": [
    {
     "name": "stdout",
     "output_type": "stream",
     "text": [
      "For the Age Group of 30s predicted -  Telecommunications\n",
      "For the Age Group of 30s True Label -  indUnk\n",
      "For the Age Group of 30s predicted -  Internet\n",
      "For the Age Group of 30s True Label -  Arts\n",
      "For the Age Group of 30s predicted -  Internet\n",
      "For the Age Group of 30s True Label -  Education\n",
      "For the Age Group of 30s predicted -  RealEstate\n",
      "For the Age Group of 30s True Label -  Arts\n",
      "For the Age Group of 30s predicted -  indUnk\n",
      "For the Age Group of 30s True Label -  indUnk\n"
     ]
    }
   ],
   "source": [
    "print(\"For the Age Group of 30s predicted - \",y_pred2[0])\n",
    "print(\"For the Age Group of 30s True Label - \",np.array(Y_cv2_test)[0])\n",
    "\n",
    "print(\"For the Age Group of 30s predicted - \",y_pred2[100])\n",
    "print(\"For the Age Group of 30s True Label - \",np.array(Y_cv2_test)[100])\n",
    "\n",
    "print(\"For the Age Group of 30s predicted - \",y_pred2[200])\n",
    "print(\"For the Age Group of 30s True Label - \",np.array(Y_cv2_test)[200])\n",
    "\n",
    "print(\"For the Age Group of 30s predicted - \",y_pred2[5])\n",
    "print(\"For the Age Group of 30s True Label - \",np.array(Y_cv2_test)[5])\n",
    "\n",
    "print(\"For the Age Group of 30s predicted - \",y_pred2[7])\n",
    "print(\"For the Age Group of 30s True Label - \",np.array(Y_cv2_test)[7])"
   ]
  },
  {
   "cell_type": "markdown",
   "metadata": {
    "id": "dxlf8A0gawJC"
   },
   "source": [
    "# **Observations from BOW and N_Gram Model for Age Group of Bloggers for 30s**\n",
    "\n",
    " - We can see the training accuracy as 0.98 and testing accuracy as 0.38 which make the model to be underfit with DecisionTreeclassifier.\n",
    "\n",
    " - As the test accuracy is low , AMong the 5 sample prediction vs True Labels only one prediction is correct \n",
    "\n",
    " -  Out of all blogs, the blogs with topic **indUnk** has been predicted correctly with a recall of 53%.\n",
    "\n",
    " - Out of all blogs, the blogs with topic **indUnk** has a good precision ration as 69%.  "
   ]
  },
  {
   "cell_type": "code",
   "execution_count": 46,
   "metadata": {
    "id": "0pR2evop_tvP"
   },
   "outputs": [],
   "source": [
    "#Using Bag of Words and N_Gram Model using Count Vectorizier for age group of 20's\n",
    "\n",
    "cv_3 = CountVectorizer(min_df=0.,max_df=1.,ngram_range=(1,2))\n",
    "cvmatrix_3 = cv_3.fit_transform(blog_df[blog_df['Age_Range'] == '20s']['keyword'])"
   ]
  },
  {
   "cell_type": "code",
   "execution_count": 47,
   "metadata": {
    "colab": {
     "base_uri": "https://localhost:8080/"
    },
    "id": "Dc5kl2AN_tyG",
    "outputId": "23655a07-eedd-4c99-defe-f019b10cde01"
   },
   "outputs": [
    {
     "data": {
      "text/plain": [
       "(321447, 12118444)"
      ]
     },
     "execution_count": 47,
     "metadata": {
      "tags": []
     },
     "output_type": "execute_result"
    }
   ],
   "source": [
    "cvmatrix_3.shape"
   ]
  },
  {
   "cell_type": "code",
   "execution_count": 48,
   "metadata": {
    "id": "86Xdpz0V_t0y"
   },
   "outputs": [],
   "source": [
    "X_cv_3 = cvmatrix_3\n",
    "Y_cv_3 = blog_df[blog_df['Age_Range'] == '20s']['topic']"
   ]
  },
  {
   "cell_type": "code",
   "execution_count": 49,
   "metadata": {
    "id": "n_-4UyUB_uA9"
   },
   "outputs": [],
   "source": [
    "X_cv3_train,X_cv3_test,Y_cv3_train,Y_cv3_test = train_test_split(X_cv_3,Y_cv_3,test_size=0.30,random_state =5)"
   ]
  },
  {
   "cell_type": "code",
   "execution_count": 50,
   "metadata": {
    "colab": {
     "base_uri": "https://localhost:8080/"
    },
    "id": "3nP0_h_j_uGe",
    "outputId": "0c815507-0c30-4976-caf8-ea666b27d562"
   },
   "outputs": [
    {
     "data": {
      "text/plain": [
       "MultinomialNB(alpha=1.0, class_prior=None, fit_prior=True)"
      ]
     },
     "execution_count": 50,
     "metadata": {
      "tags": []
     },
     "output_type": "execute_result"
    }
   ],
   "source": [
    "clf_cv_3 = MultinomialNB()\n",
    "clf_cv_3.fit(X_cv3_train,Y_cv3_train)"
   ]
  },
  {
   "cell_type": "code",
   "execution_count": 51,
   "metadata": {
    "colab": {
     "base_uri": "https://localhost:8080/"
    },
    "id": "8ehW2Qbb_uJL",
    "outputId": "e35688cc-21f0-4b6d-cce4-bd166b6484ff"
   },
   "outputs": [
    {
     "name": "stdout",
     "output_type": "stream",
     "text": [
      "Training Accuracy 0.4324747124597799\n",
      "Testing Accuracy 0.3785866127443356\n"
     ]
    }
   ],
   "source": [
    "print(\"Training Accuracy\" , clf_cv_3.score(X_cv3_train, Y_cv3_train))\n",
    "print(\"Testing Accuracy\" , clf_cv_3.score(X_cv3_test, Y_cv3_test))"
   ]
  },
  {
   "cell_type": "code",
   "execution_count": 52,
   "metadata": {
    "id": "72UeJdfo_uLz"
   },
   "outputs": [],
   "source": [
    "y_pred3 = clf_cv_3.predict(X_cv3_test)"
   ]
  },
  {
   "cell_type": "code",
   "execution_count": 53,
   "metadata": {
    "colab": {
     "base_uri": "https://localhost:8080/"
    },
    "id": "-1zsHh23_uOs",
    "outputId": "ca46a21d-a76c-4a4f-b1bb-2df344292b7c"
   },
   "outputs": [
    {
     "name": "stdout",
     "output_type": "stream",
     "text": [
      "                         precision    recall  f1-score   support\n",
      "\n",
      "             Accounting       0.00      0.00      0.00         0\n",
      "            Advertising       0.02      0.42      0.04        50\n",
      "            Agriculture       0.00      0.00      0.00         0\n",
      "           Architecture       0.00      0.00      0.00         1\n",
      "                   Arts       0.02      0.48      0.04       275\n",
      "             Automotive       0.00      0.00      0.00         0\n",
      "                Banking       0.00      1.00      0.00         1\n",
      "                Biotech       0.00      0.20      0.01         5\n",
      "       BusinessServices       0.00      0.33      0.00         3\n",
      "              Chemicals       0.00      0.00      0.00        12\n",
      "   Communications-Media       0.00      0.59      0.01        32\n",
      "           Construction       0.00      0.00      0.00         0\n",
      "             Consulting       0.00      0.00      0.00         2\n",
      "              Education       0.02      0.58      0.03       125\n",
      "            Engineering       0.02      0.73      0.04        82\n",
      "            Environment       0.00      0.00      0.00         0\n",
      "                Fashion       0.00      0.00      0.00         0\n",
      "             Government       0.02      0.90      0.04        29\n",
      "         HumanResources       0.00      0.00      0.00         1\n",
      "               Internet       0.01      0.65      0.03        54\n",
      "      InvestmentBanking       0.00      0.00      0.00         0\n",
      "                    Law       0.00      0.22      0.00        23\n",
      "LawEnforcement-Security       0.00      0.00      0.00         0\n",
      "          Manufacturing       0.00      0.00      0.00         0\n",
      "               Maritime       0.00      0.00      0.00         0\n",
      "              Marketing       0.00      0.00      0.00         0\n",
      "               Military       0.00      0.00      0.00         0\n",
      "      Museums-Libraries       0.00      0.00      0.00         0\n",
      "             Non-Profit       0.01      0.12      0.01        84\n",
      "             Publishing       0.01      0.81      0.02        21\n",
      "             RealEstate       0.00      0.00      0.00         0\n",
      "               Religion       0.00      0.00      0.00         2\n",
      "                Science       0.00      0.00      0.00         2\n",
      "      Sports-Recreation       0.00      0.00      0.00         0\n",
      "                Student       0.04      0.39      0.07      1063\n",
      "             Technology       0.06      0.53      0.11       923\n",
      "     Telecommunications       0.01      0.75      0.02         8\n",
      "                Tourism       0.01      1.00      0.01         2\n",
      "         Transportation       0.00      0.00      0.00         0\n",
      "                 indUnk       0.99      0.38      0.54     93635\n",
      "\n",
      "               accuracy                           0.38     96435\n",
      "              macro avg       0.03      0.25      0.03     96435\n",
      "           weighted avg       0.96      0.38      0.53     96435\n",
      "\n"
     ]
    }
   ],
   "source": [
    "print(classification_report(y_pred3, Y_cv3_test))"
   ]
  },
  {
   "cell_type": "code",
   "execution_count": 54,
   "metadata": {
    "colab": {
     "base_uri": "https://localhost:8080/"
    },
    "id": "4lcqGwYuCmHy",
    "outputId": "84c8a17a-21e8-4244-ce61-8fec64c3a8e1"
   },
   "outputs": [
    {
     "name": "stdout",
     "output_type": "stream",
     "text": [
      "For the Age Group of 20s predicted -  indUnk\n",
      "For the Age Group of 20s True Label -  Education\n",
      "For the Age Group of 20s predicted -  indUnk\n",
      "For the Age Group of 20s True Label -  Student\n",
      "For the Age Group of 20s predicted -  indUnk\n",
      "For the Age Group of 20s True Label -  Student\n",
      "For the Age Group of 20s predicted -  indUnk\n",
      "For the Age Group of 20s True Label -  indUnk\n",
      "For the Age Group of 20s predicted -  indUnk\n",
      "For the Age Group of 20s True Label -  Education\n"
     ]
    }
   ],
   "source": [
    "print(\"For the Age Group of 20s predicted - \",y_pred3[0])\n",
    "print(\"For the Age Group of 20s True Label - \",np.array(Y_cv3_test)[0])\n",
    "\n",
    "print(\"For the Age Group of 20s predicted - \",y_pred3[100])\n",
    "print(\"For the Age Group of 20s True Label - \",np.array(Y_cv3_test)[100])\n",
    "\n",
    "print(\"For the Age Group of 20s predicted - \",y_pred3[200])\n",
    "print(\"For the Age Group of 20s True Label - \",np.array(Y_cv3_test)[200])\n",
    "\n",
    "print(\"For the Age Group of 20s predicted - \",y_pred3[5])\n",
    "print(\"For the Age Group of 20s True Label - \",np.array(Y_cv3_test)[5])\n",
    "\n",
    "print(\"For the Age Group of 20s predicted - \",y_pred3[7])\n",
    "print(\"For the Age Group of 20s True Label - \",np.array(Y_cv3_test)[7])"
   ]
  },
  {
   "cell_type": "markdown",
   "metadata": {
    "id": "afDMquHZdkti"
   },
   "source": [
    "# **Observations from BOW and N_Gram Model for Age Group of Bloggers for 20s**\n",
    "\n",
    " - We can see the training accuracy as 0.43 and testing accuracy as 0.37 which make the model to be underfit with MultiNominalNB.\n",
    "\n",
    " - As the test accuracy is low , Among the 5 sample prediction vs True Labels only one prediction is correct \n",
    "\n",
    " -  Out of all blogs, the blogs with topic **indUnk** has been predicted correctly with a recall of 0.38.\n",
    "\n",
    " - Out of all blogs, the blogs with topic **indUnk** has a good precision ration as 0.99.  "
   ]
  },
  {
   "cell_type": "code",
   "execution_count": 46,
   "metadata": {
    "id": "rh538Tr-_ued"
   },
   "outputs": [],
   "source": [
    "#Using Bag of Words and N_Gram Model using Count Vectorizier for age group of 10's\n",
    "\n",
    "cv_4 = CountVectorizer(min_df=0.,max_df=1.,ngram_range=(1,2))\n",
    "cvmatrix_4 = cv_4.fit_transform(blog_df[blog_df['Age_Range'] == '10s']['keyword'])"
   ]
  },
  {
   "cell_type": "code",
   "execution_count": 47,
   "metadata": {
    "colab": {
     "base_uri": "https://localhost:8080/"
    },
    "id": "17IAImn4u4vB",
    "outputId": "a3d7e3b4-e515-4757-85b1-9732478571a3"
   },
   "outputs": [
    {
     "data": {
      "text/plain": [
       "(235867, 8417717)"
      ]
     },
     "execution_count": 47,
     "metadata": {
      "tags": []
     },
     "output_type": "execute_result"
    }
   ],
   "source": [
    "cvmatrix_4.shape"
   ]
  },
  {
   "cell_type": "code",
   "execution_count": 48,
   "metadata": {
    "id": "E8Br6kDwu4xJ"
   },
   "outputs": [],
   "source": [
    "X_cv_4 = cvmatrix_4\n",
    "Y_cv_4 = blog_df[blog_df['Age_Range'] == '10s']['topic']"
   ]
  },
  {
   "cell_type": "code",
   "execution_count": 49,
   "metadata": {
    "id": "O1GAx788u4zr"
   },
   "outputs": [],
   "source": [
    "X_cv4_train,X_cv4_test,Y_cv4_train,Y_cv4_test = train_test_split(X_cv_4,Y_cv_4,test_size=0.30,random_state =5)"
   ]
  },
  {
   "cell_type": "code",
   "execution_count": 50,
   "metadata": {
    "colab": {
     "base_uri": "https://localhost:8080/"
    },
    "id": "JUAyR7JLu42Z",
    "outputId": "62678651-6411-42ae-e57e-906a51f70d58"
   },
   "outputs": [
    {
     "data": {
      "text/plain": [
       "MultinomialNB(alpha=1.0, class_prior=None, fit_prior=True)"
      ]
     },
     "execution_count": 50,
     "metadata": {
      "tags": []
     },
     "output_type": "execute_result"
    }
   ],
   "source": [
    "clf_cv_4 = MultinomialNB()\n",
    "clf_cv_4.fit(X_cv4_train,Y_cv4_train)"
   ]
  },
  {
   "cell_type": "code",
   "execution_count": 51,
   "metadata": {
    "colab": {
     "base_uri": "https://localhost:8080/"
    },
    "id": "s9ZJgaReu44l",
    "outputId": "2d8af344-129b-482a-b2c6-93476a1eeafc"
   },
   "outputs": [
    {
     "name": "stdout",
     "output_type": "stream",
     "text": [
      "Training Accuracy 0.7550301018739477\n",
      "Testing Accuracy 0.5273809019092438\n"
     ]
    }
   ],
   "source": [
    "print(\"Training Accuracy\" , clf_cv_4.score(X_cv4_train, Y_cv4_train))\n",
    "print(\"Testing Accuracy\" , clf_cv_4.score(X_cv4_test, Y_cv4_test))"
   ]
  },
  {
   "cell_type": "code",
   "execution_count": 52,
   "metadata": {
    "id": "vTWW2SZtnL1C"
   },
   "outputs": [],
   "source": [
    "y_pred4 = clf_cv_4.predict(X_cv4_test)"
   ]
  },
  {
   "cell_type": "code",
   "execution_count": 53,
   "metadata": {
    "colab": {
     "base_uri": "https://localhost:8080/"
    },
    "id": "751_dLuhnL4l",
    "outputId": "9b86b097-a2d1-4324-820b-6faa3e18a3d3"
   },
   "outputs": [
    {
     "name": "stdout",
     "output_type": "stream",
     "text": [
      "                         precision    recall  f1-score   support\n",
      "\n",
      "             Accounting       0.00      0.00      0.00         0\n",
      "            Advertising       0.00      0.00      0.00         0\n",
      "            Agriculture       0.00      0.00      0.00         0\n",
      "           Architecture       0.00      0.00      0.00         0\n",
      "                   Arts       0.01      0.34      0.02        58\n",
      "             Automotive       0.00      0.00      0.00         0\n",
      "                Banking       0.00      0.00      0.00         0\n",
      "                Biotech       0.00      0.00      0.00         7\n",
      "       BusinessServices       0.00      0.00      0.00         0\n",
      "              Chemicals       0.00      0.00      0.00         0\n",
      "   Communications-Media       0.02      0.94      0.04        17\n",
      "           Construction       0.00      0.00      0.00         0\n",
      "             Consulting       0.00      0.00      0.00         3\n",
      "              Education       0.00      0.14      0.01        51\n",
      "            Engineering       0.00      0.00      0.00         1\n",
      "            Environment       0.00      0.00      0.00         0\n",
      "                Fashion       0.00      0.00      0.00         0\n",
      "             Government       0.00      0.00      0.00         1\n",
      "         HumanResources       0.00      0.00      0.00         0\n",
      "               Internet       0.00      0.00      0.00         2\n",
      "      InvestmentBanking       0.00      0.00      0.00         0\n",
      "                    Law       0.00      0.00      0.00         1\n",
      "LawEnforcement-Security       0.00      0.00      0.00         0\n",
      "          Manufacturing       0.00      0.00      0.00         0\n",
      "               Maritime       0.00      0.00      0.00         0\n",
      "              Marketing       0.00      0.00      0.00         0\n",
      "               Military       0.00      0.00      0.00         0\n",
      "      Museums-Libraries       0.00      0.00      0.00         0\n",
      "             Non-Profit       0.01      0.31      0.02        48\n",
      "             Publishing       0.00      0.00      0.00         0\n",
      "             RealEstate       0.00      0.00      0.00         0\n",
      "               Religion       0.00      0.00      0.00         0\n",
      "                Science       0.00      1.00      0.01         1\n",
      "      Sports-Recreation       0.00      0.00      0.00         0\n",
      "                Student       0.91      0.53      0.67     60415\n",
      "             Technology       0.01      0.33      0.02        40\n",
      "     Telecommunications       0.00      0.00      0.00         0\n",
      "                Tourism       0.00      0.00      0.00         0\n",
      "         Transportation       0.00      0.00      0.00         0\n",
      "                 indUnk       0.23      0.52      0.32     10116\n",
      "\n",
      "               accuracy                           0.53     70761\n",
      "              macro avg       0.03      0.10      0.03     70761\n",
      "           weighted avg       0.81      0.53      0.62     70761\n",
      "\n"
     ]
    }
   ],
   "source": [
    "print(classification_report(y_pred4, Y_cv4_test))"
   ]
  },
  {
   "cell_type": "code",
   "execution_count": 54,
   "metadata": {
    "colab": {
     "base_uri": "https://localhost:8080/"
    },
    "id": "Uy_HBN3GC8W8",
    "outputId": "64214ef3-a4ee-40c0-cf57-f6d5c2ea7094"
   },
   "outputs": [
    {
     "name": "stdout",
     "output_type": "stream",
     "text": [
      "For the Age Group of 10s predicted -  Student\n",
      "For the Age Group of 10s True Label -  Student\n",
      "For the Age Group of 10s predicted -  Student\n",
      "For the Age Group of 10s True Label -  Student\n",
      "For the Age Group of 10s predicted -  Student\n",
      "For the Age Group of 10s True Label -  Student\n",
      "For the Age Group of 10s predicted -  Student\n",
      "For the Age Group of 10s True Label -  Student\n",
      "For the Age Group of 10s predicted -  Student\n",
      "For the Age Group of 10s True Label -  Religion\n"
     ]
    }
   ],
   "source": [
    "print(\"For the Age Group of 10s predicted - \",y_pred4[0])\n",
    "print(\"For the Age Group of 10s True Label - \",np.array(Y_cv4_test)[0])\n",
    "\n",
    "print(\"For the Age Group of 10s predicted - \",y_pred4[100])\n",
    "print(\"For the Age Group of 10s True Label - \",np.array(Y_cv4_test)[100])\n",
    "\n",
    "print(\"For the Age Group of 10s predicted - \",y_pred4[200])\n",
    "print(\"For the Age Group of 10s True Label - \",np.array(Y_cv4_test)[200])\n",
    "\n",
    "print(\"For the Age Group of 10s predicted - \",y_pred4[5])\n",
    "print(\"For the Age Group of 10s True Label - \",np.array(Y_cv4_test)[5])\n",
    "\n",
    "print(\"For the Age Group of 10s predicted - \",y_pred4[7])\n",
    "print(\"For the Age Group of 10s True Label - \",np.array(Y_cv4_test)[7])"
   ]
  },
  {
   "cell_type": "markdown",
   "metadata": {
    "id": "TaD9SfVil0gy"
   },
   "source": [
    "# **Observations from BOW and N_Gram Model for Age Group of Bloggers for 10s**\n",
    "\n",
    " - We can see the training accuracy as 0.75 and testing accuracy as 0.52 which make the model to be underfit with MultiNominalNB.\n",
    "\n",
    " - As the test accuracy is low , Among the 5 sample prediction vs True Labels four predictions are correct. Model looks to be good. \n",
    "\n",
    " -  Out of all blogs, the blogs with topic **Student** has been predicted correctly with a recall of 0.53.\n",
    "\n",
    " - Out of all blogs, the blogs with topic **Student** has a good precision ration as 0.91.  "
   ]
  },
  {
   "cell_type": "markdown",
   "metadata": {
    "id": "6wPxhSLFxdDl"
   },
   "source": [
    "# **Multi-Label Classification**\n",
    "\n",
    "   -- Merge labels for multi-label classification problem.\n",
    "\n",
    "   -- Label columns to merge : [\"gender\", \"age\", \"topic\", \"sign\"].\n",
    "\n",
    "   -- Reduce the blog_df --> blog_df[Keyword, labels]"
   ]
  },
  {
   "cell_type": "code",
   "execution_count": 220,
   "metadata": {
    "id": "PtJmpPq2xaqv"
   },
   "outputs": [],
   "source": [
    "blog_df[\"age\"] = blog_df[\"age\"].astype(str)\n",
    "blog_df[\"labels\"] = blog_df.apply(lambda col :\n",
    "                            [col[\"gender\"],col[\"age\"],col[\"topic\"],col[\"sign\"]],axis =1)"
   ]
  },
  {
   "cell_type": "code",
   "execution_count": 221,
   "metadata": {
    "colab": {
     "base_uri": "https://localhost:8080/",
     "height": 571
    },
    "id": "YR9fEuFKxatV",
    "outputId": "c3ab117e-e4fe-421f-9506-1df0ad3c220a"
   },
   "outputs": [
    {
     "data": {
      "text/html": [
       "<div>\n",
       "<style scoped>\n",
       "    .dataframe tbody tr th:only-of-type {\n",
       "        vertical-align: middle;\n",
       "    }\n",
       "\n",
       "    .dataframe tbody tr th {\n",
       "        vertical-align: top;\n",
       "    }\n",
       "\n",
       "    .dataframe thead th {\n",
       "        text-align: right;\n",
       "    }\n",
       "</style>\n",
       "<table border=\"1\" class=\"dataframe\">\n",
       "  <thead>\n",
       "    <tr style=\"text-align: right;\">\n",
       "      <th></th>\n",
       "      <th>id</th>\n",
       "      <th>gender</th>\n",
       "      <th>age</th>\n",
       "      <th>topic</th>\n",
       "      <th>sign</th>\n",
       "      <th>date</th>\n",
       "      <th>text</th>\n",
       "      <th>Age_Range</th>\n",
       "      <th>keyword</th>\n",
       "      <th>labels</th>\n",
       "    </tr>\n",
       "  </thead>\n",
       "  <tbody>\n",
       "    <tr>\n",
       "      <th>0</th>\n",
       "      <td>2059027</td>\n",
       "      <td>male</td>\n",
       "      <td>15</td>\n",
       "      <td>Student</td>\n",
       "      <td>Leo</td>\n",
       "      <td>14,May,2004</td>\n",
       "      <td>info ha been found page and mb of pdf file now i have to wait untill our team leader ha processed it and learns html</td>\n",
       "      <td>10s</td>\n",
       "      <td>info ha found page mb pdf file wait untill team leader ha processed learns html</td>\n",
       "      <td>[male, 15, Student, Leo]</td>\n",
       "    </tr>\n",
       "    <tr>\n",
       "      <th>1</th>\n",
       "      <td>2059027</td>\n",
       "      <td>male</td>\n",
       "      <td>15</td>\n",
       "      <td>Student</td>\n",
       "      <td>Leo</td>\n",
       "      <td>13,May,2004</td>\n",
       "      <td>these are the team member drewes van der laag urllink mail ruiyu xie urllink mail bryan aaldering me urllink mail</td>\n",
       "      <td>10s</td>\n",
       "      <td>team member drewes van der laag urllink mail ruiyu xie urllink mail bryan aaldering urllink mail</td>\n",
       "      <td>[male, 15, Student, Leo]</td>\n",
       "    </tr>\n",
       "    <tr>\n",
       "      <th>2</th>\n",
       "      <td>2059027</td>\n",
       "      <td>male</td>\n",
       "      <td>15</td>\n",
       "      <td>Student</td>\n",
       "      <td>Leo</td>\n",
       "      <td>12,May,2004</td>\n",
       "      <td>in het kader van kernfusie op aarde maak je eigen waterstofbom how to build an hbomb from ascotttartarusuwaeduau andrew scott newsgroups rechumor subject how to build an hbomb humorous date feb gmt organization the university of western australia original file dated th november seemed to be a transcript of a seven day article poorly formatted and corrupted i have added the text between examine under a microscope and malleable like gold a it wa missing if anyone ha the full text please distri...</td>\n",
       "      <td>10s</td>\n",
       "      <td>het kader van kernfusie op aarde maak je eigen waterstofbom build hbomb ascotttartarusuwaeduau andrew scott newsgroups rechumor subject build hbomb humorous date feb gmt organization university western australia original file dated th november seemed transcript seven day article poorly formatted corrupted added text examine microscope malleable like gold wa missing anyone ha full text please distribute responsible accuracy information converted html dionisioinfinetcom little spellchecking mi...</td>\n",
       "      <td>[male, 15, Student, Leo]</td>\n",
       "    </tr>\n",
       "    <tr>\n",
       "      <th>3</th>\n",
       "      <td>2059027</td>\n",
       "      <td>male</td>\n",
       "      <td>15</td>\n",
       "      <td>Student</td>\n",
       "      <td>Leo</td>\n",
       "      <td>12,May,2004</td>\n",
       "      <td>testing testing</td>\n",
       "      <td>10s</td>\n",
       "      <td>testing testing</td>\n",
       "      <td>[male, 15, Student, Leo]</td>\n",
       "    </tr>\n",
       "    <tr>\n",
       "      <th>4</th>\n",
       "      <td>3581210</td>\n",
       "      <td>male</td>\n",
       "      <td>33</td>\n",
       "      <td>InvestmentBanking</td>\n",
       "      <td>Aquarius</td>\n",
       "      <td>11,June,2004</td>\n",
       "      <td>thanks to yahoo toolbar i can now capture the url of popupswhich mean now i can show you some cool link to korean pop kpop audio and video without the need to relate instruction like go to the site click on the popaudio button then choose so without further ado here is the link to hour kpop urllink audio and the urllink video streaming enjoy</td>\n",
       "      <td>30s</td>\n",
       "      <td>thanks yahoo toolbar capture url popupswhich mean show cool link korean pop kpop audio video without need relate instruction like go site click popaudio button choose without ado link hour kpop urllink audio urllink video streaming enjoy</td>\n",
       "      <td>[male, 33, InvestmentBanking, Aquarius]</td>\n",
       "    </tr>\n",
       "  </tbody>\n",
       "</table>\n",
       "</div>"
      ],
      "text/plain": [
       "        id gender age              topic      sign          date  \\\n",
       "0  2059027   male  15            Student       Leo   14,May,2004   \n",
       "1  2059027   male  15            Student       Leo   13,May,2004   \n",
       "2  2059027   male  15            Student       Leo   12,May,2004   \n",
       "3  2059027   male  15            Student       Leo   12,May,2004   \n",
       "4  3581210   male  33  InvestmentBanking  Aquarius  11,June,2004   \n",
       "\n",
       "                                                                                                                                                                                                                                                                                                                                                                                                                                                                                                                  text  \\\n",
       "0                                                                                                                                                                                                                                                                                                                                                                                                 info ha been found page and mb of pdf file now i have to wait untill our team leader ha processed it and learns html   \n",
       "1                                                                                                                                                                                                                                                                                                                                                                                                    these are the team member drewes van der laag urllink mail ruiyu xie urllink mail bryan aaldering me urllink mail   \n",
       "2  in het kader van kernfusie op aarde maak je eigen waterstofbom how to build an hbomb from ascotttartarusuwaeduau andrew scott newsgroups rechumor subject how to build an hbomb humorous date feb gmt organization the university of western australia original file dated th november seemed to be a transcript of a seven day article poorly formatted and corrupted i have added the text between examine under a microscope and malleable like gold a it wa missing if anyone ha the full text please distri...   \n",
       "3                                                                                                                                                                                                                                                                                                                                                                                                                                                                                                      testing testing   \n",
       "4                                                                                                                                                              thanks to yahoo toolbar i can now capture the url of popupswhich mean now i can show you some cool link to korean pop kpop audio and video without the need to relate instruction like go to the site click on the popaudio button then choose so without further ado here is the link to hour kpop urllink audio and the urllink video streaming enjoy   \n",
       "\n",
       "  Age_Range  \\\n",
       "0       10s   \n",
       "1       10s   \n",
       "2       10s   \n",
       "3       10s   \n",
       "4       30s   \n",
       "\n",
       "                                                                                                                                                                                                                                                                                                                                                                                                                                                                                                               keyword  \\\n",
       "0                                                                                                                                                                                                                                                                                                                                                                                                                                      info ha found page mb pdf file wait untill team leader ha processed learns html   \n",
       "1                                                                                                                                                                                                                                                                                                                                                                                                                     team member drewes van der laag urllink mail ruiyu xie urllink mail bryan aaldering urllink mail   \n",
       "2  het kader van kernfusie op aarde maak je eigen waterstofbom build hbomb ascotttartarusuwaeduau andrew scott newsgroups rechumor subject build hbomb humorous date feb gmt organization university western australia original file dated th november seemed transcript seven day article poorly formatted corrupted added text examine microscope malleable like gold wa missing anyone ha full text please distribute responsible accuracy information converted html dionisioinfinetcom little spellchecking mi...   \n",
       "3                                                                                                                                                                                                                                                                                                                                                                                                                                                                                                      testing testing   \n",
       "4                                                                                                                                                                                                                                                                        thanks yahoo toolbar capture url popupswhich mean show cool link korean pop kpop audio video without need relate instruction like go site click popaudio button choose without ado link hour kpop urllink audio urllink video streaming enjoy   \n",
       "\n",
       "                                    labels  \n",
       "0                 [male, 15, Student, Leo]  \n",
       "1                 [male, 15, Student, Leo]  \n",
       "2                 [male, 15, Student, Leo]  \n",
       "3                 [male, 15, Student, Leo]  \n",
       "4  [male, 33, InvestmentBanking, Aquarius]  "
      ]
     },
     "execution_count": 221,
     "metadata": {
      "tags": []
     },
     "output_type": "execute_result"
    }
   ],
   "source": [
    "blog_df.head(5)"
   ]
  },
  {
   "cell_type": "code",
   "execution_count": 222,
   "metadata": {
    "id": "bFXBO392xav_"
   },
   "outputs": [],
   "source": [
    "data_original = blog_df.copy(deep=True)"
   ]
  },
  {
   "cell_type": "code",
   "execution_count": 223,
   "metadata": {
    "id": "agSE35xWxay-"
   },
   "outputs": [],
   "source": [
    "data_original.drop(columns=[\"gender\",\"age\",\"sign\",\"topic\",\"date\",\"text\"],axis =1, inplace = True)"
   ]
  },
  {
   "cell_type": "code",
   "execution_count": 224,
   "metadata": {
    "colab": {
     "base_uri": "https://localhost:8080/"
    },
    "id": "_o1h6272xa1N",
    "outputId": "15640cfc-22e1-4d67-e0c0-fe5a75776ef6"
   },
   "outputs": [
    {
     "data": {
      "text/plain": [
       "264"
      ]
     },
     "execution_count": 224,
     "metadata": {
      "tags": []
     },
     "output_type": "execute_result"
    }
   ],
   "source": [
    "gc.collect()"
   ]
  },
  {
   "cell_type": "code",
   "execution_count": 225,
   "metadata": {
    "colab": {
     "base_uri": "https://localhost:8080/",
     "height": 293
    },
    "id": "5hFH0Uhxxa3h",
    "outputId": "3ddf3d0b-663e-4a5e-c8b8-642493e17aaf"
   },
   "outputs": [
    {
     "data": {
      "text/html": [
       "<div>\n",
       "<style scoped>\n",
       "    .dataframe tbody tr th:only-of-type {\n",
       "        vertical-align: middle;\n",
       "    }\n",
       "\n",
       "    .dataframe tbody tr th {\n",
       "        vertical-align: top;\n",
       "    }\n",
       "\n",
       "    .dataframe thead th {\n",
       "        text-align: right;\n",
       "    }\n",
       "</style>\n",
       "<table border=\"1\" class=\"dataframe\">\n",
       "  <thead>\n",
       "    <tr style=\"text-align: right;\">\n",
       "      <th></th>\n",
       "      <th>id</th>\n",
       "      <th>Age_Range</th>\n",
       "      <th>keyword</th>\n",
       "      <th>labels</th>\n",
       "    </tr>\n",
       "  </thead>\n",
       "  <tbody>\n",
       "    <tr>\n",
       "      <th>0</th>\n",
       "      <td>2059027</td>\n",
       "      <td>10s</td>\n",
       "      <td>info ha found page mb pdf file wait untill team leader ha processed learns html</td>\n",
       "      <td>[male, 15, Student, Leo]</td>\n",
       "    </tr>\n",
       "    <tr>\n",
       "      <th>1</th>\n",
       "      <td>2059027</td>\n",
       "      <td>10s</td>\n",
       "      <td>team member drewes van der laag urllink mail ruiyu xie urllink mail bryan aaldering urllink mail</td>\n",
       "      <td>[male, 15, Student, Leo]</td>\n",
       "    </tr>\n",
       "    <tr>\n",
       "      <th>2</th>\n",
       "      <td>2059027</td>\n",
       "      <td>10s</td>\n",
       "      <td>het kader van kernfusie op aarde maak je eigen waterstofbom build hbomb ascotttartarusuwaeduau andrew scott newsgroups rechumor subject build hbomb humorous date feb gmt organization university western australia original file dated th november seemed transcript seven day article poorly formatted corrupted added text examine microscope malleable like gold wa missing anyone ha full text please distribute responsible accuracy information converted html dionisioinfinetcom little spellchecking mi...</td>\n",
       "      <td>[male, 15, Student, Leo]</td>\n",
       "    </tr>\n",
       "    <tr>\n",
       "      <th>3</th>\n",
       "      <td>2059027</td>\n",
       "      <td>10s</td>\n",
       "      <td>testing testing</td>\n",
       "      <td>[male, 15, Student, Leo]</td>\n",
       "    </tr>\n",
       "    <tr>\n",
       "      <th>4</th>\n",
       "      <td>3581210</td>\n",
       "      <td>30s</td>\n",
       "      <td>thanks yahoo toolbar capture url popupswhich mean show cool link korean pop kpop audio video without need relate instruction like go site click popaudio button choose without ado link hour kpop urllink audio urllink video streaming enjoy</td>\n",
       "      <td>[male, 33, InvestmentBanking, Aquarius]</td>\n",
       "    </tr>\n",
       "  </tbody>\n",
       "</table>\n",
       "</div>"
      ],
      "text/plain": [
       "        id Age_Range  \\\n",
       "0  2059027       10s   \n",
       "1  2059027       10s   \n",
       "2  2059027       10s   \n",
       "3  2059027       10s   \n",
       "4  3581210       30s   \n",
       "\n",
       "                                                                                                                                                                                                                                                                                                                                                                                                                                                                                                               keyword  \\\n",
       "0                                                                                                                                                                                                                                                                                                                                                                                                                                      info ha found page mb pdf file wait untill team leader ha processed learns html   \n",
       "1                                                                                                                                                                                                                                                                                                                                                                                                                     team member drewes van der laag urllink mail ruiyu xie urllink mail bryan aaldering urllink mail   \n",
       "2  het kader van kernfusie op aarde maak je eigen waterstofbom build hbomb ascotttartarusuwaeduau andrew scott newsgroups rechumor subject build hbomb humorous date feb gmt organization university western australia original file dated th november seemed transcript seven day article poorly formatted corrupted added text examine microscope malleable like gold wa missing anyone ha full text please distribute responsible accuracy information converted html dionisioinfinetcom little spellchecking mi...   \n",
       "3                                                                                                                                                                                                                                                                                                                                                                                                                                                                                                      testing testing   \n",
       "4                                                                                                                                                                                                                                                                        thanks yahoo toolbar capture url popupswhich mean show cool link korean pop kpop audio video without need relate instruction like go site click popaudio button choose without ado link hour kpop urllink audio urllink video streaming enjoy   \n",
       "\n",
       "                                    labels  \n",
       "0                 [male, 15, Student, Leo]  \n",
       "1                 [male, 15, Student, Leo]  \n",
       "2                 [male, 15, Student, Leo]  \n",
       "3                 [male, 15, Student, Leo]  \n",
       "4  [male, 33, InvestmentBanking, Aquarius]  "
      ]
     },
     "execution_count": 225,
     "metadata": {
      "tags": []
     },
     "output_type": "execute_result"
    }
   ],
   "source": [
    "data_original.head(5)"
   ]
  },
  {
   "cell_type": "code",
   "execution_count": 226,
   "metadata": {
    "id": "n_tYA-j9xa6G"
   },
   "outputs": [],
   "source": [
    "## Creating multi-label classification for Age Range of 40's\n",
    "\n",
    "X_multi_lables_40s = data_original[data_original['Age_Range'] == '40s']['keyword']\n",
    "y_multi_lables_40s = data_original[data_original['Age_Range'] == '40s']['labels']\n",
    "\n",
    "X_multi_lables_40s_train, X_multi_lables_40s_test, y_multi_lables_40s_train, y_multi_lables_40s_test =train_test_split(X_multi_lables_40s,y_multi_lables_40s, random_state=42,\n",
    "                                                                                                       test_size = 0.1,shuffle = True)"
   ]
  },
  {
   "cell_type": "code",
   "execution_count": 227,
   "metadata": {
    "colab": {
     "base_uri": "https://localhost:8080/"
    },
    "id": "NOYHLXlsxa8i",
    "outputId": "3d696bb8-284e-46dd-bd02-dd8eaf1aa9ac"
   },
   "outputs": [
    {
     "name": "stdout",
     "output_type": "stream",
     "text": [
      "shape of training set : (27837,)\n",
      "shape of test set : (3093,)\n"
     ]
    }
   ],
   "source": [
    "print(\"shape of training set :\", X_multi_lables_40s_train.shape)\n",
    "print(\"shape of test set :\", X_multi_lables_40s_test.shape)"
   ]
  },
  {
   "cell_type": "code",
   "execution_count": 238,
   "metadata": {
    "colab": {
     "base_uri": "https://localhost:8080/"
    },
    "id": "Uc5Yn8Pog42J",
    "outputId": "1bcf3d7b-a821-4af1-d7d7-bbe235562287"
   },
   "outputs": [
    {
     "data": {
      "text/plain": [
       "(703,)"
      ]
     },
     "execution_count": 238,
     "metadata": {
      "tags": []
     },
     "output_type": "execute_result"
    }
   ],
   "source": [
    "np.unique(y_multi_lables_40s).shape"
   ]
  },
  {
   "cell_type": "markdown",
   "metadata": {
    "id": "02fG64qz1qSD"
   },
   "source": [
    " **Count Vectorizer on BoW**"
   ]
  },
  {
   "cell_type": "code",
   "execution_count": 228,
   "metadata": {
    "id": "pHQ5c0RMxa_H"
   },
   "outputs": [],
   "source": [
    "ctv = CountVectorizer(analyzer='word', token_pattern=r'\\w{1,}', \n",
    "                      ngram_range=(1, 2), stop_words = 'english')\n",
    "\n",
    "corpus = list(X_multi_lables_40s_train)+list(X_multi_lables_40s_test)"
   ]
  },
  {
   "cell_type": "code",
   "execution_count": 229,
   "metadata": {
    "colab": {
     "base_uri": "https://localhost:8080/"
    },
    "id": "OJFWkBF3xbBv",
    "outputId": "75b82d49-dd66-4641-b7c7-08fb9e464d00"
   },
   "outputs": [
    {
     "data": {
      "text/plain": [
       "CountVectorizer(analyzer='word', binary=False, decode_error='strict',\n",
       "                dtype=<class 'numpy.int64'>, encoding='utf-8', input='content',\n",
       "                lowercase=True, max_df=1.0, max_features=None, min_df=1,\n",
       "                ngram_range=(1, 2), preprocessor=None, stop_words='english',\n",
       "                strip_accents=None, token_pattern='\\\\w{1,}', tokenizer=None,\n",
       "                vocabulary=None)"
      ]
     },
     "execution_count": 229,
     "metadata": {
      "tags": []
     },
     "output_type": "execute_result"
    }
   ],
   "source": [
    "ctv.fit(corpus)"
   ]
  },
  {
   "cell_type": "code",
   "execution_count": 230,
   "metadata": {
    "id": "aSZicbgbxbEW"
   },
   "outputs": [],
   "source": [
    "xtrain_ctv = ctv.transform(X_multi_lables_40s_train)"
   ]
  },
  {
   "cell_type": "code",
   "execution_count": 231,
   "metadata": {
    "id": "zOH3SgQmxbHI"
   },
   "outputs": [],
   "source": [
    "xtest_ctv = ctv.transform(X_multi_lables_40s_test)"
   ]
  },
  {
   "cell_type": "code",
   "execution_count": 232,
   "metadata": {
    "colab": {
     "base_uri": "https://localhost:8080/"
    },
    "id": "tTaddZC-xbJi",
    "outputId": "5f1c46fc-8336-42f6-d548-6563bfae9bf9"
   },
   "outputs": [
    {
     "name": "stdout",
     "output_type": "stream",
     "text": [
      "2314921\n"
     ]
    }
   ],
   "source": [
    "print(len(ctv.vocabulary_))"
   ]
  },
  {
   "cell_type": "markdown",
   "metadata": {
    "id": "BXMS1frV3aEm"
   },
   "source": [
    "# **Create a dictionary to get the count of every label**"
   ]
  },
  {
   "cell_type": "code",
   "execution_count": 233,
   "metadata": {
    "colab": {
     "base_uri": "https://localhost:8080/"
    },
    "id": "USG07PBRxbME",
    "outputId": "b1ac884e-2215-4c72-85c9-52cd663164a4"
   },
   "outputs": [
    {
     "data": {
      "text/plain": [
       "{'40': 5016,\n",
       " '41': 3738,\n",
       " '42': 2908,\n",
       " '43': 4230,\n",
       " '44': 2044,\n",
       " '45': 4482,\n",
       " '46': 2733,\n",
       " '47': 2207,\n",
       " '48': 3572,\n",
       " 'Accounting': 1089,\n",
       " 'Advertising': 453,\n",
       " 'Agriculture': 33,\n",
       " 'Aquarius': 2316,\n",
       " 'Architecture': 34,\n",
       " 'Aries': 1309,\n",
       " 'Arts': 1418,\n",
       " 'Automotive': 31,\n",
       " 'Banking': 52,\n",
       " 'Biotech': 48,\n",
       " 'BusinessServices': 449,\n",
       " 'Cancer': 3169,\n",
       " 'Capricorn': 3017,\n",
       " 'Chemicals': 48,\n",
       " 'Communications-Media': 1133,\n",
       " 'Construction': 222,\n",
       " 'Consulting': 882,\n",
       " 'Education': 2326,\n",
       " 'Engineering': 380,\n",
       " 'Environment': 12,\n",
       " 'Fashion': 46,\n",
       " 'Gemini': 2968,\n",
       " 'Government': 471,\n",
       " 'HumanResources': 362,\n",
       " 'Internet': 2442,\n",
       " 'InvestmentBanking': 14,\n",
       " 'Law': 503,\n",
       " 'Leo': 2347,\n",
       " 'Libra': 1712,\n",
       " 'Manufacturing': 61,\n",
       " 'Maritime': 19,\n",
       " 'Marketing': 235,\n",
       " 'Military': 249,\n",
       " 'Museums-Libraries': 528,\n",
       " 'Non-Profit': 534,\n",
       " 'Pisces': 4627,\n",
       " 'Publishing': 1051,\n",
       " 'RealEstate': 44,\n",
       " 'Religion': 523,\n",
       " 'Sagittarius': 2733,\n",
       " 'Science': 51,\n",
       " 'Scorpio': 2768,\n",
       " 'Sports-Recreation': 142,\n",
       " 'Student': 123,\n",
       " 'Taurus': 1694,\n",
       " 'Technology': 2012,\n",
       " 'Telecommunications': 150,\n",
       " 'Tourism': 111,\n",
       " 'Transportation': 157,\n",
       " 'Virgo': 2270,\n",
       " 'female': 15945,\n",
       " 'indUnk': 12492,\n",
       " 'male': 14985}"
      ]
     },
     "execution_count": 233,
     "metadata": {
      "tags": []
     },
     "output_type": "execute_result"
    }
   ],
   "source": [
    "label_counts=dict()\n",
    "\n",
    "for labels in y_multi_lables_40s.values:\n",
    "    for label in labels:\n",
    "        if label in label_counts:\n",
    "            label_counts[str(label)]+=1\n",
    "        else:\n",
    "            label_counts[str(label)]=1\n",
    "        \n",
    "label_counts"
   ]
  },
  {
   "cell_type": "code",
   "execution_count": 234,
   "metadata": {
    "id": "14y57X_X3enk"
   },
   "outputs": [],
   "source": [
    "# Transform between iterable of iterables and a multilabel format\n",
    "binarizer=MultiLabelBinarizer(classes=sorted(label_counts.keys()))\n",
    "\n",
    "y_multi_lables_40s_train = binarizer.fit_transform(y_multi_lables_40s_train)\n",
    "y_multi_lables_40s_test = binarizer.transform(y_multi_lables_40s_test)"
   ]
  },
  {
   "cell_type": "code",
   "execution_count": 239,
   "metadata": {
    "colab": {
     "base_uri": "https://localhost:8080/"
    },
    "id": "uG_wkbbV3eql",
    "outputId": "a1ac461d-0de8-4460-99ec-f8f621d70700"
   },
   "outputs": [
    {
     "data": {
      "text/plain": [
       "array([0, 1, 0, 0, 0, 0, 0, 0, 0, 0, 0, 0, 0, 0, 0, 0, 0, 0, 0, 0, 0, 0,\n",
       "       0, 0, 0, 1, 0, 0, 0, 0, 0, 0, 0, 0, 0, 0, 0, 0, 0, 0, 0, 0, 0, 0,\n",
       "       0, 0, 0, 0, 0, 0, 0, 0, 0, 1, 0, 0, 0, 0, 0, 1, 0, 0])"
      ]
     },
     "execution_count": 239,
     "metadata": {
      "tags": []
     },
     "output_type": "execute_result"
    }
   ],
   "source": [
    "y_multi_lables_40s_train[0]"
   ]
  },
  {
   "cell_type": "code",
   "execution_count": 240,
   "metadata": {
    "id": "O6yNtIvA3es7"
   },
   "outputs": [],
   "source": [
    "# Using pipeline for applying logistic regression and one vs rest classifier\n",
    "LogReg_pipeline = Pipeline([\n",
    "                ('clf', OneVsRestClassifier(LogisticRegression(solver='sag'),\n",
    "                    n_jobs=-1)),])\n",
    "LogReg_pipeline.fit(xtrain_ctv, y_multi_lables_40s_train)\n",
    "\n",
    "Y_predicted_oneVsRest = LogReg_pipeline.predict(xtest_ctv)"
   ]
  },
  {
   "cell_type": "code",
   "execution_count": 241,
   "metadata": {
    "id": "DybMlEp73e0p"
   },
   "outputs": [],
   "source": [
    "def print_predicted(y_predicted, y_test = y_multi_lables_40s_test , n = 5):\n",
    "    j = []\n",
    "    for i in range(n):\n",
    "        j.append(random.randint(0, len(y_test)))\n",
    "    print(j)\n",
    "                 \n",
    "    for k in j:\n",
    "        print('Predicted - ',binarizer.inverse_transform(y_predicted)[k])\n",
    "        print('True Label - ',binarizer.inverse_transform(y_test)[k])\n",
    "        print(\"=================x==================x================x==========\")              "
   ]
  },
  {
   "cell_type": "code",
   "execution_count": 243,
   "metadata": {
    "colab": {
     "base_uri": "https://localhost:8080/"
    },
    "id": "A6qBflgB3e3T",
    "outputId": "a9a2aee5-1918-4072-fa03-a8a1ae8ae7ad"
   },
   "outputs": [
    {
     "name": "stdout",
     "output_type": "stream",
     "text": [
      "[1451, 1163, 2538, 2062, 1920, 2834, 1790, 2832, 2749, 1822]\n",
      "Predicted -  ('male',)\n",
      "True Label -  ('42', 'Capricorn', 'indUnk', 'male')\n",
      "=================x==================x================x==========\n",
      "Predicted -  ('43', '44', '45', '47', 'Aquarius', 'Publishing', 'Sagittarius', 'male')\n",
      "True Label -  ('43', 'Aquarius', 'indUnk', 'male')\n",
      "=================x==================x================x==========\n",
      "Predicted -  ('female',)\n",
      "True Label -  ('47', 'Cancer', 'Law', 'female')\n",
      "=================x==================x================x==========\n",
      "Predicted -  ('female',)\n",
      "True Label -  ('47', 'Libra', 'Religion', 'female')\n",
      "=================x==================x================x==========\n",
      "Predicted -  ('male',)\n",
      "True Label -  ('42', 'Capricorn', 'indUnk', 'male')\n",
      "=================x==================x================x==========\n",
      "Predicted -  ('female',)\n",
      "True Label -  ('40', 'Taurus', 'female', 'indUnk')\n",
      "=================x==================x================x==========\n",
      "Predicted -  ('male',)\n",
      "True Label -  ('40', 'Aquarius', 'Education', 'female')\n",
      "=================x==================x================x==========\n",
      "Predicted -  ('female',)\n",
      "True Label -  ('40', 'Scorpio', 'Technology', 'male')\n",
      "=================x==================x================x==========\n",
      "Predicted -  ('male',)\n",
      "True Label -  ('41', 'Consulting', 'Leo', 'female')\n",
      "=================x==================x================x==========\n",
      "Predicted -  ('male',)\n",
      "True Label -  ('43', 'Scorpio', 'indUnk', 'male')\n",
      "=================x==================x================x==========\n"
     ]
    }
   ],
   "source": [
    "print_predicted(y_predicted=Y_predicted_oneVsRest,y_test=y_multi_lables_40s_test, n= 10)"
   ]
  },
  {
   "cell_type": "code",
   "execution_count": null,
   "metadata": {
    "colab": {
     "base_uri": "https://localhost:8080/"
    },
    "id": "bJaxzQ0a3e5a",
    "outputId": "3b348c7f-9ecb-4f5f-8118-d93cc23cb2ce"
   },
   "outputs": [
    {
     "name": "stdout",
     "output_type": "stream",
     "text": [
      "Accuracy score for Test Set:  0.043323634012285804\n"
     ]
    }
   ],
   "source": [
    "print('Accuracy score for Test Set: ', accuracy_score(y_multi_lables_40s_test, Y_predicted_oneVsRest))"
   ]
  },
  {
   "cell_type": "code",
   "execution_count": 242,
   "metadata": {
    "colab": {
     "base_uri": "https://localhost:8080/"
    },
    "id": "XgdKIA_zhgq-",
    "outputId": "6f10d9aa-3565-46bf-bc91-eb76c9b50fff"
   },
   "outputs": [
    {
     "name": "stdout",
     "output_type": "stream",
     "text": [
      "Accuracy score for Test Set:  0.043323634012285804\n",
      "F1 score: Micro 0.3678925719816114\n",
      "Average precision score: Micro 0.22833820242358677\n",
      "Average recall score: Micro 0.2457969608794051\n"
     ]
    }
   ],
   "source": [
    "print('Accuracy score for Test Set: ', accuracy_score(y_multi_lables_40s_test, Y_predicted_oneVsRest))\n",
    "print('F1 score: Micro', f1_score(y_multi_lables_40s_test, Y_predicted_oneVsRest, average='micro'))\n",
    "print('Average precision score: Micro', average_precision_score(y_multi_lables_40s_test, Y_predicted_oneVsRest, average='micro'))\n",
    "print('Average recall score: Micro', recall_score(y_multi_lables_40s_test, Y_predicted_oneVsRest, average='micro'))"
   ]
  },
  {
   "cell_type": "code",
   "execution_count": 244,
   "metadata": {
    "colab": {
     "base_uri": "https://localhost:8080/"
    },
    "id": "BW5_BG-WkuZ3",
    "outputId": "d170f6b0-786b-4c24-ebbd-694a464463f8"
   },
   "outputs": [
    {
     "name": "stdout",
     "output_type": "stream",
     "text": [
      "Accuracy score:  0.043323634012285804\n",
      "F1 score: Macro 0.06850943765037881\n",
      "Average recall score: MAcro 0.050227068278207256\n"
     ]
    }
   ],
   "source": [
    "print('Accuracy score: ', accuracy_score(y_multi_lables_40s_test, Y_predicted_oneVsRest))\n",
    "print('F1 score: Macro', f1_score(y_multi_lables_40s_test, Y_predicted_oneVsRest, average='macro'))\n",
    "print('Average recall score: MAcro', recall_score(y_multi_lables_40s_test, Y_predicted_oneVsRest, average='macro'))"
   ]
  },
  {
   "cell_type": "code",
   "execution_count": 245,
   "metadata": {
    "colab": {
     "base_uri": "https://localhost:8080/"
    },
    "id": "lOH7DzJ0kuua",
    "outputId": "d1220c9c-7df0-488b-cb92-4fa447b75880"
   },
   "outputs": [
    {
     "name": "stdout",
     "output_type": "stream",
     "text": [
      "Accuracy score:  0.043323634012285804\n",
      "F1 score: weighted 0.28205335793187186\n",
      "Average precision score: weighted 0.2994552864261939\n",
      "Average recall score: weighted 0.2457969608794051\n"
     ]
    }
   ],
   "source": [
    "print('Accuracy score: ', accuracy_score(y_multi_lables_40s_test, Y_predicted_oneVsRest))\n",
    "print('F1 score: weighted', f1_score(y_multi_lables_40s_test, Y_predicted_oneVsRest, average='weighted'))\n",
    "print('Average precision score: weighted', average_precision_score(y_multi_lables_40s_test, Y_predicted_oneVsRest, average='weighted'))\n",
    "print('Average recall score: weighted', recall_score(y_multi_lables_40s_test, Y_predicted_oneVsRest, average='weighted'))"
   ]
  },
  {
   "cell_type": "markdown",
   "metadata": {
    "id": "bQBPCxeWKk4d"
   },
   "source": [
    "# **Observations for Multi Label Classification of Age-Group 40s**\n",
    "\n",
    "- Test Accuracy for Multi Label classification is too low as 0.04\n",
    "- Predicted and True labels are also so poor.Among the multiple labels the prediction has found only one label which looks to be the Gender.\n",
    "- The Average Precision and Recall is low as 0.29 and 0.24\n",
    "\n"
   ]
  },
  {
   "cell_type": "code",
   "execution_count": 246,
   "metadata": {
    "id": "aCOyq0Eu3e79"
   },
   "outputs": [],
   "source": [
    "# Multi Label prediction for Age Group under 30's\n",
    "X_multi_lables_30s = data_original[data_original['Age_Range'] == '30s']['keyword']\n",
    "y_multi_lables_30s = data_original[data_original['Age_Range'] == '30s']['labels']\n",
    "\n",
    "X_multi_lables_30s_train, X_multi_lables_30s_test, y_multi_lables_30s_train, y_multi_lables_30s_test =train_test_split(X_multi_lables_30s,y_multi_lables_30s, random_state=42,\n",
    "                                                                                                       test_size = 0.3,shuffle = True)"
   ]
  },
  {
   "cell_type": "code",
   "execution_count": 247,
   "metadata": {
    "colab": {
     "base_uri": "https://localhost:8080/"
    },
    "id": "TxpB5LCdmw_s",
    "outputId": "0aa982c9-4bb0-44be-a514-1db3b7fff847"
   },
   "outputs": [
    {
     "name": "stdout",
     "output_type": "stream",
     "text": [
      "shape of training set : (65128,)\n",
      "shape of test set : (27912,)\n"
     ]
    }
   ],
   "source": [
    "print(\"shape of training set :\", X_multi_lables_30s_train.shape)\n",
    "print(\"shape of test set :\", X_multi_lables_30s_test.shape)"
   ]
  },
  {
   "cell_type": "code",
   "execution_count": 248,
   "metadata": {
    "id": "DbYEcFoVnr0M"
   },
   "outputs": [],
   "source": [
    "ctv_30s = CountVectorizer(analyzer='word', token_pattern=r'\\w{1,}', \n",
    "                      ngram_range=(1, 2), stop_words = 'english')\n",
    "\n",
    "corpus_30s = list(X_multi_lables_30s_train)+list(X_multi_lables_30s_test)"
   ]
  },
  {
   "cell_type": "code",
   "execution_count": 249,
   "metadata": {
    "colab": {
     "base_uri": "https://localhost:8080/"
    },
    "id": "YaovEbPZnr3F",
    "outputId": "193bfeed-180a-4538-c3c9-8fd4d526f3e2"
   },
   "outputs": [
    {
     "data": {
      "text/plain": [
       "CountVectorizer(analyzer='word', binary=False, decode_error='strict',\n",
       "                dtype=<class 'numpy.int64'>, encoding='utf-8', input='content',\n",
       "                lowercase=True, max_df=1.0, max_features=None, min_df=1,\n",
       "                ngram_range=(1, 2), preprocessor=None, stop_words='english',\n",
       "                strip_accents=None, token_pattern='\\\\w{1,}', tokenizer=None,\n",
       "                vocabulary=None)"
      ]
     },
     "execution_count": 249,
     "metadata": {
      "tags": []
     },
     "output_type": "execute_result"
    }
   ],
   "source": [
    "ctv_30s.fit(corpus_30s)"
   ]
  },
  {
   "cell_type": "code",
   "execution_count": 250,
   "metadata": {
    "id": "MIHQdNLbmxDp"
   },
   "outputs": [],
   "source": [
    "xtrain_ctv_30s = ctv_30s.transform(X_multi_lables_30s_train)"
   ]
  },
  {
   "cell_type": "code",
   "execution_count": 251,
   "metadata": {
    "id": "X20Rnx3cmxGU"
   },
   "outputs": [],
   "source": [
    "xtest_ctv_30s = ctv_30s.transform(X_multi_lables_30s_test)"
   ]
  },
  {
   "cell_type": "code",
   "execution_count": 252,
   "metadata": {
    "colab": {
     "base_uri": "https://localhost:8080/"
    },
    "id": "aaeTSKlBmxI0",
    "outputId": "7b5f045a-30ed-4818-94d3-1a7d8f760bba"
   },
   "outputs": [
    {
     "name": "stdout",
     "output_type": "stream",
     "text": [
      "4661052\n"
     ]
    }
   ],
   "source": [
    "print(len(ctv_30s.vocabulary_))"
   ]
  },
  {
   "cell_type": "code",
   "execution_count": 253,
   "metadata": {
    "colab": {
     "base_uri": "https://localhost:8080/"
    },
    "id": "Ps0xUeP1mxK6",
    "outputId": "ff0fcc5f-e48e-4b18-ebed-8397355437bf"
   },
   "outputs": [
    {
     "data": {
      "text/plain": [
       "{'33': 17584,\n",
       " '34': 21347,\n",
       " '35': 17462,\n",
       " '36': 14229,\n",
       " '37': 9317,\n",
       " '38': 7545,\n",
       " '39': 5556,\n",
       " 'Accounting': 359,\n",
       " 'Advertising': 969,\n",
       " 'Agriculture': 142,\n",
       " 'Aquarius': 5258,\n",
       " 'Architecture': 426,\n",
       " 'Aries': 15805,\n",
       " 'Arts': 4291,\n",
       " 'Automotive': 513,\n",
       " 'Banking': 423,\n",
       " 'Biotech': 253,\n",
       " 'BusinessServices': 661,\n",
       " 'Cancer': 7672,\n",
       " 'Capricorn': 7305,\n",
       " 'Chemicals': 8,\n",
       " 'Communications-Media': 2609,\n",
       " 'Construction': 157,\n",
       " 'Consulting': 1031,\n",
       " 'Education': 5796,\n",
       " 'Engineering': 423,\n",
       " 'Environment': 26,\n",
       " 'Fashion': 2808,\n",
       " 'Gemini': 6357,\n",
       " 'Government': 1202,\n",
       " 'HumanResources': 549,\n",
       " 'Internet': 3752,\n",
       " 'InvestmentBanking': 462,\n",
       " 'Law': 591,\n",
       " 'LawEnforcement-Security': 885,\n",
       " 'Leo': 5902,\n",
       " 'Libra': 4660,\n",
       " 'Manufacturing': 678,\n",
       " 'Marketing': 650,\n",
       " 'Military': 809,\n",
       " 'Museums-Libraries': 424,\n",
       " 'Non-Profit': 1807,\n",
       " 'Pisces': 8393,\n",
       " 'Publishing': 1977,\n",
       " 'RealEstate': 852,\n",
       " 'Religion': 1138,\n",
       " 'Sagittarius': 5433,\n",
       " 'Science': 460,\n",
       " 'Scorpio': 8005,\n",
       " 'Sports-Recreation': 155,\n",
       " 'Student': 757,\n",
       " 'Taurus': 7328,\n",
       " 'Technology': 8662,\n",
       " 'Telecommunications': 1087,\n",
       " 'Tourism': 212,\n",
       " 'Transportation': 1321,\n",
       " 'Virgo': 10922,\n",
       " 'female': 42682,\n",
       " 'indUnk': 43715,\n",
       " 'male': 50358}"
      ]
     },
     "execution_count": 253,
     "metadata": {
      "tags": []
     },
     "output_type": "execute_result"
    }
   ],
   "source": [
    "label_counts_30s=dict()\n",
    "\n",
    "for labels in y_multi_lables_30s.values:\n",
    "    for label in labels:\n",
    "        if label in label_counts_30s:\n",
    "            label_counts_30s[str(label)]+=1\n",
    "        else:\n",
    "            label_counts_30s[str(label)]=1\n",
    "        \n",
    "label_counts_30s"
   ]
  },
  {
   "cell_type": "code",
   "execution_count": 254,
   "metadata": {
    "id": "PTs3wcJmmxM2"
   },
   "outputs": [],
   "source": [
    "# Transform between iterable of iterables and a multilabel format\n",
    "binarizer_30s=MultiLabelBinarizer(classes=sorted(label_counts_30s.keys()))\n",
    "\n",
    "y_multi_lables_30s_train = binarizer_30s.fit_transform(y_multi_lables_30s_train)\n",
    "y_multi_lables_30s_test = binarizer_30s.transform(y_multi_lables_30s_test)"
   ]
  },
  {
   "cell_type": "code",
   "execution_count": 255,
   "metadata": {
    "colab": {
     "base_uri": "https://localhost:8080/"
    },
    "id": "Ga18ZgOnmxQu",
    "outputId": "fe6d551d-b43c-47a2-be44-de10be00e8ce"
   },
   "outputs": [
    {
     "data": {
      "text/plain": [
       "array([0, 1, 0, 0, 0, 0, 0, 0, 0, 0, 0, 0, 0, 0, 0, 0, 0, 0, 0, 0, 0, 0,\n",
       "       0, 0, 0, 0, 0, 0, 0, 0, 0, 0, 0, 0, 0, 0, 0, 0, 0, 0, 0, 0, 0, 1,\n",
       "       0, 0, 0, 0, 1, 0, 0, 0, 0, 0, 0, 0, 0, 1, 0, 0])"
      ]
     },
     "execution_count": 255,
     "metadata": {
      "tags": []
     },
     "output_type": "execute_result"
    }
   ],
   "source": [
    "y_multi_lables_30s_train[0]"
   ]
  },
  {
   "cell_type": "code",
   "execution_count": 256,
   "metadata": {
    "colab": {
     "base_uri": "https://localhost:8080/"
    },
    "id": "xDCIafaUmxTD",
    "outputId": "985ed08a-4445-471d-f0ed-6573ea9a6df5"
   },
   "outputs": [
    {
     "data": {
      "text/plain": [
       "Pipeline(memory=None,\n",
       "         steps=[('clf',\n",
       "                 OneVsRestClassifier(estimator=LogisticRegression(C=1.0,\n",
       "                                                                  class_weight=None,\n",
       "                                                                  dual=False,\n",
       "                                                                  fit_intercept=True,\n",
       "                                                                  intercept_scaling=1,\n",
       "                                                                  l1_ratio=None,\n",
       "                                                                  max_iter=100,\n",
       "                                                                  multi_class='auto',\n",
       "                                                                  n_jobs=None,\n",
       "                                                                  penalty='l2',\n",
       "                                                                  random_state=None,\n",
       "                                                                  solver='sag',\n",
       "                                                                  tol=0.0001,\n",
       "                                                                  verbose=0,\n",
       "                                                                  warm_start=False),\n",
       "                                     n_jobs=-1))],\n",
       "         verbose=False)"
      ]
     },
     "execution_count": 256,
     "metadata": {
      "tags": []
     },
     "output_type": "execute_result"
    }
   ],
   "source": [
    "# Using pipeline for applying logistic regression and one vs rest classifier\n",
    "LogReg_pipeline_30s = Pipeline([\n",
    "                ('clf', OneVsRestClassifier(LogisticRegression(solver='sag'),\n",
    "                    n_jobs=-1)),])\n",
    "LogReg_pipeline_30s.fit(xtrain_ctv_30s, y_multi_lables_30s_train)"
   ]
  },
  {
   "cell_type": "code",
   "execution_count": 257,
   "metadata": {
    "id": "180D_JNXu5C4"
   },
   "outputs": [],
   "source": [
    "Y_predicted_oneVsRest_30s = LogReg_pipeline_30s.predict(xtest_ctv_30s)"
   ]
  },
  {
   "cell_type": "code",
   "execution_count": 258,
   "metadata": {
    "id": "SG6QSOEIxnjW"
   },
   "outputs": [],
   "source": [
    "def print_predicted_30s(y_predicted, y_test = y_multi_lables_30s_test , n = 5):\n",
    "    j = []\n",
    "    for i in range(n):\n",
    "        j.append(random.randint(0, len(y_test)))\n",
    "    print(j)\n",
    "                 \n",
    "    for k in j:\n",
    "        print('Predicted - ',binarizer_30s.inverse_transform(y_predicted)[k])\n",
    "        print('True Label - ',binarizer_30s.inverse_transform(y_test)[k])\n",
    "        print(\"=================x==================x================x==========\")              "
   ]
  },
  {
   "cell_type": "code",
   "execution_count": 259,
   "metadata": {
    "colab": {
     "base_uri": "https://localhost:8080/"
    },
    "id": "KCOgQCFfmxVY",
    "outputId": "58638298-ecce-430f-fa15-6750e433d63d"
   },
   "outputs": [
    {
     "name": "stdout",
     "output_type": "stream",
     "text": [
      "[1334, 2142, 26481, 10557, 18165, 6801, 26528, 6923, 43, 9558]\n",
      "Predicted -  ('female', 'indUnk')\n",
      "True Label -  ('34', 'Taurus', 'female', 'indUnk')\n",
      "=================x==================x================x==========\n",
      "Predicted -  ('35', 'female', 'indUnk')\n",
      "True Label -  ('35', 'Scorpio', 'female', 'indUnk')\n",
      "=================x==================x================x==========\n",
      "Predicted -  ('male',)\n",
      "True Label -  ('33', 'Libra', 'indUnk', 'male')\n",
      "=================x==================x================x==========\n",
      "Predicted -  ('female', 'indUnk', 'male')\n",
      "True Label -  ('35', 'Aries', 'indUnk', 'male')\n",
      "=================x==================x================x==========\n",
      "Predicted -  ('male',)\n",
      "True Label -  ('38', 'Aries', 'Education', 'female')\n",
      "=================x==================x================x==========\n",
      "Predicted -  ('Capricorn', 'Communications-Media', 'Technology', 'male')\n",
      "True Label -  ('35', 'Aries', 'Technology', 'male')\n",
      "=================x==================x================x==========\n",
      "Predicted -  ('male',)\n",
      "True Label -  ('33', 'Aries', 'female', 'indUnk')\n",
      "=================x==================x================x==========\n",
      "Predicted -  ('male',)\n",
      "True Label -  ('36', 'RealEstate', 'Virgo', 'male')\n",
      "=================x==================x================x==========\n",
      "Predicted -  ('35', 'male')\n",
      "True Label -  ('34', 'Libra', 'indUnk', 'male')\n",
      "=================x==================x================x==========\n",
      "Predicted -  ('male',)\n",
      "True Label -  ('37', 'Leo', 'indUnk', 'male')\n",
      "=================x==================x================x==========\n"
     ]
    }
   ],
   "source": [
    "print_predicted_30s(y_predicted=Y_predicted_oneVsRest_30s,y_test=y_multi_lables_30s_test, n= 10)"
   ]
  },
  {
   "cell_type": "code",
   "execution_count": null,
   "metadata": {
    "colab": {
     "base_uri": "https://localhost:8080/"
    },
    "id": "1EnLDBmNmxYO",
    "outputId": "697d5590-1144-4ab1-edaa-b7406beb49b0"
   },
   "outputs": [
    {
     "name": "stdout",
     "output_type": "stream",
     "text": [
      "Accuracy score for Test Set for 30s age Group:  0.03145600458584122\n"
     ]
    }
   ],
   "source": [
    "print('Accuracy score for Test Set for 30s age Group: ', accuracy_score(y_multi_lables_30s_test, Y_predicted_oneVsRest_30s))"
   ]
  },
  {
   "cell_type": "code",
   "execution_count": 260,
   "metadata": {
    "colab": {
     "base_uri": "https://localhost:8080/"
    },
    "id": "zItyooyTlQD6",
    "outputId": "ff6620f8-3dd4-42c3-8766-c38d50e2ae40"
   },
   "outputs": [
    {
     "name": "stdout",
     "output_type": "stream",
     "text": [
      "Accuracy score for Test Set for 30s age Group:  0.031384350816852966\n",
      "F1 score: Micro 0.3870734995348131\n",
      "Average precision score: Micro 0.22909069053049277\n",
      "Average recall score: Micro 0.27388757523645746\n"
     ]
    }
   ],
   "source": [
    "print('Accuracy score for Test Set for 30s age Group: ', accuracy_score(y_multi_lables_30s_test, Y_predicted_oneVsRest_30s))\n",
    "print('F1 score: Micro', f1_score(y_multi_lables_30s_test, Y_predicted_oneVsRest_30s, average='micro'))\n",
    "print('Average precision score: Micro', average_precision_score(y_multi_lables_30s_test, Y_predicted_oneVsRest_30s, average='micro'))\n",
    "print('Average recall score: Micro', recall_score(y_multi_lables_30s_test, Y_predicted_oneVsRest_30s, average='micro'))"
   ]
  },
  {
   "cell_type": "code",
   "execution_count": 261,
   "metadata": {
    "colab": {
     "base_uri": "https://localhost:8080/"
    },
    "id": "keEgFIHYlQKi",
    "outputId": "bbbda7b0-b071-45e2-e9b5-8cc0848a7322"
   },
   "outputs": [
    {
     "name": "stdout",
     "output_type": "stream",
     "text": [
      "Accuracy score Test Set for 30s age Group:  0.031384350816852966\n",
      "F1 score: Macro 0.07616216640561876\n",
      "Average recall score: MAcro 0.05691455849842651\n"
     ]
    }
   ],
   "source": [
    "print('Accuracy score Test Set for 30s age Group: ', accuracy_score(y_multi_lables_30s_test, Y_predicted_oneVsRest_30s))\n",
    "print('F1 score: Macro', f1_score(y_multi_lables_30s_test, Y_predicted_oneVsRest_30s, average='macro'))\n",
    "print('Average recall score: MAcro', recall_score(y_multi_lables_30s_test, Y_predicted_oneVsRest_30s, average='macro'))"
   ]
  },
  {
   "cell_type": "code",
   "execution_count": 262,
   "metadata": {
    "colab": {
     "base_uri": "https://localhost:8080/"
    },
    "id": "_4KL4Dmbluvk",
    "outputId": "a48ff52e-de4a-4d6e-f91c-29e4a5540ab4"
   },
   "outputs": [
    {
     "name": "stdout",
     "output_type": "stream",
     "text": [
      "Accuracy score Test Set for 30s age Group:  0.031384350816852966\n",
      "F1 score: weighted 0.3022157576430949\n",
      "Average precision score: weighted 0.3104506379055459\n",
      "Average recall score: weighted 0.27388757523645746\n"
     ]
    }
   ],
   "source": [
    "print('Accuracy score Test Set for 30s age Group: ', accuracy_score(y_multi_lables_30s_test, Y_predicted_oneVsRest_30s))\n",
    "print('F1 score: weighted', f1_score(y_multi_lables_30s_test, Y_predicted_oneVsRest_30s, average='weighted'))\n",
    "print('Average precision score: weighted', average_precision_score(y_multi_lables_30s_test, Y_predicted_oneVsRest_30s, average='weighted'))\n",
    "print('Average recall score: weighted', recall_score(y_multi_lables_30s_test, Y_predicted_oneVsRest_30s, average='weighted'))"
   ]
  },
  {
   "cell_type": "markdown",
   "metadata": {
    "id": "peCVGBkENjzf"
   },
   "source": [
    "# **Observation for Multi Label classification for the age -Group of 30s**\n",
    "\n",
    "- Test Accuracy is too low as 0.03%\n",
    "- Predicted vs True labels looks to be wrong and miss match each other as the accuracy is los.\n",
    "\n",
    "- The average Precision is 0.229 and average Recall is about 0.27"
   ]
  },
  {
   "cell_type": "code",
   "execution_count": 263,
   "metadata": {
    "id": "9YUJd7nVyW02"
   },
   "outputs": [],
   "source": [
    "# Multi Label prediction for Age Group under 20's,As we are getting the session crash reducin the blog size to 100000k for Age Group 20's\n",
    "X_multi_lables_20s = data_original[data_original['Age_Range'] == '20s']['keyword'].iloc[:100000]\n",
    "y_multi_lables_20s = data_original[data_original['Age_Range'] == '20s']['labels'].iloc[:100000]\n",
    "\n",
    "X_multi_lables_20s_train, X_multi_lables_20s_test, y_multi_lables_20s_train, y_multi_lables_20s_test =train_test_split(X_multi_lables_20s,y_multi_lables_20s, random_state=42,\n",
    "                                                                                                       test_size = 0.3,shuffle = True)"
   ]
  },
  {
   "cell_type": "code",
   "execution_count": 264,
   "metadata": {
    "colab": {
     "base_uri": "https://localhost:8080/"
    },
    "id": "yTiF3zmZyW3k",
    "outputId": "a77e9446-772f-426a-c88f-72ce3fe7cb59"
   },
   "outputs": [
    {
     "name": "stdout",
     "output_type": "stream",
     "text": [
      "shape of training set : (70000,)\n",
      "shape of test set : (30000,)\n"
     ]
    }
   ],
   "source": [
    "print(\"shape of training set :\", X_multi_lables_20s_train.shape)\n",
    "print(\"shape of test set :\", X_multi_lables_20s_test.shape)"
   ]
  },
  {
   "cell_type": "code",
   "execution_count": 265,
   "metadata": {
    "id": "W1xRosLqyW5-"
   },
   "outputs": [],
   "source": [
    "ctv_20s = CountVectorizer(analyzer='word', token_pattern=r'\\w{1,}', \n",
    "                      ngram_range=(1, 2), stop_words = 'english')\n",
    "\n",
    "corpus_20s = list(X_multi_lables_20s_train)+list(X_multi_lables_20s_test)"
   ]
  },
  {
   "cell_type": "code",
   "execution_count": 266,
   "metadata": {
    "colab": {
     "base_uri": "https://localhost:8080/"
    },
    "id": "JkzKKniGyW8Z",
    "outputId": "f96105e5-4f05-4313-8adb-b019661c5ec9"
   },
   "outputs": [
    {
     "data": {
      "text/plain": [
       "CountVectorizer(analyzer='word', binary=False, decode_error='strict',\n",
       "                dtype=<class 'numpy.int64'>, encoding='utf-8', input='content',\n",
       "                lowercase=True, max_df=1.0, max_features=None, min_df=1,\n",
       "                ngram_range=(1, 2), preprocessor=None, stop_words='english',\n",
       "                strip_accents=None, token_pattern='\\\\w{1,}', tokenizer=None,\n",
       "                vocabulary=None)"
      ]
     },
     "execution_count": 266,
     "metadata": {
      "tags": []
     },
     "output_type": "execute_result"
    }
   ],
   "source": [
    "ctv_20s.fit(corpus_20s)"
   ]
  },
  {
   "cell_type": "code",
   "execution_count": 267,
   "metadata": {
    "id": "ByqZir67yW-v"
   },
   "outputs": [],
   "source": [
    "xtrain_ctv_20s = ctv_20s.transform(X_multi_lables_20s_train)"
   ]
  },
  {
   "cell_type": "code",
   "execution_count": 268,
   "metadata": {
    "id": "VS0fTSQ6yXBe"
   },
   "outputs": [],
   "source": [
    "xtest_ctv_20s = ctv_20s.transform(X_multi_lables_20s_test)"
   ]
  },
  {
   "cell_type": "code",
   "execution_count": 269,
   "metadata": {
    "colab": {
     "base_uri": "https://localhost:8080/"
    },
    "id": "SFr9pkkNyXD1",
    "outputId": "0180045c-a3ad-4535-c1aa-ae71968ffd9f"
   },
   "outputs": [
    {
     "name": "stdout",
     "output_type": "stream",
     "text": [
      "4820325\n"
     ]
    }
   ],
   "source": [
    "print(len(ctv_20s.vocabulary_))"
   ]
  },
  {
   "cell_type": "code",
   "execution_count": 270,
   "metadata": {
    "colab": {
     "base_uri": "https://localhost:8080/"
    },
    "id": "DimMc0GCzm_S",
    "outputId": "1a69965a-8d9a-47c3-8fb7-96f6219580a9"
   },
   "outputs": [
    {
     "data": {
      "text/plain": [
       "{'23': 19893,\n",
       " '24': 26734,\n",
       " '25': 18529,\n",
       " '26': 18218,\n",
       " '27': 16626,\n",
       " 'Accounting': 591,\n",
       " 'Advertising': 923,\n",
       " 'Agriculture': 490,\n",
       " 'Aquarius': 8556,\n",
       " 'Architecture': 230,\n",
       " 'Aries': 8726,\n",
       " 'Arts': 5963,\n",
       " 'Automotive': 51,\n",
       " 'Banking': 747,\n",
       " 'Biotech': 274,\n",
       " 'BusinessServices': 1241,\n",
       " 'Cancer': 11752,\n",
       " 'Capricorn': 5192,\n",
       " 'Chemicals': 371,\n",
       " 'Communications-Media': 4281,\n",
       " 'Construction': 294,\n",
       " 'Consulting': 956,\n",
       " 'Education': 5757,\n",
       " 'Engineering': 4321,\n",
       " 'Environment': 31,\n",
       " 'Fashion': 187,\n",
       " 'Gemini': 7706,\n",
       " 'Government': 2096,\n",
       " 'HumanResources': 414,\n",
       " 'Internet': 2935,\n",
       " 'InvestmentBanking': 345,\n",
       " 'Law': 1097,\n",
       " 'LawEnforcement-Security': 82,\n",
       " 'Leo': 10804,\n",
       " 'Libra': 9047,\n",
       " 'Manufacturing': 643,\n",
       " 'Maritime': 113,\n",
       " 'Marketing': 1745,\n",
       " 'Military': 316,\n",
       " 'Museums-Libraries': 491,\n",
       " 'Non-Profit': 2077,\n",
       " 'Pisces': 7908,\n",
       " 'Publishing': 1078,\n",
       " 'RealEstate': 132,\n",
       " 'Religion': 795,\n",
       " 'Sagittarius': 6538,\n",
       " 'Science': 2094,\n",
       " 'Scorpio': 7296,\n",
       " 'Sports-Recreation': 259,\n",
       " 'Student': 11620,\n",
       " 'Taurus': 10139,\n",
       " 'Technology': 8191,\n",
       " 'Telecommunications': 439,\n",
       " 'Tourism': 330,\n",
       " 'Transportation': 256,\n",
       " 'Virgo': 6336,\n",
       " 'female': 49653,\n",
       " 'indUnk': 35744,\n",
       " 'male': 50347}"
      ]
     },
     "execution_count": 270,
     "metadata": {
      "tags": []
     },
     "output_type": "execute_result"
    }
   ],
   "source": [
    "label_counts_20s=dict()\n",
    "\n",
    "for labels in y_multi_lables_20s.values:\n",
    "    for label in labels:\n",
    "        if label in label_counts_20s:\n",
    "            label_counts_20s[str(label)]+=1\n",
    "        else:\n",
    "            label_counts_20s[str(label)]=1\n",
    "        \n",
    "label_counts_20s"
   ]
  },
  {
   "cell_type": "code",
   "execution_count": 271,
   "metadata": {
    "id": "wsca9DdOznB9"
   },
   "outputs": [],
   "source": [
    "# Transform between iterable of iterables and a multilabel format\n",
    "binarizer_20s=MultiLabelBinarizer(classes=sorted(label_counts_20s.keys()))\n",
    "\n",
    "y_multi_lables_20s_train = binarizer_20s.fit_transform(y_multi_lables_20s_train)\n",
    "y_multi_lables_20s_test = binarizer_20s.transform(y_multi_lables_20s_test)"
   ]
  },
  {
   "cell_type": "code",
   "execution_count": 272,
   "metadata": {
    "id": "E-sj7C-HznEX"
   },
   "outputs": [],
   "source": [
    "# Using pipeline for applying logistic regression and one vs rest classifier\n",
    "LogReg_pipeline_20s = Pipeline([\n",
    "                ('clf', OneVsRestClassifier(LogisticRegression(solver='sag'),\n",
    "                    n_jobs=-1)),])\n",
    "LogReg_pipeline_20s.fit(xtrain_ctv_20s, y_multi_lables_20s_train)\n",
    "Y_predicted_oneVsRest_20s = LogReg_pipeline_20s.predict(xtest_ctv_20s)"
   ]
  },
  {
   "cell_type": "code",
   "execution_count": 273,
   "metadata": {
    "id": "gTlmgyjJznHM"
   },
   "outputs": [],
   "source": [
    "def print_predicted_20s(y_predicted, y_test = y_multi_lables_20s_test , n = 5):\n",
    "    j = []\n",
    "    for i in range(n):\n",
    "        j.append(random.randint(0, len(y_test)))\n",
    "    print(j)\n",
    "                 \n",
    "    for k in j:\n",
    "        print('Predicted - ',binarizer_20s.inverse_transform(y_predicted)[k])\n",
    "        print('True Label - ',binarizer_20s.inverse_transform(y_test)[k])\n",
    "        print(\"=================x==================x================x==========\")              "
   ]
  },
  {
   "cell_type": "code",
   "execution_count": 274,
   "metadata": {
    "colab": {
     "base_uri": "https://localhost:8080/"
    },
    "id": "TBSVktjOznJ8",
    "outputId": "69bc136e-55fc-411d-e71b-a75739f8aaba"
   },
   "outputs": [
    {
     "name": "stdout",
     "output_type": "stream",
     "text": [
      "[616, 18065, 16875, 7324, 4945, 11908, 38, 13970, 20802, 23570]\n",
      "Predicted -  ('male',)\n",
      "True Label -  ('27', 'Taurus', 'female', 'indUnk')\n",
      "=================x==================x================x==========\n",
      "Predicted -  ('female',)\n",
      "True Label -  ('25', 'Sagittarius', 'Technology', 'female')\n",
      "=================x==================x================x==========\n",
      "Predicted -  ('male',)\n",
      "True Label -  ('25', 'Pisces', 'Student', 'female')\n",
      "=================x==================x================x==========\n",
      "Predicted -  ('male',)\n",
      "True Label -  ('25', 'Aquarius', 'Student', 'male')\n",
      "=================x==================x================x==========\n",
      "Predicted -  ('female',)\n",
      "True Label -  ('24', 'Pisces', 'female', 'indUnk')\n",
      "=================x==================x================x==========\n",
      "Predicted -  ('male',)\n",
      "True Label -  ('24', 'Gemini', 'Student', 'male')\n",
      "=================x==================x================x==========\n",
      "Predicted -  ('female',)\n",
      "True Label -  ('25', 'Non-Profit', 'Pisces', 'male')\n",
      "=================x==================x================x==========\n",
      "Predicted -  ('female',)\n",
      "True Label -  ('23', 'Leo', 'Science', 'male')\n",
      "=================x==================x================x==========\n",
      "Predicted -  ('male',)\n",
      "True Label -  ('24', 'Libra', 'Technology', 'male')\n",
      "=================x==================x================x==========\n",
      "Predicted -  ('female',)\n",
      "True Label -  ('24', 'Cancer', 'female', 'indUnk')\n",
      "=================x==================x================x==========\n"
     ]
    }
   ],
   "source": [
    "print_predicted_20s(y_predicted=Y_predicted_oneVsRest_20s,y_test=y_multi_lables_20s_test, n= 10)"
   ]
  },
  {
   "cell_type": "code",
   "execution_count": null,
   "metadata": {
    "colab": {
     "base_uri": "https://localhost:8080/"
    },
    "id": "dCdd3YffznM_",
    "outputId": "fdf65231-a0c6-4a67-eba5-970c46a886a9"
   },
   "outputs": [
    {
     "name": "stdout",
     "output_type": "stream",
     "text": [
      "Accuracy score for Test Set for 20s age Group:  0.0008666666666666666\n"
     ]
    }
   ],
   "source": [
    "print('Accuracy score for Test Set for 20s age Group: ', accuracy_score(y_multi_lables_20s_test, Y_predicted_oneVsRest_20s))"
   ]
  },
  {
   "cell_type": "code",
   "execution_count": 275,
   "metadata": {
    "colab": {
     "base_uri": "https://localhost:8080/"
    },
    "id": "FBdIEaJNmAsi",
    "outputId": "172cc7bb-b7ed-484d-e3a0-d95a2fbd0a37"
   },
   "outputs": [
    {
     "name": "stdout",
     "output_type": "stream",
     "text": [
      "Accuracy score:  0.0008666666666666666\n",
      "F1 score: Micro 0.2492609593909641\n",
      "Average precision score: Micro 0.15326130275180636\n",
      "Average recall score: Micro 0.15634166666666666\n"
     ]
    }
   ],
   "source": [
    "print('Accuracy score: ', accuracy_score(y_multi_lables_20s_test, Y_predicted_oneVsRest_20s))\n",
    "print('F1 score: Micro', f1_score(y_multi_lables_20s_test, Y_predicted_oneVsRest_20s, average='micro'))\n",
    "print('Average precision score: Micro', average_precision_score(y_multi_lables_20s_test, Y_predicted_oneVsRest_20s, average='micro'))\n",
    "print('Average recall score: Micro', recall_score(y_multi_lables_20s_test, Y_predicted_oneVsRest_20s, average='micro'))"
   ]
  },
  {
   "cell_type": "code",
   "execution_count": 276,
   "metadata": {
    "colab": {
     "base_uri": "https://localhost:8080/"
    },
    "id": "oYYfywEJmA3I",
    "outputId": "b55453b3-3ae6-4dd7-91ed-25800c8d533c"
   },
   "outputs": [
    {
     "name": "stdout",
     "output_type": "stream",
     "text": [
      "Accuracy score:  0.0008666666666666666\n",
      "F1 score: Macro 0.022965961687033836\n",
      "Average recall score: MAcro 0.021930337913046084\n"
     ]
    }
   ],
   "source": [
    "print('Accuracy score: ', accuracy_score(y_multi_lables_20s_test, Y_predicted_oneVsRest_20s))\n",
    "print('F1 score: Macro', f1_score(y_multi_lables_20s_test, Y_predicted_oneVsRest_20s, average='macro'))\n",
    "print('Average recall score: MAcro', recall_score(y_multi_lables_20s_test, Y_predicted_oneVsRest_20s, average='macro'))"
   ]
  },
  {
   "cell_type": "code",
   "execution_count": 277,
   "metadata": {
    "colab": {
     "base_uri": "https://localhost:8080/"
    },
    "id": "VFTyO2ewmA_f",
    "outputId": "94974103-22f8-4d12-c555-25f02ce3fe08"
   },
   "outputs": [
    {
     "name": "stdout",
     "output_type": "stream",
     "text": [
      "Accuracy score:  0.0008666666666666666\n",
      "F1 score: weighted 0.15870954960371017\n",
      "Average precision score: weighted 0.2579240796170501\n",
      "Average recall score: weighted 0.15634166666666666\n"
     ]
    }
   ],
   "source": [
    "print('Accuracy score: ', accuracy_score(y_multi_lables_20s_test, Y_predicted_oneVsRest_20s))\n",
    "print('F1 score: weighted', f1_score(y_multi_lables_20s_test, Y_predicted_oneVsRest_20s, average='weighted'))\n",
    "print('Average precision score: weighted', average_precision_score(y_multi_lables_20s_test, Y_predicted_oneVsRest_20s, average='weighted'))\n",
    "print('Average recall score: weighted', recall_score(y_multi_lables_20s_test, Y_predicted_oneVsRest_20s, average='weighted'))"
   ]
  },
  {
   "cell_type": "markdown",
   "metadata": {
    "id": "qgRxH1ZaOgBs"
   },
   "source": [
    "# **Observation from the Multi Labels classification for Age-Group 20s** \n",
    "\n",
    "- Test accuracy is too low as 0.0008.\n",
    "- From the predicted vs True label we can infer the predicted labels are poor.\n",
    "- Average Precision and Recall for this model is also low as 0.153 and 0.156"
   ]
  },
  {
   "cell_type": "code",
   "execution_count": 278,
   "metadata": {
    "id": "R0FKLPGXznPl"
   },
   "outputs": [],
   "source": [
    "# Multi Label prediction for Age Group under 10's,As we are getting the session crash reducin the blog size to 100000k for Age Group 20's\n",
    "X_multi_lables_10s = data_original[data_original['Age_Range'] == '10s']['keyword'].iloc[:100000]\n",
    "y_multi_lables_10s = data_original[data_original['Age_Range'] == '10s']['labels'].iloc[:100000]\n",
    "\n",
    "X_multi_lables_10s_train, X_multi_lables_10s_test, y_multi_lables_10s_train, y_multi_lables_10s_test =train_test_split(X_multi_lables_10s,y_multi_lables_10s, random_state=42,\n",
    "                                                                                                       test_size = 0.3,shuffle = True)"
   ]
  },
  {
   "cell_type": "code",
   "execution_count": 279,
   "metadata": {
    "colab": {
     "base_uri": "https://localhost:8080/"
    },
    "id": "oqr3kxj4_Phn",
    "outputId": "693b2f8c-0179-4db2-e657-ee344b49a111"
   },
   "outputs": [
    {
     "name": "stdout",
     "output_type": "stream",
     "text": [
      "shape of training set : (70000,)\n",
      "shape of test set : (30000,)\n"
     ]
    }
   ],
   "source": [
    "print(\"shape of training set :\", X_multi_lables_10s_train.shape)\n",
    "print(\"shape of test set :\", X_multi_lables_10s_test.shape)"
   ]
  },
  {
   "cell_type": "code",
   "execution_count": 280,
   "metadata": {
    "id": "BG-1RG3f_PnS"
   },
   "outputs": [],
   "source": [
    "ctv_10s = CountVectorizer(analyzer='word', token_pattern=r'\\w{1,}', \n",
    "                      ngram_range=(1, 2), stop_words = 'english')\n",
    "\n",
    "corpus_10s = list(X_multi_lables_10s_train)+list(X_multi_lables_10s_test)"
   ]
  },
  {
   "cell_type": "code",
   "execution_count": 281,
   "metadata": {
    "colab": {
     "base_uri": "https://localhost:8080/"
    },
    "id": "XNJRvB25_Pp7",
    "outputId": "bc9f529e-a06c-4604-88f8-019dff515677"
   },
   "outputs": [
    {
     "data": {
      "text/plain": [
       "CountVectorizer(analyzer='word', binary=False, decode_error='strict',\n",
       "                dtype=<class 'numpy.int64'>, encoding='utf-8', input='content',\n",
       "                lowercase=True, max_df=1.0, max_features=None, min_df=1,\n",
       "                ngram_range=(1, 2), preprocessor=None, stop_words='english',\n",
       "                strip_accents=None, token_pattern='\\\\w{1,}', tokenizer=None,\n",
       "                vocabulary=None)"
      ]
     },
     "execution_count": 281,
     "metadata": {
      "tags": []
     },
     "output_type": "execute_result"
    }
   ],
   "source": [
    "ctv_10s.fit(corpus_10s)"
   ]
  },
  {
   "cell_type": "code",
   "execution_count": 282,
   "metadata": {
    "id": "1DaL1tRM_Psu"
   },
   "outputs": [],
   "source": [
    "xtrain_ctv_10s = ctv_10s.transform(X_multi_lables_10s_train)"
   ]
  },
  {
   "cell_type": "code",
   "execution_count": 283,
   "metadata": {
    "id": "CPduCZ2A_Pv-"
   },
   "outputs": [],
   "source": [
    "xtest_ctv_10s = ctv_10s.transform(X_multi_lables_10s_test)"
   ]
  },
  {
   "cell_type": "code",
   "execution_count": 284,
   "metadata": {
    "colab": {
     "base_uri": "https://localhost:8080/"
    },
    "id": "EABwmXVYznR6",
    "outputId": "47fd719f-5b37-4b87-be79-82a8831c07f5"
   },
   "outputs": [
    {
     "name": "stdout",
     "output_type": "stream",
     "text": [
      "4144334\n"
     ]
    }
   ],
   "source": [
    "print(len(ctv_10s.vocabulary_))"
   ]
  },
  {
   "cell_type": "code",
   "execution_count": 285,
   "metadata": {
    "colab": {
     "base_uri": "https://localhost:8080/"
    },
    "id": "04aJzzy9znUN",
    "outputId": "f1597389-4269-4d49-d5c9-a88045caaae1"
   },
   "outputs": [
    {
     "data": {
      "text/plain": [
       "{'13': 6729,\n",
       " '14': 11270,\n",
       " '15': 17330,\n",
       " '16': 28916,\n",
       " '17': 35755,\n",
       " 'Accounting': 160,\n",
       " 'Advertising': 65,\n",
       " 'Agriculture': 217,\n",
       " 'Aquarius': 7681,\n",
       " 'Architecture': 31,\n",
       " 'Aries': 6073,\n",
       " 'Arts': 2096,\n",
       " 'Automotive': 123,\n",
       " 'Biotech': 529,\n",
       " 'BusinessServices': 228,\n",
       " 'Cancer': 7236,\n",
       " 'Capricorn': 8726,\n",
       " 'Chemicals': 233,\n",
       " 'Communications-Media': 1759,\n",
       " 'Construction': 29,\n",
       " 'Consulting': 170,\n",
       " 'Education': 2544,\n",
       " 'Engineering': 246,\n",
       " 'Environment': 92,\n",
       " 'Fashion': 200,\n",
       " 'Gemini': 9838,\n",
       " 'Government': 131,\n",
       " 'HumanResources': 87,\n",
       " 'Internet': 763,\n",
       " 'Law': 95,\n",
       " 'LawEnforcement-Security': 274,\n",
       " 'Leo': 6990,\n",
       " 'Libra': 8854,\n",
       " 'Maritime': 38,\n",
       " 'Marketing': 94,\n",
       " 'Military': 492,\n",
       " 'Museums-Libraries': 202,\n",
       " 'Non-Profit': 3168,\n",
       " 'Pisces': 6919,\n",
       " 'Publishing': 120,\n",
       " 'RealEstate': 77,\n",
       " 'Religion': 212,\n",
       " 'Sagittarius': 7895,\n",
       " 'Science': 568,\n",
       " 'Scorpio': 7736,\n",
       " 'Sports-Recreation': 640,\n",
       " 'Student': 45038,\n",
       " 'Taurus': 10140,\n",
       " 'Technology': 4787,\n",
       " 'Telecommunications': 19,\n",
       " 'Tourism': 32,\n",
       " 'Transportation': 11,\n",
       " 'Virgo': 11912,\n",
       " 'female': 45728,\n",
       " 'indUnk': 34430,\n",
       " 'male': 54272}"
      ]
     },
     "execution_count": 285,
     "metadata": {
      "tags": []
     },
     "output_type": "execute_result"
    }
   ],
   "source": [
    "label_counts_10s=dict()\n",
    "\n",
    "for labels in y_multi_lables_10s.values:\n",
    "    for label in labels:\n",
    "        if label in label_counts_10s:\n",
    "            label_counts_10s[str(label)]+=1\n",
    "        else:\n",
    "            label_counts_10s[str(label)]=1\n",
    "        \n",
    "label_counts_10s"
   ]
  },
  {
   "cell_type": "code",
   "execution_count": 286,
   "metadata": {
    "id": "ruxWRm8QANyN"
   },
   "outputs": [],
   "source": [
    "# Transform between iterable of iterables and a multilabel format\n",
    "binarizer_10s=MultiLabelBinarizer(classes=sorted(label_counts_10s.keys()))\n",
    "\n",
    "y_multi_lables_10s_train = binarizer_10s.fit_transform(y_multi_lables_10s_train)\n",
    "y_multi_lables_10s_test = binarizer_10s.transform(y_multi_lables_10s_test)"
   ]
  },
  {
   "cell_type": "code",
   "execution_count": 287,
   "metadata": {
    "id": "gGtd42zQAN1g"
   },
   "outputs": [],
   "source": [
    "# Using pipeline for applying logistic regression and one vs rest classifier\n",
    "LogReg_pipeline_10s = Pipeline([\n",
    "                ('clf', OneVsRestClassifier(LogisticRegression(solver='sag'),\n",
    "                    n_jobs=-1)),])\n",
    "LogReg_pipeline_10s.fit(xtrain_ctv_10s, y_multi_lables_10s_train)\n",
    "Y_predicted_oneVsRest_10s = LogReg_pipeline_10s.predict(xtest_ctv_10s)"
   ]
  },
  {
   "cell_type": "code",
   "execution_count": 288,
   "metadata": {
    "id": "_WE89wn1AN5d"
   },
   "outputs": [],
   "source": [
    "def print_predicted_10s(y_predicted, y_test = y_multi_lables_10s_test , n = 5):\n",
    "    j = []\n",
    "    for i in range(n):\n",
    "        j.append(random.randint(0, len(y_test)))\n",
    "    print(j)\n",
    "                 \n",
    "    for k in j:\n",
    "        print('Predicted - ',binarizer_10s.inverse_transform(y_predicted)[k])\n",
    "        print('True Label - ',binarizer_10s.inverse_transform(y_test)[k])\n",
    "        print(\"=================x==================x================x==========\")              "
   ]
  },
  {
   "cell_type": "code",
   "execution_count": 289,
   "metadata": {
    "colab": {
     "base_uri": "https://localhost:8080/"
    },
    "id": "x4BTA-IaAN7z",
    "outputId": "96ff33bd-98c2-414a-c56a-3dce33e8e2a1"
   },
   "outputs": [
    {
     "name": "stdout",
     "output_type": "stream",
     "text": [
      "[5689, 29585, 10295, 26594, 15452, 13511, 22572, 17524, 16692, 27694]\n",
      "Predicted -  ('male',)\n",
      "True Label -  ('16', 'Taurus', 'indUnk', 'male')\n",
      "=================x==================x================x==========\n",
      "Predicted -  ('male',)\n",
      "True Label -  ('17', 'Communications-Media', 'Sagittarius', 'female')\n",
      "=================x==================x================x==========\n",
      "Predicted -  ('male',)\n",
      "True Label -  ('17', 'Cancer', 'indUnk', 'male')\n",
      "=================x==================x================x==========\n",
      "Predicted -  ('Student', 'male')\n",
      "True Label -  ('16', 'Pisces', 'Student', 'male')\n",
      "=================x==================x================x==========\n",
      "Predicted -  ('female',)\n",
      "True Label -  ('17', 'Aries', 'female', 'indUnk')\n",
      "=================x==================x================x==========\n",
      "Predicted -  ('Student', 'female')\n",
      "True Label -  ('16', 'Scorpio', 'female', 'indUnk')\n",
      "=================x==================x================x==========\n",
      "Predicted -  ('Student', 'female')\n",
      "True Label -  ('15', 'Gemini', 'Student', 'female')\n",
      "=================x==================x================x==========\n",
      "Predicted -  ('Student', 'male')\n",
      "True Label -  ('16', 'Libra', 'Student', 'male')\n",
      "=================x==================x================x==========\n",
      "Predicted -  ('Student', 'male')\n",
      "True Label -  ('17', 'Gemini', 'Non-Profit', 'male')\n",
      "=================x==================x================x==========\n",
      "Predicted -  ('Student', 'female')\n",
      "True Label -  ('17', 'Libra', 'Student', 'female')\n",
      "=================x==================x================x==========\n"
     ]
    }
   ],
   "source": [
    "print_predicted_10s(y_predicted=Y_predicted_oneVsRest_10s,y_test=y_multi_lables_10s_test, n= 10)"
   ]
  },
  {
   "cell_type": "code",
   "execution_count": 290,
   "metadata": {
    "colab": {
     "base_uri": "https://localhost:8080/"
    },
    "id": "joxhetLUznWx",
    "outputId": "693bc4f8-9b49-4821-c91d-24b87ddd5ae4"
   },
   "outputs": [
    {
     "name": "stdout",
     "output_type": "stream",
     "text": [
      "Accuracy score for Test Set for 10s age Group:  0.0022333333333333333\n"
     ]
    }
   ],
   "source": [
    "print('Accuracy score for Test Set for 10s age Group: ', accuracy_score(y_multi_lables_10s_test, Y_predicted_oneVsRest_10s))"
   ]
  },
  {
   "cell_type": "code",
   "execution_count": 291,
   "metadata": {
    "colab": {
     "base_uri": "https://localhost:8080/"
    },
    "id": "w_B_Tin7znZJ",
    "outputId": "2506e958-af80-45ab-8d0c-914906cfb285"
   },
   "outputs": [
    {
     "name": "stdout",
     "output_type": "stream",
     "text": [
      "Accuracy score:  0.0022333333333333333\n",
      "F1 score: Micro 0.3224413065565093\n",
      "Average precision score: Micro 0.18754458483715766\n",
      "Average recall score: Micro 0.22083333333333333\n"
     ]
    }
   ],
   "source": [
    "print('Accuracy score: ', accuracy_score(y_multi_lables_10s_test, Y_predicted_oneVsRest_10s))\n",
    "print('F1 score: Micro', f1_score(y_multi_lables_10s_test, Y_predicted_oneVsRest_10s, average='micro'))\n",
    "print('Average precision score: Micro', average_precision_score(y_multi_lables_10s_test, Y_predicted_oneVsRest_10s, average='micro'))\n",
    "print('Average recall score: Micro', recall_score(y_multi_lables_10s_test, Y_predicted_oneVsRest_10s, average='micro'))"
   ]
  },
  {
   "cell_type": "code",
   "execution_count": 292,
   "metadata": {
    "colab": {
     "base_uri": "https://localhost:8080/"
    },
    "id": "XVdTw8EKnE8Z",
    "outputId": "0ef2581a-2291-4ae3-aada-d4b409af114f"
   },
   "outputs": [
    {
     "name": "stdout",
     "output_type": "stream",
     "text": [
      "Accuracy score:  0.0022333333333333333\n",
      "F1 score: Macro 0.035107887519096936\n",
      "Average recall score: MAcro 0.0332783650855112\n"
     ]
    }
   ],
   "source": [
    "print('Accuracy score: ', accuracy_score(y_multi_lables_10s_test, Y_predicted_oneVsRest_10s))\n",
    "print('F1 score: Macro', f1_score(y_multi_lables_10s_test, Y_predicted_oneVsRest_10s, average='macro'))\n",
    "print('Average recall score: MAcro', recall_score(y_multi_lables_10s_test, Y_predicted_oneVsRest_10s, average='macro'))"
   ]
  },
  {
   "cell_type": "code",
   "execution_count": 293,
   "metadata": {
    "colab": {
     "base_uri": "https://localhost:8080/"
    },
    "id": "qBBR9nL2nE_l",
    "outputId": "283d8927-6927-4df2-c422-f6a3f4981de6"
   },
   "outputs": [
    {
     "name": "stdout",
     "output_type": "stream",
     "text": [
      "Accuracy score:  0.0022333333333333333\n",
      "F1 score: weighted 0.2263828957064162\n",
      "Average precision score: weighted 0.32026550659995623\n",
      "Average recall score: weighted 0.22083333333333333\n"
     ]
    }
   ],
   "source": [
    "print('Accuracy score: ', accuracy_score(y_multi_lables_10s_test, Y_predicted_oneVsRest_10s))\n",
    "print('F1 score: weighted', f1_score(y_multi_lables_10s_test, Y_predicted_oneVsRest_10s, average='weighted'))\n",
    "print('Average precision score: weighted', average_precision_score(y_multi_lables_10s_test, Y_predicted_oneVsRest_10s, average='weighted'))\n",
    "print('Average recall score: weighted', recall_score(y_multi_lables_10s_test, Y_predicted_oneVsRest_10s, average='weighted'))"
   ]
  },
  {
   "cell_type": "markdown",
   "metadata": {
    "id": "mXFuhpw7P6hk"
   },
   "source": [
    "# **Observation from the Multi Labels classification for Age-Group 10s** \n",
    "\n",
    "- Test accuracy is too low as 0.0023.\n",
    "- From the predicted vs True label we can infer the predicted labels are poor.\n",
    "- Average Precision and Recall for this model is also low as 0.18 and 0.22"
   ]
  },
  {
   "cell_type": "markdown",
   "metadata": {
    "id": "ID8GOPczFDKx"
   },
   "source": [
    "# **Building a Deep Learning Model** "
   ]
  },
  {
   "cell_type": "markdown",
   "metadata": {
    "id": "7h06YENqFYWO"
   },
   "source": [
    "We will use TF-IDF Vectorizier features in this case"
   ]
  },
  {
   "cell_type": "code",
   "execution_count": 131,
   "metadata": {
    "id": "gG7isLdsFOAK"
   },
   "outputs": [],
   "source": [
    "#Start building a Keras Sequential Model\n",
    "tf.keras.backend.clear_session()"
   ]
  },
  {
   "cell_type": "code",
   "execution_count": 132,
   "metadata": {
    "id": "mMpqR0JdFOC8"
   },
   "outputs": [],
   "source": [
    "# As the session is getting Crash separating the blog with age range. Age Range 40s text blog considering only the first 10000 blogs\n",
    "from sklearn.feature_extraction.text import  TfidfVectorizer\n",
    "tfidvectorizer = TfidfVectorizer(min_df=0.,max_df=1.,use_idf=True)\n",
    "cvect_40s = tfidvectorizer.fit_transform(blog_df[blog_df['Age_Range'] == '40s']['keyword'].iloc[:10000])"
   ]
  },
  {
   "cell_type": "code",
   "execution_count": 133,
   "metadata": {
    "id": "uAaHW5uxFOFi"
   },
   "outputs": [],
   "source": [
    "X = cvect_40s\n",
    "Y = blog_df[blog_df['Age_Range'] == '40s']['topic'].iloc[:10000]"
   ]
  },
  {
   "cell_type": "code",
   "execution_count": 134,
   "metadata": {
    "colab": {
     "base_uri": "https://localhost:8080/"
    },
    "id": "0wzIF7K0JNeq",
    "outputId": "b61d8f71-304a-4e15-9ef1-2be6285df397"
   },
   "outputs": [
    {
     "data": {
      "text/plain": [
       "array(['Accounting', 'Advertising', 'Agriculture', 'Arts', 'Automotive',\n",
       "       'Banking', 'Biotech', 'BusinessServices', 'Communications-Media',\n",
       "       'Construction', 'Consulting', 'Education', 'Engineering',\n",
       "       'Fashion', 'Government', 'HumanResources', 'Internet',\n",
       "       'InvestmentBanking', 'Law', 'Manufacturing', 'Maritime',\n",
       "       'Marketing', 'Military', 'Museums-Libraries', 'Non-Profit',\n",
       "       'Publishing', 'Religion', 'Science', 'Student', 'Technology',\n",
       "       'Tourism', 'Transportation', 'indUnk'], dtype=object)"
      ]
     },
     "execution_count": 134,
     "metadata": {
      "tags": []
     },
     "output_type": "execute_result"
    }
   ],
   "source": [
    "np.unique(Y)"
   ]
  },
  {
   "cell_type": "code",
   "execution_count": 135,
   "metadata": {
    "colab": {
     "base_uri": "https://localhost:8080/"
    },
    "id": "SmyMICUYQgbc",
    "outputId": "07bb9ca0-47a8-4a5f-8d3e-fa5721b5da18"
   },
   "outputs": [
    {
     "data": {
      "text/plain": [
       "(33,)"
      ]
     },
     "execution_count": 135,
     "metadata": {
      "tags": []
     },
     "output_type": "execute_result"
    }
   ],
   "source": [
    "np.unique(Y).shape"
   ]
  },
  {
   "cell_type": "code",
   "execution_count": 136,
   "metadata": {
    "id": "rk4igvIRFOLC"
   },
   "outputs": [],
   "source": [
    "X_train_NN_40s,X_test_NN_40s,Y_train_NN_40s,Y_test_NN_40s = train_test_split(X,Y,test_size = 0.30,random_state =5)"
   ]
  },
  {
   "cell_type": "code",
   "execution_count": 137,
   "metadata": {
    "colab": {
     "base_uri": "https://localhost:8080/"
    },
    "id": "MzsSimNSI08O",
    "outputId": "2de27e85-2834-40ce-dad6-a9774513a228"
   },
   "outputs": [
    {
     "data": {
      "text/plain": [
       "(7000, 57021)"
      ]
     },
     "execution_count": 137,
     "metadata": {
      "tags": []
     },
     "output_type": "execute_result"
    }
   ],
   "source": [
    "#Size of Document Term Matrix\n",
    "X_train_NN_40s.shape"
   ]
  },
  {
   "cell_type": "code",
   "execution_count": 138,
   "metadata": {
    "colab": {
     "base_uri": "https://localhost:8080/"
    },
    "id": "qfryNawnQmEV",
    "outputId": "3f962a92-4882-49bc-e569-7bd93d99be3a"
   },
   "outputs": [
    {
     "data": {
      "text/plain": [
       "(7000,)"
      ]
     },
     "execution_count": 138,
     "metadata": {
      "tags": []
     },
     "output_type": "execute_result"
    }
   ],
   "source": [
    "Y_train_NN_40s.shape"
   ]
  },
  {
   "cell_type": "code",
   "execution_count": 139,
   "metadata": {
    "id": "2OuuR4lea5sO"
   },
   "outputs": [],
   "source": [
    "from sklearn.preprocessing import LabelEncoder\n",
    "\n",
    "label_encoder = LabelEncoder()\n",
    "Y_train_NN_40s = label_encoder.fit_transform(Y_train_NN_40s)\n",
    "Y_test_NN_40s = label_encoder.fit_transform(Y_test_NN_40s)"
   ]
  },
  {
   "cell_type": "code",
   "execution_count": 140,
   "metadata": {
    "id": "LbAtLtgia5ut"
   },
   "outputs": [],
   "source": [
    "Y_train_NN_40s = to_categorical(Y_train_NN_40s, num_classes=33)\n",
    "Y_test_NN_40s = to_categorical(Y_test_NN_40s, num_classes=33)"
   ]
  },
  {
   "cell_type": "code",
   "execution_count": 141,
   "metadata": {
    "id": "cOSZE8ZrFON2"
   },
   "outputs": [],
   "source": [
    "model_40s = tf.keras.models.Sequential()\n",
    "model_40s.add(tf.keras.layers.Reshape((57021,),input_shape=(57021,)))\n",
    "#model.add(tf.keras.layers.BatchNormalization())\n",
    "model_40s.add(tf.keras.layers.Dense(100, activation='relu'))\n",
    "model_40s.add(tf.keras.layers.Dropout(0.4))\n",
    "model_40s.add(tf.keras.layers.Dense(10, activation='relu'))\n",
    "model_40s.add(tf.keras.layers.Dropout(0.4))\n",
    "model_40s.add(tf.keras.layers.Dense(33, activation='sigmoid'))"
   ]
  },
  {
   "cell_type": "code",
   "execution_count": 142,
   "metadata": {
    "colab": {
     "base_uri": "https://localhost:8080/"
    },
    "id": "x73JeYAnFOQe",
    "outputId": "f379f3d0-75f6-4c14-88a9-be70adb09814"
   },
   "outputs": [
    {
     "name": "stdout",
     "output_type": "stream",
     "text": [
      "Model: \"sequential\"\n",
      "_________________________________________________________________\n",
      "Layer (type)                 Output Shape              Param #   \n",
      "=================================================================\n",
      "reshape (Reshape)            (None, 57021)             0         \n",
      "_________________________________________________________________\n",
      "dense (Dense)                (None, 100)               5702200   \n",
      "_________________________________________________________________\n",
      "dropout (Dropout)            (None, 100)               0         \n",
      "_________________________________________________________________\n",
      "dense_1 (Dense)              (None, 10)                1010      \n",
      "_________________________________________________________________\n",
      "dropout_1 (Dropout)          (None, 10)                0         \n",
      "_________________________________________________________________\n",
      "dense_2 (Dense)              (None, 33)                363       \n",
      "=================================================================\n",
      "Total params: 5,703,573\n",
      "Trainable params: 5,703,573\n",
      "Non-trainable params: 0\n",
      "_________________________________________________________________\n"
     ]
    }
   ],
   "source": [
    "model_40s.summary()"
   ]
  },
  {
   "cell_type": "code",
   "execution_count": 143,
   "metadata": {
    "id": "E5gyk0aaFOTD"
   },
   "outputs": [],
   "source": [
    "# Compile the model\n",
    "adam_op = tf.keras.optimizers.Adam(lr=0.01)\n",
    "model_40s.compile(optimizer=adam_op, loss='categorical_crossentropy', metrics=['acc'])"
   ]
  },
  {
   "cell_type": "code",
   "execution_count": 144,
   "metadata": {
    "colab": {
     "base_uri": "https://localhost:8080/"
    },
    "id": "xkj4qH3-J3ff",
    "outputId": "dfb23f42-63c4-45f6-be05-5494e50cf70b"
   },
   "outputs": [
    {
     "name": "stdout",
     "output_type": "stream",
     "text": [
      "Epoch 1/30\n",
      "154/154 [==============================] - 2s 8ms/step - loss: 2.5346 - acc: 0.3186 - val_loss: 2.1715 - val_acc: 0.3595\n",
      "INFO:tensorflow:Assets written to: ./checkpoint/assets\n",
      "Epoch 2/30\n",
      "154/154 [==============================] - 1s 6ms/step - loss: 2.0271 - acc: 0.3873 - val_loss: 1.9928 - val_acc: 0.4124\n",
      "INFO:tensorflow:Assets written to: ./checkpoint/assets\n",
      "Epoch 3/30\n",
      "154/154 [==============================] - 1s 6ms/step - loss: 1.7559 - acc: 0.4529 - val_loss: 1.8927 - val_acc: 0.4995\n",
      "INFO:tensorflow:Assets written to: ./checkpoint/assets\n",
      "Epoch 4/30\n",
      "154/154 [==============================] - 1s 7ms/step - loss: 1.5614 - acc: 0.5167 - val_loss: 1.8310 - val_acc: 0.5086\n",
      "INFO:tensorflow:Assets written to: ./checkpoint/assets\n",
      "Epoch 5/30\n",
      "154/154 [==============================] - 1s 6ms/step - loss: 1.3751 - acc: 0.5835 - val_loss: 1.8663 - val_acc: 0.5348\n",
      "Epoch 6/30\n",
      "154/154 [==============================] - 1s 7ms/step - loss: 1.2655 - acc: 0.6157 - val_loss: 1.8688 - val_acc: 0.5271\n",
      "Epoch 7/30\n",
      "154/154 [==============================] - 1s 6ms/step - loss: 1.2104 - acc: 0.6280 - val_loss: 1.9073 - val_acc: 0.5381\n",
      "Epoch 8/30\n",
      "154/154 [==============================] - 1s 6ms/step - loss: 1.1782 - acc: 0.6449 - val_loss: 1.9513 - val_acc: 0.5448\n",
      "Epoch 9/30\n",
      "154/154 [==============================] - 1s 6ms/step - loss: 1.1196 - acc: 0.6455 - val_loss: 1.9833 - val_acc: 0.5524\n",
      "Epoch 10/30\n",
      "154/154 [==============================] - 1s 7ms/step - loss: 1.0870 - acc: 0.6608 - val_loss: 1.9997 - val_acc: 0.5562\n",
      "Epoch 11/30\n",
      "154/154 [==============================] - 1s 6ms/step - loss: 1.0679 - acc: 0.6671 - val_loss: 2.1113 - val_acc: 0.5548\n",
      "Epoch 12/30\n",
      "154/154 [==============================] - 1s 6ms/step - loss: 1.0421 - acc: 0.6682 - val_loss: 2.0878 - val_acc: 0.5462\n",
      "Epoch 13/30\n",
      "154/154 [==============================] - 1s 6ms/step - loss: 1.0478 - acc: 0.6735 - val_loss: 2.0492 - val_acc: 0.5471\n",
      "Epoch 14/30\n",
      "154/154 [==============================] - 1s 7ms/step - loss: 1.0074 - acc: 0.6835 - val_loss: 2.0809 - val_acc: 0.5443\n"
     ]
    },
    {
     "data": {
      "text/plain": [
       "<tensorflow.python.keras.callbacks.History at 0x7f4b62de3f90>"
      ]
     },
     "execution_count": 144,
     "metadata": {
      "tags": []
     },
     "output_type": "execute_result"
    }
   ],
   "source": [
    "check_point_1 = ModelCheckpoint('./checkpoint',monitor='val_loss',save_best_only=True,save_freq='epoch')\n",
    "callback_1 = tf.keras.callbacks.EarlyStopping(monitor='val_loss',patience = 10,restore_best_weights=True,mode = 'min')\n",
    "model_40s.fit( x=X_train_NN_40s.toarray(), y=Y_train_NN_40s, batch_size=32, epochs=30, validation_split=0.3,callbacks=[callback_1,check_point_1])"
   ]
  },
  {
   "cell_type": "code",
   "execution_count": 145,
   "metadata": {
    "colab": {
     "base_uri": "https://localhost:8080/"
    },
    "id": "tf2T3QvNKM68",
    "outputId": "c5b5feb1-313c-461c-ae1f-17a09d3f6c91"
   },
   "outputs": [
    {
     "name": "stdout",
     "output_type": "stream",
     "text": [
      "94/94 [==============================] - 0s 4ms/step - loss: 6.0635 - acc: 0.0397\n"
     ]
    },
    {
     "data": {
      "text/plain": [
       "[6.0634965896606445, 0.03966666758060455]"
      ]
     },
     "execution_count": 145,
     "metadata": {
      "tags": []
     },
     "output_type": "execute_result"
    }
   ],
   "source": [
    "##Loaded Back, Compiled and evaluated with the TestData Set\n",
    "model_40s.evaluate(X_test_NN_40s.toarray(),Y_test_NN_40s)"
   ]
  },
  {
   "cell_type": "code",
   "execution_count": 146,
   "metadata": {
    "id": "y1m5soYUj6DJ"
   },
   "outputs": [],
   "source": [
    "y_pred_NN_40s = model_40s.predict(X_test_NN_40s.toarray())"
   ]
  },
  {
   "cell_type": "code",
   "execution_count": 147,
   "metadata": {
    "colab": {
     "base_uri": "https://localhost:8080/"
    },
    "id": "CsSH7nblkuSo",
    "outputId": "16301c88-1b84-4ed7-a0bb-b0f53af94778"
   },
   "outputs": [
    {
     "name": "stdout",
     "output_type": "stream",
     "text": [
      "For the Age Group of 40s predicted -  11\n",
      "For the Age Group of 40s True Label -  16\n",
      "For the Age Group of 40s predicted -  9\n",
      "For the Age Group of 40s True Label -  8\n",
      "For the Age Group of 40s predicted -  26\n",
      "For the Age Group of 40s True Label -  30\n",
      "For the Age Group of 40s predicted -  12\n",
      "For the Age Group of 40s True Label -  11\n",
      "For the Age Group of 40s predicted -  12\n",
      "For the Age Group of 40s True Label -  11\n"
     ]
    }
   ],
   "source": [
    "print(\"For the Age Group of 40s predicted - \",y_pred_NN_40s[0].argmax()+1)\n",
    "print(\"For the Age Group of 40s True Label - \",Y_test_NN_40s[0].argmax()+1)\n",
    "\n",
    "print(\"For the Age Group of 40s predicted - \",y_pred_NN_40s[100].argmax()+1)\n",
    "print(\"For the Age Group of 40s True Label - \",Y_test_NN_40s[100].argmax()+1)\n",
    "\n",
    "print(\"For the Age Group of 40s predicted - \",y_pred_NN_40s[200].argmax()+1)\n",
    "print(\"For the Age Group of 40s True Label - \",Y_test_NN_40s[200].argmax()+1)\n",
    "\n",
    "print(\"For the Age Group of 40s predicted - \",y_pred_NN_40s[5].argmax()+1)\n",
    "print(\"For the Age Group of 40s True Label - \",Y_test_NN_40s[5].argmax()+1)\n",
    "\n",
    "print(\"For the Age Group of 40s predicted - \",y_pred_NN_40s[7].argmax()+1)\n",
    "print(\"For the Age Group of 40s True Label - \",Y_test_NN_40s[7].argmax()+1)"
   ]
  },
  {
   "cell_type": "code",
   "execution_count": 219,
   "metadata": {
    "colab": {
     "base_uri": "https://localhost:8080/"
    },
    "id": "11Cgo4h3TMfg",
    "outputId": "97209cca-bf1a-4f1c-fcf3-0ea1b74bb7c0"
   },
   "outputs": [
    {
     "name": "stdout",
     "output_type": "stream",
     "text": [
      "                      precision    recall  f1-score   support\n",
      "\n",
      "          Accounting       0.00      0.00      0.00         0\n",
      "         Advertising       0.00      0.00      0.00         0\n",
      "         Agriculture       0.00      0.00      0.00         0\n",
      "                Arts       0.47      0.33      0.39       305\n",
      "          Automotive       0.00      0.00      0.00         0\n",
      "             Banking       0.00      0.00      0.00         0\n",
      "             Biotech       0.00      0.00      0.00         0\n",
      "    BusinessServices       0.00      0.00      0.00         0\n",
      "Communications-Media       0.00      0.00      0.00        40\n",
      "        Construction       0.00      0.00      0.00         0\n",
      "          Consulting       0.02      0.04      0.03       313\n",
      "           Education       0.12      0.01      0.01       782\n",
      "         Engineering       0.00      0.00      0.00         0\n",
      "             Fashion       0.00      0.00      0.00         0\n",
      "          Government       0.00      0.00      0.00         0\n",
      "      HumanResources       0.00      0.00      0.00         0\n",
      "            Internet       0.00      0.00      0.00       271\n",
      "   InvestmentBanking       0.00      0.00      0.00         0\n",
      "                 Law       0.00      0.00      0.00         0\n",
      "       Manufacturing       0.00      0.00      0.00         0\n",
      "            Maritime       0.00      0.00      0.00         0\n",
      "           Marketing       0.00      0.00      0.00         0\n",
      "            Military       0.00      0.00      0.00         0\n",
      "   Museums-Libraries       0.00      0.00      0.00        59\n",
      "          Non-Profit       0.00      0.00      0.00         0\n",
      "          Publishing       0.00      0.00      0.00       287\n",
      "            Religion       0.00      0.00      0.00         0\n",
      "             Science       0.00      0.00      0.00         0\n",
      "             Student       0.00      0.00      0.00         0\n",
      "          Technology       0.00      0.00      0.00         0\n",
      "              indUnk       0.00      0.00      0.00       943\n",
      "\n",
      "            accuracy                           0.04      3000\n",
      "           macro avg       0.02      0.01      0.01      3000\n",
      "        weighted avg       0.08      0.04      0.05      3000\n",
      "\n"
     ]
    }
   ],
   "source": [
    "print(classification_report(np.argmax(y_pred_NN_40s,axis=1) , np.argmax(Y_test_NN_40s,axis=1),\n",
    "        target_names =['Accounting', 'Advertising', 'Agriculture', 'Arts', 'Automotive',\n",
    "       'Banking', 'Biotech', 'BusinessServices', 'Communications-Media',\n",
    "       'Construction', 'Consulting', 'Education', 'Engineering',\n",
    "       'Fashion', 'Government', 'HumanResources', 'Internet',\n",
    "       'InvestmentBanking', 'Law', 'Manufacturing', 'Maritime',\n",
    "       'Marketing', 'Military', 'Museums-Libraries', 'Non-Profit',\n",
    "       'Publishing', 'Religion', 'Science', 'Student', 'Technology','indUnk']))"
   ]
  },
  {
   "cell_type": "markdown",
   "metadata": {
    "id": "9V0zXAMcQSGS"
   },
   "source": [
    "# **Observation from the NN model for Age-Group 40s** \n",
    "\n",
    "- Test accuracy is too low as 0.03 and training and Validation accuracy are more, looks to be under fit model.\n",
    "- From the predicted vs True label we can infer the below.\n",
    "  - For the Age Group of 40s predicted -  11  -- the corresponding label is Consulting.\n",
    "\n",
    "  - For the Age Group of 40s True Label -  16  -- respective label is HumanResources.\n",
    "\n",
    "  - For the Age Group of 40s predicted -  9  -- respective label is Communications-Media.\n",
    "\n",
    "  - For the Age Group of 40s True Label -  8 -- respective label is BusinessServices.\n",
    "\n",
    "  - For the Age Group of 40s predicted -  26  -- respective label is Publishing.\n",
    "\n",
    "  - For the Age Group of 40s True Label -  30 -- respective label is Technology.\n",
    "\n",
    "  - For the Age Group of 40s predicted -  12 -- the respective label is Education.\n",
    "\n",
    "  - For the Age Group of 40s True Label -  11   -- the corresponding label is Consulting.\n",
    "\n",
    "  - For the Age Group of 40s predicted -  12 -- the respective label is Education.\n",
    "\n",
    "  - For the Age Group of 40s True Label -  11    -- the Corresponding lable is Consulting.\n",
    "\n",
    "- From the classification Report the label Arts has percision as 0.47 and recall as 0.33      "
   ]
  },
  {
   "cell_type": "code",
   "execution_count": 111,
   "metadata": {
    "id": "tm2hHzJwlTS5"
   },
   "outputs": [],
   "source": [
    "# As the session is getting Crash separating the blog with age range. Age Range 30s text blog considering only the first 10000 blogs\n",
    "tfidvectorizer_30s = TfidfVectorizer(min_df=0.,max_df=1.,use_idf=True)\n",
    "cvect_30s = tfidvectorizer_30s.fit_transform(blog_df[blog_df['Age_Range'] == '30s']['keyword'].iloc[:10000])"
   ]
  },
  {
   "cell_type": "code",
   "execution_count": 112,
   "metadata": {
    "id": "huHXwwI6m2ou"
   },
   "outputs": [],
   "source": [
    "X_30s = cvect_30s\n",
    "Y_30s = blog_df[blog_df['Age_Range'] == '30s']['topic'].iloc[:10000]"
   ]
  },
  {
   "cell_type": "code",
   "execution_count": 113,
   "metadata": {
    "colab": {
     "base_uri": "https://localhost:8080/"
    },
    "id": "onrMkhxSm2rv",
    "outputId": "778c739a-0e9a-416a-db4c-752279eda314"
   },
   "outputs": [
    {
     "data": {
      "text/plain": [
       "array(['Advertising', 'Agriculture', 'Architecture', 'Arts', 'Automotive',\n",
       "       'Banking', 'BusinessServices', 'Communications-Media',\n",
       "       'Consulting', 'Education', 'Engineering', 'Environment', 'Fashion',\n",
       "       'Government', 'Internet', 'InvestmentBanking', 'Law',\n",
       "       'LawEnforcement-Security', 'Manufacturing', 'Marketing',\n",
       "       'Non-Profit', 'Publishing', 'RealEstate', 'Religion', 'Science',\n",
       "       'Sports-Recreation', 'Student', 'Technology', 'Telecommunications',\n",
       "       'Tourism', 'Transportation', 'indUnk'], dtype=object)"
      ]
     },
     "execution_count": 113,
     "metadata": {
      "tags": []
     },
     "output_type": "execute_result"
    }
   ],
   "source": [
    "np.unique(Y_30s)"
   ]
  },
  {
   "cell_type": "code",
   "execution_count": 114,
   "metadata": {
    "colab": {
     "base_uri": "https://localhost:8080/"
    },
    "id": "oWLTnNgwm2t8",
    "outputId": "8827112d-dff6-4599-9fc6-3b6146d707d0"
   },
   "outputs": [
    {
     "data": {
      "text/plain": [
       "(32,)"
      ]
     },
     "execution_count": 114,
     "metadata": {
      "tags": []
     },
     "output_type": "execute_result"
    }
   ],
   "source": [
    "np.unique(Y_30s).shape"
   ]
  },
  {
   "cell_type": "code",
   "execution_count": 115,
   "metadata": {
    "id": "qwD2cacmm2wT"
   },
   "outputs": [],
   "source": [
    "X_train_NN_30s,X_test_NN_30s,Y_train_NN_30s,Y_test_NN_30s = train_test_split(X_30s,Y_30s,test_size = 0.30,random_state =5)"
   ]
  },
  {
   "cell_type": "code",
   "execution_count": 116,
   "metadata": {
    "colab": {
     "base_uri": "https://localhost:8080/"
    },
    "id": "9ulEb5pwnKeI",
    "outputId": "5cf1ce5f-1ed7-4e7a-9b29-4a2172f09921"
   },
   "outputs": [
    {
     "data": {
      "text/plain": [
       "(7000, 56471)"
      ]
     },
     "execution_count": 116,
     "metadata": {
      "tags": []
     },
     "output_type": "execute_result"
    }
   ],
   "source": [
    "#Size of Document Term Matrix\n",
    "X_train_NN_30s.shape"
   ]
  },
  {
   "cell_type": "code",
   "execution_count": 117,
   "metadata": {
    "colab": {
     "base_uri": "https://localhost:8080/"
    },
    "id": "AP5YmRvYnKgo",
    "outputId": "2af11251-2b6c-4ab4-f953-60e84458956e"
   },
   "outputs": [
    {
     "data": {
      "text/plain": [
       "(7000,)"
      ]
     },
     "execution_count": 117,
     "metadata": {
      "tags": []
     },
     "output_type": "execute_result"
    }
   ],
   "source": [
    "Y_train_NN_30s.shape"
   ]
  },
  {
   "cell_type": "code",
   "execution_count": 118,
   "metadata": {
    "id": "vBbVePMAnKi0"
   },
   "outputs": [],
   "source": [
    "label_encoder = LabelEncoder()\n",
    "Y_train_NN_30s = label_encoder.fit_transform(Y_train_NN_30s)\n",
    "Y_test_NN_30s = label_encoder.fit_transform(Y_test_NN_30s)"
   ]
  },
  {
   "cell_type": "code",
   "execution_count": 119,
   "metadata": {
    "id": "jMxnPafUnKlN"
   },
   "outputs": [],
   "source": [
    "Y_train_NN_30s = to_categorical(Y_train_NN_30s, num_classes=32)\n",
    "Y_test_NN_30s = to_categorical(Y_test_NN_30s, num_classes=32)"
   ]
  },
  {
   "cell_type": "code",
   "execution_count": 120,
   "metadata": {
    "id": "ZXxeQEjgnKnm"
   },
   "outputs": [],
   "source": [
    "model_30s = tf.keras.models.Sequential()\n",
    "model_30s.add(tf.keras.layers.Reshape((56471,),input_shape=(56471,)))\n",
    "#model.add(tf.keras.layers.BatchNormalization())\n",
    "model_30s.add(tf.keras.layers.Dense(100, activation='relu'))\n",
    "model_30s.add(tf.keras.layers.Dropout(0.4))\n",
    "model_30s.add(tf.keras.layers.Dense(10, activation='relu'))\n",
    "model_30s.add(tf.keras.layers.Dropout(0.4))\n",
    "model_30s.add(tf.keras.layers.Dense(32, activation='sigmoid'))"
   ]
  },
  {
   "cell_type": "code",
   "execution_count": 121,
   "metadata": {
    "id": "tJs-nF3KnKpy"
   },
   "outputs": [],
   "source": [
    "# Compile the model\n",
    "adam_op = tf.keras.optimizers.Adam(lr=0.01)\n",
    "model_30s.compile(optimizer=adam_op, loss='categorical_crossentropy', metrics=['acc'])"
   ]
  },
  {
   "cell_type": "code",
   "execution_count": 122,
   "metadata": {
    "colab": {
     "base_uri": "https://localhost:8080/"
    },
    "id": "7lAMkbronKsK",
    "outputId": "bba9f349-ce5c-454b-ad1b-1a5a797bdfff"
   },
   "outputs": [
    {
     "name": "stdout",
     "output_type": "stream",
     "text": [
      "Epoch 1/30\n",
      "154/154 [==============================] - 2s 8ms/step - loss: 2.0983 - acc: 0.3833 - val_loss: 1.4422 - val_acc: 0.6343\n",
      "INFO:tensorflow:Assets written to: ./checkpoint/assets\n",
      "Epoch 2/30\n",
      "154/154 [==============================] - 1s 7ms/step - loss: 1.3725 - acc: 0.5863 - val_loss: 1.3349 - val_acc: 0.6381\n",
      "INFO:tensorflow:Assets written to: ./checkpoint/assets\n",
      "Epoch 3/30\n",
      "154/154 [==============================] - 1s 6ms/step - loss: 1.1089 - acc: 0.6586 - val_loss: 1.3289 - val_acc: 0.6481\n",
      "INFO:tensorflow:Assets written to: ./checkpoint/assets\n",
      "Epoch 4/30\n",
      "154/154 [==============================] - 1s 7ms/step - loss: 0.9289 - acc: 0.7180 - val_loss: 1.3896 - val_acc: 0.6395\n",
      "Epoch 5/30\n",
      "154/154 [==============================] - 1s 7ms/step - loss: 0.8477 - acc: 0.7392 - val_loss: 1.4508 - val_acc: 0.6214\n",
      "Epoch 6/30\n",
      "154/154 [==============================] - 1s 6ms/step - loss: 0.7737 - acc: 0.7620 - val_loss: 1.4603 - val_acc: 0.6343\n",
      "Epoch 7/30\n",
      "154/154 [==============================] - 1s 7ms/step - loss: 0.7598 - acc: 0.7641 - val_loss: 1.4871 - val_acc: 0.6429\n",
      "Epoch 8/30\n",
      "154/154 [==============================] - 1s 6ms/step - loss: 0.7250 - acc: 0.7776 - val_loss: 1.5218 - val_acc: 0.6190\n",
      "Epoch 9/30\n",
      "154/154 [==============================] - 1s 7ms/step - loss: 0.7141 - acc: 0.7729 - val_loss: 1.5423 - val_acc: 0.6229\n",
      "Epoch 10/30\n",
      "154/154 [==============================] - 1s 7ms/step - loss: 0.7114 - acc: 0.7727 - val_loss: 1.5801 - val_acc: 0.6281\n",
      "Epoch 11/30\n",
      "154/154 [==============================] - 1s 7ms/step - loss: 0.6975 - acc: 0.7861 - val_loss: 1.5885 - val_acc: 0.6219\n",
      "Epoch 12/30\n",
      "154/154 [==============================] - 1s 7ms/step - loss: 0.6797 - acc: 0.7920 - val_loss: 1.6210 - val_acc: 0.6181\n",
      "Epoch 13/30\n",
      "154/154 [==============================] - 1s 7ms/step - loss: 0.6971 - acc: 0.7798 - val_loss: 1.6722 - val_acc: 0.6152\n"
     ]
    },
    {
     "data": {
      "text/plain": [
       "<tensorflow.python.keras.callbacks.History at 0x7f4b74fb0dd0>"
      ]
     },
     "execution_count": 122,
     "metadata": {
      "tags": []
     },
     "output_type": "execute_result"
    }
   ],
   "source": [
    "check_point_2 = ModelCheckpoint('./checkpoint',monitor='val_loss',save_best_only=True,save_freq='epoch')\n",
    "callback_2 = tf.keras.callbacks.EarlyStopping(monitor='val_loss',patience = 10,restore_best_weights=True,mode = 'min')\n",
    "model_30s.fit( x=X_train_NN_30s.toarray(), y=Y_train_NN_30s, batch_size=32, epochs=30, validation_split=0.3,callbacks=[callback_2,check_point_2])"
   ]
  },
  {
   "cell_type": "code",
   "execution_count": 123,
   "metadata": {
    "colab": {
     "base_uri": "https://localhost:8080/"
    },
    "id": "mG8_OvDknKuW",
    "outputId": "77070741-86a0-47f1-8967-af7357105632"
   },
   "outputs": [
    {
     "name": "stdout",
     "output_type": "stream",
     "text": [
      "94/94 [==============================] - 0s 4ms/step - loss: 7.6728 - acc: 0.1073\n"
     ]
    },
    {
     "data": {
      "text/plain": [
       "[7.672751426696777, 0.10733333230018616]"
      ]
     },
     "execution_count": 123,
     "metadata": {
      "tags": []
     },
     "output_type": "execute_result"
    }
   ],
   "source": [
    "##Loaded Back, Compiled and evaluated with the TestData Set\n",
    "model_30s.evaluate(X_test_NN_30s.toarray(),Y_test_NN_30s)"
   ]
  },
  {
   "cell_type": "code",
   "execution_count": 124,
   "metadata": {
    "id": "6FRSjcdtn6mI"
   },
   "outputs": [],
   "source": [
    "y_pred_NN_30s = model_30s.predict(X_test_NN_30s.toarray())"
   ]
  },
  {
   "cell_type": "code",
   "execution_count": 125,
   "metadata": {
    "colab": {
     "base_uri": "https://localhost:8080/"
    },
    "id": "VICGEtSEn6o5",
    "outputId": "853784c4-1319-47dd-c3ac-4af3ce47e888"
   },
   "outputs": [
    {
     "name": "stdout",
     "output_type": "stream",
     "text": [
      "For the Age Group of 30s predicted -  32\n",
      "For the Age Group of 30s True Label -  14\n",
      "For the Age Group of 30s predicted -  28\n",
      "For the Age Group of 30s True Label -  25\n",
      "For the Age Group of 30s predicted -  28\n",
      "For the Age Group of 30s True Label -  25\n",
      "For the Age Group of 30s predicted -  28\n",
      "For the Age Group of 30s True Label -  4\n",
      "For the Age Group of 40s predicted -  32\n",
      "For the Age Group of 40s True Label -  4\n"
     ]
    }
   ],
   "source": [
    "print(\"For the Age Group of 30s predicted - \",y_pred_NN_30s[0].argmax()+1)\n",
    "print(\"For the Age Group of 30s True Label - \",Y_test_NN_30s[0].argmax()+1)\n",
    "\n",
    "print(\"For the Age Group of 30s predicted - \",y_pred_NN_30s[100].argmax()+1)\n",
    "print(\"For the Age Group of 30s True Label - \",Y_test_NN_30s[100].argmax()+1)\n",
    "\n",
    "print(\"For the Age Group of 30s predicted - \",y_pred_NN_30s[200].argmax()+1)\n",
    "print(\"For the Age Group of 30s True Label - \",Y_test_NN_30s[200].argmax()+1)\n",
    "\n",
    "print(\"For the Age Group of 30s predicted - \",y_pred_NN_30s[5].argmax()+1)\n",
    "print(\"For the Age Group of 30s True Label - \",Y_test_NN_30s[5].argmax()+1)\n",
    "\n",
    "print(\"For the Age Group of 30s predicted - \",y_pred_NN_30s[7].argmax()+1)\n",
    "print(\"For the Age Group of 30s True Label - \",Y_test_NN_30s[7].argmax()+1)"
   ]
  },
  {
   "cell_type": "code",
   "execution_count": 217,
   "metadata": {
    "colab": {
     "base_uri": "https://localhost:8080/"
    },
    "id": "t2cH6ku2QJ5i",
    "outputId": "7ad0a502-23d6-4703-c752-facced61a7cc"
   },
   "outputs": [
    {
     "name": "stdout",
     "output_type": "stream",
     "text": [
      "                         precision    recall  f1-score   support\n",
      "\n",
      "            Advertising       0.00      0.00      0.00         0\n",
      "            Agriculture       0.00      0.00      0.00         0\n",
      "           Architecture       0.00      0.00      0.00         0\n",
      "                   Arts       0.00      0.00      0.00         0\n",
      "             Automotive       0.00      0.00      0.00         0\n",
      "                Banking       0.00      0.00      0.00         0\n",
      "       BusinessServices       0.00      0.00      0.00         0\n",
      "   Communications-Media       0.00      0.00      0.00         0\n",
      "             Consulting       0.00      0.00      0.00         0\n",
      "              Education       0.80      0.85      0.82       351\n",
      "            Engineering       0.00      0.00      0.00         0\n",
      "            Environment       0.00      0.00      0.00         0\n",
      "                Fashion       0.15      0.00      0.01       481\n",
      "             Government       0.00      0.00      0.00         0\n",
      "               Internet       0.52      0.12      0.20        88\n",
      "      InvestmentBanking       0.00      0.00      0.00         0\n",
      "                    Law       0.00      0.00      0.00         0\n",
      "LawEnforcement-Security       0.00      0.00      0.00         0\n",
      "          Manufacturing       0.00      0.00      0.00         0\n",
      "              Marketing       0.00      0.00      0.00         0\n",
      "             Non-Profit       0.00      0.00      0.00         0\n",
      "             Publishing       0.00      0.00      0.00         0\n",
      "             RealEstate       0.00      0.00      0.00         0\n",
      "               Religion       0.00      0.00      0.00         0\n",
      "                Science       0.00      0.00      0.00         0\n",
      "      Sports-Recreation       0.00      0.00      0.00         0\n",
      "                Student       0.00      0.00      0.00         0\n",
      "             Technology       0.58      0.01      0.02      1052\n",
      "     Telecommunications       0.00      0.00      0.00         0\n",
      "                 indUnk       0.00      0.00      0.00      1028\n",
      "\n",
      "               accuracy                           0.11      3000\n",
      "              macro avg       0.07      0.03      0.04      3000\n",
      "           weighted avg       0.34      0.11      0.11      3000\n",
      "\n"
     ]
    }
   ],
   "source": [
    "print(classification_report(np.argmax(y_pred_NN_30s, axis=1), np.argmax(Y_test_NN_30s,axis=1),\n",
    "                            target_names=['Advertising', 'Agriculture', 'Architecture', 'Arts', 'Automotive',\n",
    "       'Banking', 'BusinessServices', 'Communications-Media',\n",
    "       'Consulting', 'Education', 'Engineering', 'Environment', 'Fashion',\n",
    "       'Government', 'Internet', 'InvestmentBanking', 'Law',\n",
    "       'LawEnforcement-Security', 'Manufacturing', 'Marketing',\n",
    "       'Non-Profit', 'Publishing', 'RealEstate', 'Religion', 'Science',\n",
    "       'Sports-Recreation', 'Student', 'Technology', 'Telecommunications','indUnk']))"
   ]
  },
  {
   "cell_type": "markdown",
   "metadata": {
    "id": "Rre0cZLWTL2a"
   },
   "source": [
    "# **Observation from the NN model for Age-Group 30s** \n",
    "\n",
    "- Test accuracy is too low as 0.107 and training and Validation accuracy are more, looks to be under fit model.\n",
    "- From the predicted vs True label we can infer the below.\n",
    "  - For the Age Group of 30s predicted -  32  -- the corresponding label is indUnk.\n",
    "\n",
    "  - For the Age Group of 30s True Label -  14  -- respective label is Government.\n",
    "\n",
    "  - For the Age Group of 30s predicted -  28  -- respective label is Technology.\n",
    "\n",
    "  - For the Age Group of 30s True Label -  25 -- respective label is Science.\n",
    "\n",
    "  - For the Age Group of 30s predicted -  28  -- respective label is Technology.\n",
    "\n",
    "  - For the Age Group of 30s True Label -  25 -- respective label is Science.\n",
    "\n",
    "  - For the Age Group of 30s predicted -  28 -- the respective label is Technology.\n",
    "\n",
    "  - For the Age Group of 30s True Label -  4   -- the corresponding label is Arts.\n",
    "\n",
    "  - For the Age Group of 30s predicted -  32 -- the respective label is indUnk.\n",
    "\n",
    "  - For the Age Group of 30s True Label -  4    -- the COrresponding lable is Arts.\n",
    "\n",
    "- From the classification Report the label Education has percision as 0.80 and recall as 0.85      "
   ]
  },
  {
   "cell_type": "code",
   "execution_count": 90,
   "metadata": {
    "id": "gOwPYaNqn6rW"
   },
   "outputs": [],
   "source": [
    "# As the session is getting Crash separating the blog with age range. Age Range 20s text blog considering only the first 10000 blogs\n",
    "tfidvectorizer_20s = TfidfVectorizer(min_df=0.,max_df=1.,use_idf=True)\n",
    "cvect_20s = tfidvectorizer_20s.fit_transform(blog_df[blog_df['Age_Range'] == '20s']['keyword'].iloc[:10000])"
   ]
  },
  {
   "cell_type": "code",
   "execution_count": 91,
   "metadata": {
    "id": "BnnuEpmqn6uA"
   },
   "outputs": [],
   "source": [
    "X_20s = cvect_20s\n",
    "Y_20s = blog_df[blog_df['Age_Range'] == '20s']['topic'].iloc[:10000]"
   ]
  },
  {
   "cell_type": "code",
   "execution_count": 92,
   "metadata": {
    "colab": {
     "base_uri": "https://localhost:8080/"
    },
    "id": "uQSes07UonQS",
    "outputId": "65040dd1-126a-4667-802c-c21031b86eb6"
   },
   "outputs": [
    {
     "data": {
      "text/plain": [
       "array(['Accounting', 'Advertising', 'Architecture', 'Arts', 'Automotive',\n",
       "       'Banking', 'BusinessServices', 'Chemicals', 'Communications-Media',\n",
       "       'Construction', 'Consulting', 'Education', 'Engineering',\n",
       "       'Government', 'HumanResources', 'Internet', 'InvestmentBanking',\n",
       "       'Law', 'Marketing', 'Military', 'Museums-Libraries', 'Non-Profit',\n",
       "       'Publishing', 'RealEstate', 'Religion', 'Science',\n",
       "       'Sports-Recreation', 'Student', 'Technology', 'Telecommunications',\n",
       "       'Transportation', 'indUnk'], dtype=object)"
      ]
     },
     "execution_count": 92,
     "metadata": {
      "tags": []
     },
     "output_type": "execute_result"
    }
   ],
   "source": [
    "np.unique(Y_20s)"
   ]
  },
  {
   "cell_type": "code",
   "execution_count": 93,
   "metadata": {
    "colab": {
     "base_uri": "https://localhost:8080/"
    },
    "id": "zQbZZ79copy5",
    "outputId": "573865ab-b7e3-4ca9-ac80-6106e7220bad"
   },
   "outputs": [
    {
     "data": {
      "text/plain": [
       "(32,)"
      ]
     },
     "execution_count": 93,
     "metadata": {
      "tags": []
     },
     "output_type": "execute_result"
    }
   ],
   "source": [
    "np.unique(Y_20s).shape"
   ]
  },
  {
   "cell_type": "code",
   "execution_count": 94,
   "metadata": {
    "id": "IOeERfjuoras"
   },
   "outputs": [],
   "source": [
    "X_train_NN_20s,X_test_NN_20s,Y_train_NN_20s,Y_test_NN_20s = train_test_split(X_20s,Y_20s,test_size = 0.30,random_state =5)"
   ]
  },
  {
   "cell_type": "code",
   "execution_count": 95,
   "metadata": {
    "colab": {
     "base_uri": "https://localhost:8080/"
    },
    "id": "eGsCkukVoufd",
    "outputId": "befa76b0-e045-44bf-93ab-dccff3fa01c2"
   },
   "outputs": [
    {
     "data": {
      "text/plain": [
       "(7000, 66387)"
      ]
     },
     "execution_count": 95,
     "metadata": {
      "tags": []
     },
     "output_type": "execute_result"
    }
   ],
   "source": [
    "#Size of Document Term Matrix\n",
    "X_train_NN_20s.shape"
   ]
  },
  {
   "cell_type": "code",
   "execution_count": 96,
   "metadata": {
    "id": "9Golf9MYouh7"
   },
   "outputs": [],
   "source": [
    "label_encoder = LabelEncoder()\n",
    "Y_train_NN_20s = label_encoder.fit_transform(Y_train_NN_20s)\n",
    "Y_test_NN_20s = label_encoder.fit_transform(Y_test_NN_20s)"
   ]
  },
  {
   "cell_type": "code",
   "execution_count": 97,
   "metadata": {
    "id": "V_jnKVKKoukL"
   },
   "outputs": [],
   "source": [
    "Y_train_NN_20s = to_categorical(Y_train_NN_20s, num_classes=32)\n",
    "Y_test_NN_20s = to_categorical(Y_test_NN_20s, num_classes=32)"
   ]
  },
  {
   "cell_type": "code",
   "execution_count": 98,
   "metadata": {
    "id": "SGqHh-2sounE"
   },
   "outputs": [],
   "source": [
    "model_20s = tf.keras.models.Sequential()\n",
    "model_20s.add(tf.keras.layers.Reshape((66387,),input_shape=(66387,)))\n",
    "#model.add(tf.keras.layers.BatchNormalization())\n",
    "model_20s.add(tf.keras.layers.Dense(100, activation='relu'))\n",
    "model_20s.add(tf.keras.layers.Dropout(0.4))\n",
    "model_20s.add(tf.keras.layers.Dense(10, activation='relu'))\n",
    "model_20s.add(tf.keras.layers.Dropout(0.4))\n",
    "model_20s.add(tf.keras.layers.Dense(32, activation='sigmoid'))"
   ]
  },
  {
   "cell_type": "code",
   "execution_count": 99,
   "metadata": {
    "colab": {
     "base_uri": "https://localhost:8080/"
    },
    "id": "O3xlLMcJoupy",
    "outputId": "119c335c-1a92-4e37-9676-14068d7bf678"
   },
   "outputs": [
    {
     "name": "stdout",
     "output_type": "stream",
     "text": [
      "Model: \"sequential_2\"\n",
      "_________________________________________________________________\n",
      "Layer (type)                 Output Shape              Param #   \n",
      "=================================================================\n",
      "reshape_2 (Reshape)          (None, 66387)             0         \n",
      "_________________________________________________________________\n",
      "dense_6 (Dense)              (None, 100)               6638800   \n",
      "_________________________________________________________________\n",
      "dropout_4 (Dropout)          (None, 100)               0         \n",
      "_________________________________________________________________\n",
      "dense_7 (Dense)              (None, 10)                1010      \n",
      "_________________________________________________________________\n",
      "dropout_5 (Dropout)          (None, 10)                0         \n",
      "_________________________________________________________________\n",
      "dense_8 (Dense)              (None, 32)                352       \n",
      "=================================================================\n",
      "Total params: 6,640,162\n",
      "Trainable params: 6,640,162\n",
      "Non-trainable params: 0\n",
      "_________________________________________________________________\n"
     ]
    }
   ],
   "source": [
    "model_20s.summary()"
   ]
  },
  {
   "cell_type": "code",
   "execution_count": 100,
   "metadata": {
    "id": "hdvDy-7mousj"
   },
   "outputs": [],
   "source": [
    "# Compile the model\n",
    "adam_op = tf.keras.optimizers.Adam(lr=0.01)\n",
    "model_20s.compile(optimizer=adam_op, loss='categorical_crossentropy', metrics=['acc'])"
   ]
  },
  {
   "cell_type": "code",
   "execution_count": 101,
   "metadata": {
    "colab": {
     "base_uri": "https://localhost:8080/"
    },
    "id": "Olc8wjTmpNYp",
    "outputId": "883584a5-9114-47c7-ab5d-e2aff45197ff"
   },
   "outputs": [
    {
     "name": "stdout",
     "output_type": "stream",
     "text": [
      "Epoch 1/30\n",
      "154/154 [==============================] - 2s 9ms/step - loss: 2.3286 - acc: 0.4680 - val_loss: 2.0038 - val_acc: 0.4705\n",
      "INFO:tensorflow:Assets written to: ./checkpoint/assets\n",
      "Epoch 2/30\n",
      "154/154 [==============================] - 1s 7ms/step - loss: 1.8098 - acc: 0.4922 - val_loss: 1.9595 - val_acc: 0.4948\n",
      "INFO:tensorflow:Assets written to: ./checkpoint/assets\n",
      "Epoch 3/30\n",
      "154/154 [==============================] - 1s 7ms/step - loss: 1.5509 - acc: 0.5467 - val_loss: 2.0299 - val_acc: 0.5019\n",
      "Epoch 4/30\n",
      "154/154 [==============================] - 1s 7ms/step - loss: 1.3995 - acc: 0.5727 - val_loss: 2.0589 - val_acc: 0.5086\n",
      "Epoch 5/30\n",
      "154/154 [==============================] - 1s 7ms/step - loss: 1.3002 - acc: 0.5986 - val_loss: 2.0916 - val_acc: 0.4619\n",
      "Epoch 6/30\n",
      "154/154 [==============================] - 1s 7ms/step - loss: 1.2224 - acc: 0.6220 - val_loss: 2.1085 - val_acc: 0.4871\n",
      "Epoch 7/30\n",
      "154/154 [==============================] - 1s 7ms/step - loss: 1.1553 - acc: 0.6396 - val_loss: 2.1946 - val_acc: 0.4890\n",
      "Epoch 8/30\n",
      "154/154 [==============================] - 1s 7ms/step - loss: 1.1391 - acc: 0.6424 - val_loss: 2.3682 - val_acc: 0.4957\n",
      "Epoch 9/30\n",
      "154/154 [==============================] - 1s 7ms/step - loss: 1.0924 - acc: 0.6608 - val_loss: 2.4621 - val_acc: 0.4790\n",
      "Epoch 10/30\n",
      "154/154 [==============================] - 1s 7ms/step - loss: 1.0782 - acc: 0.6673 - val_loss: 2.3027 - val_acc: 0.4757\n",
      "Epoch 11/30\n",
      "154/154 [==============================] - 1s 8ms/step - loss: 1.0726 - acc: 0.6667 - val_loss: 2.3491 - val_acc: 0.4805\n",
      "Epoch 12/30\n",
      "154/154 [==============================] - 1s 7ms/step - loss: 1.0490 - acc: 0.6733 - val_loss: 2.3708 - val_acc: 0.4800\n"
     ]
    },
    {
     "data": {
      "text/plain": [
       "<tensorflow.python.keras.callbacks.History at 0x7f4b7f8bf350>"
      ]
     },
     "execution_count": 101,
     "metadata": {
      "tags": []
     },
     "output_type": "execute_result"
    }
   ],
   "source": [
    "check_point_3 = ModelCheckpoint('./checkpoint',monitor='val_loss',save_best_only=True,save_freq='epoch')\n",
    "callback_3 = tf.keras.callbacks.EarlyStopping(monitor='val_loss',patience = 10,restore_best_weights=True,mode = 'min')\n",
    "model_20s.fit( x=X_train_NN_20s.toarray(), y=Y_train_NN_20s, batch_size=32, epochs=30, validation_split=0.3,callbacks=[callback_3,check_point_3])"
   ]
  },
  {
   "cell_type": "code",
   "execution_count": 102,
   "metadata": {
    "colab": {
     "base_uri": "https://localhost:8080/"
    },
    "id": "J7W1HM-1pUqi",
    "outputId": "26b4b8e6-f976-4557-f763-e9bc20ad6f0e"
   },
   "outputs": [
    {
     "name": "stdout",
     "output_type": "stream",
     "text": [
      "94/94 [==============================] - 0s 5ms/step - loss: 4.6998 - acc: 0.0043\n"
     ]
    },
    {
     "data": {
      "text/plain": [
       "[4.699831008911133, 0.004333333112299442]"
      ]
     },
     "execution_count": 102,
     "metadata": {
      "tags": []
     },
     "output_type": "execute_result"
    }
   ],
   "source": [
    "##Loaded Back, Compiled and evaluated with the TestData Set\n",
    "model_20s.evaluate(X_test_NN_20s.toarray(),Y_test_NN_20s)"
   ]
  },
  {
   "cell_type": "code",
   "execution_count": 103,
   "metadata": {
    "id": "btK81Nh3pbmY"
   },
   "outputs": [],
   "source": [
    "y_pred_NN_20s = model_20s.predict(X_test_NN_20s.toarray())"
   ]
  },
  {
   "cell_type": "code",
   "execution_count": 104,
   "metadata": {
    "colab": {
     "base_uri": "https://localhost:8080/"
    },
    "id": "bnQRBrUppj_X",
    "outputId": "74bbce16-fd4f-4483-ce5c-6f0159a5f657"
   },
   "outputs": [
    {
     "name": "stdout",
     "output_type": "stream",
     "text": [
      "For the Age Group of 20s predicted -  32\n",
      "For the Age Group of 20s True Label -  25\n",
      "For the Age Group of 20s predicted -  32\n",
      "For the Age Group of 20s True Label -  29\n",
      "For the Age Group of 20s predicted -  32\n",
      "For the Age Group of 20s True Label -  24\n",
      "For the Age Group of 20s predicted -  32\n",
      "For the Age Group of 20s True Label -  29\n",
      "For the Age Group of 20s predicted -  32\n",
      "For the Age Group of 20s True Label -  15\n"
     ]
    }
   ],
   "source": [
    "print(\"For the Age Group of 20s predicted - \",y_pred_NN_20s[0].argmax()+1)\n",
    "print(\"For the Age Group of 20s True Label - \",Y_test_NN_20s[0].argmax()+1)\n",
    "\n",
    "print(\"For the Age Group of 20s predicted - \",y_pred_NN_20s[100].argmax()+1)\n",
    "print(\"For the Age Group of 20s True Label - \",Y_test_NN_20s[100].argmax()+1)\n",
    "\n",
    "print(\"For the Age Group of 20s predicted - \",y_pred_NN_20s[200].argmax()+1)\n",
    "print(\"For the Age Group of 20s True Label - \",Y_test_NN_20s[200].argmax()+1)\n",
    "\n",
    "print(\"For the Age Group of 20s predicted - \",y_pred_NN_20s[5].argmax()+1)\n",
    "print(\"For the Age Group of 20s True Label - \",Y_test_NN_20s[5].argmax()+1)\n",
    "\n",
    "print(\"For the Age Group of 20s predicted - \",y_pred_NN_20s[7].argmax()+1)\n",
    "print(\"For the Age Group of 20s True Label - \",Y_test_NN_20s[7].argmax()+1)"
   ]
  },
  {
   "cell_type": "code",
   "execution_count": 212,
   "metadata": {
    "colab": {
     "base_uri": "https://localhost:8080/"
    },
    "id": "CdmbonTILnnB",
    "outputId": "eaf43916-2ecc-43b3-ee92-04251dddf341"
   },
   "outputs": [
    {
     "name": "stdout",
     "output_type": "stream",
     "text": [
      "                      precision    recall  f1-score   support\n",
      "\n",
      "          Accounting       0.00      0.00      0.00         0\n",
      "         Advertising       0.00      0.00      0.00         0\n",
      "        Architecture       0.00      0.00      0.00         0\n",
      "                Arts       0.00      0.00      0.00         0\n",
      "          Automotive       0.00      0.00      0.00         0\n",
      "             Banking       0.00      0.00      0.00         0\n",
      "    BusinessServices       0.00      0.00      0.00         0\n",
      "           Chemicals       0.00      0.00      0.00         0\n",
      "Communications-Media       0.00      0.00      0.00         0\n",
      "        Construction       0.00      0.00      0.00         0\n",
      "          Consulting       0.00      0.00      0.00         0\n",
      "           Education       0.00      0.00      0.00         0\n",
      "         Engineering       0.00      0.00      0.00         9\n",
      "          Government       0.00      0.00      0.00         0\n",
      "      HumanResources       0.00      0.00      0.00         0\n",
      "            Internet       0.00      0.00      0.00         0\n",
      "   InvestmentBanking       0.00      0.00      0.00         0\n",
      "                 Law       0.00      0.00      0.00         0\n",
      "           Marketing       0.00      0.00      0.00         7\n",
      "            Military       0.00      0.00      0.00         0\n",
      "   Museums-Libraries       0.00      0.00      0.00         0\n",
      "          Non-Profit       0.00      0.00      0.00         0\n",
      "          Publishing       0.00      0.00      0.00         0\n",
      "          RealEstate       0.00      0.00      0.00         0\n",
      "            Religion       0.00      0.00      0.00         0\n",
      "             Science       0.00      0.00      0.00         0\n",
      "   Sports-Recreation       0.00      0.00      0.00         0\n",
      "             Student       0.00      0.00      0.00        78\n",
      "          Technology       0.01      0.09      0.02       140\n",
      "              indUnk       0.00      0.00      0.00      2766\n",
      "\n",
      "            accuracy                           0.00      3000\n",
      "           macro avg       0.00      0.00      0.00      3000\n",
      "        weighted avg       0.00      0.00      0.00      3000\n",
      "\n"
     ]
    }
   ],
   "source": [
    "print(classification_report(np.argmax(y_pred_NN_20s, axis=1) , np.argmax(Y_test_NN_20s,axis=1),target_names=['Accounting', 'Advertising', 'Architecture', 'Arts', 'Automotive',\n",
    "       'Banking', 'BusinessServices', 'Chemicals', 'Communications-Media',\n",
    "       'Construction', 'Consulting', 'Education', 'Engineering',\n",
    "       'Government', 'HumanResources', 'Internet', 'InvestmentBanking',\n",
    "       'Law', 'Marketing', 'Military', 'Museums-Libraries', 'Non-Profit',\n",
    "       'Publishing', 'RealEstate', 'Religion', 'Science',\n",
    "       'Sports-Recreation', 'Student', 'Technology',  'indUnk']))"
   ]
  },
  {
   "cell_type": "markdown",
   "metadata": {
    "id": "Gi7Bds6nWoRn"
   },
   "source": [
    "# **Observation from the NN model for Age-Group 20s** \n",
    "\n",
    "- Test accuracy is too low as 0.0043 and training and Validation accuracy are more, looks to be under fit model.\n",
    "- From the predicted vs True label we can infer the below.\n",
    "  - For the Age Group of 30s predicted -  32  -- the corresponding label is indUnk.\n",
    "\n",
    "  - For the Age Group of 30s True Label -  25  -- respective label is Religion.\n",
    "\n",
    "  - For the Age Group of 30s predicted -  32  -- respective label is indUnk.\n",
    "\n",
    "  - For the Age Group of 30s True Label -  29 -- respective label is Technology.\n",
    "\n",
    "  - For the Age Group of 30s predicted -  32  -- respective label is indUnk.\n",
    "\n",
    "  - For the Age Group of 30s True Label -  24 -- respective label is RealEstate.\n",
    "\n",
    "  - For the Age Group of 30s predicted -  32 -- the respective label is indUnk.\n",
    "\n",
    "  - For the Age Group of 30s True Label -  29   -- the corresponding label is Technology.\n",
    "\n",
    "  - For the Age Group of 30s predicted -  32 -- the respective label is indUnk.\n",
    "\n",
    "  - For the Age Group of 30s True Label -  15    -- the Corresponding lable is HumanResources.\n",
    "\n",
    "- From the classification Report the label Technology has percision as 0.01 and recall as 0.09      "
   ]
  },
  {
   "cell_type": "code",
   "execution_count": 49,
   "metadata": {
    "id": "IYBlPUrrpkB-"
   },
   "outputs": [],
   "source": [
    "# As the session is getting Crash separating the blog with age range. Age Range 10s text blog considering only the first 10000 blogs\n",
    "tfidvectorizer_10s = TfidfVectorizer(min_df=0.,max_df=1.,use_idf=True)\n",
    "cvect_10s = tfidvectorizer_10s.fit_transform(blog_df[blog_df['Age_Range'] == '10s']['keyword'].iloc[:10000])"
   ]
  },
  {
   "cell_type": "code",
   "execution_count": 50,
   "metadata": {
    "id": "Glrq2rzWpkHB"
   },
   "outputs": [],
   "source": [
    "X_10s = cvect_10s\n",
    "Y_10s = blog_df[blog_df['Age_Range'] == '10s']['topic'].iloc[:10000]"
   ]
  },
  {
   "cell_type": "code",
   "execution_count": 51,
   "metadata": {
    "colab": {
     "base_uri": "https://localhost:8080/"
    },
    "id": "oW5USZglpkJv",
    "outputId": "6aa06250-307d-4b78-d19e-d753c40d745c"
   },
   "outputs": [
    {
     "data": {
      "text/plain": [
       "array(['Accounting', 'Agriculture', 'Arts', 'Automotive', 'Biotech',\n",
       "       'BusinessServices', 'Education', 'Fashion', 'Government',\n",
       "       'HumanResources', 'Internet', 'Military', 'Non-Profit', 'Religion',\n",
       "       'Science', 'Sports-Recreation', 'Student', 'Technology', 'indUnk'],\n",
       "      dtype=object)"
      ]
     },
     "execution_count": 51,
     "metadata": {
      "tags": []
     },
     "output_type": "execute_result"
    }
   ],
   "source": [
    "np.unique(Y_10s)"
   ]
  },
  {
   "cell_type": "code",
   "execution_count": 52,
   "metadata": {
    "colab": {
     "base_uri": "https://localhost:8080/"
    },
    "id": "zFSnEE-tpkL6",
    "outputId": "397e0511-d674-4fdd-964c-931521e6cef7"
   },
   "outputs": [
    {
     "data": {
      "text/plain": [
       "(19,)"
      ]
     },
     "execution_count": 52,
     "metadata": {
      "tags": []
     },
     "output_type": "execute_result"
    }
   ],
   "source": [
    "np.unique(Y_10s).shape"
   ]
  },
  {
   "cell_type": "code",
   "execution_count": 53,
   "metadata": {
    "id": "HvAz2ySP_v2L"
   },
   "outputs": [],
   "source": [
    "X_train_NN_10s,X_test_NN_10s,Y_train_NN_10s,Y_test_NN_10s = train_test_split(X_10s,Y_10s,test_size = 0.30,random_state =5)"
   ]
  },
  {
   "cell_type": "code",
   "execution_count": 54,
   "metadata": {
    "colab": {
     "base_uri": "https://localhost:8080/"
    },
    "id": "tu7he4h4_3IV",
    "outputId": "cc1becb0-aea7-46f1-c868-ed80146cfd17"
   },
   "outputs": [
    {
     "data": {
      "text/plain": [
       "(7000, 70992)"
      ]
     },
     "execution_count": 54,
     "metadata": {
      "tags": []
     },
     "output_type": "execute_result"
    }
   ],
   "source": [
    "#Size of Document Term Matrix\n",
    "X_train_NN_10s.shape"
   ]
  },
  {
   "cell_type": "code",
   "execution_count": 55,
   "metadata": {
    "id": "nNZqcs8i_658"
   },
   "outputs": [],
   "source": [
    "label_encoder = LabelEncoder()\n",
    "Y_train_NN_10s = label_encoder.fit_transform(Y_train_NN_10s)\n",
    "Y_test_NN_10s = label_encoder.fit_transform(Y_test_NN_10s)"
   ]
  },
  {
   "cell_type": "code",
   "execution_count": 56,
   "metadata": {
    "id": "kIBjMlkj_9z2"
   },
   "outputs": [],
   "source": [
    "Y_train_NN_10s = to_categorical(Y_train_NN_10s, num_classes=19)\n",
    "Y_test_NN_10s = to_categorical(Y_test_NN_10s, num_classes=19)"
   ]
  },
  {
   "cell_type": "code",
   "execution_count": 57,
   "metadata": {
    "id": "wfbTyYDX_92X"
   },
   "outputs": [],
   "source": [
    "model_10s = tf.keras.models.Sequential()\n",
    "model_10s.add(tf.keras.layers.Reshape((70992,),input_shape=(70992,)))\n",
    "#model.add(tf.keras.layers.BatchNormalization())\n",
    "model_10s.add(tf.keras.layers.Dense(100, activation='relu'))\n",
    "model_10s.add(tf.keras.layers.Dropout(0.4))\n",
    "model_10s.add(tf.keras.layers.Dense(10, activation='relu'))\n",
    "model_10s.add(tf.keras.layers.Dropout(0.4))\n",
    "model_10s.add(tf.keras.layers.Dense(19, activation='sigmoid'))"
   ]
  },
  {
   "cell_type": "code",
   "execution_count": 58,
   "metadata": {
    "colab": {
     "base_uri": "https://localhost:8080/"
    },
    "id": "BeTn_Rrz_94_",
    "outputId": "6d9b699c-2ccd-4c17-c4e5-a94fe19599bc"
   },
   "outputs": [
    {
     "name": "stdout",
     "output_type": "stream",
     "text": [
      "Model: \"sequential\"\n",
      "_________________________________________________________________\n",
      "Layer (type)                 Output Shape              Param #   \n",
      "=================================================================\n",
      "reshape (Reshape)            (None, 70992)             0         \n",
      "_________________________________________________________________\n",
      "dense (Dense)                (None, 100)               7099300   \n",
      "_________________________________________________________________\n",
      "dropout (Dropout)            (None, 100)               0         \n",
      "_________________________________________________________________\n",
      "dense_1 (Dense)              (None, 10)                1010      \n",
      "_________________________________________________________________\n",
      "dropout_1 (Dropout)          (None, 10)                0         \n",
      "_________________________________________________________________\n",
      "dense_2 (Dense)              (None, 19)                209       \n",
      "=================================================================\n",
      "Total params: 7,100,519\n",
      "Trainable params: 7,100,519\n",
      "Non-trainable params: 0\n",
      "_________________________________________________________________\n"
     ]
    }
   ],
   "source": [
    "model_10s.summary()"
   ]
  },
  {
   "cell_type": "code",
   "execution_count": 59,
   "metadata": {
    "id": "FbQvtQq-_97p"
   },
   "outputs": [],
   "source": [
    "# Compile the model\n",
    "adam_op = tf.keras.optimizers.Adam(lr=0.01)\n",
    "model_10s.compile(optimizer=adam_op, loss='categorical_crossentropy', metrics=['acc'])"
   ]
  },
  {
   "cell_type": "code",
   "execution_count": 60,
   "metadata": {
    "colab": {
     "base_uri": "https://localhost:8080/"
    },
    "id": "xQ4n-KxcART0",
    "outputId": "86aa3b62-07e3-463f-e38b-e1005f5017db"
   },
   "outputs": [
    {
     "name": "stdout",
     "output_type": "stream",
     "text": [
      "Epoch 1/30\n",
      "154/154 [==============================] - 3s 10ms/step - loss: 1.4580 - acc: 0.4706 - val_loss: 1.1527 - val_acc: 0.5733\n",
      "INFO:tensorflow:Assets written to: ./checkpoint/assets\n",
      "Epoch 2/30\n",
      "154/154 [==============================] - 1s 7ms/step - loss: 1.0142 - acc: 0.6416 - val_loss: 1.0438 - val_acc: 0.6329\n",
      "INFO:tensorflow:Assets written to: ./checkpoint/assets\n",
      "Epoch 3/30\n",
      "154/154 [==============================] - 1s 8ms/step - loss: 0.7332 - acc: 0.7512 - val_loss: 1.0815 - val_acc: 0.6462\n",
      "Epoch 4/30\n",
      "154/154 [==============================] - 1s 8ms/step - loss: 0.6039 - acc: 0.7935 - val_loss: 1.1907 - val_acc: 0.6533\n",
      "Epoch 5/30\n",
      "154/154 [==============================] - 1s 7ms/step - loss: 0.5122 - acc: 0.8343 - val_loss: 1.2612 - val_acc: 0.6395\n",
      "Epoch 6/30\n",
      "154/154 [==============================] - 1s 7ms/step - loss: 0.4680 - acc: 0.8455 - val_loss: 1.4223 - val_acc: 0.6457\n",
      "Epoch 7/30\n",
      "154/154 [==============================] - 1s 7ms/step - loss: 0.4549 - acc: 0.8582 - val_loss: 1.6314 - val_acc: 0.6438\n",
      "Epoch 8/30\n",
      "154/154 [==============================] - 1s 8ms/step - loss: 0.4418 - acc: 0.8576 - val_loss: 1.5636 - val_acc: 0.6238\n",
      "Epoch 9/30\n",
      "154/154 [==============================] - 1s 8ms/step - loss: 0.4120 - acc: 0.8761 - val_loss: 1.6481 - val_acc: 0.6371\n",
      "Epoch 10/30\n",
      "154/154 [==============================] - 1s 8ms/step - loss: 0.4278 - acc: 0.8704 - val_loss: 1.5720 - val_acc: 0.6429\n",
      "Epoch 11/30\n",
      "154/154 [==============================] - 1s 7ms/step - loss: 0.3969 - acc: 0.8729 - val_loss: 1.6485 - val_acc: 0.6371\n",
      "Epoch 12/30\n",
      "154/154 [==============================] - 1s 7ms/step - loss: 0.3901 - acc: 0.8812 - val_loss: 1.8043 - val_acc: 0.6429\n"
     ]
    },
    {
     "data": {
      "text/plain": [
       "<tensorflow.python.keras.callbacks.History at 0x7f4bf3356790>"
      ]
     },
     "execution_count": 60,
     "metadata": {
      "tags": []
     },
     "output_type": "execute_result"
    }
   ],
   "source": [
    "check_point_4 = ModelCheckpoint('./checkpoint',monitor='val_loss',save_best_only=True,save_freq='epoch')\n",
    "callback_4= tf.keras.callbacks.EarlyStopping(monitor='val_loss',patience = 10,restore_best_weights=True,mode = 'min')\n",
    "model_10s.fit( x=X_train_NN_10s.toarray(), y=Y_train_NN_10s, batch_size=32, epochs=30, validation_split=0.3,callbacks=[callback_4,check_point_4])"
   ]
  },
  {
   "cell_type": "code",
   "execution_count": 61,
   "metadata": {
    "id": "zrpug1AZARWO"
   },
   "outputs": [],
   "source": [
    "y_pred_NN_10s = model_10s.predict(X_test_NN_10s.toarray())"
   ]
  },
  {
   "cell_type": "code",
   "execution_count": 62,
   "metadata": {
    "colab": {
     "base_uri": "https://localhost:8080/"
    },
    "id": "cq_fFqDVARYt",
    "outputId": "9ac11d4e-a054-4a79-b2a7-a8c1d5dd4287"
   },
   "outputs": [
    {
     "name": "stdout",
     "output_type": "stream",
     "text": [
      "94/94 [==============================] - 0s 5ms/step - loss: 8.0778 - acc: 0.0020\n"
     ]
    },
    {
     "data": {
      "text/plain": [
       "[8.077788352966309, 0.0020000000949949026]"
      ]
     },
     "execution_count": 62,
     "metadata": {
      "tags": []
     },
     "output_type": "execute_result"
    }
   ],
   "source": [
    "##Loaded Back, Compiled and evaluated with the TestData Set\n",
    "model_10s.evaluate(X_test_NN_10s.toarray(),Y_test_NN_10s)"
   ]
  },
  {
   "cell_type": "code",
   "execution_count": 63,
   "metadata": {
    "colab": {
     "base_uri": "https://localhost:8080/"
    },
    "id": "q8v9Ogq-Ar_8",
    "outputId": "0a94f0a5-c9d8-4456-cf10-b8c46337b3eb"
   },
   "outputs": [
    {
     "name": "stdout",
     "output_type": "stream",
     "text": [
      "For the Age Group of 10s predicted -  17\n",
      "For the Age Group of 10s True Label -  18\n",
      "For the Age Group of 10s predicted -  19\n",
      "For the Age Group of 10s True Label -  16\n",
      "For the Age Group of 10s predicted -  19\n",
      "For the Age Group of 10s True Label -  18\n",
      "For the Age Group of 10s predicted -  19\n",
      "For the Age Group of 10s True Label -  18\n",
      "For the Age Group of 10s predicted -  19\n",
      "For the Age Group of 10s True Label -  18\n"
     ]
    }
   ],
   "source": [
    "print(\"For the Age Group of 10s predicted - \",y_pred_NN_10s[0].argmax()+1)\n",
    "print(\"For the Age Group of 10s True Label - \",Y_test_NN_10s[0].argmax()+1)\n",
    "\n",
    "print(\"For the Age Group of 10s predicted - \",y_pred_NN_10s[100].argmax()+1)\n",
    "print(\"For the Age Group of 10s True Label - \",Y_test_NN_10s[100].argmax()+1)\n",
    "\n",
    "print(\"For the Age Group of 10s predicted - \",y_pred_NN_10s[200].argmax()+1)\n",
    "print(\"For the Age Group of 10s True Label - \",Y_test_NN_10s[200].argmax()+1)\n",
    "\n",
    "print(\"For the Age Group of 10s predicted - \",y_pred_NN_10s[5].argmax()+1)\n",
    "print(\"For the Age Group of 10s True Label - \",Y_test_NN_10s[5].argmax()+1)\n",
    "\n",
    "print(\"For the Age Group of 10s predicted - \",y_pred_NN_10s[7].argmax()+1)\n",
    "print(\"For the Age Group of 10s True Label - \",Y_test_NN_10s[7].argmax()+1)"
   ]
  },
  {
   "cell_type": "code",
   "execution_count": 202,
   "metadata": {
    "colab": {
     "base_uri": "https://localhost:8080/"
    },
    "id": "n0G8PtXDA203",
    "outputId": "75c62c56-8462-474b-9b07-56f6305d194d"
   },
   "outputs": [
    {
     "name": "stdout",
     "output_type": "stream",
     "text": [
      "                   precision    recall  f1-score   support\n",
      "\n",
      "       Accounting       0.00      0.00      0.00         0\n",
      "      Agriculture       0.00      0.00      0.00         0\n",
      "             Arts       0.00      0.00      0.00         0\n",
      "       Automotive       0.00      0.00      0.00         0\n",
      "          Biotech       0.00      0.00      0.00         0\n",
      " BusinessServices       0.00      0.00      0.00         0\n",
      "        Education       0.00      0.00      0.00         0\n",
      "          Fashion       0.00      0.00      0.00         0\n",
      "       Government       0.00      0.00      0.00         0\n",
      "   HumanResources       0.00      0.00      0.00         0\n",
      "         Internet       0.00      0.00      0.00         0\n",
      "         Military       0.00      0.00      0.00         0\n",
      "       Non-Profit       0.00      0.00      0.00         0\n",
      "         Religion       0.00      0.00      0.00         0\n",
      "          Science       0.00      0.00      0.00         0\n",
      "Sports-Recreation       0.00      0.00      0.00         0\n",
      "          Student       1.00      0.00      0.01      1892\n",
      "       Technology       0.00      0.00      0.00         0\n",
      "           indUnk       0.00      0.00      0.00      1108\n",
      "\n",
      "         accuracy                           0.00      3000\n",
      "        macro avg       0.05      0.00      0.00      3000\n",
      "     weighted avg       0.63      0.00      0.00      3000\n",
      "\n"
     ]
    }
   ],
   "source": [
    "print(classification_report(np.argmax(y_pred_NN_10s, axis=1) , np.argmax(Y_test_NN_10s,axis=1),target_names=['Accounting', 'Agriculture', 'Arts', 'Automotive', 'Biotech',\n",
    "       'BusinessServices', 'Education', 'Fashion', 'Government','HumanResources', 'Internet', 'Military', 'Non-Profit', 'Religion','Science', 'Sports-Recreation', 'Student', 'Technology', 'indUnk']))"
   ]
  },
  {
   "cell_type": "markdown",
   "metadata": {
    "id": "WGFsJN8uYecl"
   },
   "source": [
    "# **Observation from the NN model for Age-Group 10s** \n",
    "\n",
    "- Test accuracy is too low as 0.0020 and training and Validation accuracy are more, looks to be under fit model.\n",
    "- From the predicted vs True label we can infer the below.\n",
    "  - For the Age Group of 30s predicted -  17  -- the corresponding label is Student.\n",
    "\n",
    "  - For the Age Group of 30s True Label -  18  -- respective label is Technology.\n",
    "\n",
    "  - For the Age Group of 30s predicted -  19  -- respective label is indUnk.\n",
    "\n",
    "  - For the Age Group of 30s True Label -  16 -- respective label is Technology.\n",
    "\n",
    "  - For the Age Group of 30s predicted -  19  -- respective label is indUnk.\n",
    "\n",
    "  - For the Age Group of 30s True Label -  18 -- respective label is Technology.\n",
    "\n",
    "  - For the Age Group of 30s predicted -  19 -- the respective label is indUnk.\n",
    "\n",
    "  - For the Age Group of 30s True Label -  18 -- the corresponding label is Technology.\n",
    "\n",
    "  - For the Age Group of 30s predicted -  19 -- the respective label is indUnk.\n",
    "\n",
    "  - For the Age Group of 30s True Label -  18 -- the Corresponding lable is Technology.\n",
    "\n",
    "- From the classification Report the label Student has percision as 100 and recall as 0.00     "
   ]
  },
  {
   "cell_type": "code",
   "execution_count": null,
   "metadata": {
    "id": "aOnTgPOjZgYL"
   },
   "outputs": [],
   "source": []
  }
 ],
 "metadata": {
  "accelerator": "GPU",
  "colab": {
   "collapsed_sections": [],
   "machine_shape": "hm",
   "name": "PGPAIML_R8_STATISTICALNPL_1.ipynb",
   "provenance": []
  },
  "kernelspec": {
   "display_name": "Python 3",
   "language": "python",
   "name": "python3"
  },
  "language_info": {
   "codemirror_mode": {
    "name": "ipython",
    "version": 3
   },
   "file_extension": ".py",
   "mimetype": "text/x-python",
   "name": "python",
   "nbconvert_exporter": "python",
   "pygments_lexer": "ipython3",
   "version": "3.7.4"
  }
 },
 "nbformat": 4,
 "nbformat_minor": 1
}
