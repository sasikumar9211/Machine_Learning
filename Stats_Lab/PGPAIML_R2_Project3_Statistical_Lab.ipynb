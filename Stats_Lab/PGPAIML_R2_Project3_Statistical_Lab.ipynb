{
 "cells": [
  {
   "cell_type": "code",
   "execution_count": 96,
   "metadata": {},
   "outputs": [],
   "source": [
    "import numpy as np\n",
    "import pandas as pd\n",
    "import scipy.stats as stats\n",
    "from scipy.stats             import ttest_1samp,ttest_ind, wilcoxon\n",
    "from statsmodels.stats.power import ttest_power\n",
    "import matplotlib.pyplot     as     plt"
   ]
  },
  {
   "cell_type": "markdown",
   "metadata": {},
   "source": [
    "## Q1 The probability that a visitor to the website will not click on any advertisement. \n"
   ]
  },
  {
   "cell_type": "code",
   "execution_count": 110,
   "metadata": {},
   "outputs": [
    {
     "name": "stdout",
     "output_type": "stream",
     "text": [
      "Probability of AD1 clicked 0.02\n",
      "Probability of AD2 clicked 0.010714285714285714\n",
      "Probability of AD3 clicked 0.005\n",
      "Visitors Without clicked on any AD : 2700\n",
      "The probability that a visitor to the website will not click on any advertisement: 0.9642857142857143\n"
     ]
    }
   ],
   "source": [
    "Total_AD1 = 56  # TOtal Visitors Visited AD1\n",
    "Total_AD2 = 30  # TOtal Visitors Visited AD2\n",
    "Total_AD3 = 14  # TOtal Visitors Visited AD3\n",
    "Total_Visitor  =2800  # TOtal Visitors Visited \n",
    "\n",
    "\n",
    "\n",
    "P_of_AD1 = 56/2800  # Probability of AD1 clicked\n",
    "P_of_AD2 = 30/2800  # Probability of AD2 clicked\n",
    "P_of_AD3 = 14/2800  # Probability of AD3 clicked\n",
    "print('Probability of AD1 clicked',P_of_AD1)\n",
    "print('Probability of AD2 clicked',P_of_AD2)\n",
    "print('Probability of AD3 clicked',P_of_AD3)\n",
    "Total_AD4 = Total_Visitor - (Total_AD1+Total_AD2+Total_AD3)  #Visitors Without clicked on any AD.\n",
    "\n",
    "print('Visitors Without clicked on any AD :',Total_AD4)\n",
    "\n",
    "P_of_AD4 = Total_AD4/Total_Visitor\n",
    "\n",
    "print('The probability that a visitor to the website will not click on any advertisement:',P_of_AD4)"
   ]
  },
  {
   "cell_type": "markdown",
   "metadata": {},
   "source": [
    "## Q2 The probability that a visitor to the website will click on an advertisement. \n"
   ]
  },
  {
   "cell_type": "code",
   "execution_count": 122,
   "metadata": {},
   "outputs": [
    {
     "name": "stdout",
     "output_type": "stream",
     "text": [
      "Persons Click on AD 100\n",
      "The probability that a visitor to the website will click on an advertisement: 0.03571428571428571\n"
     ]
    }
   ],
   "source": [
    "Total_AD1 = 56  # TOtal Visitors Visited AD1\n",
    "Total_AD2 = 30  # TOtal Visitors Visited AD2\n",
    "Total_AD3 = 14  # TOtal Visitors Visited AD3\n",
    "Total_Visitor  =2800  # TOtal Visitors Visited \n",
    "\n",
    "\n",
    "\n",
    "Total_Click_on_AD = Total_AD1+Total_AD2+Total_AD3\n",
    "print('Persons Click on AD',Total_Click_on_AD)\n",
    "\n",
    "P_of_Click_on_AD = Total_Click_on_AD/Total_Visitor\n",
    "\n",
    "print('The probability that a visitor to the website will click on an advertisement:',P_of_Click_on_AD)"
   ]
  },
  {
   "cell_type": "markdown",
   "metadata": {},
   "source": [
    "## Q3 The probability that a visitor to the website will click on more than one advertisement. \n"
   ]
  },
  {
   "cell_type": "code",
   "execution_count": 121,
   "metadata": {},
   "outputs": [
    {
     "name": "stdout",
     "output_type": "stream",
     "text": [
      "Persons Click more than one AD 44\n",
      "The probability that a visitor to the website will click on more than one advertisement: 0.015714285714285715\n"
     ]
    }
   ],
   "source": [
    "Total_AD1 = 56  # TOtal Visitors Visited AD1\n",
    "Total_AD2 = 30  # TOtal Visitors Visited AD2\n",
    "Total_AD3 = 14  # TOtal Visitors Visited AD3\n",
    "Total_Visitor  =2800  # TOtal Visitors Visited \n",
    "\n",
    "\n",
    "\n",
    "Total_Click_on_morethan_one_AD = Total_AD2+Total_AD3\n",
    "print('Persons Click more than one AD',Total_Click_on_morethan_one_AD)\n",
    "\n",
    "P_of_Click_on_morethan_one_AD = Total_Click_on_morethan_one_AD/Total_Visitor\n",
    "\n",
    "print('The probability that a visitor to the website will click on more than one advertisement:',P_of_Click_on_morethan_one_AD)"
   ]
  },
  {
   "cell_type": "markdown",
   "metadata": {},
   "source": [
    "## Q4 Calculate the probability that a customer complaint will be about both product quality and late delivery. \n"
   ]
  },
  {
   "cell_type": "code",
   "execution_count": 116,
   "metadata": {},
   "outputs": [
    {
     "name": "stdout",
     "output_type": "stream",
     "text": [
      "Late_Delivery intersection Poor_Product_Quality 40\n",
      "The probability that a customer complaint will be about both product quality and late delivery 0.4\n"
     ]
    }
   ],
   "source": [
    "Late_Delivery = 80\n",
    "Poor_Product_Quality =60\n",
    "Total_Complaint =100\n",
    "\n",
    "Intersection = Late_Delivery+Poor_Product_Quality -Total_Complaint\n",
    "\n",
    "print('Late_Delivery intersection Poor_Product_Quality',Intersection)\n",
    "\n",
    "P_of_both = Intersection/Total_Complaint\n",
    "\n",
    "print('The probability that a customer complaint will be about both product quality and late delivery',P_of_both)"
   ]
  },
  {
   "cell_type": "markdown",
   "metadata": {},
   "source": [
    "## Q5 - What is the probability that a complaint will be only about late delivery? \n"
   ]
  },
  {
   "cell_type": "code",
   "execution_count": 119,
   "metadata": {},
   "outputs": [
    {
     "name": "stdout",
     "output_type": "stream",
     "text": [
      "The probability that a complaint will be only about late delivery 0.4\n"
     ]
    }
   ],
   "source": [
    "Late_Delivery = 80\n",
    "Poor_Product_Quality =60\n",
    "Total_Complaint =100\n",
    "\n",
    "Intersection = Late_Delivery+Poor_Product_Quality -Total_Complaint\n",
    "\n",
    "P_of_only_Late_Delivery = (Late_Delivery - Intersection)/Total_Complaint\n",
    "\n",
    "print('The probability that a complaint will be only about late delivery',P_of_only_Late_Delivery)"
   ]
  },
  {
   "cell_type": "markdown",
   "metadata": {},
   "source": [
    "## Q6 You are given the daily sugar intake of 11 diabetic patients in the following Python code. Is there any evidence to the claim that the average daily sugar intake of the diabetic patients is 7600 mg. "
   ]
  },
  {
   "cell_type": "code",
   "execution_count": 123,
   "metadata": {},
   "outputs": [
    {
     "name": "stdout",
     "output_type": "stream",
     "text": [
      "Average Sugar_Intake: 6783.727272727273\n",
      "stat=-2.29258420, p=0.04481625\n",
      "ALTERNATE HYPOTHESIS :average daily sugar intake of the diabetic patients is not 7600 mg\n"
     ]
    }
   ],
   "source": [
    "\n",
    "daily_intake = np.array([5560, 5770, 7640, 5180, 5690, 6435, 6803, 7689, 6876, 8213, 8765])\n",
    "\n",
    "print('Average Sugar_Intake:',np.mean(daily_intake))\n",
    "\n",
    "stat, p = ttest_1samp(daily_intake,7600)\n",
    "\n",
    "print('stat=%.8f, p=%.8f' % (stat, p))\n",
    "\n",
    "if p > 0.05:\n",
    "    print('NULL HYPOTHESIS : average daily sugar intake of the diabetic patients is 7600 mg')\n",
    "else:\n",
    "    print('ALTERNATE HYPOTHESIS :average daily sugar intake of the diabetic patients is not 7600 mg')"
   ]
  },
  {
   "cell_type": "markdown",
   "metadata": {},
   "source": [
    "## Q7Average annual salary of Data Scientists is different for those having Ph.D in Statistics and those who do not."
   ]
  },
  {
   "cell_type": "markdown",
   "metadata": {},
   "source": [
    "H0:Null Hypothesis --->  $\\mu_{PhD}$ = $\\mu_{NoPhD}$\n",
    "\n",
    "HA:Alternate Hypothesis --->  $\\mu_{PhD}$ != $\\mu_{NoPhD}$"
   ]
  },
  {
   "cell_type": "markdown",
   "metadata": {},
   "source": [
    "## Q8 Average annual salary of Data Scientists is more for those having Ph.D in Statistics and those who do not. "
   ]
  },
  {
   "cell_type": "markdown",
   "metadata": {},
   "source": [
    "H0 : Null Hypothesis --->  $\\mu_{PhD}$ <= $\\mu_{NoPhD}$  \n",
    "HA  : Alternate Hypothesis ---> $\\mu_{PhD}$ > $\\mu_{NoPhD}$"
   ]
  },
  {
   "cell_type": "markdown",
   "metadata": {},
   "source": [
    "## Q9 - Compare the following two unrelated samples. Data was collected on the weight of women and men enrolled in a weight reduction program. At 𝛼 α = 0.05, test whether the weight of these two samples is different.\n"
   ]
  },
  {
   "cell_type": "code",
   "execution_count": 103,
   "metadata": {},
   "outputs": [
    {
     "name": "stdout",
     "output_type": "stream",
     "text": [
      "stat=4.88634417, p=0.00024035\n",
      "ALTERNATE HYPOTHESIS MALE AND FEMALE WEIGHT IS DIFFERENT\n"
     ]
    }
   ],
   "source": [
    "from scipy.stats import ttest_ind\n",
    "\n",
    "Weight_Female       =  [ 53.8, 54.4, 51.2, 52.5, 61.0, 50.6, 51.6, 70.0]\n",
    "Weight_Male         =  [ 72.5, 80.3, 71.3, 67.7, 66.2, 73.4, 61.3, 76.8]\n",
    "\n",
    "stat, p = ttest_ind(Weight_Male,Weight_Female)\n",
    "print('stat=%.8f, p=%.8f' % (stat, p))\n",
    "if p > 0.05:\n",
    "    print('NULL HYPOTHSIS MALE AND FEMALE WEIGHT IS EQUAL')\n",
    "else:\n",
    "    print('ALTERNATE HYPOTHESIS MALE AND FEMALE WEIGHT IS DIFFERENT')"
   ]
  },
  {
   "cell_type": "markdown",
   "metadata": {},
   "source": [
    "## Q10 - A Cable service provider company is interested in checking whether or not the customer churn depends on customer segment. Use 5% as level of significance."
   ]
  },
  {
   "cell_type": "code",
   "execution_count": 79,
   "metadata": {},
   "outputs": [
    {
     "name": "stdout",
     "output_type": "stream",
     "text": [
      "stat=2.77997705, p=0.24907816, dof=2\n",
      "NULL HYPOTHSIS -customer churn doesnot depends on customer segment.Probably independent\n"
     ]
    }
   ],
   "source": [
    "from scipy.stats import chi2_contingency\n",
    "table = [[15, 24, 30],[142,  400,  389]]\n",
    "stat, p, dof, expected = chi2_contingency(table)\n",
    "print('stat=%.8f, p=%.8f, dof=%.0d' % (stat, p,dof))\n",
    "if p > 0.05:\n",
    "    print('NULL HYPOTHSIS -customer churn doesnot depends on customer segment.Probably independent')\n",
    "else:\n",
    "    print('ALTERNATE HYPOTHESIS - customer churn depends on customer segment.Probably dependent')"
   ]
  },
  {
   "cell_type": "code",
   "execution_count": null,
   "metadata": {},
   "outputs": [],
   "source": []
  }
 ],
 "metadata": {
  "kernelspec": {
   "display_name": "Python 3",
   "language": "python",
   "name": "python3"
  },
  "language_info": {
   "codemirror_mode": {
    "name": "ipython",
    "version": 3
   },
   "file_extension": ".py",
   "mimetype": "text/x-python",
   "name": "python",
   "nbconvert_exporter": "python",
   "pygments_lexer": "ipython3",
   "version": "3.7.4"
  }
 },
 "nbformat": 4,
 "nbformat_minor": 2
}
