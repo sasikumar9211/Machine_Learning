{
 "cells": [
  {
   "cell_type": "markdown",
   "metadata": {
    "id": "zUZjPnVXGz0Z"
   },
   "source": [
    "# The Iris Dataset\n",
    "The data set consists of 50 samples from each of three species of Iris (Iris setosa, Iris virginica and Iris versicolor). Four features were measured from each sample: the length and the width of the sepals and petals, in centimeters.\n",
    "\n",
    "The dataset contains a set of 150 records under five attributes - petal length, petal width, sepal length, sepal width and species."
   ]
  },
  {
   "cell_type": "markdown",
   "metadata": {
    "id": "RMbmpriavLE9"
   },
   "source": [
    "### Specifying the TensorFlow version\n",
    "Running `import tensorflow` will import the default version (currently 1.x). You can use 2.x by running a cell with the `tensorflow_version` magic **before** you run `import tensorflow`."
   ]
  },
  {
   "cell_type": "code",
   "execution_count": 2,
   "metadata": {
    "id": "fu8bUU__oa7h"
   },
   "outputs": [],
   "source": [
    "%tensorflow_version 2.x"
   ]
  },
  {
   "cell_type": "markdown",
   "metadata": {
    "id": "bLz1Ckvfvn6D"
   },
   "source": [
    "### Import TensorFlow\n",
    "Once you have specified a version via this magic, you can run `import tensorflow` as normal and verify which version was imported as follows:"
   ]
  },
  {
   "cell_type": "code",
   "execution_count": 43,
   "metadata": {
    "colab": {
     "base_uri": "https://localhost:8080/"
    },
    "id": "CWrzVTLOvn6M",
    "outputId": "ab9e515b-804e-4e0a-c2d8-10f624fdb865"
   },
   "outputs": [
    {
     "name": "stdout",
     "output_type": "stream",
     "text": [
      "2.4.1\n"
     ]
    }
   ],
   "source": [
    "import tensorflow as tf\n",
    "print(tf.__version__)"
   ]
  },
  {
   "cell_type": "markdown",
   "metadata": {
    "id": "_uYeJgkNuXNC"
   },
   "source": [
    "### Set random seed"
   ]
  },
  {
   "cell_type": "code",
   "execution_count": 44,
   "metadata": {
    "id": "lcASNsewsfQX"
   },
   "outputs": [],
   "source": [
    "tf.random.set_seed(42)"
   ]
  },
  {
   "cell_type": "markdown",
   "metadata": {
    "id": "5-vVQBBqg7DI"
   },
   "source": [
    "## Question 1"
   ]
  },
  {
   "cell_type": "markdown",
   "metadata": {
    "id": "kE0EDKvQhEIe"
   },
   "source": [
    "### Import dataset\n",
    "- Import iris dataset\n",
    "- Import the dataset using sklearn library"
   ]
  },
  {
   "cell_type": "code",
   "execution_count": 45,
   "metadata": {
    "id": "IOOWpD26Haq3"
   },
   "outputs": [],
   "source": [
    "from sklearn import datasets\n",
    "iris = datasets.load_iris()"
   ]
  },
  {
   "cell_type": "markdown",
   "metadata": {
    "id": "ta8YqInTh5v5"
   },
   "source": [
    "## Question 2"
   ]
  },
  {
   "cell_type": "markdown",
   "metadata": {
    "id": "HERt3drbhX0i"
   },
   "source": [
    "### Get features and label from the dataset in separate variable\n",
    "- you can get the features using .data method\n",
    "- you can get the features using .target method"
   ]
  },
  {
   "cell_type": "code",
   "execution_count": 46,
   "metadata": {
    "id": "0cV-_qHAHyvE"
   },
   "outputs": [],
   "source": [
    "X = iris.data\n",
    "y = iris.target"
   ]
  },
  {
   "cell_type": "code",
   "execution_count": 47,
   "metadata": {
    "id": "Z0ZzN1Tc_d9L"
   },
   "outputs": [],
   "source": [
    "import pandas as pd\n",
    "\n",
    "i = pd.DataFrame(X)"
   ]
  },
  {
   "cell_type": "code",
   "execution_count": 48,
   "metadata": {
    "colab": {
     "base_uri": "https://localhost:8080/",
     "height": 363
    },
    "id": "pI28YEkV_yqr",
    "outputId": "29febb4b-45b7-477c-bf7a-c6bb2bb52a09"
   },
   "outputs": [
    {
     "data": {
      "text/html": [
       "<div>\n",
       "<style scoped>\n",
       "    .dataframe tbody tr th:only-of-type {\n",
       "        vertical-align: middle;\n",
       "    }\n",
       "\n",
       "    .dataframe tbody tr th {\n",
       "        vertical-align: top;\n",
       "    }\n",
       "\n",
       "    .dataframe thead th {\n",
       "        text-align: right;\n",
       "    }\n",
       "</style>\n",
       "<table border=\"1\" class=\"dataframe\">\n",
       "  <thead>\n",
       "    <tr style=\"text-align: right;\">\n",
       "      <th></th>\n",
       "      <th>0</th>\n",
       "      <th>1</th>\n",
       "      <th>2</th>\n",
       "      <th>3</th>\n",
       "    </tr>\n",
       "  </thead>\n",
       "  <tbody>\n",
       "    <tr>\n",
       "      <th>0</th>\n",
       "      <td>5.1</td>\n",
       "      <td>3.5</td>\n",
       "      <td>1.4</td>\n",
       "      <td>0.2</td>\n",
       "    </tr>\n",
       "    <tr>\n",
       "      <th>1</th>\n",
       "      <td>4.9</td>\n",
       "      <td>3.0</td>\n",
       "      <td>1.4</td>\n",
       "      <td>0.2</td>\n",
       "    </tr>\n",
       "    <tr>\n",
       "      <th>2</th>\n",
       "      <td>4.7</td>\n",
       "      <td>3.2</td>\n",
       "      <td>1.3</td>\n",
       "      <td>0.2</td>\n",
       "    </tr>\n",
       "    <tr>\n",
       "      <th>3</th>\n",
       "      <td>4.6</td>\n",
       "      <td>3.1</td>\n",
       "      <td>1.5</td>\n",
       "      <td>0.2</td>\n",
       "    </tr>\n",
       "    <tr>\n",
       "      <th>4</th>\n",
       "      <td>5.0</td>\n",
       "      <td>3.6</td>\n",
       "      <td>1.4</td>\n",
       "      <td>0.2</td>\n",
       "    </tr>\n",
       "    <tr>\n",
       "      <th>5</th>\n",
       "      <td>5.4</td>\n",
       "      <td>3.9</td>\n",
       "      <td>1.7</td>\n",
       "      <td>0.4</td>\n",
       "    </tr>\n",
       "    <tr>\n",
       "      <th>6</th>\n",
       "      <td>4.6</td>\n",
       "      <td>3.4</td>\n",
       "      <td>1.4</td>\n",
       "      <td>0.3</td>\n",
       "    </tr>\n",
       "    <tr>\n",
       "      <th>7</th>\n",
       "      <td>5.0</td>\n",
       "      <td>3.4</td>\n",
       "      <td>1.5</td>\n",
       "      <td>0.2</td>\n",
       "    </tr>\n",
       "    <tr>\n",
       "      <th>8</th>\n",
       "      <td>4.4</td>\n",
       "      <td>2.9</td>\n",
       "      <td>1.4</td>\n",
       "      <td>0.2</td>\n",
       "    </tr>\n",
       "    <tr>\n",
       "      <th>9</th>\n",
       "      <td>4.9</td>\n",
       "      <td>3.1</td>\n",
       "      <td>1.5</td>\n",
       "      <td>0.1</td>\n",
       "    </tr>\n",
       "  </tbody>\n",
       "</table>\n",
       "</div>"
      ],
      "text/plain": [
       "     0    1    2    3\n",
       "0  5.1  3.5  1.4  0.2\n",
       "1  4.9  3.0  1.4  0.2\n",
       "2  4.7  3.2  1.3  0.2\n",
       "3  4.6  3.1  1.5  0.2\n",
       "4  5.0  3.6  1.4  0.2\n",
       "5  5.4  3.9  1.7  0.4\n",
       "6  4.6  3.4  1.4  0.3\n",
       "7  5.0  3.4  1.5  0.2\n",
       "8  4.4  2.9  1.4  0.2\n",
       "9  4.9  3.1  1.5  0.1"
      ]
     },
     "execution_count": 48,
     "metadata": {
      "tags": []
     },
     "output_type": "execute_result"
    }
   ],
   "source": [
    "i.head(10)"
   ]
  },
  {
   "cell_type": "code",
   "execution_count": 49,
   "metadata": {
    "colab": {
     "base_uri": "https://localhost:8080/"
    },
    "id": "ovCR_FwaCj-B",
    "outputId": "77d02c40-3e18-4970-c259-de8cae31e97a"
   },
   "outputs": [
    {
     "data": {
      "text/plain": [
       "array([0, 0, 0, 0, 0, 0, 0, 0, 0, 0, 0, 0, 0, 0, 0, 0, 0, 0, 0, 0, 0, 0,\n",
       "       0, 0, 0, 0, 0, 0, 0, 0, 0, 0, 0, 0, 0, 0, 0, 0, 0, 0, 0, 0, 0, 0,\n",
       "       0, 0, 0, 0, 0, 0, 1, 1, 1, 1, 1, 1, 1, 1, 1, 1, 1, 1, 1, 1, 1, 1,\n",
       "       1, 1, 1, 1, 1, 1, 1, 1, 1, 1, 1, 1, 1, 1, 1, 1, 1, 1, 1, 1, 1, 1,\n",
       "       1, 1, 1, 1, 1, 1, 1, 1, 1, 1, 1, 1, 2, 2, 2, 2, 2, 2, 2, 2, 2, 2,\n",
       "       2, 2, 2, 2, 2, 2, 2, 2, 2, 2, 2, 2, 2, 2, 2, 2, 2, 2, 2, 2, 2, 2,\n",
       "       2, 2, 2, 2, 2, 2, 2, 2, 2, 2, 2, 2, 2, 2, 2, 2, 2, 2])"
      ]
     },
     "execution_count": 49,
     "metadata": {
      "tags": []
     },
     "output_type": "execute_result"
    }
   ],
   "source": [
    "y"
   ]
  },
  {
   "cell_type": "markdown",
   "metadata": {
    "id": "Qg1A2lkUjFak"
   },
   "source": [
    "## Question 3"
   ]
  },
  {
   "cell_type": "markdown",
   "metadata": {
    "id": "3YErwYLCH0N_"
   },
   "source": [
    "### Create train and test data\n",
    "- use train_test_split to get train and test set\n",
    "- set a random_state\n",
    "- test_size: 0.25"
   ]
  },
  {
   "cell_type": "code",
   "execution_count": 50,
   "metadata": {
    "id": "TYKNJL85h7pQ"
   },
   "outputs": [],
   "source": [
    "from sklearn.model_selection import  train_test_split\n",
    "\n",
    "train_X,test_X,train_y,test_y = train_test_split(X,y,test_size = 0.25,random_state =5)"
   ]
  },
  {
   "cell_type": "code",
   "execution_count": 51,
   "metadata": {
    "colab": {
     "base_uri": "https://localhost:8080/"
    },
    "id": "ZXiTR8JFBOIt",
    "outputId": "5a20c2e9-b46e-4090-fe92-ff26ad9685c3"
   },
   "outputs": [
    {
     "name": "stdout",
     "output_type": "stream",
     "text": [
      "(112, 4)\n",
      "(112,)\n",
      "(38, 4)\n",
      "(38,)\n"
     ]
    }
   ],
   "source": [
    "print(train_X.shape)\n",
    "print(train_y.shape)\n",
    "print(test_X.shape)\n",
    "print(test_y.shape)"
   ]
  },
  {
   "cell_type": "markdown",
   "metadata": {
    "id": "g0KVP17Ozaix"
   },
   "source": [
    "## Question 4"
   ]
  },
  {
   "cell_type": "markdown",
   "metadata": {
    "id": "SIjqxbhWv1zv"
   },
   "source": [
    "### One-hot encode the labels\n",
    "- convert class vectors (integers) to binary class matrix\n",
    "- convert labels\n",
    "- number of classes: 3\n",
    "- we are doing this to use categorical_crossentropy as loss"
   ]
  },
  {
   "cell_type": "code",
   "execution_count": 52,
   "metadata": {
    "colab": {
     "base_uri": "https://localhost:8080/"
    },
    "id": "R9vv-_gpyLY9",
    "outputId": "55fec14c-1aa3-4c06-be27-54b3bf7e3a5e"
   },
   "outputs": [
    {
     "name": "stdout",
     "output_type": "stream",
     "text": [
      "[0 1 2]\n",
      "[0 1 2]\n"
     ]
    }
   ],
   "source": [
    "import numpy as np\n",
    "\n",
    "print(np.unique(test_y))\n",
    "print(np.unique(train_y))"
   ]
  },
  {
   "cell_type": "code",
   "execution_count": 53,
   "metadata": {
    "id": "UReI_raADpNd"
   },
   "outputs": [],
   "source": [
    "from keras.utils import to_categorical\n",
    "\n",
    "test_y = to_categorical(test_y,num_classes=3)\n",
    "train_y = to_categorical(train_y,num_classes=3)"
   ]
  },
  {
   "cell_type": "code",
   "execution_count": 54,
   "metadata": {
    "colab": {
     "base_uri": "https://localhost:8080/"
    },
    "id": "sFp05pJ8EKVo",
    "outputId": "defc8378-b5ea-4001-9266-534ae67503ed"
   },
   "outputs": [
    {
     "data": {
      "text/plain": [
       "array([[0., 1., 0.],\n",
       "       [0., 0., 1.],\n",
       "       [0., 0., 1.],\n",
       "       [1., 0., 0.],\n",
       "       [0., 0., 1.],\n",
       "       [0., 1., 0.],\n",
       "       [1., 0., 0.],\n",
       "       [0., 1., 0.],\n",
       "       [1., 0., 0.],\n",
       "       [0., 1., 0.]], dtype=float32)"
      ]
     },
     "execution_count": 54,
     "metadata": {
      "tags": []
     },
     "output_type": "execute_result"
    }
   ],
   "source": [
    "test_y[:10]"
   ]
  },
  {
   "cell_type": "code",
   "execution_count": 55,
   "metadata": {
    "colab": {
     "base_uri": "https://localhost:8080/"
    },
    "id": "XpeIx5mGEtdZ",
    "outputId": "1daf805d-8810-4ca2-bd12-a96e2712a4d4"
   },
   "outputs": [
    {
     "data": {
      "text/plain": [
       "array([[1., 0., 0.],\n",
       "       [0., 0., 1.],\n",
       "       [0., 0., 1.],\n",
       "       [0., 1., 0.],\n",
       "       [1., 0., 0.],\n",
       "       [1., 0., 0.],\n",
       "       [0., 1., 0.],\n",
       "       [0., 0., 1.],\n",
       "       [0., 1., 0.],\n",
       "       [0., 0., 1.]], dtype=float32)"
      ]
     },
     "execution_count": 55,
     "metadata": {
      "tags": []
     },
     "output_type": "execute_result"
    }
   ],
   "source": [
    "train_y[:10]"
   ]
  },
  {
   "cell_type": "markdown",
   "metadata": {
    "id": "ovjLyYzWkO9s"
   },
   "source": [
    "## Question 5"
   ]
  },
  {
   "cell_type": "markdown",
   "metadata": {
    "id": "hbIFzoPNSyYo"
   },
   "source": [
    "### Initialize a sequential model\n",
    "- Define a sequential model"
   ]
  },
  {
   "cell_type": "code",
   "execution_count": 56,
   "metadata": {
    "id": "4FvSbf1UjHtl"
   },
   "outputs": [],
   "source": [
    "#Initialize Sequential Graph (model)\n",
    "\n",
    "model = tf.keras.Sequential()"
   ]
  },
  {
   "cell_type": "markdown",
   "metadata": {
    "id": "dGMy999vlacX"
   },
   "source": [
    "## Question 6"
   ]
  },
  {
   "cell_type": "markdown",
   "metadata": {
    "id": "72ibK5Jxm8iL"
   },
   "source": [
    "### Add a layer\n",
    "- Use Dense Layer  with input shape of 4 (according to the feature set) and number of outputs set to 3\n",
    "- Apply Softmax on Dense Layer outputs"
   ]
  },
  {
   "cell_type": "code",
   "execution_count": 57,
   "metadata": {
    "id": "uZKrBNSRm_o9"
   },
   "outputs": [],
   "source": [
    "#Add Dense layer for prediction - Keras declares weights and bias automatically\n",
    "model.add(tf.keras.layers.Dense(3, input_shape=(4,),activation=\"softmax\"))"
   ]
  },
  {
   "cell_type": "code",
   "execution_count": 58,
   "metadata": {
    "colab": {
     "base_uri": "https://localhost:8080/"
    },
    "id": "vM1rtG7MGKgk",
    "outputId": "787dfe09-7d86-42e5-8e5b-a7fa9a1dfc42"
   },
   "outputs": [
    {
     "name": "stdout",
     "output_type": "stream",
     "text": [
      "Model: \"sequential_1\"\n",
      "_________________________________________________________________\n",
      "Layer (type)                 Output Shape              Param #   \n",
      "=================================================================\n",
      "dense_1 (Dense)              (None, 3)                 15        \n",
      "=================================================================\n",
      "Total params: 15\n",
      "Trainable params: 15\n",
      "Non-trainable params: 0\n",
      "_________________________________________________________________\n"
     ]
    }
   ],
   "source": [
    "model.summary()"
   ]
  },
  {
   "cell_type": "markdown",
   "metadata": {
    "id": "i4uiTH8plmNX"
   },
   "source": [
    "## Question 7"
   ]
  },
  {
   "cell_type": "markdown",
   "metadata": {
    "id": "yJL8n8vcSyYz"
   },
   "source": [
    "### Compile the model\n",
    "- Use SGD as Optimizer\n",
    "- Use categorical_crossentropy as loss function\n",
    "- Use accuracy as metrics"
   ]
  },
  {
   "cell_type": "code",
   "execution_count": 59,
   "metadata": {
    "id": "Tc_-fjIEk1ve"
   },
   "outputs": [],
   "source": [
    "model.compile(optimizer='sgd', loss='categorical_crossentropy', metrics=['accuracy'])"
   ]
  },
  {
   "cell_type": "markdown",
   "metadata": {
    "id": "sihIGbRll_jT"
   },
   "source": [
    "## Question 8"
   ]
  },
  {
   "cell_type": "markdown",
   "metadata": {
    "id": "54ZZCfNGlu0i"
   },
   "source": [
    "### Summarize the model\n",
    "- Check model layers\n",
    "- Understand number of trainable parameters"
   ]
  },
  {
   "cell_type": "code",
   "execution_count": 63,
   "metadata": {
    "colab": {
     "base_uri": "https://localhost:8080/"
    },
    "id": "elER3F_4ln8n",
    "outputId": "23d0b69e-4dee-4db3-fabb-4b195a96652a"
   },
   "outputs": [
    {
     "name": "stdout",
     "output_type": "stream",
     "text": [
      "Model: \"sequential_1\"\n",
      "_________________________________________________________________\n",
      "Layer (type)                 Output Shape              Param #   \n",
      "=================================================================\n",
      "dense_1 (Dense)              (None, 3)                 15        \n",
      "=================================================================\n",
      "Total params: 15\n",
      "Trainable params: 15\n",
      "Non-trainable params: 0\n",
      "_________________________________________________________________\n"
     ]
    }
   ],
   "source": [
    "model.summary()"
   ]
  },
  {
   "cell_type": "markdown",
   "metadata": {
    "id": "mGjapW0cJvvB"
   },
   "source": [
    "4 Inputs (petal length, petal width, sepal length, sepal width) will have 4 weights and 1 bias.\n",
    "\n",
    "So for 3 outputs below are the equation for each neurons.\n",
    "\n",
    "\n",
    "y1 = w1x1+w2x2+w3x3+w4x4+b1\n",
    "\n",
    "y2 = w5x5+w6x6+w7x7+w8x8+b2\n",
    "\n",
    "y3 = w9x9+w10x10+w11x11+w12x12+b3\n",
    "\n",
    "Above there are 12 Weights(W) and 3 (Bias) so the triannable params is 15"
   ]
  },
  {
   "cell_type": "markdown",
   "metadata": {
    "id": "2PiP7j3Vmj4p"
   },
   "source": [
    "## Question 9"
   ]
  },
  {
   "cell_type": "markdown",
   "metadata": {
    "id": "rWdbfFCXmCHt"
   },
   "source": [
    "### Fit the model\n",
    "- Give train data as training features and labels\n",
    "- Epochs: 100\n",
    "- Give validation data as testing features and labels"
   ]
  },
  {
   "cell_type": "code",
   "execution_count": 64,
   "metadata": {
    "colab": {
     "base_uri": "https://localhost:8080/"
    },
    "id": "cO1c-5tjmBVZ",
    "outputId": "a2f27953-1b96-49f9-d052-fb43098a268b"
   },
   "outputs": [
    {
     "name": "stdout",
     "output_type": "stream",
     "text": [
      "Epoch 1/100\n",
      "4/4 [==============================] - 1s 79ms/step - loss: 2.9114 - accuracy: 0.3284 - val_loss: 1.8648 - val_accuracy: 0.3158\n",
      "Epoch 2/100\n",
      "4/4 [==============================] - 0s 15ms/step - loss: 1.6830 - accuracy: 0.3207 - val_loss: 1.4003 - val_accuracy: 0.1579\n",
      "Epoch 3/100\n",
      "4/4 [==============================] - 0s 14ms/step - loss: 1.3446 - accuracy: 0.1138 - val_loss: 1.2645 - val_accuracy: 0.1579\n",
      "Epoch 4/100\n",
      "4/4 [==============================] - 0s 15ms/step - loss: 1.2399 - accuracy: 0.2103 - val_loss: 1.2163 - val_accuracy: 0.1579\n",
      "Epoch 5/100\n",
      "4/4 [==============================] - 0s 15ms/step - loss: 1.1723 - accuracy: 0.1548 - val_loss: 1.1785 - val_accuracy: 0.2895\n",
      "Epoch 6/100\n",
      "4/4 [==============================] - 0s 16ms/step - loss: 1.1342 - accuracy: 0.2225 - val_loss: 1.1427 - val_accuracy: 0.2368\n",
      "Epoch 7/100\n",
      "4/4 [==============================] - 0s 15ms/step - loss: 1.0620 - accuracy: 0.2702 - val_loss: 1.1131 - val_accuracy: 0.2105\n",
      "Epoch 8/100\n",
      "4/4 [==============================] - 0s 15ms/step - loss: 1.0477 - accuracy: 0.2665 - val_loss: 1.0842 - val_accuracy: 0.2105\n",
      "Epoch 9/100\n",
      "4/4 [==============================] - 0s 14ms/step - loss: 1.0205 - accuracy: 0.2820 - val_loss: 1.0594 - val_accuracy: 0.1579\n",
      "Epoch 10/100\n",
      "4/4 [==============================] - 0s 16ms/step - loss: 1.0071 - accuracy: 0.2597 - val_loss: 1.0329 - val_accuracy: 0.3158\n",
      "Epoch 11/100\n",
      "4/4 [==============================] - 0s 15ms/step - loss: 0.9752 - accuracy: 0.3339 - val_loss: 1.0096 - val_accuracy: 0.2632\n",
      "Epoch 12/100\n",
      "4/4 [==============================] - 0s 14ms/step - loss: 0.9394 - accuracy: 0.4568 - val_loss: 0.9920 - val_accuracy: 0.3421\n",
      "Epoch 13/100\n",
      "4/4 [==============================] - 0s 16ms/step - loss: 0.9438 - accuracy: 0.4240 - val_loss: 0.9701 - val_accuracy: 0.3421\n",
      "Epoch 14/100\n",
      "4/4 [==============================] - 0s 15ms/step - loss: 0.9106 - accuracy: 0.6025 - val_loss: 0.9499 - val_accuracy: 0.3684\n",
      "Epoch 15/100\n",
      "4/4 [==============================] - 0s 14ms/step - loss: 0.9131 - accuracy: 0.5399 - val_loss: 0.9287 - val_accuracy: 0.4474\n",
      "Epoch 16/100\n",
      "4/4 [==============================] - 0s 14ms/step - loss: 0.8549 - accuracy: 0.6193 - val_loss: 0.9126 - val_accuracy: 0.4474\n",
      "Epoch 17/100\n",
      "4/4 [==============================] - 0s 16ms/step - loss: 0.8404 - accuracy: 0.6460 - val_loss: 0.8957 - val_accuracy: 0.4474\n",
      "Epoch 18/100\n",
      "4/4 [==============================] - 0s 14ms/step - loss: 0.8284 - accuracy: 0.6606 - val_loss: 0.8775 - val_accuracy: 0.5263\n",
      "Epoch 19/100\n",
      "4/4 [==============================] - 0s 16ms/step - loss: 0.7980 - accuracy: 0.7347 - val_loss: 0.8625 - val_accuracy: 0.5263\n",
      "Epoch 20/100\n",
      "4/4 [==============================] - 0s 15ms/step - loss: 0.7951 - accuracy: 0.6857 - val_loss: 0.8511 - val_accuracy: 0.4474\n",
      "Epoch 21/100\n",
      "4/4 [==============================] - 0s 15ms/step - loss: 0.7572 - accuracy: 0.7234 - val_loss: 0.8448 - val_accuracy: 0.5000\n",
      "Epoch 22/100\n",
      "4/4 [==============================] - 0s 15ms/step - loss: 0.7624 - accuracy: 0.6751 - val_loss: 0.8263 - val_accuracy: 0.5263\n",
      "Epoch 23/100\n",
      "4/4 [==============================] - 0s 15ms/step - loss: 0.7546 - accuracy: 0.7076 - val_loss: 0.8114 - val_accuracy: 0.5789\n",
      "Epoch 24/100\n",
      "4/4 [==============================] - 0s 15ms/step - loss: 0.7275 - accuracy: 0.7631 - val_loss: 0.8076 - val_accuracy: 0.5263\n",
      "Epoch 25/100\n",
      "4/4 [==============================] - 0s 15ms/step - loss: 0.7138 - accuracy: 0.7004 - val_loss: 0.7897 - val_accuracy: 0.5789\n",
      "Epoch 26/100\n",
      "4/4 [==============================] - 0s 15ms/step - loss: 0.7290 - accuracy: 0.7277 - val_loss: 0.7803 - val_accuracy: 0.5526\n",
      "Epoch 27/100\n",
      "4/4 [==============================] - 0s 16ms/step - loss: 0.6964 - accuracy: 0.7362 - val_loss: 0.7709 - val_accuracy: 0.5789\n",
      "Epoch 28/100\n",
      "4/4 [==============================] - 0s 16ms/step - loss: 0.6994 - accuracy: 0.7506 - val_loss: 0.7616 - val_accuracy: 0.5789\n",
      "Epoch 29/100\n",
      "4/4 [==============================] - 0s 15ms/step - loss: 0.6794 - accuracy: 0.7232 - val_loss: 0.7524 - val_accuracy: 0.5789\n",
      "Epoch 30/100\n",
      "4/4 [==============================] - 0s 15ms/step - loss: 0.6814 - accuracy: 0.7179 - val_loss: 0.7444 - val_accuracy: 0.6053\n",
      "Epoch 31/100\n",
      "4/4 [==============================] - 0s 14ms/step - loss: 0.6422 - accuracy: 0.7760 - val_loss: 0.7453 - val_accuracy: 0.5526\n",
      "Epoch 32/100\n",
      "4/4 [==============================] - 0s 14ms/step - loss: 0.6704 - accuracy: 0.7054 - val_loss: 0.7307 - val_accuracy: 0.5526\n",
      "Epoch 33/100\n",
      "4/4 [==============================] - 0s 15ms/step - loss: 0.6635 - accuracy: 0.6815 - val_loss: 0.7226 - val_accuracy: 0.6316\n",
      "Epoch 34/100\n",
      "4/4 [==============================] - 0s 15ms/step - loss: 0.6528 - accuracy: 0.7132 - val_loss: 0.7145 - val_accuracy: 0.6053\n",
      "Epoch 35/100\n",
      "4/4 [==============================] - 0s 17ms/step - loss: 0.6491 - accuracy: 0.7650 - val_loss: 0.7082 - val_accuracy: 0.6316\n",
      "Epoch 36/100\n",
      "4/4 [==============================] - 0s 16ms/step - loss: 0.6359 - accuracy: 0.7624 - val_loss: 0.7037 - val_accuracy: 0.6316\n",
      "Epoch 37/100\n",
      "4/4 [==============================] - 0s 18ms/step - loss: 0.6180 - accuracy: 0.7600 - val_loss: 0.6967 - val_accuracy: 0.6316\n",
      "Epoch 38/100\n",
      "4/4 [==============================] - 0s 15ms/step - loss: 0.6222 - accuracy: 0.7152 - val_loss: 0.6946 - val_accuracy: 0.5789\n",
      "Epoch 39/100\n",
      "4/4 [==============================] - 0s 15ms/step - loss: 0.6055 - accuracy: 0.7652 - val_loss: 0.6839 - val_accuracy: 0.6579\n",
      "Epoch 40/100\n",
      "4/4 [==============================] - 0s 14ms/step - loss: 0.5912 - accuracy: 0.7890 - val_loss: 0.6783 - val_accuracy: 0.6579\n",
      "Epoch 41/100\n",
      "4/4 [==============================] - 0s 15ms/step - loss: 0.6119 - accuracy: 0.7603 - val_loss: 0.6735 - val_accuracy: 0.6316\n",
      "Epoch 42/100\n",
      "4/4 [==============================] - 0s 20ms/step - loss: 0.6061 - accuracy: 0.7519 - val_loss: 0.6685 - val_accuracy: 0.6579\n",
      "Epoch 43/100\n",
      "4/4 [==============================] - 0s 19ms/step - loss: 0.5773 - accuracy: 0.7589 - val_loss: 0.6623 - val_accuracy: 0.6842\n",
      "Epoch 44/100\n",
      "4/4 [==============================] - 0s 18ms/step - loss: 0.6005 - accuracy: 0.7728 - val_loss: 0.6575 - val_accuracy: 0.7105\n",
      "Epoch 45/100\n",
      "4/4 [==============================] - 0s 19ms/step - loss: 0.5912 - accuracy: 0.7985 - val_loss: 0.6615 - val_accuracy: 0.5789\n",
      "Epoch 46/100\n",
      "4/4 [==============================] - 0s 19ms/step - loss: 0.5738 - accuracy: 0.7640 - val_loss: 0.6523 - val_accuracy: 0.6316\n",
      "Epoch 47/100\n",
      "4/4 [==============================] - 0s 21ms/step - loss: 0.5598 - accuracy: 0.7734 - val_loss: 0.6521 - val_accuracy: 0.5789\n",
      "Epoch 48/100\n",
      "4/4 [==============================] - 0s 19ms/step - loss: 0.5715 - accuracy: 0.7385 - val_loss: 0.6444 - val_accuracy: 0.6316\n",
      "Epoch 49/100\n",
      "4/4 [==============================] - 0s 18ms/step - loss: 0.5805 - accuracy: 0.7400 - val_loss: 0.6371 - val_accuracy: 0.7105\n",
      "Epoch 50/100\n",
      "4/4 [==============================] - 0s 19ms/step - loss: 0.5617 - accuracy: 0.7881 - val_loss: 0.6348 - val_accuracy: 0.6579\n",
      "Epoch 51/100\n",
      "4/4 [==============================] - 0s 19ms/step - loss: 0.5607 - accuracy: 0.7845 - val_loss: 0.6371 - val_accuracy: 0.5789\n",
      "Epoch 52/100\n",
      "4/4 [==============================] - 0s 20ms/step - loss: 0.5519 - accuracy: 0.7226 - val_loss: 0.6263 - val_accuracy: 0.7105\n",
      "Epoch 53/100\n",
      "4/4 [==============================] - 0s 21ms/step - loss: 0.5405 - accuracy: 0.7631 - val_loss: 0.6202 - val_accuracy: 0.6842\n",
      "Epoch 54/100\n",
      "4/4 [==============================] - 0s 21ms/step - loss: 0.5346 - accuracy: 0.8183 - val_loss: 0.6165 - val_accuracy: 0.7105\n",
      "Epoch 55/100\n",
      "4/4 [==============================] - 0s 18ms/step - loss: 0.5333 - accuracy: 0.7878 - val_loss: 0.6134 - val_accuracy: 0.7368\n",
      "Epoch 56/100\n",
      "4/4 [==============================] - 0s 18ms/step - loss: 0.5475 - accuracy: 0.8140 - val_loss: 0.6107 - val_accuracy: 0.7632\n",
      "Epoch 57/100\n",
      "4/4 [==============================] - 0s 19ms/step - loss: 0.5562 - accuracy: 0.7918 - val_loss: 0.6100 - val_accuracy: 0.6842\n",
      "Epoch 58/100\n",
      "4/4 [==============================] - 0s 19ms/step - loss: 0.5371 - accuracy: 0.7540 - val_loss: 0.6083 - val_accuracy: 0.6579\n",
      "Epoch 59/100\n",
      "4/4 [==============================] - 0s 18ms/step - loss: 0.5212 - accuracy: 0.7598 - val_loss: 0.6060 - val_accuracy: 0.6579\n",
      "Epoch 60/100\n",
      "4/4 [==============================] - 0s 21ms/step - loss: 0.5384 - accuracy: 0.7964 - val_loss: 0.6045 - val_accuracy: 0.6579\n",
      "Epoch 61/100\n",
      "4/4 [==============================] - 0s 19ms/step - loss: 0.5089 - accuracy: 0.7952 - val_loss: 0.5959 - val_accuracy: 0.7632\n",
      "Epoch 62/100\n",
      "4/4 [==============================] - 0s 18ms/step - loss: 0.4964 - accuracy: 0.7884 - val_loss: 0.5911 - val_accuracy: 0.7368\n",
      "Epoch 63/100\n",
      "4/4 [==============================] - 0s 19ms/step - loss: 0.5105 - accuracy: 0.8543 - val_loss: 0.5914 - val_accuracy: 0.6842\n",
      "Epoch 64/100\n",
      "4/4 [==============================] - 0s 19ms/step - loss: 0.5111 - accuracy: 0.8079 - val_loss: 0.5911 - val_accuracy: 0.6579\n",
      "Epoch 65/100\n",
      "4/4 [==============================] - 0s 20ms/step - loss: 0.5169 - accuracy: 0.7542 - val_loss: 0.5888 - val_accuracy: 0.6579\n",
      "Epoch 66/100\n",
      "4/4 [==============================] - 0s 22ms/step - loss: 0.5013 - accuracy: 0.7744 - val_loss: 0.5802 - val_accuracy: 0.7368\n",
      "Epoch 67/100\n",
      "4/4 [==============================] - 0s 20ms/step - loss: 0.5213 - accuracy: 0.8513 - val_loss: 0.5794 - val_accuracy: 0.7632\n",
      "Epoch 68/100\n",
      "4/4 [==============================] - 0s 19ms/step - loss: 0.5219 - accuracy: 0.8036 - val_loss: 0.5844 - val_accuracy: 0.6842\n",
      "Epoch 69/100\n",
      "4/4 [==============================] - 0s 22ms/step - loss: 0.4864 - accuracy: 0.7961 - val_loss: 0.5796 - val_accuracy: 0.6579\n",
      "Epoch 70/100\n",
      "4/4 [==============================] - 0s 23ms/step - loss: 0.5094 - accuracy: 0.7707 - val_loss: 0.5722 - val_accuracy: 0.7632\n",
      "Epoch 71/100\n",
      "4/4 [==============================] - 0s 20ms/step - loss: 0.4786 - accuracy: 0.8339 - val_loss: 0.5689 - val_accuracy: 0.7632\n",
      "Epoch 72/100\n",
      "4/4 [==============================] - 0s 20ms/step - loss: 0.5168 - accuracy: 0.8176 - val_loss: 0.5690 - val_accuracy: 0.7368\n",
      "Epoch 73/100\n",
      "4/4 [==============================] - 0s 19ms/step - loss: 0.4837 - accuracy: 0.8185 - val_loss: 0.5637 - val_accuracy: 0.7632\n",
      "Epoch 74/100\n",
      "4/4 [==============================] - 0s 18ms/step - loss: 0.4774 - accuracy: 0.8298 - val_loss: 0.5624 - val_accuracy: 0.7632\n",
      "Epoch 75/100\n",
      "4/4 [==============================] - 0s 19ms/step - loss: 0.4849 - accuracy: 0.8472 - val_loss: 0.5650 - val_accuracy: 0.6842\n",
      "Epoch 76/100\n",
      "4/4 [==============================] - 0s 21ms/step - loss: 0.4743 - accuracy: 0.7866 - val_loss: 0.5576 - val_accuracy: 0.7632\n",
      "Epoch 77/100\n",
      "4/4 [==============================] - 0s 21ms/step - loss: 0.4949 - accuracy: 0.8129 - val_loss: 0.5563 - val_accuracy: 0.7632\n",
      "Epoch 78/100\n",
      "4/4 [==============================] - 0s 19ms/step - loss: 0.4998 - accuracy: 0.8118 - val_loss: 0.5622 - val_accuracy: 0.6842\n",
      "Epoch 79/100\n",
      "4/4 [==============================] - 0s 19ms/step - loss: 0.4690 - accuracy: 0.8028 - val_loss: 0.5560 - val_accuracy: 0.7368\n",
      "Epoch 80/100\n",
      "4/4 [==============================] - 0s 19ms/step - loss: 0.4895 - accuracy: 0.7929 - val_loss: 0.5494 - val_accuracy: 0.7632\n",
      "Epoch 81/100\n",
      "4/4 [==============================] - 0s 18ms/step - loss: 0.4602 - accuracy: 0.8519 - val_loss: 0.5478 - val_accuracy: 0.7632\n",
      "Epoch 82/100\n",
      "4/4 [==============================] - 0s 19ms/step - loss: 0.4557 - accuracy: 0.8365 - val_loss: 0.5455 - val_accuracy: 0.7632\n",
      "Epoch 83/100\n",
      "4/4 [==============================] - 0s 19ms/step - loss: 0.4780 - accuracy: 0.8238 - val_loss: 0.5447 - val_accuracy: 0.7632\n",
      "Epoch 84/100\n",
      "4/4 [==============================] - 0s 22ms/step - loss: 0.4681 - accuracy: 0.8186 - val_loss: 0.5421 - val_accuracy: 0.7632\n",
      "Epoch 85/100\n",
      "4/4 [==============================] - 0s 21ms/step - loss: 0.4611 - accuracy: 0.8323 - val_loss: 0.5389 - val_accuracy: 0.7895\n",
      "Epoch 86/100\n",
      "4/4 [==============================] - 0s 22ms/step - loss: 0.4516 - accuracy: 0.8735 - val_loss: 0.5379 - val_accuracy: 0.7632\n",
      "Epoch 87/100\n",
      "4/4 [==============================] - 0s 23ms/step - loss: 0.4567 - accuracy: 0.8512 - val_loss: 0.5405 - val_accuracy: 0.7368\n",
      "Epoch 88/100\n",
      "4/4 [==============================] - 0s 19ms/step - loss: 0.4866 - accuracy: 0.7839 - val_loss: 0.5387 - val_accuracy: 0.7368\n",
      "Epoch 89/100\n",
      "4/4 [==============================] - 0s 20ms/step - loss: 0.4565 - accuracy: 0.8225 - val_loss: 0.5343 - val_accuracy: 0.7632\n",
      "Epoch 90/100\n",
      "4/4 [==============================] - 0s 20ms/step - loss: 0.4574 - accuracy: 0.8606 - val_loss: 0.5360 - val_accuracy: 0.7368\n",
      "Epoch 91/100\n",
      "4/4 [==============================] - 0s 19ms/step - loss: 0.4616 - accuracy: 0.7872 - val_loss: 0.5294 - val_accuracy: 0.7632\n",
      "Epoch 92/100\n",
      "4/4 [==============================] - 0s 22ms/step - loss: 0.4461 - accuracy: 0.8574 - val_loss: 0.5307 - val_accuracy: 0.7368\n",
      "Epoch 93/100\n",
      "4/4 [==============================] - 0s 20ms/step - loss: 0.4327 - accuracy: 0.8375 - val_loss: 0.5260 - val_accuracy: 0.7632\n",
      "Epoch 94/100\n",
      "4/4 [==============================] - 0s 21ms/step - loss: 0.4328 - accuracy: 0.8856 - val_loss: 0.5252 - val_accuracy: 0.7632\n",
      "Epoch 95/100\n",
      "4/4 [==============================] - 0s 22ms/step - loss: 0.4273 - accuracy: 0.8653 - val_loss: 0.5228 - val_accuracy: 0.7895\n",
      "Epoch 96/100\n",
      "4/4 [==============================] - 0s 21ms/step - loss: 0.4650 - accuracy: 0.8449 - val_loss: 0.5215 - val_accuracy: 0.7632\n",
      "Epoch 97/100\n",
      "4/4 [==============================] - 0s 21ms/step - loss: 0.4740 - accuracy: 0.8411 - val_loss: 0.5221 - val_accuracy: 0.7632\n",
      "Epoch 98/100\n",
      "4/4 [==============================] - 0s 21ms/step - loss: 0.4403 - accuracy: 0.8435 - val_loss: 0.5248 - val_accuracy: 0.7632\n",
      "Epoch 99/100\n",
      "4/4 [==============================] - 0s 21ms/step - loss: 0.4313 - accuracy: 0.8100 - val_loss: 0.5170 - val_accuracy: 0.7895\n",
      "Epoch 100/100\n",
      "4/4 [==============================] - 0s 21ms/step - loss: 0.4393 - accuracy: 0.8653 - val_loss: 0.5156 - val_accuracy: 0.7632\n"
     ]
    },
    {
     "data": {
      "text/plain": [
       "<tensorflow.python.keras.callbacks.History at 0x7f219909ef50>"
      ]
     },
     "execution_count": 64,
     "metadata": {
      "tags": []
     },
     "output_type": "execute_result"
    }
   ],
   "source": [
    "model.fit(train_X, train_y, \n",
    "          validation_data=(test_X, test_y), \n",
    "          epochs=100,\n",
    "          batch_size=32)"
   ]
  },
  {
   "cell_type": "markdown",
   "metadata": {
    "id": "re9ItAR3yS3J"
   },
   "source": [
    "## Question 10"
   ]
  },
  {
   "cell_type": "markdown",
   "metadata": {
    "id": "liw0IFf9yVqH"
   },
   "source": [
    "### Make predictions\n",
    "- Predict labels on one row"
   ]
  },
  {
   "cell_type": "code",
   "execution_count": 69,
   "metadata": {
    "colab": {
     "base_uri": "https://localhost:8080/"
    },
    "id": "H5sBybi6mlLl",
    "outputId": "22eff551-b0c3-4520-90f2-7f3f7cc251fa"
   },
   "outputs": [
    {
     "data": {
      "text/plain": [
       "array([[0.8863714 , 0.06898785, 0.04464085]], dtype=float32)"
      ]
     },
     "execution_count": 69,
     "metadata": {
      "tags": []
     },
     "output_type": "execute_result"
    }
   ],
   "source": [
    "model.predict(train_X[:1])"
   ]
  },
  {
   "cell_type": "markdown",
   "metadata": {
    "id": "nXXhBhgGPpBE"
   },
   "source": [
    "**As per the above Prediction, We are seeing the first row belongs to Iris Setosa with the predict probality with 0.88%**"
   ]
  },
  {
   "cell_type": "markdown",
   "metadata": {
    "id": "hSUgMq3m0bG7"
   },
   "source": [
    "### Compare the prediction with actual label\n",
    "- Print the same row as done in the previous step but of actual labels"
   ]
  },
  {
   "cell_type": "code",
   "execution_count": 70,
   "metadata": {
    "colab": {
     "base_uri": "https://localhost:8080/"
    },
    "id": "K5WbwVPyz-qQ",
    "outputId": "0c8f47c9-c7c6-4d47-e3ea-80edce36d8c4"
   },
   "outputs": [
    {
     "data": {
      "text/plain": [
       "array([[1., 0., 0.]], dtype=float32)"
      ]
     },
     "execution_count": 70,
     "metadata": {
      "tags": []
     },
     "output_type": "execute_result"
    }
   ],
   "source": [
    "train_y[0:1]"
   ]
  },
  {
   "cell_type": "markdown",
   "metadata": {
    "id": "FrTKwbgE7NFT"
   },
   "source": [
    "**The first row belongs to Iris Setosa as per actual labels, My model has predicted with 0.88% as Iris Setosa**\n",
    "\n",
    "---\n",
    "\n"
   ]
  },
  {
   "cell_type": "markdown",
   "metadata": {
    "id": "a1UBYPNp5Tn1"
   },
   "source": [
    "# Stock prices dataset\n",
    "The data is of tock exchange's stock listings for each trading day of 2010 to 2016.\n",
    "\n",
    "## Description\n",
    "A brief description of columns.\n",
    "- open: The opening market price of the equity symbol on the date\n",
    "- high: The highest market price of the equity symbol on the date\n",
    "- low: The lowest recorded market price of the equity symbol on the date\n",
    "- close: The closing recorded price of the equity symbol on the date\n",
    "- symbol: Symbol of the listed company\n",
    "- volume: Total traded volume of the equity symbol on the date\n",
    "- date: Date of record"
   ]
  },
  {
   "cell_type": "markdown",
   "metadata": {
    "id": "ctH_ZW5g-M3g"
   },
   "source": [
    "### Specifying the TensorFlow version\n",
    "Running `import tensorflow` will import the default version (currently 1.x). You can use 2.x by running a cell with the `tensorflow_version` magic **before** you run `import tensorflow`."
   ]
  },
  {
   "cell_type": "code",
   "execution_count": 71,
   "metadata": {
    "id": "vQbdODpH-M3r"
   },
   "outputs": [],
   "source": [
    "%tensorflow_version 2.x"
   ]
  },
  {
   "cell_type": "markdown",
   "metadata": {
    "id": "nFQWH1tj-M38"
   },
   "source": [
    "### Import TensorFlow\n",
    "Once you have specified a version via this magic, you can run `import tensorflow` as normal and verify which version was imported as follows:"
   ]
  },
  {
   "cell_type": "code",
   "execution_count": 72,
   "metadata": {
    "colab": {
     "base_uri": "https://localhost:8080/"
    },
    "id": "Ho5n-xhd-M3_",
    "outputId": "9abc89f0-3022-4946-ef10-6b8b336ef82b"
   },
   "outputs": [
    {
     "name": "stdout",
     "output_type": "stream",
     "text": [
      "2.4.1\n"
     ]
    }
   ],
   "source": [
    "import tensorflow as tf\n",
    "print(tf.__version__)"
   ]
  },
  {
   "cell_type": "markdown",
   "metadata": {
    "id": "tgkl0qu6-M4F"
   },
   "source": [
    "### Set random seed"
   ]
  },
  {
   "cell_type": "code",
   "execution_count": 73,
   "metadata": {
    "id": "TKgTyuA3-M4G"
   },
   "outputs": [],
   "source": [
    "tf.random.set_seed(42)"
   ]
  },
  {
   "cell_type": "markdown",
   "metadata": {
    "id": "_88voqAH-O6J"
   },
   "source": [
    "## Question 1"
   ]
  },
  {
   "cell_type": "markdown",
   "metadata": {
    "id": "dRHCeJqP-evf"
   },
   "source": [
    "### Load the data\n",
    "- load the csv file and read it using pandas\n",
    "- file name is prices.csv"
   ]
  },
  {
   "cell_type": "code",
   "execution_count": 75,
   "metadata": {
    "id": "cKVH5v7r-RmC"
   },
   "outputs": [],
   "source": [
    "# run this cell to upload file if you are using google colab\n",
    "# from google.colab import files\n",
    "# files.upload()\n",
    "\n",
    "# Getting the prices.csv from Google Drive"
   ]
  },
  {
   "cell_type": "code",
   "execution_count": 74,
   "metadata": {
    "colab": {
     "base_uri": "https://localhost:8080/"
    },
    "id": "IxJvd7YQVZnC",
    "outputId": "2aaf134c-7160-4a5e-d5b7-00b67c58fb3b"
   },
   "outputs": [
    {
     "name": "stdout",
     "output_type": "stream",
     "text": [
      "Mounted at /content/drive\n"
     ]
    }
   ],
   "source": [
    "from google.colab import drive\n",
    "drive.mount('/content/drive')"
   ]
  },
  {
   "cell_type": "code",
   "execution_count": 136,
   "metadata": {
    "id": "WNJvTwVqVz1F"
   },
   "outputs": [],
   "source": [
    "import pandas as pd\n",
    "\n",
    "house_price_df = pd.read_csv('/content/drive/MyDrive/Colab Notebooks/prices.csv')"
   ]
  },
  {
   "cell_type": "code",
   "execution_count": 137,
   "metadata": {
    "colab": {
     "base_uri": "https://localhost:8080/",
     "height": 363
    },
    "id": "of5y1TVwXIpC",
    "outputId": "ec2cf627-da39-45aa-b501-81ddc7af6894"
   },
   "outputs": [
    {
     "data": {
      "text/html": [
       "<div>\n",
       "<style scoped>\n",
       "    .dataframe tbody tr th:only-of-type {\n",
       "        vertical-align: middle;\n",
       "    }\n",
       "\n",
       "    .dataframe tbody tr th {\n",
       "        vertical-align: top;\n",
       "    }\n",
       "\n",
       "    .dataframe thead th {\n",
       "        text-align: right;\n",
       "    }\n",
       "</style>\n",
       "<table border=\"1\" class=\"dataframe\">\n",
       "  <thead>\n",
       "    <tr style=\"text-align: right;\">\n",
       "      <th></th>\n",
       "      <th>date</th>\n",
       "      <th>symbol</th>\n",
       "      <th>open</th>\n",
       "      <th>close</th>\n",
       "      <th>low</th>\n",
       "      <th>high</th>\n",
       "      <th>volume</th>\n",
       "    </tr>\n",
       "  </thead>\n",
       "  <tbody>\n",
       "    <tr>\n",
       "      <th>602339</th>\n",
       "      <td>2015-01-07</td>\n",
       "      <td>TEL</td>\n",
       "      <td>61.599998</td>\n",
       "      <td>63.029999</td>\n",
       "      <td>61.320000</td>\n",
       "      <td>63.049999</td>\n",
       "      <td>1929000.0</td>\n",
       "    </tr>\n",
       "    <tr>\n",
       "      <th>391548</th>\n",
       "      <td>2013-04-23</td>\n",
       "      <td>WAT</td>\n",
       "      <td>89.449997</td>\n",
       "      <td>92.099998</td>\n",
       "      <td>89.230003</td>\n",
       "      <td>95.519997</td>\n",
       "      <td>1856800.0</td>\n",
       "    </tr>\n",
       "    <tr>\n",
       "      <th>277395</th>\n",
       "      <td>2012-05-07</td>\n",
       "      <td>EMR</td>\n",
       "      <td>48.520000</td>\n",
       "      <td>48.700001</td>\n",
       "      <td>48.509998</td>\n",
       "      <td>49.049999</td>\n",
       "      <td>3893300.0</td>\n",
       "    </tr>\n",
       "    <tr>\n",
       "      <th>684165</th>\n",
       "      <td>2015-09-03</td>\n",
       "      <td>CSCO</td>\n",
       "      <td>25.879999</td>\n",
       "      <td>25.900000</td>\n",
       "      <td>25.730000</td>\n",
       "      <td>26.150000</td>\n",
       "      <td>27958400.0</td>\n",
       "    </tr>\n",
       "    <tr>\n",
       "      <th>646426</th>\n",
       "      <td>2015-05-18</td>\n",
       "      <td>AZO</td>\n",
       "      <td>690.000000</td>\n",
       "      <td>693.520020</td>\n",
       "      <td>688.880005</td>\n",
       "      <td>695.500000</td>\n",
       "      <td>280600.0</td>\n",
       "    </tr>\n",
       "    <tr>\n",
       "      <th>651579</th>\n",
       "      <td>2015-06-02</td>\n",
       "      <td>LB</td>\n",
       "      <td>86.370003</td>\n",
       "      <td>86.190002</td>\n",
       "      <td>85.860001</td>\n",
       "      <td>86.889999</td>\n",
       "      <td>1172800.0</td>\n",
       "    </tr>\n",
       "    <tr>\n",
       "      <th>46165</th>\n",
       "      <td>2010-05-25</td>\n",
       "      <td>AMT</td>\n",
       "      <td>38.820000</td>\n",
       "      <td>39.630001</td>\n",
       "      <td>38.400002</td>\n",
       "      <td>39.680000</td>\n",
       "      <td>5042600.0</td>\n",
       "    </tr>\n",
       "    <tr>\n",
       "      <th>555785</th>\n",
       "      <td>2014-08-21</td>\n",
       "      <td>TSO</td>\n",
       "      <td>64.849998</td>\n",
       "      <td>63.980000</td>\n",
       "      <td>63.740002</td>\n",
       "      <td>64.849998</td>\n",
       "      <td>2495600.0</td>\n",
       "    </tr>\n",
       "    <tr>\n",
       "      <th>654555</th>\n",
       "      <td>2015-06-10</td>\n",
       "      <td>LRCX</td>\n",
       "      <td>82.550003</td>\n",
       "      <td>82.639999</td>\n",
       "      <td>82.019997</td>\n",
       "      <td>82.839996</td>\n",
       "      <td>1172400.0</td>\n",
       "    </tr>\n",
       "    <tr>\n",
       "      <th>15061</th>\n",
       "      <td>2010-02-18</td>\n",
       "      <td>NEE</td>\n",
       "      <td>45.849998</td>\n",
       "      <td>45.740002</td>\n",
       "      <td>45.570000</td>\n",
       "      <td>45.900002</td>\n",
       "      <td>2949000.0</td>\n",
       "    </tr>\n",
       "  </tbody>\n",
       "</table>\n",
       "</div>"
      ],
      "text/plain": [
       "              date symbol        open  ...         low        high      volume\n",
       "602339  2015-01-07    TEL   61.599998  ...   61.320000   63.049999   1929000.0\n",
       "391548  2013-04-23    WAT   89.449997  ...   89.230003   95.519997   1856800.0\n",
       "277395  2012-05-07    EMR   48.520000  ...   48.509998   49.049999   3893300.0\n",
       "684165  2015-09-03   CSCO   25.879999  ...   25.730000   26.150000  27958400.0\n",
       "646426  2015-05-18    AZO  690.000000  ...  688.880005  695.500000    280600.0\n",
       "651579  2015-06-02     LB   86.370003  ...   85.860001   86.889999   1172800.0\n",
       "46165   2010-05-25    AMT   38.820000  ...   38.400002   39.680000   5042600.0\n",
       "555785  2014-08-21    TSO   64.849998  ...   63.740002   64.849998   2495600.0\n",
       "654555  2015-06-10   LRCX   82.550003  ...   82.019997   82.839996   1172400.0\n",
       "15061   2010-02-18    NEE   45.849998  ...   45.570000   45.900002   2949000.0\n",
       "\n",
       "[10 rows x 7 columns]"
      ]
     },
     "execution_count": 137,
     "metadata": {
      "tags": []
     },
     "output_type": "execute_result"
    }
   ],
   "source": [
    "house_price_df.sample(10)"
   ]
  },
  {
   "cell_type": "code",
   "execution_count": 138,
   "metadata": {
    "colab": {
     "base_uri": "https://localhost:8080/"
    },
    "id": "bsBWn6ozXfkm",
    "outputId": "4f14f1b5-b9f5-43d1-a9ad-713b58104fb1"
   },
   "outputs": [
    {
     "data": {
      "text/plain": [
       "(851264, 7)"
      ]
     },
     "execution_count": 138,
     "metadata": {
      "tags": []
     },
     "output_type": "execute_result"
    }
   ],
   "source": [
    "house_price_df.shape"
   ]
  },
  {
   "cell_type": "markdown",
   "metadata": {
    "id": "HlLKVPVH_BCT"
   },
   "source": [
    "## Question 2"
   ]
  },
  {
   "cell_type": "markdown",
   "metadata": {
    "id": "9J4BlzVA_gZd"
   },
   "source": [
    "### Drop columnns\n",
    "- drop \"date\" and \"symbol\" column from the data"
   ]
  },
  {
   "cell_type": "code",
   "execution_count": 139,
   "metadata": {
    "colab": {
     "base_uri": "https://localhost:8080/"
    },
    "id": "IKEK8aEE_Csx",
    "outputId": "afab89fe-d7cd-4479-d436-0a9f2c443d53"
   },
   "outputs": [
    {
     "data": {
      "text/plain": [
       "Index(['date', 'symbol', 'open', 'close', 'low', 'high', 'volume'], dtype='object')"
      ]
     },
     "execution_count": 139,
     "metadata": {
      "tags": []
     },
     "output_type": "execute_result"
    }
   ],
   "source": [
    "house_price_df.columns"
   ]
  },
  {
   "cell_type": "code",
   "execution_count": 140,
   "metadata": {
    "id": "GNowXkfYXsjS"
   },
   "outputs": [],
   "source": [
    "house_price_df.drop(columns=['date','symbol'],inplace=True)"
   ]
  },
  {
   "cell_type": "code",
   "execution_count": 141,
   "metadata": {
    "colab": {
     "base_uri": "https://localhost:8080/"
    },
    "id": "eDnwwr9oYJxg",
    "outputId": "9bde191a-e114-462f-8752-2509bf974f50"
   },
   "outputs": [
    {
     "data": {
      "text/plain": [
       "(851264, 5)"
      ]
     },
     "execution_count": 141,
     "metadata": {
      "tags": []
     },
     "output_type": "execute_result"
    }
   ],
   "source": [
    "house_price_df.shape"
   ]
  },
  {
   "cell_type": "markdown",
   "metadata": {
    "id": "cTPhO6v-AiZt"
   },
   "source": [
    "## Question 3"
   ]
  },
  {
   "cell_type": "markdown",
   "metadata": {
    "id": "SsZXmF3NAkna"
   },
   "source": [
    "### Take initial rows\n",
    "- Take first 1000 rows from the data\n",
    "- This step is done to make the execution faster"
   ]
  },
  {
   "cell_type": "code",
   "execution_count": 142,
   "metadata": {
    "id": "aKs04iIHAjxN"
   },
   "outputs": [],
   "source": [
    "house_price_1000_df = house_price_df.head(1000)"
   ]
  },
  {
   "cell_type": "code",
   "execution_count": 143,
   "metadata": {
    "colab": {
     "base_uri": "https://localhost:8080/"
    },
    "id": "Ro7oH0lkYSrl",
    "outputId": "64cd8886-534b-49e1-8047-6d4023100b8b"
   },
   "outputs": [
    {
     "data": {
      "text/plain": [
       "(1000, 5)"
      ]
     },
     "execution_count": 143,
     "metadata": {
      "tags": []
     },
     "output_type": "execute_result"
    }
   ],
   "source": [
    "house_price_1000_df.shape"
   ]
  },
  {
   "cell_type": "markdown",
   "metadata": {
    "id": "6vGtnapgBIJm"
   },
   "source": [
    "## Question 4"
   ]
  },
  {
   "cell_type": "markdown",
   "metadata": {
    "id": "C8u_jlbABTip"
   },
   "source": [
    "### Get features and label from the dataset in separate variable\n",
    "- Take \"open\", \"close\", \"low\", \"high\" columns as features\n",
    "- Take \"volume\" column as label\n",
    "- Normalize label column by dividing it with 1000000"
   ]
  },
  {
   "cell_type": "code",
   "execution_count": 144,
   "metadata": {
    "id": "xQjCMzUXBJbg"
   },
   "outputs": [],
   "source": [
    "X = house_price_1000_df[['open','close','low','high']]"
   ]
  },
  {
   "cell_type": "code",
   "execution_count": 145,
   "metadata": {
    "id": "rc5PQcZVYr_7"
   },
   "outputs": [],
   "source": [
    "y = house_price_1000_df['volume']/1000000"
   ]
  },
  {
   "cell_type": "code",
   "execution_count": 146,
   "metadata": {
    "colab": {
     "base_uri": "https://localhost:8080/"
    },
    "id": "aP8GzY48Yx0z",
    "outputId": "35ba7624-b74a-4d2e-bead-985c0bb80d01"
   },
   "outputs": [
    {
     "name": "stdout",
     "output_type": "stream",
     "text": [
      "(1000, 4)\n",
      "(1000,)\n"
     ]
    }
   ],
   "source": [
    "print(X.shape)\n",
    "print(y.shape)"
   ]
  },
  {
   "cell_type": "markdown",
   "metadata": {
    "id": "aTAKzlxZBz0z"
   },
   "source": [
    "## Question 5"
   ]
  },
  {
   "cell_type": "markdown",
   "metadata": {
    "id": "IfY8Km1Zzyt2"
   },
   "source": [
    "### Convert data\n",
    "- Convert features and labels to numpy array\n",
    "- Convert their data type to \"float32\""
   ]
  },
  {
   "cell_type": "code",
   "execution_count": 147,
   "metadata": {
    "id": "Ko7nnQVbYENh"
   },
   "outputs": [],
   "source": [
    "X = np.asarray(X,dtype='float32')\n",
    "y = np.asarray(y,dtype='float32')"
   ]
  },
  {
   "cell_type": "code",
   "execution_count": 148,
   "metadata": {
    "colab": {
     "base_uri": "https://localhost:8080/"
    },
    "id": "fWkgj8SkZEnb",
    "outputId": "167ac874-908d-4a5f-9570-dda2940b8164"
   },
   "outputs": [
    {
     "name": "stdout",
     "output_type": "stream",
     "text": [
      "(1000, 4)\n",
      "(1000,)\n"
     ]
    }
   ],
   "source": [
    "print(X.shape)\n",
    "print(y.shape)"
   ]
  },
  {
   "cell_type": "markdown",
   "metadata": {
    "id": "3TWpN0nVTpUx"
   },
   "source": [
    "## Question 6"
   ]
  },
  {
   "cell_type": "markdown",
   "metadata": {
    "id": "WQ1FKEs-4btX"
   },
   "source": [
    "### Normalize data\n",
    "- Normalize features\n",
    "- Use tf.math.l2_normalize to normalize features\n",
    "- You can read more about it here https://www.tensorflow.org/api_docs/python/tf/math/l2_normalize"
   ]
  },
  {
   "cell_type": "code",
   "execution_count": 149,
   "metadata": {
    "id": "V0Tfe00X78wB"
   },
   "outputs": [],
   "source": [
    "X = tf.math.l2_normalize(X)"
   ]
  },
  {
   "cell_type": "code",
   "execution_count": 150,
   "metadata": {
    "colab": {
     "base_uri": "https://localhost:8080/"
    },
    "id": "lMhdPjyImoS_",
    "outputId": "cf9aff14-df8a-4060-abc4-bbf530c69bc9"
   },
   "outputs": [
    {
     "data": {
      "text/plain": [
       "<tf.Tensor: shape=(1000, 4), dtype=float32, numpy=\n",
       "array([[0.02202893, 0.02245905, 0.02182904, 0.02253223],\n",
       "       [0.02235197, 0.0214132 , 0.02140606, 0.02240551],\n",
       "       [0.0207707 , 0.02051548, 0.02051191, 0.02137037],\n",
       "       ...,\n",
       "       [0.00505436, 0.00513467, 0.00499903, 0.00514181],\n",
       "       [0.00785282, 0.00799559, 0.0078082 , 0.00799738],\n",
       "       [0.00643931, 0.00662849, 0.00642682, 0.00664455]], dtype=float32)>"
      ]
     },
     "execution_count": 150,
     "metadata": {
      "tags": []
     },
     "output_type": "execute_result"
    }
   ],
   "source": [
    "X"
   ]
  },
  {
   "cell_type": "markdown",
   "metadata": {
    "id": "wmXUGc2oTspa"
   },
   "source": [
    "## Question 7"
   ]
  },
  {
   "cell_type": "markdown",
   "metadata": {
    "id": "VJelDMpzxs0L"
   },
   "source": [
    "### Define weight and bias\n",
    "- Initialize weight and bias with tf.zeros\n",
    "- tf.zeros is an initializer that generates tensors initialized to 0\n",
    "- Specify the value for shape"
   ]
  },
  {
   "cell_type": "code",
   "execution_count": 151,
   "metadata": {
    "id": "8o9RPWVTxs0O"
   },
   "outputs": [],
   "source": [
    "w = tf.zeros(shape=(4,1))\n",
    "b = tf.zeros(shape=(1,1))"
   ]
  },
  {
   "cell_type": "markdown",
   "metadata": {
    "id": "8a0wr94aTyjg"
   },
   "source": [
    "## Question 8"
   ]
  },
  {
   "cell_type": "markdown",
   "metadata": {
    "id": "zMXXYdOSxs0Q"
   },
   "source": [
    "### Get prediction\n",
    "- Define a function to get prediction\n",
    "- Approach: prediction = (X * W) + b; here is X is features"
   ]
  },
  {
   "cell_type": "code",
   "execution_count": 152,
   "metadata": {
    "id": "U8Cty1y0xs0S"
   },
   "outputs": [],
   "source": [
    "def prediction(x,w,b):\n",
    "  xw_matmul = tf.matmul(x,w)\n",
    "  output = tf.add(xw_matmul,b)\n",
    "  return output"
   ]
  },
  {
   "cell_type": "markdown",
   "metadata": {
    "id": "lQmS3Tauxs0V"
   },
   "source": [
    "### Calculate loss\n",
    "- Calculate loss using predictions\n",
    "- Define a function to calculate loss\n",
    "- We are calculating mean squared error"
   ]
  },
  {
   "cell_type": "code",
   "execution_count": 153,
   "metadata": {
    "id": "-FRXmDd5xs0X"
   },
   "outputs": [],
   "source": [
    "def loss(y_actual,y_predicted):\n",
    "  diff = y_actual -y_predicted\n",
    "  square = tf.square(diff)\n",
    "  loss = tf.reduce_mean(square)\n",
    "  return loss"
   ]
  },
  {
   "cell_type": "markdown",
   "metadata": {
    "id": "ZbBpnOtfT0wd"
   },
   "source": [
    "## Question 9"
   ]
  },
  {
   "cell_type": "markdown",
   "metadata": {
    "id": "bkOzAUUsTmF_"
   },
   "source": [
    "### Define a function to train the model\n",
    "1.   Record all the mathematical steps to calculate Loss\n",
    "2.   Calculate Gradients of Loss w.r.t weights and bias\n",
    "3.   Update Weights and Bias based on gradients and learning rate to minimize loss"
   ]
  },
  {
   "cell_type": "code",
   "execution_count": 154,
   "metadata": {
    "id": "2R4uieGYLYtM"
   },
   "outputs": [],
   "source": [
    "def train(x, y_actual, w, b, learning_rate=0.01):\n",
    "    \n",
    "    #Record mathematical operations on 'tape' to calculate loss\n",
    "    with tf.GradientTape() as t:\n",
    "        \n",
    "      t.watch([w,b])\n",
    "        \n",
    "      current_prediction = prediction(x, w, b)\n",
    "      current_loss = loss(y_actual, current_prediction)\n",
    "    \n",
    "    #Calculate Gradients for Loss with respect to Weights and Bias\n",
    "    dw, db = t.gradient(current_loss,[w, b])\n",
    "    \n",
    "    #Update Weights and Bias - Gradient Descent\n",
    "    w = w - (learning_rate*dw)\n",
    "    b = b - (learning_rate*db)\n",
    "    \n",
    "    return w, b"
   ]
  },
  {
   "cell_type": "markdown",
   "metadata": {
    "id": "AW4SEP8kT2ls"
   },
   "source": [
    "## Question 10"
   ]
  },
  {
   "cell_type": "markdown",
   "metadata": {
    "id": "yeN0deOvT81N"
   },
   "source": [
    "### Train the model for 100 epochs \n",
    "- Observe the training loss at every iteration"
   ]
  },
  {
   "cell_type": "code",
   "execution_count": 155,
   "metadata": {
    "colab": {
     "base_uri": "https://localhost:8080/"
    },
    "id": "Jjkn4gUgLevE",
    "outputId": "c5ea6a48-d029-4e69-9669-9ab367482044"
   },
   "outputs": [
    {
     "name": "stdout",
     "output_type": "stream",
     "text": [
      "Current Loss on iteration 0 236.16766\n",
      "Current Loss on iteration 1 235.093\n",
      "Current Loss on iteration 2 234.06105\n",
      "Current Loss on iteration 3 233.06989\n",
      "Current Loss on iteration 4 232.11801\n",
      "Current Loss on iteration 5 231.20384\n",
      "Current Loss on iteration 6 230.32588\n",
      "Current Loss on iteration 7 229.48265\n",
      "Current Loss on iteration 8 228.6729\n",
      "Current Loss on iteration 9 227.89523\n",
      "Current Loss on iteration 10 227.14842\n",
      "Current Loss on iteration 11 226.4312\n",
      "Current Loss on iteration 12 225.74228\n",
      "Current Loss on iteration 13 225.08072\n",
      "Current Loss on iteration 14 224.4454\n",
      "Current Loss on iteration 15 223.83524\n",
      "Current Loss on iteration 16 223.24925\n",
      "Current Loss on iteration 17 222.68651\n",
      "Current Loss on iteration 18 222.14604\n",
      "Current Loss on iteration 19 221.62694\n",
      "Current Loss on iteration 20 221.12845\n",
      "Current Loss on iteration 21 220.64973\n",
      "Current Loss on iteration 22 220.18993\n",
      "Current Loss on iteration 23 219.7484\n",
      "Current Loss on iteration 24 219.32436\n",
      "Current Loss on iteration 25 218.91702\n",
      "Current Loss on iteration 26 218.52592\n",
      "Current Loss on iteration 27 218.15022\n",
      "Current Loss on iteration 28 217.78954\n",
      "Current Loss on iteration 29 217.44313\n",
      "Current Loss on iteration 30 217.11037\n",
      "Current Loss on iteration 31 216.79079\n",
      "Current Loss on iteration 32 216.48401\n",
      "Current Loss on iteration 33 216.18921\n",
      "Current Loss on iteration 34 215.90627\n",
      "Current Loss on iteration 35 215.63437\n",
      "Current Loss on iteration 36 215.37337\n",
      "Current Loss on iteration 37 215.12259\n",
      "Current Loss on iteration 38 214.88185\n",
      "Current Loss on iteration 39 214.65062\n",
      "Current Loss on iteration 40 214.42851\n",
      "Current Loss on iteration 41 214.21523\n",
      "Current Loss on iteration 42 214.01044\n",
      "Current Loss on iteration 43 213.8137\n",
      "Current Loss on iteration 44 213.62479\n",
      "Current Loss on iteration 45 213.44337\n",
      "Current Loss on iteration 46 213.26913\n",
      "Current Loss on iteration 47 213.10179\n",
      "Current Loss on iteration 48 212.94106\n",
      "Current Loss on iteration 49 212.7867\n",
      "Current Loss on iteration 50 212.63853\n",
      "Current Loss on iteration 51 212.49617\n",
      "Current Loss on iteration 52 212.35945\n",
      "Current Loss on iteration 53 212.22818\n",
      "Current Loss on iteration 54 212.10205\n",
      "Current Loss on iteration 55 211.98096\n",
      "Current Loss on iteration 56 211.86462\n",
      "Current Loss on iteration 57 211.75299\n",
      "Current Loss on iteration 58 211.64572\n",
      "Current Loss on iteration 59 211.54272\n",
      "Current Loss on iteration 60 211.44377\n",
      "Current Loss on iteration 61 211.34874\n",
      "Current Loss on iteration 62 211.2575\n",
      "Current Loss on iteration 63 211.16986\n",
      "Current Loss on iteration 64 211.0857\n",
      "Current Loss on iteration 65 211.0049\n",
      "Current Loss on iteration 66 210.92728\n",
      "Current Loss on iteration 67 210.85268\n",
      "Current Loss on iteration 68 210.78108\n",
      "Current Loss on iteration 69 210.71236\n",
      "Current Loss on iteration 70 210.64627\n",
      "Current Loss on iteration 71 210.58289\n",
      "Current Loss on iteration 72 210.52196\n",
      "Current Loss on iteration 73 210.46352\n",
      "Current Loss on iteration 74 210.40733\n",
      "Current Loss on iteration 75 210.35338\n",
      "Current Loss on iteration 76 210.30156\n",
      "Current Loss on iteration 77 210.25183\n",
      "Current Loss on iteration 78 210.20403\n",
      "Current Loss on iteration 79 210.15813\n",
      "Current Loss on iteration 80 210.11404\n",
      "Current Loss on iteration 81 210.07175\n",
      "Current Loss on iteration 82 210.0311\n",
      "Current Loss on iteration 83 209.99205\n",
      "Current Loss on iteration 84 209.95453\n",
      "Current Loss on iteration 85 209.91856\n",
      "Current Loss on iteration 86 209.88397\n",
      "Current Loss on iteration 87 209.85075\n",
      "Current Loss on iteration 88 209.81885\n",
      "Current Loss on iteration 89 209.78822\n",
      "Current Loss on iteration 90 209.75879\n",
      "Current Loss on iteration 91 209.73053\n",
      "Current Loss on iteration 92 209.70341\n",
      "Current Loss on iteration 93 209.67734\n",
      "Current Loss on iteration 94 209.65231\n",
      "Current Loss on iteration 95 209.62831\n",
      "Current Loss on iteration 96 209.60521\n",
      "Current Loss on iteration 97 209.58304\n",
      "Current Loss on iteration 98 209.5618\n",
      "Current Loss on iteration 99 209.54135\n"
     ]
    }
   ],
   "source": [
    "# Train for 100 iterations\n",
    "\n",
    "for i in range(100):\n",
    "   w, b = train(X,y,w,b)\n",
    "   print('Current Loss on iteration', i, \n",
    "          loss(y, prediction(X, w, b)).numpy())"
   ]
  },
  {
   "cell_type": "markdown",
   "metadata": {
    "id": "vanvD93FV0_k"
   },
   "source": [
    "### Observe values of Weight\n",
    "- Print the updated values"
   ]
  },
  {
   "cell_type": "code",
   "execution_count": 156,
   "metadata": {
    "colab": {
     "base_uri": "https://localhost:8080/"
    },
    "id": "QSqpy4gtWaOD",
    "outputId": "5bae73c7-2ecc-48da-cf38-7bec06472bd8"
   },
   "outputs": [
    {
     "name": "stdout",
     "output_type": "stream",
     "text": [
      "Weights:\n",
      " [[0.0547828 ]\n",
      " [0.05488191]\n",
      " [0.05422734]\n",
      " [0.05533117]]\n"
     ]
    }
   ],
   "source": [
    "#Check Weights\n",
    "print('Weights:\\n', w.numpy())"
   ]
  },
  {
   "cell_type": "markdown",
   "metadata": {
    "id": "y9KpRupYUEwy"
   },
   "source": [
    "### Observe values of Bias\n",
    "- Print the updated values"
   ]
  },
  {
   "cell_type": "code",
   "execution_count": 157,
   "metadata": {
    "colab": {
     "base_uri": "https://localhost:8080/"
    },
    "id": "bhEWkGqHWohg",
    "outputId": "8ed334b1-e6cc-4d9a-c666-ca74e2af80bc"
   },
   "outputs": [
    {
     "name": "stdout",
     "output_type": "stream",
     "text": [
      "Bias:\n",
      " [[4.607657]]\n"
     ]
    }
   ],
   "source": [
    "print('Bias:\\n',b.numpy())"
   ]
  }
 ],
 "metadata": {
  "colab": {
   "collapsed_sections": [],
   "name": "PGPAIML_MAR_R6_DNN_INTERNAL.ipynb",
   "provenance": [],
   "toc_visible": true
  },
  "kernelspec": {
   "display_name": "Python 3",
   "language": "python",
   "name": "python3"
  },
  "language_info": {
   "codemirror_mode": {
    "name": "ipython",
    "version": 3
   },
   "file_extension": ".py",
   "mimetype": "text/x-python",
   "name": "python",
   "nbconvert_exporter": "python",
   "pygments_lexer": "ipython3",
   "version": "3.7.4"
  }
 },
 "nbformat": 4,
 "nbformat_minor": 1
}
