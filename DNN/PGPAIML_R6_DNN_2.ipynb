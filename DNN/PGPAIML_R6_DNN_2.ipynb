{
  "nbformat": 4,
  "nbformat_minor": 0,
  "metadata": {
    "colab": {
      "name": "PGPAIML_R6_DNN_2.ipynb",
      "provenance": [],
      "collapsed_sections": []
    },
    "kernelspec": {
      "name": "python3",
      "display_name": "Python 3"
    },
    "language_info": {
      "name": "python"
    }
  },
  "cells": [
    {
      "cell_type": "code",
      "metadata": {
        "id": "3wpXsjzaBfhp"
      },
      "source": [
        "# Module Imports\n",
        "from __future__ import print_function\n",
        "import random\n",
        "from os import listdir\n",
        "import glob\n",
        "import pandas as pd\n",
        "\n",
        "import numpy as np\n",
        "from scipy import misc\n",
        "import tensorflow as tf\n",
        "import h5py\n",
        "\n",
        "from keras.utils import np_utils\n",
        "\n",
        "import tensorflow as tf\n",
        "from tensorflow.keras.models import Sequential\n",
        "from tensorflow.keras.layers import Flatten,Dense,Dropout,Input,BatchNormalization\n",
        "from keras.utils.vis_utils import plot_model\n",
        "\n",
        "from tensorflow.keras.utils import to_categorical\n",
        "\n",
        "\n",
        "import matplotlib.pyplot as plt\n",
        "%matplotlib inline"
      ],
      "execution_count": 24,
      "outputs": []
    },
    {
      "cell_type": "code",
      "metadata": {
        "id": "8iXsEpkaQjCH"
      },
      "source": [
        "# Setting the random seed so that the results are reproducible. \n",
        "random.seed(42)"
      ],
      "execution_count": 3,
      "outputs": []
    },
    {
      "cell_type": "markdown",
      "metadata": {
        "id": "pHIiZuAbRDJh"
      },
      "source": [
        "## **1. Import the data.**"
      ]
    },
    {
      "cell_type": "code",
      "metadata": {
        "colab": {
          "base_uri": "https://localhost:8080/"
        },
        "id": "AoiUKva2Bmma",
        "outputId": "bc1b8830-efdf-45e4-c3b2-71a8c88a6f98"
      },
      "source": [
        "from google.colab import drive\n",
        "drive.mount('/content/drive')"
      ],
      "execution_count": 4,
      "outputs": [
        {
          "output_type": "stream",
          "text": [
            "Mounted at /content/drive\n"
          ],
          "name": "stdout"
        }
      ]
    },
    {
      "cell_type": "markdown",
      "metadata": {
        "id": "5-0vy6pcKQff"
      },
      "source": [
        "**Reading the Dataset as .h5 file**"
      ]
    },
    {
      "cell_type": "code",
      "metadata": {
        "id": "0Q8aVMP1ENso"
      },
      "source": [
        "hf = h5py.File('/content/drive/MyDrive/Colab Notebooks/Autonomous_Vehicles_SVHN_single_grey1.h5', 'r')"
      ],
      "execution_count": 5,
      "outputs": []
    },
    {
      "cell_type": "code",
      "metadata": {
        "colab": {
          "base_uri": "https://localhost:8080/"
        },
        "id": "OKGqJhz5Eva8",
        "outputId": "c7f812d7-30c3-49e1-b56c-206d8d88c6bb"
      },
      "source": [
        "hf.keys()"
      ],
      "execution_count": 6,
      "outputs": [
        {
          "output_type": "execute_result",
          "data": {
            "text/plain": [
              "<KeysViewHDF5 ['X_test', 'X_train', 'X_val', 'y_test', 'y_train', 'y_val']>"
            ]
          },
          "metadata": {
            "tags": []
          },
          "execution_count": 6
        }
      ]
    },
    {
      "cell_type": "code",
      "metadata": {
        "id": "xCZo62PAOuyd"
      },
      "source": [
        "train_dataset=hf.get('X_train')\n",
        "\n",
        "# Convert Train Dataset to numpy Array\n",
        "train_arr = np.array(train_dataset)\n",
        "\n",
        "\n",
        "test_dataset=hf.get('X_test')\n",
        "\n",
        "# Convert Test Dataset to numpy Array\n",
        "test_arr = np.array(test_dataset)\n",
        "\n",
        "valid_dataset=hf.get('X_val')\n",
        "\n",
        "# Convert Validation Dataset to numpy Array\n",
        "\n",
        "validation_arr = np.array(valid_dataset)\n",
        "\n",
        "train_labels=hf.get('y_train')\n",
        "train_labels_arr = np.array(train_labels)\n",
        "\n",
        "test_labels=hf.get('y_test')\n",
        "test_labels_arr = np.array(test_labels)\n",
        "\n",
        "valid_labels=hf.get('y_val')\n",
        "validation_labels_arr = np.array(valid_labels)"
      ],
      "execution_count": 7,
      "outputs": []
    },
    {
      "cell_type": "code",
      "metadata": {
        "colab": {
          "base_uri": "https://localhost:8080/"
        },
        "id": "rFbB9GXlOu-x",
        "outputId": "4046b6f4-77f7-449d-d9e4-512e2d1a4786"
      },
      "source": [
        "print('Training set', train_arr.shape, train_labels_arr.shape)\n",
        "print('Validation set', validation_arr.shape, validation_labels_arr.shape)\n",
        "print('Test set', test_arr.shape, test_labels_arr.shape)"
      ],
      "execution_count": 67,
      "outputs": [
        {
          "output_type": "stream",
          "text": [
            "Training set (42000, 32, 32) (42000,)\n",
            "Validation set (60000, 32, 32) (60000,)\n",
            "Test set (18000, 32, 32) (18000,)\n"
          ],
          "name": "stdout"
        }
      ]
    },
    {
      "cell_type": "markdown",
      "metadata": {
        "id": "S9wGzo2aTXWo"
      },
      "source": [
        "# Observation:\n",
        "1 - On intial load of SVHN.h5 file we have observed there are 3 datasets and 3 target labels.\n",
        "\n",
        "2 - We have convert the datasets to nd array for further processing of the image.\n",
        "\n",
        "3 - Training Dataset has 42000 instances with 32 pixel rows and 32 pixel columns.\n",
        "\n",
        "4 - Validation set has 60000 instances with 32 pixel rows and 32 pixel columns.\n",
        "\n",
        "5 - Test set has 18000 insatnces with 32 pixel rows and 32 pixel columns. "
      ]
    },
    {
      "cell_type": "markdown",
      "metadata": {
        "id": "iVbyi-dMmijb"
      },
      "source": [
        "## 2. Data pre-processing and visualisation."
      ]
    },
    {
      "cell_type": "code",
      "metadata": {
        "colab": {
          "base_uri": "https://localhost:8080/",
          "height": 302
        },
        "id": "K1QRgnNHOvCH",
        "outputId": "8b7b250b-99cf-4f75-e810-acd7416cc8af"
      },
      "source": [
        "plt.figure()\n",
        "\n",
        "print(\"Label: {}\".format(train_labels_arr[8000]))\n",
        "plt.imshow(train_arr[8000], cmap='gray')"
      ],
      "execution_count": 8,
      "outputs": [
        {
          "output_type": "stream",
          "text": [
            "Label: 7\n"
          ],
          "name": "stdout"
        },
        {
          "output_type": "execute_result",
          "data": {
            "text/plain": [
              "<matplotlib.image.AxesImage at 0x7f17126dd5d0>"
            ]
          },
          "metadata": {
            "tags": []
          },
          "execution_count": 8
        },
        {
          "output_type": "display_data",
          "data": {
            "image/png": "[encoded data removed]",
            "text/plain": [
              "<Figure size 432x288 with 1 Axes>"
            ]
          },
          "metadata": {
            "tags": [],
            "needs_background": "light"
          }
        }
      ]
    },
    {
      "cell_type": "markdown",
      "metadata": {
        "id": "p78GDB14S8VP"
      },
      "source": [
        "# Observations:\n",
        "  1 - Above shown one of the image label, We can see the image label as 7 and the same has been shown as the image."
      ]
    },
    {
      "cell_type": "code",
      "metadata": {
        "id": "geprmXpDOvE3"
      },
      "source": [
        "def prep_data_keras(img_data):\n",
        "    \n",
        "    # Reshaping data for keras, with tensorflow as backend\n",
        "    img_data = img_data.reshape(len(img_data), 32, 32, 1)\n",
        "    \n",
        "    # Converting everything to floats\n",
        "    img_data = img_data.astype('float32')\n",
        "    \n",
        "    # Normalizing values between 0 and 1\n",
        "    img_data /= 255\n",
        "    \n",
        "    return img_data"
      ],
      "execution_count": 9,
      "outputs": []
    },
    {
      "cell_type": "code",
      "metadata": {
        "id": "LKkUkGIKOvIy"
      },
      "source": [
        "train_images = prep_data_keras(train_arr)\n",
        "test_images = prep_data_keras(test_arr)\n",
        "valid_images = prep_data_keras(validation_arr)"
      ],
      "execution_count": 10,
      "outputs": []
    },
    {
      "cell_type": "code",
      "metadata": {
        "colab": {
          "base_uri": "https://localhost:8080/"
        },
        "id": "3pI0yDQ2Ew1d",
        "outputId": "63dd5891-6e20-44a7-c37f-b621ef590150"
      },
      "source": [
        "print(np.shape(train_images))\n",
        "print(np.shape(test_images))\n",
        "print(np.shape(valid_images))"
      ],
      "execution_count": 11,
      "outputs": [
        {
          "output_type": "stream",
          "text": [
            "(42000, 32, 32, 1)\n",
            "(18000, 32, 32, 1)\n",
            "(60000, 32, 32, 1)\n"
          ],
          "name": "stdout"
        }
      ]
    },
    {
      "cell_type": "code",
      "metadata": {
        "colab": {
          "base_uri": "https://localhost:8080/"
        },
        "id": "J13hE9KMLMw7",
        "outputId": "2bd80dad-9d71-44ed-817d-f5cbbccdddad"
      },
      "source": [
        "print(\"Max value in X_train:\", train_images.max())\n",
        "print(\"Min value in X_train:\", train_images.min())"
      ],
      "execution_count": 12,
      "outputs": [
        {
          "output_type": "stream",
          "text": [
            "Max value in X_train: 0.9999\n",
            "Min value in X_train: 0.0\n"
          ],
          "name": "stdout"
        }
      ]
    },
    {
      "cell_type": "code",
      "metadata": {
        "colab": {
          "base_uri": "https://localhost:8080/"
        },
        "id": "-B1ZC3jdLOMq",
        "outputId": "53c49356-dffe-41e1-b5f1-2a3178537059"
      },
      "source": [
        "# One Hot Encoding\n",
        "\n",
        "train_labels_arr = to_categorical(train_labels_arr, num_classes=10)\n",
        "test_labels_arr = to_categorical(test_labels_arr, num_classes=10)\n",
        "validation_labels_arr = to_categorical(validation_labels_arr, num_classes=10)\n",
        "\n",
        "\n",
        "print(\"Shape of train_labels:\", np.shape(train_labels_arr))\n"
      ],
      "execution_count": 13,
      "outputs": [
        {
          "output_type": "stream",
          "text": [
            "Shape of train_labels: (42000, 10)\n"
          ],
          "name": "stdout"
        }
      ]
    },
    {
      "cell_type": "code",
      "metadata": {
        "colab": {
          "base_uri": "https://localhost:8080/"
        },
        "id": "yFxUo13lMSRs",
        "outputId": "ec884615-7577-4e6e-d736-3fa705d64aee"
      },
      "source": [
        "print(\"One of the value of train_labels:\", train_labels_arr[0])"
      ],
      "execution_count": 14,
      "outputs": [
        {
          "output_type": "stream",
          "text": [
            "One of the value of train_labels: [0. 0. 1. 0. 0. 0. 0. 0. 0. 0.]\n"
          ],
          "name": "stdout"
        }
      ]
    },
    {
      "cell_type": "code",
      "metadata": {
        "colab": {
          "base_uri": "https://localhost:8080/"
        },
        "id": "Q8ysfZMoN6c2",
        "outputId": "543392fc-2658-4511-d17a-e311fc58353e"
      },
      "source": [
        "print(\"Shape of test_labels:\", np.shape(test_labels_arr))\n",
        "print(\"Shape of validation_labels:\", np.shape(validation_labels_arr))"
      ],
      "execution_count": 15,
      "outputs": [
        {
          "output_type": "stream",
          "text": [
            "Shape of test_labels: (18000, 10)\n",
            "Shape of validation_labels: (60000, 10)\n"
          ],
          "name": "stdout"
        }
      ]
    },
    {
      "cell_type": "markdown",
      "metadata": {
        "id": "kqfeX2JXJ7Rx"
      },
      "source": [
        "#3. Design, train, tune and test a neural network image classifier."
      ]
    },
    {
      "cell_type": "code",
      "metadata": {
        "id": "35ieD3hcu_8V"
      },
      "source": [
        "from tensorflow.keras.models import Sequential\n",
        "from tensorflow.keras.layers import Flatten, Dense,Dropout,Input,BatchNormalization"
      ],
      "execution_count": 16,
      "outputs": []
    },
    {
      "cell_type": "code",
      "metadata": {
        "id": "9_bhEMpuMTFs"
      },
      "source": [
        "model = Sequential()\n",
        "model.add(Flatten())\n",
        "#Normalize the data\n",
        "model.add(tf.keras.layers.BatchNormalization())\n",
        "model.add(Dense(128, activation=\"relu\"))\n",
        "model.add(Dense(64, activation=\"relu\"))\n",
        "model.add(Dense(32, activation=\"relu\"))\n",
        "model.add(Dense(16, activation=\"relu\"))\n",
        "\n",
        "model.add(Dense(10, activation=\"softmax\"))"
      ],
      "execution_count": 19,
      "outputs": []
    },
    {
      "cell_type": "code",
      "metadata": {
        "colab": {
          "base_uri": "https://localhost:8080/"
        },
        "id": "MyRIIuK4MZCs",
        "outputId": "27035831-1f23-4893-d0c3-20a9fb9198e5"
      },
      "source": [
        "# Compile the model\n",
        "model.compile(loss=\"categorical_crossentropy\", metrics=[\"accuracy\"], optimizer=\"sgd\")\n",
        "callback = tf.keras.callbacks.EarlyStopping(monitor='val_loss',patience = 10,restore_best_weights=True,mode = 'min')\n",
        "# Fit the model\n",
        "history = model.fit(x=train_images, y=train_labels_arr,batch_size=32,epochs=200,verbose=1,validation_data=(valid_images, validation_labels_arr),callbacks=callback)"
      ],
      "execution_count": 21,
      "outputs": [
        {
          "output_type": "stream",
          "text": [
            "Epoch 1/200\n",
            "1313/1313 [==============================] - 8s 5ms/step - loss: 1.9655 - accuracy: 0.3110 - val_loss: 1.3557 - val_accuracy: 0.5748\n",
            "Epoch 2/200\n",
            "1313/1313 [==============================] - 6s 5ms/step - loss: 1.2380 - accuracy: 0.6045 - val_loss: 1.0141 - val_accuracy: 0.6828\n",
            "Epoch 3/200\n",
            "1313/1313 [==============================] - 6s 5ms/step - loss: 1.0163 - accuracy: 0.6813 - val_loss: 0.8539 - val_accuracy: 0.7384\n",
            "Epoch 4/200\n",
            "1313/1313 [==============================] - 6s 5ms/step - loss: 0.9107 - accuracy: 0.7170 - val_loss: 0.7639 - val_accuracy: 0.7715\n",
            "Epoch 5/200\n",
            "1313/1313 [==============================] - 7s 5ms/step - loss: 0.8377 - accuracy: 0.7400 - val_loss: 0.8324 - val_accuracy: 0.7504\n",
            "Epoch 6/200\n",
            "1313/1313 [==============================] - 7s 5ms/step - loss: 0.7841 - accuracy: 0.7526 - val_loss: 0.7020 - val_accuracy: 0.7875\n",
            "Epoch 7/200\n",
            "1313/1313 [==============================] - 6s 5ms/step - loss: 0.7426 - accuracy: 0.7689 - val_loss: 0.7052 - val_accuracy: 0.7878\n",
            "Epoch 8/200\n",
            "1313/1313 [==============================] - 6s 5ms/step - loss: 0.7120 - accuracy: 0.7775 - val_loss: 0.5999 - val_accuracy: 0.8210\n",
            "Epoch 9/200\n",
            "1313/1313 [==============================] - 6s 4ms/step - loss: 0.6875 - accuracy: 0.7852 - val_loss: 0.6163 - val_accuracy: 0.8134\n",
            "Epoch 10/200\n",
            "1313/1313 [==============================] - 6s 5ms/step - loss: 0.6634 - accuracy: 0.7937 - val_loss: 0.5350 - val_accuracy: 0.8414\n",
            "Epoch 11/200\n",
            "1313/1313 [==============================] - 6s 5ms/step - loss: 0.6427 - accuracy: 0.8003 - val_loss: 0.5828 - val_accuracy: 0.8222\n",
            "Epoch 12/200\n",
            "1313/1313 [==============================] - 6s 5ms/step - loss: 0.6278 - accuracy: 0.8055 - val_loss: 0.5747 - val_accuracy: 0.8267\n",
            "Epoch 13/200\n",
            "1313/1313 [==============================] - 7s 5ms/step - loss: 0.6148 - accuracy: 0.8088 - val_loss: 0.5432 - val_accuracy: 0.8375\n",
            "Epoch 14/200\n",
            "1313/1313 [==============================] - 6s 5ms/step - loss: 0.5980 - accuracy: 0.8122 - val_loss: 0.5543 - val_accuracy: 0.8318\n",
            "Epoch 15/200\n",
            "1313/1313 [==============================] - 6s 5ms/step - loss: 0.5884 - accuracy: 0.8153 - val_loss: 0.5268 - val_accuracy: 0.8437\n",
            "Epoch 16/200\n",
            "1313/1313 [==============================] - 7s 5ms/step - loss: 0.5789 - accuracy: 0.8189 - val_loss: 0.5099 - val_accuracy: 0.8463\n",
            "Epoch 17/200\n",
            "1313/1313 [==============================] - 6s 5ms/step - loss: 0.5686 - accuracy: 0.8234 - val_loss: 0.4704 - val_accuracy: 0.8613\n",
            "Epoch 18/200\n",
            "1313/1313 [==============================] - 7s 5ms/step - loss: 0.5566 - accuracy: 0.8266 - val_loss: 0.4959 - val_accuracy: 0.8514\n",
            "Epoch 19/200\n",
            "1313/1313 [==============================] - 6s 5ms/step - loss: 0.5431 - accuracy: 0.8307 - val_loss: 0.4760 - val_accuracy: 0.8580\n",
            "Epoch 20/200\n",
            "1313/1313 [==============================] - 6s 5ms/step - loss: 0.5341 - accuracy: 0.8320 - val_loss: 0.4474 - val_accuracy: 0.8680\n",
            "Epoch 21/200\n",
            "1313/1313 [==============================] - 6s 5ms/step - loss: 0.5270 - accuracy: 0.8332 - val_loss: 0.4373 - val_accuracy: 0.8726\n",
            "Epoch 22/200\n",
            "1313/1313 [==============================] - 6s 5ms/step - loss: 0.5208 - accuracy: 0.8360 - val_loss: 0.4407 - val_accuracy: 0.8711\n",
            "Epoch 23/200\n",
            "1313/1313 [==============================] - 7s 5ms/step - loss: 0.5124 - accuracy: 0.8390 - val_loss: 0.4358 - val_accuracy: 0.8711\n",
            "Epoch 24/200\n",
            "1313/1313 [==============================] - 7s 5ms/step - loss: 0.5074 - accuracy: 0.8395 - val_loss: 0.4322 - val_accuracy: 0.8726\n",
            "Epoch 25/200\n",
            "1313/1313 [==============================] - 7s 5ms/step - loss: 0.5028 - accuracy: 0.8415 - val_loss: 0.4375 - val_accuracy: 0.8716\n",
            "Epoch 26/200\n",
            "1313/1313 [==============================] - 7s 5ms/step - loss: 0.4955 - accuracy: 0.8438 - val_loss: 0.4864 - val_accuracy: 0.8562\n",
            "Epoch 27/200\n",
            "1313/1313 [==============================] - 7s 5ms/step - loss: 0.4870 - accuracy: 0.8467 - val_loss: 0.4136 - val_accuracy: 0.8779\n",
            "Epoch 28/200\n",
            "1313/1313 [==============================] - 6s 5ms/step - loss: 0.4805 - accuracy: 0.8481 - val_loss: 0.4187 - val_accuracy: 0.8772\n",
            "Epoch 29/200\n",
            "1313/1313 [==============================] - 7s 5ms/step - loss: 0.4746 - accuracy: 0.8487 - val_loss: 0.4074 - val_accuracy: 0.8798\n",
            "Epoch 30/200\n",
            "1313/1313 [==============================] - 6s 5ms/step - loss: 0.4737 - accuracy: 0.8482 - val_loss: 0.4448 - val_accuracy: 0.8671\n",
            "Epoch 31/200\n",
            "1313/1313 [==============================] - 7s 5ms/step - loss: 0.4661 - accuracy: 0.8508 - val_loss: 0.4152 - val_accuracy: 0.8777\n",
            "Epoch 32/200\n",
            "1313/1313 [==============================] - 6s 5ms/step - loss: 0.4603 - accuracy: 0.8539 - val_loss: 0.4384 - val_accuracy: 0.8714\n",
            "Epoch 33/200\n",
            "1313/1313 [==============================] - 7s 5ms/step - loss: 0.4574 - accuracy: 0.8553 - val_loss: 0.4633 - val_accuracy: 0.8636\n",
            "Epoch 34/200\n",
            "1313/1313 [==============================] - 6s 5ms/step - loss: 0.4561 - accuracy: 0.8539 - val_loss: 0.4022 - val_accuracy: 0.8823\n",
            "Epoch 35/200\n",
            "1313/1313 [==============================] - 7s 5ms/step - loss: 0.4489 - accuracy: 0.8569 - val_loss: 0.4385 - val_accuracy: 0.8693\n",
            "Epoch 36/200\n",
            "1313/1313 [==============================] - 6s 5ms/step - loss: 0.4443 - accuracy: 0.8583 - val_loss: 0.3933 - val_accuracy: 0.8829\n",
            "Epoch 37/200\n",
            "1313/1313 [==============================] - 7s 5ms/step - loss: 0.4426 - accuracy: 0.8574 - val_loss: 0.3628 - val_accuracy: 0.8954\n",
            "Epoch 38/200\n",
            "1313/1313 [==============================] - 6s 5ms/step - loss: 0.4370 - accuracy: 0.8598 - val_loss: 0.3714 - val_accuracy: 0.8907\n",
            "Epoch 39/200\n",
            "1313/1313 [==============================] - 7s 5ms/step - loss: 0.4390 - accuracy: 0.8600 - val_loss: 0.3888 - val_accuracy: 0.8857\n",
            "Epoch 40/200\n",
            "1313/1313 [==============================] - 6s 5ms/step - loss: 0.4322 - accuracy: 0.8621 - val_loss: 0.3973 - val_accuracy: 0.8830\n",
            "Epoch 41/200\n",
            "1313/1313 [==============================] - 6s 5ms/step - loss: 0.4202 - accuracy: 0.8651 - val_loss: 0.3559 - val_accuracy: 0.8960\n",
            "Epoch 42/200\n",
            "1313/1313 [==============================] - 7s 5ms/step - loss: 0.4220 - accuracy: 0.8648 - val_loss: 0.3721 - val_accuracy: 0.8898\n",
            "Epoch 43/200\n",
            "1313/1313 [==============================] - 7s 5ms/step - loss: 0.4211 - accuracy: 0.8631 - val_loss: 0.3829 - val_accuracy: 0.8864\n",
            "Epoch 44/200\n",
            "1313/1313 [==============================] - 7s 5ms/step - loss: 0.4157 - accuracy: 0.8672 - val_loss: 0.3499 - val_accuracy: 0.9001\n",
            "Epoch 45/200\n",
            "1313/1313 [==============================] - 7s 5ms/step - loss: 0.4110 - accuracy: 0.8673 - val_loss: 0.3767 - val_accuracy: 0.8909\n",
            "Epoch 46/200\n",
            "1313/1313 [==============================] - 7s 5ms/step - loss: 0.4082 - accuracy: 0.8688 - val_loss: 0.3545 - val_accuracy: 0.8990\n",
            "Epoch 47/200\n",
            "1313/1313 [==============================] - 6s 5ms/step - loss: 0.4062 - accuracy: 0.8706 - val_loss: 0.3465 - val_accuracy: 0.8995\n",
            "Epoch 48/200\n",
            "1313/1313 [==============================] - 6s 5ms/step - loss: 0.4044 - accuracy: 0.8685 - val_loss: 0.3560 - val_accuracy: 0.8978\n",
            "Epoch 49/200\n",
            "1313/1313 [==============================] - 7s 5ms/step - loss: 0.3995 - accuracy: 0.8716 - val_loss: 0.3522 - val_accuracy: 0.8982\n",
            "Epoch 50/200\n",
            "1313/1313 [==============================] - 7s 5ms/step - loss: 0.3992 - accuracy: 0.8717 - val_loss: 0.3579 - val_accuracy: 0.8967\n",
            "Epoch 51/200\n",
            "1313/1313 [==============================] - 6s 5ms/step - loss: 0.3937 - accuracy: 0.8725 - val_loss: 0.3549 - val_accuracy: 0.8962\n",
            "Epoch 52/200\n",
            "1313/1313 [==============================] - 6s 5ms/step - loss: 0.3909 - accuracy: 0.8735 - val_loss: 0.3399 - val_accuracy: 0.9022\n",
            "Epoch 53/200\n",
            "1313/1313 [==============================] - 6s 5ms/step - loss: 0.3930 - accuracy: 0.8752 - val_loss: 0.3338 - val_accuracy: 0.9041\n",
            "Epoch 54/200\n",
            "1313/1313 [==============================] - 6s 5ms/step - loss: 0.3876 - accuracy: 0.8743 - val_loss: 0.3276 - val_accuracy: 0.9066\n",
            "Epoch 55/200\n",
            "1313/1313 [==============================] - 7s 5ms/step - loss: 0.3857 - accuracy: 0.8765 - val_loss: 0.3312 - val_accuracy: 0.9054\n",
            "Epoch 56/200\n",
            "1313/1313 [==============================] - 6s 5ms/step - loss: 0.3857 - accuracy: 0.8752 - val_loss: 0.3482 - val_accuracy: 0.8981\n",
            "Epoch 57/200\n",
            "1313/1313 [==============================] - 6s 5ms/step - loss: 0.3835 - accuracy: 0.8779 - val_loss: 0.3382 - val_accuracy: 0.9021\n",
            "Epoch 58/200\n",
            "1313/1313 [==============================] - 6s 5ms/step - loss: 0.3812 - accuracy: 0.8765 - val_loss: 0.3867 - val_accuracy: 0.8851\n",
            "Epoch 59/200\n",
            "1313/1313 [==============================] - 6s 5ms/step - loss: 0.3809 - accuracy: 0.8769 - val_loss: 0.3581 - val_accuracy: 0.8953\n",
            "Epoch 60/200\n",
            "1313/1313 [==============================] - 7s 5ms/step - loss: 0.3769 - accuracy: 0.8794 - val_loss: 0.3489 - val_accuracy: 0.8986\n",
            "Epoch 61/200\n",
            "1313/1313 [==============================] - 7s 5ms/step - loss: 0.3741 - accuracy: 0.8775 - val_loss: 0.3313 - val_accuracy: 0.9044\n",
            "Epoch 62/200\n",
            "1313/1313 [==============================] - 7s 5ms/step - loss: 0.3697 - accuracy: 0.8806 - val_loss: 0.3170 - val_accuracy: 0.9103\n",
            "Epoch 63/200\n",
            "1313/1313 [==============================] - 6s 5ms/step - loss: 0.3739 - accuracy: 0.8797 - val_loss: 0.3361 - val_accuracy: 0.9031\n",
            "Epoch 64/200\n",
            "1313/1313 [==============================] - 6s 5ms/step - loss: 0.3679 - accuracy: 0.8808 - val_loss: 0.3894 - val_accuracy: 0.8874\n",
            "Epoch 65/200\n",
            "1313/1313 [==============================] - 6s 5ms/step - loss: 0.3669 - accuracy: 0.8810 - val_loss: 0.3364 - val_accuracy: 0.9026\n",
            "Epoch 66/200\n",
            "1313/1313 [==============================] - 7s 5ms/step - loss: 0.3617 - accuracy: 0.8831 - val_loss: 0.3160 - val_accuracy: 0.9101\n",
            "Epoch 67/200\n",
            "1313/1313 [==============================] - 6s 5ms/step - loss: 0.3662 - accuracy: 0.8816 - val_loss: 0.3291 - val_accuracy: 0.9057\n",
            "Epoch 68/200\n",
            "1313/1313 [==============================] - 7s 5ms/step - loss: 0.3619 - accuracy: 0.8831 - val_loss: 0.3063 - val_accuracy: 0.9136\n",
            "Epoch 69/200\n",
            "1313/1313 [==============================] - 6s 5ms/step - loss: 0.3649 - accuracy: 0.8829 - val_loss: 0.3178 - val_accuracy: 0.9104\n",
            "Epoch 70/200\n",
            "1313/1313 [==============================] - 6s 5ms/step - loss: 0.3558 - accuracy: 0.8835 - val_loss: 0.3414 - val_accuracy: 0.9027\n",
            "Epoch 71/200\n",
            "1313/1313 [==============================] - 7s 5ms/step - loss: 0.3493 - accuracy: 0.8870 - val_loss: 0.3166 - val_accuracy: 0.9092\n",
            "Epoch 72/200\n",
            "1313/1313 [==============================] - 7s 5ms/step - loss: 0.3529 - accuracy: 0.8855 - val_loss: 0.3211 - val_accuracy: 0.9081\n",
            "Epoch 73/200\n",
            "1313/1313 [==============================] - 7s 5ms/step - loss: 0.3525 - accuracy: 0.8857 - val_loss: 0.3308 - val_accuracy: 0.9062\n",
            "Epoch 74/200\n",
            "1313/1313 [==============================] - 6s 5ms/step - loss: 0.3461 - accuracy: 0.8885 - val_loss: 0.3286 - val_accuracy: 0.9060\n",
            "Epoch 75/200\n",
            "1313/1313 [==============================] - 6s 5ms/step - loss: 0.3448 - accuracy: 0.8875 - val_loss: 0.3040 - val_accuracy: 0.9158\n",
            "Epoch 76/200\n",
            "1313/1313 [==============================] - 6s 5ms/step - loss: 0.3446 - accuracy: 0.8883 - val_loss: 0.3253 - val_accuracy: 0.9068\n",
            "Epoch 77/200\n",
            "1313/1313 [==============================] - 6s 5ms/step - loss: 0.3393 - accuracy: 0.8907 - val_loss: 0.3156 - val_accuracy: 0.9103\n",
            "Epoch 78/200\n",
            "1313/1313 [==============================] - 7s 5ms/step - loss: 0.3465 - accuracy: 0.8887 - val_loss: 0.3232 - val_accuracy: 0.9086\n",
            "Epoch 79/200\n",
            "1313/1313 [==============================] - 7s 5ms/step - loss: 0.3451 - accuracy: 0.8885 - val_loss: 0.2908 - val_accuracy: 0.9192\n",
            "Epoch 80/200\n",
            "1313/1313 [==============================] - 6s 5ms/step - loss: 0.3434 - accuracy: 0.8882 - val_loss: 0.3341 - val_accuracy: 0.9061\n",
            "Epoch 81/200\n",
            "1313/1313 [==============================] - 6s 5ms/step - loss: 0.3328 - accuracy: 0.8913 - val_loss: 0.3045 - val_accuracy: 0.9150\n",
            "Epoch 82/200\n",
            "1313/1313 [==============================] - 6s 5ms/step - loss: 0.3366 - accuracy: 0.8908 - val_loss: 0.4233 - val_accuracy: 0.8855\n",
            "Epoch 83/200\n",
            "1313/1313 [==============================] - 6s 5ms/step - loss: 0.3351 - accuracy: 0.8913 - val_loss: 0.3114 - val_accuracy: 0.9129\n",
            "Epoch 84/200\n",
            "1313/1313 [==============================] - 6s 5ms/step - loss: 0.3314 - accuracy: 0.8929 - val_loss: 0.3045 - val_accuracy: 0.9135\n",
            "Epoch 85/200\n",
            "1313/1313 [==============================] - 7s 5ms/step - loss: 0.3325 - accuracy: 0.8914 - val_loss: 0.3140 - val_accuracy: 0.9106\n",
            "Epoch 86/200\n",
            "1313/1313 [==============================] - 7s 5ms/step - loss: 0.3329 - accuracy: 0.8907 - val_loss: 0.3368 - val_accuracy: 0.9040\n",
            "Epoch 87/200\n",
            "1313/1313 [==============================] - 7s 5ms/step - loss: 0.3278 - accuracy: 0.8938 - val_loss: 0.2914 - val_accuracy: 0.9182\n",
            "Epoch 88/200\n",
            "1313/1313 [==============================] - 7s 5ms/step - loss: 0.3290 - accuracy: 0.8930 - val_loss: 0.3237 - val_accuracy: 0.9088\n",
            "Epoch 89/200\n",
            "1313/1313 [==============================] - 6s 5ms/step - loss: 0.3314 - accuracy: 0.8917 - val_loss: 0.2887 - val_accuracy: 0.9209\n",
            "Epoch 90/200\n",
            "1313/1313 [==============================] - 7s 5ms/step - loss: 0.3254 - accuracy: 0.8925 - val_loss: 0.3073 - val_accuracy: 0.9141\n",
            "Epoch 91/200\n",
            "1313/1313 [==============================] - 6s 5ms/step - loss: 0.3249 - accuracy: 0.8928 - val_loss: 0.3796 - val_accuracy: 0.8949\n",
            "Epoch 92/200\n",
            "1313/1313 [==============================] - 7s 5ms/step - loss: 0.3270 - accuracy: 0.8943 - val_loss: 0.2938 - val_accuracy: 0.9195\n",
            "Epoch 93/200\n",
            "1313/1313 [==============================] - 6s 5ms/step - loss: 0.3242 - accuracy: 0.8946 - val_loss: 0.2995 - val_accuracy: 0.9162\n",
            "Epoch 94/200\n",
            "1313/1313 [==============================] - 6s 5ms/step - loss: 0.3171 - accuracy: 0.8978 - val_loss: 0.2868 - val_accuracy: 0.9205\n",
            "Epoch 95/200\n",
            "1313/1313 [==============================] - 6s 5ms/step - loss: 0.3238 - accuracy: 0.8958 - val_loss: 0.3228 - val_accuracy: 0.9081\n",
            "Epoch 96/200\n",
            "1313/1313 [==============================] - 6s 5ms/step - loss: 0.3208 - accuracy: 0.8943 - val_loss: 0.3029 - val_accuracy: 0.9170\n",
            "Epoch 97/200\n",
            "1313/1313 [==============================] - 7s 5ms/step - loss: 0.3218 - accuracy: 0.8935 - val_loss: 0.2918 - val_accuracy: 0.9195\n",
            "Epoch 98/200\n",
            "1313/1313 [==============================] - 6s 5ms/step - loss: 0.3128 - accuracy: 0.8976 - val_loss: 0.2968 - val_accuracy: 0.9168\n",
            "Epoch 99/200\n",
            "1313/1313 [==============================] - 7s 5ms/step - loss: 0.3192 - accuracy: 0.8966 - val_loss: 0.2850 - val_accuracy: 0.9211\n",
            "Epoch 100/200\n",
            "1313/1313 [==============================] - 6s 5ms/step - loss: 0.3198 - accuracy: 0.8959 - val_loss: 0.2916 - val_accuracy: 0.9196\n",
            "Epoch 101/200\n",
            "1313/1313 [==============================] - 6s 5ms/step - loss: 0.3152 - accuracy: 0.8972 - val_loss: 0.2936 - val_accuracy: 0.9198\n",
            "Epoch 102/200\n",
            "1313/1313 [==============================] - 7s 5ms/step - loss: 0.3181 - accuracy: 0.8951 - val_loss: 0.2979 - val_accuracy: 0.9173\n",
            "Epoch 103/200\n",
            "1313/1313 [==============================] - 7s 5ms/step - loss: 0.3141 - accuracy: 0.8985 - val_loss: 0.2812 - val_accuracy: 0.9236\n",
            "Epoch 104/200\n",
            "1313/1313 [==============================] - 7s 5ms/step - loss: 0.3134 - accuracy: 0.8977 - val_loss: 0.3391 - val_accuracy: 0.9075\n",
            "Epoch 105/200\n",
            "1313/1313 [==============================] - 6s 5ms/step - loss: 0.3086 - accuracy: 0.9006 - val_loss: 0.3078 - val_accuracy: 0.9147\n",
            "Epoch 106/200\n",
            "1313/1313 [==============================] - 6s 5ms/step - loss: 0.3126 - accuracy: 0.8980 - val_loss: 0.2967 - val_accuracy: 0.9173\n",
            "Epoch 107/200\n",
            "1313/1313 [==============================] - 7s 5ms/step - loss: 0.3083 - accuracy: 0.9002 - val_loss: 0.2885 - val_accuracy: 0.9210\n",
            "Epoch 108/200\n",
            "1313/1313 [==============================] - 6s 5ms/step - loss: 0.3049 - accuracy: 0.9012 - val_loss: 0.2910 - val_accuracy: 0.9209\n",
            "Epoch 109/200\n",
            "1313/1313 [==============================] - 6s 5ms/step - loss: 0.3130 - accuracy: 0.8984 - val_loss: 0.2798 - val_accuracy: 0.9240\n",
            "Epoch 110/200\n",
            "1313/1313 [==============================] - 7s 5ms/step - loss: 0.3027 - accuracy: 0.9009 - val_loss: 0.3018 - val_accuracy: 0.9165\n",
            "Epoch 111/200\n",
            "1313/1313 [==============================] - 7s 5ms/step - loss: 0.3080 - accuracy: 0.8990 - val_loss: 0.2821 - val_accuracy: 0.9237\n",
            "Epoch 112/200\n",
            "1313/1313 [==============================] - 7s 5ms/step - loss: 0.2991 - accuracy: 0.9030 - val_loss: 0.2930 - val_accuracy: 0.9192\n",
            "Epoch 113/200\n",
            "1313/1313 [==============================] - 6s 5ms/step - loss: 0.3030 - accuracy: 0.8995 - val_loss: 0.2849 - val_accuracy: 0.9218\n",
            "Epoch 114/200\n",
            "1313/1313 [==============================] - 7s 5ms/step - loss: 0.3053 - accuracy: 0.8995 - val_loss: 0.2907 - val_accuracy: 0.9207\n",
            "Epoch 115/200\n",
            "1313/1313 [==============================] - 7s 5ms/step - loss: 0.2980 - accuracy: 0.9022 - val_loss: 0.2764 - val_accuracy: 0.9265\n",
            "Epoch 116/200\n",
            "1313/1313 [==============================] - 6s 5ms/step - loss: 0.3039 - accuracy: 0.8999 - val_loss: 0.2809 - val_accuracy: 0.9249\n",
            "Epoch 117/200\n",
            "1313/1313 [==============================] - 6s 5ms/step - loss: 0.2997 - accuracy: 0.9026 - val_loss: 0.2954 - val_accuracy: 0.9186\n",
            "Epoch 118/200\n",
            "1313/1313 [==============================] - 7s 5ms/step - loss: 0.3004 - accuracy: 0.9008 - val_loss: 0.2924 - val_accuracy: 0.9196\n",
            "Epoch 119/200\n",
            "1313/1313 [==============================] - 6s 5ms/step - loss: 0.2960 - accuracy: 0.9025 - val_loss: 0.2759 - val_accuracy: 0.9256\n",
            "Epoch 120/200\n",
            "1313/1313 [==============================] - 7s 5ms/step - loss: 0.2976 - accuracy: 0.9029 - val_loss: 0.2893 - val_accuracy: 0.9213\n",
            "Epoch 121/200\n",
            "1313/1313 [==============================] - 7s 5ms/step - loss: 0.2964 - accuracy: 0.9021 - val_loss: 0.2948 - val_accuracy: 0.9182\n",
            "Epoch 122/200\n",
            "1313/1313 [==============================] - 6s 5ms/step - loss: 0.2919 - accuracy: 0.9056 - val_loss: 0.3036 - val_accuracy: 0.9161\n",
            "Epoch 123/200\n",
            "1313/1313 [==============================] - 6s 5ms/step - loss: 0.2941 - accuracy: 0.9038 - val_loss: 0.2926 - val_accuracy: 0.9207\n",
            "Epoch 124/200\n",
            "1313/1313 [==============================] - 7s 5ms/step - loss: 0.2932 - accuracy: 0.9042 - val_loss: 0.3027 - val_accuracy: 0.9176\n",
            "Epoch 125/200\n",
            "1313/1313 [==============================] - 6s 5ms/step - loss: 0.2984 - accuracy: 0.9021 - val_loss: 0.2965 - val_accuracy: 0.9185\n",
            "Epoch 126/200\n",
            "1313/1313 [==============================] - 7s 5ms/step - loss: 0.2923 - accuracy: 0.9044 - val_loss: 0.2885 - val_accuracy: 0.9220\n",
            "Epoch 127/200\n",
            "1313/1313 [==============================] - 7s 5ms/step - loss: 0.2898 - accuracy: 0.9052 - val_loss: 0.2743 - val_accuracy: 0.9262\n",
            "Epoch 128/200\n",
            "1313/1313 [==============================] - 6s 5ms/step - loss: 0.2965 - accuracy: 0.9031 - val_loss: 0.3061 - val_accuracy: 0.9171\n",
            "Epoch 129/200\n",
            "1313/1313 [==============================] - 6s 5ms/step - loss: 0.2965 - accuracy: 0.9031 - val_loss: 0.3039 - val_accuracy: 0.9169\n",
            "Epoch 130/200\n",
            "1313/1313 [==============================] - 6s 5ms/step - loss: 0.2888 - accuracy: 0.9061 - val_loss: 0.2758 - val_accuracy: 0.9286\n",
            "Epoch 131/200\n",
            "1313/1313 [==============================] - 6s 5ms/step - loss: 0.2931 - accuracy: 0.9040 - val_loss: 0.2926 - val_accuracy: 0.9228\n",
            "Epoch 132/200\n",
            "1313/1313 [==============================] - 6s 5ms/step - loss: 0.2900 - accuracy: 0.9045 - val_loss: 0.2763 - val_accuracy: 0.9259\n",
            "Epoch 133/200\n",
            "1313/1313 [==============================] - 7s 5ms/step - loss: 0.2847 - accuracy: 0.9069 - val_loss: 0.2919 - val_accuracy: 0.9212\n",
            "Epoch 134/200\n",
            "1313/1313 [==============================] - 7s 5ms/step - loss: 0.2849 - accuracy: 0.9059 - val_loss: 0.3012 - val_accuracy: 0.9172\n",
            "Epoch 135/200\n",
            "1313/1313 [==============================] - 6s 5ms/step - loss: 0.2877 - accuracy: 0.9068 - val_loss: 0.2667 - val_accuracy: 0.9305\n",
            "Epoch 136/200\n",
            "1313/1313 [==============================] - 6s 5ms/step - loss: 0.2773 - accuracy: 0.9089 - val_loss: 0.2794 - val_accuracy: 0.9264\n",
            "Epoch 137/200\n",
            "1313/1313 [==============================] - 6s 5ms/step - loss: 0.2903 - accuracy: 0.9046 - val_loss: 0.3004 - val_accuracy: 0.9184\n",
            "Epoch 138/200\n",
            "1313/1313 [==============================] - 7s 5ms/step - loss: 0.2895 - accuracy: 0.9030 - val_loss: 0.2790 - val_accuracy: 0.9252\n",
            "Epoch 139/200\n",
            "1313/1313 [==============================] - 7s 5ms/step - loss: 0.2781 - accuracy: 0.9084 - val_loss: 0.2613 - val_accuracy: 0.9317\n",
            "Epoch 140/200\n",
            "1313/1313 [==============================] - 6s 5ms/step - loss: 0.2820 - accuracy: 0.9081 - val_loss: 0.2747 - val_accuracy: 0.9272\n",
            "Epoch 141/200\n",
            "1313/1313 [==============================] - 6s 5ms/step - loss: 0.2793 - accuracy: 0.9083 - val_loss: 0.2724 - val_accuracy: 0.9275\n",
            "Epoch 142/200\n",
            "1313/1313 [==============================] - 7s 5ms/step - loss: 0.2802 - accuracy: 0.9086 - val_loss: 0.3372 - val_accuracy: 0.9053\n",
            "Epoch 143/200\n",
            "1313/1313 [==============================] - 7s 5ms/step - loss: 0.2822 - accuracy: 0.9077 - val_loss: 0.2977 - val_accuracy: 0.9188\n",
            "Epoch 144/200\n",
            "1313/1313 [==============================] - 6s 5ms/step - loss: 0.2825 - accuracy: 0.9062 - val_loss: 0.2703 - val_accuracy: 0.9283\n",
            "Epoch 145/200\n",
            "1313/1313 [==============================] - 6s 5ms/step - loss: 0.2803 - accuracy: 0.9082 - val_loss: 0.2698 - val_accuracy: 0.9294\n",
            "Epoch 146/200\n",
            "1313/1313 [==============================] - 6s 5ms/step - loss: 0.2807 - accuracy: 0.9090 - val_loss: 0.2671 - val_accuracy: 0.9295\n",
            "Epoch 147/200\n",
            "1313/1313 [==============================] - 7s 5ms/step - loss: 0.2790 - accuracy: 0.9084 - val_loss: 0.2715 - val_accuracy: 0.9290\n",
            "Epoch 148/200\n",
            "1313/1313 [==============================] - 6s 5ms/step - loss: 0.2746 - accuracy: 0.9099 - val_loss: 0.2624 - val_accuracy: 0.9320\n",
            "Epoch 149/200\n",
            "1313/1313 [==============================] - 7s 5ms/step - loss: 0.2848 - accuracy: 0.9050 - val_loss: 0.2628 - val_accuracy: 0.9302\n"
          ],
          "name": "stdout"
        }
      ]
    },
    {
      "cell_type": "code",
      "metadata": {
        "colab": {
          "base_uri": "https://localhost:8080/"
        },
        "id": "yofbT6o3EiZh",
        "outputId": "268cfe0f-d471-4686-bbd5-02ba63946c7c"
      },
      "source": [
        "model.summary()"
      ],
      "execution_count": 22,
      "outputs": [
        {
          "output_type": "stream",
          "text": [
            "Model: \"sequential_1\"\n",
            "_________________________________________________________________\n",
            "Layer (type)                 Output Shape              Param #   \n",
            "=================================================================\n",
            "flatten_1 (Flatten)          (None, 1024)              0         \n",
            "_________________________________________________________________\n",
            "batch_normalization_1 (Batch (None, 1024)              4096      \n",
            "_________________________________________________________________\n",
            "dense_5 (Dense)              (None, 128)               131200    \n",
            "_________________________________________________________________\n",
            "dense_6 (Dense)              (None, 64)                8256      \n",
            "_________________________________________________________________\n",
            "dense_7 (Dense)              (None, 32)                2080      \n",
            "_________________________________________________________________\n",
            "dense_8 (Dense)              (None, 16)                528       \n",
            "_________________________________________________________________\n",
            "dense_9 (Dense)              (None, 10)                170       \n",
            "=================================================================\n",
            "Total params: 146,330\n",
            "Trainable params: 144,282\n",
            "Non-trainable params: 2,048\n",
            "_________________________________________________________________\n"
          ],
          "name": "stdout"
        }
      ]
    },
    {
      "cell_type": "code",
      "metadata": {
        "id": "4312xEGoMbI9"
      },
      "source": [
        "predictions = model.predict(test_images)"
      ],
      "execution_count": 26,
      "outputs": []
    },
    {
      "cell_type": "code",
      "metadata": {
        "colab": {
          "base_uri": "https://localhost:8080/"
        },
        "id": "BTP7BZMNO0nz",
        "outputId": "a664c278-dba4-4a4a-e2bb-5260a1e5c846"
      },
      "source": [
        "model.evaluate(test_images,test_labels_arr,batch_size=64)"
      ],
      "execution_count": 45,
      "outputs": [
        {
          "output_type": "stream",
          "text": [
            "282/282 [==============================] - 1s 2ms/step - loss: 0.5645 - accuracy: 0.8622\n"
          ],
          "name": "stdout"
        },
        {
          "output_type": "execute_result",
          "data": {
            "text/plain": [
              "[0.564511239528656, 0.8622221946716309]"
            ]
          },
          "metadata": {
            "tags": []
          },
          "execution_count": 45
        }
      ]
    },
    {
      "cell_type": "code",
      "metadata": {
        "colab": {
          "base_uri": "https://localhost:8080/"
        },
        "id": "G9iOUVDfb2_i",
        "outputId": "f02f91e6-2de5-40ba-e3e9-de3573d7ca9f"
      },
      "source": [
        "np.shape(test_images)"
      ],
      "execution_count": 27,
      "outputs": [
        {
          "output_type": "execute_result",
          "data": {
            "text/plain": [
              "(18000, 32, 32, 1)"
            ]
          },
          "metadata": {
            "tags": []
          },
          "execution_count": 27
        }
      ]
    },
    {
      "cell_type": "code",
      "metadata": {
        "colab": {
          "base_uri": "https://localhost:8080/"
        },
        "id": "ymUeosNlMgUU",
        "outputId": "8d1b4cd6-18b9-4a6c-9872-0d5aee5876fe"
      },
      "source": [
        "np.shape(predictions)"
      ],
      "execution_count": 28,
      "outputs": [
        {
          "output_type": "execute_result",
          "data": {
            "text/plain": [
              "(18000, 10)"
            ]
          },
          "metadata": {
            "tags": []
          },
          "execution_count": 28
        }
      ]
    },
    {
      "cell_type": "code",
      "metadata": {
        "colab": {
          "base_uri": "https://localhost:8080/"
        },
        "id": "HcgT-NtYMhEd",
        "outputId": "34813ae5-851d-41a6-eb39-4673dc06c936"
      },
      "source": [
        "print(predictions[6])\n",
        "print(np.argmax(predictions[6]))"
      ],
      "execution_count": 52,
      "outputs": [
        {
          "output_type": "stream",
          "text": [
            "[3.2038097e-05 9.8431361e-01 2.9796879e-03 3.3220329e-04 1.2074608e-02\n",
            " 2.2711167e-04 4.7523654e-06 1.7709526e-05 1.6375978e-05 1.7656884e-06]\n",
            "1\n"
          ],
          "name": "stdout"
        }
      ]
    },
    {
      "cell_type": "code",
      "metadata": {
        "colab": {
          "base_uri": "https://localhost:8080/",
          "height": 302
        },
        "id": "6V8FC3OkbQad",
        "outputId": "1a2c8088-e9cb-4d8b-8e41-51b0d5e96bbe"
      },
      "source": [
        "#Below image is also 1 and the prediction is also showing 1\n",
        "\n",
        "plt.figure()\n",
        "\n",
        "print(\"Label: {}\".format(test_labels_arr[6]))\n",
        "plt.imshow(test_arr[6], cmap='gray')"
      ],
      "execution_count": 53,
      "outputs": [
        {
          "output_type": "stream",
          "text": [
            "Label: [0. 1. 0. 0. 0. 0. 0. 0. 0. 0.]\n"
          ],
          "name": "stdout"
        },
        {
          "output_type": "execute_result",
          "data": {
            "text/plain": [
              "<matplotlib.image.AxesImage at 0x7f1707e322d0>"
            ]
          },
          "metadata": {
            "tags": []
          },
          "execution_count": 53
        },
        {
          "output_type": "display_data",
          "data": {
            "image/png": "[encoded data removed]",
            "text/plain": [
              "<Figure size 432x288 with 1 Axes>"
            ]
          },
          "metadata": {
            "tags": [],
            "needs_background": "light"
          }
        }
      ]
    },
    {
      "cell_type": "code",
      "metadata": {
        "colab": {
          "base_uri": "https://localhost:8080/"
        },
        "id": "xUzt5FCTO4xe",
        "outputId": "183cdd3a-31c6-455d-e623-b5d8161de75d"
      },
      "source": [
        "print(predictions[55])\n",
        "print(np.argmax(predictions[55]))"
      ],
      "execution_count": 51,
      "outputs": [
        {
          "output_type": "stream",
          "text": [
            "[6.7890474e-13 2.1270911e-10 2.8354792e-12 1.1153290e-08 2.5673082e-14\n",
            " 5.8974992e-11 2.0930167e-07 1.0258554e-13 9.9999976e-01 4.6330317e-13]\n",
            "8\n"
          ],
          "name": "stdout"
        }
      ]
    },
    {
      "cell_type": "code",
      "metadata": {
        "colab": {
          "base_uri": "https://localhost:8080/",
          "height": 302
        },
        "id": "9--MDP5tPGfj",
        "outputId": "0c54ca54-09bf-4f85-e546-10fd0ba45910"
      },
      "source": [
        "#Below image is also 8 and the prediction is also showing 8\n",
        "\n",
        "plt.figure()\n",
        "\n",
        "print(\"Label: {}\".format(test_labels_arr[55]))\n",
        "plt.imshow(test_arr[55], cmap='gray')"
      ],
      "execution_count": 50,
      "outputs": [
        {
          "output_type": "stream",
          "text": [
            "Label: [0. 0. 0. 0. 0. 0. 0. 0. 1. 0.]\n"
          ],
          "name": "stdout"
        },
        {
          "output_type": "execute_result",
          "data": {
            "text/plain": [
              "<matplotlib.image.AxesImage at 0x7f1707ebfc10>"
            ]
          },
          "metadata": {
            "tags": []
          },
          "execution_count": 50
        },
        {
          "output_type": "display_data",
          "data": {
            "image/png": "[encoded data removed]",
            "text/plain": [
              "<Figure size 432x288 with 1 Axes>"
            ]
          },
          "metadata": {
            "tags": [],
            "needs_background": "light"
          }
        }
      ]
    },
    {
      "cell_type": "code",
      "metadata": {
        "colab": {
          "base_uri": "https://localhost:8080/"
        },
        "id": "bqq3mXZ6erLX",
        "outputId": "0d17dfdc-aa0a-4d8d-e750-f57b57ed2ca3"
      },
      "source": [
        "print(predictions[50])\n",
        "print(np.argmax(predictions[50]))"
      ],
      "execution_count": 33,
      "outputs": [
        {
          "output_type": "stream",
          "text": [
            "[1.0600039e-05 4.1506305e-06 8.2749848e-06 4.5097466e-05 4.5017091e-06\n",
            " 9.7901249e-01 2.0521000e-02 9.5017363e-05 2.0488998e-04 9.3852090e-05]\n",
            "5\n"
          ],
          "name": "stdout"
        }
      ]
    },
    {
      "cell_type": "code",
      "metadata": {
        "colab": {
          "base_uri": "https://localhost:8080/",
          "height": 302
        },
        "id": "nBeq8wnrew58",
        "outputId": "d16359da-f67e-4b51-e77e-0b77d34d085f"
      },
      "source": [
        "#Below image is also 5 and the prediction is also showing 5\n",
        "plt.figure()\n",
        "\n",
        "print(\"Label: {}\".format(test_labels_arr[50]))\n",
        "plt.imshow(test_arr[50], cmap='gray')"
      ],
      "execution_count": 34,
      "outputs": [
        {
          "output_type": "stream",
          "text": [
            "Label: [0. 0. 0. 0. 0. 1. 0. 0. 0. 0.]\n"
          ],
          "name": "stdout"
        },
        {
          "output_type": "execute_result",
          "data": {
            "text/plain": [
              "<matplotlib.image.AxesImage at 0x7f170b60e990>"
            ]
          },
          "metadata": {
            "tags": []
          },
          "execution_count": 34
        },
        {
          "output_type": "display_data",
          "data": {
            "image/png": "[encoded data removed]",
            "text/plain": [
              "<Figure size 432x288 with 1 Axes>"
            ]
          },
          "metadata": {
            "tags": [],
            "needs_background": "light"
          }
        }
      ]
    },
    {
      "cell_type": "markdown",
      "metadata": {
        "id": "8JI_u0LPUsXo"
      },
      "source": [
        "# Observations:\n",
        " \n",
        " 1 - Training loss: 0.2848 - accuracy: 0.9050\n",
        "\n",
        " 2 - val_loss: 0.2628 - val_accuracy: 0.9302\n",
        "\n",
        " 3 - Test loss: 0.5645 - accuracy: 0.8622\n",
        "\n",
        " 4 - Total params: 146,330 ,Trainable params: 144,282 ,Non-trainable params: 2,048"
      ]
    },
    {
      "cell_type": "markdown",
      "metadata": {
        "id": "rQlmUWn7XLw-"
      },
      "source": [
        "## Model Tuning and Hyper Parameter Tuning"
      ]
    },
    {
      "cell_type": "code",
      "metadata": {
        "id": "PVJvPB58XQDw"
      },
      "source": [
        "model_leaky =Sequential()\n",
        "model_leaky.add(Flatten())\n",
        "\n",
        "model_leaky.add(tf.keras.layers.BatchNormalization())\n",
        "\n",
        "model_leaky.add(Dense(128))\n",
        "model_leaky.add(tf.keras.layers.LeakyReLU(alpha=0.3))\n",
        "\n",
        "model_leaky.add(Dropout(0.15))\n",
        "\n",
        "model_leaky.add(Dense(64))\n",
        "model_leaky.add(tf.keras.layers.LeakyReLU(alpha=0.3))\n",
        "model_leaky.add(Dropout(0.10))\n",
        "\n",
        "model_leaky.add(Dense(32))\n",
        "model_leaky.add(tf.keras.layers.LeakyReLU(alpha=0.3))\n",
        "model_leaky.add(Dropout(0.05))\n",
        "\n",
        "model_leaky.add(Dense(16))\n",
        "model_leaky.add(tf.keras.layers.LeakyReLU(alpha=0.3))\n",
        "model_leaky.add(Dropout(0.05))\n",
        "\n",
        "model_leaky.add(Dense(10,activation='softmax'))"
      ],
      "execution_count": 35,
      "outputs": []
    },
    {
      "cell_type": "code",
      "metadata": {
        "id": "nlrGTUEaXy0O"
      },
      "source": [
        "# Compile the model\n",
        "model_leaky.compile(loss='categorical_crossentropy',optimizer='adam',metrics = [\"accuracy\"])"
      ],
      "execution_count": 36,
      "outputs": []
    },
    {
      "cell_type": "code",
      "metadata": {
        "colab": {
          "base_uri": "https://localhost:8080/"
        },
        "id": "6H65n2GmX4F9",
        "outputId": "c44f8519-3965-4f7d-89cb-f10f638c4016"
      },
      "source": [
        "callback_1 = tf.keras.callbacks.EarlyStopping(monitor='val_loss',patience = 10,restore_best_weights=True,mode = 'min')\n",
        "# Fit the model\n",
        "history_1 = model_leaky.fit(x=train_images, y=train_labels_arr,batch_size=32,epochs=200,verbose=1,validation_data=(valid_images, validation_labels_arr),callbacks=callback_1)"
      ],
      "execution_count": 37,
      "outputs": [
        {
          "output_type": "stream",
          "text": [
            "Epoch 1/200\n",
            "1313/1313 [==============================] - 8s 6ms/step - loss: 1.7534 - accuracy: 0.3955 - val_loss: 1.1647 - val_accuracy: 0.6422\n",
            "Epoch 2/200\n",
            "1313/1313 [==============================] - 7s 6ms/step - loss: 1.3333 - accuracy: 0.5727 - val_loss: 0.9807 - val_accuracy: 0.7049\n",
            "Epoch 3/200\n",
            "1313/1313 [==============================] - 7s 5ms/step - loss: 1.2040 - accuracy: 0.6154 - val_loss: 0.8695 - val_accuracy: 0.7449\n",
            "Epoch 4/200\n",
            "1313/1313 [==============================] - 7s 5ms/step - loss: 1.1260 - accuracy: 0.6441 - val_loss: 0.8414 - val_accuracy: 0.7463\n",
            "Epoch 5/200\n",
            "1313/1313 [==============================] - 7s 5ms/step - loss: 1.0655 - accuracy: 0.6625 - val_loss: 0.7604 - val_accuracy: 0.7699\n",
            "Epoch 6/200\n",
            "1313/1313 [==============================] - 7s 5ms/step - loss: 1.0204 - accuracy: 0.6786 - val_loss: 0.7178 - val_accuracy: 0.7869\n",
            "Epoch 7/200\n",
            "1313/1313 [==============================] - 7s 6ms/step - loss: 0.9911 - accuracy: 0.6869 - val_loss: 0.7064 - val_accuracy: 0.7854\n",
            "Epoch 8/200\n",
            "1313/1313 [==============================] - 7s 5ms/step - loss: 0.9722 - accuracy: 0.6927 - val_loss: 0.6801 - val_accuracy: 0.8022\n",
            "Epoch 9/200\n",
            "1313/1313 [==============================] - 7s 5ms/step - loss: 0.9508 - accuracy: 0.7007 - val_loss: 0.6470 - val_accuracy: 0.8108\n",
            "Epoch 10/200\n",
            "1313/1313 [==============================] - 8s 6ms/step - loss: 0.9317 - accuracy: 0.7058 - val_loss: 0.6400 - val_accuracy: 0.8058\n",
            "Epoch 11/200\n",
            "1313/1313 [==============================] - 7s 6ms/step - loss: 0.9157 - accuracy: 0.7102 - val_loss: 0.6404 - val_accuracy: 0.8075\n",
            "Epoch 12/200\n",
            "1313/1313 [==============================] - 7s 6ms/step - loss: 0.8968 - accuracy: 0.7171 - val_loss: 0.6220 - val_accuracy: 0.8156\n",
            "Epoch 13/200\n",
            "1313/1313 [==============================] - 7s 5ms/step - loss: 0.8811 - accuracy: 0.7212 - val_loss: 0.6094 - val_accuracy: 0.8193\n",
            "Epoch 14/200\n",
            "1313/1313 [==============================] - 7s 6ms/step - loss: 0.8753 - accuracy: 0.7260 - val_loss: 0.6007 - val_accuracy: 0.8206\n",
            "Epoch 15/200\n",
            "1313/1313 [==============================] - 7s 5ms/step - loss: 0.8589 - accuracy: 0.7319 - val_loss: 0.5781 - val_accuracy: 0.8295\n",
            "Epoch 16/200\n",
            "1313/1313 [==============================] - 7s 5ms/step - loss: 0.8637 - accuracy: 0.7283 - val_loss: 0.5772 - val_accuracy: 0.8284\n",
            "Epoch 17/200\n",
            "1313/1313 [==============================] - 7s 5ms/step - loss: 0.8468 - accuracy: 0.7341 - val_loss: 0.5772 - val_accuracy: 0.8293\n",
            "Epoch 18/200\n",
            "1313/1313 [==============================] - 8s 6ms/step - loss: 0.8442 - accuracy: 0.7344 - val_loss: 0.5660 - val_accuracy: 0.8339\n",
            "Epoch 19/200\n",
            "1313/1313 [==============================] - 7s 5ms/step - loss: 0.8395 - accuracy: 0.7366 - val_loss: 0.5543 - val_accuracy: 0.8327\n",
            "Epoch 20/200\n",
            "1313/1313 [==============================] - 7s 5ms/step - loss: 0.8229 - accuracy: 0.7389 - val_loss: 0.5771 - val_accuracy: 0.8243\n",
            "Epoch 21/200\n",
            "1313/1313 [==============================] - 8s 6ms/step - loss: 0.8209 - accuracy: 0.7410 - val_loss: 0.5365 - val_accuracy: 0.8391\n",
            "Epoch 22/200\n",
            "1313/1313 [==============================] - 7s 5ms/step - loss: 0.8186 - accuracy: 0.7445 - val_loss: 0.5331 - val_accuracy: 0.8395\n",
            "Epoch 23/200\n",
            "1313/1313 [==============================] - 7s 5ms/step - loss: 0.8126 - accuracy: 0.7448 - val_loss: 0.5257 - val_accuracy: 0.8445\n",
            "Epoch 24/200\n",
            "1313/1313 [==============================] - 7s 5ms/step - loss: 0.8075 - accuracy: 0.7470 - val_loss: 0.5390 - val_accuracy: 0.8393\n",
            "Epoch 25/200\n",
            "1313/1313 [==============================] - 8s 6ms/step - loss: 0.8023 - accuracy: 0.7480 - val_loss: 0.5324 - val_accuracy: 0.8385\n",
            "Epoch 26/200\n",
            "1313/1313 [==============================] - 7s 5ms/step - loss: 0.7953 - accuracy: 0.7491 - val_loss: 0.5240 - val_accuracy: 0.8457\n",
            "Epoch 27/200\n",
            "1313/1313 [==============================] - 8s 6ms/step - loss: 0.7968 - accuracy: 0.7475 - val_loss: 0.5092 - val_accuracy: 0.8502\n",
            "Epoch 28/200\n",
            "1313/1313 [==============================] - 7s 5ms/step - loss: 0.7930 - accuracy: 0.7496 - val_loss: 0.5210 - val_accuracy: 0.8421\n",
            "Epoch 29/200\n",
            "1313/1313 [==============================] - 7s 5ms/step - loss: 0.7894 - accuracy: 0.7522 - val_loss: 0.5064 - val_accuracy: 0.8496\n",
            "Epoch 30/200\n",
            "1313/1313 [==============================] - 7s 5ms/step - loss: 0.7849 - accuracy: 0.7531 - val_loss: 0.5289 - val_accuracy: 0.8435\n",
            "Epoch 31/200\n",
            "1313/1313 [==============================] - 7s 6ms/step - loss: 0.7743 - accuracy: 0.7567 - val_loss: 0.5013 - val_accuracy: 0.8505\n",
            "Epoch 32/200\n",
            "1313/1313 [==============================] - 7s 6ms/step - loss: 0.7755 - accuracy: 0.7565 - val_loss: 0.5054 - val_accuracy: 0.8491\n",
            "Epoch 33/200\n",
            "1313/1313 [==============================] - 7s 5ms/step - loss: 0.7740 - accuracy: 0.7573 - val_loss: 0.5045 - val_accuracy: 0.8522\n",
            "Epoch 34/200\n",
            "1313/1313 [==============================] - 8s 6ms/step - loss: 0.7651 - accuracy: 0.7569 - val_loss: 0.4980 - val_accuracy: 0.8563\n",
            "Epoch 35/200\n",
            "1313/1313 [==============================] - 7s 5ms/step - loss: 0.7616 - accuracy: 0.7603 - val_loss: 0.4939 - val_accuracy: 0.8519\n",
            "Epoch 36/200\n",
            "1313/1313 [==============================] - 7s 5ms/step - loss: 0.7673 - accuracy: 0.7595 - val_loss: 0.4890 - val_accuracy: 0.8547\n",
            "Epoch 37/200\n",
            "1313/1313 [==============================] - 7s 5ms/step - loss: 0.7632 - accuracy: 0.7612 - val_loss: 0.4993 - val_accuracy: 0.8501\n",
            "Epoch 38/200\n",
            "1313/1313 [==============================] - 8s 6ms/step - loss: 0.7598 - accuracy: 0.7613 - val_loss: 0.4921 - val_accuracy: 0.8551\n",
            "Epoch 39/200\n",
            "1313/1313 [==============================] - 8s 6ms/step - loss: 0.7643 - accuracy: 0.7596 - val_loss: 0.4848 - val_accuracy: 0.8557\n",
            "Epoch 40/200\n",
            "1313/1313 [==============================] - 7s 5ms/step - loss: 0.7569 - accuracy: 0.7622 - val_loss: 0.4728 - val_accuracy: 0.8598\n",
            "Epoch 41/200\n",
            "1313/1313 [==============================] - 7s 6ms/step - loss: 0.7588 - accuracy: 0.7596 - val_loss: 0.4861 - val_accuracy: 0.8591\n",
            "Epoch 42/200\n",
            "1313/1313 [==============================] - 8s 6ms/step - loss: 0.7508 - accuracy: 0.7644 - val_loss: 0.4719 - val_accuracy: 0.8600\n",
            "Epoch 43/200\n",
            "1313/1313 [==============================] - 7s 6ms/step - loss: 0.7516 - accuracy: 0.7620 - val_loss: 0.4807 - val_accuracy: 0.8579\n",
            "Epoch 44/200\n",
            "1313/1313 [==============================] - 7s 5ms/step - loss: 0.7519 - accuracy: 0.7637 - val_loss: 0.4711 - val_accuracy: 0.8598\n",
            "Epoch 45/200\n",
            "1313/1313 [==============================] - 8s 6ms/step - loss: 0.7484 - accuracy: 0.7651 - val_loss: 0.4741 - val_accuracy: 0.8632\n",
            "Epoch 46/200\n",
            "1313/1313 [==============================] - 8s 6ms/step - loss: 0.7459 - accuracy: 0.7655 - val_loss: 0.4771 - val_accuracy: 0.8604\n",
            "Epoch 47/200\n",
            "1313/1313 [==============================] - 8s 6ms/step - loss: 0.7411 - accuracy: 0.7682 - val_loss: 0.4762 - val_accuracy: 0.8599\n",
            "Epoch 48/200\n",
            "1313/1313 [==============================] - 8s 6ms/step - loss: 0.7421 - accuracy: 0.7660 - val_loss: 0.4788 - val_accuracy: 0.8598\n",
            "Epoch 49/200\n",
            "1313/1313 [==============================] - 8s 6ms/step - loss: 0.7438 - accuracy: 0.7667 - val_loss: 0.4812 - val_accuracy: 0.8558\n",
            "Epoch 50/200\n",
            "1313/1313 [==============================] - 7s 6ms/step - loss: 0.7486 - accuracy: 0.7637 - val_loss: 0.4671 - val_accuracy: 0.8669\n",
            "Epoch 51/200\n",
            "1313/1313 [==============================] - 8s 6ms/step - loss: 0.7399 - accuracy: 0.7672 - val_loss: 0.4656 - val_accuracy: 0.8619\n",
            "Epoch 52/200\n",
            "1313/1313 [==============================] - 8s 6ms/step - loss: 0.7342 - accuracy: 0.7681 - val_loss: 0.4588 - val_accuracy: 0.8658\n",
            "Epoch 53/200\n",
            "1313/1313 [==============================] - 8s 6ms/step - loss: 0.7366 - accuracy: 0.7666 - val_loss: 0.4764 - val_accuracy: 0.8578\n",
            "Epoch 54/200\n",
            "1313/1313 [==============================] - 8s 6ms/step - loss: 0.7319 - accuracy: 0.7686 - val_loss: 0.4730 - val_accuracy: 0.8599\n",
            "Epoch 55/200\n",
            "1313/1313 [==============================] - 8s 6ms/step - loss: 0.7311 - accuracy: 0.7678 - val_loss: 0.4479 - val_accuracy: 0.8681\n",
            "Epoch 56/200\n",
            "1313/1313 [==============================] - 7s 6ms/step - loss: 0.7356 - accuracy: 0.7701 - val_loss: 0.4565 - val_accuracy: 0.8630\n",
            "Epoch 57/200\n",
            "1313/1313 [==============================] - 7s 5ms/step - loss: 0.7290 - accuracy: 0.7703 - val_loss: 0.4543 - val_accuracy: 0.8676\n",
            "Epoch 58/200\n",
            "1313/1313 [==============================] - 7s 6ms/step - loss: 0.7313 - accuracy: 0.7709 - val_loss: 0.4750 - val_accuracy: 0.8599\n",
            "Epoch 59/200\n",
            "1313/1313 [==============================] - 8s 6ms/step - loss: 0.7217 - accuracy: 0.7727 - val_loss: 0.4532 - val_accuracy: 0.8677\n",
            "Epoch 60/200\n",
            "1313/1313 [==============================] - 8s 6ms/step - loss: 0.7250 - accuracy: 0.7714 - val_loss: 0.4592 - val_accuracy: 0.8657\n",
            "Epoch 61/200\n",
            "1313/1313 [==============================] - 8s 6ms/step - loss: 0.7263 - accuracy: 0.7694 - val_loss: 0.4587 - val_accuracy: 0.8632\n",
            "Epoch 62/200\n",
            "1313/1313 [==============================] - 8s 6ms/step - loss: 0.7324 - accuracy: 0.7700 - val_loss: 0.4418 - val_accuracy: 0.8704\n",
            "Epoch 63/200\n",
            "1313/1313 [==============================] - 8s 6ms/step - loss: 0.7204 - accuracy: 0.7732 - val_loss: 0.4540 - val_accuracy: 0.8666\n",
            "Epoch 64/200\n",
            "1313/1313 [==============================] - 8s 6ms/step - loss: 0.7191 - accuracy: 0.7726 - val_loss: 0.4492 - val_accuracy: 0.8657\n",
            "Epoch 65/200\n",
            "1313/1313 [==============================] - 8s 6ms/step - loss: 0.7190 - accuracy: 0.7725 - val_loss: 0.4610 - val_accuracy: 0.8612\n",
            "Epoch 66/200\n",
            "1313/1313 [==============================] - 7s 6ms/step - loss: 0.7261 - accuracy: 0.7707 - val_loss: 0.4518 - val_accuracy: 0.8677\n",
            "Epoch 67/200\n",
            "1313/1313 [==============================] - 7s 6ms/step - loss: 0.7200 - accuracy: 0.7721 - val_loss: 0.4590 - val_accuracy: 0.8633\n",
            "Epoch 68/200\n",
            "1313/1313 [==============================] - 7s 6ms/step - loss: 0.7235 - accuracy: 0.7719 - val_loss: 0.4547 - val_accuracy: 0.8696\n",
            "Epoch 69/200\n",
            "1313/1313 [==============================] - 7s 6ms/step - loss: 0.7198 - accuracy: 0.7743 - val_loss: 0.4637 - val_accuracy: 0.8625\n",
            "Epoch 70/200\n",
            "1313/1313 [==============================] - 8s 6ms/step - loss: 0.7203 - accuracy: 0.7747 - val_loss: 0.4464 - val_accuracy: 0.8693\n",
            "Epoch 71/200\n",
            "1313/1313 [==============================] - 8s 6ms/step - loss: 0.7154 - accuracy: 0.7765 - val_loss: 0.4434 - val_accuracy: 0.8689\n",
            "Epoch 72/200\n",
            "1313/1313 [==============================] - 7s 6ms/step - loss: 0.7163 - accuracy: 0.7737 - val_loss: 0.4473 - val_accuracy: 0.8687\n"
          ],
          "name": "stdout"
        }
      ]
    },
    {
      "cell_type": "code",
      "metadata": {
        "colab": {
          "base_uri": "https://localhost:8080/"
        },
        "id": "8r3s_-AfIKoU",
        "outputId": "fc169476-7557-4c52-9693-1f5e1b71ef21"
      },
      "source": [
        "model_leaky.summary()"
      ],
      "execution_count": 38,
      "outputs": [
        {
          "output_type": "stream",
          "text": [
            "Model: \"sequential_2\"\n",
            "_________________________________________________________________\n",
            "Layer (type)                 Output Shape              Param #   \n",
            "=================================================================\n",
            "flatten_2 (Flatten)          (None, 1024)              0         \n",
            "_________________________________________________________________\n",
            "batch_normalization_2 (Batch (None, 1024)              4096      \n",
            "_________________________________________________________________\n",
            "dense_10 (Dense)             (None, 128)               131200    \n",
            "_________________________________________________________________\n",
            "leaky_re_lu (LeakyReLU)      (None, 128)               0         \n",
            "_________________________________________________________________\n",
            "dropout (Dropout)            (None, 128)               0         \n",
            "_________________________________________________________________\n",
            "dense_11 (Dense)             (None, 64)                8256      \n",
            "_________________________________________________________________\n",
            "leaky_re_lu_1 (LeakyReLU)    (None, 64)                0         \n",
            "_________________________________________________________________\n",
            "dropout_1 (Dropout)          (None, 64)                0         \n",
            "_________________________________________________________________\n",
            "dense_12 (Dense)             (None, 32)                2080      \n",
            "_________________________________________________________________\n",
            "leaky_re_lu_2 (LeakyReLU)    (None, 32)                0         \n",
            "_________________________________________________________________\n",
            "dropout_2 (Dropout)          (None, 32)                0         \n",
            "_________________________________________________________________\n",
            "dense_13 (Dense)             (None, 16)                528       \n",
            "_________________________________________________________________\n",
            "leaky_re_lu_3 (LeakyReLU)    (None, 16)                0         \n",
            "_________________________________________________________________\n",
            "dropout_3 (Dropout)          (None, 16)                0         \n",
            "_________________________________________________________________\n",
            "dense_14 (Dense)             (None, 10)                170       \n",
            "=================================================================\n",
            "Total params: 146,330\n",
            "Trainable params: 144,282\n",
            "Non-trainable params: 2,048\n",
            "_________________________________________________________________\n"
          ],
          "name": "stdout"
        }
      ]
    },
    {
      "cell_type": "code",
      "metadata": {
        "id": "rbFmfm49YLuy"
      },
      "source": [
        "predictions_1 = model_leaky.predict(test_images)"
      ],
      "execution_count": 39,
      "outputs": []
    },
    {
      "cell_type": "code",
      "metadata": {
        "colab": {
          "base_uri": "https://localhost:8080/"
        },
        "id": "xRJbW8HVPFbX",
        "outputId": "a7a70c04-311f-43fc-de34-eba1a9471a4d"
      },
      "source": [
        "model_leaky.evaluate(test_images,test_labels_arr,batch_size=64)"
      ],
      "execution_count": 46,
      "outputs": [
        {
          "output_type": "stream",
          "text": [
            "282/282 [==============================] - 1s 2ms/step - loss: 0.4991 - accuracy: 0.8532\n"
          ],
          "name": "stdout"
        },
        {
          "output_type": "execute_result",
          "data": {
            "text/plain": [
              "[0.4991031885147095, 0.8531666398048401]"
            ]
          },
          "metadata": {
            "tags": []
          },
          "execution_count": 46
        }
      ]
    },
    {
      "cell_type": "code",
      "metadata": {
        "colab": {
          "base_uri": "https://localhost:8080/"
        },
        "id": "GNCNcU8ND_nc",
        "outputId": "c6f929d0-f48d-4eee-d737-4e1c2b5f6aed"
      },
      "source": [
        "print(predictions[41])\n",
        "print(np.argmax(predictions[41]))"
      ],
      "execution_count": 40,
      "outputs": [
        {
          "output_type": "stream",
          "text": [
            "[5.4266135e-08 2.7445995e-07 6.0258781e-06 5.4843742e-08 9.9999130e-01\n",
            " 4.3947228e-08 8.7132651e-07 2.9825631e-09 1.2588373e-07 1.3175610e-06]\n",
            "4\n"
          ],
          "name": "stdout"
        }
      ]
    },
    {
      "cell_type": "code",
      "metadata": {
        "colab": {
          "base_uri": "https://localhost:8080/",
          "height": 302
        },
        "id": "x04a1kpfD_x1",
        "outputId": "696cd737-823e-455e-9d60-59a9479e722f"
      },
      "source": [
        "plt.figure()\n",
        "\n",
        "print(\"Label: {}\".format(test_labels_arr[41]))\n",
        "plt.imshow(test_arr[41], cmap='gray')"
      ],
      "execution_count": 41,
      "outputs": [
        {
          "output_type": "stream",
          "text": [
            "Label: [0. 0. 0. 0. 1. 0. 0. 0. 0. 0.]\n"
          ],
          "name": "stdout"
        },
        {
          "output_type": "execute_result",
          "data": {
            "text/plain": [
              "<matplotlib.image.AxesImage at 0x7f170aa65410>"
            ]
          },
          "metadata": {
            "tags": []
          },
          "execution_count": 41
        },
        {
          "output_type": "display_data",
          "data": {
            "image/png": "[encoded data removed]",
            "text/plain": [
              "<Figure size 432x288 with 1 Axes>"
            ]
          },
          "metadata": {
            "tags": [],
            "needs_background": "light"
          }
        }
      ]
    },
    {
      "cell_type": "code",
      "metadata": {
        "colab": {
          "base_uri": "https://localhost:8080/"
        },
        "id": "S-2xZTGEEVSb",
        "outputId": "cdbc132b-0194-4e0d-a7f2-81d78eea4fcd"
      },
      "source": [
        "print(predictions[31])\n",
        "print(np.argmax(predictions[31]))"
      ],
      "execution_count": 42,
      "outputs": [
        {
          "output_type": "stream",
          "text": [
            "[8.5289861e-07 1.6242655e-07 2.5966024e-08 6.8188538e-06 9.9890896e-09\n",
            " 1.4063028e-07 5.3008282e-08 2.6652063e-11 9.9999189e-01 3.3590146e-09]\n",
            "8\n"
          ],
          "name": "stdout"
        }
      ]
    },
    {
      "cell_type": "code",
      "metadata": {
        "colab": {
          "base_uri": "https://localhost:8080/",
          "height": 302
        },
        "id": "y2udTg8BEVh6",
        "outputId": "f22f5d10-6783-4829-cb54-b9ea8b98b2c0"
      },
      "source": [
        "plt.figure()\n",
        "\n",
        "print(\"Label: {}\".format(test_labels_arr[31]))\n",
        "plt.imshow(test_arr[31], cmap='gray')"
      ],
      "execution_count": 43,
      "outputs": [
        {
          "output_type": "stream",
          "text": [
            "Label: [0. 0. 0. 0. 0. 0. 0. 0. 1. 0.]\n"
          ],
          "name": "stdout"
        },
        {
          "output_type": "execute_result",
          "data": {
            "text/plain": [
              "<matplotlib.image.AxesImage at 0x7f170ddd3f50>"
            ]
          },
          "metadata": {
            "tags": []
          },
          "execution_count": 43
        },
        {
          "output_type": "display_data",
          "data": {
            "image/png": "[encoded data removed]",
            "text/plain": [
              "<Figure size 432x288 with 1 Axes>"
            ]
          },
          "metadata": {
            "tags": [],
            "needs_background": "light"
          }
        }
      ]
    },
    {
      "cell_type": "markdown",
      "metadata": {
        "id": "-lTnz_6VFcUj"
      },
      "source": [
        "# Observations:\n",
        "  1 - The models accuracy is high when the optimizer is sgd.\n",
        "\n",
        "  2 - Accuracy for SGD is 90% and for ADAM it is 77%\n",
        "\n",
        "  3 - Predicting the digits using DNN classifier for more than 3 digits is not good. We are getting the prediction for any one of the digit in the SVHN.\n",
        "\n",
        "  4 - Validation accuracy for sgd optimizer is higher than the ADAM optimizer.\n",
        "\n",
        "  5 -Training loss is minimal for sgd optimizer than the ADAM optimizer."
      ]
    },
    {
      "cell_type": "markdown",
      "metadata": {
        "id": "-uuuNWVunIXl"
      },
      "source": [
        "# 4. Plot the training loss, validation loss vs number of epochs and training accuracy, validation accuracy vs number of epochs plot and write your observations on the same."
      ]
    },
    {
      "cell_type": "code",
      "metadata": {
        "colab": {
          "base_uri": "https://localhost:8080/",
          "height": 573
        },
        "id": "kcsiZwt3e2Rl",
        "outputId": "5a06dae6-1ba0-4372-fbd6-8b88c22cf94f"
      },
      "source": [
        "plt.plot(history.history['accuracy'])  \n",
        "plt.plot(history.history['val_accuracy'])  \n",
        "plt.title('Accuracy')  \n",
        "plt.ylabel('accuracy')\n",
        "plt.xlabel('epoch')\n",
        "plt.legend(['train','validation'],loc='upper left')\n",
        "plt.show()\n",
        "\n",
        "\n",
        "plt.plot(history.history['loss'])  \n",
        "plt.plot(history.history['val_loss'])  \n",
        "plt.title('model loss')  \n",
        "plt.ylabel('loss')\n",
        "plt.xlabel('epoch')\n",
        "plt.legend(['train','validation'],loc='upper left')\n",
        "plt.show()"
      ],
      "execution_count": 47,
      "outputs": [
        {
          "output_type": "display_data",
          "data": {
            "image/png": "[encoded data removed]",
            "text/plain": [
              "<Figure size 432x288 with 1 Axes>"
            ]
          },
          "metadata": {
            "tags": [],
            "needs_background": "light"
          }
        },
        {
          "output_type": "display_data",
          "data": {
            "image/png": "[encoded data removed]",
            "text/plain": [
              "<Figure size 432x288 with 1 Axes>"
            ]
          },
          "metadata": {
            "tags": [],
            "needs_background": "light"
          }
        }
      ]
    },
    {
      "cell_type": "code",
      "metadata": {
        "colab": {
          "base_uri": "https://localhost:8080/",
          "height": 573
        },
        "id": "qf9DXCB-nrI5",
        "outputId": "cd037fdf-1845-40ef-9208-9e46a1ba4192"
      },
      "source": [
        "plt.plot(history_1.history['accuracy'])  \n",
        "plt.plot(history_1.history['val_accuracy'])  \n",
        "plt.title('Accuracy')  \n",
        "plt.ylabel('accuracy')\n",
        "plt.xlabel('epoch')\n",
        "plt.legend(['train','validation'],loc='upper left')\n",
        "plt.show()\n",
        "\n",
        "\n",
        "plt.plot(history_1.history['loss'])  \n",
        "plt.plot(history_1.history['val_loss'])  \n",
        "plt.title('model loss')  \n",
        "plt.ylabel('loss')\n",
        "plt.xlabel('epoch')\n",
        "plt.legend(['train','validation'],loc='upper left')\n",
        "plt.show()"
      ],
      "execution_count": 48,
      "outputs": [
        {
          "output_type": "display_data",
          "data": {
            "image/png": "[encoded data removed]",
            "text/plain": [
              "<Figure size 432x288 with 1 Axes>"
            ]
          },
          "metadata": {
            "tags": [],
            "needs_background": "light"
          }
        },
        {
          "output_type": "display_data",
          "data": {
            "image/png": "[encoded data removed]",
            "text/plain": [
              "<Figure size 432x288 with 1 Axes>"
            ]
          },
          "metadata": {
            "tags": [],
            "needs_background": "light"
          }
        }
      ]
    },
    {
      "cell_type": "markdown",
      "metadata": {
        "id": "q_T52tz3IMhy"
      },
      "source": [
        "# Observations:\n",
        "  1 - From the above plot for sgd optimizer model, validation accuracy is slightly more than the training accuracy.\n",
        "\n",
        "  2 - When the epochs increases the training and validation loss gets reduced.\n",
        "\n",
        "  3 - Model with sgd optimizer tends to be a good model.\n",
        "\n",
        "  4 - On comparing the plot for Adam Optimizer there is a huge gap between training and validation accuracy, which makes the model with Adam Optimizier to be slightly  underfit.\n",
        "  \n",
        "  5 -Training and validation loss is minimal for sgd optimizer than the ADAM optimizer when the epochs increases."
      ]
    },
    {
      "cell_type": "code",
      "metadata": {
        "id": "l56ZHJJbILrr"
      },
      "source": [
        ""
      ],
      "execution_count": null,
      "outputs": []
    }
  ]
}