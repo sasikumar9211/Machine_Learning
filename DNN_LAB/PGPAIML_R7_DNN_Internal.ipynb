{
 "cells": [
  {
   "cell_type": "markdown",
   "metadata": {
    "id": "3ukwOXvX_EV1"
   },
   "source": [
    "<img src=\"http://drive.google.com/uc?export=view&id=1tpOCamr9aWz817atPnyXus8w5gJ3mIts\" width=500px>"
   ]
  },
  {
   "cell_type": "markdown",
   "metadata": {
    "id": "j9QC42UQq5Lk"
   },
   "source": [
    "## Lab on NNDL Part 1: Tensorflow Basic"
   ]
  },
  {
   "cell_type": "markdown",
   "metadata": {
    "id": "g_vbQDYan7_7"
   },
   "source": [
    "### Tensors\n",
    "\n",
    "Tensors are multi-dimensional arrays with a uniform type"
   ]
  },
  {
   "cell_type": "markdown",
   "metadata": {
    "id": "tCkxkFqIoUIR"
   },
   "source": [
    "##Question 1\n"
   ]
  },
  {
   "cell_type": "markdown",
   "metadata": {
    "id": "7V8C8aa0rGgN"
   },
   "source": [
    "### Create a rank-0 tensor\n",
    "- A \"scalar\" is called \"rank-0\" tensor\n",
    "- the tensor should contain value 99.99"
   ]
  },
  {
   "cell_type": "code",
   "execution_count": null,
   "metadata": {
    "id": "CmKTQCizra4b"
   },
   "outputs": [],
   "source": [
    "import tensorflow as tf"
   ]
  },
  {
   "cell_type": "code",
   "execution_count": null,
   "metadata": {
    "colab": {
     "base_uri": "https://localhost:8080/"
    },
    "id": "B6H2X7SinZbZ",
    "outputId": "6a6b8659-807f-4526-e937-bd73f76e80c2"
   },
   "outputs": [
    {
     "name": "stdout",
     "output_type": "stream",
     "text": [
      "tf.Tensor(99.99, shape=(), dtype=float32)\n",
      "<class 'tensorflow.python.framework.ops.EagerTensor'>\n"
     ]
    }
   ],
   "source": [
    "rank_0 =tf.constant(99.99)\n",
    "print(rank_0)\n",
    "print(type(rank_0))"
   ]
  },
  {
   "cell_type": "markdown",
   "metadata": {
    "id": "xRm8MfpVrkyz"
   },
   "source": [
    "### Create a rank-1 tensor\n",
    "\n",
    "- A \"vector\" (list) is called \"rank-1\" tensor [9,8,7,6,5]\n",
    "- A vector has one axis"
   ]
  },
  {
   "cell_type": "code",
   "execution_count": null,
   "metadata": {
    "colab": {
     "base_uri": "https://localhost:8080/"
    },
    "id": "_TvWoaBOnZXX",
    "outputId": "7b0fdb55-64e3-4529-da9b-832f351d1144"
   },
   "outputs": [
    {
     "name": "stdout",
     "output_type": "stream",
     "text": [
      "tf.Tensor([9 8 7 6 5], shape=(5,), dtype=int32)\n"
     ]
    }
   ],
   "source": [
    "rank_1 = tf.constant([9,8,7,6,5])\n",
    "print(rank_1)"
   ]
  },
  {
   "cell_type": "markdown",
   "metadata": {
    "id": "KtiVmuAAsJjP"
   },
   "source": [
    "### Add 7 to all the elements of the above created tensor\n",
    "- Use Broadcasting"
   ]
  },
  {
   "cell_type": "code",
   "execution_count": null,
   "metadata": {
    "colab": {
     "base_uri": "https://localhost:8080/"
    },
    "id": "lENBbpfIsskl",
    "outputId": "07a65f6c-d7c7-4111-b06f-fc7e29c9046b"
   },
   "outputs": [
    {
     "name": "stdout",
     "output_type": "stream",
     "text": [
      "tf.Tensor([16 15 14 13 12], shape=(5,), dtype=int32)\n"
     ]
    }
   ],
   "source": [
    "print(tf.add(7,rank_1))"
   ]
  },
  {
   "cell_type": "code",
   "execution_count": null,
   "metadata": {
    "colab": {
     "base_uri": "https://localhost:8080/"
    },
    "id": "GcXSQxIGEGye",
    "outputId": "e162bb71-66d9-4608-91a6-e7a62127c0eb"
   },
   "outputs": [
    {
     "name": "stdout",
     "output_type": "stream",
     "text": [
      "tf.Tensor([16 15 14 13 12], shape=(5,), dtype=int32)\n"
     ]
    }
   ],
   "source": [
    "print(rank_1+7)"
   ]
  },
  {
   "cell_type": "markdown",
   "metadata": {
    "id": "U9QVsYQwtR9u"
   },
   "source": [
    "### Create a rank-2 tensor\n",
    "[[1, 2, 3], [ 4,5,6]]\n",
    "- A \"matrix\"  \"is called rank-2\" tensor\n",
    "- It has 2 axes"
   ]
  },
  {
   "cell_type": "code",
   "execution_count": null,
   "metadata": {
    "colab": {
     "base_uri": "https://localhost:8080/"
    },
    "id": "IZx8BooXnZUr",
    "outputId": "61861703-492e-415e-c2ea-30eb0b60a922"
   },
   "outputs": [
    {
     "name": "stdout",
     "output_type": "stream",
     "text": [
      "tf.Tensor(\n",
      "[[1 2 3]\n",
      " [4 5 6]], shape=(2, 3), dtype=int32)\n"
     ]
    }
   ],
   "source": [
    "rank_2 = tf.constant([[1, 2, 3], [ 4,5,6]])\n",
    "print(rank_2)"
   ]
  },
  {
   "cell_type": "markdown",
   "metadata": {
    "id": "mrnIxOUmvX_M"
   },
   "source": [
    "### Change the shape of the above created tensor to shape (3,2)"
   ]
  },
  {
   "cell_type": "code",
   "execution_count": null,
   "metadata": {
    "colab": {
     "base_uri": "https://localhost:8080/"
    },
    "id": "YdSy6RQLvXbi",
    "outputId": "2c12a2ca-ef2b-4505-e2b2-af0aa5ed1c05"
   },
   "outputs": [
    {
     "data": {
      "text/plain": [
       "<tf.Tensor: shape=(3, 2), dtype=int32, numpy=\n",
       "array([[1, 4],\n",
       "       [2, 5],\n",
       "       [3, 6]], dtype=int32)>"
      ]
     },
     "execution_count": 8,
     "metadata": {
      "tags": []
     },
     "output_type": "execute_result"
    }
   ],
   "source": [
    "tf.transpose(rank_2)"
   ]
  },
  {
   "cell_type": "code",
   "execution_count": null,
   "metadata": {
    "colab": {
     "base_uri": "https://localhost:8080/"
    },
    "id": "IZfvYZ_8wH4S",
    "outputId": "859bb97f-38af-4412-f42c-da447a3b4fab"
   },
   "outputs": [
    {
     "data": {
      "text/plain": [
       "<tf.Tensor: shape=(3, 2), dtype=int32, numpy=\n",
       "array([[1, 2],\n",
       "       [3, 4],\n",
       "       [5, 6]], dtype=int32)>"
      ]
     },
     "execution_count": 9,
     "metadata": {
      "tags": []
     },
     "output_type": "execute_result"
    }
   ],
   "source": [
    "tf.reshape(rank_2,[3,2])"
   ]
  },
  {
   "cell_type": "code",
   "execution_count": null,
   "metadata": {
    "colab": {
     "base_uri": "https://localhost:8080/"
    },
    "id": "o2rm1cO4MB2h",
    "outputId": "f6827008-b89e-40ea-d4b5-bbbda30276bf"
   },
   "outputs": [
    {
     "data": {
      "text/plain": [
       "<tf.Tensor: shape=(3, 2), dtype=int32, numpy=\n",
       "array([[1, 2],\n",
       "       [3, 4],\n",
       "       [5, 6]], dtype=int32)>"
      ]
     },
     "execution_count": 10,
     "metadata": {
      "tags": []
     },
     "output_type": "execute_result"
    }
   ],
   "source": [
    "tf.reshape(rank_2,[-1,2])"
   ]
  },
  {
   "cell_type": "code",
   "execution_count": null,
   "metadata": {
    "colab": {
     "base_uri": "https://localhost:8080/"
    },
    "id": "hYBQ676SOD2V",
    "outputId": "15cbf51f-24c3-415f-ff15-42eaf7dfb32d"
   },
   "outputs": [
    {
     "data": {
      "text/plain": [
       "<tf.Tensor: shape=(3, 2), dtype=int32, numpy=\n",
       "array([[1, 2],\n",
       "       [3, 4],\n",
       "       [5, 6]], dtype=int32)>"
      ]
     },
     "execution_count": 13,
     "metadata": {
      "tags": []
     },
     "output_type": "execute_result"
    }
   ],
   "source": [
    "tf.reshape(rank_2,[3,-1])"
   ]
  },
  {
   "cell_type": "markdown",
   "metadata": {
    "id": "1ZXjABdNuWAT"
   },
   "source": [
    "### Check the dtype, number of axes and the shape of tensor"
   ]
  },
  {
   "cell_type": "code",
   "execution_count": null,
   "metadata": {
    "colab": {
     "base_uri": "https://localhost:8080/"
    },
    "id": "vXj5xnbEuUwz",
    "outputId": "84ba8c3a-cfa8-4cf1-9619-f41373001eb2"
   },
   "outputs": [
    {
     "name": "stdout",
     "output_type": "stream",
     "text": [
      "Dtype <dtype: 'int32'>\n",
      "Number of Axes: 2\n",
      "Shape: (2, 3)\n"
     ]
    }
   ],
   "source": [
    "print('Dtype',rank_2.dtype)\n",
    "print('Number of Axes:',rank_2.ndim)\n",
    "print('Shape:',rank_2.shape)"
   ]
  },
  {
   "cell_type": "markdown",
   "metadata": {
    "id": "yGsgzedZvB54"
   },
   "source": [
    "- Tensors can have more axes, like rank-3 or rank-4 tensor"
   ]
  },
  {
   "cell_type": "markdown",
   "metadata": {
    "id": "qYvGihNn_D2K"
   },
   "source": [
    "##Lab on NNDL Part 2: Cars selling price prediction"
   ]
  },
  {
   "cell_type": "markdown",
   "metadata": {
    "id": "S7nm5pOt_DkP"
   },
   "source": [
    "### Data Set -\n",
    "Domain: Finance, Business \n",
    "Data: https://www.kaggle.com/nehalbirla/vehicle-dataset-from-cardekho?select=Car+details+v3.csv\n",
    "\n",
    "The data contains various features of used cars.\n",
    "\n",
    "#### Features\n",
    "\n",
    "1. year\n",
    "\n",
    "2. selling_price: Price at which it was sold (**Target Feature**)\n",
    "\n",
    "3. km_driven\n",
    "\n",
    "4. fuel\n",
    "\n",
    "5. seller_type\n",
    "\n",
    "6. transmission\n",
    "\n",
    "7. Owner\n",
    "\n",
    "8. mileage\n",
    "\n",
    "9. engine\n",
    "\n",
    "10. max_power\n",
    "\n",
    "11. seats\n",
    "\n",
    " - - - - - - - - - - - - - - - - - - - - - - - - - - - - - - - - - - - - - - - - - - - - - - - "
   ]
  },
  {
   "cell_type": "markdown",
   "metadata": {
    "id": "YeoiMbH7djEv"
   },
   "source": [
    "##Objective\n",
    "\n",
    "Predict the selling price of used cars based on the given features"
   ]
  },
  {
   "cell_type": "markdown",
   "metadata": {
    "id": "sZXp-T3-xRNN"
   },
   "source": [
    "## Steps to perform:\n",
    "\n",
    "#### 1. Import important Libraries\n",
    "#### 2. Import Dataset and exploration\n",
    "#### 3. Data Pre-processing\n",
    "#### 4. Training a Neural Network Model\n",
    "#### 5. Evaluating the model\n",
    "#### 6. Conclusion\n",
    "\n",
    "\n",
    "- - - - - - - - - - - - - - - - - - - - - - - - - - - - - - - - - - - - - - - - - - - - - - - - - - -\n",
    "\n",
    "\n",
    "- - - - - - - - - - - - - - - - - - - - - - - - - - - - - - - - - - - - - - - - - - - - - - - - - - -\n"
   ]
  },
  {
   "cell_type": "markdown",
   "metadata": {
    "id": "pvJ1pMTuzUkv"
   },
   "source": [
    "### Import important libraries"
   ]
  },
  {
   "cell_type": "code",
   "execution_count": null,
   "metadata": {
    "id": "PGqq9f8VdLba"
   },
   "outputs": [],
   "source": [
    "import warnings\n",
    "warnings.filterwarnings('ignore')\n",
    "\n",
    "import pandas as pd\n",
    "import numpy as np\n",
    "import matplotlib.pyplot as plt"
   ]
  },
  {
   "cell_type": "markdown",
   "metadata": {
    "id": "_88voqAH-O6J"
   },
   "source": [
    "## Question 1"
   ]
  },
  {
   "cell_type": "markdown",
   "metadata": {
    "id": "dRHCeJqP-evf"
   },
   "source": [
    "### Load the data\n",
    "- Load the data, check the shape of data"
   ]
  },
  {
   "cell_type": "code",
   "execution_count": null,
   "metadata": {
    "colab": {
     "base_uri": "https://localhost:8080/"
    },
    "id": "Gr4YcffYd1FQ",
    "outputId": "a29933a3-78f9-495a-bedd-8007f7ee33fb"
   },
   "outputs": [
    {
     "name": "stdout",
     "output_type": "stream",
     "text": [
      "Mounted at /content/drive\n"
     ]
    }
   ],
   "source": [
    "from google.colab import drive\n",
    "drive.mount('/content/drive')"
   ]
  },
  {
   "cell_type": "code",
   "execution_count": null,
   "metadata": {
    "id": "-gDC6cSW_FSK"
   },
   "outputs": [],
   "source": [
    "df = pd.read_csv('/content/drive/MyDrive/Colab Notebooks/car_data-1.csv')"
   ]
  },
  {
   "cell_type": "code",
   "execution_count": null,
   "metadata": {
    "colab": {
     "base_uri": "https://localhost:8080/",
     "height": 206
    },
    "id": "cgAAxzef1m37",
    "outputId": "5570190d-decf-4bfd-eee9-40f235c4b0cd"
   },
   "outputs": [
    {
     "data": {
      "text/html": [
       "<div>\n",
       "<style scoped>\n",
       "    .dataframe tbody tr th:only-of-type {\n",
       "        vertical-align: middle;\n",
       "    }\n",
       "\n",
       "    .dataframe tbody tr th {\n",
       "        vertical-align: top;\n",
       "    }\n",
       "\n",
       "    .dataframe thead th {\n",
       "        text-align: right;\n",
       "    }\n",
       "</style>\n",
       "<table border=\"1\" class=\"dataframe\">\n",
       "  <thead>\n",
       "    <tr style=\"text-align: right;\">\n",
       "      <th></th>\n",
       "      <th>year</th>\n",
       "      <th>selling_price</th>\n",
       "      <th>km_driven</th>\n",
       "      <th>fuel</th>\n",
       "      <th>seller_type</th>\n",
       "      <th>transmission</th>\n",
       "      <th>owner</th>\n",
       "      <th>mileage</th>\n",
       "      <th>engine</th>\n",
       "      <th>max_power</th>\n",
       "      <th>seats</th>\n",
       "    </tr>\n",
       "  </thead>\n",
       "  <tbody>\n",
       "    <tr>\n",
       "      <th>0</th>\n",
       "      <td>2014</td>\n",
       "      <td>450000</td>\n",
       "      <td>145500</td>\n",
       "      <td>Diesel</td>\n",
       "      <td>Individual</td>\n",
       "      <td>Manual</td>\n",
       "      <td>First Owner</td>\n",
       "      <td>23.4 kmpl</td>\n",
       "      <td>1248 CC</td>\n",
       "      <td>74 bhp</td>\n",
       "      <td>5.0</td>\n",
       "    </tr>\n",
       "    <tr>\n",
       "      <th>1</th>\n",
       "      <td>2014</td>\n",
       "      <td>370000</td>\n",
       "      <td>120000</td>\n",
       "      <td>Diesel</td>\n",
       "      <td>Individual</td>\n",
       "      <td>Manual</td>\n",
       "      <td>Second Owner</td>\n",
       "      <td>21.14 kmpl</td>\n",
       "      <td>1498 CC</td>\n",
       "      <td>103.52 bhp</td>\n",
       "      <td>5.0</td>\n",
       "    </tr>\n",
       "    <tr>\n",
       "      <th>2</th>\n",
       "      <td>2006</td>\n",
       "      <td>158000</td>\n",
       "      <td>140000</td>\n",
       "      <td>Petrol</td>\n",
       "      <td>Individual</td>\n",
       "      <td>Manual</td>\n",
       "      <td>Third Owner</td>\n",
       "      <td>17.7 kmpl</td>\n",
       "      <td>1497 CC</td>\n",
       "      <td>78 bhp</td>\n",
       "      <td>5.0</td>\n",
       "    </tr>\n",
       "    <tr>\n",
       "      <th>3</th>\n",
       "      <td>2010</td>\n",
       "      <td>225000</td>\n",
       "      <td>127000</td>\n",
       "      <td>Diesel</td>\n",
       "      <td>Individual</td>\n",
       "      <td>Manual</td>\n",
       "      <td>First Owner</td>\n",
       "      <td>23.0 kmpl</td>\n",
       "      <td>1396 CC</td>\n",
       "      <td>90 bhp</td>\n",
       "      <td>5.0</td>\n",
       "    </tr>\n",
       "    <tr>\n",
       "      <th>4</th>\n",
       "      <td>2007</td>\n",
       "      <td>130000</td>\n",
       "      <td>120000</td>\n",
       "      <td>Petrol</td>\n",
       "      <td>Individual</td>\n",
       "      <td>Manual</td>\n",
       "      <td>First Owner</td>\n",
       "      <td>16.1 kmpl</td>\n",
       "      <td>1298 CC</td>\n",
       "      <td>88.2 bhp</td>\n",
       "      <td>5.0</td>\n",
       "    </tr>\n",
       "  </tbody>\n",
       "</table>\n",
       "</div>"
      ],
      "text/plain": [
       "   year  selling_price  km_driven  ...   engine   max_power seats\n",
       "0  2014         450000     145500  ...  1248 CC      74 bhp   5.0\n",
       "1  2014         370000     120000  ...  1498 CC  103.52 bhp   5.0\n",
       "2  2006         158000     140000  ...  1497 CC      78 bhp   5.0\n",
       "3  2010         225000     127000  ...  1396 CC      90 bhp   5.0\n",
       "4  2007         130000     120000  ...  1298 CC    88.2 bhp   5.0\n",
       "\n",
       "[5 rows x 11 columns]"
      ]
     },
     "execution_count": 12,
     "metadata": {
      "tags": []
     },
     "output_type": "execute_result"
    }
   ],
   "source": [
    "df.head()"
   ]
  },
  {
   "cell_type": "code",
   "execution_count": null,
   "metadata": {
    "colab": {
     "base_uri": "https://localhost:8080/"
    },
    "id": "fMX872a6aZ7o",
    "outputId": "afbe416f-d570-4f25-aac0-1c02e2009c7f"
   },
   "outputs": [
    {
     "name": "stdout",
     "output_type": "stream",
     "text": [
      "There are  8128 rows and  11 columns\n"
     ]
    }
   ],
   "source": [
    "print('There are ',df.shape[0],'rows and ',df.shape[1],'columns')"
   ]
  },
  {
   "cell_type": "markdown",
   "metadata": {
    "id": "HlLKVPVH_BCT"
   },
   "source": [
    "## Question 2"
   ]
  },
  {
   "cell_type": "markdown",
   "metadata": {
    "id": "ZxoGynuBeO4t"
   },
   "source": [
    "### Preprocess the data\n",
    "- Convert mileage, engine and max_power to numerical by extract numerical values from the strings\n",
    "- Label Encode: 'owner' column\n",
    "- One Hot Encode: 'fuel','seller_type','transmission' columns\n",
    "- Drop all the instances with null values"
   ]
  },
  {
   "cell_type": "code",
   "execution_count": null,
   "metadata": {
    "id": "WMsPLgUw4XED"
   },
   "outputs": [],
   "source": [
    "def map_num(num):\n",
    "  try:\n",
    "    if type(num)== str:\n",
    "       return float(num.split()[0])\n",
    "    else:\n",
    "       return num\n",
    "  except:\n",
    "       return np.nan"
   ]
  },
  {
   "cell_type": "code",
   "execution_count": null,
   "metadata": {
    "id": "X_FaEocL4X4h"
   },
   "outputs": [],
   "source": [
    "df[['mileage','engine','max_power']] =  df[['mileage','engine','max_power']].applymap(map_num)"
   ]
  },
  {
   "cell_type": "code",
   "execution_count": null,
   "metadata": {
    "colab": {
     "base_uri": "https://localhost:8080/",
     "height": 206
    },
    "id": "FPAQ-IBf4Z9k",
    "outputId": "3c8a45da-ce10-4aa4-a69b-fc846291f3e1"
   },
   "outputs": [
    {
     "data": {
      "text/html": [
       "<div>\n",
       "<style scoped>\n",
       "    .dataframe tbody tr th:only-of-type {\n",
       "        vertical-align: middle;\n",
       "    }\n",
       "\n",
       "    .dataframe tbody tr th {\n",
       "        vertical-align: top;\n",
       "    }\n",
       "\n",
       "    .dataframe thead th {\n",
       "        text-align: right;\n",
       "    }\n",
       "</style>\n",
       "<table border=\"1\" class=\"dataframe\">\n",
       "  <thead>\n",
       "    <tr style=\"text-align: right;\">\n",
       "      <th></th>\n",
       "      <th>year</th>\n",
       "      <th>selling_price</th>\n",
       "      <th>km_driven</th>\n",
       "      <th>fuel</th>\n",
       "      <th>seller_type</th>\n",
       "      <th>transmission</th>\n",
       "      <th>owner</th>\n",
       "      <th>mileage</th>\n",
       "      <th>engine</th>\n",
       "      <th>max_power</th>\n",
       "      <th>seats</th>\n",
       "    </tr>\n",
       "  </thead>\n",
       "  <tbody>\n",
       "    <tr>\n",
       "      <th>0</th>\n",
       "      <td>2014</td>\n",
       "      <td>450000</td>\n",
       "      <td>145500</td>\n",
       "      <td>Diesel</td>\n",
       "      <td>Individual</td>\n",
       "      <td>Manual</td>\n",
       "      <td>First Owner</td>\n",
       "      <td>23.40</td>\n",
       "      <td>1248.0</td>\n",
       "      <td>74.00</td>\n",
       "      <td>5.0</td>\n",
       "    </tr>\n",
       "    <tr>\n",
       "      <th>1</th>\n",
       "      <td>2014</td>\n",
       "      <td>370000</td>\n",
       "      <td>120000</td>\n",
       "      <td>Diesel</td>\n",
       "      <td>Individual</td>\n",
       "      <td>Manual</td>\n",
       "      <td>Second Owner</td>\n",
       "      <td>21.14</td>\n",
       "      <td>1498.0</td>\n",
       "      <td>103.52</td>\n",
       "      <td>5.0</td>\n",
       "    </tr>\n",
       "    <tr>\n",
       "      <th>2</th>\n",
       "      <td>2006</td>\n",
       "      <td>158000</td>\n",
       "      <td>140000</td>\n",
       "      <td>Petrol</td>\n",
       "      <td>Individual</td>\n",
       "      <td>Manual</td>\n",
       "      <td>Third Owner</td>\n",
       "      <td>17.70</td>\n",
       "      <td>1497.0</td>\n",
       "      <td>78.00</td>\n",
       "      <td>5.0</td>\n",
       "    </tr>\n",
       "    <tr>\n",
       "      <th>3</th>\n",
       "      <td>2010</td>\n",
       "      <td>225000</td>\n",
       "      <td>127000</td>\n",
       "      <td>Diesel</td>\n",
       "      <td>Individual</td>\n",
       "      <td>Manual</td>\n",
       "      <td>First Owner</td>\n",
       "      <td>23.00</td>\n",
       "      <td>1396.0</td>\n",
       "      <td>90.00</td>\n",
       "      <td>5.0</td>\n",
       "    </tr>\n",
       "    <tr>\n",
       "      <th>4</th>\n",
       "      <td>2007</td>\n",
       "      <td>130000</td>\n",
       "      <td>120000</td>\n",
       "      <td>Petrol</td>\n",
       "      <td>Individual</td>\n",
       "      <td>Manual</td>\n",
       "      <td>First Owner</td>\n",
       "      <td>16.10</td>\n",
       "      <td>1298.0</td>\n",
       "      <td>88.20</td>\n",
       "      <td>5.0</td>\n",
       "    </tr>\n",
       "  </tbody>\n",
       "</table>\n",
       "</div>"
      ],
      "text/plain": [
       "   year  selling_price  km_driven    fuel  ... mileage  engine max_power  seats\n",
       "0  2014         450000     145500  Diesel  ...   23.40  1248.0     74.00    5.0\n",
       "1  2014         370000     120000  Diesel  ...   21.14  1498.0    103.52    5.0\n",
       "2  2006         158000     140000  Petrol  ...   17.70  1497.0     78.00    5.0\n",
       "3  2010         225000     127000  Diesel  ...   23.00  1396.0     90.00    5.0\n",
       "4  2007         130000     120000  Petrol  ...   16.10  1298.0     88.20    5.0\n",
       "\n",
       "[5 rows x 11 columns]"
      ]
     },
     "execution_count": 16,
     "metadata": {
      "tags": []
     },
     "output_type": "execute_result"
    }
   ],
   "source": [
    "df.head()"
   ]
  },
  {
   "cell_type": "code",
   "execution_count": null,
   "metadata": {
    "colab": {
     "base_uri": "https://localhost:8080/"
    },
    "id": "aXweg7mb4gMo",
    "outputId": "2255c3ad-9bc6-4704-fe66-81369811282d"
   },
   "outputs": [
    {
     "data": {
      "text/plain": [
       "array(['First Owner', 'Second Owner', 'Third Owner',\n",
       "       'Fourth & Above Owner', 'Test Drive Car'], dtype=object)"
      ]
     },
     "execution_count": 17,
     "metadata": {
      "tags": []
     },
     "output_type": "execute_result"
    }
   ],
   "source": [
    "df['owner'].unique()"
   ]
  },
  {
   "cell_type": "code",
   "execution_count": null,
   "metadata": {
    "colab": {
     "base_uri": "https://localhost:8080/",
     "height": 206
    },
    "id": "nVjmsyJc4kpO",
    "outputId": "e3a7579f-4058-41af-bb2d-486097e809c2"
   },
   "outputs": [
    {
     "data": {
      "text/html": [
       "<div>\n",
       "<style scoped>\n",
       "    .dataframe tbody tr th:only-of-type {\n",
       "        vertical-align: middle;\n",
       "    }\n",
       "\n",
       "    .dataframe tbody tr th {\n",
       "        vertical-align: top;\n",
       "    }\n",
       "\n",
       "    .dataframe thead th {\n",
       "        text-align: right;\n",
       "    }\n",
       "</style>\n",
       "<table border=\"1\" class=\"dataframe\">\n",
       "  <thead>\n",
       "    <tr style=\"text-align: right;\">\n",
       "      <th></th>\n",
       "      <th>year</th>\n",
       "      <th>selling_price</th>\n",
       "      <th>km_driven</th>\n",
       "      <th>fuel</th>\n",
       "      <th>seller_type</th>\n",
       "      <th>transmission</th>\n",
       "      <th>owner</th>\n",
       "      <th>mileage</th>\n",
       "      <th>engine</th>\n",
       "      <th>max_power</th>\n",
       "      <th>seats</th>\n",
       "    </tr>\n",
       "  </thead>\n",
       "  <tbody>\n",
       "    <tr>\n",
       "      <th>0</th>\n",
       "      <td>2014</td>\n",
       "      <td>450000</td>\n",
       "      <td>145500</td>\n",
       "      <td>Diesel</td>\n",
       "      <td>Individual</td>\n",
       "      <td>Manual</td>\n",
       "      <td>1</td>\n",
       "      <td>23.40</td>\n",
       "      <td>1248.0</td>\n",
       "      <td>74.00</td>\n",
       "      <td>5.0</td>\n",
       "    </tr>\n",
       "    <tr>\n",
       "      <th>1</th>\n",
       "      <td>2014</td>\n",
       "      <td>370000</td>\n",
       "      <td>120000</td>\n",
       "      <td>Diesel</td>\n",
       "      <td>Individual</td>\n",
       "      <td>Manual</td>\n",
       "      <td>2</td>\n",
       "      <td>21.14</td>\n",
       "      <td>1498.0</td>\n",
       "      <td>103.52</td>\n",
       "      <td>5.0</td>\n",
       "    </tr>\n",
       "    <tr>\n",
       "      <th>2</th>\n",
       "      <td>2006</td>\n",
       "      <td>158000</td>\n",
       "      <td>140000</td>\n",
       "      <td>Petrol</td>\n",
       "      <td>Individual</td>\n",
       "      <td>Manual</td>\n",
       "      <td>3</td>\n",
       "      <td>17.70</td>\n",
       "      <td>1497.0</td>\n",
       "      <td>78.00</td>\n",
       "      <td>5.0</td>\n",
       "    </tr>\n",
       "    <tr>\n",
       "      <th>3</th>\n",
       "      <td>2010</td>\n",
       "      <td>225000</td>\n",
       "      <td>127000</td>\n",
       "      <td>Diesel</td>\n",
       "      <td>Individual</td>\n",
       "      <td>Manual</td>\n",
       "      <td>1</td>\n",
       "      <td>23.00</td>\n",
       "      <td>1396.0</td>\n",
       "      <td>90.00</td>\n",
       "      <td>5.0</td>\n",
       "    </tr>\n",
       "    <tr>\n",
       "      <th>4</th>\n",
       "      <td>2007</td>\n",
       "      <td>130000</td>\n",
       "      <td>120000</td>\n",
       "      <td>Petrol</td>\n",
       "      <td>Individual</td>\n",
       "      <td>Manual</td>\n",
       "      <td>1</td>\n",
       "      <td>16.10</td>\n",
       "      <td>1298.0</td>\n",
       "      <td>88.20</td>\n",
       "      <td>5.0</td>\n",
       "    </tr>\n",
       "  </tbody>\n",
       "</table>\n",
       "</div>"
      ],
      "text/plain": [
       "   year  selling_price  km_driven    fuel  ... mileage  engine  max_power  seats\n",
       "0  2014         450000     145500  Diesel  ...   23.40  1248.0      74.00    5.0\n",
       "1  2014         370000     120000  Diesel  ...   21.14  1498.0     103.52    5.0\n",
       "2  2006         158000     140000  Petrol  ...   17.70  1497.0      78.00    5.0\n",
       "3  2010         225000     127000  Diesel  ...   23.00  1396.0      90.00    5.0\n",
       "4  2007         130000     120000  Petrol  ...   16.10  1298.0      88.20    5.0\n",
       "\n",
       "[5 rows x 11 columns]"
      ]
     },
     "execution_count": 18,
     "metadata": {
      "tags": []
     },
     "output_type": "execute_result"
    }
   ],
   "source": [
    "o = {'First Owner':1, 'Second Owner':2, 'Third Owner':3,\n",
    "       'Fourth & Above Owner':4, 'Test Drive Car':5}\n",
    "df['owner']=df['owner'].map(o)\n",
    "df.head()"
   ]
  },
  {
   "cell_type": "code",
   "execution_count": null,
   "metadata": {
    "colab": {
     "base_uri": "https://localhost:8080/",
     "height": 243
    },
    "id": "q7fwyFQn4qD2",
    "outputId": "dd21e8b0-628c-438a-f10b-86930bd33b34"
   },
   "outputs": [
    {
     "data": {
      "text/html": [
       "<div>\n",
       "<style scoped>\n",
       "    .dataframe tbody tr th:only-of-type {\n",
       "        vertical-align: middle;\n",
       "    }\n",
       "\n",
       "    .dataframe tbody tr th {\n",
       "        vertical-align: top;\n",
       "    }\n",
       "\n",
       "    .dataframe thead th {\n",
       "        text-align: right;\n",
       "    }\n",
       "</style>\n",
       "<table border=\"1\" class=\"dataframe\">\n",
       "  <thead>\n",
       "    <tr style=\"text-align: right;\">\n",
       "      <th></th>\n",
       "      <th>fuel_CNG</th>\n",
       "      <th>fuel_Diesel</th>\n",
       "      <th>fuel_LPG</th>\n",
       "      <th>fuel_Petrol</th>\n",
       "      <th>seller_type_Dealer</th>\n",
       "      <th>seller_type_Individual</th>\n",
       "      <th>seller_type_Trustmark Dealer</th>\n",
       "      <th>transmission_Automatic</th>\n",
       "      <th>transmission_Manual</th>\n",
       "    </tr>\n",
       "  </thead>\n",
       "  <tbody>\n",
       "    <tr>\n",
       "      <th>0</th>\n",
       "      <td>0</td>\n",
       "      <td>1</td>\n",
       "      <td>0</td>\n",
       "      <td>0</td>\n",
       "      <td>0</td>\n",
       "      <td>1</td>\n",
       "      <td>0</td>\n",
       "      <td>0</td>\n",
       "      <td>1</td>\n",
       "    </tr>\n",
       "    <tr>\n",
       "      <th>1</th>\n",
       "      <td>0</td>\n",
       "      <td>1</td>\n",
       "      <td>0</td>\n",
       "      <td>0</td>\n",
       "      <td>0</td>\n",
       "      <td>1</td>\n",
       "      <td>0</td>\n",
       "      <td>0</td>\n",
       "      <td>1</td>\n",
       "    </tr>\n",
       "    <tr>\n",
       "      <th>2</th>\n",
       "      <td>0</td>\n",
       "      <td>0</td>\n",
       "      <td>0</td>\n",
       "      <td>1</td>\n",
       "      <td>0</td>\n",
       "      <td>1</td>\n",
       "      <td>0</td>\n",
       "      <td>0</td>\n",
       "      <td>1</td>\n",
       "    </tr>\n",
       "    <tr>\n",
       "      <th>3</th>\n",
       "      <td>0</td>\n",
       "      <td>1</td>\n",
       "      <td>0</td>\n",
       "      <td>0</td>\n",
       "      <td>0</td>\n",
       "      <td>1</td>\n",
       "      <td>0</td>\n",
       "      <td>0</td>\n",
       "      <td>1</td>\n",
       "    </tr>\n",
       "    <tr>\n",
       "      <th>4</th>\n",
       "      <td>0</td>\n",
       "      <td>0</td>\n",
       "      <td>0</td>\n",
       "      <td>1</td>\n",
       "      <td>0</td>\n",
       "      <td>1</td>\n",
       "      <td>0</td>\n",
       "      <td>0</td>\n",
       "      <td>1</td>\n",
       "    </tr>\n",
       "  </tbody>\n",
       "</table>\n",
       "</div>"
      ],
      "text/plain": [
       "   fuel_CNG  fuel_Diesel  ...  transmission_Automatic  transmission_Manual\n",
       "0         0            1  ...                       0                    1\n",
       "1         0            1  ...                       0                    1\n",
       "2         0            0  ...                       0                    1\n",
       "3         0            1  ...                       0                    1\n",
       "4         0            0  ...                       0                    1\n",
       "\n",
       "[5 rows x 9 columns]"
      ]
     },
     "execution_count": 19,
     "metadata": {
      "tags": []
     },
     "output_type": "execute_result"
    }
   ],
   "source": [
    "from sklearn.preprocessing import OneHotEncoder\n",
    "ohe = OneHotEncoder(sparse=False,dtype=np.int64)\n",
    "cat_col = ['fuel','seller_type','transmission']\n",
    "z = ohe.fit_transform(df[cat_col])\n",
    "encoded_data = pd.DataFrame(z,columns=ohe.get_feature_names(cat_col))\n",
    "encoded_data.head()"
   ]
  },
  {
   "cell_type": "code",
   "execution_count": null,
   "metadata": {
    "colab": {
     "base_uri": "https://localhost:8080/",
     "height": 243
    },
    "id": "hrtGjfu84tZY",
    "outputId": "b91cc5ff-f56a-45f3-fa63-be641da7dba5"
   },
   "outputs": [
    {
     "data": {
      "text/html": [
       "<div>\n",
       "<style scoped>\n",
       "    .dataframe tbody tr th:only-of-type {\n",
       "        vertical-align: middle;\n",
       "    }\n",
       "\n",
       "    .dataframe tbody tr th {\n",
       "        vertical-align: top;\n",
       "    }\n",
       "\n",
       "    .dataframe thead th {\n",
       "        text-align: right;\n",
       "    }\n",
       "</style>\n",
       "<table border=\"1\" class=\"dataframe\">\n",
       "  <thead>\n",
       "    <tr style=\"text-align: right;\">\n",
       "      <th></th>\n",
       "      <th>year</th>\n",
       "      <th>selling_price</th>\n",
       "      <th>km_driven</th>\n",
       "      <th>owner</th>\n",
       "      <th>mileage</th>\n",
       "      <th>engine</th>\n",
       "      <th>max_power</th>\n",
       "      <th>seats</th>\n",
       "      <th>fuel_CNG</th>\n",
       "      <th>fuel_Diesel</th>\n",
       "      <th>fuel_LPG</th>\n",
       "      <th>fuel_Petrol</th>\n",
       "      <th>seller_type_Dealer</th>\n",
       "      <th>seller_type_Individual</th>\n",
       "      <th>seller_type_Trustmark Dealer</th>\n",
       "      <th>transmission_Automatic</th>\n",
       "      <th>transmission_Manual</th>\n",
       "    </tr>\n",
       "  </thead>\n",
       "  <tbody>\n",
       "    <tr>\n",
       "      <th>0</th>\n",
       "      <td>2014</td>\n",
       "      <td>450000</td>\n",
       "      <td>145500</td>\n",
       "      <td>1</td>\n",
       "      <td>23.40</td>\n",
       "      <td>1248.0</td>\n",
       "      <td>74.00</td>\n",
       "      <td>5.0</td>\n",
       "      <td>0</td>\n",
       "      <td>1</td>\n",
       "      <td>0</td>\n",
       "      <td>0</td>\n",
       "      <td>0</td>\n",
       "      <td>1</td>\n",
       "      <td>0</td>\n",
       "      <td>0</td>\n",
       "      <td>1</td>\n",
       "    </tr>\n",
       "    <tr>\n",
       "      <th>1</th>\n",
       "      <td>2014</td>\n",
       "      <td>370000</td>\n",
       "      <td>120000</td>\n",
       "      <td>2</td>\n",
       "      <td>21.14</td>\n",
       "      <td>1498.0</td>\n",
       "      <td>103.52</td>\n",
       "      <td>5.0</td>\n",
       "      <td>0</td>\n",
       "      <td>1</td>\n",
       "      <td>0</td>\n",
       "      <td>0</td>\n",
       "      <td>0</td>\n",
       "      <td>1</td>\n",
       "      <td>0</td>\n",
       "      <td>0</td>\n",
       "      <td>1</td>\n",
       "    </tr>\n",
       "    <tr>\n",
       "      <th>2</th>\n",
       "      <td>2006</td>\n",
       "      <td>158000</td>\n",
       "      <td>140000</td>\n",
       "      <td>3</td>\n",
       "      <td>17.70</td>\n",
       "      <td>1497.0</td>\n",
       "      <td>78.00</td>\n",
       "      <td>5.0</td>\n",
       "      <td>0</td>\n",
       "      <td>0</td>\n",
       "      <td>0</td>\n",
       "      <td>1</td>\n",
       "      <td>0</td>\n",
       "      <td>1</td>\n",
       "      <td>0</td>\n",
       "      <td>0</td>\n",
       "      <td>1</td>\n",
       "    </tr>\n",
       "    <tr>\n",
       "      <th>3</th>\n",
       "      <td>2010</td>\n",
       "      <td>225000</td>\n",
       "      <td>127000</td>\n",
       "      <td>1</td>\n",
       "      <td>23.00</td>\n",
       "      <td>1396.0</td>\n",
       "      <td>90.00</td>\n",
       "      <td>5.0</td>\n",
       "      <td>0</td>\n",
       "      <td>1</td>\n",
       "      <td>0</td>\n",
       "      <td>0</td>\n",
       "      <td>0</td>\n",
       "      <td>1</td>\n",
       "      <td>0</td>\n",
       "      <td>0</td>\n",
       "      <td>1</td>\n",
       "    </tr>\n",
       "    <tr>\n",
       "      <th>4</th>\n",
       "      <td>2007</td>\n",
       "      <td>130000</td>\n",
       "      <td>120000</td>\n",
       "      <td>1</td>\n",
       "      <td>16.10</td>\n",
       "      <td>1298.0</td>\n",
       "      <td>88.20</td>\n",
       "      <td>5.0</td>\n",
       "      <td>0</td>\n",
       "      <td>0</td>\n",
       "      <td>0</td>\n",
       "      <td>1</td>\n",
       "      <td>0</td>\n",
       "      <td>1</td>\n",
       "      <td>0</td>\n",
       "      <td>0</td>\n",
       "      <td>1</td>\n",
       "    </tr>\n",
       "  </tbody>\n",
       "</table>\n",
       "</div>"
      ],
      "text/plain": [
       "   year  selling_price  ...  transmission_Automatic  transmission_Manual\n",
       "0  2014         450000  ...                       0                    1\n",
       "1  2014         370000  ...                       0                    1\n",
       "2  2006         158000  ...                       0                    1\n",
       "3  2010         225000  ...                       0                    1\n",
       "4  2007         130000  ...                       0                    1\n",
       "\n",
       "[5 rows x 17 columns]"
      ]
     },
     "execution_count": 20,
     "metadata": {
      "tags": []
     },
     "output_type": "execute_result"
    }
   ],
   "source": [
    "df1=df.drop(columns=cat_col,axis=1)\n",
    "final_df = pd.concat([df1,encoded_data],axis=1)\n",
    "final_df.head()"
   ]
  },
  {
   "cell_type": "code",
   "execution_count": null,
   "metadata": {
    "colab": {
     "base_uri": "https://localhost:8080/"
    },
    "id": "btbL2MeO4wTs",
    "outputId": "28af3cc0-39fb-47f4-c59d-2414a68d0bbe"
   },
   "outputs": [
    {
     "data": {
      "text/plain": [
       "year                              0\n",
       "selling_price                     0\n",
       "km_driven                         0\n",
       "owner                             0\n",
       "mileage                         221\n",
       "engine                          221\n",
       "max_power                       216\n",
       "seats                           221\n",
       "fuel_CNG                          0\n",
       "fuel_Diesel                       0\n",
       "fuel_LPG                          0\n",
       "fuel_Petrol                       0\n",
       "seller_type_Dealer                0\n",
       "seller_type_Individual            0\n",
       "seller_type_Trustmark Dealer      0\n",
       "transmission_Automatic            0\n",
       "transmission_Manual               0\n",
       "dtype: int64"
      ]
     },
     "execution_count": 21,
     "metadata": {
      "tags": []
     },
     "output_type": "execute_result"
    }
   ],
   "source": [
    "final_df.isnull().sum()"
   ]
  },
  {
   "cell_type": "code",
   "execution_count": null,
   "metadata": {
    "id": "wvZIUsQJv-xR"
   },
   "outputs": [],
   "source": [
    "final_df.dropna(inplace=True)"
   ]
  },
  {
   "cell_type": "code",
   "execution_count": null,
   "metadata": {
    "colab": {
     "base_uri": "https://localhost:8080/"
    },
    "id": "VzQim2ErwjND",
    "outputId": "100df5e1-80e7-4fb9-9f5f-0fad49b3aa1d"
   },
   "outputs": [
    {
     "data": {
      "text/plain": [
       "(7906, 17)"
      ]
     },
     "execution_count": 23,
     "metadata": {
      "tags": []
     },
     "output_type": "execute_result"
    }
   ],
   "source": [
    "final_df.shape"
   ]
  },
  {
   "cell_type": "markdown",
   "metadata": {
    "id": "ez91ID6AEgPm"
   },
   "source": [
    "## Question 3"
   ]
  },
  {
   "cell_type": "markdown",
   "metadata": {
    "id": "9J4BlzVA_gZd"
   },
   "source": [
    "### Split the data and then scale the data\n",
    "- Split the data into ratio of 75:25 with random state=12\n",
    "- Perform standard scaling on X_train and X_test data\n"
   ]
  },
  {
   "cell_type": "code",
   "execution_count": null,
   "metadata": {
    "colab": {
     "base_uri": "https://localhost:8080/"
    },
    "id": "IKEK8aEE_Csx",
    "outputId": "00ee24af-9096-4151-d666-75b15eb6f72e"
   },
   "outputs": [
    {
     "data": {
      "text/plain": [
       "((5929, 16), (1977, 16), (5929,), (1977,))"
      ]
     },
     "execution_count": 24,
     "metadata": {
      "tags": []
     },
     "output_type": "execute_result"
    }
   ],
   "source": [
    "from sklearn.model_selection import train_test_split\n",
    "x = final_df.drop('selling_price',axis=1)\n",
    "y = final_df['selling_price']\n",
    "\n",
    "x_train,x_test,y_train,y_test = train_test_split(x,y,test_size=0.25,random_state=12)\n",
    "x_train.shape,x_test.shape,y_train.shape,y_test.shape"
   ]
  },
  {
   "cell_type": "code",
   "execution_count": null,
   "metadata": {
    "id": "59F0lA4z8SH-"
   },
   "outputs": [],
   "source": [
    "from sklearn.preprocessing import StandardScaler\n",
    "sc = StandardScaler()\n",
    "x_train_sc = sc.fit_transform(x_train)\n",
    "x_test_sc = sc.transform(x_test)"
   ]
  },
  {
   "cell_type": "code",
   "execution_count": null,
   "metadata": {
    "colab": {
     "base_uri": "https://localhost:8080/"
    },
    "id": "5zNnO-KbzojY",
    "outputId": "da191899-d044-4825-961b-24974e1c129a"
   },
   "outputs": [
    {
     "data": {
      "text/plain": [
       "(5929, 16)"
      ]
     },
     "execution_count": 26,
     "metadata": {
      "tags": []
     },
     "output_type": "execute_result"
    }
   ],
   "source": [
    "x_train_sc.shape"
   ]
  },
  {
   "cell_type": "markdown",
   "metadata": {
    "id": "cTPhO6v-AiZt"
   },
   "source": [
    "## Question 4"
   ]
  },
  {
   "cell_type": "markdown",
   "metadata": {
    "id": "SsZXmF3NAkna"
   },
   "source": [
    "### Create a Deep Neural Network Model for Regression\n",
    "- Initialize a Sequential model\n",
    "- Add 3 hidden layer with activation relu (Number of neurons = 64,128,32 respectively)\n",
    "- Add dropout layer after each hidden layer\n",
    "- Add a Dense layer with one neuron as output, use activation linear\n",
    "  \n"
   ]
  },
  {
   "cell_type": "code",
   "execution_count": 94,
   "metadata": {
    "id": "aKs04iIHAjxN"
   },
   "outputs": [],
   "source": [
    "import tensorflow as tf\n",
    "from tensorflow.keras.models import Sequential\n",
    "from tensorflow.keras.layers import Flatten,Dense,Dropout,Input,BatchNormalization\n",
    "from keras.utils.vis_utils import plot_model"
   ]
  },
  {
   "cell_type": "markdown",
   "metadata": {
    "id": "aHstM0fX_-kI"
   },
   "source": [
    "### Check model summary and visualize the model"
   ]
  },
  {
   "cell_type": "code",
   "execution_count": null,
   "metadata": {
    "id": "xQjCMzUXBJbg"
   },
   "outputs": [],
   "source": [
    "model =Sequential()\n",
    "model.add(tf.keras.Input(shape=(16)))\n",
    "\n",
    "model.add(Dense(64,activation='relu'))\n",
    "model.add(Dropout(0.15))\n",
    "\n",
    "model.add(Dense(128,activation='relu'))\n",
    "model.add(Dropout(0.10))\n",
    "\n",
    "model.add(Dense(32,activation='relu'))\n",
    "model.add(Dropout(0.05))\n",
    "\n",
    "model.add(Dense(1,activation='linear'))"
   ]
  },
  {
   "cell_type": "code",
   "execution_count": null,
   "metadata": {
    "colab": {
     "base_uri": "https://localhost:8080/"
    },
    "id": "Ksap6Rx0BNIw",
    "outputId": "b136c0c0-f496-41f8-ba70-db17832a2342"
   },
   "outputs": [
    {
     "name": "stdout",
     "output_type": "stream",
     "text": [
      "Model: \"sequential_3\"\n",
      "_________________________________________________________________\n",
      "Layer (type)                 Output Shape              Param #   \n",
      "=================================================================\n",
      "dense_12 (Dense)             (None, 64)                1088      \n",
      "_________________________________________________________________\n",
      "dropout_9 (Dropout)          (None, 64)                0         \n",
      "_________________________________________________________________\n",
      "dense_13 (Dense)             (None, 128)               8320      \n",
      "_________________________________________________________________\n",
      "dropout_10 (Dropout)         (None, 128)               0         \n",
      "_________________________________________________________________\n",
      "dense_14 (Dense)             (None, 32)                4128      \n",
      "_________________________________________________________________\n",
      "dropout_11 (Dropout)         (None, 32)                0         \n",
      "_________________________________________________________________\n",
      "dense_15 (Dense)             (None, 1)                 33        \n",
      "=================================================================\n",
      "Total params: 13,569\n",
      "Trainable params: 13,569\n",
      "Non-trainable params: 0\n",
      "_________________________________________________________________\n"
     ]
    }
   ],
   "source": [
    "model.summary()"
   ]
  },
  {
   "cell_type": "code",
   "execution_count": null,
   "metadata": {
    "colab": {
     "base_uri": "https://localhost:8080/",
     "height": 865
    },
    "id": "-7_Zeoz85BFA",
    "outputId": "e0016ad3-da61-49f4-ddc6-c1d9b4e93dbd"
   },
   "outputs": [
    {
     "data": {
      "image/png": "[encoded data removed]",
      "text/plain": [
       "<IPython.core.display.Image object>"
      ]
     },
     "execution_count": 60,
     "metadata": {
      "tags": []
     },
     "output_type": "execute_result"
    }
   ],
   "source": [
    "plot_model(model,show_shapes=True,show_layer_names=True)"
   ]
  },
  {
   "cell_type": "markdown",
   "metadata": {
    "id": "y7WTmUI-Ey95"
   },
   "source": [
    "## Question 5"
   ]
  },
  {
   "cell_type": "markdown",
   "metadata": {
    "id": "C8u_jlbABTip"
   },
   "source": [
    "### Compile the model\n",
    "\n",
    "- Compile the model\n",
    "- Use \"adam\" optimizer\n",
    "- for calculating loss, use mean absolute error\n",
    "- use R2 score (coefficient of determination) as the metric"
   ]
  },
  {
   "cell_type": "code",
   "execution_count": null,
   "metadata": {
    "id": "0aDDAcT7xHB0"
   },
   "outputs": [],
   "source": [
    "from keras import backend as K\n",
    "def r_2_score(y_true,y_pred):\n",
    "  SS_resid = K.sum(K.square(y_true-y_pred))\n",
    "  SS_total   = K.sum(K.square(y_true - K.mean(y_true)))\n",
    "  return (1- SS_resid/(SS_total +K.epsilon()))"
   ]
  },
  {
   "cell_type": "code",
   "execution_count": null,
   "metadata": {
    "id": "_bxtG5P9-5BP"
   },
   "outputs": [],
   "source": [
    "from sklearn.metrics import r2_score\n",
    "model.compile(loss='mean_absolute_error',optimizer='adam',metrics = [r_2_score])"
   ]
  },
  {
   "cell_type": "markdown",
   "metadata": {
    "id": "s-ntyk6k_EmT"
   },
   "source": [
    "Other metrics can also be used to track the learning of the model:\n",
    "\n",
    "To learn different metrics for classification and regression visit the following link:\n",
    "\n",
    "Link: https://keras.io/api/metrics/#usage-with-compile-amp-fit"
   ]
  },
  {
   "cell_type": "markdown",
   "metadata": {
    "id": "n9o45OHdjDhA"
   },
   "source": [
    "### Train your model\n",
    "\n",
    "- epochs: 200\n",
    "- batch size: 32\n",
    "- Use test data as validation data\n",
    "- Also add callback, such that if validation loss doesn't decreases consecutively 10 times, stop the training and return the weights for the previous best model"
   ]
  },
  {
   "cell_type": "code",
   "execution_count": null,
   "metadata": {
    "id": "-Y6tA30XjOH2"
   },
   "outputs": [],
   "source": [
    "callback = tf.keras.callbacks.EarlyStopping(monitor='val_loss',patience = 10,restore_best_weights=True,mode = 'min')"
   ]
  },
  {
   "cell_type": "code",
   "execution_count": null,
   "metadata": {
    "colab": {
     "base_uri": "https://localhost:8080/"
    },
    "id": "_hDbCN_CxBw6",
    "outputId": "bd380ab3-029f-4d1a-cad4-d7731eb407a7"
   },
   "outputs": [
    {
     "name": "stdout",
     "output_type": "stream",
     "text": [
      "Epoch 1/200\n",
      "186/186 [==============================] - 4s 6ms/step - loss: 666479.8951 - r_2_score: -1.2062 - val_loss: 649514.6250 - val_r_2_score: -1.0168\n",
      "Epoch 2/200\n",
      "186/186 [==============================] - 1s 4ms/step - loss: 636503.9973 - r_2_score: -1.1948 - val_loss: 546894.8750 - val_r_2_score: -0.6447\n",
      "Epoch 3/200\n",
      "186/186 [==============================] - 1s 4ms/step - loss: 487895.1758 - r_2_score: -0.5252 - val_loss: 323812.6250 - val_r_2_score: 0.2136\n",
      "Epoch 4/200\n",
      "186/186 [==============================] - 1s 4ms/step - loss: 295138.4148 - r_2_score: 0.3206 - val_loss: 253610.4688 - val_r_2_score: 0.5215\n",
      "Epoch 5/200\n",
      "186/186 [==============================] - 1s 4ms/step - loss: 239482.8461 - r_2_score: 0.5416 - val_loss: 226164.7812 - val_r_2_score: 0.6114\n",
      "Epoch 6/200\n",
      "186/186 [==============================] - 1s 4ms/step - loss: 209836.7108 - r_2_score: 0.6166 - val_loss: 210346.4688 - val_r_2_score: 0.6603\n",
      "Epoch 7/200\n",
      "186/186 [==============================] - 1s 4ms/step - loss: 208200.9916 - r_2_score: 0.6508 - val_loss: 201043.4531 - val_r_2_score: 0.6815\n",
      "Epoch 8/200\n",
      "186/186 [==============================] - 1s 4ms/step - loss: 208496.6520 - r_2_score: 0.6591 - val_loss: 194729.7031 - val_r_2_score: 0.7004\n",
      "Epoch 9/200\n",
      "186/186 [==============================] - 1s 4ms/step - loss: 195093.0729 - r_2_score: 0.6987 - val_loss: 191089.0156 - val_r_2_score: 0.7079\n",
      "Epoch 10/200\n",
      "186/186 [==============================] - 1s 4ms/step - loss: 204419.3026 - r_2_score: 0.6884 - val_loss: 188585.5312 - val_r_2_score: 0.7145\n",
      "Epoch 11/200\n",
      "186/186 [==============================] - 1s 4ms/step - loss: 178508.6449 - r_2_score: 0.7033 - val_loss: 186357.8438 - val_r_2_score: 0.7214\n",
      "Epoch 12/200\n",
      "186/186 [==============================] - 1s 4ms/step - loss: 178702.4321 - r_2_score: 0.7204 - val_loss: 184701.6719 - val_r_2_score: 0.7262\n",
      "Epoch 13/200\n",
      "186/186 [==============================] - 1s 4ms/step - loss: 188876.6826 - r_2_score: 0.6876 - val_loss: 183606.7969 - val_r_2_score: 0.7291\n",
      "Epoch 14/200\n",
      "186/186 [==============================] - 1s 4ms/step - loss: 179396.9572 - r_2_score: 0.7061 - val_loss: 182523.7969 - val_r_2_score: 0.7324\n",
      "Epoch 15/200\n",
      "186/186 [==============================] - 1s 4ms/step - loss: 184409.6762 - r_2_score: 0.7423 - val_loss: 181612.4062 - val_r_2_score: 0.7346\n",
      "Epoch 16/200\n",
      "186/186 [==============================] - 1s 4ms/step - loss: 182888.8837 - r_2_score: 0.7240 - val_loss: 180570.6875 - val_r_2_score: 0.7375\n",
      "Epoch 17/200\n",
      "186/186 [==============================] - 1s 4ms/step - loss: 174119.0180 - r_2_score: 0.7276 - val_loss: 179595.8281 - val_r_2_score: 0.7402\n",
      "Epoch 18/200\n",
      "186/186 [==============================] - 1s 4ms/step - loss: 171744.9916 - r_2_score: 0.7376 - val_loss: 178187.9531 - val_r_2_score: 0.7441\n",
      "Epoch 19/200\n",
      "186/186 [==============================] - 1s 4ms/step - loss: 174661.1471 - r_2_score: 0.7216 - val_loss: 176750.1094 - val_r_2_score: 0.7479\n",
      "Epoch 20/200\n",
      "186/186 [==============================] - 1s 4ms/step - loss: 188403.8305 - r_2_score: 0.7257 - val_loss: 176957.5312 - val_r_2_score: 0.7464\n",
      "Epoch 21/200\n",
      "186/186 [==============================] - 1s 4ms/step - loss: 175496.8586 - r_2_score: 0.7263 - val_loss: 175138.9375 - val_r_2_score: 0.7510\n",
      "Epoch 22/200\n",
      "186/186 [==============================] - 1s 4ms/step - loss: 175321.3921 - r_2_score: 0.7473 - val_loss: 174197.4375 - val_r_2_score: 0.7541\n",
      "Epoch 23/200\n",
      "186/186 [==============================] - 1s 4ms/step - loss: 173481.3636 - r_2_score: 0.7651 - val_loss: 173681.7031 - val_r_2_score: 0.7556\n",
      "Epoch 24/200\n",
      "186/186 [==============================] - 1s 4ms/step - loss: 171677.3171 - r_2_score: 0.7573 - val_loss: 172406.2656 - val_r_2_score: 0.7586\n",
      "Epoch 25/200\n",
      "186/186 [==============================] - 1s 4ms/step - loss: 170690.8158 - r_2_score: 0.7575 - val_loss: 171789.3438 - val_r_2_score: 0.7595\n",
      "Epoch 26/200\n",
      "186/186 [==============================] - 1s 4ms/step - loss: 174464.0155 - r_2_score: 0.7490 - val_loss: 170540.2812 - val_r_2_score: 0.7623\n",
      "Epoch 27/200\n",
      "186/186 [==============================] - 1s 4ms/step - loss: 176919.0081 - r_2_score: 0.7282 - val_loss: 169311.3438 - val_r_2_score: 0.7639\n",
      "Epoch 28/200\n",
      "186/186 [==============================] - 1s 4ms/step - loss: 163435.2485 - r_2_score: 0.7599 - val_loss: 169054.0781 - val_r_2_score: 0.7656\n",
      "Epoch 29/200\n",
      "186/186 [==============================] - 1s 4ms/step - loss: 168246.3338 - r_2_score: 0.7749 - val_loss: 168874.7344 - val_r_2_score: 0.7660\n",
      "Epoch 30/200\n",
      "186/186 [==============================] - 1s 4ms/step - loss: 171873.2791 - r_2_score: 0.7316 - val_loss: 167102.6250 - val_r_2_score: 0.7681\n",
      "Epoch 31/200\n",
      "186/186 [==============================] - 1s 4ms/step - loss: 170379.7623 - r_2_score: 0.7442 - val_loss: 167156.2031 - val_r_2_score: 0.7687\n",
      "Epoch 32/200\n",
      "186/186 [==============================] - 1s 4ms/step - loss: 172693.6041 - r_2_score: 0.7447 - val_loss: 167043.2969 - val_r_2_score: 0.7692\n",
      "Epoch 33/200\n",
      "186/186 [==============================] - 1s 4ms/step - loss: 170938.0968 - r_2_score: 0.7633 - val_loss: 165660.0000 - val_r_2_score: 0.7710\n",
      "Epoch 34/200\n",
      "186/186 [==============================] - 1s 4ms/step - loss: 171134.5955 - r_2_score: 0.7588 - val_loss: 164699.9062 - val_r_2_score: 0.7731\n",
      "Epoch 35/200\n",
      "186/186 [==============================] - 1s 4ms/step - loss: 162654.0063 - r_2_score: 0.7536 - val_loss: 164472.1250 - val_r_2_score: 0.7738\n",
      "Epoch 36/200\n",
      "186/186 [==============================] - 1s 4ms/step - loss: 171521.9394 - r_2_score: 0.7486 - val_loss: 163497.0781 - val_r_2_score: 0.7750\n",
      "Epoch 37/200\n",
      "186/186 [==============================] - 1s 4ms/step - loss: 159748.7146 - r_2_score: 0.7732 - val_loss: 162629.6094 - val_r_2_score: 0.7765\n",
      "Epoch 38/200\n",
      "186/186 [==============================] - 1s 4ms/step - loss: 162000.3671 - r_2_score: 0.7942 - val_loss: 161841.9844 - val_r_2_score: 0.7782\n",
      "Epoch 39/200\n",
      "186/186 [==============================] - 1s 4ms/step - loss: 163038.1724 - r_2_score: 0.7716 - val_loss: 160933.5312 - val_r_2_score: 0.7787\n",
      "Epoch 40/200\n",
      "186/186 [==============================] - 1s 4ms/step - loss: 170268.0376 - r_2_score: 0.7789 - val_loss: 160110.1875 - val_r_2_score: 0.7809\n",
      "Epoch 41/200\n",
      "186/186 [==============================] - 1s 4ms/step - loss: 168152.3453 - r_2_score: 0.7774 - val_loss: 159712.8438 - val_r_2_score: 0.7823\n",
      "Epoch 42/200\n",
      "186/186 [==============================] - 1s 4ms/step - loss: 172567.0550 - r_2_score: 0.7892 - val_loss: 160495.7656 - val_r_2_score: 0.7820\n",
      "Epoch 43/200\n",
      "186/186 [==============================] - 1s 4ms/step - loss: 165635.2634 - r_2_score: 0.7861 - val_loss: 159184.7500 - val_r_2_score: 0.7833\n",
      "Epoch 44/200\n",
      "186/186 [==============================] - 1s 4ms/step - loss: 156084.3103 - r_2_score: 0.7897 - val_loss: 158678.8281 - val_r_2_score: 0.7839\n",
      "Epoch 45/200\n",
      "186/186 [==============================] - 1s 4ms/step - loss: 165622.0247 - r_2_score: 0.7645 - val_loss: 158629.6250 - val_r_2_score: 0.7849\n",
      "Epoch 46/200\n",
      "186/186 [==============================] - 1s 4ms/step - loss: 163480.5027 - r_2_score: 0.7900 - val_loss: 158104.1719 - val_r_2_score: 0.7857\n",
      "Epoch 47/200\n",
      "186/186 [==============================] - 1s 4ms/step - loss: 158346.6556 - r_2_score: 0.7793 - val_loss: 157365.6875 - val_r_2_score: 0.7862\n",
      "Epoch 48/200\n",
      "186/186 [==============================] - 1s 4ms/step - loss: 159226.2119 - r_2_score: 0.7755 - val_loss: 156092.6094 - val_r_2_score: 0.7878\n",
      "Epoch 49/200\n",
      "186/186 [==============================] - 1s 4ms/step - loss: 155437.8231 - r_2_score: 0.7602 - val_loss: 155187.2500 - val_r_2_score: 0.7891\n",
      "Epoch 50/200\n",
      "186/186 [==============================] - 1s 4ms/step - loss: 160539.7177 - r_2_score: 0.7941 - val_loss: 154964.1094 - val_r_2_score: 0.7893\n",
      "Epoch 51/200\n",
      "186/186 [==============================] - 1s 4ms/step - loss: 160754.7365 - r_2_score: 0.7746 - val_loss: 154980.9531 - val_r_2_score: 0.7901\n",
      "Epoch 52/200\n",
      "186/186 [==============================] - 1s 4ms/step - loss: 153138.1400 - r_2_score: 0.7660 - val_loss: 153819.0156 - val_r_2_score: 0.7896\n",
      "Epoch 53/200\n",
      "186/186 [==============================] - 1s 4ms/step - loss: 158812.9893 - r_2_score: 0.7857 - val_loss: 153664.2031 - val_r_2_score: 0.7914\n",
      "Epoch 54/200\n",
      "186/186 [==============================] - 1s 4ms/step - loss: 159674.3732 - r_2_score: 0.8001 - val_loss: 153681.1875 - val_r_2_score: 0.7918\n",
      "Epoch 55/200\n",
      "186/186 [==============================] - 1s 4ms/step - loss: 156866.3392 - r_2_score: 0.7478 - val_loss: 152317.7031 - val_r_2_score: 0.7915\n",
      "Epoch 56/200\n",
      "186/186 [==============================] - 1s 4ms/step - loss: 162719.4804 - r_2_score: 0.7848 - val_loss: 153006.3750 - val_r_2_score: 0.7936\n",
      "Epoch 57/200\n",
      "186/186 [==============================] - 1s 4ms/step - loss: 151963.5808 - r_2_score: 0.8106 - val_loss: 152609.6719 - val_r_2_score: 0.7945\n",
      "Epoch 58/200\n",
      "186/186 [==============================] - 1s 4ms/step - loss: 159883.3249 - r_2_score: 0.8024 - val_loss: 151422.6094 - val_r_2_score: 0.7947\n",
      "Epoch 59/200\n",
      "186/186 [==============================] - 1s 4ms/step - loss: 153251.2594 - r_2_score: 0.7488 - val_loss: 151563.8281 - val_r_2_score: 0.7951\n",
      "Epoch 60/200\n",
      "186/186 [==============================] - 1s 4ms/step - loss: 151009.7940 - r_2_score: 0.7944 - val_loss: 151033.2812 - val_r_2_score: 0.7961\n",
      "Epoch 61/200\n",
      "186/186 [==============================] - 1s 4ms/step - loss: 155531.6003 - r_2_score: 0.7799 - val_loss: 150723.5312 - val_r_2_score: 0.7976\n",
      "Epoch 62/200\n",
      "186/186 [==============================] - 1s 4ms/step - loss: 157277.5654 - r_2_score: 0.7836 - val_loss: 150040.8594 - val_r_2_score: 0.7957\n",
      "Epoch 63/200\n",
      "186/186 [==============================] - 1s 4ms/step - loss: 153332.5715 - r_2_score: 0.8072 - val_loss: 149688.0781 - val_r_2_score: 0.7972\n",
      "Epoch 64/200\n",
      "186/186 [==============================] - 1s 4ms/step - loss: 164011.7241 - r_2_score: 0.7889 - val_loss: 149296.8594 - val_r_2_score: 0.7981\n",
      "Epoch 65/200\n",
      "186/186 [==============================] - 1s 4ms/step - loss: 156079.8036 - r_2_score: 0.7752 - val_loss: 149173.8750 - val_r_2_score: 0.7992\n",
      "Epoch 66/200\n",
      "186/186 [==============================] - 1s 4ms/step - loss: 151854.1360 - r_2_score: 0.8087 - val_loss: 148366.0469 - val_r_2_score: 0.7995\n",
      "Epoch 67/200\n",
      "186/186 [==============================] - 1s 4ms/step - loss: 158422.6111 - r_2_score: 0.8124 - val_loss: 148403.3594 - val_r_2_score: 0.8010\n",
      "Epoch 68/200\n",
      "186/186 [==============================] - 1s 4ms/step - loss: 154268.0875 - r_2_score: 0.8179 - val_loss: 147816.4531 - val_r_2_score: 0.8009\n",
      "Epoch 69/200\n",
      "186/186 [==============================] - 1s 4ms/step - loss: 152403.5318 - r_2_score: 0.7791 - val_loss: 147162.7031 - val_r_2_score: 0.8019\n",
      "Epoch 70/200\n",
      "186/186 [==============================] - 1s 4ms/step - loss: 152758.4253 - r_2_score: 0.8216 - val_loss: 147400.4219 - val_r_2_score: 0.8015\n",
      "Epoch 71/200\n",
      "186/186 [==============================] - 1s 4ms/step - loss: 151175.8963 - r_2_score: 0.7962 - val_loss: 146739.5156 - val_r_2_score: 0.8032\n",
      "Epoch 72/200\n",
      "186/186 [==============================] - 1s 4ms/step - loss: 151733.2406 - r_2_score: 0.7686 - val_loss: 146705.0469 - val_r_2_score: 0.8034\n",
      "Epoch 73/200\n",
      "186/186 [==============================] - 1s 4ms/step - loss: 147704.9094 - r_2_score: 0.7672 - val_loss: 145896.2812 - val_r_2_score: 0.8035\n",
      "Epoch 74/200\n",
      "186/186 [==============================] - 1s 4ms/step - loss: 149728.9159 - r_2_score: 0.8194 - val_loss: 145673.4062 - val_r_2_score: 0.8032\n",
      "Epoch 75/200\n",
      "186/186 [==============================] - 1s 4ms/step - loss: 149905.9484 - r_2_score: 0.8097 - val_loss: 145693.1875 - val_r_2_score: 0.8063\n",
      "Epoch 76/200\n",
      "186/186 [==============================] - 1s 4ms/step - loss: 153636.5291 - r_2_score: 0.7950 - val_loss: 145582.7812 - val_r_2_score: 0.8066\n",
      "Epoch 77/200\n",
      "186/186 [==============================] - 1s 4ms/step - loss: 151375.7655 - r_2_score: 0.8022 - val_loss: 145105.0625 - val_r_2_score: 0.8081\n",
      "Epoch 78/200\n",
      "186/186 [==============================] - 1s 4ms/step - loss: 149856.4568 - r_2_score: 0.8113 - val_loss: 144941.9688 - val_r_2_score: 0.8074\n",
      "Epoch 79/200\n",
      "186/186 [==============================] - 1s 4ms/step - loss: 143721.4248 - r_2_score: 0.8130 - val_loss: 144252.1094 - val_r_2_score: 0.8082\n",
      "Epoch 80/200\n",
      "186/186 [==============================] - 1s 4ms/step - loss: 142921.0311 - r_2_score: 0.7998 - val_loss: 143719.9219 - val_r_2_score: 0.8077\n",
      "Epoch 81/200\n",
      "186/186 [==============================] - 1s 4ms/step - loss: 145411.0529 - r_2_score: 0.7952 - val_loss: 143570.5469 - val_r_2_score: 0.8092\n",
      "Epoch 82/200\n",
      "186/186 [==============================] - 1s 4ms/step - loss: 154296.0892 - r_2_score: 0.8197 - val_loss: 143384.0781 - val_r_2_score: 0.8096\n",
      "Epoch 83/200\n",
      "186/186 [==============================] - 1s 4ms/step - loss: 146532.9205 - r_2_score: 0.8182 - val_loss: 142739.1875 - val_r_2_score: 0.8097\n",
      "Epoch 84/200\n",
      "186/186 [==============================] - 1s 4ms/step - loss: 147798.2861 - r_2_score: 0.8100 - val_loss: 142611.2188 - val_r_2_score: 0.8115\n",
      "Epoch 85/200\n",
      "186/186 [==============================] - 1s 4ms/step - loss: 151697.8513 - r_2_score: 0.7850 - val_loss: 142151.5469 - val_r_2_score: 0.8122\n",
      "Epoch 86/200\n",
      "186/186 [==============================] - 1s 4ms/step - loss: 147759.1361 - r_2_score: 0.8029 - val_loss: 142034.3438 - val_r_2_score: 0.8119\n",
      "Epoch 87/200\n",
      "186/186 [==============================] - 1s 4ms/step - loss: 157257.0951 - r_2_score: 0.7818 - val_loss: 141458.3594 - val_r_2_score: 0.8115\n",
      "Epoch 88/200\n",
      "186/186 [==============================] - 1s 4ms/step - loss: 146145.3697 - r_2_score: 0.7952 - val_loss: 141316.1719 - val_r_2_score: 0.8132\n",
      "Epoch 89/200\n",
      "186/186 [==============================] - 1s 4ms/step - loss: 143731.2796 - r_2_score: 0.8337 - val_loss: 140835.2344 - val_r_2_score: 0.8119\n",
      "Epoch 90/200\n",
      "186/186 [==============================] - 1s 4ms/step - loss: 150262.1013 - r_2_score: 0.8244 - val_loss: 140607.4219 - val_r_2_score: 0.8138\n",
      "Epoch 91/200\n",
      "186/186 [==============================] - 1s 4ms/step - loss: 145712.2645 - r_2_score: 0.8187 - val_loss: 140357.9688 - val_r_2_score: 0.8153\n",
      "Epoch 92/200\n",
      "186/186 [==============================] - 1s 4ms/step - loss: 147392.3590 - r_2_score: 0.8230 - val_loss: 140267.1719 - val_r_2_score: 0.8149\n",
      "Epoch 93/200\n",
      "186/186 [==============================] - 1s 4ms/step - loss: 142226.5910 - r_2_score: 0.8318 - val_loss: 140167.9844 - val_r_2_score: 0.8170\n",
      "Epoch 94/200\n",
      "186/186 [==============================] - 1s 4ms/step - loss: 145259.1225 - r_2_score: 0.8189 - val_loss: 139556.7500 - val_r_2_score: 0.8163\n",
      "Epoch 95/200\n",
      "186/186 [==============================] - 1s 4ms/step - loss: 143939.9375 - r_2_score: 0.8119 - val_loss: 139057.7031 - val_r_2_score: 0.8156\n",
      "Epoch 96/200\n",
      "186/186 [==============================] - 1s 4ms/step - loss: 148659.1654 - r_2_score: 0.7951 - val_loss: 138844.5156 - val_r_2_score: 0.8177\n",
      "Epoch 97/200\n",
      "186/186 [==============================] - 1s 4ms/step - loss: 148290.0559 - r_2_score: 0.8168 - val_loss: 138333.8438 - val_r_2_score: 0.8147\n",
      "Epoch 98/200\n",
      "186/186 [==============================] - 1s 4ms/step - loss: 137471.7112 - r_2_score: 0.8269 - val_loss: 138216.2656 - val_r_2_score: 0.8168\n",
      "Epoch 99/200\n",
      "186/186 [==============================] - 1s 4ms/step - loss: 138638.9231 - r_2_score: 0.8483 - val_loss: 137988.3750 - val_r_2_score: 0.8176\n",
      "Epoch 100/200\n",
      "186/186 [==============================] - 1s 4ms/step - loss: 147645.4840 - r_2_score: 0.8083 - val_loss: 137587.1719 - val_r_2_score: 0.8165\n",
      "Epoch 101/200\n",
      "186/186 [==============================] - 1s 4ms/step - loss: 140618.6805 - r_2_score: 0.8158 - val_loss: 137438.4062 - val_r_2_score: 0.8192\n",
      "Epoch 102/200\n",
      "186/186 [==============================] - 1s 4ms/step - loss: 144935.6874 - r_2_score: 0.8430 - val_loss: 137624.7812 - val_r_2_score: 0.8210\n",
      "Epoch 103/200\n",
      "186/186 [==============================] - 1s 4ms/step - loss: 138443.4317 - r_2_score: 0.8403 - val_loss: 137141.8125 - val_r_2_score: 0.8201\n",
      "Epoch 104/200\n",
      "186/186 [==============================] - 1s 4ms/step - loss: 140697.1166 - r_2_score: 0.8117 - val_loss: 136470.1250 - val_r_2_score: 0.8203\n",
      "Epoch 105/200\n",
      "186/186 [==============================] - 1s 4ms/step - loss: 146958.1195 - r_2_score: 0.7965 - val_loss: 136648.2344 - val_r_2_score: 0.8209\n",
      "Epoch 106/200\n",
      "186/186 [==============================] - 1s 4ms/step - loss: 140179.9858 - r_2_score: 0.8189 - val_loss: 135886.7812 - val_r_2_score: 0.8212\n",
      "Epoch 107/200\n",
      "186/186 [==============================] - 1s 4ms/step - loss: 142789.1669 - r_2_score: 0.8537 - val_loss: 136113.4844 - val_r_2_score: 0.8240\n",
      "Epoch 108/200\n",
      "186/186 [==============================] - 1s 4ms/step - loss: 144429.3959 - r_2_score: 0.8030 - val_loss: 135535.5312 - val_r_2_score: 0.8238\n",
      "Epoch 109/200\n",
      "186/186 [==============================] - 1s 4ms/step - loss: 142631.3254 - r_2_score: 0.7977 - val_loss: 135228.9375 - val_r_2_score: 0.8245\n",
      "Epoch 110/200\n",
      "186/186 [==============================] - 1s 4ms/step - loss: 142117.7978 - r_2_score: 0.8441 - val_loss: 135711.4531 - val_r_2_score: 0.8260\n",
      "Epoch 111/200\n",
      "186/186 [==============================] - 1s 4ms/step - loss: 137378.8168 - r_2_score: 0.8183 - val_loss: 134460.6875 - val_r_2_score: 0.8233\n",
      "Epoch 112/200\n",
      "186/186 [==============================] - 1s 4ms/step - loss: 143528.1288 - r_2_score: 0.8162 - val_loss: 134819.9375 - val_r_2_score: 0.8269\n",
      "Epoch 113/200\n",
      "186/186 [==============================] - 1s 4ms/step - loss: 138756.6917 - r_2_score: 0.8272 - val_loss: 134491.8281 - val_r_2_score: 0.8284\n",
      "Epoch 114/200\n",
      "186/186 [==============================] - 1s 4ms/step - loss: 142654.3928 - r_2_score: 0.8136 - val_loss: 133696.8125 - val_r_2_score: 0.8260\n",
      "Epoch 115/200\n",
      "186/186 [==============================] - 1s 4ms/step - loss: 132983.2761 - r_2_score: 0.8346 - val_loss: 133635.0469 - val_r_2_score: 0.8282\n",
      "Epoch 116/200\n",
      "186/186 [==============================] - 1s 4ms/step - loss: 147157.6008 - r_2_score: 0.8079 - val_loss: 133543.3438 - val_r_2_score: 0.8285\n",
      "Epoch 117/200\n",
      "186/186 [==============================] - 1s 4ms/step - loss: 141616.8360 - r_2_score: 0.7729 - val_loss: 132768.1406 - val_r_2_score: 0.8270\n",
      "Epoch 118/200\n",
      "186/186 [==============================] - 1s 4ms/step - loss: 145565.4312 - r_2_score: 0.8380 - val_loss: 132445.2031 - val_r_2_score: 0.8270\n",
      "Epoch 119/200\n",
      "186/186 [==============================] - 1s 4ms/step - loss: 137261.3127 - r_2_score: 0.7972 - val_loss: 132444.9375 - val_r_2_score: 0.8310\n",
      "Epoch 120/200\n",
      "186/186 [==============================] - 1s 4ms/step - loss: 140416.3230 - r_2_score: 0.8201 - val_loss: 132318.1719 - val_r_2_score: 0.8298\n",
      "Epoch 121/200\n",
      "186/186 [==============================] - 1s 4ms/step - loss: 137100.5370 - r_2_score: 0.8519 - val_loss: 132167.4531 - val_r_2_score: 0.8309\n",
      "Epoch 122/200\n",
      "186/186 [==============================] - 1s 4ms/step - loss: 136532.1195 - r_2_score: 0.8379 - val_loss: 132061.4375 - val_r_2_score: 0.8309\n",
      "Epoch 123/200\n",
      "186/186 [==============================] - 1s 4ms/step - loss: 138738.5105 - r_2_score: 0.8460 - val_loss: 131844.8438 - val_r_2_score: 0.8342\n",
      "Epoch 124/200\n",
      "186/186 [==============================] - 1s 4ms/step - loss: 137564.4145 - r_2_score: 0.8414 - val_loss: 131328.2969 - val_r_2_score: 0.8316\n",
      "Epoch 125/200\n",
      "186/186 [==============================] - 1s 4ms/step - loss: 137399.0419 - r_2_score: 0.8376 - val_loss: 131566.2500 - val_r_2_score: 0.8355\n",
      "Epoch 126/200\n",
      "186/186 [==============================] - 1s 4ms/step - loss: 136200.9046 - r_2_score: 0.8453 - val_loss: 131108.1094 - val_r_2_score: 0.8348\n",
      "Epoch 127/200\n",
      "186/186 [==============================] - 1s 4ms/step - loss: 135956.7041 - r_2_score: 0.8194 - val_loss: 130717.2266 - val_r_2_score: 0.8343\n",
      "Epoch 128/200\n",
      "186/186 [==============================] - 1s 4ms/step - loss: 136035.6737 - r_2_score: 0.8476 - val_loss: 130629.8672 - val_r_2_score: 0.8369\n",
      "Epoch 129/200\n",
      "186/186 [==============================] - 1s 4ms/step - loss: 139371.1998 - r_2_score: 0.8512 - val_loss: 130819.3203 - val_r_2_score: 0.8380\n",
      "Epoch 130/200\n",
      "186/186 [==============================] - 1s 4ms/step - loss: 133513.2090 - r_2_score: 0.8383 - val_loss: 130781.3438 - val_r_2_score: 0.8392\n",
      "Epoch 131/200\n",
      "186/186 [==============================] - 1s 4ms/step - loss: 141651.2637 - r_2_score: 0.8244 - val_loss: 130406.3594 - val_r_2_score: 0.8388\n",
      "Epoch 132/200\n",
      "186/186 [==============================] - 1s 4ms/step - loss: 132496.4203 - r_2_score: 0.8157 - val_loss: 129995.3516 - val_r_2_score: 0.8403\n",
      "Epoch 133/200\n",
      "186/186 [==============================] - 1s 4ms/step - loss: 137325.1920 - r_2_score: 0.8000 - val_loss: 129951.7734 - val_r_2_score: 0.8411\n",
      "Epoch 134/200\n",
      "186/186 [==============================] - 1s 4ms/step - loss: 138854.2753 - r_2_score: 0.8353 - val_loss: 129821.6094 - val_r_2_score: 0.8416\n",
      "Epoch 135/200\n",
      "186/186 [==============================] - 1s 4ms/step - loss: 133441.0252 - r_2_score: 0.8425 - val_loss: 129814.1328 - val_r_2_score: 0.8440\n",
      "Epoch 136/200\n",
      "186/186 [==============================] - 1s 4ms/step - loss: 138837.1305 - r_2_score: 0.8428 - val_loss: 129592.5234 - val_r_2_score: 0.8451\n",
      "Epoch 137/200\n",
      "186/186 [==============================] - 1s 4ms/step - loss: 133795.5609 - r_2_score: 0.8406 - val_loss: 128815.6797 - val_r_2_score: 0.8422\n",
      "Epoch 138/200\n",
      "186/186 [==============================] - 1s 4ms/step - loss: 133933.6646 - r_2_score: 0.8280 - val_loss: 129186.1641 - val_r_2_score: 0.8456\n",
      "Epoch 139/200\n",
      "186/186 [==============================] - 1s 4ms/step - loss: 141541.3200 - r_2_score: 0.8209 - val_loss: 128636.1328 - val_r_2_score: 0.8466\n",
      "Epoch 140/200\n",
      "186/186 [==============================] - 1s 4ms/step - loss: 134136.9751 - r_2_score: 0.8441 - val_loss: 128280.8672 - val_r_2_score: 0.8450\n",
      "Epoch 141/200\n",
      "186/186 [==============================] - 1s 4ms/step - loss: 137614.9597 - r_2_score: 0.8371 - val_loss: 127963.1484 - val_r_2_score: 0.8453\n",
      "Epoch 142/200\n",
      "186/186 [==============================] - 1s 4ms/step - loss: 136592.6805 - r_2_score: 0.7965 - val_loss: 127868.2578 - val_r_2_score: 0.8459\n",
      "Epoch 143/200\n",
      "186/186 [==============================] - 1s 4ms/step - loss: 140480.6256 - r_2_score: 0.8269 - val_loss: 127679.4219 - val_r_2_score: 0.8458\n",
      "Epoch 144/200\n",
      "186/186 [==============================] - 1s 4ms/step - loss: 134857.9768 - r_2_score: 0.8485 - val_loss: 128138.8906 - val_r_2_score: 0.8485\n",
      "Epoch 145/200\n",
      "186/186 [==============================] - 1s 4ms/step - loss: 136948.9210 - r_2_score: 0.8238 - val_loss: 127372.4844 - val_r_2_score: 0.8473\n",
      "Epoch 146/200\n",
      "186/186 [==============================] - 1s 4ms/step - loss: 134444.8676 - r_2_score: 0.8219 - val_loss: 127056.8359 - val_r_2_score: 0.8469\n",
      "Epoch 147/200\n",
      "186/186 [==============================] - 1s 4ms/step - loss: 137156.2698 - r_2_score: 0.8027 - val_loss: 127781.5703 - val_r_2_score: 0.8511\n",
      "Epoch 148/200\n",
      "186/186 [==============================] - 1s 4ms/step - loss: 130235.8944 - r_2_score: 0.8458 - val_loss: 126884.5078 - val_r_2_score: 0.8491\n",
      "Epoch 149/200\n",
      "186/186 [==============================] - 1s 4ms/step - loss: 135649.0728 - r_2_score: 0.8461 - val_loss: 126739.2109 - val_r_2_score: 0.8515\n",
      "Epoch 150/200\n",
      "186/186 [==============================] - 1s 4ms/step - loss: 130952.1011 - r_2_score: 0.8442 - val_loss: 126472.6328 - val_r_2_score: 0.8496\n",
      "Epoch 151/200\n",
      "186/186 [==============================] - 1s 4ms/step - loss: 138086.2787 - r_2_score: 0.8301 - val_loss: 126893.1953 - val_r_2_score: 0.8538\n",
      "Epoch 152/200\n",
      "186/186 [==============================] - 1s 4ms/step - loss: 133127.1394 - r_2_score: 0.8533 - val_loss: 126558.7812 - val_r_2_score: 0.8540\n",
      "Epoch 153/200\n",
      "186/186 [==============================] - 1s 4ms/step - loss: 127363.7093 - r_2_score: 0.8246 - val_loss: 126563.1719 - val_r_2_score: 0.8543\n",
      "Epoch 154/200\n",
      "186/186 [==============================] - 1s 4ms/step - loss: 132049.8765 - r_2_score: 0.8479 - val_loss: 125944.9766 - val_r_2_score: 0.8535\n",
      "Epoch 155/200\n",
      "186/186 [==============================] - 1s 4ms/step - loss: 137869.6943 - r_2_score: 0.8332 - val_loss: 126285.7891 - val_r_2_score: 0.8548\n",
      "Epoch 156/200\n",
      "186/186 [==============================] - 1s 4ms/step - loss: 137742.1166 - r_2_score: 0.8390 - val_loss: 128517.6641 - val_r_2_score: 0.8556\n",
      "Epoch 157/200\n",
      "186/186 [==============================] - 1s 4ms/step - loss: 134155.8035 - r_2_score: 0.8482 - val_loss: 125573.2734 - val_r_2_score: 0.8548\n",
      "Epoch 158/200\n",
      "186/186 [==============================] - 1s 4ms/step - loss: 134139.7833 - r_2_score: 0.8335 - val_loss: 125430.0234 - val_r_2_score: 0.8555\n",
      "Epoch 159/200\n",
      "186/186 [==============================] - 1s 4ms/step - loss: 135510.8877 - r_2_score: 0.8300 - val_loss: 125440.8281 - val_r_2_score: 0.8561\n",
      "Epoch 160/200\n",
      "186/186 [==============================] - 1s 4ms/step - loss: 131825.6245 - r_2_score: 0.8531 - val_loss: 126057.9844 - val_r_2_score: 0.8581\n",
      "Epoch 161/200\n",
      "186/186 [==============================] - 1s 4ms/step - loss: 133747.7076 - r_2_score: 0.8553 - val_loss: 125408.3125 - val_r_2_score: 0.8571\n",
      "Epoch 162/200\n",
      "186/186 [==============================] - 1s 4ms/step - loss: 136524.6515 - r_2_score: 0.8137 - val_loss: 125276.0938 - val_r_2_score: 0.8570\n",
      "Epoch 163/200\n",
      "186/186 [==============================] - 1s 4ms/step - loss: 130148.8715 - r_2_score: 0.8279 - val_loss: 125107.3125 - val_r_2_score: 0.8583\n",
      "Epoch 164/200\n",
      "186/186 [==============================] - 1s 4ms/step - loss: 134494.4125 - r_2_score: 0.8441 - val_loss: 125719.2031 - val_r_2_score: 0.8604\n",
      "Epoch 165/200\n",
      "186/186 [==============================] - 1s 4ms/step - loss: 128767.6950 - r_2_score: 0.8499 - val_loss: 125203.8828 - val_r_2_score: 0.8608\n",
      "Epoch 166/200\n",
      "186/186 [==============================] - 1s 4ms/step - loss: 128107.7391 - r_2_score: 0.8298 - val_loss: 124764.7109 - val_r_2_score: 0.8594\n",
      "Epoch 167/200\n",
      "186/186 [==============================] - 1s 4ms/step - loss: 132187.7520 - r_2_score: 0.8165 - val_loss: 125570.1641 - val_r_2_score: 0.8629\n",
      "Epoch 168/200\n",
      "186/186 [==============================] - 1s 4ms/step - loss: 137424.5861 - r_2_score: 0.8409 - val_loss: 124595.6172 - val_r_2_score: 0.8603\n",
      "Epoch 169/200\n",
      "186/186 [==============================] - 1s 4ms/step - loss: 131983.2785 - r_2_score: 0.8540 - val_loss: 124792.9688 - val_r_2_score: 0.8615\n",
      "Epoch 170/200\n",
      "186/186 [==============================] - 1s 4ms/step - loss: 129957.4608 - r_2_score: 0.8465 - val_loss: 124879.3828 - val_r_2_score: 0.8628\n",
      "Epoch 171/200\n",
      "186/186 [==============================] - 1s 4ms/step - loss: 131245.8151 - r_2_score: 0.8566 - val_loss: 124787.3359 - val_r_2_score: 0.8628\n",
      "Epoch 172/200\n",
      "186/186 [==============================] - 1s 4ms/step - loss: 130546.2989 - r_2_score: 0.8437 - val_loss: 123454.2656 - val_r_2_score: 0.8586\n",
      "Epoch 173/200\n",
      "186/186 [==============================] - 1s 4ms/step - loss: 128936.5189 - r_2_score: 0.8534 - val_loss: 123857.3438 - val_r_2_score: 0.8631\n",
      "Epoch 174/200\n",
      "186/186 [==============================] - 1s 4ms/step - loss: 133621.2184 - r_2_score: 0.8425 - val_loss: 123446.1016 - val_r_2_score: 0.8638\n",
      "Epoch 175/200\n",
      "186/186 [==============================] - 1s 4ms/step - loss: 136526.5865 - r_2_score: 0.8466 - val_loss: 123812.3594 - val_r_2_score: 0.8657\n",
      "Epoch 176/200\n",
      "186/186 [==============================] - 1s 4ms/step - loss: 132156.3451 - r_2_score: 0.8332 - val_loss: 123964.6328 - val_r_2_score: 0.8661\n",
      "Epoch 177/200\n",
      "186/186 [==============================] - 1s 4ms/step - loss: 136064.8021 - r_2_score: 0.8371 - val_loss: 123639.3047 - val_r_2_score: 0.8665\n",
      "Epoch 178/200\n",
      "186/186 [==============================] - 1s 4ms/step - loss: 134893.3075 - r_2_score: 0.8274 - val_loss: 123358.2109 - val_r_2_score: 0.8651\n",
      "Epoch 179/200\n",
      "186/186 [==============================] - 1s 4ms/step - loss: 127145.8031 - r_2_score: 0.8399 - val_loss: 123561.1953 - val_r_2_score: 0.8673\n",
      "Epoch 180/200\n",
      "186/186 [==============================] - 1s 4ms/step - loss: 127315.9568 - r_2_score: 0.8546 - val_loss: 122868.5312 - val_r_2_score: 0.8671\n",
      "Epoch 181/200\n",
      "186/186 [==============================] - 1s 4ms/step - loss: 129029.8270 - r_2_score: 0.8615 - val_loss: 122994.2109 - val_r_2_score: 0.8682\n",
      "Epoch 182/200\n",
      "186/186 [==============================] - 1s 4ms/step - loss: 132768.7955 - r_2_score: 0.8556 - val_loss: 122638.8359 - val_r_2_score: 0.8674\n",
      "Epoch 183/200\n",
      "186/186 [==============================] - 1s 4ms/step - loss: 131969.0003 - r_2_score: 0.8495 - val_loss: 122779.7734 - val_r_2_score: 0.8674\n",
      "Epoch 184/200\n",
      "186/186 [==============================] - 1s 4ms/step - loss: 127596.4386 - r_2_score: 0.8451 - val_loss: 123039.1328 - val_r_2_score: 0.8691\n",
      "Epoch 185/200\n",
      "186/186 [==============================] - 1s 4ms/step - loss: 128846.0304 - r_2_score: 0.8430 - val_loss: 122818.9141 - val_r_2_score: 0.8700\n",
      "Epoch 186/200\n",
      "186/186 [==============================] - 1s 4ms/step - loss: 129314.9115 - r_2_score: 0.8471 - val_loss: 122627.1719 - val_r_2_score: 0.8703\n",
      "Epoch 187/200\n",
      "186/186 [==============================] - 1s 4ms/step - loss: 129232.6347 - r_2_score: 0.8539 - val_loss: 122409.7188 - val_r_2_score: 0.8715\n",
      "Epoch 188/200\n",
      "186/186 [==============================] - 1s 4ms/step - loss: 128842.4621 - r_2_score: 0.8446 - val_loss: 121919.9922 - val_r_2_score: 0.8697\n",
      "Epoch 189/200\n",
      "186/186 [==============================] - 1s 4ms/step - loss: 138149.2440 - r_2_score: 0.8185 - val_loss: 122007.0781 - val_r_2_score: 0.8727\n",
      "Epoch 190/200\n",
      "186/186 [==============================] - 1s 4ms/step - loss: 129240.3472 - r_2_score: 0.8545 - val_loss: 121892.1406 - val_r_2_score: 0.8725\n",
      "Epoch 191/200\n",
      "186/186 [==============================] - 1s 4ms/step - loss: 129834.0726 - r_2_score: 0.8487 - val_loss: 121657.5234 - val_r_2_score: 0.8728\n",
      "Epoch 192/200\n",
      "186/186 [==============================] - 1s 4ms/step - loss: 134335.9514 - r_2_score: 0.8303 - val_loss: 121533.7031 - val_r_2_score: 0.8724\n",
      "Epoch 193/200\n",
      "186/186 [==============================] - 1s 4ms/step - loss: 130486.3923 - r_2_score: 0.8588 - val_loss: 121598.3047 - val_r_2_score: 0.8730\n",
      "Epoch 194/200\n",
      "186/186 [==============================] - 1s 4ms/step - loss: 131215.2691 - r_2_score: 0.8631 - val_loss: 122468.3359 - val_r_2_score: 0.8744\n",
      "Epoch 195/200\n",
      "186/186 [==============================] - 1s 4ms/step - loss: 126694.2671 - r_2_score: 0.8589 - val_loss: 121938.7109 - val_r_2_score: 0.8745\n",
      "Epoch 196/200\n",
      "186/186 [==============================] - 1s 4ms/step - loss: 129947.8974 - r_2_score: 0.8725 - val_loss: 121851.2734 - val_r_2_score: 0.8763\n",
      "Epoch 197/200\n",
      "186/186 [==============================] - 1s 4ms/step - loss: 128420.7906 - r_2_score: 0.8579 - val_loss: 121531.2500 - val_r_2_score: 0.8747\n",
      "Epoch 198/200\n",
      "186/186 [==============================] - 1s 4ms/step - loss: 130132.7980 - r_2_score: 0.8597 - val_loss: 121184.4453 - val_r_2_score: 0.8733\n",
      "Epoch 199/200\n",
      "186/186 [==============================] - 1s 4ms/step - loss: 128332.1349 - r_2_score: 0.8546 - val_loss: 120928.8672 - val_r_2_score: 0.8732\n",
      "Epoch 200/200\n",
      "186/186 [==============================] - 1s 4ms/step - loss: 130953.7187 - r_2_score: 0.8482 - val_loss: 120767.8281 - val_r_2_score: 0.8751\n"
     ]
    }
   ],
   "source": [
    "history = model.fit(x_train_sc,y_train,batch_size=32,epochs=200,verbose=1,validation_data=(x_test_sc,y_test),callbacks=callback)"
   ]
  },
  {
   "cell_type": "markdown",
   "metadata": {
    "id": "AW4SEP8kT2ls"
   },
   "source": [
    "## Question 6"
   ]
  },
  {
   "cell_type": "markdown",
   "metadata": {
    "id": "EJDoix_7JU61"
   },
   "source": [
    "### Evaluate the model\n",
    "- Evaluate the model on test data\n",
    "- Visualize the model's learning"
   ]
  },
  {
   "cell_type": "code",
   "execution_count": null,
   "metadata": {
    "colab": {
     "base_uri": "https://localhost:8080/"
    },
    "id": "HdH8pYBIjHGL",
    "outputId": "2bef8e5b-7fbe-41b3-daec-c67785318093"
   },
   "outputs": [
    {
     "name": "stdout",
     "output_type": "stream",
     "text": [
      "31/31 [==============================] - 0s 2ms/step - loss: 120767.8281 - r_2_score: 0.9102\n"
     ]
    },
    {
     "data": {
      "text/plain": [
       "[120767.828125, 0.9102146029472351]"
      ]
     },
     "execution_count": 71,
     "metadata": {
      "tags": []
     },
     "output_type": "execute_result"
    }
   ],
   "source": [
    "model.evaluate(x_test_sc,y_test,batch_size=64)"
   ]
  },
  {
   "cell_type": "markdown",
   "metadata": {
    "id": "E4-3G8h0KPS_"
   },
   "source": [
    "- Hint: The R2 score will get affected by batch size. \n",
    "\n",
    "**Batch Size**: Number of samples considered in one iteration"
   ]
  },
  {
   "cell_type": "markdown",
   "metadata": {
    "id": "MHmWkGM9E61i"
   },
   "source": [
    "### Check the R2 score on complete test data"
   ]
  },
  {
   "cell_type": "code",
   "execution_count": null,
   "metadata": {
    "colab": {
     "base_uri": "https://localhost:8080/"
    },
    "id": "5Ts_powwDqdK",
    "outputId": "089a7a58-643a-4678-9cbe-706504a60559"
   },
   "outputs": [
    {
     "name": "stdout",
     "output_type": "stream",
     "text": [
      "0.9156710726846564\n"
     ]
    }
   ],
   "source": [
    "y_pred=model.predict(x_test_sc)\n",
    "print(r2_score(y_test,y_pred))"
   ]
  },
  {
   "cell_type": "markdown",
   "metadata": {
    "id": "hUpDD74Xjh01"
   },
   "source": [
    "### Visualize model learning\n",
    "- Visualize model learning using train and test r2 score\n",
    "- Visualize model learning using train and test loss"
   ]
  },
  {
   "cell_type": "code",
   "execution_count": null,
   "metadata": {
    "colab": {
     "base_uri": "https://localhost:8080/",
     "height": 573
    },
    "id": "WSiMhJPpk3GO",
    "outputId": "8faf75e8-fd0f-48f5-a405-9c6d80ed1496"
   },
   "outputs": [
    {
     "data": {
      "image/png": "[encoded data removed]",
      "text/plain": [
       "<Figure size 432x288 with 1 Axes>"
      ]
     },
     "metadata": {
      "needs_background": "light",
      "tags": []
     },
     "output_type": "display_data"
    },
    {
     "data": {
      "image/png": "[encoded data removed]",
      "text/plain": [
       "<Figure size 432x288 with 1 Axes>"
      ]
     },
     "metadata": {
      "needs_background": "light",
      "tags": []
     },
     "output_type": "display_data"
    }
   ],
   "source": [
    "import matplotlib.pyplot as plt\n",
    "plt.plot(history.history['r_2_score'])  \n",
    "plt.plot(history.history['val_r_2_score'])  \n",
    "plt.title('model_r2_score')  \n",
    "plt.ylabel('r2_score')\n",
    "plt.xlabel('epoch')\n",
    "plt.legend(['train','test'],loc='upper left')\n",
    "plt.show()\n",
    "\n",
    "\n",
    "plt.plot(history.history['loss'])  \n",
    "plt.plot(history.history['val_loss'])  \n",
    "plt.title('model loss')  \n",
    "plt.ylabel('loss')\n",
    "plt.xlabel('epoch')\n",
    "plt.legend(['train','test'],loc='upper left')\n",
    "plt.show()"
   ]
  },
  {
   "cell_type": "markdown",
   "metadata": {
    "id": "mLyDSOeh6KKc"
   },
   "source": [
    "##  Model tuning and Hyperparameter Tuning\n",
    "## Question 7 (Optional)"
   ]
  },
  {
   "cell_type": "markdown",
   "metadata": {
    "id": "U9_FYXve6TPD"
   },
   "source": [
    "### Create another Deep Neural Network Model for Regression to experiment with other hyper-parameters\n",
    "- Initialize a Sequential model\n",
    "- Add a batch normalization layer\n",
    "- Add 3 hidden layer with activation leaky-relu (Number of neurons = 64,128,32 respectively)\n",
    "- Add dropout layer after each hidden layer\n",
    "- Add a Dense layer with one neuron as output, use activation linear\n",
    "  \n"
   ]
  },
  {
   "cell_type": "code",
   "execution_count": null,
   "metadata": {
    "id": "smKhJZSx2EZk"
   },
   "outputs": [],
   "source": [
    "model_leaky =Sequential()\n",
    "model_leaky.add(tf.keras.layers.BatchNormalization())\n",
    "\n",
    "model_leaky.add(tf.keras.Input(shape=(16)))\n",
    "\n",
    "\n",
    "model_leaky.add(Dense(64))\n",
    "model_leaky.add(tf.keras.layers.LeakyReLU(alpha=0.3))\n",
    "\n",
    "model_leaky.add(Dropout(0.15))\n",
    "\n",
    "model_leaky.add(Dense(128))\n",
    "model_leaky.add(tf.keras.layers.LeakyReLU(alpha=0.3))\n",
    "model_leaky.add(Dropout(0.10))\n",
    "\n",
    "model_leaky.add(Dense(32))\n",
    "model_leaky.add(tf.keras.layers.LeakyReLU(alpha=0.3))\n",
    "model_leaky.add(Dropout(0.05))\n",
    "\n",
    "model_leaky.add(Dense(1,activation='linear'))"
   ]
  },
  {
   "cell_type": "markdown",
   "metadata": {
    "id": "d-5tN-Wx8_8X"
   },
   "source": [
    "### Compile the model\n",
    "\n",
    "- Compile the model\n",
    "- Use \"adam\" optimizer \n",
    "- for calculating loss, use mean absolute error\n",
    "- use R2 score (coefficient of determination) as the metric"
   ]
  },
  {
   "cell_type": "code",
   "execution_count": null,
   "metadata": {
    "id": "v3RAGJxN8vq6"
   },
   "outputs": [],
   "source": [
    "model_leaky.compile(loss='mean_absolute_error',optimizer='adam',metrics = [r_2_score])"
   ]
  },
  {
   "cell_type": "markdown",
   "metadata": {
    "id": "QjDCS5gy91KU"
   },
   "source": [
    "### Train your model\n",
    "\n",
    "- epochs: 200\n",
    "- batch size: 16\n",
    "- Use test data as validation data\n",
    "- Also add callback, such that if validation loss doesn't decreases consecutively 10 times, stop the training and return the weights for the previous best model\n",
    "- Add checkpoints to save the model after every epoch\n"
   ]
  },
  {
   "cell_type": "code",
   "execution_count": null,
   "metadata": {
    "colab": {
     "base_uri": "https://localhost:8080/"
    },
    "id": "amNM6S2w90So",
    "outputId": "19e5d9f6-14d5-4052-95f7-9133fb44dff0"
   },
   "outputs": [
    {
     "name": "stdout",
     "output_type": "stream",
     "text": [
      "Epoch 1/200\n",
      "371/371 [==============================] - 2s 5ms/step - loss: 618408.9991 - r_2_score: -1.9877 - val_loss: 476997.0938 - val_r_2_score: -0.7341\n",
      "INFO:tensorflow:Assets written to: ./checkpoint/assets\n",
      "Epoch 2/200\n",
      "371/371 [==============================] - 2s 4ms/step - loss: 422888.1314 - r_2_score: -0.5299 - val_loss: 382239.5625 - val_r_2_score: -0.1512\n",
      "INFO:tensorflow:Assets written to: ./checkpoint/assets\n",
      "Epoch 3/200\n",
      "371/371 [==============================] - 2s 4ms/step - loss: 337276.3150 - r_2_score: 0.0227 - val_loss: 294368.5938 - val_r_2_score: 0.2841\n",
      "INFO:tensorflow:Assets written to: ./checkpoint/assets\n",
      "Epoch 4/200\n",
      "371/371 [==============================] - 2s 4ms/step - loss: 283418.2384 - r_2_score: 0.3671 - val_loss: 255769.5000 - val_r_2_score: 0.4485\n",
      "INFO:tensorflow:Assets written to: ./checkpoint/assets\n",
      "Epoch 5/200\n",
      "371/371 [==============================] - 2s 4ms/step - loss: 262158.2428 - r_2_score: 0.3775 - val_loss: 237904.7500 - val_r_2_score: 0.5277\n",
      "INFO:tensorflow:Assets written to: ./checkpoint/assets\n",
      "Epoch 6/200\n",
      "371/371 [==============================] - 2s 4ms/step - loss: 252346.4614 - r_2_score: 0.4750 - val_loss: 228468.2812 - val_r_2_score: 0.5621\n",
      "INFO:tensorflow:Assets written to: ./checkpoint/assets\n",
      "Epoch 7/200\n",
      "371/371 [==============================] - 2s 4ms/step - loss: 248409.0867 - r_2_score: 0.3504 - val_loss: 219864.0312 - val_r_2_score: 0.5961\n",
      "INFO:tensorflow:Assets written to: ./checkpoint/assets\n",
      "Epoch 8/200\n",
      "371/371 [==============================] - 2s 4ms/step - loss: 240646.6910 - r_2_score: 0.3908 - val_loss: 214603.3125 - val_r_2_score: 0.6150\n",
      "INFO:tensorflow:Assets written to: ./checkpoint/assets\n",
      "Epoch 9/200\n",
      "371/371 [==============================] - 2s 4ms/step - loss: 236029.7415 - r_2_score: 0.4976 - val_loss: 208022.0312 - val_r_2_score: 0.6329\n",
      "INFO:tensorflow:Assets written to: ./checkpoint/assets\n",
      "Epoch 10/200\n",
      "371/371 [==============================] - 2s 4ms/step - loss: 246115.7250 - r_2_score: 0.3784 - val_loss: 204239.4688 - val_r_2_score: 0.6472\n",
      "INFO:tensorflow:Assets written to: ./checkpoint/assets\n",
      "Epoch 11/200\n",
      "371/371 [==============================] - 2s 4ms/step - loss: 236703.5502 - r_2_score: 0.4275 - val_loss: 199893.3438 - val_r_2_score: 0.6582\n",
      "INFO:tensorflow:Assets written to: ./checkpoint/assets\n",
      "Epoch 12/200\n",
      "371/371 [==============================] - 2s 4ms/step - loss: 233845.2630 - r_2_score: 0.4533 - val_loss: 197778.1094 - val_r_2_score: 0.6641\n",
      "INFO:tensorflow:Assets written to: ./checkpoint/assets\n",
      "Epoch 13/200\n",
      "371/371 [==============================] - 2s 4ms/step - loss: 213162.5028 - r_2_score: 0.4968 - val_loss: 195858.7344 - val_r_2_score: 0.6698\n",
      "INFO:tensorflow:Assets written to: ./checkpoint/assets\n",
      "Epoch 14/200\n",
      "371/371 [==============================] - 2s 4ms/step - loss: 229384.0948 - r_2_score: 0.4972 - val_loss: 192448.1719 - val_r_2_score: 0.6753\n",
      "INFO:tensorflow:Assets written to: ./checkpoint/assets\n",
      "Epoch 15/200\n",
      "371/371 [==============================] - 2s 4ms/step - loss: 224370.3074 - r_2_score: 0.4561 - val_loss: 191270.8594 - val_r_2_score: 0.6806\n",
      "INFO:tensorflow:Assets written to: ./checkpoint/assets\n",
      "Epoch 16/200\n",
      "371/371 [==============================] - 2s 4ms/step - loss: 227688.6029 - r_2_score: 0.4052 - val_loss: 189139.7500 - val_r_2_score: 0.6866\n",
      "INFO:tensorflow:Assets written to: ./checkpoint/assets\n",
      "Epoch 17/200\n",
      "371/371 [==============================] - 2s 4ms/step - loss: 218139.1488 - r_2_score: 0.4790 - val_loss: 185470.6094 - val_r_2_score: 0.6905\n",
      "INFO:tensorflow:Assets written to: ./checkpoint/assets\n",
      "Epoch 18/200\n",
      "371/371 [==============================] - 2s 4ms/step - loss: 217757.4685 - r_2_score: 0.4830 - val_loss: 186181.2188 - val_r_2_score: 0.6926\n",
      "Epoch 19/200\n",
      "371/371 [==============================] - 2s 4ms/step - loss: 225704.7516 - r_2_score: 0.4719 - val_loss: 181882.6250 - val_r_2_score: 0.6997\n",
      "INFO:tensorflow:Assets written to: ./checkpoint/assets\n",
      "Epoch 20/200\n",
      "371/371 [==============================] - 2s 4ms/step - loss: 221584.5493 - r_2_score: 0.4061 - val_loss: 178806.5000 - val_r_2_score: 0.7045\n",
      "INFO:tensorflow:Assets written to: ./checkpoint/assets\n",
      "Epoch 21/200\n",
      "371/371 [==============================] - 2s 4ms/step - loss: 216913.6211 - r_2_score: 0.4728 - val_loss: 178889.2188 - val_r_2_score: 0.7061\n",
      "Epoch 22/200\n",
      "371/371 [==============================] - 2s 4ms/step - loss: 212138.1100 - r_2_score: 0.4826 - val_loss: 177381.3438 - val_r_2_score: 0.7087\n",
      "INFO:tensorflow:Assets written to: ./checkpoint/assets\n",
      "Epoch 23/200\n",
      "371/371 [==============================] - 2s 4ms/step - loss: 227006.4220 - r_2_score: 0.4737 - val_loss: 173039.4375 - val_r_2_score: 0.7100\n",
      "INFO:tensorflow:Assets written to: ./checkpoint/assets\n",
      "Epoch 24/200\n",
      "371/371 [==============================] - 2s 4ms/step - loss: 218891.0032 - r_2_score: 0.4444 - val_loss: 171965.0469 - val_r_2_score: 0.7130\n",
      "INFO:tensorflow:Assets written to: ./checkpoint/assets\n",
      "Epoch 25/200\n",
      "371/371 [==============================] - 2s 4ms/step - loss: 215201.0465 - r_2_score: 0.4483 - val_loss: 171894.0781 - val_r_2_score: 0.7233\n",
      "INFO:tensorflow:Assets written to: ./checkpoint/assets\n",
      "Epoch 26/200\n",
      "371/371 [==============================] - 2s 4ms/step - loss: 216318.8327 - r_2_score: 0.4532 - val_loss: 170986.7969 - val_r_2_score: 0.7238\n",
      "INFO:tensorflow:Assets written to: ./checkpoint/assets\n",
      "Epoch 27/200\n",
      "371/371 [==============================] - 2s 4ms/step - loss: 207468.9803 - r_2_score: 0.4894 - val_loss: 169103.2656 - val_r_2_score: 0.7277\n",
      "INFO:tensorflow:Assets written to: ./checkpoint/assets\n",
      "Epoch 28/200\n",
      "371/371 [==============================] - 2s 4ms/step - loss: 216886.7224 - r_2_score: 0.4325 - val_loss: 164761.9375 - val_r_2_score: 0.7256\n",
      "INFO:tensorflow:Assets written to: ./checkpoint/assets\n",
      "Epoch 29/200\n",
      "371/371 [==============================] - 2s 4ms/step - loss: 222879.4979 - r_2_score: 0.4337 - val_loss: 167276.2969 - val_r_2_score: 0.7317\n",
      "Epoch 30/200\n",
      "371/371 [==============================] - 2s 4ms/step - loss: 209605.2743 - r_2_score: 0.4369 - val_loss: 161949.8125 - val_r_2_score: 0.7208\n",
      "INFO:tensorflow:Assets written to: ./checkpoint/assets\n",
      "Epoch 31/200\n",
      "371/371 [==============================] - 2s 4ms/step - loss: 213449.8931 - r_2_score: 0.3537 - val_loss: 162587.1250 - val_r_2_score: 0.7254\n",
      "Epoch 32/200\n",
      "371/371 [==============================] - 2s 4ms/step - loss: 220768.9845 - r_2_score: 0.4390 - val_loss: 162659.2656 - val_r_2_score: 0.7207\n",
      "Epoch 33/200\n",
      "371/371 [==============================] - 2s 4ms/step - loss: 211141.7935 - r_2_score: 0.4779 - val_loss: 159570.4844 - val_r_2_score: 0.7353\n",
      "INFO:tensorflow:Assets written to: ./checkpoint/assets\n",
      "Epoch 34/200\n",
      "371/371 [==============================] - 2s 4ms/step - loss: 210546.0083 - r_2_score: 0.4945 - val_loss: 157822.7344 - val_r_2_score: 0.7354\n",
      "INFO:tensorflow:Assets written to: ./checkpoint/assets\n",
      "Epoch 35/200\n",
      "371/371 [==============================] - 2s 4ms/step - loss: 207762.2244 - r_2_score: 0.4120 - val_loss: 157159.2656 - val_r_2_score: 0.7313\n",
      "INFO:tensorflow:Assets written to: ./checkpoint/assets\n",
      "Epoch 36/200\n",
      "371/371 [==============================] - 2s 4ms/step - loss: 201749.8897 - r_2_score: 0.4670 - val_loss: 157399.7344 - val_r_2_score: 0.7367\n",
      "Epoch 37/200\n",
      "371/371 [==============================] - 2s 4ms/step - loss: 211290.9540 - r_2_score: 0.4479 - val_loss: 155596.1562 - val_r_2_score: 0.7356\n",
      "INFO:tensorflow:Assets written to: ./checkpoint/assets\n",
      "Epoch 38/200\n",
      "371/371 [==============================] - 2s 4ms/step - loss: 210094.8493 - r_2_score: 0.4214 - val_loss: 155624.8438 - val_r_2_score: 0.7397\n",
      "Epoch 39/200\n",
      "371/371 [==============================] - 2s 4ms/step - loss: 206575.4609 - r_2_score: 0.4107 - val_loss: 153837.7344 - val_r_2_score: 0.7335\n",
      "INFO:tensorflow:Assets written to: ./checkpoint/assets\n",
      "Epoch 40/200\n",
      "371/371 [==============================] - 2s 4ms/step - loss: 199916.8057 - r_2_score: 0.4684 - val_loss: 153202.9844 - val_r_2_score: 0.7441\n",
      "INFO:tensorflow:Assets written to: ./checkpoint/assets\n",
      "Epoch 41/200\n",
      "371/371 [==============================] - 2s 4ms/step - loss: 213511.2521 - r_2_score: 0.4830 - val_loss: 152205.4375 - val_r_2_score: 0.7374\n",
      "INFO:tensorflow:Assets written to: ./checkpoint/assets\n",
      "Epoch 42/200\n",
      "371/371 [==============================] - 2s 4ms/step - loss: 201912.1073 - r_2_score: 0.4318 - val_loss: 152880.7812 - val_r_2_score: 0.7443\n",
      "Epoch 43/200\n",
      "371/371 [==============================] - 2s 4ms/step - loss: 211060.1904 - r_2_score: 0.3885 - val_loss: 151936.3125 - val_r_2_score: 0.7477\n",
      "INFO:tensorflow:Assets written to: ./checkpoint/assets\n",
      "Epoch 44/200\n",
      "371/371 [==============================] - 2s 4ms/step - loss: 203272.5149 - r_2_score: 0.4219 - val_loss: 152423.1562 - val_r_2_score: 0.7469\n",
      "Epoch 45/200\n",
      "371/371 [==============================] - 2s 4ms/step - loss: 214245.1189 - r_2_score: 0.4149 - val_loss: 150671.7656 - val_r_2_score: 0.7364\n",
      "INFO:tensorflow:Assets written to: ./checkpoint/assets\n",
      "Epoch 46/200\n",
      "371/371 [==============================] - 2s 4ms/step - loss: 197993.6252 - r_2_score: 0.4363 - val_loss: 152060.4688 - val_r_2_score: 0.7361\n",
      "Epoch 47/200\n",
      "371/371 [==============================] - 2s 4ms/step - loss: 191481.0086 - r_2_score: 0.4432 - val_loss: 149794.4688 - val_r_2_score: 0.7340\n",
      "INFO:tensorflow:Assets written to: ./checkpoint/assets\n",
      "Epoch 48/200\n",
      "371/371 [==============================] - 2s 4ms/step - loss: 199707.6186 - r_2_score: 0.4532 - val_loss: 149187.3594 - val_r_2_score: 0.7448\n",
      "INFO:tensorflow:Assets written to: ./checkpoint/assets\n",
      "Epoch 49/200\n",
      "371/371 [==============================] - 2s 4ms/step - loss: 205950.1126 - r_2_score: 0.4590 - val_loss: 149977.0625 - val_r_2_score: 0.7515\n",
      "Epoch 50/200\n",
      "371/371 [==============================] - 2s 4ms/step - loss: 187943.0594 - r_2_score: 0.5141 - val_loss: 148168.5781 - val_r_2_score: 0.7483\n",
      "INFO:tensorflow:Assets written to: ./checkpoint/assets\n",
      "Epoch 51/200\n",
      "371/371 [==============================] - 2s 4ms/step - loss: 201511.9921 - r_2_score: 0.4346 - val_loss: 147570.5469 - val_r_2_score: 0.7439\n",
      "INFO:tensorflow:Assets written to: ./checkpoint/assets\n",
      "Epoch 52/200\n",
      "371/371 [==============================] - 2s 4ms/step - loss: 192198.4100 - r_2_score: 0.4717 - val_loss: 146992.0781 - val_r_2_score: 0.7459\n",
      "INFO:tensorflow:Assets written to: ./checkpoint/assets\n",
      "Epoch 53/200\n",
      "371/371 [==============================] - 2s 4ms/step - loss: 197244.1381 - r_2_score: 0.3813 - val_loss: 147219.7344 - val_r_2_score: 0.7540\n",
      "Epoch 54/200\n",
      "371/371 [==============================] - 2s 4ms/step - loss: 196961.0441 - r_2_score: 0.4144 - val_loss: 146662.0469 - val_r_2_score: 0.7302\n",
      "INFO:tensorflow:Assets written to: ./checkpoint/assets\n",
      "Epoch 55/200\n",
      "371/371 [==============================] - 2s 4ms/step - loss: 196106.2618 - r_2_score: 0.4902 - val_loss: 146490.2031 - val_r_2_score: 0.7429\n",
      "INFO:tensorflow:Assets written to: ./checkpoint/assets\n",
      "Epoch 56/200\n",
      "371/371 [==============================] - 2s 4ms/step - loss: 192832.6876 - r_2_score: 0.3853 - val_loss: 146379.5469 - val_r_2_score: 0.7398\n",
      "INFO:tensorflow:Assets written to: ./checkpoint/assets\n",
      "Epoch 57/200\n",
      "371/371 [==============================] - 2s 4ms/step - loss: 207421.2782 - r_2_score: 0.4090 - val_loss: 146071.0938 - val_r_2_score: 0.7401\n",
      "INFO:tensorflow:Assets written to: ./checkpoint/assets\n",
      "Epoch 58/200\n",
      "371/371 [==============================] - 2s 4ms/step - loss: 204972.6179 - r_2_score: 0.4182 - val_loss: 147142.9219 - val_r_2_score: 0.7448\n",
      "Epoch 59/200\n",
      "371/371 [==============================] - 2s 4ms/step - loss: 209775.7411 - r_2_score: 0.5120 - val_loss: 145891.3125 - val_r_2_score: 0.7519\n",
      "INFO:tensorflow:Assets written to: ./checkpoint/assets\n",
      "Epoch 60/200\n",
      "371/371 [==============================] - 2s 4ms/step - loss: 195471.6528 - r_2_score: 0.4584 - val_loss: 146577.7188 - val_r_2_score: 0.7385\n",
      "Epoch 61/200\n",
      "371/371 [==============================] - 2s 4ms/step - loss: 194951.4644 - r_2_score: 0.4917 - val_loss: 144325.2812 - val_r_2_score: 0.7375\n",
      "INFO:tensorflow:Assets written to: ./checkpoint/assets\n",
      "Epoch 62/200\n",
      "371/371 [==============================] - 2s 4ms/step - loss: 193726.3661 - r_2_score: 0.5006 - val_loss: 144282.7969 - val_r_2_score: 0.7296\n",
      "INFO:tensorflow:Assets written to: ./checkpoint/assets\n",
      "Epoch 63/200\n",
      "371/371 [==============================] - 2s 4ms/step - loss: 201668.9248 - r_2_score: 0.4562 - val_loss: 144165.9688 - val_r_2_score: 0.7420\n",
      "INFO:tensorflow:Assets written to: ./checkpoint/assets\n",
      "Epoch 64/200\n",
      "371/371 [==============================] - 2s 4ms/step - loss: 205353.7866 - r_2_score: 0.4394 - val_loss: 144694.2812 - val_r_2_score: 0.7422\n",
      "Epoch 65/200\n",
      "371/371 [==============================] - 2s 4ms/step - loss: 194162.8083 - r_2_score: 0.4717 - val_loss: 145707.5938 - val_r_2_score: 0.7477\n",
      "Epoch 66/200\n",
      "371/371 [==============================] - 2s 4ms/step - loss: 195436.2041 - r_2_score: 0.4816 - val_loss: 145706.8438 - val_r_2_score: 0.7453\n",
      "Epoch 67/200\n",
      "371/371 [==============================] - 2s 4ms/step - loss: 188247.2434 - r_2_score: 0.4472 - val_loss: 142939.5156 - val_r_2_score: 0.7491\n",
      "INFO:tensorflow:Assets written to: ./checkpoint/assets\n",
      "Epoch 68/200\n",
      "371/371 [==============================] - 2s 4ms/step - loss: 200811.1058 - r_2_score: 0.4851 - val_loss: 142915.2188 - val_r_2_score: 0.7339\n",
      "INFO:tensorflow:Assets written to: ./checkpoint/assets\n",
      "Epoch 69/200\n",
      "371/371 [==============================] - 2s 4ms/step - loss: 188075.5734 - r_2_score: 0.4624 - val_loss: 144745.4844 - val_r_2_score: 0.7469\n",
      "Epoch 70/200\n",
      "371/371 [==============================] - 2s 4ms/step - loss: 208131.9058 - r_2_score: 0.5002 - val_loss: 142374.7500 - val_r_2_score: 0.7425\n",
      "INFO:tensorflow:Assets written to: ./checkpoint/assets\n",
      "Epoch 71/200\n",
      "371/371 [==============================] - 2s 4ms/step - loss: 190813.1882 - r_2_score: 0.5418 - val_loss: 142158.5000 - val_r_2_score: 0.7411\n",
      "INFO:tensorflow:Assets written to: ./checkpoint/assets\n",
      "Epoch 72/200\n",
      "371/371 [==============================] - 2s 4ms/step - loss: 198432.8254 - r_2_score: 0.4670 - val_loss: 142517.6719 - val_r_2_score: 0.7434\n",
      "Epoch 73/200\n",
      "371/371 [==============================] - 2s 4ms/step - loss: 197517.9850 - r_2_score: 0.4641 - val_loss: 141942.1719 - val_r_2_score: 0.7390\n",
      "INFO:tensorflow:Assets written to: ./checkpoint/assets\n",
      "Epoch 74/200\n",
      "371/371 [==============================] - 2s 4ms/step - loss: 194271.7362 - r_2_score: 0.4550 - val_loss: 143173.4062 - val_r_2_score: 0.7460\n",
      "Epoch 75/200\n",
      "371/371 [==============================] - 2s 4ms/step - loss: 193844.1799 - r_2_score: 0.4866 - val_loss: 142622.2812 - val_r_2_score: 0.7510\n",
      "Epoch 76/200\n",
      "371/371 [==============================] - 2s 4ms/step - loss: 191315.5169 - r_2_score: 0.4335 - val_loss: 142095.1406 - val_r_2_score: 0.7480\n",
      "Epoch 77/200\n",
      "371/371 [==============================] - 2s 4ms/step - loss: 189836.8269 - r_2_score: 0.4314 - val_loss: 141541.0781 - val_r_2_score: 0.7497\n",
      "INFO:tensorflow:Assets written to: ./checkpoint/assets\n",
      "Epoch 78/200\n",
      "371/371 [==============================] - 2s 4ms/step - loss: 188970.0919 - r_2_score: 0.5744 - val_loss: 142568.6406 - val_r_2_score: 0.7543\n",
      "Epoch 79/200\n",
      "371/371 [==============================] - 2s 4ms/step - loss: 194715.5244 - r_2_score: 0.3544 - val_loss: 141812.7812 - val_r_2_score: 0.7420\n",
      "Epoch 80/200\n",
      "371/371 [==============================] - 2s 4ms/step - loss: 196211.3537 - r_2_score: 0.4310 - val_loss: 140847.7500 - val_r_2_score: 0.7500\n",
      "INFO:tensorflow:Assets written to: ./checkpoint/assets\n",
      "Epoch 81/200\n",
      "371/371 [==============================] - 2s 4ms/step - loss: 196095.2081 - r_2_score: 0.4825 - val_loss: 142887.3750 - val_r_2_score: 0.7525\n",
      "Epoch 82/200\n",
      "371/371 [==============================] - 2s 4ms/step - loss: 191081.8013 - r_2_score: 0.5178 - val_loss: 141364.8125 - val_r_2_score: 0.7562\n",
      "Epoch 83/200\n",
      "371/371 [==============================] - 2s 4ms/step - loss: 191323.5509 - r_2_score: 0.4863 - val_loss: 141773.0938 - val_r_2_score: 0.7558\n",
      "Epoch 84/200\n",
      "371/371 [==============================] - 2s 4ms/step - loss: 194622.9108 - r_2_score: 0.4687 - val_loss: 140035.9844 - val_r_2_score: 0.7380\n",
      "INFO:tensorflow:Assets written to: ./checkpoint/assets\n",
      "Epoch 85/200\n",
      "371/371 [==============================] - 2s 4ms/step - loss: 189852.1257 - r_2_score: 0.4374 - val_loss: 143283.9219 - val_r_2_score: 0.7323\n",
      "Epoch 86/200\n",
      "371/371 [==============================] - 2s 4ms/step - loss: 195161.8930 - r_2_score: 0.4441 - val_loss: 139930.3750 - val_r_2_score: 0.7391\n",
      "INFO:tensorflow:Assets written to: ./checkpoint/assets\n",
      "Epoch 87/200\n",
      "371/371 [==============================] - 2s 4ms/step - loss: 206485.9312 - r_2_score: 0.5125 - val_loss: 140259.4375 - val_r_2_score: 0.7400\n",
      "Epoch 88/200\n",
      "371/371 [==============================] - 2s 4ms/step - loss: 202835.2842 - r_2_score: 0.3932 - val_loss: 139550.6719 - val_r_2_score: 0.7403\n",
      "INFO:tensorflow:Assets written to: ./checkpoint/assets\n",
      "Epoch 89/200\n",
      "371/371 [==============================] - 2s 4ms/step - loss: 193836.3638 - r_2_score: 0.4966 - val_loss: 140056.8438 - val_r_2_score: 0.7627\n",
      "Epoch 90/200\n",
      "371/371 [==============================] - 2s 4ms/step - loss: 193518.8334 - r_2_score: 0.4685 - val_loss: 139361.4844 - val_r_2_score: 0.7490\n",
      "INFO:tensorflow:Assets written to: ./checkpoint/assets\n",
      "Epoch 91/200\n",
      "371/371 [==============================] - 2s 4ms/step - loss: 185131.9725 - r_2_score: 0.4442 - val_loss: 140015.6562 - val_r_2_score: 0.7436\n",
      "Epoch 92/200\n",
      "371/371 [==============================] - 2s 4ms/step - loss: 200308.2434 - r_2_score: 0.4360 - val_loss: 139694.1562 - val_r_2_score: 0.7540\n",
      "Epoch 93/200\n",
      "371/371 [==============================] - 2s 4ms/step - loss: 191392.1848 - r_2_score: 0.3087 - val_loss: 139516.1562 - val_r_2_score: 0.7523\n",
      "Epoch 94/200\n",
      "371/371 [==============================] - 2s 4ms/step - loss: 191641.8293 - r_2_score: 0.5149 - val_loss: 138525.3281 - val_r_2_score: 0.7359\n",
      "INFO:tensorflow:Assets written to: ./checkpoint/assets\n",
      "Epoch 95/200\n",
      "371/371 [==============================] - 2s 4ms/step - loss: 202126.3620 - r_2_score: 0.4552 - val_loss: 139181.6406 - val_r_2_score: 0.7321\n",
      "Epoch 96/200\n",
      "371/371 [==============================] - 2s 4ms/step - loss: 195120.2583 - r_2_score: 0.4427 - val_loss: 143299.0469 - val_r_2_score: 0.7263\n",
      "Epoch 97/200\n",
      "371/371 [==============================] - 2s 4ms/step - loss: 196173.2608 - r_2_score: 0.5165 - val_loss: 139522.8281 - val_r_2_score: 0.7399\n",
      "Epoch 98/200\n",
      "371/371 [==============================] - 2s 4ms/step - loss: 194245.9697 - r_2_score: 0.4145 - val_loss: 138433.7344 - val_r_2_score: 0.7340\n",
      "INFO:tensorflow:Assets written to: ./checkpoint/assets\n",
      "Epoch 99/200\n",
      "371/371 [==============================] - 2s 4ms/step - loss: 179506.1739 - r_2_score: 0.5048 - val_loss: 140482.3438 - val_r_2_score: 0.7282\n",
      "Epoch 100/200\n",
      "371/371 [==============================] - 2s 4ms/step - loss: 197084.3054 - r_2_score: 0.5256 - val_loss: 139674.0625 - val_r_2_score: 0.7349\n",
      "Epoch 101/200\n",
      "371/371 [==============================] - 2s 4ms/step - loss: 200064.2469 - r_2_score: 0.4540 - val_loss: 141883.4688 - val_r_2_score: 0.7296\n",
      "Epoch 102/200\n",
      "371/371 [==============================] - 2s 4ms/step - loss: 200637.7321 - r_2_score: 0.4398 - val_loss: 144428.3125 - val_r_2_score: 0.7331\n",
      "Epoch 103/200\n",
      "371/371 [==============================] - 2s 4ms/step - loss: 190978.5725 - r_2_score: 0.5933 - val_loss: 138457.7500 - val_r_2_score: 0.7296\n",
      "Epoch 104/200\n",
      "371/371 [==============================] - 2s 4ms/step - loss: 181003.7304 - r_2_score: 0.3971 - val_loss: 139361.5469 - val_r_2_score: 0.7556\n",
      "Epoch 105/200\n",
      "371/371 [==============================] - 2s 4ms/step - loss: 195708.7161 - r_2_score: 0.5101 - val_loss: 138547.2344 - val_r_2_score: 0.7581\n",
      "Epoch 106/200\n",
      "371/371 [==============================] - 2s 4ms/step - loss: 192664.8490 - r_2_score: 0.5399 - val_loss: 138518.6719 - val_r_2_score: 0.7502\n",
      "Epoch 107/200\n",
      "371/371 [==============================] - 2s 4ms/step - loss: 192125.4087 - r_2_score: 0.4368 - val_loss: 137774.2969 - val_r_2_score: 0.7349\n",
      "INFO:tensorflow:Assets written to: ./checkpoint/assets\n",
      "Epoch 108/200\n",
      "371/371 [==============================] - 2s 4ms/step - loss: 199981.9204 - r_2_score: 0.4714 - val_loss: 139082.5469 - val_r_2_score: 0.7457\n",
      "Epoch 109/200\n",
      "371/371 [==============================] - 2s 4ms/step - loss: 192224.7323 - r_2_score: 0.4917 - val_loss: 138191.9688 - val_r_2_score: 0.7370\n",
      "Epoch 110/200\n",
      "371/371 [==============================] - 2s 4ms/step - loss: 185157.1959 - r_2_score: 0.3164 - val_loss: 137730.7969 - val_r_2_score: 0.7406\n",
      "INFO:tensorflow:Assets written to: ./checkpoint/assets\n",
      "Epoch 111/200\n",
      "371/371 [==============================] - 2s 5ms/step - loss: 191886.2822 - r_2_score: 0.4873 - val_loss: 141715.9219 - val_r_2_score: 0.7609\n",
      "Epoch 112/200\n",
      "371/371 [==============================] - 2s 4ms/step - loss: 187870.5470 - r_2_score: 0.4725 - val_loss: 139233.7969 - val_r_2_score: 0.7524\n",
      "Epoch 113/200\n",
      "371/371 [==============================] - 2s 4ms/step - loss: 182455.2231 - r_2_score: 0.5738 - val_loss: 138241.1719 - val_r_2_score: 0.7539\n",
      "Epoch 114/200\n",
      "371/371 [==============================] - 2s 4ms/step - loss: 180829.0079 - r_2_score: 0.4406 - val_loss: 137569.2500 - val_r_2_score: 0.7471\n",
      "INFO:tensorflow:Assets written to: ./checkpoint/assets\n",
      "Epoch 115/200\n",
      "371/371 [==============================] - 2s 5ms/step - loss: 187803.1911 - r_2_score: 0.4949 - val_loss: 137251.5625 - val_r_2_score: 0.7551\n",
      "INFO:tensorflow:Assets written to: ./checkpoint/assets\n",
      "Epoch 116/200\n",
      "371/371 [==============================] - 2s 4ms/step - loss: 185429.3556 - r_2_score: 0.4626 - val_loss: 139533.1562 - val_r_2_score: 0.7554\n",
      "Epoch 117/200\n",
      "371/371 [==============================] - 2s 4ms/step - loss: 203555.0292 - r_2_score: 0.4671 - val_loss: 138328.2969 - val_r_2_score: 0.7497\n",
      "Epoch 118/200\n",
      "371/371 [==============================] - 2s 4ms/step - loss: 180577.8770 - r_2_score: 0.5540 - val_loss: 137268.7344 - val_r_2_score: 0.7552\n",
      "Epoch 119/200\n",
      "371/371 [==============================] - 2s 4ms/step - loss: 189048.4937 - r_2_score: 0.4810 - val_loss: 136729.4375 - val_r_2_score: 0.7503\n",
      "INFO:tensorflow:Assets written to: ./checkpoint/assets\n",
      "Epoch 120/200\n",
      "371/371 [==============================] - 2s 4ms/step - loss: 186877.6332 - r_2_score: 0.4796 - val_loss: 136458.8906 - val_r_2_score: 0.7354\n",
      "INFO:tensorflow:Assets written to: ./checkpoint/assets\n",
      "Epoch 121/200\n",
      "371/371 [==============================] - 2s 4ms/step - loss: 189583.4272 - r_2_score: 0.4837 - val_loss: 136125.2500 - val_r_2_score: 0.7283\n",
      "INFO:tensorflow:Assets written to: ./checkpoint/assets\n",
      "Epoch 122/200\n",
      "371/371 [==============================] - 2s 4ms/step - loss: 184180.5485 - r_2_score: 0.4074 - val_loss: 138729.1250 - val_r_2_score: 0.7546\n",
      "Epoch 123/200\n",
      "371/371 [==============================] - 2s 4ms/step - loss: 185203.9947 - r_2_score: 0.4740 - val_loss: 137627.0781 - val_r_2_score: 0.7644\n",
      "Epoch 124/200\n",
      "371/371 [==============================] - 2s 4ms/step - loss: 188322.1822 - r_2_score: 0.5119 - val_loss: 137209.6250 - val_r_2_score: 0.7583\n",
      "Epoch 125/200\n",
      "371/371 [==============================] - 2s 4ms/step - loss: 190695.5088 - r_2_score: 0.4705 - val_loss: 137626.4219 - val_r_2_score: 0.7359\n",
      "Epoch 126/200\n",
      "371/371 [==============================] - 2s 4ms/step - loss: 190505.3354 - r_2_score: 0.4579 - val_loss: 137645.6719 - val_r_2_score: 0.7508\n",
      "Epoch 127/200\n",
      "371/371 [==============================] - 2s 4ms/step - loss: 197087.4512 - r_2_score: 0.3667 - val_loss: 138108.2500 - val_r_2_score: 0.7593\n",
      "Epoch 128/200\n",
      "371/371 [==============================] - 2s 4ms/step - loss: 197309.8066 - r_2_score: 0.4542 - val_loss: 136887.9531 - val_r_2_score: 0.7424\n",
      "Epoch 129/200\n",
      "371/371 [==============================] - 2s 4ms/step - loss: 182832.8355 - r_2_score: 0.4860 - val_loss: 135625.6719 - val_r_2_score: 0.7568\n",
      "INFO:tensorflow:Assets written to: ./checkpoint/assets\n",
      "Epoch 130/200\n",
      "371/371 [==============================] - 2s 4ms/step - loss: 178640.0460 - r_2_score: 0.5035 - val_loss: 137480.4844 - val_r_2_score: 0.7637\n",
      "Epoch 131/200\n",
      "371/371 [==============================] - 2s 4ms/step - loss: 184713.9873 - r_2_score: 0.5707 - val_loss: 137398.2344 - val_r_2_score: 0.7544\n",
      "Epoch 132/200\n",
      "371/371 [==============================] - 2s 4ms/step - loss: 187932.1642 - r_2_score: 0.5390 - val_loss: 137591.3438 - val_r_2_score: 0.7384\n",
      "Epoch 133/200\n",
      "371/371 [==============================] - 2s 4ms/step - loss: 189974.5036 - r_2_score: 0.5185 - val_loss: 138844.8750 - val_r_2_score: 0.7546\n",
      "Epoch 134/200\n",
      "371/371 [==============================] - 2s 4ms/step - loss: 174671.2354 - r_2_score: 0.6268 - val_loss: 135842.8281 - val_r_2_score: 0.7423\n",
      "Epoch 135/200\n",
      "371/371 [==============================] - 2s 4ms/step - loss: 190140.8324 - r_2_score: 0.5265 - val_loss: 136445.9844 - val_r_2_score: 0.7420\n",
      "Epoch 136/200\n",
      "371/371 [==============================] - 2s 4ms/step - loss: 193496.0001 - r_2_score: 0.5368 - val_loss: 138128.0938 - val_r_2_score: 0.7509\n",
      "Epoch 137/200\n",
      "371/371 [==============================] - 2s 4ms/step - loss: 185632.6428 - r_2_score: 0.5467 - val_loss: 136038.4375 - val_r_2_score: 0.7506\n",
      "Epoch 138/200\n",
      "371/371 [==============================] - 2s 4ms/step - loss: 194866.9491 - r_2_score: 0.4060 - val_loss: 135797.9219 - val_r_2_score: 0.7553\n",
      "Epoch 139/200\n",
      "371/371 [==============================] - 2s 5ms/step - loss: 185208.5219 - r_2_score: 0.4629 - val_loss: 136451.4375 - val_r_2_score: 0.7494\n"
     ]
    }
   ],
   "source": [
    "from tensorflow.keras.callbacks import ModelCheckpoint\n",
    "check_point = ModelCheckpoint('./checkpoint',monitor='val_loss',save_best_only=True,save_freq='epoch')\n",
    "callback_1 = tf.keras.callbacks.EarlyStopping(monitor='val_loss',patience = 10,restore_best_weights=True,mode = 'min')\n",
    "history_1 = model_leaky.fit(x_train_sc,y_train,batch_size=16,epochs=200,verbose=1,\n",
    "                    validation_data=(x_test_sc,y_test),callbacks=[callback_1,check_point])"
   ]
  },
  {
   "cell_type": "markdown",
   "metadata": {
    "id": "GHbYwXdgDQhs"
   },
   "source": [
    "### Check the R2 score on complete test data"
   ]
  },
  {
   "cell_type": "code",
   "execution_count": null,
   "metadata": {
    "colab": {
     "base_uri": "https://localhost:8080/"
    },
    "id": "p7Ly-csS90PM",
    "outputId": "89a6abd3-e740-4dd4-9bed-6efb030c59c8"
   },
   "outputs": [
    {
     "name": "stdout",
     "output_type": "stream",
     "text": [
      "0.8992033018843616\n"
     ]
    }
   ],
   "source": [
    "y_pred=model_leaky.predict(x_test_sc)\n",
    "print(r2_score(y_test,y_pred))"
   ]
  },
  {
   "cell_type": "markdown",
   "metadata": {
    "id": "mcZazFM7DiVr"
   },
   "source": [
    "### Visualize model learning\n",
    "- Visualize model learning using train and test r2 score\n",
    "- Visualize model learning using train and test loss"
   ]
  },
  {
   "cell_type": "code",
   "execution_count": null,
   "metadata": {
    "colab": {
     "base_uri": "https://localhost:8080/",
     "height": 573
    },
    "id": "cH-8qHgp90Jv",
    "outputId": "f21dac09-4bd8-4336-9970-71c7d2a7f0bc"
   },
   "outputs": [
    {
     "data": {
      "image/png": "[encoded data removed]",
      "text/plain": [
       "<Figure size 432x288 with 1 Axes>"
      ]
     },
     "metadata": {
      "needs_background": "light",
      "tags": []
     },
     "output_type": "display_data"
    },
    {
     "data": {
      "image/png": "[encoded data removed]",
      "text/plain": [
       "<Figure size 432x288 with 1 Axes>"
      ]
     },
     "metadata": {
      "needs_background": "light",
      "tags": []
     },
     "output_type": "display_data"
    }
   ],
   "source": [
    "import matplotlib.pyplot as plt\n",
    "plt.plot(history_1.history['r_2_score'])  \n",
    "plt.plot(history_1.history['val_r_2_score'])  \n",
    "plt.title('model_r2_score')  \n",
    "plt.ylabel('r2_score')\n",
    "plt.xlabel('epoch')\n",
    "plt.legend(['train','test'],loc='upper left')\n",
    "plt.show()\n",
    "\n",
    "\n",
    "plt.plot(history_1.history['loss'])  \n",
    "plt.plot(history_1.history['val_loss'])  \n",
    "plt.title('model loss')  \n",
    "plt.ylabel('loss')\n",
    "plt.xlabel('epoch')\n",
    "plt.legend(['train','test'],loc='upper left')\n",
    "plt.show()"
   ]
  },
  {
   "cell_type": "markdown",
   "metadata": {
    "id": "POU_v9owFLWp"
   },
   "source": [
    "### Create another Deep Neural Network Model for Regression to experiment with other hyper-parameters\n",
    "- Initialize a Sequential model\n",
    "- Add a batch normalization layer\n",
    "- Intialize weights using HeUniform with seed = 7\n",
    "- Add 4 hidden layer with activation relu (Number of neurons = 256,128,64,32 in each layer respectively)\n",
    "- Add dropout layer after each hidden layer\n",
    "- Add a Dense layer with one neuron as output, use activation linear\n",
    "  \n"
   ]
  },
  {
   "cell_type": "code",
   "execution_count": 97,
   "metadata": {
    "id": "EJiZ1JZZECpm"
   },
   "outputs": [],
   "source": [
    "from tensorflow.keras import initializers\n",
    "\n",
    "model_2 =Sequential()\n",
    "model_2.add(tf.keras.Input(shape=(16)))\n",
    "\n",
    "\n",
    "he_initializer = tf.keras.initializers.HeUniform(seed=7)\n",
    "\n",
    "model_2.add(Dense(256,activation='relu',kernel_initializer=he_initializer))\n",
    "model_2.add(Dropout(0.15))\n",
    "\n",
    "model_2.add(Dense(128,activation='relu',kernel_initializer=he_initializer))\n",
    "model_2.add(Dropout(0.10))\n",
    "\n",
    "model_2.add(Dense(64,activation='relu',kernel_initializer=he_initializer))\n",
    "model_2.add(Dropout(0.07))\n",
    "\n",
    "model_2.add(Dense(32,activation='relu',kernel_initializer=he_initializer))\n",
    "model_2.add(Dropout(0.05))\n",
    "\n",
    "model_2.add(Dense(1,activation='linear'))"
   ]
  },
  {
   "cell_type": "markdown",
   "metadata": {
    "id": "yNoD20dGHKNk"
   },
   "source": [
    "### Compile the model\n",
    "\n",
    "- Compile the model\n",
    "- Use \"adam\" optimizer with learning rate = 0.002\n",
    "- for calculating loss, use mean squared error\n",
    "- use R2 score (coefficient of determination) as the metric"
   ]
  },
  {
   "cell_type": "code",
   "execution_count": 99,
   "metadata": {
    "id": "EL--zAmbECm3"
   },
   "outputs": [],
   "source": [
    "model_2.compile(loss='mean_absolute_error',optimizer='adam',metrics = [r_2_score])"
   ]
  },
  {
   "cell_type": "markdown",
   "metadata": {
    "id": "TNhawruvHgLR"
   },
   "source": [
    "### Train your model\n",
    "\n",
    "- epochs: 100\n",
    "- batch size: 64\n",
    "- Use test data as validation data\n",
    "- Also add callback, such that if validation loss doesn't decreases consecutively 10 times, stop the training and return the weights for the previous best model\n",
    "\n"
   ]
  },
  {
   "cell_type": "code",
   "execution_count": 103,
   "metadata": {
    "colab": {
     "base_uri": "https://localhost:8080/"
    },
    "id": "rf_Y0p7yECiz",
    "outputId": "a34d8bc3-e81e-42a2-c851-ae882cdd170b"
   },
   "outputs": [
    {
     "name": "stdout",
     "output_type": "stream",
     "text": [
      "Epoch 1/100\n",
      "93/93 [==============================] - 1s 6ms/step - loss: 645192.0312 - r_2_score: -0.8747 - val_loss: 638643.6875 - val_r_2_score: -0.7281\n",
      "Epoch 2/100\n",
      "93/93 [==============================] - 0s 4ms/step - loss: 586271.0146 - r_2_score: -0.6248 - val_loss: 329529.7500 - val_r_2_score: 0.2718\n",
      "Epoch 3/100\n",
      "93/93 [==============================] - 0s 4ms/step - loss: 303562.0861 - r_2_score: 0.3906 - val_loss: 241489.6562 - val_r_2_score: 0.5791\n",
      "Epoch 4/100\n",
      "93/93 [==============================] - 0s 4ms/step - loss: 234221.9328 - r_2_score: 0.5817 - val_loss: 210099.8125 - val_r_2_score: 0.6663\n",
      "Epoch 5/100\n",
      "93/93 [==============================] - 0s 4ms/step - loss: 203359.6948 - r_2_score: 0.6557 - val_loss: 194593.4844 - val_r_2_score: 0.7117\n",
      "Epoch 6/100\n",
      "93/93 [==============================] - 0s 4ms/step - loss: 197185.6408 - r_2_score: 0.7018 - val_loss: 187084.8594 - val_r_2_score: 0.7296\n",
      "Epoch 7/100\n",
      "93/93 [==============================] - 0s 4ms/step - loss: 177022.6182 - r_2_score: 0.7515 - val_loss: 181662.6562 - val_r_2_score: 0.7486\n",
      "Epoch 8/100\n",
      "93/93 [==============================] - 0s 4ms/step - loss: 184739.7916 - r_2_score: 0.7369 - val_loss: 177889.9219 - val_r_2_score: 0.7624\n",
      "Epoch 9/100\n",
      "93/93 [==============================] - 0s 4ms/step - loss: 172297.2120 - r_2_score: 0.7520 - val_loss: 175172.8594 - val_r_2_score: 0.7723\n",
      "Epoch 10/100\n",
      "93/93 [==============================] - 0s 4ms/step - loss: 174351.3620 - r_2_score: 0.7510 - val_loss: 172957.8594 - val_r_2_score: 0.7786\n",
      "Epoch 11/100\n",
      "93/93 [==============================] - 0s 4ms/step - loss: 181323.2204 - r_2_score: 0.7567 - val_loss: 170769.9219 - val_r_2_score: 0.7827\n",
      "Epoch 12/100\n",
      "93/93 [==============================] - 0s 4ms/step - loss: 163004.4533 - r_2_score: 0.7532 - val_loss: 167210.2812 - val_r_2_score: 0.7973\n",
      "Epoch 13/100\n",
      "93/93 [==============================] - 0s 4ms/step - loss: 164433.1838 - r_2_score: 0.7723 - val_loss: 164289.2969 - val_r_2_score: 0.8073\n",
      "Epoch 14/100\n",
      "93/93 [==============================] - 0s 4ms/step - loss: 167979.9571 - r_2_score: 0.7668 - val_loss: 165071.2969 - val_r_2_score: 0.7961\n",
      "Epoch 15/100\n",
      "93/93 [==============================] - 0s 4ms/step - loss: 154071.0312 - r_2_score: 0.7908 - val_loss: 160621.4375 - val_r_2_score: 0.8228\n",
      "Epoch 16/100\n",
      "93/93 [==============================] - 0s 4ms/step - loss: 163144.0790 - r_2_score: 0.7884 - val_loss: 159590.9531 - val_r_2_score: 0.8141\n",
      "Epoch 17/100\n",
      "93/93 [==============================] - 0s 4ms/step - loss: 159818.5339 - r_2_score: 0.8069 - val_loss: 156784.1562 - val_r_2_score: 0.8259\n",
      "Epoch 18/100\n",
      "93/93 [==============================] - 0s 4ms/step - loss: 153735.9332 - r_2_score: 0.7992 - val_loss: 154610.2031 - val_r_2_score: 0.8306\n",
      "Epoch 19/100\n",
      "93/93 [==============================] - 0s 4ms/step - loss: 159159.2817 - r_2_score: 0.8042 - val_loss: 154102.4531 - val_r_2_score: 0.8407\n",
      "Epoch 20/100\n",
      "93/93 [==============================] - 0s 4ms/step - loss: 161879.8928 - r_2_score: 0.8210 - val_loss: 151651.9688 - val_r_2_score: 0.8391\n",
      "Epoch 21/100\n",
      "93/93 [==============================] - 0s 4ms/step - loss: 150668.7709 - r_2_score: 0.8300 - val_loss: 150387.2188 - val_r_2_score: 0.8390\n",
      "Epoch 22/100\n",
      "93/93 [==============================] - 0s 4ms/step - loss: 154937.4352 - r_2_score: 0.8196 - val_loss: 148831.0625 - val_r_2_score: 0.8502\n",
      "Epoch 23/100\n",
      "93/93 [==============================] - 0s 4ms/step - loss: 150309.7620 - r_2_score: 0.8177 - val_loss: 147169.3281 - val_r_2_score: 0.8513\n",
      "Epoch 24/100\n",
      "93/93 [==============================] - 0s 4ms/step - loss: 154536.1662 - r_2_score: 0.8328 - val_loss: 146665.0938 - val_r_2_score: 0.8482\n",
      "Epoch 25/100\n",
      "93/93 [==============================] - 0s 4ms/step - loss: 151776.6995 - r_2_score: 0.8309 - val_loss: 144959.1562 - val_r_2_score: 0.8560\n",
      "Epoch 26/100\n",
      "93/93 [==============================] - 0s 4ms/step - loss: 148138.1964 - r_2_score: 0.8271 - val_loss: 146584.2656 - val_r_2_score: 0.8507\n",
      "Epoch 27/100\n",
      "93/93 [==============================] - 0s 4ms/step - loss: 146001.5118 - r_2_score: 0.8510 - val_loss: 142238.9062 - val_r_2_score: 0.8652\n",
      "Epoch 28/100\n",
      "93/93 [==============================] - 0s 4ms/step - loss: 151963.7153 - r_2_score: 0.8307 - val_loss: 141215.8750 - val_r_2_score: 0.8639\n",
      "Epoch 29/100\n",
      "93/93 [==============================] - 0s 4ms/step - loss: 146524.0357 - r_2_score: 0.8518 - val_loss: 139651.6875 - val_r_2_score: 0.8729\n",
      "Epoch 30/100\n",
      "93/93 [==============================] - 0s 4ms/step - loss: 140183.7281 - r_2_score: 0.8663 - val_loss: 138343.9688 - val_r_2_score: 0.8758\n",
      "Epoch 31/100\n",
      "93/93 [==============================] - 0s 4ms/step - loss: 143619.2608 - r_2_score: 0.8546 - val_loss: 138201.5000 - val_r_2_score: 0.8746\n",
      "Epoch 32/100\n",
      "93/93 [==============================] - 0s 4ms/step - loss: 142136.3526 - r_2_score: 0.8441 - val_loss: 136356.4844 - val_r_2_score: 0.8840\n",
      "Epoch 33/100\n",
      "93/93 [==============================] - 0s 4ms/step - loss: 137017.2188 - r_2_score: 0.8546 - val_loss: 135152.5625 - val_r_2_score: 0.8851\n",
      "Epoch 34/100\n",
      "93/93 [==============================] - 0s 4ms/step - loss: 144074.5146 - r_2_score: 0.8502 - val_loss: 134324.5625 - val_r_2_score: 0.8846\n",
      "Epoch 35/100\n",
      "93/93 [==============================] - 0s 5ms/step - loss: 143793.5018 - r_2_score: 0.8590 - val_loss: 132745.7188 - val_r_2_score: 0.8908\n",
      "Epoch 36/100\n",
      "93/93 [==============================] - 0s 4ms/step - loss: 136533.1018 - r_2_score: 0.8645 - val_loss: 132742.7656 - val_r_2_score: 0.8934\n",
      "Epoch 37/100\n",
      "93/93 [==============================] - 0s 4ms/step - loss: 137695.4497 - r_2_score: 0.8245 - val_loss: 130568.5781 - val_r_2_score: 0.8939\n",
      "Epoch 38/100\n",
      "93/93 [==============================] - 0s 4ms/step - loss: 141952.6744 - r_2_score: 0.8478 - val_loss: 129347.9922 - val_r_2_score: 0.8977\n",
      "Epoch 39/100\n",
      "93/93 [==============================] - 0s 4ms/step - loss: 132644.6316 - r_2_score: 0.8789 - val_loss: 129443.6484 - val_r_2_score: 0.8943\n",
      "Epoch 40/100\n",
      "93/93 [==============================] - 0s 4ms/step - loss: 133322.0185 - r_2_score: 0.8759 - val_loss: 127358.4453 - val_r_2_score: 0.9001\n",
      "Epoch 41/100\n",
      "93/93 [==============================] - 0s 4ms/step - loss: 132474.8428 - r_2_score: 0.8690 - val_loss: 125916.5859 - val_r_2_score: 0.9023\n",
      "Epoch 42/100\n",
      "93/93 [==============================] - 0s 4ms/step - loss: 127006.5016 - r_2_score: 0.8731 - val_loss: 125230.6484 - val_r_2_score: 0.9029\n",
      "Epoch 43/100\n",
      "93/93 [==============================] - 0s 4ms/step - loss: 137937.8728 - r_2_score: 0.8638 - val_loss: 125548.1641 - val_r_2_score: 0.9010\n",
      "Epoch 44/100\n",
      "93/93 [==============================] - 0s 4ms/step - loss: 132597.5773 - r_2_score: 0.8807 - val_loss: 123968.1328 - val_r_2_score: 0.9051\n",
      "Epoch 45/100\n",
      "93/93 [==============================] - 0s 4ms/step - loss: 129778.0947 - r_2_score: 0.8772 - val_loss: 123778.5781 - val_r_2_score: 0.9057\n",
      "Epoch 46/100\n",
      "93/93 [==============================] - 0s 4ms/step - loss: 130211.4820 - r_2_score: 0.8784 - val_loss: 123799.3984 - val_r_2_score: 0.9060\n",
      "Epoch 47/100\n",
      "93/93 [==============================] - 0s 4ms/step - loss: 130120.8861 - r_2_score: 0.8821 - val_loss: 122843.9688 - val_r_2_score: 0.9090\n",
      "Epoch 48/100\n",
      "93/93 [==============================] - 0s 4ms/step - loss: 129821.6317 - r_2_score: 0.8907 - val_loss: 123479.9375 - val_r_2_score: 0.9049\n",
      "Epoch 49/100\n",
      "93/93 [==============================] - 0s 4ms/step - loss: 126055.7182 - r_2_score: 0.8812 - val_loss: 121652.0469 - val_r_2_score: 0.9106\n",
      "Epoch 50/100\n",
      "93/93 [==============================] - 0s 4ms/step - loss: 130888.4266 - r_2_score: 0.8788 - val_loss: 121782.9766 - val_r_2_score: 0.9074\n",
      "Epoch 51/100\n",
      "93/93 [==============================] - 0s 4ms/step - loss: 127164.5353 - r_2_score: 0.8882 - val_loss: 123600.5312 - val_r_2_score: 0.9102\n",
      "Epoch 52/100\n",
      "93/93 [==============================] - 0s 4ms/step - loss: 129885.8521 - r_2_score: 0.8846 - val_loss: 120076.1562 - val_r_2_score: 0.9128\n",
      "Epoch 53/100\n",
      "93/93 [==============================] - 0s 4ms/step - loss: 129485.6445 - r_2_score: 0.8714 - val_loss: 119152.5391 - val_r_2_score: 0.9139\n",
      "Epoch 54/100\n",
      "93/93 [==============================] - 0s 4ms/step - loss: 130569.8674 - r_2_score: 0.8826 - val_loss: 119085.8203 - val_r_2_score: 0.9146\n",
      "Epoch 55/100\n",
      "93/93 [==============================] - 0s 4ms/step - loss: 128623.5888 - r_2_score: 0.8944 - val_loss: 118667.8125 - val_r_2_score: 0.9138\n",
      "Epoch 56/100\n",
      "93/93 [==============================] - 0s 4ms/step - loss: 123713.2035 - r_2_score: 0.8903 - val_loss: 118300.5703 - val_r_2_score: 0.9163\n",
      "Epoch 57/100\n",
      "93/93 [==============================] - 0s 4ms/step - loss: 127233.9545 - r_2_score: 0.8998 - val_loss: 118186.8750 - val_r_2_score: 0.9152\n",
      "Epoch 58/100\n",
      "93/93 [==============================] - 0s 4ms/step - loss: 130683.2622 - r_2_score: 0.8839 - val_loss: 118320.6719 - val_r_2_score: 0.9139\n",
      "Epoch 59/100\n",
      "93/93 [==============================] - 0s 4ms/step - loss: 124177.7591 - r_2_score: 0.8778 - val_loss: 117724.9297 - val_r_2_score: 0.9151\n",
      "Epoch 60/100\n",
      "93/93 [==============================] - 0s 4ms/step - loss: 128155.0711 - r_2_score: 0.8885 - val_loss: 117451.0625 - val_r_2_score: 0.9154\n",
      "Epoch 61/100\n",
      "93/93 [==============================] - 0s 4ms/step - loss: 127308.1955 - r_2_score: 0.8859 - val_loss: 116514.1250 - val_r_2_score: 0.9170\n",
      "Epoch 62/100\n",
      "93/93 [==============================] - 0s 4ms/step - loss: 124949.8304 - r_2_score: 0.8877 - val_loss: 117790.2578 - val_r_2_score: 0.9150\n",
      "Epoch 63/100\n",
      "93/93 [==============================] - 0s 4ms/step - loss: 125145.5765 - r_2_score: 0.8833 - val_loss: 116095.7969 - val_r_2_score: 0.9189\n",
      "Epoch 64/100\n",
      "93/93 [==============================] - 0s 4ms/step - loss: 121440.1257 - r_2_score: 0.8793 - val_loss: 116644.6562 - val_r_2_score: 0.9159\n",
      "Epoch 65/100\n",
      "93/93 [==============================] - 0s 4ms/step - loss: 123848.1497 - r_2_score: 0.8956 - val_loss: 118413.5000 - val_r_2_score: 0.9196\n",
      "Epoch 66/100\n",
      "93/93 [==============================] - 0s 4ms/step - loss: 128402.6143 - r_2_score: 0.8895 - val_loss: 114209.0312 - val_r_2_score: 0.9209\n",
      "Epoch 67/100\n",
      "93/93 [==============================] - 0s 4ms/step - loss: 124637.4904 - r_2_score: 0.8987 - val_loss: 114994.8594 - val_r_2_score: 0.9213\n",
      "Epoch 68/100\n",
      "93/93 [==============================] - 0s 4ms/step - loss: 121176.7678 - r_2_score: 0.9015 - val_loss: 114826.1172 - val_r_2_score: 0.9226\n",
      "Epoch 69/100\n",
      "93/93 [==============================] - 0s 4ms/step - loss: 121600.8403 - r_2_score: 0.9001 - val_loss: 114177.0234 - val_r_2_score: 0.9230\n",
      "Epoch 70/100\n",
      "93/93 [==============================] - 0s 4ms/step - loss: 123843.7163 - r_2_score: 0.8886 - val_loss: 113339.4922 - val_r_2_score: 0.9226\n",
      "Epoch 71/100\n",
      "93/93 [==============================] - 0s 4ms/step - loss: 121424.2367 - r_2_score: 0.8788 - val_loss: 113289.9766 - val_r_2_score: 0.9238\n",
      "Epoch 72/100\n",
      "93/93 [==============================] - 0s 4ms/step - loss: 122134.9422 - r_2_score: 0.8951 - val_loss: 113104.8438 - val_r_2_score: 0.9233\n",
      "Epoch 73/100\n",
      "93/93 [==============================] - 0s 4ms/step - loss: 115714.4275 - r_2_score: 0.9013 - val_loss: 112836.6562 - val_r_2_score: 0.9251\n",
      "Epoch 74/100\n",
      "93/93 [==============================] - 0s 4ms/step - loss: 125546.0516 - r_2_score: 0.9066 - val_loss: 113416.6719 - val_r_2_score: 0.9239\n",
      "Epoch 75/100\n",
      "93/93 [==============================] - 0s 4ms/step - loss: 120177.7605 - r_2_score: 0.9072 - val_loss: 112981.9844 - val_r_2_score: 0.9249\n",
      "Epoch 76/100\n",
      "93/93 [==============================] - 0s 4ms/step - loss: 114399.0585 - r_2_score: 0.9017 - val_loss: 113856.9297 - val_r_2_score: 0.9255\n",
      "Epoch 77/100\n",
      "93/93 [==============================] - 0s 4ms/step - loss: 122294.4873 - r_2_score: 0.9099 - val_loss: 112005.4844 - val_r_2_score: 0.9261\n",
      "Epoch 78/100\n",
      "93/93 [==============================] - 0s 4ms/step - loss: 123628.5477 - r_2_score: 0.8953 - val_loss: 112949.7656 - val_r_2_score: 0.9251\n",
      "Epoch 79/100\n",
      "93/93 [==============================] - 0s 4ms/step - loss: 122655.3680 - r_2_score: 0.9082 - val_loss: 111679.0234 - val_r_2_score: 0.9270\n",
      "Epoch 80/100\n",
      "93/93 [==============================] - 0s 4ms/step - loss: 120001.0327 - r_2_score: 0.9065 - val_loss: 111500.2344 - val_r_2_score: 0.9263\n",
      "Epoch 81/100\n",
      "93/93 [==============================] - 0s 4ms/step - loss: 122036.0906 - r_2_score: 0.9047 - val_loss: 111773.4688 - val_r_2_score: 0.9256\n",
      "Epoch 82/100\n",
      "93/93 [==============================] - 0s 4ms/step - loss: 116999.4591 - r_2_score: 0.8880 - val_loss: 111855.4922 - val_r_2_score: 0.9277\n",
      "Epoch 83/100\n",
      "93/93 [==============================] - 0s 4ms/step - loss: 119189.8446 - r_2_score: 0.8937 - val_loss: 111482.7500 - val_r_2_score: 0.9281\n",
      "Epoch 84/100\n",
      "93/93 [==============================] - 0s 4ms/step - loss: 117932.8353 - r_2_score: 0.9018 - val_loss: 112553.9453 - val_r_2_score: 0.9267\n",
      "Epoch 85/100\n",
      "93/93 [==============================] - 0s 4ms/step - loss: 118541.7550 - r_2_score: 0.8982 - val_loss: 110975.1484 - val_r_2_score: 0.9287\n",
      "Epoch 86/100\n",
      "93/93 [==============================] - 0s 4ms/step - loss: 121277.0508 - r_2_score: 0.9126 - val_loss: 110761.3125 - val_r_2_score: 0.9279\n",
      "Epoch 87/100\n",
      "93/93 [==============================] - 0s 4ms/step - loss: 120908.3487 - r_2_score: 0.9141 - val_loss: 110454.0781 - val_r_2_score: 0.9295\n",
      "Epoch 88/100\n",
      "93/93 [==============================] - 0s 4ms/step - loss: 118261.4652 - r_2_score: 0.9039 - val_loss: 109674.9062 - val_r_2_score: 0.9294\n",
      "Epoch 89/100\n",
      "93/93 [==============================] - 0s 4ms/step - loss: 120261.6778 - r_2_score: 0.8919 - val_loss: 109888.4297 - val_r_2_score: 0.9298\n",
      "Epoch 90/100\n",
      "93/93 [==============================] - 0s 4ms/step - loss: 118604.7930 - r_2_score: 0.9040 - val_loss: 109174.3672 - val_r_2_score: 0.9301\n",
      "Epoch 91/100\n",
      "93/93 [==============================] - 0s 4ms/step - loss: 120911.0956 - r_2_score: 0.9032 - val_loss: 110587.6797 - val_r_2_score: 0.9294\n",
      "Epoch 92/100\n",
      "93/93 [==============================] - 0s 4ms/step - loss: 119837.4000 - r_2_score: 0.8981 - val_loss: 109283.7656 - val_r_2_score: 0.9312\n",
      "Epoch 93/100\n",
      "93/93 [==============================] - 0s 4ms/step - loss: 113220.0055 - r_2_score: 0.9232 - val_loss: 109953.4375 - val_r_2_score: 0.9306\n",
      "Epoch 94/100\n",
      "93/93 [==============================] - 0s 4ms/step - loss: 118467.6234 - r_2_score: 0.9027 - val_loss: 108288.7500 - val_r_2_score: 0.9315\n",
      "Epoch 95/100\n",
      "93/93 [==============================] - 0s 4ms/step - loss: 118558.9835 - r_2_score: 0.9039 - val_loss: 111191.4141 - val_r_2_score: 0.9299\n",
      "Epoch 96/100\n",
      "93/93 [==============================] - 0s 4ms/step - loss: 117694.9822 - r_2_score: 0.8969 - val_loss: 108680.5859 - val_r_2_score: 0.9320\n",
      "Epoch 97/100\n",
      "93/93 [==============================] - 0s 5ms/step - loss: 119660.4846 - r_2_score: 0.9085 - val_loss: 107578.2188 - val_r_2_score: 0.9325\n",
      "Epoch 98/100\n",
      "93/93 [==============================] - 0s 4ms/step - loss: 118223.4756 - r_2_score: 0.9060 - val_loss: 108072.9609 - val_r_2_score: 0.9327\n",
      "Epoch 99/100\n",
      "93/93 [==============================] - 0s 4ms/step - loss: 122008.9763 - r_2_score: 0.8995 - val_loss: 107148.2734 - val_r_2_score: 0.9331\n",
      "Epoch 100/100\n",
      "93/93 [==============================] - 0s 4ms/step - loss: 121002.3349 - r_2_score: 0.9021 - val_loss: 106511.2656 - val_r_2_score: 0.9325\n"
     ]
    }
   ],
   "source": [
    "callback_3 = tf.keras.callbacks.EarlyStopping(monitor='val_loss',patience = 10,restore_best_weights=True,mode = 'min')\n",
    "history_3 = model_2.fit(x_train_sc,y_train,batch_size=64,epochs=100,verbose=1,validation_data=(x_test_sc,y_test),callbacks=callback_3)"
   ]
  },
  {
   "cell_type": "markdown",
   "metadata": {
    "id": "MR6_a6QxICXv"
   },
   "source": [
    "### Check the R2 score on complete test data"
   ]
  },
  {
   "cell_type": "code",
   "execution_count": 104,
   "metadata": {
    "colab": {
     "base_uri": "https://localhost:8080/"
    },
    "id": "eSNJsVwnECf-",
    "outputId": "f82dd64e-2e13-483f-eb06-a109449b7d53"
   },
   "outputs": [
    {
     "name": "stdout",
     "output_type": "stream",
     "text": [
      "0.9429299187586333\n"
     ]
    }
   ],
   "source": [
    "y_pred=model_2.predict(x_test_sc)\n",
    "print(r2_score(y_test,y_pred))"
   ]
  },
  {
   "cell_type": "markdown",
   "metadata": {
    "id": "xWZIMT2rIYDc"
   },
   "source": [
    "### Visualize model learning\n",
    "- Visualize model learning using train and test r2 score\n",
    "- Visualize model learning using train and test loss"
   ]
  },
  {
   "cell_type": "code",
   "execution_count": 105,
   "metadata": {
    "colab": {
     "base_uri": "https://localhost:8080/",
     "height": 573
    },
    "id": "uDMefTaLECdK",
    "outputId": "316595f4-dda2-4b22-8731-42db32c2694d"
   },
   "outputs": [
    {
     "data": {
      "image/png": "[encoded data removed]",
      "text/plain": [
       "<Figure size 432x288 with 1 Axes>"
      ]
     },
     "metadata": {
      "needs_background": "light",
      "tags": []
     },
     "output_type": "display_data"
    },
    {
     "data": {
      "image/png": "[encoded data removed]",
      "text/plain": [
       "<Figure size 432x288 with 1 Axes>"
      ]
     },
     "metadata": {
      "needs_background": "light",
      "tags": []
     },
     "output_type": "display_data"
    }
   ],
   "source": [
    "plt.plot(history_3.history['r_2_score'])  \n",
    "plt.plot(history_3.history['val_r_2_score'])  \n",
    "plt.title('model_r2_score')  \n",
    "plt.ylabel('r2_score')\n",
    "plt.xlabel('epoch')\n",
    "plt.legend(['train','test'],loc='upper left')\n",
    "plt.show()\n",
    "\n",
    "\n",
    "plt.plot(history_3.history['loss'])  \n",
    "plt.plot(history_3.history['val_loss'])  \n",
    "plt.title('model loss')  \n",
    "plt.ylabel('loss')\n",
    "plt.xlabel('epoch')\n",
    "plt.legend(['train','test'],loc='upper left')\n",
    "plt.show()"
   ]
  },
  {
   "cell_type": "code",
   "execution_count": null,
   "metadata": {
    "id": "6QUfwFn6VGO7"
   },
   "outputs": [],
   "source": []
  }
 ],
 "metadata": {
  "accelerator": "GPU",
  "colab": {
   "collapsed_sections": [],
   "name": "PGPAIML_R7_DNN_Internal.ipynb",
   "provenance": [],
   "toc_visible": true
  },
  "kernelspec": {
   "display_name": "Python 3",
   "language": "python",
   "name": "python3"
  },
  "language_info": {
   "codemirror_mode": {
    "name": "ipython",
    "version": 3
   },
   "file_extension": ".py",
   "mimetype": "text/x-python",
   "name": "python",
   "nbconvert_exporter": "python",
   "pygments_lexer": "ipython3",
   "version": "3.7.4"
  }
 },
 "nbformat": 4,
 "nbformat_minor": 1
}
