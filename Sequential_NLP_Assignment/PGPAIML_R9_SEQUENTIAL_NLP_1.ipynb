{
 "cells": [
  {
   "cell_type": "markdown",
   "metadata": {
    "id": "PHYs6Z84xV8E"
   },
   "source": [
    "<img src=\"http://drive.google.com/uc?export=view&id=1tpOCamr9aWz817atPnyXus8w5gJ3mIts\" width=500px>\n",
    "\n",
    "Proprietary content. © Great Learning. All Rights Reserved. Unauthorized use or distribution prohibited."
   ]
  },
  {
   "cell_type": "markdown",
   "metadata": {
    "id": "FbwHYUXhxaqD"
   },
   "source": [
    "## Problem Statement\n",
    "\n"
   ]
  },
  {
   "cell_type": "markdown",
   "metadata": {
    "id": "5QQxgAmWzSye"
   },
   "source": [
    "# Samsung Internal SSD Reviews prediction\n",
    "\n",
    "Rating predictions using reviews written by users can be a useful problem statement in E-commerce domain and can be used for recommending similar products that may interest users. The dataset in this problem statement comprises reviews pertaining to Samsung Internal SSD product specifically SAMSUNG 850 EVO 2.5\" 250GB SATA III 3D NAND Internal Solid State Drive (SSD) MZ-75E250B/AM from the NewEgg Store website.  We will build a Natural Language processing model using Glove embeddings which is trained on reviews given by customers that have used the product and try to predict ratings given a new rating.\n",
    "\n",
    "\n",
    "\n",
    "\n",
    "### Objective:\n",
    "Given the reviews provided by customers, can you train a model that accurately predicts the corresponding rating of a review?"
   ]
  },
  {
   "cell_type": "markdown",
   "metadata": {
    "id": "CI7usguRzeox"
   },
   "source": [
    "### Package version\n",
    "\n",
    "- tensorflow==2.3.0\n",
    "- scikit-learn==0.22.2.post1\n",
    "- pandas==1.0.5\n",
    "- numpy==1.18.5\n",
    "- matplotlib==3.2.2\n",
    "- google==2.0.3"
   ]
  },
  {
   "cell_type": "markdown",
   "metadata": {
    "id": "aiMdVjHRH7NR"
   },
   "source": [
    "### Data Dictionary \n",
    "\n",
    "- review_title : The Title for the customer review\n",
    "\n",
    "- overall_review: The whole customer review details\n",
    "\n",
    "- pros: The customer opinion about the good things in this product\n",
    "\n",
    "- cons: The customer opinion about the bad things in this product\n",
    "\n",
    "- ownership_period: How long the customer owned this product\n",
    "\n",
    "- date: When the review was written\n",
    "\n",
    "- rating_stars: The product rating from 1 to 5\n",
    "\n",
    "- year: In which year the review was written\n",
    "\n",
    "- month: In which month the review was written\n",
    "\n",
    "- day: In which day the review was written"
   ]
  },
  {
   "cell_type": "markdown",
   "metadata": {
    "id": "cEn52o8jznJK"
   },
   "source": [
    "## Table of Content\n",
    "\n",
    "1. Import Libraries\n",
    "\n",
    "2. Setting options\n",
    "\n",
    "3. Read Data\n",
    "\n",
    "4. Data Analysis and Preparation\n",
    "\n",
    "5. Model Building\n",
    "\n",
    "6. Conclusion and Interpretation\n",
    "\n",
    "7. Food for thought"
   ]
  },
  {
   "cell_type": "markdown",
   "metadata": {
    "id": "x_Lom6cXzqn7"
   },
   "source": [
    "## 1. Import Libraries"
   ]
  },
  {
   "cell_type": "markdown",
   "metadata": {
    "id": "FZtVstH8zre2"
   },
   "source": [
    "Let us start by mounting the drive"
   ]
  },
  {
   "cell_type": "code",
   "execution_count": 182,
   "metadata": {
    "colab": {
     "base_uri": "https://localhost:8080/"
    },
    "id": "jSsg8JHkIh2k",
    "outputId": "169bcb33-ad0f-4748-fab0-9f86646ec71e"
   },
   "outputs": [
    {
     "name": "stdout",
     "output_type": "stream",
     "text": [
      "Drive already mounted at /content/drive; to attempt to forcibly remount, call drive.mount(\"/content/drive\", force_remount=True).\n"
     ]
    }
   ],
   "source": [
    "from google.colab import drive\n",
    "drive.mount('/content/drive')"
   ]
  },
  {
   "cell_type": "markdown",
   "metadata": {
    "id": "Gv-tZoFjz2WD"
   },
   "source": [
    "Let us check for the version of installed tensorflow."
   ]
  },
  {
   "cell_type": "code",
   "execution_count": 183,
   "metadata": {
    "colab": {
     "base_uri": "https://localhost:8080/"
    },
    "id": "eiuUVBuDzzn9",
    "outputId": "a79398d3-fc08-4cdc-a59b-659ebe423a06"
   },
   "outputs": [
    {
     "name": "stdout",
     "output_type": "stream",
     "text": [
      "2.6.0\n"
     ]
    }
   ],
   "source": [
    "# used to supress display of warnings\n",
    "import warnings\n",
    "\n",
    "# os is used to provide a way of using operating system dependent functionality\n",
    "# We use it for setting working folder\n",
    "import os\n",
    "\n",
    "# Pandas is used for data manipulation and analysis\n",
    "import pandas as pd \n",
    "\n",
    "# Numpy is used for large, multi-dimensional arrays and matrices, along with mathematical operators on these arrays\n",
    "import numpy as np\n",
    "\n",
    "# Matplotlib is a data visualization library for 2D plots of arrays, built on NumPy arrays \n",
    "# and designed to work with the broader SciPy stack\n",
    "import matplotlib.pyplot as plt\n",
    "%matplotlib inline\n",
    "from matplotlib import pyplot\n",
    "\n",
    "# Seaborn is based on matplotlib, which aids in drawing attractive and informative statistical graphics.\n",
    "import seaborn as sns\n",
    "import tensorflow \n",
    "print(tensorflow.__version__)"
   ]
  },
  {
   "cell_type": "markdown",
   "metadata": {
    "id": "fze-aokU0ukH"
   },
   "source": [
    "## 2. Setting Options"
   ]
  },
  {
   "cell_type": "code",
   "execution_count": 184,
   "metadata": {
    "id": "T3FALggG0xXa"
   },
   "outputs": [],
   "source": [
    "# suppress display of warnings\n",
    "warnings.filterwarnings('ignore')\n",
    "\n",
    "# display all dataframe columns\n",
    "pd.options.display.max_columns = None\n",
    "\n",
    "# to set the limit to 3 decimals\n",
    "pd.options.display.float_format = '{:.7f}'.format\n",
    "\n",
    "# display all dataframe rows\n",
    "pd.options.display.max_rows = None"
   ]
  },
  {
   "cell_type": "markdown",
   "metadata": {
    "id": "ZT1P1WdK1vfZ"
   },
   "source": [
    "## 3. Read Data"
   ]
  },
  {
   "cell_type": "markdown",
   "metadata": {
    "id": "NnnvF56gfwav"
   },
   "source": [
    "### Read the dataset and check top 5 rows"
   ]
  },
  {
   "cell_type": "code",
   "execution_count": 185,
   "metadata": {
    "colab": {
     "base_uri": "https://localhost:8080/",
     "height": 36
    },
    "id": "imj2VbNpf383",
    "outputId": "eaf9c0f3-c614-40ae-f7ff-7baeb21f6bba"
   },
   "outputs": [
    {
     "data": {
      "application/vnd.google.colaboratory.intrinsic+json": {
       "type": "string"
      },
      "text/plain": [
       "'/content/drive/My Drive/Colab Notebooks/Sequential_NLP/Lab'"
      ]
     },
     "execution_count": 185,
     "metadata": {},
     "output_type": "execute_result"
    }
   ],
   "source": [
    "os.chdir('/content/drive/My Drive/Colab Notebooks/Sequential_NLP/Lab')\n",
    "os.getcwd()"
   ]
  },
  {
   "cell_type": "code",
   "execution_count": 186,
   "metadata": {
    "id": "gOk-iDIVLXop"
   },
   "outputs": [],
   "source": [
    "ssd_reviews_df = pd.read_csv('/content/drive/My Drive/Colab Notebooks/Sequential_NLP/Lab/ssd_reviews.csv')"
   ]
  },
  {
   "cell_type": "code",
   "execution_count": 187,
   "metadata": {
    "colab": {
     "base_uri": "https://localhost:8080/",
     "height": 328
    },
    "id": "w9UKK6anMW0-",
    "outputId": "b5a1990e-909f-440d-fb11-ee0c67355fbf"
   },
   "outputs": [
    {
     "data": {
      "text/html": [
       "<div>\n",
       "<style scoped>\n",
       "    .dataframe tbody tr th:only-of-type {\n",
       "        vertical-align: middle;\n",
       "    }\n",
       "\n",
       "    .dataframe tbody tr th {\n",
       "        vertical-align: top;\n",
       "    }\n",
       "\n",
       "    .dataframe thead th {\n",
       "        text-align: right;\n",
       "    }\n",
       "</style>\n",
       "<table border=\"1\" class=\"dataframe\">\n",
       "  <thead>\n",
       "    <tr style=\"text-align: right;\">\n",
       "      <th></th>\n",
       "      <th>Unnamed: 0</th>\n",
       "      <th>review_title</th>\n",
       "      <th>overall_review</th>\n",
       "      <th>pros</th>\n",
       "      <th>cons</th>\n",
       "      <th>ownership_pariod</th>\n",
       "      <th>date</th>\n",
       "      <th>rating_stars</th>\n",
       "      <th>year</th>\n",
       "      <th>month</th>\n",
       "      <th>day</th>\n",
       "    </tr>\n",
       "  </thead>\n",
       "  <tbody>\n",
       "    <tr>\n",
       "      <th>0</th>\n",
       "      <td>0</td>\n",
       "      <td>solid</td>\n",
       "      <td>buy it you will not regret this purchase</td>\n",
       "      <td>reliable fast silent cool running drive highly...</td>\n",
       "      <td>NaN</td>\n",
       "      <td>years</td>\n",
       "      <td>2019-12-05 12:58:58</td>\n",
       "      <td>5</td>\n",
       "      <td>2019</td>\n",
       "      <td>12</td>\n",
       "      <td>5</td>\n",
       "    </tr>\n",
       "    <tr>\n",
       "      <th>1</th>\n",
       "      <td>1</td>\n",
       "      <td>nice drive for price even cheaper by todays costs</td>\n",
       "      <td>good drive price</td>\n",
       "      <td>been running almost constantly since when i pu...</td>\n",
       "      <td>NaN</td>\n",
       "      <td>years</td>\n",
       "      <td>2019-11-01 08:25:45</td>\n",
       "      <td>5</td>\n",
       "      <td>2019</td>\n",
       "      <td>11</td>\n",
       "      <td>1</td>\n",
       "    </tr>\n",
       "    <tr>\n",
       "      <th>2</th>\n",
       "      <td>2</td>\n",
       "      <td>perfect</td>\n",
       "      <td>used this drive as my boot drive and only data...</td>\n",
       "      <td>good value decently fast good longevity</td>\n",
       "      <td>none so far</td>\n",
       "      <td>years</td>\n",
       "      <td>2019-10-27 17:05:49</td>\n",
       "      <td>5</td>\n",
       "      <td>2019</td>\n",
       "      <td>10</td>\n",
       "      <td>27</td>\n",
       "    </tr>\n",
       "    <tr>\n",
       "      <th>3</th>\n",
       "      <td>3</td>\n",
       "      <td>very snappy</td>\n",
       "      <td>os boots quicker os menus pop up quicker gamin...</td>\n",
       "      <td>noticeable improvement in os performance over ...</td>\n",
       "      <td>samsung magician software causes some games to...</td>\n",
       "      <td>years</td>\n",
       "      <td>2019-10-24 18:29:43</td>\n",
       "      <td>5</td>\n",
       "      <td>2019</td>\n",
       "      <td>10</td>\n",
       "      <td>24</td>\n",
       "    </tr>\n",
       "    <tr>\n",
       "      <th>4</th>\n",
       "      <td>4</td>\n",
       "      <td>worth the hype</td>\n",
       "      <td>this was the sdd that everyone said to get and...</td>\n",
       "      <td>NaN</td>\n",
       "      <td>NaN</td>\n",
       "      <td>years</td>\n",
       "      <td>2019-09-11 19:21:03</td>\n",
       "      <td>5</td>\n",
       "      <td>2019</td>\n",
       "      <td>9</td>\n",
       "      <td>11</td>\n",
       "    </tr>\n",
       "  </tbody>\n",
       "</table>\n",
       "</div>"
      ],
      "text/plain": [
       "   Unnamed: 0                                       review_title  \\\n",
       "0           0                                              solid   \n",
       "1           1  nice drive for price even cheaper by todays costs   \n",
       "2           2                                            perfect   \n",
       "3           3                                        very snappy   \n",
       "4           4                                     worth the hype   \n",
       "\n",
       "                                      overall_review  \\\n",
       "0           buy it you will not regret this purchase   \n",
       "1                                   good drive price   \n",
       "2  used this drive as my boot drive and only data...   \n",
       "3  os boots quicker os menus pop up quicker gamin...   \n",
       "4  this was the sdd that everyone said to get and...   \n",
       "\n",
       "                                                pros  \\\n",
       "0  reliable fast silent cool running drive highly...   \n",
       "1  been running almost constantly since when i pu...   \n",
       "2            good value decently fast good longevity   \n",
       "3  noticeable improvement in os performance over ...   \n",
       "4                                                NaN   \n",
       "\n",
       "                                                cons ownership_pariod  \\\n",
       "0                                                NaN            years   \n",
       "1                                                NaN            years   \n",
       "2                                        none so far            years   \n",
       "3  samsung magician software causes some games to...            years   \n",
       "4                                                NaN            years   \n",
       "\n",
       "                  date  rating_stars  year  month  day  \n",
       "0  2019-12-05 12:58:58             5  2019     12    5  \n",
       "1  2019-11-01 08:25:45             5  2019     11    1  \n",
       "2  2019-10-27 17:05:49             5  2019     10   27  \n",
       "3  2019-10-24 18:29:43             5  2019     10   24  \n",
       "4  2019-09-11 19:21:03             5  2019      9   11  "
      ]
     },
     "execution_count": 187,
     "metadata": {},
     "output_type": "execute_result"
    }
   ],
   "source": [
    "ssd_reviews_df.head(5)"
   ]
  },
  {
   "cell_type": "markdown",
   "metadata": {
    "id": "RGluIi5Sf5Rp"
   },
   "source": [
    "### Check info of the dataset and write your findings"
   ]
  },
  {
   "cell_type": "code",
   "execution_count": 188,
   "metadata": {
    "colab": {
     "base_uri": "https://localhost:8080/"
    },
    "id": "Pldlew5Mf9gA",
    "outputId": "bb5c2694-3570-4a7b-c500-12f59e644c5a"
   },
   "outputs": [
    {
     "name": "stdout",
     "output_type": "stream",
     "text": [
      "<class 'pandas.core.frame.DataFrame'>\n",
      "RangeIndex: 2227 entries, 0 to 2226\n",
      "Data columns (total 11 columns):\n",
      " #   Column            Non-Null Count  Dtype \n",
      "---  ------            --------------  ----- \n",
      " 0   Unnamed: 0        2227 non-null   int64 \n",
      " 1   review_title      2131 non-null   object\n",
      " 2   overall_review    1448 non-null   object\n",
      " 3   pros              2205 non-null   object\n",
      " 4   cons              2216 non-null   object\n",
      " 5   ownership_pariod  2159 non-null   object\n",
      " 6   date              2227 non-null   object\n",
      " 7   rating_stars      2227 non-null   int64 \n",
      " 8   year              2227 non-null   int64 \n",
      " 9   month             2227 non-null   int64 \n",
      " 10  day               2227 non-null   int64 \n",
      "dtypes: int64(5), object(6)\n",
      "memory usage: 191.5+ KB\n"
     ]
    }
   ],
   "source": [
    "ssd_reviews_df.info()"
   ]
  },
  {
   "cell_type": "markdown",
   "metadata": {
    "id": "k8z5KK4YI5wV"
   },
   "source": [
    "# **Observations:**\n",
    " - There are 2227 total reviews about the Samsung Internal SSD.\n",
    " - There are null values for columns overall_review,pros,cpns and ownership_pariod.\n",
    " - There are few numeric columns like Unnamed,rating_stars,year,month,day."
   ]
  },
  {
   "cell_type": "markdown",
   "metadata": {
    "id": "rED6DbDBKTjM"
   },
   "source": [
    "## 4.  Data Analysis and Preparation"
   ]
  },
  {
   "cell_type": "markdown",
   "metadata": {
    "id": "7VSqr0Seiy7g"
   },
   "source": [
    "### 4.1 Checking missing values\n",
    "#### Check for missing values (along with the percentage of null values)"
   ]
  },
  {
   "cell_type": "code",
   "execution_count": 189,
   "metadata": {
    "id": "Il4yi7kdmnYQ"
   },
   "outputs": [],
   "source": [
    "missing_values = ssd_reviews_df.isnull().sum() * 100 / len(ssd_reviews_df)"
   ]
  },
  {
   "cell_type": "code",
   "execution_count": 190,
   "metadata": {
    "colab": {
     "base_uri": "https://localhost:8080/"
    },
    "id": "JbQdzAmyNGCS",
    "outputId": "e4a4fdec-e981-408a-eecf-f871eee5c571"
   },
   "outputs": [
    {
     "data": {
      "text/plain": [
       "Unnamed: 0          0.0000000\n",
       "review_title        4.3107319\n",
       "overall_review     34.9797934\n",
       "pros                0.9878761\n",
       "cons                0.4939380\n",
       "ownership_pariod    3.0534351\n",
       "date                0.0000000\n",
       "rating_stars        0.0000000\n",
       "year                0.0000000\n",
       "month               0.0000000\n",
       "day                 0.0000000\n",
       "dtype: float64"
      ]
     },
     "execution_count": 190,
     "metadata": {},
     "output_type": "execute_result"
    }
   ],
   "source": [
    "missing_values"
   ]
  },
  {
   "cell_type": "markdown",
   "metadata": {
    "id": "SB40EGirmVjo"
   },
   "source": [
    "### 4.2 Analyzing the target column (Rating_stars)"
   ]
  },
  {
   "cell_type": "markdown",
   "metadata": {
    "id": "MoRvWVk-is6Y"
   },
   "source": [
    "#### Check the value counts of 'rating_stars' and write your comments"
   ]
  },
  {
   "cell_type": "code",
   "execution_count": 191,
   "metadata": {
    "colab": {
     "base_uri": "https://localhost:8080/"
    },
    "id": "LOVFp6Diiy0n",
    "outputId": "3ed36431-f178-4519-951f-0d9fecd7510b"
   },
   "outputs": [
    {
     "data": {
      "text/plain": [
       "5    1756\n",
       "4     181\n",
       "1     153\n",
       "3      77\n",
       "2      60\n",
       "Name: rating_stars, dtype: int64"
      ]
     },
     "execution_count": 191,
     "metadata": {},
     "output_type": "execute_result"
    }
   ],
   "source": [
    "ssd_reviews_df['rating_stars'].value_counts().sort_values(ascending=False)"
   ]
  },
  {
   "cell_type": "code",
   "execution_count": 192,
   "metadata": {
    "colab": {
     "base_uri": "https://localhost:8080/",
     "height": 497
    },
    "id": "Rhr2gnY2lc9h",
    "outputId": "81fcdbac-f33f-4fdb-df9f-c5137930ba9a"
   },
   "outputs": [
    {
     "data": {
      "text/plain": [
       "<matplotlib.axes._subplots.AxesSubplot at 0x7f22401d2d90>"
      ]
     },
     "execution_count": 192,
     "metadata": {},
     "output_type": "execute_result"
    },
    {
     "data": {
      "image/png": "[encoded data removed]",
      "text/plain": [
       "<Figure size 720x576 with 1 Axes>"
      ]
     },
     "metadata": {
      "needs_background": "light"
     },
     "output_type": "display_data"
    }
   ],
   "source": [
    "plt.figure(figsize=(10,8))\n",
    "ssd_reviews_df['rating_stars'].value_counts().sort_values(ascending=False).plot(kind='bar')"
   ]
  },
  {
   "cell_type": "markdown",
   "metadata": {
    "id": "8shpnORxK5JZ"
   },
   "source": [
    "# **Observations:**\n",
    "\n",
    "- There are totally 1756 reviews for ratings --> 5\n",
    "- Rating 2 has minimal reviews as only 60.\n",
    "- MOst of them has reviewed the product with highest ratings."
   ]
  },
  {
   "cell_type": "markdown",
   "metadata": {
    "id": "ZL_BQlb5mE4O"
   },
   "source": [
    "### 4.3 Let's analyze other features like year, month, and day etc.\n",
    "#### Check value counts of 'year' and write your observations., Comment on the range of years, frequency of ratings in each year."
   ]
  },
  {
   "cell_type": "code",
   "execution_count": 193,
   "metadata": {
    "colab": {
     "base_uri": "https://localhost:8080/",
     "height": 516
    },
    "id": "YAtEigKEmM-Z",
    "outputId": "cabadd7d-fef6-4d4d-c0d4-094d418e59ea"
   },
   "outputs": [
    {
     "data": {
      "text/plain": [
       "<matplotlib.axes._subplots.AxesSubplot at 0x7f2241dd37d0>"
      ]
     },
     "execution_count": 193,
     "metadata": {},
     "output_type": "execute_result"
    },
    {
     "data": {
      "image/png": "[encoded data removed]",
      "text/plain": [
       "<Figure size 720x576 with 1 Axes>"
      ]
     },
     "metadata": {
      "needs_background": "light"
     },
     "output_type": "display_data"
    }
   ],
   "source": [
    "plt.figure(figsize=(10,8))\n",
    "ssd_reviews_df['year'].value_counts().sort_values(ascending=False).plot(kind='bar')"
   ]
  },
  {
   "cell_type": "markdown",
   "metadata": {
    "id": "ruhoDJ-yUYU8"
   },
   "source": [
    "# **Observations:**\n",
    "\n",
    "- Looks like this product has been launched on 2014 but best sale of this product happened on 2015.\n",
    "- ~1000 reviews on 2015.\n",
    "- Product lost its fame after 2015 and on 2019 we can infer there are minimal customers bought this product or some other product should be the best in the market."
   ]
  },
  {
   "cell_type": "markdown",
   "metadata": {
    "id": "M-pWwPhRmsAz"
   },
   "source": [
    "#### Check mean rating for each year and write your findings"
   ]
  },
  {
   "cell_type": "code",
   "execution_count": 194,
   "metadata": {
    "colab": {
     "base_uri": "https://localhost:8080/"
    },
    "id": "sqWWhlLemwG8",
    "outputId": "875f37e2-a8ff-4dba-9bc7-051ee22f85ee"
   },
   "outputs": [
    {
     "data": {
      "text/plain": [
       "year\n",
       "2014   4.9230769\n",
       "2015   4.4582505\n",
       "2016   4.5900826\n",
       "2017   4.5108108\n",
       "2018   4.3475936\n",
       "2019   4.3478261\n",
       "Name: rating_stars, dtype: float64"
      ]
     },
     "execution_count": 194,
     "metadata": {},
     "output_type": "execute_result"
    }
   ],
   "source": [
    "ssd_reviews_df.groupby('year')['rating_stars'].mean()"
   ]
  },
  {
   "cell_type": "markdown",
   "metadata": {
    "id": "UwxPIYLnd8NC"
   },
   "source": [
    "# **Observations:**\n",
    "\n",
    "- Eventhough the product was first launched on 2014 had a \n",
    "highest ratings as 4.92.\n",
    "\n",
    "- We can see the rating went low on 2018 and 2019."
   ]
  },
  {
   "cell_type": "markdown",
   "metadata": {
    "id": "enoYYTDunPsT"
   },
   "source": [
    "\n",
    "#### Check value counts of 'month' and write your observations. Comment on the frequency of ratings and discuss if the rating count and mean rating is higher/low on certain months."
   ]
  },
  {
   "cell_type": "code",
   "execution_count": 195,
   "metadata": {
    "colab": {
     "base_uri": "https://localhost:8080/",
     "height": 504
    },
    "id": "T0yhG8s1pTZD",
    "outputId": "3b86b467-6596-4a0f-8eae-afe653b8e7da"
   },
   "outputs": [
    {
     "data": {
      "text/plain": [
       "<matplotlib.axes._subplots.AxesSubplot at 0x7f22401c88d0>"
      ]
     },
     "execution_count": 195,
     "metadata": {},
     "output_type": "execute_result"
    },
    {
     "data": {
      "image/png": "[encoded data removed]",
      "text/plain": [
       "<Figure size 720x576 with 1 Axes>"
      ]
     },
     "metadata": {
      "needs_background": "light"
     },
     "output_type": "display_data"
    }
   ],
   "source": [
    "plt.figure(figsize=(10,8))\n",
    "ssd_reviews_df['month'].value_counts().sort_values(ascending=False).plot(kind='bar')"
   ]
  },
  {
   "cell_type": "code",
   "execution_count": 196,
   "metadata": {
    "colab": {
     "base_uri": "https://localhost:8080/"
    },
    "id": "2W77ZPWsRQZQ",
    "outputId": "3147e4b3-d3ad-4cef-d3a7-461ba0ad65ec"
   },
   "outputs": [
    {
     "data": {
      "text/plain": [
       "month\n",
       "1    4.6425339\n",
       "2    4.4058577\n",
       "3    4.6111111\n",
       "4    4.4195122\n",
       "5    4.4493671\n",
       "6    4.5571429\n",
       "7    4.7638889\n",
       "8    4.4789916\n",
       "9    4.5414013\n",
       "10   4.3049645\n",
       "11   4.4607330\n",
       "12   4.3597122\n",
       "Name: rating_stars, dtype: float64"
      ]
     },
     "execution_count": 196,
     "metadata": {},
     "output_type": "execute_result"
    }
   ],
   "source": [
    "ssd_reviews_df.groupby('month')['rating_stars'].mean()"
   ]
  },
  {
   "cell_type": "markdown",
   "metadata": {
    "id": "Jf1H_wJSgrin"
   },
   "source": [
    "# **Observations:**\n",
    "- Most reviews happened on Dec across all the years.\n",
    "- Least reviews happened on August.\n",
    "- Eventhough December has recorded the most reviews the ratings given by the customer is below par which is about 4.35\n",
    "- Ratings on July month has highest ratings as 4.76\n",
    "- Least review August month has average rating of 4.47"
   ]
  },
  {
   "cell_type": "markdown",
   "metadata": {
    "id": "lWofLqeJpTtI"
   },
   "source": [
    "### 4.4 Combine text features\n",
    "#### Drop all the numerical features ['Unnamed: 0','date', 'year', 'month', 'day', 'ownership_pariod'] and ['rating_stars']"
   ]
  },
  {
   "cell_type": "code",
   "execution_count": 197,
   "metadata": {
    "id": "8VAMgNJkqn0h"
   },
   "outputs": [],
   "source": [
    "drop_ssd_reviews_df = ssd_reviews_df.drop(columns=['Unnamed: 0','date', 'year', 'month', 'day', 'ownership_pariod','rating_stars'],axis=1)"
   ]
  },
  {
   "cell_type": "code",
   "execution_count": 198,
   "metadata": {
    "colab": {
     "base_uri": "https://localhost:8080/",
     "height": 112
    },
    "id": "7JYCBRfBSzol",
    "outputId": "182d952a-db01-43e3-f4e1-bce5f071c668"
   },
   "outputs": [
    {
     "data": {
      "text/html": [
       "<div>\n",
       "<style scoped>\n",
       "    .dataframe tbody tr th:only-of-type {\n",
       "        vertical-align: middle;\n",
       "    }\n",
       "\n",
       "    .dataframe tbody tr th {\n",
       "        vertical-align: top;\n",
       "    }\n",
       "\n",
       "    .dataframe thead th {\n",
       "        text-align: right;\n",
       "    }\n",
       "</style>\n",
       "<table border=\"1\" class=\"dataframe\">\n",
       "  <thead>\n",
       "    <tr style=\"text-align: right;\">\n",
       "      <th></th>\n",
       "      <th>review_title</th>\n",
       "      <th>overall_review</th>\n",
       "      <th>pros</th>\n",
       "      <th>cons</th>\n",
       "    </tr>\n",
       "  </thead>\n",
       "  <tbody>\n",
       "    <tr>\n",
       "      <th>0</th>\n",
       "      <td>solid</td>\n",
       "      <td>buy it you will not regret this purchase</td>\n",
       "      <td>reliable fast silent cool running drive highly...</td>\n",
       "      <td>NaN</td>\n",
       "    </tr>\n",
       "    <tr>\n",
       "      <th>1</th>\n",
       "      <td>nice drive for price even cheaper by todays costs</td>\n",
       "      <td>good drive price</td>\n",
       "      <td>been running almost constantly since when i pu...</td>\n",
       "      <td>NaN</td>\n",
       "    </tr>\n",
       "  </tbody>\n",
       "</table>\n",
       "</div>"
      ],
      "text/plain": [
       "                                        review_title  \\\n",
       "0                                              solid   \n",
       "1  nice drive for price even cheaper by todays costs   \n",
       "\n",
       "                             overall_review  \\\n",
       "0  buy it you will not regret this purchase   \n",
       "1                          good drive price   \n",
       "\n",
       "                                                pros cons  \n",
       "0  reliable fast silent cool running drive highly...  NaN  \n",
       "1  been running almost constantly since when i pu...  NaN  "
      ]
     },
     "execution_count": 198,
     "metadata": {},
     "output_type": "execute_result"
    }
   ],
   "source": [
    "drop_ssd_reviews_df.head(2)"
   ]
  },
  {
   "cell_type": "markdown",
   "metadata": {
    "id": "HjRp0SgEqn9Z"
   },
   "source": [
    "#### Replace null values (NaN) with blanks"
   ]
  },
  {
   "cell_type": "code",
   "execution_count": 199,
   "metadata": {
    "colab": {
     "base_uri": "https://localhost:8080/"
    },
    "id": "CZr_sR_Tqs1x",
    "outputId": "56b2c623-55f8-46da-c4fb-03e404656dec"
   },
   "outputs": [
    {
     "data": {
      "text/plain": [
       "review_title      0\n",
       "overall_review    0\n",
       "pros              0\n",
       "cons              0\n",
       "dtype: int64"
      ]
     },
     "execution_count": 199,
     "metadata": {},
     "output_type": "execute_result"
    }
   ],
   "source": [
    "drop_ssd_reviews_df.fillna(\" \",inplace=True)\n",
    "drop_ssd_reviews_df.isna().sum()"
   ]
  },
  {
   "cell_type": "code",
   "execution_count": 200,
   "metadata": {
    "colab": {
     "base_uri": "https://localhost:8080/",
     "height": 112
    },
    "id": "m679HEO2UU-q",
    "outputId": "be9bf412-ef89-4ff7-e2af-40bd234d4414"
   },
   "outputs": [
    {
     "data": {
      "text/html": [
       "<div>\n",
       "<style scoped>\n",
       "    .dataframe tbody tr th:only-of-type {\n",
       "        vertical-align: middle;\n",
       "    }\n",
       "\n",
       "    .dataframe tbody tr th {\n",
       "        vertical-align: top;\n",
       "    }\n",
       "\n",
       "    .dataframe thead th {\n",
       "        text-align: right;\n",
       "    }\n",
       "</style>\n",
       "<table border=\"1\" class=\"dataframe\">\n",
       "  <thead>\n",
       "    <tr style=\"text-align: right;\">\n",
       "      <th></th>\n",
       "      <th>review_title</th>\n",
       "      <th>overall_review</th>\n",
       "      <th>pros</th>\n",
       "      <th>cons</th>\n",
       "    </tr>\n",
       "  </thead>\n",
       "  <tbody>\n",
       "    <tr>\n",
       "      <th>0</th>\n",
       "      <td>solid</td>\n",
       "      <td>buy it you will not regret this purchase</td>\n",
       "      <td>reliable fast silent cool running drive highly...</td>\n",
       "      <td></td>\n",
       "    </tr>\n",
       "    <tr>\n",
       "      <th>1</th>\n",
       "      <td>nice drive for price even cheaper by todays costs</td>\n",
       "      <td>good drive price</td>\n",
       "      <td>been running almost constantly since when i pu...</td>\n",
       "      <td></td>\n",
       "    </tr>\n",
       "  </tbody>\n",
       "</table>\n",
       "</div>"
      ],
      "text/plain": [
       "                                        review_title  \\\n",
       "0                                              solid   \n",
       "1  nice drive for price even cheaper by todays costs   \n",
       "\n",
       "                             overall_review  \\\n",
       "0  buy it you will not regret this purchase   \n",
       "1                          good drive price   \n",
       "\n",
       "                                                pros cons  \n",
       "0  reliable fast silent cool running drive highly...       \n",
       "1  been running almost constantly since when i pu...       "
      ]
     },
     "execution_count": 200,
     "metadata": {},
     "output_type": "execute_result"
    }
   ],
   "source": [
    "drop_ssd_reviews_df.head(2)"
   ]
  },
  {
   "cell_type": "markdown",
   "metadata": {
    "id": "ykjSdW1tqs-z"
   },
   "source": [
    "#### Join all text items in a row that have a space in between and Add a new column (with the newly created combined reviews) to the dataframe."
   ]
  },
  {
   "cell_type": "code",
   "execution_count": 201,
   "metadata": {
    "id": "9fJpSb-ZuSTr"
   },
   "outputs": [],
   "source": [
    "data_transfer=drop_ssd_reviews_df.apply(lambda x : \" \".join(x),axis=1)"
   ]
  },
  {
   "cell_type": "code",
   "execution_count": 202,
   "metadata": {
    "colab": {
     "base_uri": "https://localhost:8080/"
    },
    "id": "0VHzRd1gq1lY",
    "outputId": "9ca3de6d-1660-476b-b689-a3607ec9f14c"
   },
   "outputs": [
    {
     "data": {
      "text/plain": [
       "0    solid buy it you will not regret this purchase...\n",
       "1    nice drive for price even cheaper by todays co...\n",
       "2    perfect used this drive as my boot drive and o...\n",
       "3    very snappy os boots quicker os menus pop up q...\n",
       "4    worth the hype this was the sdd that everyone ...\n",
       "dtype: object"
      ]
     },
     "execution_count": 202,
     "metadata": {},
     "output_type": "execute_result"
    }
   ],
   "source": [
    "data_transfer.head(5)"
   ]
  },
  {
   "cell_type": "code",
   "execution_count": 203,
   "metadata": {
    "id": "SpHN96zDWMIB"
   },
   "outputs": [],
   "source": [
    "text_data_df = pd.DataFrame(data_transfer,columns=['Combined_reviews'])"
   ]
  },
  {
   "cell_type": "code",
   "execution_count": 204,
   "metadata": {
    "colab": {
     "base_uri": "https://localhost:8080/",
     "height": 143
    },
    "id": "5b96QBN6WMOf",
    "outputId": "c39d1988-b030-4ada-c926-6f120ac9fb93"
   },
   "outputs": [
    {
     "data": {
      "text/html": [
       "<div>\n",
       "<style scoped>\n",
       "    .dataframe tbody tr th:only-of-type {\n",
       "        vertical-align: middle;\n",
       "    }\n",
       "\n",
       "    .dataframe tbody tr th {\n",
       "        vertical-align: top;\n",
       "    }\n",
       "\n",
       "    .dataframe thead th {\n",
       "        text-align: right;\n",
       "    }\n",
       "</style>\n",
       "<table border=\"1\" class=\"dataframe\">\n",
       "  <thead>\n",
       "    <tr style=\"text-align: right;\">\n",
       "      <th></th>\n",
       "      <th>Combined_reviews</th>\n",
       "    </tr>\n",
       "  </thead>\n",
       "  <tbody>\n",
       "    <tr>\n",
       "      <th>0</th>\n",
       "      <td>solid buy it you will not regret this purchase...</td>\n",
       "    </tr>\n",
       "    <tr>\n",
       "      <th>1</th>\n",
       "      <td>nice drive for price even cheaper by todays co...</td>\n",
       "    </tr>\n",
       "    <tr>\n",
       "      <th>2</th>\n",
       "      <td>perfect used this drive as my boot drive and o...</td>\n",
       "    </tr>\n",
       "  </tbody>\n",
       "</table>\n",
       "</div>"
      ],
      "text/plain": [
       "                                    Combined_reviews\n",
       "0  solid buy it you will not regret this purchase...\n",
       "1  nice drive for price even cheaper by todays co...\n",
       "2  perfect used this drive as my boot drive and o..."
      ]
     },
     "execution_count": 204,
     "metadata": {},
     "output_type": "execute_result"
    }
   ],
   "source": [
    "text_data_df.head(3)"
   ]
  },
  {
   "cell_type": "code",
   "execution_count": 205,
   "metadata": {
    "id": "ETGKQRteWMUY"
   },
   "outputs": [],
   "source": [
    "text_data_df['rating_stars'] = ssd_reviews_df['rating_stars']"
   ]
  },
  {
   "cell_type": "code",
   "execution_count": 206,
   "metadata": {
    "colab": {
     "base_uri": "https://localhost:8080/",
     "height": 143
    },
    "id": "ZZ0P1O7TW72h",
    "outputId": "f5e972c4-0635-4f85-9c86-705b72a75cd7"
   },
   "outputs": [
    {
     "data": {
      "text/html": [
       "<div>\n",
       "<style scoped>\n",
       "    .dataframe tbody tr th:only-of-type {\n",
       "        vertical-align: middle;\n",
       "    }\n",
       "\n",
       "    .dataframe tbody tr th {\n",
       "        vertical-align: top;\n",
       "    }\n",
       "\n",
       "    .dataframe thead th {\n",
       "        text-align: right;\n",
       "    }\n",
       "</style>\n",
       "<table border=\"1\" class=\"dataframe\">\n",
       "  <thead>\n",
       "    <tr style=\"text-align: right;\">\n",
       "      <th></th>\n",
       "      <th>Combined_reviews</th>\n",
       "      <th>rating_stars</th>\n",
       "    </tr>\n",
       "  </thead>\n",
       "  <tbody>\n",
       "    <tr>\n",
       "      <th>0</th>\n",
       "      <td>solid buy it you will not regret this purchase...</td>\n",
       "      <td>5</td>\n",
       "    </tr>\n",
       "    <tr>\n",
       "      <th>1</th>\n",
       "      <td>nice drive for price even cheaper by todays co...</td>\n",
       "      <td>5</td>\n",
       "    </tr>\n",
       "    <tr>\n",
       "      <th>2</th>\n",
       "      <td>perfect used this drive as my boot drive and o...</td>\n",
       "      <td>5</td>\n",
       "    </tr>\n",
       "  </tbody>\n",
       "</table>\n",
       "</div>"
      ],
      "text/plain": [
       "                                    Combined_reviews  rating_stars\n",
       "0  solid buy it you will not regret this purchase...             5\n",
       "1  nice drive for price even cheaper by todays co...             5\n",
       "2  perfect used this drive as my boot drive and o...             5"
      ]
     },
     "execution_count": 206,
     "metadata": {},
     "output_type": "execute_result"
    }
   ],
   "source": [
    "text_data_df.head(3)"
   ]
  },
  {
   "cell_type": "markdown",
   "metadata": {
    "id": "QLnNIq2iJQBn"
   },
   "source": [
    "#### Check if there are any null values and drop NaN values if any"
   ]
  },
  {
   "cell_type": "code",
   "execution_count": 207,
   "metadata": {
    "colab": {
     "base_uri": "https://localhost:8080/"
    },
    "id": "QOf3hTpcszKC",
    "outputId": "ca9c6b24-f2c6-4be7-f32a-d0d1bd51929f"
   },
   "outputs": [
    {
     "data": {
      "text/plain": [
       "Combined_reviews    0\n",
       "rating_stars        0\n",
       "dtype: int64"
      ]
     },
     "execution_count": 207,
     "metadata": {},
     "output_type": "execute_result"
    }
   ],
   "source": [
    "text_data_df.isnull().sum()"
   ]
  },
  {
   "cell_type": "markdown",
   "metadata": {
    "id": "qS5NmyvzHMws"
   },
   "source": [
    "#### Calculate the length of each review and add it to the dataframe"
   ]
  },
  {
   "cell_type": "code",
   "execution_count": 208,
   "metadata": {
    "id": "TdMWM0jBHNzO"
   },
   "outputs": [],
   "source": [
    "text_data_df['review_length']= text_data_df['Combined_reviews'].apply(lambda x : len(x.split(\" \")))"
   ]
  },
  {
   "cell_type": "code",
   "execution_count": 209,
   "metadata": {
    "colab": {
     "base_uri": "https://localhost:8080/",
     "height": 206
    },
    "id": "_DkxLFlWXV0O",
    "outputId": "c54948b0-acee-4dee-86be-0ef6e97c6a16"
   },
   "outputs": [
    {
     "data": {
      "text/html": [
       "<div>\n",
       "<style scoped>\n",
       "    .dataframe tbody tr th:only-of-type {\n",
       "        vertical-align: middle;\n",
       "    }\n",
       "\n",
       "    .dataframe tbody tr th {\n",
       "        vertical-align: top;\n",
       "    }\n",
       "\n",
       "    .dataframe thead th {\n",
       "        text-align: right;\n",
       "    }\n",
       "</style>\n",
       "<table border=\"1\" class=\"dataframe\">\n",
       "  <thead>\n",
       "    <tr style=\"text-align: right;\">\n",
       "      <th></th>\n",
       "      <th>Combined_reviews</th>\n",
       "      <th>rating_stars</th>\n",
       "      <th>review_length</th>\n",
       "    </tr>\n",
       "  </thead>\n",
       "  <tbody>\n",
       "    <tr>\n",
       "      <th>0</th>\n",
       "      <td>solid buy it you will not regret this purchase...</td>\n",
       "      <td>5</td>\n",
       "      <td>19</td>\n",
       "    </tr>\n",
       "    <tr>\n",
       "      <th>1</th>\n",
       "      <td>nice drive for price even cheaper by todays co...</td>\n",
       "      <td>5</td>\n",
       "      <td>42</td>\n",
       "    </tr>\n",
       "    <tr>\n",
       "      <th>2</th>\n",
       "      <td>perfect used this drive as my boot drive and o...</td>\n",
       "      <td>5</td>\n",
       "      <td>65</td>\n",
       "    </tr>\n",
       "    <tr>\n",
       "      <th>3</th>\n",
       "      <td>very snappy os boots quicker os menus pop up q...</td>\n",
       "      <td>5</td>\n",
       "      <td>42</td>\n",
       "    </tr>\n",
       "    <tr>\n",
       "      <th>4</th>\n",
       "      <td>worth the hype this was the sdd that everyone ...</td>\n",
       "      <td>5</td>\n",
       "      <td>32</td>\n",
       "    </tr>\n",
       "  </tbody>\n",
       "</table>\n",
       "</div>"
      ],
      "text/plain": [
       "                                    Combined_reviews  rating_stars  \\\n",
       "0  solid buy it you will not regret this purchase...             5   \n",
       "1  nice drive for price even cheaper by todays co...             5   \n",
       "2  perfect used this drive as my boot drive and o...             5   \n",
       "3  very snappy os boots quicker os menus pop up q...             5   \n",
       "4  worth the hype this was the sdd that everyone ...             5   \n",
       "\n",
       "   review_length  \n",
       "0             19  \n",
       "1             42  \n",
       "2             65  \n",
       "3             42  \n",
       "4             32  "
      ]
     },
     "execution_count": 209,
     "metadata": {},
     "output_type": "execute_result"
    }
   ],
   "source": [
    "text_data_df.head(5)"
   ]
  },
  {
   "cell_type": "markdown",
   "metadata": {
    "id": "8FyfpsW4uNN-"
   },
   "source": [
    "#### Check summary stats of the length column"
   ]
  },
  {
   "cell_type": "code",
   "execution_count": 210,
   "metadata": {
    "colab": {
     "base_uri": "https://localhost:8080/"
    },
    "id": "cMEp309bHPSm",
    "outputId": "bf64489c-b8b2-4dcb-8040-8c68ef5e6229"
   },
   "outputs": [
    {
     "data": {
      "text/plain": [
       "count   2227.0000000\n",
       "mean      85.2752582\n",
       "std       87.3063671\n",
       "min        6.0000000\n",
       "25%       31.0000000\n",
       "50%       60.0000000\n",
       "75%      109.0000000\n",
       "max     1615.0000000\n",
       "Name: review_length, dtype: float64"
      ]
     },
     "execution_count": 210,
     "metadata": {},
     "output_type": "execute_result"
    }
   ],
   "source": [
    "text_data_df['review_length'].describe()"
   ]
  },
  {
   "cell_type": "markdown",
   "metadata": {
    "id": "JtFWZfZjJSJY"
   },
   "source": [
    "### 4.5 Analyzing and preparing the text data\n"
   ]
  },
  {
   "cell_type": "markdown",
   "metadata": {
    "id": "FL0mW8oPJVyq"
   },
   "source": [
    "#### Set the max length of each review to 25 since it results in faster training (however, you are free to change this)\n",
    "#### Set max_features to 10000 and embedding size to 50"
   ]
  },
  {
   "cell_type": "code",
   "execution_count": 211,
   "metadata": {
    "id": "T7Ma4u3kSOD3"
   },
   "outputs": [],
   "source": [
    "max_features = 10000\n",
    "maxlen = 25\n",
    "embedding_size = 50"
   ]
  },
  {
   "cell_type": "markdown",
   "metadata": {
    "id": "qph71mXtJyWM"
   },
   "source": [
    "#### Tokenize the cobined text data. You can use the Tokenizer from tensorflow.keras.preprocessing.text. Check the number of samples post tokenization."
   ]
  },
  {
   "cell_type": "code",
   "execution_count": 212,
   "metadata": {
    "id": "hvn5Bssu6MoQ"
   },
   "outputs": [],
   "source": [
    "from tensorflow.keras.preprocessing.text import Tokenizer"
   ]
  },
  {
   "cell_type": "code",
   "execution_count": 213,
   "metadata": {
    "id": "A3QE6Y6RblRR"
   },
   "outputs": [],
   "source": [
    "tokenizer = Tokenizer(num_words=max_features)\n",
    "tokenizer.fit_on_texts(list(text_data_df['Combined_reviews']))\n",
    "x = tokenizer.texts_to_sequences(text_data_df['Combined_reviews'])"
   ]
  },
  {
   "cell_type": "code",
   "execution_count": 214,
   "metadata": {
    "colab": {
     "base_uri": "https://localhost:8080/"
    },
    "id": "V7beG-nJblT-",
    "outputId": "02918a22-d319-4dd6-e633-4f89cdc0fe10"
   },
   "outputs": [
    {
     "data": {
      "text/plain": [
       "2227"
      ]
     },
     "execution_count": 214,
     "metadata": {},
     "output_type": "execute_result"
    }
   ],
   "source": [
    "len(x)"
   ]
  },
  {
   "cell_type": "code",
   "execution_count": 215,
   "metadata": {
    "colab": {
     "base_uri": "https://localhost:8080/"
    },
    "id": "_SJywBpaf6V7",
    "outputId": "fe1afbf3-4a77-42d0-8843-7be99ead9673"
   },
   "outputs": [
    {
     "name": "stdout",
     "output_type": "stream",
     "text": [
      "17\n",
      "40\n",
      "65\n"
     ]
    }
   ],
   "source": [
    "print(len(x[0]))\n",
    "print(len(x[1]))\n",
    "print(len(x[2]))"
   ]
  },
  {
   "cell_type": "markdown",
   "metadata": {
    "id": "HXy2gZrkJ0f_"
   },
   "source": [
    "#### Pad the above tokenized reviews data save it as independent features. Use max_len for the same."
   ]
  },
  {
   "cell_type": "code",
   "execution_count": 216,
   "metadata": {
    "id": "mV-KtcR06OAr"
   },
   "outputs": [],
   "source": [
    "from tensorflow.keras.preprocessing.sequence import pad_sequences "
   ]
  },
  {
   "cell_type": "code",
   "execution_count": 217,
   "metadata": {
    "id": "pf6LCirfftCH"
   },
   "outputs": [],
   "source": [
    "x = pad_sequences(x,maxlen=maxlen)"
   ]
  },
  {
   "cell_type": "code",
   "execution_count": 218,
   "metadata": {
    "id": "VmrspWhGghqQ"
   },
   "outputs": [],
   "source": [
    "y = np.asarray(text_data_df['rating_stars'])"
   ]
  },
  {
   "cell_type": "code",
   "execution_count": 219,
   "metadata": {
    "colab": {
     "base_uri": "https://localhost:8080/"
    },
    "id": "rmwTXJH2gEkJ",
    "outputId": "b37070bf-ed93-40b5-f085-ad38eed90ac8"
   },
   "outputs": [
    {
     "name": "stdout",
     "output_type": "stream",
     "text": [
      "25\n",
      "25\n",
      "25\n",
      "2227\n"
     ]
    }
   ],
   "source": [
    "print(len(x[0]))\n",
    "print(len(x[1]))\n",
    "print(len(x[2]))\n",
    "print(len(y))"
   ]
  },
  {
   "cell_type": "markdown",
   "metadata": {
    "id": "XVT7dRRUHsgR"
   },
   "source": [
    "#### Check the shape of X (padded tokenized review data) and y (rating_stars) data."
   ]
  },
  {
   "cell_type": "code",
   "execution_count": 220,
   "metadata": {
    "colab": {
     "base_uri": "https://localhost:8080/"
    },
    "id": "SXc3DOi9Hz6O",
    "outputId": "8cff670f-5e50-4501-b390-1ad7912ea05c"
   },
   "outputs": [
    {
     "name": "stdout",
     "output_type": "stream",
     "text": [
      "(2227, 25)\n",
      "(2227,)\n"
     ]
    }
   ],
   "source": [
    "print(x.shape)\n",
    "print(y.shape)"
   ]
  },
  {
   "cell_type": "markdown",
   "metadata": {
    "id": "A5GlWwKnJ7ie"
   },
   "source": [
    "#### Check the total number of words in the dictionary (of tekenizer)"
   ]
  },
  {
   "cell_type": "code",
   "execution_count": 221,
   "metadata": {
    "colab": {
     "base_uri": "https://localhost:8080/"
    },
    "id": "oR0W8MdX6V3A",
    "outputId": "5b0a9dd6-6b79-40c6-ccba-e7c135e0f8ee"
   },
   "outputs": [
    {
     "name": "stdout",
     "output_type": "stream",
     "text": [
      "8839\n"
     ]
    }
   ],
   "source": [
    "num_words = len(tokenizer.word_index)+1\n",
    "print(num_words)"
   ]
  },
  {
   "cell_type": "markdown",
   "metadata": {
    "id": "RKa3eYLDJ_yO"
   },
   "source": [
    "### 4.6 Compute the glove embeddings. Use the provided txt file for the same."
   ]
  },
  {
   "cell_type": "markdown",
   "metadata": {
    "id": "WNwPD9EmIbMt"
   },
   "source": [
    "#### Read the glove embeddings from the file provided titled ‘glove.6B.50d.txt’. And save it to a dictotionary having word and corresponding embedding vector."
   ]
  },
  {
   "cell_type": "code",
   "execution_count": 222,
   "metadata": {
    "id": "MkHxjmucoXO4"
   },
   "outputs": [],
   "source": [
    "embedding_file = '/content/drive/My Drive/Colab Notebooks/Sequential_NLP/Lab/glove.6B.50d.txt'"
   ]
  },
  {
   "cell_type": "code",
   "execution_count": 223,
   "metadata": {
    "id": "bNd9ZFjuIp3g"
   },
   "outputs": [],
   "source": [
    "embeddings ={}\n",
    "\n",
    "for o in open(embedding_file):\n",
    "  word = o.split(\" \")[0]\n",
    "  embd = o.split(\" \")[1:]\n",
    "  embd = np.asarray(embd,dtype='float32')\n",
    "  embeddings[word]=embd"
   ]
  },
  {
   "cell_type": "code",
   "execution_count": 227,
   "metadata": {
    "colab": {
     "base_uri": "https://localhost:8080/"
    },
    "id": "Fw9u7kfHorTi",
    "outputId": "d42a082a-0616-4f81-e557-fd28482d63e4"
   },
   "outputs": [
    {
     "data": {
      "text/plain": [
       "400000"
      ]
     },
     "execution_count": 227,
     "metadata": {},
     "output_type": "execute_result"
    }
   ],
   "source": [
    "len(embeddings)"
   ]
  },
  {
   "cell_type": "markdown",
   "metadata": {
    "id": "EuolWkfmIqCJ"
   },
   "source": [
    "#### Create a weight matrix for words in the training docs"
   ]
  },
  {
   "cell_type": "code",
   "execution_count": 228,
   "metadata": {
    "id": "BGHZ0nIaI0Ar"
   },
   "outputs": [],
   "source": [
    "embedding_matrix = np.zeros((num_words, 50))\n",
    "\n",
    "for word, i in tokenizer.word_index.items():\n",
    "  embedding_vector = embeddings.get(word)\n",
    "  if embedding_vector is not None:\n",
    "    embedding_matrix[i] = embedding_vector "
   ]
  },
  {
   "cell_type": "markdown",
   "metadata": {
    "id": "-DdpiQZ9_Fiq"
   },
   "source": [
    "#### Check length of the embedding"
   ]
  },
  {
   "cell_type": "code",
   "execution_count": 229,
   "metadata": {
    "colab": {
     "base_uri": "https://localhost:8080/"
    },
    "id": "8bcs-LtYILlO",
    "outputId": "8583decb-72c2-4184-fab5-98bb19d66dac"
   },
   "outputs": [
    {
     "data": {
      "text/plain": [
       "400000"
      ]
     },
     "execution_count": 229,
     "metadata": {},
     "output_type": "execute_result"
    }
   ],
   "source": [
    "len(embeddings)"
   ]
  },
  {
   "cell_type": "markdown",
   "metadata": {
    "id": "xVPf3X5MKGpm"
   },
   "source": [
    "### 4.7 Target Feature:- One hot encode the target variable (rating_stars)"
   ]
  },
  {
   "cell_type": "code",
   "execution_count": 230,
   "metadata": {
    "id": "SwmkAdIK2aGI"
   },
   "outputs": [],
   "source": [
    "from sklearn.preprocessing import LabelEncoder\n",
    "\n",
    "label_encoder = LabelEncoder()\n",
    "y_label = label_encoder.fit_transform(y)"
   ]
  },
  {
   "cell_type": "code",
   "execution_count": 231,
   "metadata": {
    "id": "7PVDBmkjJC4n"
   },
   "outputs": [],
   "source": [
    "from tensorflow.keras.utils import to_categorical\n",
    "\n",
    "y_enc = to_categorical(y_label,num_classes=5)"
   ]
  },
  {
   "cell_type": "code",
   "execution_count": 232,
   "metadata": {
    "colab": {
     "base_uri": "https://localhost:8080/"
    },
    "id": "rqgoQtKbsWj1",
    "outputId": "935490ed-b822-4b97-ea15-9a4f5077f494"
   },
   "outputs": [
    {
     "data": {
      "text/plain": [
       "array([[0., 0., 0., 0., 1.],\n",
       "       [0., 0., 0., 0., 1.],\n",
       "       [0., 0., 0., 0., 1.],\n",
       "       ...,\n",
       "       [0., 0., 0., 0., 1.],\n",
       "       [0., 0., 0., 0., 1.],\n",
       "       [0., 0., 0., 0., 1.]], dtype=float32)"
      ]
     },
     "execution_count": 232,
     "metadata": {},
     "output_type": "execute_result"
    }
   ],
   "source": [
    "y_enc"
   ]
  },
  {
   "cell_type": "markdown",
   "metadata": {
    "id": "5dqPXETLKN0h"
   },
   "source": [
    "### 4.8 Split the data into Train & Test sets"
   ]
  },
  {
   "cell_type": "code",
   "execution_count": 233,
   "metadata": {
    "id": "FFJ1oEUmJEEW"
   },
   "outputs": [],
   "source": [
    "from sklearn.model_selection import train_test_split\n",
    "X_train,X_test,Y_train,Y_test = train_test_split(x,y_enc,test_size = 0.30,random_state =50,stratify=y_enc)"
   ]
  },
  {
   "cell_type": "markdown",
   "metadata": {
    "id": "rhD1a-beKvE7"
   },
   "source": [
    "## 5. Model building"
   ]
  },
  {
   "cell_type": "markdown",
   "metadata": {
    "id": "bRmxklYnKvxk"
   },
   "source": [
    "### 5.1 Construct a neural network architecture using embedding and LSTM layers for building the rating prediction model.\n",
    "- Use the num_words, embedding_size from the above tokenizer and embeddings respectively\n",
    "- Use weights from the above embedding matrix\n",
    "- Use input length as the maxlen\n",
    "- Add LSTM layers"
   ]
  },
  {
   "cell_type": "code",
   "execution_count": 234,
   "metadata": {
    "id": "gSGsebsiNA78"
   },
   "outputs": [],
   "source": [
    "import tensorflow as tf\n",
    "from tensorflow.keras.models import Sequential\n",
    "from tensorflow.keras.layers import Embedding, Bidirectional, LSTM, Dense, Dropout, Flatten\n",
    "from functools import partial\n",
    "\n",
    "model = Sequential()\n",
    "\n",
    "model.add(Embedding(input_dim=num_words, \n",
    "                    output_dim=embedding_size, \n",
    "                    weights = [embedding_matrix], \n",
    "                    input_length=maxlen))\n",
    "\n",
    "model.add(LSTM(128, return_sequences = True))\n",
    "model.add(Flatten())\n",
    "model.add(Dense(512, activation='relu'))\n",
    "model.add(Dense(256, activation = 'relu'))\n",
    "model.add(Dense(128, activation = 'relu'))\n",
    "model.add(Dense(64, activation= 'relu'))\n",
    "model.add(Dropout(0.5))\n",
    "model.add(Dense(5, activation=\"softmax\"))"
   ]
  },
  {
   "cell_type": "markdown",
   "metadata": {
    "id": "iN0P-a6X_jAb"
   },
   "source": [
    "### 5.2 Compile the model using appropriate loss, optimizer, and accuracy metric"
   ]
  },
  {
   "cell_type": "code",
   "execution_count": 235,
   "metadata": {
    "id": "8Kyk9kPxNCMb"
   },
   "outputs": [],
   "source": [
    "model.compile(loss='categorical_crossentropy', optimizer='adam', metrics=['accuracy'])"
   ]
  },
  {
   "cell_type": "markdown",
   "metadata": {
    "id": "tIODqXJK_qrQ"
   },
   "source": [
    "### 5.3 Fit the model"
   ]
  },
  {
   "cell_type": "code",
   "execution_count": 236,
   "metadata": {
    "colab": {
     "base_uri": "https://localhost:8080/"
    },
    "id": "fEX-_bd2NDPW",
    "outputId": "c5917eb6-adab-45c7-fad0-7d2acc97bfaa"
   },
   "outputs": [
    {
     "name": "stdout",
     "output_type": "stream",
     "text": [
      "Epoch 1/20\n",
      "16/16 [==============================] - 2s 34ms/step - loss: 1.0444 - accuracy: 0.7208 - val_loss: 0.7838 - val_accuracy: 0.7892\n",
      "Epoch 2/20\n",
      "16/16 [==============================] - 0s 10ms/step - loss: 0.8041 - accuracy: 0.7869 - val_loss: 0.7826 - val_accuracy: 0.7892\n",
      "Epoch 3/20\n",
      "16/16 [==============================] - 0s 8ms/step - loss: 0.7274 - accuracy: 0.7882 - val_loss: 0.7098 - val_accuracy: 0.7892\n",
      "Epoch 4/20\n",
      "16/16 [==============================] - 0s 8ms/step - loss: 0.6524 - accuracy: 0.7882 - val_loss: 0.7157 - val_accuracy: 0.7892\n",
      "Epoch 5/20\n",
      "16/16 [==============================] - 0s 7ms/step - loss: 0.5764 - accuracy: 0.7920 - val_loss: 0.7153 - val_accuracy: 0.7907\n",
      "Epoch 6/20\n",
      "16/16 [==============================] - 0s 7ms/step - loss: 0.5114 - accuracy: 0.8132 - val_loss: 0.7360 - val_accuracy: 0.7877\n",
      "Epoch 7/20\n",
      "16/16 [==============================] - 0s 7ms/step - loss: 0.4310 - accuracy: 0.8415 - val_loss: 0.9227 - val_accuracy: 0.7623\n",
      "Epoch 8/20\n",
      "16/16 [==============================] - 0s 8ms/step - loss: 0.3598 - accuracy: 0.8646 - val_loss: 0.9425 - val_accuracy: 0.7623\n",
      "Epoch 9/20\n",
      "16/16 [==============================] - 0s 7ms/step - loss: 0.2708 - accuracy: 0.9063 - val_loss: 1.3023 - val_accuracy: 0.7668\n",
      "Epoch 10/20\n",
      "16/16 [==============================] - 0s 7ms/step - loss: 0.2179 - accuracy: 0.9268 - val_loss: 1.3144 - val_accuracy: 0.7728\n",
      "Epoch 11/20\n",
      "16/16 [==============================] - 0s 7ms/step - loss: 0.1362 - accuracy: 0.9589 - val_loss: 1.5677 - val_accuracy: 0.7922\n",
      "Epoch 12/20\n",
      "16/16 [==============================] - 0s 7ms/step - loss: 0.0911 - accuracy: 0.9737 - val_loss: 1.6319 - val_accuracy: 0.7713\n",
      "Epoch 13/20\n",
      "16/16 [==============================] - 0s 7ms/step - loss: 0.0500 - accuracy: 0.9846 - val_loss: 1.6893 - val_accuracy: 0.7698\n",
      "Epoch 14/20\n",
      "16/16 [==============================] - 0s 7ms/step - loss: 0.0456 - accuracy: 0.9891 - val_loss: 1.7366 - val_accuracy: 0.7758\n",
      "Epoch 15/20\n",
      "16/16 [==============================] - 0s 7ms/step - loss: 0.0184 - accuracy: 0.9961 - val_loss: 1.9512 - val_accuracy: 0.7728\n",
      "Epoch 16/20\n",
      "16/16 [==============================] - 0s 7ms/step - loss: 0.0102 - accuracy: 0.9981 - val_loss: 1.9188 - val_accuracy: 0.7549\n",
      "Epoch 17/20\n",
      "16/16 [==============================] - 0s 7ms/step - loss: 0.0135 - accuracy: 0.9961 - val_loss: 2.1542 - val_accuracy: 0.7250\n",
      "Epoch 18/20\n",
      "16/16 [==============================] - 0s 7ms/step - loss: 0.0217 - accuracy: 0.9949 - val_loss: 2.0435 - val_accuracy: 0.7429\n",
      "Epoch 19/20\n",
      "16/16 [==============================] - 0s 7ms/step - loss: 0.0152 - accuracy: 0.9949 - val_loss: 2.1635 - val_accuracy: 0.7593\n",
      "Epoch 20/20\n",
      "16/16 [==============================] - 0s 7ms/step - loss: 0.0170 - accuracy: 0.9961 - val_loss: 2.0826 - val_accuracy: 0.7623\n"
     ]
    }
   ],
   "source": [
    "batch_size = 100\n",
    "epochs = 20\n",
    "\n",
    "training_history = model.fit(X_train, Y_train, batch_size=batch_size, epochs=epochs, validation_data=(X_test, Y_test))"
   ]
  },
  {
   "cell_type": "markdown",
   "metadata": {
    "id": "1iakHzMFNDsz"
   },
   "source": [
    "### 5.4 Predict ratings for test data and check accuracy and confusion matrix"
   ]
  },
  {
   "cell_type": "code",
   "execution_count": 237,
   "metadata": {
    "id": "erNFghTpNK-j"
   },
   "outputs": [],
   "source": [
    "y_prediction = model.predict(X_test)"
   ]
  },
  {
   "cell_type": "code",
   "execution_count": 157,
   "metadata": {
    "colab": {
     "base_uri": "https://localhost:8080/"
    },
    "id": "oUJCzsKi7gps",
    "outputId": "7707aa5b-8e58-445c-a0e5-c0d72b744f44"
   },
   "outputs": [
    {
     "name": "stdout",
     "output_type": "stream",
     "text": [
      "Predicted Ratings review -  5\n",
      "Original Ratings review -  5\n",
      "Predicted Ratings review -  5\n",
      "Original Ratings review -  5\n",
      "Predicted Ratings review -  5\n",
      "Original Ratings review -  5\n"
     ]
    }
   ],
   "source": [
    "print(\"Predicted Ratings review - \",y_prediction[0].argmax()+1)\n",
    "print(\"Original Ratings review - \",Y_test[0].argmax()+1)\n",
    "print(\"Predicted Ratings review - \",y_prediction[101].argmax()+1)\n",
    "print(\"Original Ratings review - \",Y_test[101].argmax()+1)\n",
    "print(\"Predicted Ratings review - \",y_prediction[300].argmax()+1)\n",
    "print(\"Original Ratings review - \",Y_test[300].argmax()+1)"
   ]
  },
  {
   "cell_type": "code",
   "execution_count": 238,
   "metadata": {
    "colab": {
     "base_uri": "https://localhost:8080/"
    },
    "id": "G_hKfMH33i2m",
    "outputId": "078711d2-80a1-4453-a7fc-440f7caf41c0"
   },
   "outputs": [
    {
     "name": "stdout",
     "output_type": "stream",
     "text": [
      "21/21 [==============================] - 0s 3ms/step - loss: 2.0826 - accuracy: 0.7623\n"
     ]
    },
    {
     "data": {
      "text/plain": [
       "[2.0825634002685547, 0.7623318433761597]"
      ]
     },
     "execution_count": 238,
     "metadata": {},
     "output_type": "execute_result"
    }
   ],
   "source": [
    "model.evaluate(X_test, Y_test)"
   ]
  },
  {
   "cell_type": "code",
   "execution_count": 239,
   "metadata": {
    "colab": {
     "base_uri": "https://localhost:8080/"
    },
    "id": "quxt1Czz9p-H",
    "outputId": "7a01064f-309e-4c0b-d18d-d129ef1006e3"
   },
   "outputs": [
    {
     "name": "stdout",
     "output_type": "stream",
     "text": [
      "Test Accuracy :  0.7623318385650224\n"
     ]
    }
   ],
   "source": [
    "from sklearn.metrics import accuracy_score\n",
    "\n",
    "print(\"Test Accuracy : \",accuracy_score(np.argmax(Y_test,axis=1),np.argmax(y_prediction,axis=1)))"
   ]
  },
  {
   "cell_type": "code",
   "execution_count": 240,
   "metadata": {
    "colab": {
     "base_uri": "https://localhost:8080/"
    },
    "id": "bMqrNYIi-g9g",
    "outputId": "7127b8a0-3c40-40f5-8a75-1dfd801e92a3"
   },
   "outputs": [
    {
     "name": "stdout",
     "output_type": "stream",
     "text": [
      "[[ 19   3   0   9  15]\n",
      " [  1   2   0   2  13]\n",
      " [  3   1   1   7  11]\n",
      " [  3   0   1  16  34]\n",
      " [ 10   4   5  37 472]]\n"
     ]
    }
   ],
   "source": [
    "from sklearn.metrics import confusion_matrix\n",
    "\n",
    "print(confusion_matrix(np.argmax(Y_test,axis=1),np.argmax(y_prediction,axis=1)))"
   ]
  },
  {
   "cell_type": "code",
   "execution_count": 243,
   "metadata": {
    "colab": {
     "base_uri": "https://localhost:8080/"
    },
    "id": "glNaXRZqNLBN",
    "outputId": "a0e98fbc-4d25-44d4-e9a3-b09bcfeebbff"
   },
   "outputs": [
    {
     "name": "stdout",
     "output_type": "stream",
     "text": [
      "               precision    recall  f1-score   support\n",
      "\n",
      "Rating 1 Star       0.53      0.41      0.46        46\n",
      "Rating 2 Star       0.20      0.11      0.14        18\n",
      "Rating 3 Star       0.14      0.04      0.07        23\n",
      "Rating 4 Star       0.23      0.30      0.26        54\n",
      "Rating 5 Star       0.87      0.89      0.88       528\n",
      "\n",
      "     accuracy                           0.76       669\n",
      "    macro avg       0.39      0.35      0.36       669\n",
      " weighted avg       0.75      0.76      0.75       669\n",
      "\n"
     ]
    }
   ],
   "source": [
    "from sklearn.metrics import classification_report\n",
    "print(classification_report(np.argmax(Y_test,axis=1),np.argmax(y_prediction,axis=1),\n",
    "                            target_names =['Rating 1 Star', 'Rating 2 Star','Rating 3 Star','Rating 4 Star','Rating 5 Star']))"
   ]
  },
  {
   "cell_type": "markdown",
   "metadata": {
    "id": "lHyQA-RsNOXT"
   },
   "source": [
    "### 5.5 Display plot of training and validation loss/accuracy wrt to epochs"
   ]
  },
  {
   "cell_type": "code",
   "execution_count": 244,
   "metadata": {
    "colab": {
     "base_uri": "https://localhost:8080/",
     "height": 573
    },
    "id": "gC7Lb0eSNawO",
    "outputId": "842c2c1a-c613-493a-a7df-b92ff9ac48e8"
   },
   "outputs": [
    {
     "data": {
      "image/png": "[encoded data removed]",
      "text/plain": [
       "<Figure size 432x288 with 1 Axes>"
      ]
     },
     "metadata": {
      "needs_background": "light"
     },
     "output_type": "display_data"
    },
    {
     "data": {
      "image/png": "[encoded data removed]",
      "text/plain": [
       "<Figure size 432x288 with 1 Axes>"
      ]
     },
     "metadata": {
      "needs_background": "light"
     },
     "output_type": "display_data"
    }
   ],
   "source": [
    "plt.plot(training_history.history['accuracy'])  \n",
    "plt.plot(training_history.history['val_accuracy'])  \n",
    "plt.title('Accuracy')  \n",
    "plt.ylabel('accuracy')\n",
    "plt.xlabel('epoch')\n",
    "plt.legend(['train','validation'],loc='upper left')\n",
    "plt.show()\n",
    "\n",
    "\n",
    "plt.plot(training_history.history['loss'])  \n",
    "plt.plot(training_history.history['val_loss'])  \n",
    "plt.title('model loss')  \n",
    "plt.ylabel('loss')\n",
    "plt.xlabel('epoch')\n",
    "plt.legend(['train','validation'],loc='upper left')\n",
    "plt.show()"
   ]
  },
  {
   "cell_type": "markdown",
   "metadata": {
    "id": "Ey7an7ukLxWB"
   },
   "source": [
    "## 6. Conclusion and Interpretation"
   ]
  },
  {
   "cell_type": "markdown",
   "metadata": {
    "id": "SYKaiODjlv0O"
   },
   "source": [
    "# **Obervations:**\n",
    "\n",
    "- From the confusion Matrix, we can infer the below. \n",
    "\n",
    "|Total |Actual 1 |Actual 2| Actual 3 |Actual 4 |Actual as 5|\n",
    " | --- | --- | --- | --- | --- | --- |\n",
    " |Predicted rated as 1 | 19   |3   |0   |9  |15 |\n",
    " |Predicted rated as 2 |  1   |2   |0   |2  |13 |\n",
    " |Predicted rated as 3 |  3   |1   |1   |7  |11 |\n",
    " |Predicted rated as 4 |  3   |0   |1   |16 |34 |\n",
    " |Predicted rated as 5 |  10  |4   |5   |37 |472|\n",
    "\n",
    " - More ratings are predicted as 5 and also there is high number of actual ratings as 5.\n",
    "\n",
    " - Actually there are 36 rated as 1 Star but 46 reviews are predicted as 1 star. 53% precision as predicted as 1 star (=29/36). Among the 46 predicted 1 star rating, actual 1 star rating is (i.e) recall is about 41% (=19/46).\n",
    "\n",
    " - Actually there are 10 reviews rated as 2 star but 18 predicted as 2 star ratings. 20% precision are predicted as 2 star(=2/10).Among the 18 predicted 2 star ratings, actal 2 star ratings are about 11%(2/18).\n",
    "\n",
    " - Actually there are 7 rated as 3 Star but 23 predicted as 3 star ratings. 14% precision as predicted as 3 star(1/7). Among the 23 predicted as 3 star ratings, actual 3 star ratings are about 4%(=1/23).\n",
    "\n",
    " - Actually there are 71 reviews are rated as 4 star but 54 predicted as 4 star ratings. 23% precision are predicted as 4 star(16/71). Among the 54 predicted as 4 star ratings, actual 4 star ratings are about 30%(=16/54).\n",
    "\n",
    " - Actually there are 545 rated as 5 star but 528 predicted with 5 star ratings. 87% precision as predicted as 5 star(=472/545). Among the 528 predicted as 5 star ratings, actual 5 star ratings are about 89%(=472/528). \n",
    "\n",
    " - The model shows that the accuracy varies huge for the training and the Validation accuracy.\n",
    "\n",
    " - Training Loss decends and Validation loss increases which shows this model is not a fit model."
   ]
  },
  {
   "cell_type": "markdown",
   "metadata": {
    "id": "9nwOCcvqxVCH"
   },
   "source": [
    "## 7. Food for thought:\n",
    "\n",
    "1.) Change activation function (try leaky_relu or tanh) and see if it helps in improving model performance with the dataset that is highly imbalanced\n",
    "\n",
    "2.) Try with only the overall review feature and see if it leads to improvement in model performace\n",
    "\n",
    "3.) Change the hyperparameters of the model and compare the results "
   ]
  },
  {
   "cell_type": "code",
   "execution_count": 245,
   "metadata": {
    "colab": {
     "base_uri": "https://localhost:8080/"
    },
    "id": "VCylm4X8Nfik",
    "outputId": "79c53330-e638-43da-9fdf-33a47bdf9ab6"
   },
   "outputs": [
    {
     "name": "stdout",
     "output_type": "stream",
     "text": [
      "WARNING:tensorflow:Layer lstm_10 will not use cuDNN kernels since it doesn't meet the criteria. It will use a generic GPU kernel as fallback when running on GPU.\n"
     ]
    }
   ],
   "source": [
    "model_2 = Sequential()\n",
    "\n",
    "model_2.add(Embedding(input_dim=num_words, \n",
    "                    output_dim=embedding_size, \n",
    "                    weights = [embedding_matrix], \n",
    "                    input_length=maxlen))\n",
    "\n",
    "model_2.add(LSTM(256,activation='leaky_relu',return_sequences = True,dropout=0.5,go_backwards=True))\n",
    "model_2.add(Flatten())\n",
    "model_2.add(Dense(512, activation='relu'))\n",
    "model_2.add(Dense(256, activation = 'relu'))\n",
    "model_2.add(Dense(128, activation = 'relu'))\n",
    "model_2.add(Dense(64, activation= 'relu'))\n",
    "model_2.add(Dropout(0.5))\n",
    "model_2.add(Dense(5, activation=\"softmax\"))"
   ]
  },
  {
   "cell_type": "code",
   "execution_count": 246,
   "metadata": {
    "id": "DvnThtuuB172"
   },
   "outputs": [],
   "source": [
    "model_2.compile(loss='categorical_crossentropy', optimizer='adam', metrics=['accuracy'])"
   ]
  },
  {
   "cell_type": "code",
   "execution_count": 247,
   "metadata": {
    "colab": {
     "base_uri": "https://localhost:8080/"
    },
    "id": "omoCxgVYB9r3",
    "outputId": "4180c9e6-b3c1-4fc2-e511-295b2331d8ae"
   },
   "outputs": [
    {
     "name": "stdout",
     "output_type": "stream",
     "text": [
      "Epoch 1/20\n",
      "16/16 [==============================] - 2s 64ms/step - loss: 1.0051 - accuracy: 0.7420 - val_loss: 0.8468 - val_accuracy: 0.7892\n",
      "Epoch 2/20\n",
      "16/16 [==============================] - 1s 53ms/step - loss: 0.8207 - accuracy: 0.7882 - val_loss: 0.8194 - val_accuracy: 0.7892\n",
      "Epoch 3/20\n",
      "16/16 [==============================] - 1s 55ms/step - loss: 0.7477 - accuracy: 0.7875 - val_loss: 0.7686 - val_accuracy: 0.7892\n",
      "Epoch 4/20\n",
      "16/16 [==============================] - 1s 53ms/step - loss: 0.7029 - accuracy: 0.7875 - val_loss: 0.6884 - val_accuracy: 0.7892\n",
      "Epoch 5/20\n",
      "16/16 [==============================] - 1s 55ms/step - loss: 0.6916 - accuracy: 0.7882 - val_loss: 0.6794 - val_accuracy: 0.7892\n",
      "Epoch 6/20\n",
      "16/16 [==============================] - 1s 50ms/step - loss: 0.6630 - accuracy: 0.7882 - val_loss: 0.6898 - val_accuracy: 0.7892\n",
      "Epoch 7/20\n",
      "16/16 [==============================] - 1s 54ms/step - loss: 0.6159 - accuracy: 0.7895 - val_loss: 0.6738 - val_accuracy: 0.7892\n",
      "Epoch 8/20\n",
      "16/16 [==============================] - 1s 49ms/step - loss: 0.5932 - accuracy: 0.7972 - val_loss: 0.6747 - val_accuracy: 0.7937\n",
      "Epoch 9/20\n",
      "16/16 [==============================] - 1s 52ms/step - loss: 0.5518 - accuracy: 0.8062 - val_loss: 0.6657 - val_accuracy: 0.7952\n",
      "Epoch 10/20\n",
      "16/16 [==============================] - 1s 51ms/step - loss: 0.5442 - accuracy: 0.8004 - val_loss: 0.6615 - val_accuracy: 0.8012\n",
      "Epoch 11/20\n",
      "16/16 [==============================] - 1s 47ms/step - loss: 0.5229 - accuracy: 0.8248 - val_loss: 0.6616 - val_accuracy: 0.8027\n",
      "Epoch 12/20\n",
      "16/16 [==============================] - 1s 56ms/step - loss: 0.5187 - accuracy: 0.8184 - val_loss: 0.6621 - val_accuracy: 0.7788\n",
      "Epoch 13/20\n",
      "16/16 [==============================] - 1s 55ms/step - loss: 0.4542 - accuracy: 0.8383 - val_loss: 0.6636 - val_accuracy: 0.7833\n",
      "Epoch 14/20\n",
      "16/16 [==============================] - 1s 52ms/step - loss: 0.4205 - accuracy: 0.8421 - val_loss: 0.6887 - val_accuracy: 0.7967\n",
      "Epoch 15/20\n",
      "16/16 [==============================] - 1s 54ms/step - loss: 0.3794 - accuracy: 0.8703 - val_loss: 0.7336 - val_accuracy: 0.7593\n",
      "Epoch 16/20\n",
      "16/16 [==============================] - 1s 59ms/step - loss: 0.3626 - accuracy: 0.8691 - val_loss: 0.7337 - val_accuracy: 0.7534\n",
      "Epoch 17/20\n",
      "16/16 [==============================] - 1s 55ms/step - loss: 0.3086 - accuracy: 0.8960 - val_loss: 0.8351 - val_accuracy: 0.8027\n",
      "Epoch 18/20\n",
      "16/16 [==============================] - 1s 52ms/step - loss: 0.2974 - accuracy: 0.9037 - val_loss: 0.7202 - val_accuracy: 0.7877\n",
      "Epoch 19/20\n",
      "16/16 [==============================] - 1s 50ms/step - loss: 0.2547 - accuracy: 0.9134 - val_loss: 0.7910 - val_accuracy: 0.7638\n",
      "Epoch 20/20\n",
      "16/16 [==============================] - 1s 52ms/step - loss: 0.2269 - accuracy: 0.9236 - val_loss: 0.8007 - val_accuracy: 0.7967\n"
     ]
    }
   ],
   "source": [
    "batch_size = 100\n",
    "epochs = 20\n",
    "\n",
    "training_history_2 = model_2.fit(X_train, Y_train, batch_size=batch_size, epochs=epochs, validation_data=(X_test, Y_test))"
   ]
  },
  {
   "cell_type": "code",
   "execution_count": 248,
   "metadata": {
    "colab": {
     "base_uri": "https://localhost:8080/",
     "height": 573
    },
    "id": "uenSmTkiCHV5",
    "outputId": "d9dda0b6-0935-4ceb-b04b-9cfcb4c18c5b"
   },
   "outputs": [
    {
     "data": {
      "image/png": "[encoded data removed]",
      "text/plain": [
       "<Figure size 432x288 with 1 Axes>"
      ]
     },
     "metadata": {
      "needs_background": "light"
     },
     "output_type": "display_data"
    },
    {
     "data": {
      "image/png": "[encoded data removed]",
      "text/plain": [
       "<Figure size 432x288 with 1 Axes>"
      ]
     },
     "metadata": {
      "needs_background": "light"
     },
     "output_type": "display_data"
    }
   ],
   "source": [
    "plt.plot(training_history_2.history['accuracy'])  \n",
    "plt.plot(training_history_2.history['val_accuracy'])  \n",
    "plt.title('Accuracy')  \n",
    "plt.ylabel('accuracy')\n",
    "plt.xlabel('epoch')\n",
    "plt.legend(['train','validation'],loc='upper left')\n",
    "plt.show()\n",
    "\n",
    "\n",
    "plt.plot(training_history_2.history['loss'])  \n",
    "plt.plot(training_history_2.history['val_loss'])  \n",
    "plt.title('model loss')  \n",
    "plt.ylabel('loss')\n",
    "plt.xlabel('epoch')\n",
    "plt.legend(['train','validation'],loc='upper left')\n",
    "plt.show()"
   ]
  },
  {
   "cell_type": "markdown",
   "metadata": {
    "id": "Xw7tjH57GDV1"
   },
   "source": [
    "# **Observations:**\n",
    "\n",
    "- By changing the default activation in the LSTM from tanh to leaky_relu, we are seeing there is an increase in the training accuracy. Variation between the training accuracy and validation accuracy is minimal.\n",
    "\n",
    "- Similarly, validation and training loss is also minimal, which makes this model looks to be a fit and tuning the default hyper parameters making the model to be more fit."
   ]
  }
 ],
 "metadata": {
  "accelerator": "GPU",
  "colab": {
   "collapsed_sections": [],
   "machine_shape": "hm",
   "name": "PGPAIML_R9_SEQUENTIAL_NLP_1.ipynb",
   "provenance": []
  },
  "kernelspec": {
   "display_name": "Python 3",
   "language": "python",
   "name": "python3"
  },
  "language_info": {
   "codemirror_mode": {
    "name": "ipython",
    "version": 3
   },
   "file_extension": ".py",
   "mimetype": "text/x-python",
   "name": "python",
   "nbconvert_exporter": "python",
   "pygments_lexer": "ipython3",
   "version": "3.7.4"
  }
 },
 "nbformat": 4,
 "nbformat_minor": 1
}
